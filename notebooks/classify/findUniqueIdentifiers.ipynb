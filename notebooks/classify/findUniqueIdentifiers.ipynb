{
 "cells": [
  {
   "cell_type": "markdown",
   "metadata": {},
   "source": [
    "# Find Unique Identifiers Based on Signature"
   ]
  },
  {
   "cell_type": "markdown",
   "metadata": {},
   "source": [
    "## Read in Dictionary"
   ]
  },
  {
   "cell_type": "code",
   "execution_count": 84,
   "metadata": {},
   "outputs": [],
   "source": [
    "import json\n",
    "import pprint\n",
    "\n",
    "tableName = 'OfficeActivity'\n",
    "with open('./data/{table}/signatureDictionary.json'.format(table=table), 'r') as f:\n",
    "    data = json.load(f)"
   ]
  },
  {
   "cell_type": "code",
   "execution_count": 85,
   "metadata": {},
   "outputs": [],
   "source": [
    "# Threshold Based Cleaning\n",
    "# We only keep signatures with n number of unique values\n",
    "\n",
    "threshold = 1\n",
    "\n",
    "signatureDict = {}\n",
    "counts = {}\n",
    "for signature, properties in data.items():\n",
    "    featureDict = properties['featureDict']\n",
    "    uniqueFeatures = []\n",
    "    for feature, values in featureDict.items():\n",
    "        if len(values.keys()) <= threshold:\n",
    "            uniqueFeatures.append({feature: list(values.keys())[0]})\n",
    "            key = (feature, list(values.keys())[0])\n",
    "            if key in counts:\n",
    "                counts[key] += 1\n",
    "            else:\n",
    "                counts[key] = 1\n",
    "    signatureDict[signature] = uniqueFeatures"
   ]
  },
  {
   "cell_type": "markdown",
   "metadata": {},
   "source": [
    "## Example"
   ]
  },
  {
   "cell_type": "code",
   "execution_count": 88,
   "metadata": {},
   "outputs": [
    {
     "name": "stdout",
     "output_type": "stream",
     "text": [
      "Unique value for the signature 111111001000001111100000100111111101010111001111111111110000011 are as follows\n",
      "('DeviceVendor', 'Zscaler')\n",
      "('DeviceProduct', 'NSSWeblog')\n",
      "('LogSeverity', '3')\n",
      "('CommunicationDirection', '1')\n",
      "('DeviceVersion', '5.7')\n",
      "('DeviceCustomNumber1Label', 'riskscore')\n",
      "('DeviceCustomString1Label', 'dept')\n",
      "('DeviceCustomString2Label', 'urlcat')\n",
      "('DeviceCustomString3', 'None')\n",
      "('DeviceCustomString3Label', 'malwareclass')\n",
      "('DeviceCustomString4', 'None')\n",
      "('DeviceCustomString4Label', 'malwarecat')\n",
      "('DeviceCustomString5Label', 'threatname')\n",
      "('DeviceCustomString6', 'None')\n",
      "('DeviceCustomString6Label', 'md5hash')\n",
      "('_ResourceId', '/subscriptions/d1d8779d-38d7-4f06-91db-9cbc8de0176f/resourcegroups/soc-fortinet/providers/microsoft.compute/virtualmachines/soc-fw-cef')\n"
     ]
    }
   ],
   "source": [
    "signature = list(signatureDict.keys())[0]\n",
    "print(f\"Unique value for the signature {signature} are as follows\")\n",
    "for feature in signatureDict[signature]:\n",
    "    key = (list(feature.keys())[0], feature[list(feature.keys())[0]])\n",
    "    if counts[key] == 1:\n",
    "        print(key, 'is unique through the entire table')\n",
    "    else:\n",
    "        print(key)"
   ]
  },
  {
   "cell_type": "code",
   "execution_count": null,
   "metadata": {},
   "outputs": [],
   "source": []
  }
 ],
 "metadata": {
  "kernelspec": {
   "display_name": "Python 3 (ipykernel)",
   "language": "python",
   "name": "python3"
  },
  "language_info": {
   "codemirror_mode": {
    "name": "ipython",
    "version": 3
   },
   "file_extension": ".py",
   "mimetype": "text/x-python",
   "name": "python",
   "nbconvert_exporter": "python",
   "pygments_lexer": "ipython3",
   "version": "3.9.5"
  },
  "widgets": {
   "application/vnd.jupyter.widget-state+json": {
    "state": {
     "0481ddb112094d988d361c9ed102b9d6": {
      "model_module": "@jupyter-widgets/base",
      "model_module_version": "1.2.0",
      "model_name": "LayoutModel",
      "state": {
       "width": "70%"
      }
     },
     "0b0980f654a047a5a6cb514f0e1bd6d6": {
      "model_module": "@jupyter-widgets/controls",
      "model_module_version": "1.5.0",
      "model_name": "VBoxModel",
      "state": {
       "children": [
        "IPY_MODEL_3f8e275bca3641b28659149a22cbf5fd",
        "IPY_MODEL_87aa44728d8f4f55be5a8a88810f770c",
        "IPY_MODEL_a9ac014a1b114e29a83f19a45baaa710"
       ],
       "layout": "IPY_MODEL_6ed24919feaa41039084e0258a2821e9"
      }
     },
     "0ec3e2089daf45eab7a35cde3f6163a6": {
      "model_module": "@jupyter-widgets/base",
      "model_module_version": "1.2.0",
      "model_name": "LayoutModel",
      "state": {}
     },
     "1bda2b50190b42e9a57c3ad8eaf1a856": {
      "model_module": "@jupyter-widgets/controls",
      "model_module_version": "1.5.0",
      "model_name": "SliderStyleModel",
      "state": {
       "description_width": "initial"
      }
     },
     "1e1a04b49a144a32b697157407f23de4": {
      "model_module": "@jupyter-widgets/controls",
      "model_module_version": "1.5.0",
      "model_name": "DatePickerModel",
      "state": {
       "description": "Origin Date",
       "disabled": false,
       "layout": "IPY_MODEL_8336cef841c743fd8cf2d16c56b12ec6",
       "style": "IPY_MODEL_40a5c9fda5e94709a5aafafb4e253029",
       "value": {
        "date": 17,
        "month": 5,
        "year": 2021
       }
      }
     },
     "1ef839cd62dd457b81efe054ac701290": {
      "model_module": "@jupyter-widgets/controls",
      "model_module_version": "1.5.0",
      "model_name": "TextModel",
      "state": {
       "description": "Filter:",
       "layout": "IPY_MODEL_5e22dbf2e0e8427e9bffc71c3c0b28ea",
       "style": "IPY_MODEL_72d67f4c56a3410f9ea51b1314f6c108"
      }
     },
     "24c2da968aba47b58008b7de1127f288": {
      "model_module": "@jupyter-widgets/controls",
      "model_module_version": "1.5.0",
      "model_name": "DescriptionStyleModel",
      "state": {
       "description_width": "initial"
      }
     },
     "288d20eb051a459cb94bfb6e465d7728": {
      "model_module": "@jupyter-widgets/base",
      "model_module_version": "1.2.0",
      "model_name": "LayoutModel",
      "state": {}
     },
     "29bd2f2133a344e3873baefa1e157d6b": {
      "model_module": "@jupyter-widgets/controls",
      "model_module_version": "1.5.0",
      "model_name": "IntRangeSliderModel",
      "state": {
       "_model_name": "IntRangeSliderModel",
       "_view_name": "IntRangeSliderView",
       "description": "Time Range",
       "layout": "IPY_MODEL_0481ddb112094d988d361c9ed102b9d6",
       "max": 28,
       "min": -28,
       "style": "IPY_MODEL_1bda2b50190b42e9a57c3ad8eaf1a856",
       "value": [
        -1,
        1
       ]
      }
     },
     "2e8192683b424011af9da260d0720ede": {
      "model_module": "@jupyter-widgets/controls",
      "model_module_version": "1.5.0",
      "model_name": "DescriptionStyleModel",
      "state": {
       "description_width": ""
      }
     },
     "37a43cf1c9fa4fba8db52d1065dd888f": {
      "model_module": "@jupyter-widgets/controls",
      "model_module_version": "1.5.0",
      "model_name": "TextModel",
      "state": {
       "description": "Time (24hr)",
       "layout": "IPY_MODEL_ba72d574d8b54a578e0fc488cbeb71bf",
       "style": "IPY_MODEL_2e8192683b424011af9da260d0720ede",
       "value": "19:17:00.159013"
      }
     },
     "3f8e275bca3641b28659149a22cbf5fd": {
      "model_module": "@jupyter-widgets/controls",
      "model_module_version": "1.5.0",
      "model_name": "HBoxModel",
      "state": {
       "children": [
        "IPY_MODEL_29bd2f2133a344e3873baefa1e157d6b",
        "IPY_MODEL_efd5b921d9734d7d884da1a2e887ec16"
       ],
       "layout": "IPY_MODEL_f981f016b5cb47febb469c41bce67530"
      }
     },
     "3fc10339d05545019f4396482028388f": {
      "model_module": "@jupyter-widgets/base",
      "model_module_version": "1.2.0",
      "model_name": "LayoutModel",
      "state": {
       "height": "300px",
       "width": "50%"
      }
     },
     "40a5c9fda5e94709a5aafafb4e253029": {
      "model_module": "@jupyter-widgets/controls",
      "model_module_version": "1.5.0",
      "model_name": "DescriptionStyleModel",
      "state": {
       "description_width": ""
      }
     },
     "4305aa0ae3fe49b2813a5e32683d74ad": {
      "model_module": "@jupyter-widgets/base",
      "model_module_version": "1.2.0",
      "model_name": "LayoutModel",
      "state": {
       "width": "100px"
      }
     },
     "47be37e1aace4857a4b80c1c9bb0294d": {
      "model_module": "@jupyter-widgets/base",
      "model_module_version": "1.2.0",
      "model_name": "LayoutModel",
      "state": {}
     },
     "4d9ffff8f58f49ed8dca7bd456cfae7c": {
      "model_module": "@jupyter-widgets/controls",
      "model_module_version": "1.5.0",
      "model_name": "VBoxModel",
      "state": {
       "children": [
        "IPY_MODEL_96ebc21f3ac442f58b38df9be6fa85fc",
        "IPY_MODEL_6f62a1296b01459196e0b3af77aed1c6",
        "IPY_MODEL_0b0980f654a047a5a6cb514f0e1bd6d6"
       ],
       "layout": "IPY_MODEL_47be37e1aace4857a4b80c1c9bb0294d"
      }
     },
     "5e22dbf2e0e8427e9bffc71c3c0b28ea": {
      "model_module": "@jupyter-widgets/base",
      "model_module_version": "1.2.0",
      "model_name": "LayoutModel",
      "state": {}
     },
     "6ed24919feaa41039084e0258a2821e9": {
      "model_module": "@jupyter-widgets/base",
      "model_module_version": "1.2.0",
      "model_name": "LayoutModel",
      "state": {}
     },
     "6f62a1296b01459196e0b3af77aed1c6": {
      "model_module": "@jupyter-widgets/controls",
      "model_module_version": "1.5.0",
      "model_name": "HBoxModel",
      "state": {
       "children": [
        "IPY_MODEL_1e1a04b49a144a32b697157407f23de4",
        "IPY_MODEL_37a43cf1c9fa4fba8db52d1065dd888f"
       ],
       "layout": "IPY_MODEL_0ec3e2089daf45eab7a35cde3f6163a6"
      }
     },
     "72d67f4c56a3410f9ea51b1314f6c108": {
      "model_module": "@jupyter-widgets/controls",
      "model_module_version": "1.5.0",
      "model_name": "DescriptionStyleModel",
      "state": {
       "description_width": "initial"
      }
     },
     "795f53f162ac447999559113c2cee3fe": {
      "model_module": "@jupyter-widgets/controls",
      "model_module_version": "1.5.0",
      "model_name": "DescriptionStyleModel",
      "state": {
       "description_width": "initial"
      }
     },
     "805a3ca3e53247fcbbc17c3e3c8cb4c1": {
      "model_module": "@jupyter-widgets/base",
      "model_module_version": "1.2.0",
      "model_name": "LayoutModel",
      "state": {
       "width": "50%"
      }
     },
     "8336cef841c743fd8cf2d16c56b12ec6": {
      "model_module": "@jupyter-widgets/base",
      "model_module_version": "1.2.0",
      "model_name": "LayoutModel",
      "state": {}
     },
     "87aa44728d8f4f55be5a8a88810f770c": {
      "model_module": "@jupyter-widgets/controls",
      "model_module_version": "1.5.0",
      "model_name": "TextModel",
      "state": {
       "description": "Query start time (UTC):",
       "layout": "IPY_MODEL_805a3ca3e53247fcbbc17c3e3c8cb4c1",
       "style": "IPY_MODEL_24c2da968aba47b58008b7de1127f288",
       "value": "2021-06-16 19:17:00.159013"
      }
     },
     "96ebc21f3ac442f58b38df9be6fa85fc": {
      "model_module": "@jupyter-widgets/controls",
      "model_module_version": "1.5.0",
      "model_name": "HTMLModel",
      "state": {
       "layout": "IPY_MODEL_ac04de5474e54bbda52edc2150787a79",
       "style": "IPY_MODEL_ec541a958dc54e2eb05b72eef9356ba5",
       "value": "<h4>Set query time boundaries</h4>"
      }
     },
     "9e4a99ad784a490e95147495d001bd83": {
      "model_module": "@jupyter-widgets/base",
      "model_module_version": "1.2.0",
      "model_name": "LayoutModel",
      "state": {
       "width": "50%"
      }
     },
     "a662549c6c204377995fc211737ce2e2": {
      "model_module": "@jupyter-widgets/controls",
      "model_module_version": "1.5.0",
      "model_name": "DescriptionStyleModel",
      "state": {
       "description_width": ""
      }
     },
     "a9ac014a1b114e29a83f19a45baaa710": {
      "model_module": "@jupyter-widgets/controls",
      "model_module_version": "1.5.0",
      "model_name": "TextModel",
      "state": {
       "description": "Query end time (UTC) :  ",
       "layout": "IPY_MODEL_9e4a99ad784a490e95147495d001bd83",
       "style": "IPY_MODEL_795f53f162ac447999559113c2cee3fe",
       "value": "2021-06-18 19:17:00.159013"
      }
     },
     "ac04de5474e54bbda52edc2150787a79": {
      "model_module": "@jupyter-widgets/base",
      "model_module_version": "1.2.0",
      "model_name": "LayoutModel",
      "state": {}
     },
     "ba72d574d8b54a578e0fc488cbeb71bf": {
      "model_module": "@jupyter-widgets/base",
      "model_module_version": "1.2.0",
      "model_name": "LayoutModel",
      "state": {}
     },
     "ccf2f319259d462aa7e153536dafb4b7": {
      "model_module": "@jupyter-widgets/controls",
      "model_module_version": "1.5.0",
      "model_name": "SelectModel",
      "state": {
       "_options_labels": [
        "Azure.get_vmcomputer_for_host",
        "Azure.get_vmcomputer_for_ip",
        "Azure.list_aad_signins_for_account",
        "Azure.list_aad_signins_for_ip",
        "Azure.list_all_signins_geo",
        "Azure.list_azure_activity_for_account",
        "Azure.list_azure_activity_for_ip",
        "Azure.list_azure_activity_for_resource",
        "Azure.list_storage_ops_for_hash",
        "Azure.list_storage_ops_for_ip",
        "AzureNetwork.az_net_analytics",
        "AzureNetwork.dns_lookups_for_domain",
        "AzureNetwork.dns_lookups_for_ip",
        "AzureNetwork.dns_lookups_from_ip",
        "AzureNetwork.get_heartbeat_for_host",
        "AzureNetwork.get_heartbeat_for_ip",
        "AzureNetwork.get_host_for_ip",
        "AzureNetwork.get_ips_for_host",
        "AzureNetwork.list_azure_network_flows_by_host",
        "AzureNetwork.list_azure_network_flows_by_ip",
        "AzureSentinel.get_bookmark_by_id",
        "AzureSentinel.get_bookmark_by_name",
        "AzureSentinel.list_bookmarks",
        "AzureSentinel.list_bookmarks_for_entity",
        "AzureSentinel.list_bookmarks_for_tags",
        "Heartbeat.get_heartbeat_for_host",
        "Heartbeat.get_heartbeat_for_ip",
        "Heartbeat.get_info_by_hostname",
        "Heartbeat.get_info_by_ipaddress",
        "LinuxAudit.auditd_all",
        "LinuxSyslog.all_syslog",
        "LinuxSyslog.cron_activity",
        "LinuxSyslog.list_account_logon_failures",
        "LinuxSyslog.list_host_logon_failures",
        "LinuxSyslog.list_ip_logon_failures",
        "LinuxSyslog.list_logon_failures",
        "LinuxSyslog.list_logons_for_account",
        "LinuxSyslog.list_logons_for_host",
        "LinuxSyslog.list_logons_for_source_ip",
        "LinuxSyslog.squid_activity",
        "LinuxSyslog.sudo_activity",
        "LinuxSyslog.user_group_activity",
        "LinuxSyslog.user_logon",
        "MultiDataSource.get_timeseries_anomalies",
        "MultiDataSource.get_timeseries_data",
        "MultiDataSource.get_timeseries_decompose",
        "MultiDataSource.plot_timeseries_datawithbaseline",
        "MultiDataSource.plot_timeseries_scoreanomolies",
        "Network.get_heartbeat_for_host",
        "Network.get_heartbeat_for_ip",
        "Network.get_host_for_ip",
        "Network.get_ips_for_host",
        "Network.list_azure_network_flows_by_host",
        "Network.list_azure_network_flows_by_ip",
        "Office365.list_activity_for_account",
        "Office365.list_activity_for_ip",
        "Office365.list_activity_for_resource",
        "SecurityAlert.get_alert",
        "SecurityAlert.list_alerts",
        "SecurityAlert.list_alerts_counts",
        "SecurityAlert.list_alerts_for_ip",
        "SecurityAlert.list_related_alerts",
        "ThreatIntelligence.list_indicators",
        "ThreatIntelligence.list_indicators_by_domain",
        "ThreatIntelligence.list_indicators_by_email",
        "ThreatIntelligence.list_indicators_by_filepath",
        "ThreatIntelligence.list_indicators_by_hash",
        "ThreatIntelligence.list_indicators_by_ip",
        "ThreatIntelligence.list_indicators_by_url",
        "WindowsSecurity.get_host_logon",
        "WindowsSecurity.get_parent_process",
        "WindowsSecurity.get_process_tree",
        "WindowsSecurity.list_all_logons_by_host",
        "WindowsSecurity.list_events",
        "WindowsSecurity.list_events_by_id",
        "WindowsSecurity.list_host_events",
        "WindowsSecurity.list_host_events_by_id",
        "WindowsSecurity.list_host_logon_failures",
        "WindowsSecurity.list_host_logons",
        "WindowsSecurity.list_host_processes",
        "WindowsSecurity.list_hosts_matching_commandline",
        "WindowsSecurity.list_logon_attempts_by_account",
        "WindowsSecurity.list_logon_failures_by_account",
        "WindowsSecurity.list_logons_by_account",
        "WindowsSecurity.list_matching_processes",
        "WindowsSecurity.list_other_events",
        "WindowsSecurity.list_processes_in_session"
       ],
       "description": "Select an item",
       "index": 11,
       "layout": "IPY_MODEL_3fc10339d05545019f4396482028388f",
       "style": "IPY_MODEL_d2be1beb7b184872a341af446d17b15d"
      }
     },
     "d2be1beb7b184872a341af446d17b15d": {
      "model_module": "@jupyter-widgets/controls",
      "model_module_version": "1.5.0",
      "model_name": "DescriptionStyleModel",
      "state": {
       "description_width": "initial"
      }
     },
     "d57f88c027ef451a984a7dedbb00d049": {
      "model_module": "@jupyter-widgets/controls",
      "model_module_version": "1.5.0",
      "model_name": "VBoxModel",
      "state": {
       "children": [
        "IPY_MODEL_1ef839cd62dd457b81efe054ac701290",
        "IPY_MODEL_ccf2f319259d462aa7e153536dafb4b7"
       ],
       "layout": "IPY_MODEL_288d20eb051a459cb94bfb6e465d7728"
      }
     },
     "ec541a958dc54e2eb05b72eef9356ba5": {
      "model_module": "@jupyter-widgets/controls",
      "model_module_version": "1.5.0",
      "model_name": "DescriptionStyleModel",
      "state": {
       "description_width": ""
      }
     },
     "efd5b921d9734d7d884da1a2e887ec16": {
      "model_module": "@jupyter-widgets/controls",
      "model_module_version": "1.5.0",
      "model_name": "DropdownModel",
      "state": {
       "_options_labels": [
        "minute",
        "hour",
        "day",
        "week"
       ],
       "index": 2,
       "layout": "IPY_MODEL_4305aa0ae3fe49b2813a5e32683d74ad",
       "style": "IPY_MODEL_a662549c6c204377995fc211737ce2e2"
      }
     },
     "f981f016b5cb47febb469c41bce67530": {
      "model_module": "@jupyter-widgets/base",
      "model_module_version": "1.2.0",
      "model_name": "LayoutModel",
      "state": {}
     },
     "fffeadd39455425ea842d8fd2445baea": {
      "model_module": "@jupyter-widgets/base",
      "model_module_version": "1.2.0",
      "model_name": "LayoutModel",
      "state": {
       "width": "95%"
      }
     }
    },
    "version_major": 2,
    "version_minor": 0
   }
  }
 },
 "nbformat": 4,
 "nbformat_minor": 4
}
