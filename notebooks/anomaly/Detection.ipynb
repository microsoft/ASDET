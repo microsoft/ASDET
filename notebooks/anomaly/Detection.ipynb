{
 "cells": [
  {
   "cell_type": "code",
   "execution_count": 1,
   "id": "656a3d58",
   "metadata": {},
   "outputs": [],
   "source": [
    "import pandas as pd\n",
    "import numpy as np"
   ]
  },
  {
   "cell_type": "code",
   "execution_count": 2,
   "id": "98271d98",
   "metadata": {},
   "outputs": [],
   "source": [
    "#example dictionary data\n",
    "\n",
    "entities = {\"account\":[\"column1\",\"column2\"], \"host\":\"column1\", \"ip_address\":\"column1\",\n",
    "            \"url\":\"column1\",\"azure_resource\":\"column1\",\"registry_key\":\"column1\",\"domain\":\"column1\",\n",
    "            \"domain\":\"column1\",\"file\":[\"column1\",\"column2\"], \"file_hash\":\"column1\"}"
   ]
  },
  {
   "cell_type": "code",
   "execution_count": null,
   "id": "57400693",
   "metadata": {},
   "outputs": [],
   "source": [
    "def entity_anomaly(name):\n",
    "    pass\n",
    "    "
   ]
  },
  {
   "cell_type": "code",
   "execution_count": null,
   "id": "99da0c78",
   "metadata": {},
   "outputs": [],
   "source": [
    "for entity_name in entities:\n",
    "    entity_anomaly(entity_name)\n",
    "        "
   ]
  }
 ],
 "metadata": {
  "kernelspec": {
   "display_name": "Python 3",
   "language": "python",
   "name": "python3"
  },
  "language_info": {
   "codemirror_mode": {
    "name": "ipython",
    "version": 3
   },
   "file_extension": ".py",
   "mimetype": "text/x-python",
   "name": "python",
   "nbconvert_exporter": "python",
   "pygments_lexer": "ipython3",
   "version": "3.8.8"
  }
 },
 "nbformat": 4,
 "nbformat_minor": 5
}
