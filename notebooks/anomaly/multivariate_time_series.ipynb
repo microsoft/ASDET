{
 "cells": [
  {
   "cell_type": "markdown",
   "id": "13ba3c54-c350-4eb6-9161-2a35c039b28c",
   "metadata": {},
   "source": [
    "## Generate MSTICpy Config"
   ]
  },
  {
   "cell_type": "code",
   "execution_count": 1,
   "id": "4d9ad6e7-c493-48c0-a6fb-28e358298b83",
   "metadata": {},
   "outputs": [],
   "source": [
    "# Only generate config if Teams\n",
    "# %%writefile msticpyconfig.yaml\n",
    "# AzureSentinel:\n",
    "#   Workspaces:\n",
    "#     ASIHuntOMSWorkspaceV4:\n",
    "#       TenantId: 72f988bf-86f1-41af-91ab-2d7cd011db47\n",
    "#       WorkspaceId: 52b1ab41-869e-4138-9e40-2a4457f09bf0\n",
    "#     CyberSecuritySoc:\n",
    "#       TenantId: 72f988bf-86f1-41af-91ab-2d7cd011db47\n",
    "#       WorkspaceId: 8ecf8077-cf51-4820-aadd-14040956f35d\n",
    "#     Default:\n",
    "#       TenantId: 72f988bf-86f1-41af-91ab-2d7cd011db47\n",
    "#       WorkspaceId: 8ecf8077-cf51-4820-aadd-14040956f35d"
   ]
  },
  {
   "cell_type": "markdown",
   "id": "161cd0cd-4b64-49c9-a4cd-31f19c8c651b",
   "metadata": {},
   "source": [
    "## Core MSTICPy initialization for Notebooks"
   ]
  },
  {
   "cell_type": "code",
   "execution_count": 2,
   "id": "d8ee129c-2c58-4c17-a6bd-bf9dc9d286ab",
   "metadata": {
    "collapsed": true,
    "jupyter": {
     "outputs_hidden": true
    },
    "tags": []
   },
   "outputs": [
    {
     "data": {
      "text/html": [
       "<hr><h4>Starting Notebook initialization...</h4>"
      ],
      "text/plain": [
       "<IPython.core.display.HTML object>"
      ]
     },
     "metadata": {},
     "output_type": "display_data"
    },
    {
     "data": {
      "text/html": [
       "msticpy version installed: 1.2.3 latest published: 1.3.0<br>A newer version of msticpy - 1.3.0 is available.<br>Upgrade with pip install --upgrade msticpy<br> <br>"
      ],
      "text/plain": [
       "<IPython.core.display.HTML object>"
      ]
     },
     "metadata": {},
     "output_type": "display_data"
    },
    {
     "data": {
      "text/html": [
       "Processing imports.... <br>"
      ],
      "text/plain": [
       "<IPython.core.display.HTML object>"
      ]
     },
     "metadata": {},
     "output_type": "display_data"
    },
    {
     "data": {
      "text/html": [
       "Imported: pd (pandas), IPython.get_ipython, IPython.display.display, IPython.display.HTML, IPython.display.Markdown, widgets (ipywidgets), pathlib.Path, plt (matplotlib.pyplot), matplotlib.MatplotlibDeprecationWarning, np (numpy), msticpy.data.QueryProvider, msticpy.nbtools.foliummap.FoliumMap, msticpy.common.utility.md, msticpy.common.utility.md_warn, msticpy.common.wsconfig.WorkspaceConfig, msticpy.datamodel.pivot.Pivot, msticpy.datamodel.entities <br>"
      ],
      "text/plain": [
       "<IPython.core.display.HTML object>"
      ]
     },
     "metadata": {},
     "output_type": "display_data"
    },
    {
     "data": {
      "text/html": [
       "Checking configuration.... <br>"
      ],
      "text/plain": [
       "<IPython.core.display.HTML object>"
      ]
     },
     "metadata": {},
     "output_type": "display_data"
    },
    {
     "data": {
      "text/html": [
       "Setting notebook options.... <br>"
      ],
      "text/plain": [
       "<IPython.core.display.HTML object>"
      ]
     },
     "metadata": {},
     "output_type": "display_data"
    },
    {
     "data": {
      "text/html": [
       " <br>"
      ],
      "text/plain": [
       "<IPython.core.display.HTML object>"
      ]
     },
     "metadata": {},
     "output_type": "display_data"
    },
    {
     "data": {
      "text/html": [
       "<h4>Notebook initialization complete</h4>"
      ],
      "text/plain": [
       "<IPython.core.display.HTML object>"
      ]
     },
     "metadata": {},
     "output_type": "display_data"
    },
    {
     "name": "stdout",
     "output_type": "stream",
     "text": [
      "Please wait. Loading Kqlmagic extension...\n"
     ]
    },
    {
     "data": {
      "application/javascript": [
       "try {IPython.notebook.kernel.reconnect();} catch(err) {;}"
      ],
      "text/plain": [
       "<IPython.core.display.Javascript object>"
      ]
     },
     "metadata": {},
     "output_type": "display_data"
    },
    {
     "data": {
      "application/javascript": [
       "try {IPython.notebook.kernel.execute(\"NOTEBOOK_URL = '\" + window.location + \"'\");} catch(err) {;}"
      ],
      "text/plain": [
       "<IPython.core.display.Javascript object>"
      ]
     },
     "metadata": {},
     "output_type": "display_data"
    }
   ],
   "source": [
    "from msticpy.nbtools import nbinit\n",
    "nbinit.init_notebook(namespace=globals())\n",
    "qry_prov = QueryProvider(\"AzureSentinel\")"
   ]
  },
  {
   "cell_type": "code",
   "execution_count": 3,
   "id": "f19dc39b-aed2-4ec7-82ca-b6ee359fee97",
   "metadata": {},
   "outputs": [
    {
     "data": {
      "application/javascript": [
       "try {IPython.notebook.kernel.execute(\"NOTEBOOK_URL = '\" + window.location + \"'\");} catch(err) {;}"
      ],
      "text/plain": [
       "<IPython.core.display.Javascript object>"
      ]
     },
     "metadata": {},
     "output_type": "display_data"
    },
    {
     "data": {
      "text/html": [
       "<!DOCTYPE html>\n",
       "                            <html><body>\n",
       "\n",
       "                            <!-- h1 id=\"user_code_p\"><b>AVMMHKYFY</b><br></h1-->\n",
       "\n",
       "                            <input  id=\"kql_MagicCodeAuthInput\" type=\"text\" readonly style=\"font-weight: bold; border: none;\" size='9' value='AVMMHKYFY'>\n",
       "\n",
       "                            <button id='kql_MagicCodeAuth_button', onclick=\"this.style.visibility='hidden';kql_MagicCodeAuthFunction()\">Copy code to clipboard and authenticate</button>\n",
       "\n",
       "                            <script>\n",
       "                            var kql_MagicUserCodeAuthWindow = null;\n",
       "                            function kql_MagicCodeAuthFunction() {\n",
       "                                /* Get the text field */\n",
       "                                var copyText = document.getElementById(\"kql_MagicCodeAuthInput\");\n",
       "\n",
       "                                /* Select the text field */\n",
       "                                copyText.select();\n",
       "\n",
       "                                /* Copy the text inside the text field */\n",
       "                                document.execCommand(\"copy\");\n",
       "\n",
       "                                /* Alert the copied text */\n",
       "                                // alert(\"Copied the text: \" + copyText.value);\n",
       "\n",
       "                                var w = screen.width / 2;\n",
       "                                var h = screen.height / 2;\n",
       "                                params = 'width='+w+',height='+h\n",
       "                                kql_MagicUserCodeAuthWindow = window.open('https://microsoft.com/devicelogin', 'kql_MagicUserCodeAuthWindow', params);\n",
       "\n",
       "                                // TODO: save selected cell index, so that the clear will be done on the lince cell\n",
       "                            }\n",
       "                            </script>\n",
       "\n",
       "                            </body></html>"
      ],
      "text/plain": [
       "<IPython.core.display.HTML object>"
      ]
     },
     "metadata": {},
     "output_type": "display_data"
    },
    {
     "data": {
      "text/html": [
       "<!DOCTYPE html>\n",
       "                            <html><body><script>\n",
       "\n",
       "                                // close authentication window\n",
       "                                if (kql_MagicUserCodeAuthWindow && kql_MagicUserCodeAuthWindow.opener != null && !kql_MagicUserCodeAuthWindow.closed) {\n",
       "                                    kql_MagicUserCodeAuthWindow.close()\n",
       "                                }\n",
       "                                // TODO: make sure, you clear the right cell. BTW, not sure it is a must to do any clearing\n",
       "\n",
       "                                // clear output cell\n",
       "                                Jupyter.notebook.clear_output(Jupyter.notebook.get_selected_index())\n",
       "\n",
       "                                // TODO: if in run all mode, move to last cell, otherwise move to next cell\n",
       "                                // move to next cell\n",
       "\n",
       "                            </script></body></html>"
      ],
      "text/plain": [
       "<IPython.core.display.HTML object>"
      ]
     },
     "metadata": {},
     "output_type": "display_data"
    },
    {
     "data": {
      "text/html": [
       "<!DOCTYPE html>\n",
       "            <html><body>\n",
       "            <div style=''>\n",
       "            \n",
       "            <button onclick=\"this.style.visibility='visible';\n",
       "            kql_MagicLaunchWindowFunction('kqlmagic/temp_files/d70e6506-af11-4090-a99b-fec252001d42/_8ecf8077-cf51-4820-aadd-14040956f35d_at_loganalytics_schema.html', 'fullscreen=no,directories=no,location=no,menubar=no,resizable=yes,scrollbars=yes,status=no,titlebar=no,toolbar=no,', '_8ecf8077_cf51_4820_aadd_14040956f35d_at_loganalytics_schema', '');\n",
       "            kql_MagicCloseWindow(kql_Magic__8ecf8077_cf51_4820_aadd_14040956f35d_at_loganalytics_schema, -1, -1);\">\n",
       "            popup schema 8ecf8077-cf51-4820-aadd-14040956f35d@loganalytics</button>\n",
       "            </div>\n",
       "\n",
       "            <script>\n",
       "            var kql_Magic__8ecf8077_cf51_4820_aadd_14040956f35d_at_loganalytics_schema = null;\n",
       "\n",
       "\n",
       "            function kql_MagicCloseWindow(window_obj, obj_secs, itself_secs) {\n",
       "                if (obj_secs >= 0) {\n",
       "                    _timeout = setTimeout(function(){\n",
       "                        window_obj.close();\n",
       "                        if (itself_secs >= 0) {\n",
       "                            __timeout = setTimeout(function(){window.close();}, itself_secs * 1000);\n",
       "                        }\n",
       "                    }, obj_secs * 1000);\n",
       "                } else if (itself_secs >= 0) {\n",
       "                    _timeout = setTimeout(function(){window.close();}, itself_secs * 1000);\n",
       "                }\n",
       "            }\n",
       "\n",
       "            function kql_MagicLaunchWindowFunction(file_path_or_data, window_params, window_name, host_or_text) {\n",
       "                var url;\n",
       "                const baseURI = String(window.location);\n",
       "                if (host_or_text == 'text' || host_or_text == 'body') {\n",
       "                    url = ''\n",
       "                } else if (file_path_or_data.startsWith('http')) {\n",
       "                    url = file_path_or_data;\n",
       "                } else if (host_or_text.endsWith('.azureml.ms') || host_or_text.endsWith('.azureml.net')) {\n",
       "                    let azuremlBaseURI = String(window.document.baseURI);\n",
       "                    let start = azuremlBaseURI.search('activeFilePath=');\n",
       "                    if (start > 0) {\n",
       "                        start += 'activeFilePath='.length;\n",
       "                        let end = azuremlBaseURI.substring(start).search('&');\n",
       "                        if (end < 0) {\n",
       "                            end = undefined;\n",
       "                        }\n",
       "                        let parts = azuremlBaseURI.substring(start, end).split('/');\n",
       "                        parts.pop();\n",
       "                        url = host_or_text + '/tree/' + parts.join('/') + '/' + file_path_or_data;\n",
       "                    } else {\n",
       "                        var parts = baseURI.split('/');\n",
       "                        parts.pop();\n",
       "                        url = parts.join('/') + '/' + file_path_or_data;\n",
       "                    }\n",
       "                } else {\n",
       "                    var base_url = '';\n",
       "\n",
       "                    // check if azure notebook\n",
       "                    var azure_host = (host_or_text == null || host_or_text.length == 0) ? 'https://notebooks.azure.com' : host_or_text;\n",
       "                    var start = azure_host.search('//');\n",
       "                    var azure_host_suffix = '.' + azure_host.substring(start+2);\n",
       "\n",
       "                    var end = baseURI.search(azure_host_suffix);\n",
       "                    start = baseURI.search('//');\n",
       "                    if (start > 0 && end > 0) {\n",
       "                        // # azure notebook environment, assume template: https://library-user.notebooks.azure.com\n",
       "                        var parts = baseURI.substring(start+2, end).split('-');\n",
       "                        if (parts.length == 2) {\n",
       "                            var library = parts[0];\n",
       "                            var user = parts[1];\n",
       "                            base_url = azure_host + '/api/user/' +user+ '/library/' +library+ '/html/';\n",
       "                        }\n",
       "                    }\n",
       "\n",
       "                    // check if local jupyter lab\n",
       "                    if (base_url.length == 0) {\n",
       "                        var configDataScipt  = document.getElementById('jupyter-config-data');\n",
       "                        if (configDataScipt != null) {\n",
       "                            var jupyterConfigData = JSON.parse(configDataScipt.textContent);\n",
       "                            if (jupyterConfigData['appName'] == 'JupyterLab' && jupyterConfigData['serverRoot'] != null &&  jupyterConfigData['treeUrl'] != null) {\n",
       "                                var basePath = 'C:/Users/t-znguyen/Desktop/mstic-dataexpl/notebooks/anomaly' + '/';\n",
       "                                if (basePath.startsWith(jupyterConfigData['serverRoot'])) {\n",
       "                                    base_url = '/files/' + basePath.substring(jupyterConfigData['serverRoot'].length+1);\n",
       "                                }\n",
       "                            }\n",
       "                        }\n",
       "                    }\n",
       "\n",
       "                    // works for local jupyter notebook\n",
       "                    if (base_url.length == 0) {\n",
       "\n",
       "                        var parts = baseURI.split('/');\n",
       "                        parts.pop(); // remove notebook name segment\n",
       "                        base_url = parts.join('/') + '/';\n",
       "                    }\n",
       "                    url = base_url + file_path_or_data;\n",
       "                }\n",
       "\n",
       "                window.focus();\n",
       "                var w = screen.width / 2;\n",
       "                var h = screen.height / 2;\n",
       "                params = 'width='+w+',height='+h;\n",
       "                // kql_Magic + window_name should be a global variable \n",
       "                window_obj = window.open(url, window_name, window_params + params);\n",
       "                if (url == '') {\n",
       "                    let decodedData = atob(file_path_or_data);\n",
       "                    if (host_or_text == 'text') {\n",
       "                        var el = window_obj.document.createElement('p');\n",
       "                        window_obj.document.body.overflow = 'auto';\n",
       "                        el.style.top = 0;\n",
       "                        el.style.left = 0;\n",
       "                        el.innerHTML = decodedData;\n",
       "                        window_obj.document.body.appendChild(el);\n",
       "                    } else {\n",
       "                        window_obj.document.body.innerHTML = decodedData;\n",
       "                    }\n",
       "                }\n",
       "                kql_Magic__8ecf8077_cf51_4820_aadd_14040956f35d_at_loganalytics_schema = window_obj;\n",
       "            }\n",
       "            </script>\n",
       "\n",
       "            </body></html>"
      ],
      "text/plain": [
       "<IPython.core.display.HTML object>"
      ]
     },
     "metadata": {},
     "output_type": "display_data"
    },
    {
     "data": {
      "application/javascript": [
       "try {IPython.notebook.kernel.execute(\"NOTEBOOK_URL = '\" + window.location + \"'\");} catch(err) {;}"
      ],
      "text/plain": [
       "<IPython.core.display.Javascript object>"
      ]
     },
     "metadata": {},
     "output_type": "display_data"
    }
   ],
   "source": [
    "qry_prov.connect(WorkspaceConfig())\n",
    "tables = qry_prov.schema_tables"
   ]
  },
  {
   "cell_type": "markdown",
   "id": "b4557d29-66b3-4d90-9e51-47e72a1be369",
   "metadata": {},
   "source": [
    "## Choose A Table To Analzye"
   ]
  },
  {
   "cell_type": "code",
   "execution_count": 4,
   "id": "c663b4e4-415a-48ca-b736-6058c7e8f653",
   "metadata": {},
   "outputs": [
    {
     "name": "stdout",
     "output_type": "stream",
     "text": [
      "\n",
      "Please select a table to analyze.\n",
      "\n"
     ]
    },
    {
     "data": {
      "application/vnd.jupyter.widget-view+json": {
       "model_id": "20d30f6861ae493d9312afadcea4eb43",
       "version_major": 2,
       "version_minor": 0
      },
      "text/plain": [
       "Dropdown(description='Table:', index=231, options=('AACAudit', 'AACHttpRequest', 'AADDomainServicesAccountLogo…"
      ]
     },
     "metadata": {},
     "output_type": "display_data"
    }
   ],
   "source": [
    "import ipywidgets as widgets\n",
    "from IPython.display import display\n",
    "\n",
    "print('\\nPlease select a table to analyze.\\n')\n",
    "tableDropdown = widgets.Dropdown(\n",
    "    options=sorted(tables),\n",
    "    value='OfficeActivity',\n",
    "    description='Table:',\n",
    ")\n",
    "display(tableDropdown)"
   ]
  },
  {
   "cell_type": "markdown",
   "id": "ad58ef0a-9ec8-4f06-b73e-34c1763e36dc",
   "metadata": {},
   "source": [
    "## Choose a Feature(s) and Timeframe to Analyze"
   ]
  },
  {
   "cell_type": "code",
   "execution_count": 5,
   "id": "f7c01c82-9754-4a4b-929e-592b6d9b3d37",
   "metadata": {},
   "outputs": [
    {
     "data": {
      "application/javascript": [
       "try {IPython.notebook.kernel.execute(\"NOTEBOOK_URL = '\" + window.location + \"'\");} catch(err) {;}"
      ],
      "text/plain": [
       "<IPython.core.display.Javascript object>"
      ]
     },
     "metadata": {},
     "output_type": "display_data"
    },
    {
     "name": "stdout",
     "output_type": "stream",
     "text": [
      "\n",
      "What kind of features/columns would you like to see be analyzed?\n"
     ]
    },
    {
     "data": {
      "application/vnd.jupyter.widget-view+json": {
       "model_id": "7dad3610fa4144efaaa9cbc8d739e15a",
       "version_major": 2,
       "version_minor": 0
      },
      "text/plain": [
       "VBox(children=(Text(value='', description='Filter:', style=DescriptionStyle(description_width='initial')), HBo…"
      ]
     },
     "metadata": {},
     "output_type": "display_data"
    },
    {
     "name": "stdout",
     "output_type": "stream",
     "text": [
      "\n",
      "\n",
      "What time frame do you want to analyze?\n",
      "\n"
     ]
    },
    {
     "data": {
      "application/vnd.jupyter.widget-view+json": {
       "model_id": "c65ed77e5d43476bb3c49fde03e52c75",
       "version_major": 2,
       "version_minor": 0
      },
      "text/plain": [
       "VBox(children=(HTML(value='<h4>Set query time boundaries</h4>'), HBox(children=(DatePicker(value=datetime.date…"
      ]
     },
     "metadata": {},
     "output_type": "display_data"
    }
   ],
   "source": [
    "df = qry_prov.exec_query(f'{tableDropdown.value} | take 1')\n",
    "timestamp_col = 'TimeGenerated'\n",
    "\n",
    "if df.empty:\n",
    "    print(\"Table is empty, please select another table.\")\n",
    "else:\n",
    "    print (\"\\nWhat kind of features/columns would you like to see be analyzed?\\n\")\n",
    "    options = sorted(list(df))\n",
    "    options.remove(timestamp_col)\n",
    "    try:\n",
    "        options.remove('Type')\n",
    "    except TypeError:\n",
    "        print('Type does not exist')\n",
    "    selected_features = nbwidgets.SelectSubset(source_items=options)\n",
    "    print('\\n\\nWhat time frame do you want to analyze?\\n')\n",
    "    timeFrame = nbwidgets.QueryTime(units='day', max_before=20, before=5, max_after=1)\n",
    "    timeFrame.display()"
   ]
  },
  {
   "cell_type": "markdown",
   "id": "90c2522f-1bb6-44c5-80ae-bd89af4a981d",
   "metadata": {},
   "source": [
    "## Generate Timeseries Anomalies"
   ]
  },
  {
   "cell_type": "code",
   "execution_count": 9,
   "id": "71afc151-4e73-43e8-b56d-5ca4ce03b2b4",
   "metadata": {
    "tags": []
   },
   "outputs": [
    {
     "data": {
      "application/javascript": [
       "try {IPython.notebook.kernel.execute(\"NOTEBOOK_URL = '\" + window.location + \"'\");} catch(err) {;}"
      ],
      "text/plain": [
       "<IPython.core.display.Javascript object>"
      ]
     },
     "metadata": {},
     "output_type": "display_data"
    },
    {
     "data": {
      "application/javascript": [
       "try {IPython.notebook.kernel.execute(\"NOTEBOOK_URL = '\" + window.location + \"'\");} catch(err) {;}"
      ],
      "text/plain": [
       "<IPython.core.display.Javascript object>"
      ]
     },
     "metadata": {},
     "output_type": "display_data"
    },
    {
     "data": {
      "application/javascript": [
       "try {IPython.notebook.kernel.execute(\"NOTEBOOK_URL = '\" + window.location + \"'\");} catch(err) {;}"
      ],
      "text/plain": [
       "<IPython.core.display.Javascript object>"
      ]
     },
     "metadata": {},
     "output_type": "display_data"
    },
    {
     "data": {
      "application/javascript": [
       "try {IPython.notebook.kernel.execute(\"NOTEBOOK_URL = '\" + window.location + \"'\");} catch(err) {;}"
      ],
      "text/plain": [
       "<IPython.core.display.Javascript object>"
      ]
     },
     "metadata": {},
     "output_type": "display_data"
    },
    {
     "data": {
      "application/javascript": [
       "try {IPython.notebook.kernel.execute(\"NOTEBOOK_URL = '\" + window.location + \"'\");} catch(err) {;}"
      ],
      "text/plain": [
       "<IPython.core.display.Javascript object>"
      ]
     },
     "metadata": {},
     "output_type": "display_data"
    },
    {
     "data": {
      "application/javascript": [
       "try {IPython.notebook.kernel.execute(\"NOTEBOOK_URL = '\" + window.location + \"'\");} catch(err) {;}"
      ],
      "text/plain": [
       "<IPython.core.display.Javascript object>"
      ]
     },
     "metadata": {},
     "output_type": "display_data"
    },
    {
     "data": {
      "application/javascript": [
       "try {IPython.notebook.kernel.execute(\"NOTEBOOK_URL = '\" + window.location + \"'\");} catch(err) {;}"
      ],
      "text/plain": [
       "<IPython.core.display.Javascript object>"
      ]
     },
     "metadata": {},
     "output_type": "display_data"
    },
    {
     "data": {
      "application/javascript": [
       "try {IPython.notebook.kernel.execute(\"NOTEBOOK_URL = '\" + window.location + \"'\");} catch(err) {;}"
      ],
      "text/plain": [
       "<IPython.core.display.Javascript object>"
      ]
     },
     "metadata": {},
     "output_type": "display_data"
    },
    {
     "data": {
      "application/javascript": [
       "try {IPython.notebook.kernel.execute(\"NOTEBOOK_URL = '\" + window.location + \"'\");} catch(err) {;}"
      ],
      "text/plain": [
       "<IPython.core.display.Javascript object>"
      ]
     },
     "metadata": {},
     "output_type": "display_data"
    },
    {
     "data": {
      "application/javascript": [
       "try {IPython.notebook.kernel.execute(\"NOTEBOOK_URL = '\" + window.location + \"'\");} catch(err) {;}"
      ],
      "text/plain": [
       "<IPython.core.display.Javascript object>"
      ]
     },
     "metadata": {},
     "output_type": "display_data"
    },
    {
     "data": {
      "application/javascript": [
       "try {IPython.notebook.kernel.execute(\"NOTEBOOK_URL = '\" + window.location + \"'\");} catch(err) {;}"
      ],
      "text/plain": [
       "<IPython.core.display.Javascript object>"
      ]
     },
     "metadata": {},
     "output_type": "display_data"
    },
    {
     "data": {
      "application/javascript": [
       "try {IPython.notebook.kernel.execute(\"NOTEBOOK_URL = '\" + window.location + \"'\");} catch(err) {;}"
      ],
      "text/plain": [
       "<IPython.core.display.Javascript object>"
      ]
     },
     "metadata": {},
     "output_type": "display_data"
    },
    {
     "data": {
      "application/javascript": [
       "try {IPython.notebook.kernel.execute(\"NOTEBOOK_URL = '\" + window.location + \"'\");} catch(err) {;}"
      ],
      "text/plain": [
       "<IPython.core.display.Javascript object>"
      ]
     },
     "metadata": {},
     "output_type": "display_data"
    },
    {
     "data": {
      "application/javascript": [
       "try {IPython.notebook.kernel.execute(\"NOTEBOOK_URL = '\" + window.location + \"'\");} catch(err) {;}"
      ],
      "text/plain": [
       "<IPython.core.display.Javascript object>"
      ]
     },
     "metadata": {},
     "output_type": "display_data"
    },
    {
     "data": {
      "application/javascript": [
       "try {IPython.notebook.kernel.execute(\"NOTEBOOK_URL = '\" + window.location + \"'\");} catch(err) {;}"
      ],
      "text/plain": [
       "<IPython.core.display.Javascript object>"
      ]
     },
     "metadata": {},
     "output_type": "display_data"
    },
    {
     "data": {
      "application/javascript": [
       "try {IPython.notebook.kernel.execute(\"NOTEBOOK_URL = '\" + window.location + \"'\");} catch(err) {;}"
      ],
      "text/plain": [
       "<IPython.core.display.Javascript object>"
      ]
     },
     "metadata": {},
     "output_type": "display_data"
    },
    {
     "data": {
      "application/javascript": [
       "try {IPython.notebook.kernel.execute(\"NOTEBOOK_URL = '\" + window.location + \"'\");} catch(err) {;}"
      ],
      "text/plain": [
       "<IPython.core.display.Javascript object>"
      ]
     },
     "metadata": {},
     "output_type": "display_data"
    },
    {
     "data": {
      "application/javascript": [
       "try {IPython.notebook.kernel.execute(\"NOTEBOOK_URL = '\" + window.location + \"'\");} catch(err) {;}"
      ],
      "text/plain": [
       "<IPython.core.display.Javascript object>"
      ]
     },
     "metadata": {},
     "output_type": "display_data"
    },
    {
     "data": {
      "application/javascript": [
       "try {IPython.notebook.kernel.execute(\"NOTEBOOK_URL = '\" + window.location + \"'\");} catch(err) {;}"
      ],
      "text/plain": [
       "<IPython.core.display.Javascript object>"
      ]
     },
     "metadata": {},
     "output_type": "display_data"
    },
    {
     "data": {
      "application/javascript": [
       "try {IPython.notebook.kernel.execute(\"NOTEBOOK_URL = '\" + window.location + \"'\");} catch(err) {;}"
      ],
      "text/plain": [
       "<IPython.core.display.Javascript object>"
      ]
     },
     "metadata": {},
     "output_type": "display_data"
    },
    {
     "data": {
      "application/javascript": [
       "try {IPython.notebook.kernel.execute(\"NOTEBOOK_URL = '\" + window.location + \"'\");} catch(err) {;}"
      ],
      "text/plain": [
       "<IPython.core.display.Javascript object>"
      ]
     },
     "metadata": {},
     "output_type": "display_data"
    },
    {
     "data": {
      "application/javascript": [
       "try {IPython.notebook.kernel.execute(\"NOTEBOOK_URL = '\" + window.location + \"'\");} catch(err) {;}"
      ],
      "text/plain": [
       "<IPython.core.display.Javascript object>"
      ]
     },
     "metadata": {},
     "output_type": "display_data"
    },
    {
     "data": {
      "application/javascript": [
       "try {IPython.notebook.kernel.execute(\"NOTEBOOK_URL = '\" + window.location + \"'\");} catch(err) {;}"
      ],
      "text/plain": [
       "<IPython.core.display.Javascript object>"
      ]
     },
     "metadata": {},
     "output_type": "display_data"
    },
    {
     "data": {
      "application/javascript": [
       "try {IPython.notebook.kernel.execute(\"NOTEBOOK_URL = '\" + window.location + \"'\");} catch(err) {;}"
      ],
      "text/plain": [
       "<IPython.core.display.Javascript object>"
      ]
     },
     "metadata": {},
     "output_type": "display_data"
    },
    {
     "data": {
      "application/javascript": [
       "try {IPython.notebook.kernel.execute(\"NOTEBOOK_URL = '\" + window.location + \"'\");} catch(err) {;}"
      ],
      "text/plain": [
       "<IPython.core.display.Javascript object>"
      ]
     },
     "metadata": {},
     "output_type": "display_data"
    },
    {
     "data": {
      "application/javascript": [
       "try {IPython.notebook.kernel.execute(\"NOTEBOOK_URL = '\" + window.location + \"'\");} catch(err) {;}"
      ],
      "text/plain": [
       "<IPython.core.display.Javascript object>"
      ]
     },
     "metadata": {},
     "output_type": "display_data"
    },
    {
     "data": {
      "application/javascript": [
       "try {IPython.notebook.kernel.execute(\"NOTEBOOK_URL = '\" + window.location + \"'\");} catch(err) {;}"
      ],
      "text/plain": [
       "<IPython.core.display.Javascript object>"
      ]
     },
     "metadata": {},
     "output_type": "display_data"
    },
    {
     "data": {
      "application/javascript": [
       "try {IPython.notebook.kernel.execute(\"NOTEBOOK_URL = '\" + window.location + \"'\");} catch(err) {;}"
      ],
      "text/plain": [
       "<IPython.core.display.Javascript object>"
      ]
     },
     "metadata": {},
     "output_type": "display_data"
    },
    {
     "data": {
      "application/javascript": [
       "try {IPython.notebook.kernel.execute(\"NOTEBOOK_URL = '\" + window.location + \"'\");} catch(err) {;}"
      ],
      "text/plain": [
       "<IPython.core.display.Javascript object>"
      ]
     },
     "metadata": {},
     "output_type": "display_data"
    },
    {
     "data": {
      "application/javascript": [
       "try {IPython.notebook.kernel.execute(\"NOTEBOOK_URL = '\" + window.location + \"'\");} catch(err) {;}"
      ],
      "text/plain": [
       "<IPython.core.display.Javascript object>"
      ]
     },
     "metadata": {},
     "output_type": "display_data"
    },
    {
     "data": {
      "application/javascript": [
       "try {IPython.notebook.kernel.execute(\"NOTEBOOK_URL = '\" + window.location + \"'\");} catch(err) {;}"
      ],
      "text/plain": [
       "<IPython.core.display.Javascript object>"
      ]
     },
     "metadata": {},
     "output_type": "display_data"
    },
    {
     "data": {
      "application/javascript": [
       "try {IPython.notebook.kernel.execute(\"NOTEBOOK_URL = '\" + window.location + \"'\");} catch(err) {;}"
      ],
      "text/plain": [
       "<IPython.core.display.Javascript object>"
      ]
     },
     "metadata": {},
     "output_type": "display_data"
    },
    {
     "data": {
      "application/javascript": [
       "try {IPython.notebook.kernel.execute(\"NOTEBOOK_URL = '\" + window.location + \"'\");} catch(err) {;}"
      ],
      "text/plain": [
       "<IPython.core.display.Javascript object>"
      ]
     },
     "metadata": {},
     "output_type": "display_data"
    },
    {
     "data": {
      "application/javascript": [
       "try {IPython.notebook.kernel.execute(\"NOTEBOOK_URL = '\" + window.location + \"'\");} catch(err) {;}"
      ],
      "text/plain": [
       "<IPython.core.display.Javascript object>"
      ]
     },
     "metadata": {},
     "output_type": "display_data"
    },
    {
     "data": {
      "application/javascript": [
       "try {IPython.notebook.kernel.execute(\"NOTEBOOK_URL = '\" + window.location + \"'\");} catch(err) {;}"
      ],
      "text/plain": [
       "<IPython.core.display.Javascript object>"
      ]
     },
     "metadata": {},
     "output_type": "display_data"
    },
    {
     "data": {
      "application/javascript": [
       "try {IPython.notebook.kernel.execute(\"NOTEBOOK_URL = '\" + window.location + \"'\");} catch(err) {;}"
      ],
      "text/plain": [
       "<IPython.core.display.Javascript object>"
      ]
     },
     "metadata": {},
     "output_type": "display_data"
    },
    {
     "data": {
      "application/javascript": [
       "try {IPython.notebook.kernel.execute(\"NOTEBOOK_URL = '\" + window.location + \"'\");} catch(err) {;}"
      ],
      "text/plain": [
       "<IPython.core.display.Javascript object>"
      ]
     },
     "metadata": {},
     "output_type": "display_data"
    },
    {
     "data": {
      "application/javascript": [
       "try {IPython.notebook.kernel.execute(\"NOTEBOOK_URL = '\" + window.location + \"'\");} catch(err) {;}"
      ],
      "text/plain": [
       "<IPython.core.display.Javascript object>"
      ]
     },
     "metadata": {},
     "output_type": "display_data"
    },
    {
     "data": {
      "application/javascript": [
       "try {IPython.notebook.kernel.execute(\"NOTEBOOK_URL = '\" + window.location + \"'\");} catch(err) {;}"
      ],
      "text/plain": [
       "<IPython.core.display.Javascript object>"
      ]
     },
     "metadata": {},
     "output_type": "display_data"
    },
    {
     "data": {
      "application/javascript": [
       "try {IPython.notebook.kernel.execute(\"NOTEBOOK_URL = '\" + window.location + \"'\");} catch(err) {;}"
      ],
      "text/plain": [
       "<IPython.core.display.Javascript object>"
      ]
     },
     "metadata": {},
     "output_type": "display_data"
    },
    {
     "data": {
      "application/javascript": [
       "try {IPython.notebook.kernel.execute(\"NOTEBOOK_URL = '\" + window.location + \"'\");} catch(err) {;}"
      ],
      "text/plain": [
       "<IPython.core.display.Javascript object>"
      ]
     },
     "metadata": {},
     "output_type": "display_data"
    },
    {
     "data": {
      "application/javascript": [
       "try {IPython.notebook.kernel.execute(\"NOTEBOOK_URL = '\" + window.location + \"'\");} catch(err) {;}"
      ],
      "text/plain": [
       "<IPython.core.display.Javascript object>"
      ]
     },
     "metadata": {},
     "output_type": "display_data"
    },
    {
     "data": {
      "application/javascript": [
       "try {IPython.notebook.kernel.execute(\"NOTEBOOK_URL = '\" + window.location + \"'\");} catch(err) {;}"
      ],
      "text/plain": [
       "<IPython.core.display.Javascript object>"
      ]
     },
     "metadata": {},
     "output_type": "display_data"
    },
    {
     "data": {
      "application/javascript": [
       "try {IPython.notebook.kernel.execute(\"NOTEBOOK_URL = '\" + window.location + \"'\");} catch(err) {;}"
      ],
      "text/plain": [
       "<IPython.core.display.Javascript object>"
      ]
     },
     "metadata": {},
     "output_type": "display_data"
    },
    {
     "data": {
      "application/javascript": [
       "try {IPython.notebook.kernel.execute(\"NOTEBOOK_URL = '\" + window.location + \"'\");} catch(err) {;}"
      ],
      "text/plain": [
       "<IPython.core.display.Javascript object>"
      ]
     },
     "metadata": {},
     "output_type": "display_data"
    },
    {
     "data": {
      "application/javascript": [
       "try {IPython.notebook.kernel.execute(\"NOTEBOOK_URL = '\" + window.location + \"'\");} catch(err) {;}"
      ],
      "text/plain": [
       "<IPython.core.display.Javascript object>"
      ]
     },
     "metadata": {},
     "output_type": "display_data"
    },
    {
     "data": {
      "application/javascript": [
       "try {IPython.notebook.kernel.execute(\"NOTEBOOK_URL = '\" + window.location + \"'\");} catch(err) {;}"
      ],
      "text/plain": [
       "<IPython.core.display.Javascript object>"
      ]
     },
     "metadata": {},
     "output_type": "display_data"
    },
    {
     "data": {
      "application/javascript": [
       "try {IPython.notebook.kernel.execute(\"NOTEBOOK_URL = '\" + window.location + \"'\");} catch(err) {;}"
      ],
      "text/plain": [
       "<IPython.core.display.Javascript object>"
      ]
     },
     "metadata": {},
     "output_type": "display_data"
    },
    {
     "data": {
      "application/javascript": [
       "try {IPython.notebook.kernel.execute(\"NOTEBOOK_URL = '\" + window.location + \"'\");} catch(err) {;}"
      ],
      "text/plain": [
       "<IPython.core.display.Javascript object>"
      ]
     },
     "metadata": {},
     "output_type": "display_data"
    },
    {
     "data": {
      "application/javascript": [
       "try {IPython.notebook.kernel.execute(\"NOTEBOOK_URL = '\" + window.location + \"'\");} catch(err) {;}"
      ],
      "text/plain": [
       "<IPython.core.display.Javascript object>"
      ]
     },
     "metadata": {},
     "output_type": "display_data"
    },
    {
     "data": {
      "application/javascript": [
       "try {IPython.notebook.kernel.execute(\"NOTEBOOK_URL = '\" + window.location + \"'\");} catch(err) {;}"
      ],
      "text/plain": [
       "<IPython.core.display.Javascript object>"
      ]
     },
     "metadata": {},
     "output_type": "display_data"
    },
    {
     "data": {
      "application/javascript": [
       "try {IPython.notebook.kernel.execute(\"NOTEBOOK_URL = '\" + window.location + \"'\");} catch(err) {;}"
      ],
      "text/plain": [
       "<IPython.core.display.Javascript object>"
      ]
     },
     "metadata": {},
     "output_type": "display_data"
    },
    {
     "data": {
      "application/javascript": [
       "try {IPython.notebook.kernel.execute(\"NOTEBOOK_URL = '\" + window.location + \"'\");} catch(err) {;}"
      ],
      "text/plain": [
       "<IPython.core.display.Javascript object>"
      ]
     },
     "metadata": {},
     "output_type": "display_data"
    },
    {
     "data": {
      "application/javascript": [
       "try {IPython.notebook.kernel.execute(\"NOTEBOOK_URL = '\" + window.location + \"'\");} catch(err) {;}"
      ],
      "text/plain": [
       "<IPython.core.display.Javascript object>"
      ]
     },
     "metadata": {},
     "output_type": "display_data"
    },
    {
     "data": {
      "application/javascript": [
       "try {IPython.notebook.kernel.execute(\"NOTEBOOK_URL = '\" + window.location + \"'\");} catch(err) {;}"
      ],
      "text/plain": [
       "<IPython.core.display.Javascript object>"
      ]
     },
     "metadata": {},
     "output_type": "display_data"
    },
    {
     "data": {
      "application/javascript": [
       "try {IPython.notebook.kernel.execute(\"NOTEBOOK_URL = '\" + window.location + \"'\");} catch(err) {;}"
      ],
      "text/plain": [
       "<IPython.core.display.Javascript object>"
      ]
     },
     "metadata": {},
     "output_type": "display_data"
    },
    {
     "data": {
      "application/javascript": [
       "try {IPython.notebook.kernel.execute(\"NOTEBOOK_URL = '\" + window.location + \"'\");} catch(err) {;}"
      ],
      "text/plain": [
       "<IPython.core.display.Javascript object>"
      ]
     },
     "metadata": {},
     "output_type": "display_data"
    },
    {
     "data": {
      "application/javascript": [
       "try {IPython.notebook.kernel.execute(\"NOTEBOOK_URL = '\" + window.location + \"'\");} catch(err) {;}"
      ],
      "text/plain": [
       "<IPython.core.display.Javascript object>"
      ]
     },
     "metadata": {},
     "output_type": "display_data"
    },
    {
     "data": {
      "application/javascript": [
       "try {IPython.notebook.kernel.execute(\"NOTEBOOK_URL = '\" + window.location + \"'\");} catch(err) {;}"
      ],
      "text/plain": [
       "<IPython.core.display.Javascript object>"
      ]
     },
     "metadata": {},
     "output_type": "display_data"
    },
    {
     "data": {
      "application/javascript": [
       "try {IPython.notebook.kernel.execute(\"NOTEBOOK_URL = '\" + window.location + \"'\");} catch(err) {;}"
      ],
      "text/plain": [
       "<IPython.core.display.Javascript object>"
      ]
     },
     "metadata": {},
     "output_type": "display_data"
    },
    {
     "data": {
      "application/javascript": [
       "try {IPython.notebook.kernel.execute(\"NOTEBOOK_URL = '\" + window.location + \"'\");} catch(err) {;}"
      ],
      "text/plain": [
       "<IPython.core.display.Javascript object>"
      ]
     },
     "metadata": {},
     "output_type": "display_data"
    },
    {
     "data": {
      "application/javascript": [
       "try {IPython.notebook.kernel.execute(\"NOTEBOOK_URL = '\" + window.location + \"'\");} catch(err) {;}"
      ],
      "text/plain": [
       "<IPython.core.display.Javascript object>"
      ]
     },
     "metadata": {},
     "output_type": "display_data"
    },
    {
     "data": {
      "application/javascript": [
       "try {IPython.notebook.kernel.execute(\"NOTEBOOK_URL = '\" + window.location + \"'\");} catch(err) {;}"
      ],
      "text/plain": [
       "<IPython.core.display.Javascript object>"
      ]
     },
     "metadata": {},
     "output_type": "display_data"
    },
    {
     "data": {
      "application/javascript": [
       "try {IPython.notebook.kernel.execute(\"NOTEBOOK_URL = '\" + window.location + \"'\");} catch(err) {;}"
      ],
      "text/plain": [
       "<IPython.core.display.Javascript object>"
      ]
     },
     "metadata": {},
     "output_type": "display_data"
    },
    {
     "data": {
      "application/javascript": [
       "try {IPython.notebook.kernel.execute(\"NOTEBOOK_URL = '\" + window.location + \"'\");} catch(err) {;}"
      ],
      "text/plain": [
       "<IPython.core.display.Javascript object>"
      ]
     },
     "metadata": {},
     "output_type": "display_data"
    },
    {
     "data": {
      "application/javascript": [
       "try {IPython.notebook.kernel.execute(\"NOTEBOOK_URL = '\" + window.location + \"'\");} catch(err) {;}"
      ],
      "text/plain": [
       "<IPython.core.display.Javascript object>"
      ]
     },
     "metadata": {},
     "output_type": "display_data"
    },
    {
     "data": {
      "application/javascript": [
       "try {IPython.notebook.kernel.execute(\"NOTEBOOK_URL = '\" + window.location + \"'\");} catch(err) {;}"
      ],
      "text/plain": [
       "<IPython.core.display.Javascript object>"
      ]
     },
     "metadata": {},
     "output_type": "display_data"
    },
    {
     "data": {
      "application/javascript": [
       "try {IPython.notebook.kernel.execute(\"NOTEBOOK_URL = '\" + window.location + \"'\");} catch(err) {;}"
      ],
      "text/plain": [
       "<IPython.core.display.Javascript object>"
      ]
     },
     "metadata": {},
     "output_type": "display_data"
    },
    {
     "data": {
      "application/javascript": [
       "try {IPython.notebook.kernel.execute(\"NOTEBOOK_URL = '\" + window.location + \"'\");} catch(err) {;}"
      ],
      "text/plain": [
       "<IPython.core.display.Javascript object>"
      ]
     },
     "metadata": {},
     "output_type": "display_data"
    },
    {
     "data": {
      "application/javascript": [
       "try {IPython.notebook.kernel.execute(\"NOTEBOOK_URL = '\" + window.location + \"'\");} catch(err) {;}"
      ],
      "text/plain": [
       "<IPython.core.display.Javascript object>"
      ]
     },
     "metadata": {},
     "output_type": "display_data"
    },
    {
     "data": {
      "application/javascript": [
       "try {IPython.notebook.kernel.execute(\"NOTEBOOK_URL = '\" + window.location + \"'\");} catch(err) {;}"
      ],
      "text/plain": [
       "<IPython.core.display.Javascript object>"
      ]
     },
     "metadata": {},
     "output_type": "display_data"
    },
    {
     "data": {
      "application/javascript": [
       "try {IPython.notebook.kernel.execute(\"NOTEBOOK_URL = '\" + window.location + \"'\");} catch(err) {;}"
      ],
      "text/plain": [
       "<IPython.core.display.Javascript object>"
      ]
     },
     "metadata": {},
     "output_type": "display_data"
    },
    {
     "data": {
      "application/javascript": [
       "try {IPython.notebook.kernel.execute(\"NOTEBOOK_URL = '\" + window.location + \"'\");} catch(err) {;}"
      ],
      "text/plain": [
       "<IPython.core.display.Javascript object>"
      ]
     },
     "metadata": {},
     "output_type": "display_data"
    },
    {
     "data": {
      "application/javascript": [
       "try {IPython.notebook.kernel.execute(\"NOTEBOOK_URL = '\" + window.location + \"'\");} catch(err) {;}"
      ],
      "text/plain": [
       "<IPython.core.display.Javascript object>"
      ]
     },
     "metadata": {},
     "output_type": "display_data"
    },
    {
     "data": {
      "application/javascript": [
       "try {IPython.notebook.kernel.execute(\"NOTEBOOK_URL = '\" + window.location + \"'\");} catch(err) {;}"
      ],
      "text/plain": [
       "<IPython.core.display.Javascript object>"
      ]
     },
     "metadata": {},
     "output_type": "display_data"
    },
    {
     "data": {
      "application/javascript": [
       "try {IPython.notebook.kernel.execute(\"NOTEBOOK_URL = '\" + window.location + \"'\");} catch(err) {;}"
      ],
      "text/plain": [
       "<IPython.core.display.Javascript object>"
      ]
     },
     "metadata": {},
     "output_type": "display_data"
    },
    {
     "data": {
      "application/javascript": [
       "try {IPython.notebook.kernel.execute(\"NOTEBOOK_URL = '\" + window.location + \"'\");} catch(err) {;}"
      ],
      "text/plain": [
       "<IPython.core.display.Javascript object>"
      ]
     },
     "metadata": {},
     "output_type": "display_data"
    },
    {
     "data": {
      "application/javascript": [
       "try {IPython.notebook.kernel.execute(\"NOTEBOOK_URL = '\" + window.location + \"'\");} catch(err) {;}"
      ],
      "text/plain": [
       "<IPython.core.display.Javascript object>"
      ]
     },
     "metadata": {},
     "output_type": "display_data"
    },
    {
     "data": {
      "application/javascript": [
       "try {IPython.notebook.kernel.execute(\"NOTEBOOK_URL = '\" + window.location + \"'\");} catch(err) {;}"
      ],
      "text/plain": [
       "<IPython.core.display.Javascript object>"
      ]
     },
     "metadata": {},
     "output_type": "display_data"
    },
    {
     "data": {
      "application/javascript": [
       "try {IPython.notebook.kernel.execute(\"NOTEBOOK_URL = '\" + window.location + \"'\");} catch(err) {;}"
      ],
      "text/plain": [
       "<IPython.core.display.Javascript object>"
      ]
     },
     "metadata": {},
     "output_type": "display_data"
    },
    {
     "data": {
      "application/javascript": [
       "try {IPython.notebook.kernel.execute(\"NOTEBOOK_URL = '\" + window.location + \"'\");} catch(err) {;}"
      ],
      "text/plain": [
       "<IPython.core.display.Javascript object>"
      ]
     },
     "metadata": {},
     "output_type": "display_data"
    },
    {
     "data": {
      "application/javascript": [
       "try {IPython.notebook.kernel.execute(\"NOTEBOOK_URL = '\" + window.location + \"'\");} catch(err) {;}"
      ],
      "text/plain": [
       "<IPython.core.display.Javascript object>"
      ]
     },
     "metadata": {},
     "output_type": "display_data"
    },
    {
     "data": {
      "application/javascript": [
       "try {IPython.notebook.kernel.execute(\"NOTEBOOK_URL = '\" + window.location + \"'\");} catch(err) {;}"
      ],
      "text/plain": [
       "<IPython.core.display.Javascript object>"
      ]
     },
     "metadata": {},
     "output_type": "display_data"
    },
    {
     "data": {
      "application/javascript": [
       "try {IPython.notebook.kernel.execute(\"NOTEBOOK_URL = '\" + window.location + \"'\");} catch(err) {;}"
      ],
      "text/plain": [
       "<IPython.core.display.Javascript object>"
      ]
     },
     "metadata": {},
     "output_type": "display_data"
    },
    {
     "data": {
      "application/javascript": [
       "try {IPython.notebook.kernel.execute(\"NOTEBOOK_URL = '\" + window.location + \"'\");} catch(err) {;}"
      ],
      "text/plain": [
       "<IPython.core.display.Javascript object>"
      ]
     },
     "metadata": {},
     "output_type": "display_data"
    },
    {
     "data": {
      "application/javascript": [
       "try {IPython.notebook.kernel.execute(\"NOTEBOOK_URL = '\" + window.location + \"'\");} catch(err) {;}"
      ],
      "text/plain": [
       "<IPython.core.display.Javascript object>"
      ]
     },
     "metadata": {},
     "output_type": "display_data"
    },
    {
     "data": {
      "application/javascript": [
       "try {IPython.notebook.kernel.execute(\"NOTEBOOK_URL = '\" + window.location + \"'\");} catch(err) {;}"
      ],
      "text/plain": [
       "<IPython.core.display.Javascript object>"
      ]
     },
     "metadata": {},
     "output_type": "display_data"
    },
    {
     "data": {
      "application/javascript": [
       "try {IPython.notebook.kernel.execute(\"NOTEBOOK_URL = '\" + window.location + \"'\");} catch(err) {;}"
      ],
      "text/plain": [
       "<IPython.core.display.Javascript object>"
      ]
     },
     "metadata": {},
     "output_type": "display_data"
    },
    {
     "data": {
      "application/javascript": [
       "try {IPython.notebook.kernel.execute(\"NOTEBOOK_URL = '\" + window.location + \"'\");} catch(err) {;}"
      ],
      "text/plain": [
       "<IPython.core.display.Javascript object>"
      ]
     },
     "metadata": {},
     "output_type": "display_data"
    },
    {
     "data": {
      "application/javascript": [
       "try {IPython.notebook.kernel.execute(\"NOTEBOOK_URL = '\" + window.location + \"'\");} catch(err) {;}"
      ],
      "text/plain": [
       "<IPython.core.display.Javascript object>"
      ]
     },
     "metadata": {},
     "output_type": "display_data"
    },
    {
     "data": {
      "application/javascript": [
       "try {IPython.notebook.kernel.execute(\"NOTEBOOK_URL = '\" + window.location + \"'\");} catch(err) {;}"
      ],
      "text/plain": [
       "<IPython.core.display.Javascript object>"
      ]
     },
     "metadata": {},
     "output_type": "display_data"
    },
    {
     "data": {
      "application/javascript": [
       "try {IPython.notebook.kernel.execute(\"NOTEBOOK_URL = '\" + window.location + \"'\");} catch(err) {;}"
      ],
      "text/plain": [
       "<IPython.core.display.Javascript object>"
      ]
     },
     "metadata": {},
     "output_type": "display_data"
    },
    {
     "data": {
      "application/javascript": [
       "try {IPython.notebook.kernel.execute(\"NOTEBOOK_URL = '\" + window.location + \"'\");} catch(err) {;}"
      ],
      "text/plain": [
       "<IPython.core.display.Javascript object>"
      ]
     },
     "metadata": {},
     "output_type": "display_data"
    },
    {
     "data": {
      "application/javascript": [
       "try {IPython.notebook.kernel.execute(\"NOTEBOOK_URL = '\" + window.location + \"'\");} catch(err) {;}"
      ],
      "text/plain": [
       "<IPython.core.display.Javascript object>"
      ]
     },
     "metadata": {},
     "output_type": "display_data"
    },
    {
     "data": {
      "application/javascript": [
       "try {IPython.notebook.kernel.execute(\"NOTEBOOK_URL = '\" + window.location + \"'\");} catch(err) {;}"
      ],
      "text/plain": [
       "<IPython.core.display.Javascript object>"
      ]
     },
     "metadata": {},
     "output_type": "display_data"
    },
    {
     "data": {
      "application/javascript": [
       "try {IPython.notebook.kernel.execute(\"NOTEBOOK_URL = '\" + window.location + \"'\");} catch(err) {;}"
      ],
      "text/plain": [
       "<IPython.core.display.Javascript object>"
      ]
     },
     "metadata": {},
     "output_type": "display_data"
    },
    {
     "data": {
      "application/javascript": [
       "try {IPython.notebook.kernel.execute(\"NOTEBOOK_URL = '\" + window.location + \"'\");} catch(err) {;}"
      ],
      "text/plain": [
       "<IPython.core.display.Javascript object>"
      ]
     },
     "metadata": {},
     "output_type": "display_data"
    },
    {
     "data": {
      "application/javascript": [
       "try {IPython.notebook.kernel.execute(\"NOTEBOOK_URL = '\" + window.location + \"'\");} catch(err) {;}"
      ],
      "text/plain": [
       "<IPython.core.display.Javascript object>"
      ]
     },
     "metadata": {},
     "output_type": "display_data"
    },
    {
     "data": {
      "application/javascript": [
       "try {IPython.notebook.kernel.execute(\"NOTEBOOK_URL = '\" + window.location + \"'\");} catch(err) {;}"
      ],
      "text/plain": [
       "<IPython.core.display.Javascript object>"
      ]
     },
     "metadata": {},
     "output_type": "display_data"
    },
    {
     "data": {
      "application/javascript": [
       "try {IPython.notebook.kernel.execute(\"NOTEBOOK_URL = '\" + window.location + \"'\");} catch(err) {;}"
      ],
      "text/plain": [
       "<IPython.core.display.Javascript object>"
      ]
     },
     "metadata": {},
     "output_type": "display_data"
    },
    {
     "data": {
      "application/javascript": [
       "try {IPython.notebook.kernel.execute(\"NOTEBOOK_URL = '\" + window.location + \"'\");} catch(err) {;}"
      ],
      "text/plain": [
       "<IPython.core.display.Javascript object>"
      ]
     },
     "metadata": {},
     "output_type": "display_data"
    },
    {
     "data": {
      "application/javascript": [
       "try {IPython.notebook.kernel.execute(\"NOTEBOOK_URL = '\" + window.location + \"'\");} catch(err) {;}"
      ],
      "text/plain": [
       "<IPython.core.display.Javascript object>"
      ]
     },
     "metadata": {},
     "output_type": "display_data"
    },
    {
     "data": {
      "application/javascript": [
       "try {IPython.notebook.kernel.execute(\"NOTEBOOK_URL = '\" + window.location + \"'\");} catch(err) {;}"
      ],
      "text/plain": [
       "<IPython.core.display.Javascript object>"
      ]
     },
     "metadata": {},
     "output_type": "display_data"
    },
    {
     "data": {
      "application/javascript": [
       "try {IPython.notebook.kernel.execute(\"NOTEBOOK_URL = '\" + window.location + \"'\");} catch(err) {;}"
      ],
      "text/plain": [
       "<IPython.core.display.Javascript object>"
      ]
     },
     "metadata": {},
     "output_type": "display_data"
    },
    {
     "data": {
      "application/javascript": [
       "try {IPython.notebook.kernel.execute(\"NOTEBOOK_URL = '\" + window.location + \"'\");} catch(err) {;}"
      ],
      "text/plain": [
       "<IPython.core.display.Javascript object>"
      ]
     },
     "metadata": {},
     "output_type": "display_data"
    },
    {
     "data": {
      "application/javascript": [
       "try {IPython.notebook.kernel.execute(\"NOTEBOOK_URL = '\" + window.location + \"'\");} catch(err) {;}"
      ],
      "text/plain": [
       "<IPython.core.display.Javascript object>"
      ]
     },
     "metadata": {},
     "output_type": "display_data"
    },
    {
     "data": {
      "application/javascript": [
       "try {IPython.notebook.kernel.execute(\"NOTEBOOK_URL = '\" + window.location + \"'\");} catch(err) {;}"
      ],
      "text/plain": [
       "<IPython.core.display.Javascript object>"
      ]
     },
     "metadata": {},
     "output_type": "display_data"
    },
    {
     "data": {
      "application/javascript": [
       "try {IPython.notebook.kernel.execute(\"NOTEBOOK_URL = '\" + window.location + \"'\");} catch(err) {;}"
      ],
      "text/plain": [
       "<IPython.core.display.Javascript object>"
      ]
     },
     "metadata": {},
     "output_type": "display_data"
    },
    {
     "data": {
      "application/javascript": [
       "try {IPython.notebook.kernel.execute(\"NOTEBOOK_URL = '\" + window.location + \"'\");} catch(err) {;}"
      ],
      "text/plain": [
       "<IPython.core.display.Javascript object>"
      ]
     },
     "metadata": {},
     "output_type": "display_data"
    },
    {
     "data": {
      "application/javascript": [
       "try {IPython.notebook.kernel.execute(\"NOTEBOOK_URL = '\" + window.location + \"'\");} catch(err) {;}"
      ],
      "text/plain": [
       "<IPython.core.display.Javascript object>"
      ]
     },
     "metadata": {},
     "output_type": "display_data"
    },
    {
     "data": {
      "application/javascript": [
       "try {IPython.notebook.kernel.execute(\"NOTEBOOK_URL = '\" + window.location + \"'\");} catch(err) {;}"
      ],
      "text/plain": [
       "<IPython.core.display.Javascript object>"
      ]
     },
     "metadata": {},
     "output_type": "display_data"
    },
    {
     "data": {
      "application/javascript": [
       "try {IPython.notebook.kernel.execute(\"NOTEBOOK_URL = '\" + window.location + \"'\");} catch(err) {;}"
      ],
      "text/plain": [
       "<IPython.core.display.Javascript object>"
      ]
     },
     "metadata": {},
     "output_type": "display_data"
    },
    {
     "data": {
      "application/javascript": [
       "try {IPython.notebook.kernel.execute(\"NOTEBOOK_URL = '\" + window.location + \"'\");} catch(err) {;}"
      ],
      "text/plain": [
       "<IPython.core.display.Javascript object>"
      ]
     },
     "metadata": {},
     "output_type": "display_data"
    },
    {
     "data": {
      "application/javascript": [
       "try {IPython.notebook.kernel.execute(\"NOTEBOOK_URL = '\" + window.location + \"'\");} catch(err) {;}"
      ],
      "text/plain": [
       "<IPython.core.display.Javascript object>"
      ]
     },
     "metadata": {},
     "output_type": "display_data"
    },
    {
     "data": {
      "application/javascript": [
       "try {IPython.notebook.kernel.execute(\"NOTEBOOK_URL = '\" + window.location + \"'\");} catch(err) {;}"
      ],
      "text/plain": [
       "<IPython.core.display.Javascript object>"
      ]
     },
     "metadata": {},
     "output_type": "display_data"
    },
    {
     "data": {
      "application/javascript": [
       "try {IPython.notebook.kernel.execute(\"NOTEBOOK_URL = '\" + window.location + \"'\");} catch(err) {;}"
      ],
      "text/plain": [
       "<IPython.core.display.Javascript object>"
      ]
     },
     "metadata": {},
     "output_type": "display_data"
    },
    {
     "data": {
      "application/javascript": [
       "try {IPython.notebook.kernel.execute(\"NOTEBOOK_URL = '\" + window.location + \"'\");} catch(err) {;}"
      ],
      "text/plain": [
       "<IPython.core.display.Javascript object>"
      ]
     },
     "metadata": {},
     "output_type": "display_data"
    },
    {
     "data": {
      "application/javascript": [
       "try {IPython.notebook.kernel.execute(\"NOTEBOOK_URL = '\" + window.location + \"'\");} catch(err) {;}"
      ],
      "text/plain": [
       "<IPython.core.display.Javascript object>"
      ]
     },
     "metadata": {},
     "output_type": "display_data"
    },
    {
     "data": {
      "application/javascript": [
       "try {IPython.notebook.kernel.execute(\"NOTEBOOK_URL = '\" + window.location + \"'\");} catch(err) {;}"
      ],
      "text/plain": [
       "<IPython.core.display.Javascript object>"
      ]
     },
     "metadata": {},
     "output_type": "display_data"
    },
    {
     "data": {
      "application/javascript": [
       "try {IPython.notebook.kernel.execute(\"NOTEBOOK_URL = '\" + window.location + \"'\");} catch(err) {;}"
      ],
      "text/plain": [
       "<IPython.core.display.Javascript object>"
      ]
     },
     "metadata": {},
     "output_type": "display_data"
    },
    {
     "data": {
      "application/javascript": [
       "try {IPython.notebook.kernel.execute(\"NOTEBOOK_URL = '\" + window.location + \"'\");} catch(err) {;}"
      ],
      "text/plain": [
       "<IPython.core.display.Javascript object>"
      ]
     },
     "metadata": {},
     "output_type": "display_data"
    },
    {
     "data": {
      "application/javascript": [
       "try {IPython.notebook.kernel.execute(\"NOTEBOOK_URL = '\" + window.location + \"'\");} catch(err) {;}"
      ],
      "text/plain": [
       "<IPython.core.display.Javascript object>"
      ]
     },
     "metadata": {},
     "output_type": "display_data"
    },
    {
     "data": {
      "application/javascript": [
       "try {IPython.notebook.kernel.execute(\"NOTEBOOK_URL = '\" + window.location + \"'\");} catch(err) {;}"
      ],
      "text/plain": [
       "<IPython.core.display.Javascript object>"
      ]
     },
     "metadata": {},
     "output_type": "display_data"
    },
    {
     "data": {
      "application/javascript": [
       "try {IPython.notebook.kernel.execute(\"NOTEBOOK_URL = '\" + window.location + \"'\");} catch(err) {;}"
      ],
      "text/plain": [
       "<IPython.core.display.Javascript object>"
      ]
     },
     "metadata": {},
     "output_type": "display_data"
    },
    {
     "data": {
      "application/javascript": [
       "try {IPython.notebook.kernel.execute(\"NOTEBOOK_URL = '\" + window.location + \"'\");} catch(err) {;}"
      ],
      "text/plain": [
       "<IPython.core.display.Javascript object>"
      ]
     },
     "metadata": {},
     "output_type": "display_data"
    },
    {
     "data": {
      "application/javascript": [
       "try {IPython.notebook.kernel.execute(\"NOTEBOOK_URL = '\" + window.location + \"'\");} catch(err) {;}"
      ],
      "text/plain": [
       "<IPython.core.display.Javascript object>"
      ]
     },
     "metadata": {},
     "output_type": "display_data"
    },
    {
     "data": {
      "application/javascript": [
       "try {IPython.notebook.kernel.execute(\"NOTEBOOK_URL = '\" + window.location + \"'\");} catch(err) {;}"
      ],
      "text/plain": [
       "<IPython.core.display.Javascript object>"
      ]
     },
     "metadata": {},
     "output_type": "display_data"
    },
    {
     "data": {
      "application/javascript": [
       "try {IPython.notebook.kernel.execute(\"NOTEBOOK_URL = '\" + window.location + \"'\");} catch(err) {;}"
      ],
      "text/plain": [
       "<IPython.core.display.Javascript object>"
      ]
     },
     "metadata": {},
     "output_type": "display_data"
    },
    {
     "data": {
      "application/javascript": [
       "try {IPython.notebook.kernel.execute(\"NOTEBOOK_URL = '\" + window.location + \"'\");} catch(err) {;}"
      ],
      "text/plain": [
       "<IPython.core.display.Javascript object>"
      ]
     },
     "metadata": {},
     "output_type": "display_data"
    },
    {
     "name": "stdout",
     "output_type": "stream",
     "text": [
      "Timestamp for Anomalous Features\n",
      "\n"
     ]
    },
    {
     "data": {
      "text/html": [
       "<div>\n",
       "<style scoped>\n",
       "    .dataframe tbody tr th:only-of-type {\n",
       "        vertical-align: middle;\n",
       "    }\n",
       "\n",
       "    .dataframe tbody tr th {\n",
       "        vertical-align: top;\n",
       "    }\n",
       "\n",
       "    .dataframe thead th {\n",
       "        text-align: right;\n",
       "    }\n",
       "</style>\n",
       "<table border=\"1\" class=\"dataframe\">\n",
       "  <thead>\n",
       "    <tr style=\"text-align: right;\">\n",
       "      <th></th>\n",
       "      <th>TimeGenerated</th>\n",
       "      <th>Anomalous Features</th>\n",
       "    </tr>\n",
       "  </thead>\n",
       "  <tbody>\n",
       "    <tr>\n",
       "      <th>0</th>\n",
       "      <td>2021-08-10 06:03:03.171821+00:00</td>\n",
       "      <td>[AffectedItems, ClientIP, ClientIP_, Client_IPAddress, ElevationTime, ItemType, Operation, Recor...</td>\n",
       "    </tr>\n",
       "    <tr>\n",
       "      <th>1</th>\n",
       "      <td>2021-08-11 23:03:03.171821+00:00</td>\n",
       "      <td>[AppId, ClientIP, ClientIP_, Event_Data, ModifiedProperties, Operation, RecordType]</td>\n",
       "    </tr>\n",
       "    <tr>\n",
       "      <th>2</th>\n",
       "      <td>2021-08-12 00:03:03.171821+00:00</td>\n",
       "      <td>[ClientIP, ClientIP_, Client_IPAddress, ElevationTime, Event_Data, Folders, ItemType, ModifiedPr...</td>\n",
       "    </tr>\n",
       "    <tr>\n",
       "      <th>3</th>\n",
       "      <td>2021-08-12 01:03:03.171821+00:00</td>\n",
       "      <td>[Folders]</td>\n",
       "    </tr>\n",
       "    <tr>\n",
       "      <th>4</th>\n",
       "      <td>2021-08-10 08:03:03.171821+00:00</td>\n",
       "      <td>[Item]</td>\n",
       "    </tr>\n",
       "    <tr>\n",
       "      <th>5</th>\n",
       "      <td>2021-08-10 16:03:03.171821+00:00</td>\n",
       "      <td>[Item]</td>\n",
       "    </tr>\n",
       "    <tr>\n",
       "      <th>6</th>\n",
       "      <td>2021-08-11 07:03:03.171821+00:00</td>\n",
       "      <td>[Item, UserType]</td>\n",
       "    </tr>\n",
       "    <tr>\n",
       "      <th>7</th>\n",
       "      <td>2021-08-09 14:03:03.171821+00:00</td>\n",
       "      <td>[Members]</td>\n",
       "    </tr>\n",
       "    <tr>\n",
       "      <th>8</th>\n",
       "      <td>2021-08-09 18:03:03.171821+00:00</td>\n",
       "      <td>[OfficeId, OfficeObjectId, Parameters, SourceRecordId]</td>\n",
       "    </tr>\n",
       "    <tr>\n",
       "      <th>9</th>\n",
       "      <td>2021-08-13 03:03:03.171821+00:00</td>\n",
       "      <td>[OfficeId, OfficeObjectId, Operation, Parameters, SourceRecordId]</td>\n",
       "    </tr>\n",
       "    <tr>\n",
       "      <th>10</th>\n",
       "      <td>2021-08-11 15:03:03.171821+00:00</td>\n",
       "      <td>[OfficeObjectId, RecordType, SourceFileExtension, SourceFileName, SourceFileName_]</td>\n",
       "    </tr>\n",
       "    <tr>\n",
       "      <th>11</th>\n",
       "      <td>2021-08-12 19:03:03.171821+00:00</td>\n",
       "      <td>[OfficeObjectId, SourceFileExtension, SourceFileName, SourceFileName_]</td>\n",
       "    </tr>\n",
       "    <tr>\n",
       "      <th>12</th>\n",
       "      <td>2021-08-09 00:03:03.171821+00:00</td>\n",
       "      <td>[Parameters]</td>\n",
       "    </tr>\n",
       "    <tr>\n",
       "      <th>13</th>\n",
       "      <td>2021-08-13 14:03:03.171821+00:00</td>\n",
       "      <td>[Site_, Site_Url, Site_Url_, SourceFileExtension, SourceFileName, SourceFileName_, SourceRelativ...</td>\n",
       "    </tr>\n",
       "  </tbody>\n",
       "</table>\n",
       "</div>"
      ],
      "text/plain": [
       "                      TimeGenerated  \\\n",
       "0  2021-08-10 06:03:03.171821+00:00   \n",
       "1  2021-08-11 23:03:03.171821+00:00   \n",
       "2  2021-08-12 00:03:03.171821+00:00   \n",
       "3  2021-08-12 01:03:03.171821+00:00   \n",
       "4  2021-08-10 08:03:03.171821+00:00   \n",
       "5  2021-08-10 16:03:03.171821+00:00   \n",
       "6  2021-08-11 07:03:03.171821+00:00   \n",
       "7  2021-08-09 14:03:03.171821+00:00   \n",
       "8  2021-08-09 18:03:03.171821+00:00   \n",
       "9  2021-08-13 03:03:03.171821+00:00   \n",
       "10 2021-08-11 15:03:03.171821+00:00   \n",
       "11 2021-08-12 19:03:03.171821+00:00   \n",
       "12 2021-08-09 00:03:03.171821+00:00   \n",
       "13 2021-08-13 14:03:03.171821+00:00   \n",
       "\n",
       "                                                                                     Anomalous Features  \n",
       "0   [AffectedItems, ClientIP, ClientIP_, Client_IPAddress, ElevationTime, ItemType, Operation, Recor...  \n",
       "1                   [AppId, ClientIP, ClientIP_, Event_Data, ModifiedProperties, Operation, RecordType]  \n",
       "2   [ClientIP, ClientIP_, Client_IPAddress, ElevationTime, Event_Data, Folders, ItemType, ModifiedPr...  \n",
       "3                                                                                             [Folders]  \n",
       "4                                                                                                [Item]  \n",
       "5                                                                                                [Item]  \n",
       "6                                                                                      [Item, UserType]  \n",
       "7                                                                                             [Members]  \n",
       "8                                                [OfficeId, OfficeObjectId, Parameters, SourceRecordId]  \n",
       "9                                     [OfficeId, OfficeObjectId, Operation, Parameters, SourceRecordId]  \n",
       "10                   [OfficeObjectId, RecordType, SourceFileExtension, SourceFileName, SourceFileName_]  \n",
       "11                               [OfficeObjectId, SourceFileExtension, SourceFileName, SourceFileName_]  \n",
       "12                                                                                         [Parameters]  \n",
       "13  [Site_, Site_Url, Site_Url_, SourceFileExtension, SourceFileName, SourceFileName_, SourceRelativ...  "
      ]
     },
     "metadata": {},
     "output_type": "display_data"
    }
   ],
   "source": [
    "from time_series_utils import check_kwargs, ts_anomalies_stl\n",
    "\n",
    "start = (timeFrame.start)\n",
    "end = (timeFrame.end)\n",
    "features = selected_features.selected_values\n",
    "\n",
    "featureDict = {}\n",
    "anomalyDict = {}\n",
    "\n",
    "if start == end:\n",
    "    print(\"\\nPlease make sure the start and end date are distinct\\n\")\n",
    "elif len(features) == 0:\n",
    "    print(\"\\nPlease choose at least one feature\\n\")\n",
    "else:\n",
    "    for feature in features:\n",
    "        raw_times_series_data = qry_prov.MultiDataSource.get_timeseries_data(\n",
    "            start=start,\n",
    "            end=end,\n",
    "            table=f\"{tableDropdown.value}\",\n",
    "            timestampcolumn=timestamp_col,\n",
    "            aggregatecolumn=f\"{feature}\",\n",
    "            aggregatefunction=f\"dcount(tostring({feature}))\",\n",
    "            add_query_items=f'|mv-expand {timestamp_col} to typeof(datetime), {feature} to typeof(long)',\n",
    "        )\n",
    "        df_time_series = raw_times_series_data[[timestamp_col, f'{feature}']]\n",
    "        df_time_series = df_time_series.set_index(timestamp_col)\n",
    "        anomalies = ts_anomalies_stl(df_time_series)\n",
    "        featureDict[f'{feature}'] = anomalies\n",
    "        anomalous_timestamps = list(anomalies[anomalies['anomalies']==1][timestamp_col])\n",
    "        for timestamp in anomalous_timestamps:\n",
    "            if timestamp not in anomalyDict:\n",
    "                anomalyDict[timestamp] = [f'{feature}']\n",
    "            else:\n",
    "                anomalyDict[timestamp].append(f'{feature}')\n",
    "#         print(f'Timeseries for {feature} generated')\n",
    "    print('Timestamp for Anomalous Features\\n')\n",
    "    anomalyDf = pd.DataFrame(anomalyDict.items(), columns=[timestamp_col, 'Anomalous Features'])\n",
    "    anomalyDf.set_index(timestamp_col)\n",
    "    display(anomalyDf)"
   ]
  },
  {
   "cell_type": "markdown",
   "id": "663ca3af-c789-45cc-b19e-f5963231a3e3",
   "metadata": {},
   "source": [
    "## Select A Timestamp To Visualize"
   ]
  },
  {
   "cell_type": "code",
   "execution_count": 10,
   "id": "a8f2cbd6-0673-448f-8890-af1c7863c0e4",
   "metadata": {},
   "outputs": [
    {
     "name": "stdout",
     "output_type": "stream",
     "text": [
      "\n",
      "Select a timestamp to visualize anomalous features \n"
     ]
    },
    {
     "data": {
      "application/vnd.jupyter.widget-view+json": {
       "model_id": "395f7455887a44ecae2b11e52a6939ec",
       "version_major": 2,
       "version_minor": 0
      },
      "text/plain": [
       "Dropdown(description='TimeStamp:', options=(Timestamp('2021-08-09 00:03:03.171821+0000', tz='UTC'), Timestamp(…"
      ]
     },
     "metadata": {},
     "output_type": "display_data"
    }
   ],
   "source": [
    "try:\n",
    "    timestamp_dropdown = widgets.Dropdown(\n",
    "        options=sorted(list(anomalyDf[timestamp_col])),\n",
    "        description='TimeStamp:',\n",
    "        disabled=False,\n",
    "    )\n",
    "    print('\\nSelect a timestamp to visualize anomalous features ')\n",
    "    display(timestamp_dropdown)\n",
    "except NameError:\n",
    "    print(\"Anomaly Dataframe not instantiated yet.\")"
   ]
  },
  {
   "cell_type": "markdown",
   "id": "b6abd251-7b03-475e-ae48-da91ad79a12b",
   "metadata": {},
   "source": [
    "## Visualize Anomalies"
   ]
  },
  {
   "cell_type": "code",
   "execution_count": 13,
   "id": "131ab15a-b138-4bd5-8cd7-2ae49d440244",
   "metadata": {},
   "outputs": [
    {
     "name": "stdout",
     "output_type": "stream",
     "text": [
      "\n",
      "Time Series for OfficeId\n",
      "\n"
     ]
    },
    {
     "data": {
      "text/html": [
       "\n",
       "    <div class=\"bk-root\">\n",
       "        <a href=\"https://bokeh.org\" target=\"_blank\" class=\"bk-logo bk-logo-small bk-logo-notebook\"></a>\n",
       "        <span id=\"1788\">Loading BokehJS ...</span>\n",
       "    </div>"
      ]
     },
     "metadata": {},
     "output_type": "display_data"
    },
    {
     "data": {
      "application/javascript": [
       "\n",
       "(function(root) {\n",
       "  function now() {\n",
       "    return new Date();\n",
       "  }\n",
       "\n",
       "  var force = true;\n",
       "\n",
       "  if (typeof root._bokeh_onload_callbacks === \"undefined\" || force === true) {\n",
       "    root._bokeh_onload_callbacks = [];\n",
       "    root._bokeh_is_loading = undefined;\n",
       "  }\n",
       "\n",
       "  var JS_MIME_TYPE = 'application/javascript';\n",
       "  var HTML_MIME_TYPE = 'text/html';\n",
       "  var EXEC_MIME_TYPE = 'application/vnd.bokehjs_exec.v0+json';\n",
       "  var CLASS_NAME = 'output_bokeh rendered_html';\n",
       "\n",
       "  /**\n",
       "   * Render data to the DOM node\n",
       "   */\n",
       "  function render(props, node) {\n",
       "    var script = document.createElement(\"script\");\n",
       "    node.appendChild(script);\n",
       "  }\n",
       "\n",
       "  /**\n",
       "   * Handle when an output is cleared or removed\n",
       "   */\n",
       "  function handleClearOutput(event, handle) {\n",
       "    var cell = handle.cell;\n",
       "\n",
       "    var id = cell.output_area._bokeh_element_id;\n",
       "    var server_id = cell.output_area._bokeh_server_id;\n",
       "    // Clean up Bokeh references\n",
       "    if (id != null && id in Bokeh.index) {\n",
       "      Bokeh.index[id].model.document.clear();\n",
       "      delete Bokeh.index[id];\n",
       "    }\n",
       "\n",
       "    if (server_id !== undefined) {\n",
       "      // Clean up Bokeh references\n",
       "      var cmd = \"from bokeh.io.state import curstate; print(curstate().uuid_to_server['\" + server_id + \"'].get_sessions()[0].document.roots[0]._id)\";\n",
       "      cell.notebook.kernel.execute(cmd, {\n",
       "        iopub: {\n",
       "          output: function(msg) {\n",
       "            var id = msg.content.text.trim();\n",
       "            if (id in Bokeh.index) {\n",
       "              Bokeh.index[id].model.document.clear();\n",
       "              delete Bokeh.index[id];\n",
       "            }\n",
       "          }\n",
       "        }\n",
       "      });\n",
       "      // Destroy server and session\n",
       "      var cmd = \"import bokeh.io.notebook as ion; ion.destroy_server('\" + server_id + \"')\";\n",
       "      cell.notebook.kernel.execute(cmd);\n",
       "    }\n",
       "  }\n",
       "\n",
       "  /**\n",
       "   * Handle when a new output is added\n",
       "   */\n",
       "  function handleAddOutput(event, handle) {\n",
       "    var output_area = handle.output_area;\n",
       "    var output = handle.output;\n",
       "\n",
       "    // limit handleAddOutput to display_data with EXEC_MIME_TYPE content only\n",
       "    if ((output.output_type != \"display_data\") || (!Object.prototype.hasOwnProperty.call(output.data, EXEC_MIME_TYPE))) {\n",
       "      return\n",
       "    }\n",
       "\n",
       "    var toinsert = output_area.element.find(\".\" + CLASS_NAME.split(' ')[0]);\n",
       "\n",
       "    if (output.metadata[EXEC_MIME_TYPE][\"id\"] !== undefined) {\n",
       "      toinsert[toinsert.length - 1].firstChild.textContent = output.data[JS_MIME_TYPE];\n",
       "      // store reference to embed id on output_area\n",
       "      output_area._bokeh_element_id = output.metadata[EXEC_MIME_TYPE][\"id\"];\n",
       "    }\n",
       "    if (output.metadata[EXEC_MIME_TYPE][\"server_id\"] !== undefined) {\n",
       "      var bk_div = document.createElement(\"div\");\n",
       "      bk_div.innerHTML = output.data[HTML_MIME_TYPE];\n",
       "      var script_attrs = bk_div.children[0].attributes;\n",
       "      for (var i = 0; i < script_attrs.length; i++) {\n",
       "        toinsert[toinsert.length - 1].firstChild.setAttribute(script_attrs[i].name, script_attrs[i].value);\n",
       "        toinsert[toinsert.length - 1].firstChild.textContent = bk_div.children[0].textContent\n",
       "      }\n",
       "      // store reference to server id on output_area\n",
       "      output_area._bokeh_server_id = output.metadata[EXEC_MIME_TYPE][\"server_id\"];\n",
       "    }\n",
       "  }\n",
       "\n",
       "  function register_renderer(events, OutputArea) {\n",
       "\n",
       "    function append_mime(data, metadata, element) {\n",
       "      // create a DOM node to render to\n",
       "      var toinsert = this.create_output_subarea(\n",
       "        metadata,\n",
       "        CLASS_NAME,\n",
       "        EXEC_MIME_TYPE\n",
       "      );\n",
       "      this.keyboard_manager.register_events(toinsert);\n",
       "      // Render to node\n",
       "      var props = {data: data, metadata: metadata[EXEC_MIME_TYPE]};\n",
       "      render(props, toinsert[toinsert.length - 1]);\n",
       "      element.append(toinsert);\n",
       "      return toinsert\n",
       "    }\n",
       "\n",
       "    /* Handle when an output is cleared or removed */\n",
       "    events.on('clear_output.CodeCell', handleClearOutput);\n",
       "    events.on('delete.Cell', handleClearOutput);\n",
       "\n",
       "    /* Handle when a new output is added */\n",
       "    events.on('output_added.OutputArea', handleAddOutput);\n",
       "\n",
       "    /**\n",
       "     * Register the mime type and append_mime function with output_area\n",
       "     */\n",
       "    OutputArea.prototype.register_mime_type(EXEC_MIME_TYPE, append_mime, {\n",
       "      /* Is output safe? */\n",
       "      safe: true,\n",
       "      /* Index of renderer in `output_area.display_order` */\n",
       "      index: 0\n",
       "    });\n",
       "  }\n",
       "\n",
       "  // register the mime type if in Jupyter Notebook environment and previously unregistered\n",
       "  if (root.Jupyter !== undefined) {\n",
       "    var events = require('base/js/events');\n",
       "    var OutputArea = require('notebook/js/outputarea').OutputArea;\n",
       "\n",
       "    if (OutputArea.prototype.mime_types().indexOf(EXEC_MIME_TYPE) == -1) {\n",
       "      register_renderer(events, OutputArea);\n",
       "    }\n",
       "  }\n",
       "\n",
       "  \n",
       "  if (typeof (root._bokeh_timeout) === \"undefined\" || force === true) {\n",
       "    root._bokeh_timeout = Date.now() + 5000;\n",
       "    root._bokeh_failed_load = false;\n",
       "  }\n",
       "\n",
       "  var NB_LOAD_WARNING = {'data': {'text/html':\n",
       "     \"<div style='background-color: #fdd'>\\n\"+\n",
       "     \"<p>\\n\"+\n",
       "     \"BokehJS does not appear to have successfully loaded. If loading BokehJS from CDN, this \\n\"+\n",
       "     \"may be due to a slow or bad network connection. Possible fixes:\\n\"+\n",
       "     \"</p>\\n\"+\n",
       "     \"<ul>\\n\"+\n",
       "     \"<li>re-rerun `output_notebook()` to attempt to load from CDN again, or</li>\\n\"+\n",
       "     \"<li>use INLINE resources instead, as so:</li>\\n\"+\n",
       "     \"</ul>\\n\"+\n",
       "     \"<code>\\n\"+\n",
       "     \"from bokeh.resources import INLINE\\n\"+\n",
       "     \"output_notebook(resources=INLINE)\\n\"+\n",
       "     \"</code>\\n\"+\n",
       "     \"</div>\"}};\n",
       "\n",
       "  function display_loaded() {\n",
       "    var el = document.getElementById(\"1788\");\n",
       "    if (el != null) {\n",
       "      el.textContent = \"BokehJS is loading...\";\n",
       "    }\n",
       "    if (root.Bokeh !== undefined) {\n",
       "      if (el != null) {\n",
       "        el.textContent = \"BokehJS \" + root.Bokeh.version + \" successfully loaded.\";\n",
       "      }\n",
       "    } else if (Date.now() < root._bokeh_timeout) {\n",
       "      setTimeout(display_loaded, 100)\n",
       "    }\n",
       "  }\n",
       "\n",
       "\n",
       "  function run_callbacks() {\n",
       "    try {\n",
       "      root._bokeh_onload_callbacks.forEach(function(callback) {\n",
       "        if (callback != null)\n",
       "          callback();\n",
       "      });\n",
       "    } finally {\n",
       "      delete root._bokeh_onload_callbacks\n",
       "    }\n",
       "    console.debug(\"Bokeh: all callbacks have finished\");\n",
       "  }\n",
       "\n",
       "  function load_libs(css_urls, js_urls, callback) {\n",
       "    if (css_urls == null) css_urls = [];\n",
       "    if (js_urls == null) js_urls = [];\n",
       "\n",
       "    root._bokeh_onload_callbacks.push(callback);\n",
       "    if (root._bokeh_is_loading > 0) {\n",
       "      console.debug(\"Bokeh: BokehJS is being loaded, scheduling callback at\", now());\n",
       "      return null;\n",
       "    }\n",
       "    if (js_urls == null || js_urls.length === 0) {\n",
       "      run_callbacks();\n",
       "      return null;\n",
       "    }\n",
       "    console.debug(\"Bokeh: BokehJS not loaded, scheduling load and callback at\", now());\n",
       "    root._bokeh_is_loading = css_urls.length + js_urls.length;\n",
       "\n",
       "    function on_load() {\n",
       "      root._bokeh_is_loading--;\n",
       "      if (root._bokeh_is_loading === 0) {\n",
       "        console.debug(\"Bokeh: all BokehJS libraries/stylesheets loaded\");\n",
       "        run_callbacks()\n",
       "      }\n",
       "    }\n",
       "\n",
       "    function on_error(url) {\n",
       "      console.error(\"failed to load \" + url);\n",
       "    }\n",
       "\n",
       "    for (let i = 0; i < css_urls.length; i++) {\n",
       "      const url = css_urls[i];\n",
       "      const element = document.createElement(\"link\");\n",
       "      element.onload = on_load;\n",
       "      element.onerror = on_error.bind(null, url);\n",
       "      element.rel = \"stylesheet\";\n",
       "      element.type = \"text/css\";\n",
       "      element.href = url;\n",
       "      console.debug(\"Bokeh: injecting link tag for BokehJS stylesheet: \", url);\n",
       "      document.body.appendChild(element);\n",
       "    }\n",
       "\n",
       "    const hashes = {\"https://cdn.bokeh.org/bokeh/release/bokeh-2.3.3.min.js\": \"dM3QQsP+wXdHg42wTqW85BjZQdLNNIXqlPw/BgKoExPmTG7ZLML4EGqLMfqHT6ON\", \"https://cdn.bokeh.org/bokeh/release/bokeh-tables-2.3.3.min.js\": \"8x57I4YuIfu8XyZfFo0XVr2WAT8EK4rh/uDe3wF7YuW2FNUSNEpJbsPaB1nJ2fz2\", \"https://cdn.bokeh.org/bokeh/release/bokeh-widgets-2.3.3.min.js\": \"3QTqdz9LyAm2i0sG5XTePsHec3UHWwVsrOL68SYRoAXsafvfAyqtQ+h440+qIBhS\"};\n",
       "\n",
       "    for (let i = 0; i < js_urls.length; i++) {\n",
       "      const url = js_urls[i];\n",
       "      const element = document.createElement('script');\n",
       "      element.onload = on_load;\n",
       "      element.onerror = on_error.bind(null, url);\n",
       "      element.async = false;\n",
       "      element.src = url;\n",
       "      if (url in hashes) {\n",
       "        element.crossOrigin = \"anonymous\";\n",
       "        element.integrity = \"sha384-\" + hashes[url];\n",
       "      }\n",
       "      console.debug(\"Bokeh: injecting script tag for BokehJS library: \", url);\n",
       "      document.head.appendChild(element);\n",
       "    }\n",
       "  };\n",
       "\n",
       "  function inject_raw_css(css) {\n",
       "    const element = document.createElement(\"style\");\n",
       "    element.appendChild(document.createTextNode(css));\n",
       "    document.body.appendChild(element);\n",
       "  }\n",
       "\n",
       "  \n",
       "  var js_urls = [\"https://cdn.bokeh.org/bokeh/release/bokeh-2.3.3.min.js\", \"https://cdn.bokeh.org/bokeh/release/bokeh-widgets-2.3.3.min.js\", \"https://cdn.bokeh.org/bokeh/release/bokeh-tables-2.3.3.min.js\"];\n",
       "  var css_urls = [];\n",
       "  \n",
       "\n",
       "  var inline_js = [\n",
       "    function(Bokeh) {\n",
       "      Bokeh.set_log_level(\"info\");\n",
       "    },\n",
       "    function(Bokeh) {\n",
       "    \n",
       "    \n",
       "    }\n",
       "  ];\n",
       "\n",
       "  function run_inline_js() {\n",
       "    \n",
       "    if (root.Bokeh !== undefined || force === true) {\n",
       "      \n",
       "    for (var i = 0; i < inline_js.length; i++) {\n",
       "      inline_js[i].call(root, root.Bokeh);\n",
       "    }\n",
       "    if (force === true) {\n",
       "        display_loaded();\n",
       "      }} else if (Date.now() < root._bokeh_timeout) {\n",
       "      setTimeout(run_inline_js, 100);\n",
       "    } else if (!root._bokeh_failed_load) {\n",
       "      console.log(\"Bokeh: BokehJS failed to load within specified timeout.\");\n",
       "      root._bokeh_failed_load = true;\n",
       "    } else if (force !== true) {\n",
       "      var cell = $(document.getElementById(\"1788\")).parents('.cell').data().cell;\n",
       "      cell.output_area.append_execute_result(NB_LOAD_WARNING)\n",
       "    }\n",
       "\n",
       "  }\n",
       "\n",
       "  if (root._bokeh_is_loading === 0) {\n",
       "    console.debug(\"Bokeh: BokehJS loaded, going straight to plotting\");\n",
       "    run_inline_js();\n",
       "  } else {\n",
       "    load_libs(css_urls, js_urls, function() {\n",
       "      console.debug(\"Bokeh: BokehJS plotting callback run at\", now());\n",
       "      run_inline_js();\n",
       "    });\n",
       "  }\n",
       "}(window));"
      ],
      "application/vnd.bokehjs_load.v0+json": "\n(function(root) {\n  function now() {\n    return new Date();\n  }\n\n  var force = true;\n\n  if (typeof root._bokeh_onload_callbacks === \"undefined\" || force === true) {\n    root._bokeh_onload_callbacks = [];\n    root._bokeh_is_loading = undefined;\n  }\n\n  \n\n  \n  if (typeof (root._bokeh_timeout) === \"undefined\" || force === true) {\n    root._bokeh_timeout = Date.now() + 5000;\n    root._bokeh_failed_load = false;\n  }\n\n  var NB_LOAD_WARNING = {'data': {'text/html':\n     \"<div style='background-color: #fdd'>\\n\"+\n     \"<p>\\n\"+\n     \"BokehJS does not appear to have successfully loaded. If loading BokehJS from CDN, this \\n\"+\n     \"may be due to a slow or bad network connection. Possible fixes:\\n\"+\n     \"</p>\\n\"+\n     \"<ul>\\n\"+\n     \"<li>re-rerun `output_notebook()` to attempt to load from CDN again, or</li>\\n\"+\n     \"<li>use INLINE resources instead, as so:</li>\\n\"+\n     \"</ul>\\n\"+\n     \"<code>\\n\"+\n     \"from bokeh.resources import INLINE\\n\"+\n     \"output_notebook(resources=INLINE)\\n\"+\n     \"</code>\\n\"+\n     \"</div>\"}};\n\n  function display_loaded() {\n    var el = document.getElementById(\"1788\");\n    if (el != null) {\n      el.textContent = \"BokehJS is loading...\";\n    }\n    if (root.Bokeh !== undefined) {\n      if (el != null) {\n        el.textContent = \"BokehJS \" + root.Bokeh.version + \" successfully loaded.\";\n      }\n    } else if (Date.now() < root._bokeh_timeout) {\n      setTimeout(display_loaded, 100)\n    }\n  }\n\n\n  function run_callbacks() {\n    try {\n      root._bokeh_onload_callbacks.forEach(function(callback) {\n        if (callback != null)\n          callback();\n      });\n    } finally {\n      delete root._bokeh_onload_callbacks\n    }\n    console.debug(\"Bokeh: all callbacks have finished\");\n  }\n\n  function load_libs(css_urls, js_urls, callback) {\n    if (css_urls == null) css_urls = [];\n    if (js_urls == null) js_urls = [];\n\n    root._bokeh_onload_callbacks.push(callback);\n    if (root._bokeh_is_loading > 0) {\n      console.debug(\"Bokeh: BokehJS is being loaded, scheduling callback at\", now());\n      return null;\n    }\n    if (js_urls == null || js_urls.length === 0) {\n      run_callbacks();\n      return null;\n    }\n    console.debug(\"Bokeh: BokehJS not loaded, scheduling load and callback at\", now());\n    root._bokeh_is_loading = css_urls.length + js_urls.length;\n\n    function on_load() {\n      root._bokeh_is_loading--;\n      if (root._bokeh_is_loading === 0) {\n        console.debug(\"Bokeh: all BokehJS libraries/stylesheets loaded\");\n        run_callbacks()\n      }\n    }\n\n    function on_error(url) {\n      console.error(\"failed to load \" + url);\n    }\n\n    for (let i = 0; i < css_urls.length; i++) {\n      const url = css_urls[i];\n      const element = document.createElement(\"link\");\n      element.onload = on_load;\n      element.onerror = on_error.bind(null, url);\n      element.rel = \"stylesheet\";\n      element.type = \"text/css\";\n      element.href = url;\n      console.debug(\"Bokeh: injecting link tag for BokehJS stylesheet: \", url);\n      document.body.appendChild(element);\n    }\n\n    const hashes = {\"https://cdn.bokeh.org/bokeh/release/bokeh-2.3.3.min.js\": \"dM3QQsP+wXdHg42wTqW85BjZQdLNNIXqlPw/BgKoExPmTG7ZLML4EGqLMfqHT6ON\", \"https://cdn.bokeh.org/bokeh/release/bokeh-tables-2.3.3.min.js\": \"8x57I4YuIfu8XyZfFo0XVr2WAT8EK4rh/uDe3wF7YuW2FNUSNEpJbsPaB1nJ2fz2\", \"https://cdn.bokeh.org/bokeh/release/bokeh-widgets-2.3.3.min.js\": \"3QTqdz9LyAm2i0sG5XTePsHec3UHWwVsrOL68SYRoAXsafvfAyqtQ+h440+qIBhS\"};\n\n    for (let i = 0; i < js_urls.length; i++) {\n      const url = js_urls[i];\n      const element = document.createElement('script');\n      element.onload = on_load;\n      element.onerror = on_error.bind(null, url);\n      element.async = false;\n      element.src = url;\n      if (url in hashes) {\n        element.crossOrigin = \"anonymous\";\n        element.integrity = \"sha384-\" + hashes[url];\n      }\n      console.debug(\"Bokeh: injecting script tag for BokehJS library: \", url);\n      document.head.appendChild(element);\n    }\n  };\n\n  function inject_raw_css(css) {\n    const element = document.createElement(\"style\");\n    element.appendChild(document.createTextNode(css));\n    document.body.appendChild(element);\n  }\n\n  \n  var js_urls = [\"https://cdn.bokeh.org/bokeh/release/bokeh-2.3.3.min.js\", \"https://cdn.bokeh.org/bokeh/release/bokeh-widgets-2.3.3.min.js\", \"https://cdn.bokeh.org/bokeh/release/bokeh-tables-2.3.3.min.js\"];\n  var css_urls = [];\n  \n\n  var inline_js = [\n    function(Bokeh) {\n      Bokeh.set_log_level(\"info\");\n    },\n    function(Bokeh) {\n    \n    \n    }\n  ];\n\n  function run_inline_js() {\n    \n    if (root.Bokeh !== undefined || force === true) {\n      \n    for (var i = 0; i < inline_js.length; i++) {\n      inline_js[i].call(root, root.Bokeh);\n    }\n    if (force === true) {\n        display_loaded();\n      }} else if (Date.now() < root._bokeh_timeout) {\n      setTimeout(run_inline_js, 100);\n    } else if (!root._bokeh_failed_load) {\n      console.log(\"Bokeh: BokehJS failed to load within specified timeout.\");\n      root._bokeh_failed_load = true;\n    } else if (force !== true) {\n      var cell = $(document.getElementById(\"1788\")).parents('.cell').data().cell;\n      cell.output_area.append_execute_result(NB_LOAD_WARNING)\n    }\n\n  }\n\n  if (root._bokeh_is_loading === 0) {\n    console.debug(\"Bokeh: BokehJS loaded, going straight to plotting\");\n    run_inline_js();\n  } else {\n    load_libs(css_urls, js_urls, function() {\n      console.debug(\"Bokeh: BokehJS plotting callback run at\", now());\n      run_inline_js();\n    });\n  }\n}(window));"
     },
     "metadata": {},
     "output_type": "display_data"
    },
    {
     "data": {
      "text/html": [
       "\n",
       "\n",
       "\n",
       "\n",
       "\n",
       "\n",
       "  <div class=\"bk-root\" id=\"1b77ee29-475b-4661-a34c-6e5ad190ddd3\" data-root-id=\"1939\"></div>\n"
      ]
     },
     "metadata": {},
     "output_type": "display_data"
    },
    {
     "data": {
      "application/javascript": [
       "(function(root) {\n",
       "  function embed_document(root) {\n",
       "    \n",
       "  var docs_json = {\"02e1f906-9943-4570-851c-1283c345df10\":{\"defs\":[],\"roots\":{\"references\":[{\"attributes\":{\"children\":[{\"id\":\"1791\"},{\"id\":\"1909\"}]},\"id\":\"1939\",\"type\":\"Column\"},{\"attributes\":{\"fill_alpha\":{\"value\":0.1},\"fill_color\":{\"value\":\"blue\"},\"line_alpha\":{\"value\":0.1},\"line_color\":{\"value\":\"blue\"},\"x\":{\"field\":\"TimeGenerated\"},\"y\":{\"field\":\"score\"}},\"id\":\"1931\",\"type\":\"Circle\"},{\"attributes\":{\"fill_color\":{\"value\":\"blue\"},\"line_color\":{\"value\":\"blue\"},\"x\":{\"field\":\"TimeGenerated\"},\"y\":{\"field\":\"score\"}},\"id\":\"1930\",\"type\":\"Circle\"},{\"attributes\":{\"mantissas\":[1,2,5],\"max_interval\":500.0,\"num_minor_ticks\":0},\"id\":\"1837\",\"type\":\"AdaptiveTicker\"},{\"attributes\":{\"base\":60,\"mantissas\":[1,2,5,10,15,20,30],\"max_interval\":1800000.0,\"min_interval\":1000.0,\"num_minor_ticks\":0},\"id\":\"1838\",\"type\":\"AdaptiveTicker\"},{\"attributes\":{\"base\":24,\"mantissas\":[1,2,4,6,8,12],\"max_interval\":43200000.0,\"min_interval\":3600000.0,\"num_minor_ticks\":0},\"id\":\"1839\",\"type\":\"AdaptiveTicker\"},{\"attributes\":{},\"id\":\"1848\",\"type\":\"YearsTicker\"},{\"attributes\":{\"months\":[0,1,2,3,4,5,6,7,8,9,10,11]},\"id\":\"1844\",\"type\":\"MonthsTicker\"},{\"attributes\":{\"data_source\":{\"id\":\"1789\"},\"glyph\":{\"id\":\"1855\"},\"hover_glyph\":null,\"muted_glyph\":null,\"nonselection_glyph\":{\"id\":\"1856\"},\"view\":{\"id\":\"1858\"}},\"id\":\"1857\",\"type\":\"GlyphRenderer\"},{\"attributes\":{\"days\":[1,15]},\"id\":\"1843\",\"type\":\"DaysTicker\"},{\"attributes\":{\"days\":[1,2,3,4,5,6,7,8,9,10,11,12,13,14,15,16,17,18,19,20,21,22,23,24,25,26,27,28,29,30,31]},\"id\":\"1840\",\"type\":\"DaysTicker\"},{\"attributes\":{\"days\":[1,4,7,10,13,16,19,22,25,28]},\"id\":\"1841\",\"type\":\"DaysTicker\"},{\"attributes\":{\"label\":{\"value\":\"baseline\"},\"renderers\":[{\"id\":\"1857\"}]},\"id\":\"1879\",\"type\":\"LegendItem\"},{\"attributes\":{\"days\":[1,8,15,22]},\"id\":\"1842\",\"type\":\"DaysTicker\"},{\"attributes\":{\"months\":[0,6]},\"id\":\"1847\",\"type\":\"MonthsTicker\"},{\"attributes\":{\"months\":[0,2,4,6,8,10]},\"id\":\"1845\",\"type\":\"MonthsTicker\"},{\"attributes\":{\"line_alpha\":0.1,\"line_color\":\"green\",\"x\":{\"field\":\"TimeGenerated\"},\"y\":{\"field\":\"baseline\"}},\"id\":\"1856\",\"type\":\"Line\"},{\"attributes\":{\"source\":{\"id\":\"1928\"}},\"id\":\"1933\",\"type\":\"CDSView\"},{\"attributes\":{},\"id\":\"1914\",\"type\":\"DataRange1d\"},{\"attributes\":{\"source\":{\"id\":\"1880\"}},\"id\":\"1885\",\"type\":\"CDSView\"},{\"attributes\":{\"months\":[0,4,8]},\"id\":\"1846\",\"type\":\"MonthsTicker\"},{\"attributes\":{\"line_color\":\"green\",\"x\":{\"field\":\"TimeGenerated\"},\"y\":{\"field\":\"baseline\"}},\"id\":\"1855\",\"type\":\"Line\"},{\"attributes\":{\"source\":{\"id\":\"1789\"}},\"id\":\"1858\",\"type\":\"CDSView\"},{\"attributes\":{\"callback\":null,\"formatters\":{\"@TimeGenerated\":\"datetime\"},\"tooltips\":[[\"TimeGenerated\",\"@TimeGenerated{%F %T.%3N}\"],[\"OfficeId\",\"@OfficeId\"],[\"residual\",\"@residual\"],[\"trend\",\"@trend\"],[\"seasonal\",\"@seasonal\"],[\"weights\",\"@weights\"],[\"score\",\"@score\"],[\"baseline\",\"@baseline\"]]},\"id\":\"1790\",\"type\":\"HoverTool\"},{\"attributes\":{},\"id\":\"1916\",\"type\":\"LinearScale\"},{\"attributes\":{\"data_source\":{\"id\":\"1928\"},\"glyph\":{\"id\":\"1930\"},\"hover_glyph\":null,\"muted_glyph\":null,\"nonselection_glyph\":{\"id\":\"1931\"},\"view\":{\"id\":\"1933\"}},\"id\":\"1932\",\"type\":\"GlyphRenderer\"},{\"attributes\":{\"overlay\":{\"id\":\"1935\"},\"x_range\":{\"id\":\"1794\"},\"y_range\":null},\"id\":\"1934\",\"type\":\"RangeTool\"},{\"attributes\":{},\"id\":\"1850\",\"type\":\"UnionRenderers\"},{\"attributes\":{\"fill_alpha\":0.2,\"fill_color\":\"navy\",\"level\":\"overlay\",\"line_alpha\":1.0,\"line_color\":\"black\",\"line_dash\":[2,2],\"line_width\":0.5,\"syncable\":false},\"id\":\"1935\",\"type\":\"BoxAnnotation\"},{\"attributes\":{\"data\":{\"OfficeId\":[81,125,85],\"TimeGenerated\":{\"__ndarray__\":\"Iz0IUcGyd0IjPfi1erN3QiM9cGjXs3dC\",\"dtype\":\"float64\",\"order\":\"little\",\"shape\":[3]},\"baseline\":[32,46,33],\"index\":[25,79,106],\"level_0\":[0,1,2],\"residual\":[48,78,51],\"score\":{\"__ndarray__\":\"1VUW2QU0C0B+HjrFBiUWQIyGbARt6QxA\",\"dtype\":\"float64\",\"order\":\"little\",\"shape\":[3]},\"seasonal\":[17,27,19],\"trend\":[14,19,14],\"weights\":[1,1,1]},\"selected\":{\"id\":\"1907\"},\"selection_policy\":{\"id\":\"1906\"}},\"id\":\"1880\",\"type\":\"ColumnDataSource\"},{\"attributes\":{},\"id\":\"1851\",\"type\":\"Selection\"},{\"attributes\":{\"fill_alpha\":{\"value\":0.2},\"fill_color\":{\"value\":\"firebrick\"},\"line_color\":{\"value\":\"firebrick\"},\"marker\":{\"value\":\"circle_x\"},\"size\":{\"value\":12},\"x\":{\"field\":\"TimeGenerated\"},\"y\":{\"field\":\"OfficeId\"}},\"id\":\"1882\",\"type\":\"Scatter\"},{\"attributes\":{\"text\":\"Range Selector\"},\"id\":\"1910\",\"type\":\"Title\"},{\"attributes\":{\"data_source\":{\"id\":\"1880\"},\"glyph\":{\"id\":\"1882\"},\"hover_glyph\":null,\"muted_glyph\":null,\"nonselection_glyph\":{\"id\":\"1883\"},\"view\":{\"id\":\"1885\"}},\"id\":\"1884\",\"type\":\"GlyphRenderer\"},{\"attributes\":{\"formatter\":{\"id\":\"1926\"},\"major_label_policy\":{\"id\":\"1947\"},\"ticker\":{\"id\":\"1921\"}},\"id\":\"1920\",\"type\":\"DatetimeAxis\"},{\"attributes\":{\"fill_alpha\":{\"value\":0.1},\"fill_color\":{\"value\":\"firebrick\"},\"line_alpha\":{\"value\":0.1},\"line_color\":{\"value\":\"firebrick\"},\"marker\":{\"value\":\"circle_x\"},\"size\":{\"value\":12},\"x\":{\"field\":\"TimeGenerated\"},\"y\":{\"field\":\"OfficeId\"}},\"id\":\"1883\",\"type\":\"Scatter\"},{\"attributes\":{\"num_minor_ticks\":5,\"tickers\":[{\"id\":\"1965\"},{\"id\":\"1966\"},{\"id\":\"1967\"},{\"id\":\"1968\"},{\"id\":\"1969\"},{\"id\":\"1970\"},{\"id\":\"1971\"},{\"id\":\"1972\"},{\"id\":\"1973\"},{\"id\":\"1974\"},{\"id\":\"1975\"},{\"id\":\"1976\"}]},\"id\":\"1921\",\"type\":\"DatetimeTicker\"},{\"attributes\":{\"days\":[\"%m-%d %H:%M\"],\"hours\":[\"%H:%M:%S\"],\"milliseconds\":[\"%H:%M:%S.%3N\"],\"minutes\":[\"%H:%M:%S\"],\"seconds\":[\"%H:%M:%S\"]},\"id\":\"1926\",\"type\":\"DatetimeTickFormatter\"},{\"attributes\":{\"align\":\"right\",\"text\":\"Drag the middle or edges of the selection box to change the range in the main chart\",\"text_font_size\":\"10px\"},\"id\":\"1925\",\"type\":\"Title\"},{\"attributes\":{\"below\":[{\"id\":\"1920\"},{\"id\":\"1925\"}],\"center\":[{\"id\":\"1923\"}],\"height\":120,\"renderers\":[{\"id\":\"1932\"}],\"title\":{\"id\":\"1910\"},\"toolbar\":{\"id\":\"1924\"},\"toolbar_location\":null,\"width\":1200,\"x_range\":{\"id\":\"1912\"},\"x_scale\":{\"id\":\"1916\"},\"y_range\":{\"id\":\"1914\"},\"y_scale\":{\"id\":\"1918\"}},\"id\":\"1909\",\"subtype\":\"Figure\",\"type\":\"Plot\"},{\"attributes\":{\"data\":{\"OfficeId\":[9,7,20,8,6,3,6,96,6,6,11,8,7,15,5,6,6,5,7,9,18,15,7,6,5,81,20,9,5,6,5,5,15,5,9,6,11,74,34,26,15,9,14,16,26,7,11,26,13,16,28,20,18,12,19,19,2,10,9,9,10,8,70,7,5,7,8,24,7,11,66,6,3,9,22,9,7,11,40,125,55,6,11,8,6,8,22,10,8,10,9,16,23,7,7,4,5,8,51,7,11,10,13,7,20,8,85,5,3,21,12,13,7,7,9,11,20,26,7,5,0,0,0,0,0,0,0,0,0,0,0,0,0,0,0,0,0,0,0,0,0,0,0,0],\"TimeGenerated\":{\"__ndarray__\":\"Iz1gfGuyd0IjPUjrbrJ3QiM9MFpysndCIz0YyXWyd0IjPQA4ebJ3QiM96KZ8sndCIz3QFYCyd0IjPbiEg7J3QiM9oPOGsndCIz2IYoqyd0IjPXDRjbJ3QiM9WECRsndCIz1Ar5Syd0IjPSgemLJ3QiM9EI2bsndCIz34+56yd0IjPeBqorJ3QiM9yNmlsndCIz2wSKmyd0IjPZi3rLJ3QiM9gCawsndCIz1olbOyd0IjPVAEt7J3QiM9OHO6sndCIz0g4r2yd0IjPQhRwbJ3QiM98L/EsndCIz3YLsiyd0IjPcCdy7J3QiM9qAzPsndCIz2Qe9Kyd0IjPXjq1bJ3QiM9YFnZsndCIz1IyNyyd0IjPTA34LJ3QiM9GKbjsndCIz0AFeeyd0IjPeiD6rJ3QiM90PLtsndCIz24YfGyd0IjPaDQ9LJ3QiM9iD/4sndCIz1wrvuyd0IjPVgd/7J3QiM9QIwCs3dCIz0o+wWzd0IjPRBqCbN3QiM9+NgMs3dCIz3gRxCzd0IjPci2E7N3QiM9sCUXs3dCIz2YlBqzd0IjPYADHrN3QiM9aHIhs3dCIz1Q4SSzd0IjPThQKLN3QiM9IL8rs3dCIz0ILi+zd0IjPfCcMrN3QiM92As2s3dCIz3Aejmzd0IjPajpPLN3QiM9kFhAs3dCIz14x0Ozd0IjPWA2R7N3QiM9SKVKs3dCIz0wFE6zd0IjPRiDUbN3QiM9APJUs3dCIz3oYFizd0IjPdDPW7N3QiM9uD5fs3dCIz2grWKzd0IjPYgcZrN3QiM9cItps3dCIz1Y+myzd0IjPUBpcLN3QiM9KNhzs3dCIz0QR3ezd0IjPfi1erN3QiM94CR+s3dCIz3Ik4Gzd0IjPbAChbN3QiM9mHGIs3dCIz2A4Iuzd0IjPWhPj7N3QiM9UL6Ss3dCIz04LZazd0IjPSCcmbN3QiM9CAuds3dCIz3weaCzd0IjPdjoo7N3QiM9wFens3dCIz2oxqqzd0IjPZA1rrN3QiM9eKSxs3dCIz1gE7Wzd0IjPUiCuLN3QiM9MPG7s3dCIz0YYL+zd0IjPQDPwrN3QiM96D3Gs3dCIz3QrMmzd0IjPbgbzbN3QiM9oIrQs3dCIz2I+dOzd0IjPXBo17N3QiM9WNfas3dCIz1ARt6zd0IjPSi14bN3QiM9ECTls3dCIz34kuizd0IjPeAB7LN3QiM9yHDvs3dCIz2w3/Kzd0IjPZhO9rN3QiM9gL35s3dCIz1oLP2zd0IjPVCbALR3QiM9OAoEtHdCIz0geQe0d0IjPQjoCrR3QiM98FYOtHdCIz3YxRG0d0IjPcA0FbR3QiM9qKMYtHdCIz2QEhy0d0IjPXiBH7R3QiM9YPAitHdCIz1IXya0d0IjPTDOKbR3QiM9GD0ttHdCIz0ArDC0d0IjPegaNLR3QiM90Ik3tHdCIz24+Dq0d0IjPaBnPrR3QiM9iNZBtHdCIz1wRUW0d0IjPVi0SLR3QiM9QCNMtHdCIz0okk+0d0IjPRABU7R3QiM9+G9WtHdC\",\"dtype\":\"float64\",\"order\":\"little\",\"shape\":[144]},\"anomalies\":[0,0,0,0,0,0,0,0,0,0,0,0,0,0,0,0,0,0,0,0,0,0,0,0,0,1,0,0,0,0,0,0,0,0,0,0,0,0,0,0,0,0,0,0,0,0,0,0,0,0,0,0,0,0,0,0,0,0,0,0,0,0,0,0,0,0,0,0,0,0,0,0,0,0,0,0,0,0,0,1,0,0,0,0,0,0,0,0,0,0,0,0,0,0,0,0,0,0,0,0,0,0,0,0,0,0,1,0,0,0,0,0,0,0,0,0,0,0,0,0,0,0,0,0,0,0,0,0,0,0,0,0,0,0,0,0,0,0,0,0,0,0,0,0],\"baseline\":[8,35,17,8,5,2,1,56,2,4,4,6,7,36,17,11,7,4,7,10,17,9,11,11,8,32,22,11,8,7,12,54,13,8,12,9,10,33,30,14,10,8,10,15,19,11,21,12,7,29,26,12,10,9,18,48,20,6,16,7,7,26,36,13,9,9,11,19,20,13,28,13,9,20,32,14,13,13,24,46,26,10,31,10,9,20,34,14,10,10,11,18,19,15,24,9,5,8,25,8,8,9,16,32,21,8,33,7,6,13,18,10,7,8,8,11,14,13,11,5,-2,-5,13,-2,0,0,1,5,6,-2,27,-3,-4,-1,-7,0,-2,-2,-1,-1,3,5,-7,-3],\"index\":[0,1,2,3,4,5,6,7,8,9,10,11,12,13,14,15,16,17,18,19,20,21,22,23,24,25,26,27,28,29,30,31,32,33,34,35,36,37,38,39,40,41,42,43,44,45,46,47,48,49,50,51,52,53,54,55,56,57,58,59,60,61,62,63,64,65,66,67,68,69,70,71,72,73,74,75,76,77,78,79,80,81,82,83,84,85,86,87,88,89,90,91,92,93,94,95,96,97,98,99,100,101,102,103,104,105,106,107,108,109,110,111,112,113,114,115,116,117,118,119,120,121,122,123,124,125,126,127,128,129,130,131,132,133,134,135,136,137,138,139,140,141,142,143],\"residual\":[0,-28,2,0,0,0,4,39,3,1,6,1,0,-21,-12,-5,-1,0,0,-1,0,5,-4,-5,-3,48,-2,-2,-3,-1,-7,-49,1,-3,-3,-3,0,40,3,11,4,0,3,0,6,-4,-10,13,5,-13,1,7,7,2,0,-29,-18,3,-7,1,2,-18,33,-6,-4,-2,-3,4,-13,-2,37,-7,-6,-11,-10,-5,-6,-2,15,78,28,-4,-20,-2,-3,-12,-12,-4,-2,0,-2,-2,3,-8,-17,-5,0,0,25,-1,2,0,-3,-25,-1,0,51,-2,-3,7,-6,2,0,-1,0,0,5,12,-4,0,2,5,-13,2,0,0,-1,-5,-6,2,-27,3,4,1,7,0,2,2,1,1,-3,-5,7,3],\"score\":{\"__ndarray__\":\"Uc5aJm42kb9KfMZw2hQAwNetdgnUEsA/Uc5aJm42kb9RzlombjaRv1HOWiZuNpG/vFrc6zom0T+vwxNX0BMGQKixl/CkL8k/GqhWiQzYqz+NXv3SC0PaPxqoVokM2Ks/Uc5aJm42kb89FVAXfjD4v+ThlSYm4Ou/bjY4JHHb1782u9hXPYe2v1HOWiZuNpG/Uc5aJm42kb82u9hXPYe2v1HOWiZuNpG/pdxsX6O01T+GtKewCE3Tv242OCRx29e/PGUuekB9zb/VVRbZBTQLQGxhDZNvYMS/bGENk29gxL88ZS56QH3Nvza72Fc9h7a/H52sBSF84L9M0SGgrAoMwBqoVokM2Ks/PGUuekB9zb88ZS56QH3NvzxlLnpAfc2/Uc5aJm42kb/t04VlnaUGQKixl/CkL8k/DPRnCouF6D+8WtzrOibRP1HOWiZuNpG/qLGX8KQvyT9RzlombjaRv41e/dILQ9o/hrSnsAhN07/8XwWzvVHnv/R1+H3zE+0/pdxsX6O01T/YIl5gWifuvxqoVokM2Ks/duCNRnTR3j924I1GdNHeP9etdgnUEsA/Uc5aJm42kb+HjDh/p6YAwM+zo8CvxfS/qLGX8KQvyT8fnawFIXzgvxqoVokM2Ks/1612CdQSwD/Ps6PAr8X0v0FiZwACqQJAV7jIl9lp3L+GtKewCE3Tv2xhDZNvYMS/PGUuekB9zb+8WtzrOibRP9giXmBaJ+6/bGENk29gxL81oy86NvAEQB+drAUhfOC/V7jIl9lp3L/woM3s8Zjpv/xfBbO9Uee/bjY4JHHb179XuMiX2Wncv2xhDZNvYMS/7nvE+C3R8D9+HjrFBiUWQCEiWnABoP8/hrSnsAhN07/D9Gv64wz3v2xhDZNvYMS/PGUuekB9zb/k4ZUmJuDrv+ThlSYm4Ou/hrSnsAhN079sYQ2Tb2DEv1HOWiZuNpG/bGENk29gxL9sYQ2Tb2DEv6ixl/CkL8k/FN50P1XD4r9Vk7+jFaLzv242OCRx29e/Uc5aJm42kb9RzlombjaRv7PArRkzNfw/NrvYVz2Htr/XrXYJ1BLAP1HOWiZuNpG/PGUuekB9zb8ll+CK5r78vza72Fc9h7a/Uc5aJm42kb+MhmwEbekMQGxhDZNvYMS/PGUuekB9zb924I1GdNHeP1e4yJfZady/1612CdQSwD9RzlombjaRvza72Fc9h7a/Uc5aJm42kb9RzlombjaRv6XcbF+jtNU/ADUwRL/M6j+GtKewCE3Tv1HOWiZuNpG/1612CdQSwD+l3Gxfo7TVP9giXmBaJ+6/1612CdQSwD9RzlombjaRv1HOWiZuNpG/NrvYVz2Htr9uNjgkcdvXv1e4yJfZady/1612CdQSwD8Z2KjEGgb/v6ixl/CkL8k/vFrc6zom0T8aqFaJDNirP3bgjUZ00d4/Uc5aJm42kb/XrXYJ1BLAP9etdgnUEsA/GqhWiQzYqz8aqFaJDNirPzxlLnpAfc2/bjY4JHHb17924I1GdNHeP6ixl/CkL8k/\",\"dtype\":\"float64\",\"order\":\"little\",\"shape\":[144]},\"seasonal\":[-2,24,6,-2,-6,-8,-10,44,-9,-7,-8,-6,-5,23,4,-1,-5,-8,-5,-3,4,-3,-2,-1,-6,17,7,-3,-6,-8,-3,38,-3,-8,-4,-7,-6,15,13,-3,-7,-8,-6,-1,2,-5,4,-4,-9,12,9,-4,-6,-7,2,32,4,-9,0,-9,-8,10,19,-3,-8,-8,-7,0,1,-5,8,-6,-10,0,12,-5,-6,-6,4,27,7,-8,12,-8,-8,2,16,-3,-7,-6,-5,1,2,-1,8,-6,-10,-7,10,-6,-5,-5,2,18,6,-6,19,-6,-6,0,5,-1,-3,-2,-1,1,5,4,3,-2,-9,-12,8,-7,-5,-4,-1,3,4,-3,26,-3,-4,0,-5,1,0,1,2,2,8,10,-1,3],\"trend\":[10,11,11,11,11,11,11,11,12,12,12,12,12,12,13,13,13,13,13,13,13,13,13,13,14,14,14,15,15,15,16,16,16,16,17,17,17,17,17,17,17,17,17,17,17,17,17,17,17,17,17,17,17,16,16,16,16,16,16,16,16,16,17,17,17,18,18,18,19,19,19,19,20,20,20,20,20,19,19,19,19,19,19,18,18,18,18,18,17,17,17,17,16,16,16,15,15,15,14,14,14,14,14,14,14,14,14,13,13,13,12,12,11,11,10,10,9,8,8,7,6,6,5,5,4,3,3,2,2,1,0,0,0,0,-1,-2,-2,-3,-3,-4,-5,-5,-6,-6],\"weights\":[1,1,1,1,1,1,1,1,1,1,1,1,1,1,1,1,1,1,1,1,1,1,1,1,1,1,1,1,1,1,1,1,1,1,1,1,1,1,1,1,1,1,1,1,1,1,1,1,1,1,1,1,1,1,1,1,1,1,1,1,1,1,1,1,1,1,1,1,1,1,1,1,1,1,1,1,1,1,1,1,1,1,1,1,1,1,1,1,1,1,1,1,1,1,1,1,1,1,1,1,1,1,1,1,1,1,1,1,1,1,1,1,1,1,1,1,1,1,1,1,1,1,1,1,1,1,1,1,1,1,1,1,1,1,1,1,1,1,1,1,1,1,1,1]},\"selected\":{\"id\":\"1979\"},\"selection_policy\":{\"id\":\"1978\"}},\"id\":\"1928\",\"type\":\"ColumnDataSource\"},{\"attributes\":{},\"id\":\"1906\",\"type\":\"UnionRenderers\"},{\"attributes\":{},\"id\":\"1907\",\"type\":\"Selection\"},{\"attributes\":{\"fill_color\":{\"value\":\"#1f77b4\"},\"line_color\":{\"value\":\"navy\"},\"x\":{\"field\":\"TimeGenerated\"},\"y\":{\"field\":\"OfficeId\"}},\"id\":\"1828\",\"type\":\"Circle\"},{\"attributes\":{\"end\":1629034203171.821,\"start\":1628364963171.821},\"id\":\"1912\",\"type\":\"Range1d\"},{\"attributes\":{},\"id\":\"1918\",\"type\":\"LinearScale\"},{\"attributes\":{\"label\":{\"value\":\"anomalies\"},\"renderers\":[{\"id\":\"1884\"}]},\"id\":\"1908\",\"type\":\"LegendItem\"},{\"attributes\":{\"overlay\":{\"id\":\"1815\"}},\"id\":\"1811\",\"type\":\"BoxZoomTool\"},{\"attributes\":{\"axis\":{\"id\":\"1920\"},\"ticker\":null},\"id\":\"1923\",\"type\":\"Grid\"},{\"attributes\":{\"axis\":{\"id\":\"1806\"},\"dimension\":1,\"grid_line_color\":null,\"ticker\":null},\"id\":\"1809\",\"type\":\"Grid\"},{\"attributes\":{},\"id\":\"1813\",\"type\":\"SaveTool\"},{\"attributes\":{\"active_multi\":{\"id\":\"1934\"},\"tools\":[{\"id\":\"1934\"}]},\"id\":\"1924\",\"type\":\"Toolbar\"},{\"attributes\":{\"dimensions\":\"width\"},\"id\":\"1810\",\"type\":\"WheelZoomTool\"},{\"attributes\":{},\"id\":\"1812\",\"type\":\"ResetTool\"},{\"attributes\":{\"dimensions\":\"width\"},\"id\":\"1814\",\"type\":\"PanTool\"},{\"attributes\":{\"click_policy\":\"hide\",\"items\":[{\"id\":\"1853\"},{\"id\":\"1879\"},{\"id\":\"1908\"}],\"location\":\"top_left\"},\"id\":\"1852\",\"type\":\"Legend\"},{\"attributes\":{\"axis_label\":\"TimeGenerated\",\"formatter\":{\"id\":\"1823\"},\"major_label_policy\":{\"id\":\"1834\"},\"ticker\":{\"id\":\"1803\"}},\"id\":\"1802\",\"type\":\"DatetimeAxis\"},{\"attributes\":{},\"id\":\"1807\",\"type\":\"BasicTicker\"},{\"attributes\":{\"label\":{\"value\":\"observed\"},\"renderers\":[{\"id\":\"1830\"}]},\"id\":\"1853\",\"type\":\"LegendItem\"},{\"attributes\":{\"fill_alpha\":{\"value\":0.1},\"fill_color\":{\"value\":\"#1f77b4\"},\"line_alpha\":{\"value\":0.1},\"line_color\":{\"value\":\"navy\"},\"x\":{\"field\":\"TimeGenerated\"},\"y\":{\"field\":\"OfficeId\"}},\"id\":\"1829\",\"type\":\"Circle\"},{\"attributes\":{\"months\":[0,4,8]},\"id\":\"1974\",\"type\":\"MonthsTicker\"},{\"attributes\":{\"data_source\":{\"id\":\"1789\"},\"glyph\":{\"id\":\"1828\"},\"hover_glyph\":null,\"muted_glyph\":null,\"nonselection_glyph\":{\"id\":\"1829\"},\"view\":{\"id\":\"1831\"}},\"id\":\"1830\",\"type\":\"GlyphRenderer\"},{\"attributes\":{\"months\":[0,2,4,6,8,10]},\"id\":\"1973\",\"type\":\"MonthsTicker\"},{\"attributes\":{\"source\":{\"id\":\"1789\"}},\"id\":\"1831\",\"type\":\"CDSView\"},{\"attributes\":{\"days\":[1,4,7,10,13,16,19,22,25,28]},\"id\":\"1969\",\"type\":\"DaysTicker\"},{\"attributes\":{\"days\":[1,2,3,4,5,6,7,8,9,10,11,12,13,14,15,16,17,18,19,20,21,22,23,24,25,26,27,28,29,30,31]},\"id\":\"1968\",\"type\":\"DaysTicker\"},{\"attributes\":{\"days\":[1,15]},\"id\":\"1971\",\"type\":\"DaysTicker\"},{\"attributes\":{\"days\":[1,8,15,22]},\"id\":\"1970\",\"type\":\"DaysTicker\"},{\"attributes\":{\"base\":24,\"mantissas\":[1,2,4,6,8,12],\"max_interval\":43200000.0,\"min_interval\":3600000.0,\"num_minor_ticks\":0},\"id\":\"1967\",\"type\":\"AdaptiveTicker\"},{\"attributes\":{\"base\":60,\"mantissas\":[1,2,5,10,15,20,30],\"max_interval\":1800000.0,\"min_interval\":1000.0,\"num_minor_ticks\":0},\"id\":\"1966\",\"type\":\"AdaptiveTicker\"},{\"attributes\":{\"active_multi\":null,\"tools\":[{\"id\":\"1790\"},{\"id\":\"1810\"},{\"id\":\"1811\"},{\"id\":\"1812\"},{\"id\":\"1813\"},{\"id\":\"1814\"}]},\"id\":\"1816\",\"type\":\"Toolbar\"},{\"attributes\":{\"axis_label\":\"OfficeId\",\"formatter\":{\"id\":\"1825\"},\"major_label_policy\":{\"id\":\"1836\"},\"ticker\":{\"id\":\"1807\"}},\"id\":\"1806\",\"type\":\"LinearAxis\"},{\"attributes\":{},\"id\":\"1976\",\"type\":\"YearsTicker\"},{\"attributes\":{\"months\":[0,1,2,3,4,5,6,7,8,9,10,11]},\"id\":\"1972\",\"type\":\"MonthsTicker\"},{\"attributes\":{\"months\":[0,6]},\"id\":\"1975\",\"type\":\"MonthsTicker\"},{\"attributes\":{},\"id\":\"1798\",\"type\":\"LinearScale\"},{\"attributes\":{\"axis\":{\"id\":\"1802\"},\"grid_line_color\":null,\"ticker\":null},\"id\":\"1805\",\"type\":\"Grid\"},{\"attributes\":{\"num_minor_ticks\":10,\"tickers\":[{\"id\":\"1837\"},{\"id\":\"1838\"},{\"id\":\"1839\"},{\"id\":\"1840\"},{\"id\":\"1841\"},{\"id\":\"1842\"},{\"id\":\"1843\"},{\"id\":\"1844\"},{\"id\":\"1845\"},{\"id\":\"1846\"},{\"id\":\"1847\"},{\"id\":\"1848\"}]},\"id\":\"1803\",\"type\":\"DatetimeTicker\"},{\"attributes\":{\"data\":{\"OfficeId\":[9,7,20,8,6,3,6,96,6,6,11,8,7,15,5,6,6,5,7,9,18,15,7,6,5,81,20,9,5,6,5,5,15,5,9,6,11,74,34,26,15,9,14,16,26,7,11,26,13,16,28,20,18,12,19,19,2,10,9,9,10,8,70,7,5,7,8,24,7,11,66,6,3,9,22,9,7,11,40,125,55,6,11,8,6,8,22,10,8,10,9,16,23,7,7,4,5,8,51,7,11,10,13,7,20,8,85,5,3,21,12,13,7,7,9,11,20,26,7,5,0,0,0,0,0,0,0,0,0,0,0,0,0,0,0,0,0,0,0,0,0,0,0,0],\"TimeGenerated\":{\"__ndarray__\":\"Iz1gfGuyd0IjPUjrbrJ3QiM9MFpysndCIz0YyXWyd0IjPQA4ebJ3QiM96KZ8sndCIz3QFYCyd0IjPbiEg7J3QiM9oPOGsndCIz2IYoqyd0IjPXDRjbJ3QiM9WECRsndCIz1Ar5Syd0IjPSgemLJ3QiM9EI2bsndCIz34+56yd0IjPeBqorJ3QiM9yNmlsndCIz2wSKmyd0IjPZi3rLJ3QiM9gCawsndCIz1olbOyd0IjPVAEt7J3QiM9OHO6sndCIz0g4r2yd0IjPQhRwbJ3QiM98L/EsndCIz3YLsiyd0IjPcCdy7J3QiM9qAzPsndCIz2Qe9Kyd0IjPXjq1bJ3QiM9YFnZsndCIz1IyNyyd0IjPTA34LJ3QiM9GKbjsndCIz0AFeeyd0IjPeiD6rJ3QiM90PLtsndCIz24YfGyd0IjPaDQ9LJ3QiM9iD/4sndCIz1wrvuyd0IjPVgd/7J3QiM9QIwCs3dCIz0o+wWzd0IjPRBqCbN3QiM9+NgMs3dCIz3gRxCzd0IjPci2E7N3QiM9sCUXs3dCIz2YlBqzd0IjPYADHrN3QiM9aHIhs3dCIz1Q4SSzd0IjPThQKLN3QiM9IL8rs3dCIz0ILi+zd0IjPfCcMrN3QiM92As2s3dCIz3Aejmzd0IjPajpPLN3QiM9kFhAs3dCIz14x0Ozd0IjPWA2R7N3QiM9SKVKs3dCIz0wFE6zd0IjPRiDUbN3QiM9APJUs3dCIz3oYFizd0IjPdDPW7N3QiM9uD5fs3dCIz2grWKzd0IjPYgcZrN3QiM9cItps3dCIz1Y+myzd0IjPUBpcLN3QiM9KNhzs3dCIz0QR3ezd0IjPfi1erN3QiM94CR+s3dCIz3Ik4Gzd0IjPbAChbN3QiM9mHGIs3dCIz2A4Iuzd0IjPWhPj7N3QiM9UL6Ss3dCIz04LZazd0IjPSCcmbN3QiM9CAuds3dCIz3weaCzd0IjPdjoo7N3QiM9wFens3dCIz2oxqqzd0IjPZA1rrN3QiM9eKSxs3dCIz1gE7Wzd0IjPUiCuLN3QiM9MPG7s3dCIz0YYL+zd0IjPQDPwrN3QiM96D3Gs3dCIz3QrMmzd0IjPbgbzbN3QiM9oIrQs3dCIz2I+dOzd0IjPXBo17N3QiM9WNfas3dCIz1ARt6zd0IjPSi14bN3QiM9ECTls3dCIz34kuizd0IjPeAB7LN3QiM9yHDvs3dCIz2w3/Kzd0IjPZhO9rN3QiM9gL35s3dCIz1oLP2zd0IjPVCbALR3QiM9OAoEtHdCIz0geQe0d0IjPQjoCrR3QiM98FYOtHdCIz3YxRG0d0IjPcA0FbR3QiM9qKMYtHdCIz2QEhy0d0IjPXiBH7R3QiM9YPAitHdCIz1IXya0d0IjPTDOKbR3QiM9GD0ttHdCIz0ArDC0d0IjPegaNLR3QiM90Ik3tHdCIz24+Dq0d0IjPaBnPrR3QiM9iNZBtHdCIz1wRUW0d0IjPVi0SLR3QiM9QCNMtHdCIz0okk+0d0IjPRABU7R3QiM9+G9WtHdC\",\"dtype\":\"float64\",\"order\":\"little\",\"shape\":[144]},\"anomalies\":[0,0,0,0,0,0,0,0,0,0,0,0,0,0,0,0,0,0,0,0,0,0,0,0,0,1,0,0,0,0,0,0,0,0,0,0,0,0,0,0,0,0,0,0,0,0,0,0,0,0,0,0,0,0,0,0,0,0,0,0,0,0,0,0,0,0,0,0,0,0,0,0,0,0,0,0,0,0,0,1,0,0,0,0,0,0,0,0,0,0,0,0,0,0,0,0,0,0,0,0,0,0,0,0,0,0,1,0,0,0,0,0,0,0,0,0,0,0,0,0,0,0,0,0,0,0,0,0,0,0,0,0,0,0,0,0,0,0,0,0,0,0,0,0],\"baseline\":[8,35,17,8,5,2,1,56,2,4,4,6,7,36,17,11,7,4,7,10,17,9,11,11,8,32,22,11,8,7,12,54,13,8,12,9,10,33,30,14,10,8,10,15,19,11,21,12,7,29,26,12,10,9,18,48,20,6,16,7,7,26,36,13,9,9,11,19,20,13,28,13,9,20,32,14,13,13,24,46,26,10,31,10,9,20,34,14,10,10,11,18,19,15,24,9,5,8,25,8,8,9,16,32,21,8,33,7,6,13,18,10,7,8,8,11,14,13,11,5,-2,-5,13,-2,0,0,1,5,6,-2,27,-3,-4,-1,-7,0,-2,-2,-1,-1,3,5,-7,-3],\"index\":[0,1,2,3,4,5,6,7,8,9,10,11,12,13,14,15,16,17,18,19,20,21,22,23,24,25,26,27,28,29,30,31,32,33,34,35,36,37,38,39,40,41,42,43,44,45,46,47,48,49,50,51,52,53,54,55,56,57,58,59,60,61,62,63,64,65,66,67,68,69,70,71,72,73,74,75,76,77,78,79,80,81,82,83,84,85,86,87,88,89,90,91,92,93,94,95,96,97,98,99,100,101,102,103,104,105,106,107,108,109,110,111,112,113,114,115,116,117,118,119,120,121,122,123,124,125,126,127,128,129,130,131,132,133,134,135,136,137,138,139,140,141,142,143],\"residual\":[0,-28,2,0,0,0,4,39,3,1,6,1,0,-21,-12,-5,-1,0,0,-1,0,5,-4,-5,-3,48,-2,-2,-3,-1,-7,-49,1,-3,-3,-3,0,40,3,11,4,0,3,0,6,-4,-10,13,5,-13,1,7,7,2,0,-29,-18,3,-7,1,2,-18,33,-6,-4,-2,-3,4,-13,-2,37,-7,-6,-11,-10,-5,-6,-2,15,78,28,-4,-20,-2,-3,-12,-12,-4,-2,0,-2,-2,3,-8,-17,-5,0,0,25,-1,2,0,-3,-25,-1,0,51,-2,-3,7,-6,2,0,-1,0,0,5,12,-4,0,2,5,-13,2,0,0,-1,-5,-6,2,-27,3,4,1,7,0,2,2,1,1,-3,-5,7,3],\"score\":{\"__ndarray__\":\"Uc5aJm42kb9KfMZw2hQAwNetdgnUEsA/Uc5aJm42kb9RzlombjaRv1HOWiZuNpG/vFrc6zom0T+vwxNX0BMGQKixl/CkL8k/GqhWiQzYqz+NXv3SC0PaPxqoVokM2Ks/Uc5aJm42kb89FVAXfjD4v+ThlSYm4Ou/bjY4JHHb1782u9hXPYe2v1HOWiZuNpG/Uc5aJm42kb82u9hXPYe2v1HOWiZuNpG/pdxsX6O01T+GtKewCE3Tv242OCRx29e/PGUuekB9zb/VVRbZBTQLQGxhDZNvYMS/bGENk29gxL88ZS56QH3Nvza72Fc9h7a/H52sBSF84L9M0SGgrAoMwBqoVokM2Ks/PGUuekB9zb88ZS56QH3NvzxlLnpAfc2/Uc5aJm42kb/t04VlnaUGQKixl/CkL8k/DPRnCouF6D+8WtzrOibRP1HOWiZuNpG/qLGX8KQvyT9RzlombjaRv41e/dILQ9o/hrSnsAhN07/8XwWzvVHnv/R1+H3zE+0/pdxsX6O01T/YIl5gWifuvxqoVokM2Ks/duCNRnTR3j924I1GdNHeP9etdgnUEsA/Uc5aJm42kb+HjDh/p6YAwM+zo8CvxfS/qLGX8KQvyT8fnawFIXzgvxqoVokM2Ks/1612CdQSwD/Ps6PAr8X0v0FiZwACqQJAV7jIl9lp3L+GtKewCE3Tv2xhDZNvYMS/PGUuekB9zb+8WtzrOibRP9giXmBaJ+6/bGENk29gxL81oy86NvAEQB+drAUhfOC/V7jIl9lp3L/woM3s8Zjpv/xfBbO9Uee/bjY4JHHb179XuMiX2Wncv2xhDZNvYMS/7nvE+C3R8D9+HjrFBiUWQCEiWnABoP8/hrSnsAhN07/D9Gv64wz3v2xhDZNvYMS/PGUuekB9zb/k4ZUmJuDrv+ThlSYm4Ou/hrSnsAhN079sYQ2Tb2DEv1HOWiZuNpG/bGENk29gxL9sYQ2Tb2DEv6ixl/CkL8k/FN50P1XD4r9Vk7+jFaLzv242OCRx29e/Uc5aJm42kb9RzlombjaRv7PArRkzNfw/NrvYVz2Htr/XrXYJ1BLAP1HOWiZuNpG/PGUuekB9zb8ll+CK5r78vza72Fc9h7a/Uc5aJm42kb+MhmwEbekMQGxhDZNvYMS/PGUuekB9zb924I1GdNHeP1e4yJfZady/1612CdQSwD9RzlombjaRvza72Fc9h7a/Uc5aJm42kb9RzlombjaRv6XcbF+jtNU/ADUwRL/M6j+GtKewCE3Tv1HOWiZuNpG/1612CdQSwD+l3Gxfo7TVP9giXmBaJ+6/1612CdQSwD9RzlombjaRv1HOWiZuNpG/NrvYVz2Htr9uNjgkcdvXv1e4yJfZady/1612CdQSwD8Z2KjEGgb/v6ixl/CkL8k/vFrc6zom0T8aqFaJDNirP3bgjUZ00d4/Uc5aJm42kb/XrXYJ1BLAP9etdgnUEsA/GqhWiQzYqz8aqFaJDNirPzxlLnpAfc2/bjY4JHHb17924I1GdNHeP6ixl/CkL8k/\",\"dtype\":\"float64\",\"order\":\"little\",\"shape\":[144]},\"seasonal\":[-2,24,6,-2,-6,-8,-10,44,-9,-7,-8,-6,-5,23,4,-1,-5,-8,-5,-3,4,-3,-2,-1,-6,17,7,-3,-6,-8,-3,38,-3,-8,-4,-7,-6,15,13,-3,-7,-8,-6,-1,2,-5,4,-4,-9,12,9,-4,-6,-7,2,32,4,-9,0,-9,-8,10,19,-3,-8,-8,-7,0,1,-5,8,-6,-10,0,12,-5,-6,-6,4,27,7,-8,12,-8,-8,2,16,-3,-7,-6,-5,1,2,-1,8,-6,-10,-7,10,-6,-5,-5,2,18,6,-6,19,-6,-6,0,5,-1,-3,-2,-1,1,5,4,3,-2,-9,-12,8,-7,-5,-4,-1,3,4,-3,26,-3,-4,0,-5,1,0,1,2,2,8,10,-1,3],\"trend\":[10,11,11,11,11,11,11,11,12,12,12,12,12,12,13,13,13,13,13,13,13,13,13,13,14,14,14,15,15,15,16,16,16,16,17,17,17,17,17,17,17,17,17,17,17,17,17,17,17,17,17,17,17,16,16,16,16,16,16,16,16,16,17,17,17,18,18,18,19,19,19,19,20,20,20,20,20,19,19,19,19,19,19,18,18,18,18,18,17,17,17,17,16,16,16,15,15,15,14,14,14,14,14,14,14,14,14,13,13,13,12,12,11,11,10,10,9,8,8,7,6,6,5,5,4,3,3,2,2,1,0,0,0,0,-1,-2,-2,-3,-3,-4,-5,-5,-6,-6],\"weights\":[1,1,1,1,1,1,1,1,1,1,1,1,1,1,1,1,1,1,1,1,1,1,1,1,1,1,1,1,1,1,1,1,1,1,1,1,1,1,1,1,1,1,1,1,1,1,1,1,1,1,1,1,1,1,1,1,1,1,1,1,1,1,1,1,1,1,1,1,1,1,1,1,1,1,1,1,1,1,1,1,1,1,1,1,1,1,1,1,1,1,1,1,1,1,1,1,1,1,1,1,1,1,1,1,1,1,1,1,1,1,1,1,1,1,1,1,1,1,1,1,1,1,1,1,1,1,1,1,1,1,1,1,1,1,1,1,1,1,1,1,1,1,1,1]},\"selected\":{\"id\":\"1851\"},\"selection_policy\":{\"id\":\"1850\"}},\"id\":\"1789\",\"type\":\"ColumnDataSource\"},{\"attributes\":{\"mantissas\":[1,2,5],\"max_interval\":500.0,\"num_minor_ticks\":0},\"id\":\"1965\",\"type\":\"AdaptiveTicker\"},{\"attributes\":{\"format\":\"00\"},\"id\":\"1825\",\"type\":\"NumeralTickFormatter\"},{\"attributes\":{\"end\":1628982723171.821,\"start\":1628416443171.821},\"id\":\"1794\",\"type\":\"Range1d\"},{\"attributes\":{\"bottom_units\":\"screen\",\"fill_alpha\":0.5,\"fill_color\":\"lightgrey\",\"left_units\":\"screen\",\"level\":\"overlay\",\"line_alpha\":1.0,\"line_color\":\"black\",\"line_dash\":[4,4],\"line_width\":2,\"right_units\":\"screen\",\"syncable\":false,\"top_units\":\"screen\"},\"id\":\"1815\",\"type\":\"BoxAnnotation\"},{\"attributes\":{},\"id\":\"1978\",\"type\":\"UnionRenderers\"},{\"attributes\":{},\"id\":\"1834\",\"type\":\"AllLabels\"},{\"attributes\":{},\"id\":\"1979\",\"type\":\"Selection\"},{\"attributes\":{},\"id\":\"1836\",\"type\":\"AllLabels\"},{\"attributes\":{\"text\":\"Time Series Anomalies Visualization\"},\"id\":\"1792\",\"type\":\"Title\"},{\"attributes\":{},\"id\":\"1800\",\"type\":\"LinearScale\"},{\"attributes\":{\"below\":[{\"id\":\"1802\"}],\"center\":[{\"id\":\"1805\"},{\"id\":\"1809\"},{\"id\":\"1852\"}],\"height\":300,\"left\":[{\"id\":\"1806\"}],\"min_border_left\":50,\"renderers\":[{\"id\":\"1830\"},{\"id\":\"1857\"},{\"id\":\"1884\"}],\"title\":{\"id\":\"1792\"},\"toolbar\":{\"id\":\"1816\"},\"toolbar_location\":\"above\",\"width\":1200,\"x_range\":{\"id\":\"1794\"},\"x_scale\":{\"id\":\"1798\"},\"y_range\":{\"id\":\"1796\"},\"y_scale\":{\"id\":\"1800\"}},\"id\":\"1791\",\"subtype\":\"Figure\",\"type\":\"Plot\"},{\"attributes\":{\"days\":[\"%m-%d %H:%M\"],\"hours\":[\"%H:%M:%S\"],\"milliseconds\":[\"%H:%M:%S.%3N\"],\"minutes\":[\"%H:%M:%S\"],\"seconds\":[\"%H:%M:%S\"]},\"id\":\"1823\",\"type\":\"DatetimeTickFormatter\"},{\"attributes\":{},\"id\":\"1947\",\"type\":\"AllLabels\"},{\"attributes\":{},\"id\":\"1796\",\"type\":\"DataRange1d\"}],\"root_ids\":[\"1939\"]},\"title\":\"Bokeh Application\",\"version\":\"2.3.3\"}};\n",
       "  var render_items = [{\"docid\":\"02e1f906-9943-4570-851c-1283c345df10\",\"root_ids\":[\"1939\"],\"roots\":{\"1939\":\"1b77ee29-475b-4661-a34c-6e5ad190ddd3\"}}];\n",
       "  root.Bokeh.embed.embed_items_notebook(docs_json, render_items);\n",
       "\n",
       "  }\n",
       "  if (root.Bokeh !== undefined) {\n",
       "    embed_document(root);\n",
       "  } else {\n",
       "    var attempts = 0;\n",
       "    var timer = setInterval(function(root) {\n",
       "      if (root.Bokeh !== undefined) {\n",
       "        clearInterval(timer);\n",
       "        embed_document(root);\n",
       "      } else {\n",
       "        attempts++;\n",
       "        if (attempts > 100) {\n",
       "          clearInterval(timer);\n",
       "          console.log(\"Bokeh: ERROR: Unable to run BokehJS code because BokehJS library is missing\");\n",
       "        }\n",
       "      }\n",
       "    }, 10, root)\n",
       "  }\n",
       "})(window);"
      ],
      "application/vnd.bokehjs_exec.v0+json": ""
     },
     "metadata": {
      "application/vnd.bokehjs_exec.v0+json": {
       "id": "1939"
      }
     },
     "output_type": "display_data"
    },
    {
     "name": "stdout",
     "output_type": "stream",
     "text": [
      "\n",
      "Time Series for OfficeObjectId\n",
      "\n"
     ]
    },
    {
     "data": {
      "text/html": [
       "\n",
       "    <div class=\"bk-root\">\n",
       "        <a href=\"https://bokeh.org\" target=\"_blank\" class=\"bk-logo bk-logo-small bk-logo-notebook\"></a>\n",
       "        <span id=\"2181\">Loading BokehJS ...</span>\n",
       "    </div>"
      ]
     },
     "metadata": {},
     "output_type": "display_data"
    },
    {
     "data": {
      "application/javascript": [
       "\n",
       "(function(root) {\n",
       "  function now() {\n",
       "    return new Date();\n",
       "  }\n",
       "\n",
       "  var force = true;\n",
       "\n",
       "  if (typeof root._bokeh_onload_callbacks === \"undefined\" || force === true) {\n",
       "    root._bokeh_onload_callbacks = [];\n",
       "    root._bokeh_is_loading = undefined;\n",
       "  }\n",
       "\n",
       "  var JS_MIME_TYPE = 'application/javascript';\n",
       "  var HTML_MIME_TYPE = 'text/html';\n",
       "  var EXEC_MIME_TYPE = 'application/vnd.bokehjs_exec.v0+json';\n",
       "  var CLASS_NAME = 'output_bokeh rendered_html';\n",
       "\n",
       "  /**\n",
       "   * Render data to the DOM node\n",
       "   */\n",
       "  function render(props, node) {\n",
       "    var script = document.createElement(\"script\");\n",
       "    node.appendChild(script);\n",
       "  }\n",
       "\n",
       "  /**\n",
       "   * Handle when an output is cleared or removed\n",
       "   */\n",
       "  function handleClearOutput(event, handle) {\n",
       "    var cell = handle.cell;\n",
       "\n",
       "    var id = cell.output_area._bokeh_element_id;\n",
       "    var server_id = cell.output_area._bokeh_server_id;\n",
       "    // Clean up Bokeh references\n",
       "    if (id != null && id in Bokeh.index) {\n",
       "      Bokeh.index[id].model.document.clear();\n",
       "      delete Bokeh.index[id];\n",
       "    }\n",
       "\n",
       "    if (server_id !== undefined) {\n",
       "      // Clean up Bokeh references\n",
       "      var cmd = \"from bokeh.io.state import curstate; print(curstate().uuid_to_server['\" + server_id + \"'].get_sessions()[0].document.roots[0]._id)\";\n",
       "      cell.notebook.kernel.execute(cmd, {\n",
       "        iopub: {\n",
       "          output: function(msg) {\n",
       "            var id = msg.content.text.trim();\n",
       "            if (id in Bokeh.index) {\n",
       "              Bokeh.index[id].model.document.clear();\n",
       "              delete Bokeh.index[id];\n",
       "            }\n",
       "          }\n",
       "        }\n",
       "      });\n",
       "      // Destroy server and session\n",
       "      var cmd = \"import bokeh.io.notebook as ion; ion.destroy_server('\" + server_id + \"')\";\n",
       "      cell.notebook.kernel.execute(cmd);\n",
       "    }\n",
       "  }\n",
       "\n",
       "  /**\n",
       "   * Handle when a new output is added\n",
       "   */\n",
       "  function handleAddOutput(event, handle) {\n",
       "    var output_area = handle.output_area;\n",
       "    var output = handle.output;\n",
       "\n",
       "    // limit handleAddOutput to display_data with EXEC_MIME_TYPE content only\n",
       "    if ((output.output_type != \"display_data\") || (!Object.prototype.hasOwnProperty.call(output.data, EXEC_MIME_TYPE))) {\n",
       "      return\n",
       "    }\n",
       "\n",
       "    var toinsert = output_area.element.find(\".\" + CLASS_NAME.split(' ')[0]);\n",
       "\n",
       "    if (output.metadata[EXEC_MIME_TYPE][\"id\"] !== undefined) {\n",
       "      toinsert[toinsert.length - 1].firstChild.textContent = output.data[JS_MIME_TYPE];\n",
       "      // store reference to embed id on output_area\n",
       "      output_area._bokeh_element_id = output.metadata[EXEC_MIME_TYPE][\"id\"];\n",
       "    }\n",
       "    if (output.metadata[EXEC_MIME_TYPE][\"server_id\"] !== undefined) {\n",
       "      var bk_div = document.createElement(\"div\");\n",
       "      bk_div.innerHTML = output.data[HTML_MIME_TYPE];\n",
       "      var script_attrs = bk_div.children[0].attributes;\n",
       "      for (var i = 0; i < script_attrs.length; i++) {\n",
       "        toinsert[toinsert.length - 1].firstChild.setAttribute(script_attrs[i].name, script_attrs[i].value);\n",
       "        toinsert[toinsert.length - 1].firstChild.textContent = bk_div.children[0].textContent\n",
       "      }\n",
       "      // store reference to server id on output_area\n",
       "      output_area._bokeh_server_id = output.metadata[EXEC_MIME_TYPE][\"server_id\"];\n",
       "    }\n",
       "  }\n",
       "\n",
       "  function register_renderer(events, OutputArea) {\n",
       "\n",
       "    function append_mime(data, metadata, element) {\n",
       "      // create a DOM node to render to\n",
       "      var toinsert = this.create_output_subarea(\n",
       "        metadata,\n",
       "        CLASS_NAME,\n",
       "        EXEC_MIME_TYPE\n",
       "      );\n",
       "      this.keyboard_manager.register_events(toinsert);\n",
       "      // Render to node\n",
       "      var props = {data: data, metadata: metadata[EXEC_MIME_TYPE]};\n",
       "      render(props, toinsert[toinsert.length - 1]);\n",
       "      element.append(toinsert);\n",
       "      return toinsert\n",
       "    }\n",
       "\n",
       "    /* Handle when an output is cleared or removed */\n",
       "    events.on('clear_output.CodeCell', handleClearOutput);\n",
       "    events.on('delete.Cell', handleClearOutput);\n",
       "\n",
       "    /* Handle when a new output is added */\n",
       "    events.on('output_added.OutputArea', handleAddOutput);\n",
       "\n",
       "    /**\n",
       "     * Register the mime type and append_mime function with output_area\n",
       "     */\n",
       "    OutputArea.prototype.register_mime_type(EXEC_MIME_TYPE, append_mime, {\n",
       "      /* Is output safe? */\n",
       "      safe: true,\n",
       "      /* Index of renderer in `output_area.display_order` */\n",
       "      index: 0\n",
       "    });\n",
       "  }\n",
       "\n",
       "  // register the mime type if in Jupyter Notebook environment and previously unregistered\n",
       "  if (root.Jupyter !== undefined) {\n",
       "    var events = require('base/js/events');\n",
       "    var OutputArea = require('notebook/js/outputarea').OutputArea;\n",
       "\n",
       "    if (OutputArea.prototype.mime_types().indexOf(EXEC_MIME_TYPE) == -1) {\n",
       "      register_renderer(events, OutputArea);\n",
       "    }\n",
       "  }\n",
       "\n",
       "  \n",
       "  if (typeof (root._bokeh_timeout) === \"undefined\" || force === true) {\n",
       "    root._bokeh_timeout = Date.now() + 5000;\n",
       "    root._bokeh_failed_load = false;\n",
       "  }\n",
       "\n",
       "  var NB_LOAD_WARNING = {'data': {'text/html':\n",
       "     \"<div style='background-color: #fdd'>\\n\"+\n",
       "     \"<p>\\n\"+\n",
       "     \"BokehJS does not appear to have successfully loaded. If loading BokehJS from CDN, this \\n\"+\n",
       "     \"may be due to a slow or bad network connection. Possible fixes:\\n\"+\n",
       "     \"</p>\\n\"+\n",
       "     \"<ul>\\n\"+\n",
       "     \"<li>re-rerun `output_notebook()` to attempt to load from CDN again, or</li>\\n\"+\n",
       "     \"<li>use INLINE resources instead, as so:</li>\\n\"+\n",
       "     \"</ul>\\n\"+\n",
       "     \"<code>\\n\"+\n",
       "     \"from bokeh.resources import INLINE\\n\"+\n",
       "     \"output_notebook(resources=INLINE)\\n\"+\n",
       "     \"</code>\\n\"+\n",
       "     \"</div>\"}};\n",
       "\n",
       "  function display_loaded() {\n",
       "    var el = document.getElementById(\"2181\");\n",
       "    if (el != null) {\n",
       "      el.textContent = \"BokehJS is loading...\";\n",
       "    }\n",
       "    if (root.Bokeh !== undefined) {\n",
       "      if (el != null) {\n",
       "        el.textContent = \"BokehJS \" + root.Bokeh.version + \" successfully loaded.\";\n",
       "      }\n",
       "    } else if (Date.now() < root._bokeh_timeout) {\n",
       "      setTimeout(display_loaded, 100)\n",
       "    }\n",
       "  }\n",
       "\n",
       "\n",
       "  function run_callbacks() {\n",
       "    try {\n",
       "      root._bokeh_onload_callbacks.forEach(function(callback) {\n",
       "        if (callback != null)\n",
       "          callback();\n",
       "      });\n",
       "    } finally {\n",
       "      delete root._bokeh_onload_callbacks\n",
       "    }\n",
       "    console.debug(\"Bokeh: all callbacks have finished\");\n",
       "  }\n",
       "\n",
       "  function load_libs(css_urls, js_urls, callback) {\n",
       "    if (css_urls == null) css_urls = [];\n",
       "    if (js_urls == null) js_urls = [];\n",
       "\n",
       "    root._bokeh_onload_callbacks.push(callback);\n",
       "    if (root._bokeh_is_loading > 0) {\n",
       "      console.debug(\"Bokeh: BokehJS is being loaded, scheduling callback at\", now());\n",
       "      return null;\n",
       "    }\n",
       "    if (js_urls == null || js_urls.length === 0) {\n",
       "      run_callbacks();\n",
       "      return null;\n",
       "    }\n",
       "    console.debug(\"Bokeh: BokehJS not loaded, scheduling load and callback at\", now());\n",
       "    root._bokeh_is_loading = css_urls.length + js_urls.length;\n",
       "\n",
       "    function on_load() {\n",
       "      root._bokeh_is_loading--;\n",
       "      if (root._bokeh_is_loading === 0) {\n",
       "        console.debug(\"Bokeh: all BokehJS libraries/stylesheets loaded\");\n",
       "        run_callbacks()\n",
       "      }\n",
       "    }\n",
       "\n",
       "    function on_error(url) {\n",
       "      console.error(\"failed to load \" + url);\n",
       "    }\n",
       "\n",
       "    for (let i = 0; i < css_urls.length; i++) {\n",
       "      const url = css_urls[i];\n",
       "      const element = document.createElement(\"link\");\n",
       "      element.onload = on_load;\n",
       "      element.onerror = on_error.bind(null, url);\n",
       "      element.rel = \"stylesheet\";\n",
       "      element.type = \"text/css\";\n",
       "      element.href = url;\n",
       "      console.debug(\"Bokeh: injecting link tag for BokehJS stylesheet: \", url);\n",
       "      document.body.appendChild(element);\n",
       "    }\n",
       "\n",
       "    const hashes = {\"https://cdn.bokeh.org/bokeh/release/bokeh-2.3.3.min.js\": \"dM3QQsP+wXdHg42wTqW85BjZQdLNNIXqlPw/BgKoExPmTG7ZLML4EGqLMfqHT6ON\", \"https://cdn.bokeh.org/bokeh/release/bokeh-tables-2.3.3.min.js\": \"8x57I4YuIfu8XyZfFo0XVr2WAT8EK4rh/uDe3wF7YuW2FNUSNEpJbsPaB1nJ2fz2\", \"https://cdn.bokeh.org/bokeh/release/bokeh-widgets-2.3.3.min.js\": \"3QTqdz9LyAm2i0sG5XTePsHec3UHWwVsrOL68SYRoAXsafvfAyqtQ+h440+qIBhS\"};\n",
       "\n",
       "    for (let i = 0; i < js_urls.length; i++) {\n",
       "      const url = js_urls[i];\n",
       "      const element = document.createElement('script');\n",
       "      element.onload = on_load;\n",
       "      element.onerror = on_error.bind(null, url);\n",
       "      element.async = false;\n",
       "      element.src = url;\n",
       "      if (url in hashes) {\n",
       "        element.crossOrigin = \"anonymous\";\n",
       "        element.integrity = \"sha384-\" + hashes[url];\n",
       "      }\n",
       "      console.debug(\"Bokeh: injecting script tag for BokehJS library: \", url);\n",
       "      document.head.appendChild(element);\n",
       "    }\n",
       "  };\n",
       "\n",
       "  function inject_raw_css(css) {\n",
       "    const element = document.createElement(\"style\");\n",
       "    element.appendChild(document.createTextNode(css));\n",
       "    document.body.appendChild(element);\n",
       "  }\n",
       "\n",
       "  \n",
       "  var js_urls = [\"https://cdn.bokeh.org/bokeh/release/bokeh-2.3.3.min.js\", \"https://cdn.bokeh.org/bokeh/release/bokeh-widgets-2.3.3.min.js\", \"https://cdn.bokeh.org/bokeh/release/bokeh-tables-2.3.3.min.js\"];\n",
       "  var css_urls = [];\n",
       "  \n",
       "\n",
       "  var inline_js = [\n",
       "    function(Bokeh) {\n",
       "      Bokeh.set_log_level(\"info\");\n",
       "    },\n",
       "    function(Bokeh) {\n",
       "    \n",
       "    \n",
       "    }\n",
       "  ];\n",
       "\n",
       "  function run_inline_js() {\n",
       "    \n",
       "    if (root.Bokeh !== undefined || force === true) {\n",
       "      \n",
       "    for (var i = 0; i < inline_js.length; i++) {\n",
       "      inline_js[i].call(root, root.Bokeh);\n",
       "    }\n",
       "    if (force === true) {\n",
       "        display_loaded();\n",
       "      }} else if (Date.now() < root._bokeh_timeout) {\n",
       "      setTimeout(run_inline_js, 100);\n",
       "    } else if (!root._bokeh_failed_load) {\n",
       "      console.log(\"Bokeh: BokehJS failed to load within specified timeout.\");\n",
       "      root._bokeh_failed_load = true;\n",
       "    } else if (force !== true) {\n",
       "      var cell = $(document.getElementById(\"2181\")).parents('.cell').data().cell;\n",
       "      cell.output_area.append_execute_result(NB_LOAD_WARNING)\n",
       "    }\n",
       "\n",
       "  }\n",
       "\n",
       "  if (root._bokeh_is_loading === 0) {\n",
       "    console.debug(\"Bokeh: BokehJS loaded, going straight to plotting\");\n",
       "    run_inline_js();\n",
       "  } else {\n",
       "    load_libs(css_urls, js_urls, function() {\n",
       "      console.debug(\"Bokeh: BokehJS plotting callback run at\", now());\n",
       "      run_inline_js();\n",
       "    });\n",
       "  }\n",
       "}(window));"
      ],
      "application/vnd.bokehjs_load.v0+json": "\n(function(root) {\n  function now() {\n    return new Date();\n  }\n\n  var force = true;\n\n  if (typeof root._bokeh_onload_callbacks === \"undefined\" || force === true) {\n    root._bokeh_onload_callbacks = [];\n    root._bokeh_is_loading = undefined;\n  }\n\n  \n\n  \n  if (typeof (root._bokeh_timeout) === \"undefined\" || force === true) {\n    root._bokeh_timeout = Date.now() + 5000;\n    root._bokeh_failed_load = false;\n  }\n\n  var NB_LOAD_WARNING = {'data': {'text/html':\n     \"<div style='background-color: #fdd'>\\n\"+\n     \"<p>\\n\"+\n     \"BokehJS does not appear to have successfully loaded. If loading BokehJS from CDN, this \\n\"+\n     \"may be due to a slow or bad network connection. Possible fixes:\\n\"+\n     \"</p>\\n\"+\n     \"<ul>\\n\"+\n     \"<li>re-rerun `output_notebook()` to attempt to load from CDN again, or</li>\\n\"+\n     \"<li>use INLINE resources instead, as so:</li>\\n\"+\n     \"</ul>\\n\"+\n     \"<code>\\n\"+\n     \"from bokeh.resources import INLINE\\n\"+\n     \"output_notebook(resources=INLINE)\\n\"+\n     \"</code>\\n\"+\n     \"</div>\"}};\n\n  function display_loaded() {\n    var el = document.getElementById(\"2181\");\n    if (el != null) {\n      el.textContent = \"BokehJS is loading...\";\n    }\n    if (root.Bokeh !== undefined) {\n      if (el != null) {\n        el.textContent = \"BokehJS \" + root.Bokeh.version + \" successfully loaded.\";\n      }\n    } else if (Date.now() < root._bokeh_timeout) {\n      setTimeout(display_loaded, 100)\n    }\n  }\n\n\n  function run_callbacks() {\n    try {\n      root._bokeh_onload_callbacks.forEach(function(callback) {\n        if (callback != null)\n          callback();\n      });\n    } finally {\n      delete root._bokeh_onload_callbacks\n    }\n    console.debug(\"Bokeh: all callbacks have finished\");\n  }\n\n  function load_libs(css_urls, js_urls, callback) {\n    if (css_urls == null) css_urls = [];\n    if (js_urls == null) js_urls = [];\n\n    root._bokeh_onload_callbacks.push(callback);\n    if (root._bokeh_is_loading > 0) {\n      console.debug(\"Bokeh: BokehJS is being loaded, scheduling callback at\", now());\n      return null;\n    }\n    if (js_urls == null || js_urls.length === 0) {\n      run_callbacks();\n      return null;\n    }\n    console.debug(\"Bokeh: BokehJS not loaded, scheduling load and callback at\", now());\n    root._bokeh_is_loading = css_urls.length + js_urls.length;\n\n    function on_load() {\n      root._bokeh_is_loading--;\n      if (root._bokeh_is_loading === 0) {\n        console.debug(\"Bokeh: all BokehJS libraries/stylesheets loaded\");\n        run_callbacks()\n      }\n    }\n\n    function on_error(url) {\n      console.error(\"failed to load \" + url);\n    }\n\n    for (let i = 0; i < css_urls.length; i++) {\n      const url = css_urls[i];\n      const element = document.createElement(\"link\");\n      element.onload = on_load;\n      element.onerror = on_error.bind(null, url);\n      element.rel = \"stylesheet\";\n      element.type = \"text/css\";\n      element.href = url;\n      console.debug(\"Bokeh: injecting link tag for BokehJS stylesheet: \", url);\n      document.body.appendChild(element);\n    }\n\n    const hashes = {\"https://cdn.bokeh.org/bokeh/release/bokeh-2.3.3.min.js\": \"dM3QQsP+wXdHg42wTqW85BjZQdLNNIXqlPw/BgKoExPmTG7ZLML4EGqLMfqHT6ON\", \"https://cdn.bokeh.org/bokeh/release/bokeh-tables-2.3.3.min.js\": \"8x57I4YuIfu8XyZfFo0XVr2WAT8EK4rh/uDe3wF7YuW2FNUSNEpJbsPaB1nJ2fz2\", \"https://cdn.bokeh.org/bokeh/release/bokeh-widgets-2.3.3.min.js\": \"3QTqdz9LyAm2i0sG5XTePsHec3UHWwVsrOL68SYRoAXsafvfAyqtQ+h440+qIBhS\"};\n\n    for (let i = 0; i < js_urls.length; i++) {\n      const url = js_urls[i];\n      const element = document.createElement('script');\n      element.onload = on_load;\n      element.onerror = on_error.bind(null, url);\n      element.async = false;\n      element.src = url;\n      if (url in hashes) {\n        element.crossOrigin = \"anonymous\";\n        element.integrity = \"sha384-\" + hashes[url];\n      }\n      console.debug(\"Bokeh: injecting script tag for BokehJS library: \", url);\n      document.head.appendChild(element);\n    }\n  };\n\n  function inject_raw_css(css) {\n    const element = document.createElement(\"style\");\n    element.appendChild(document.createTextNode(css));\n    document.body.appendChild(element);\n  }\n\n  \n  var js_urls = [\"https://cdn.bokeh.org/bokeh/release/bokeh-2.3.3.min.js\", \"https://cdn.bokeh.org/bokeh/release/bokeh-widgets-2.3.3.min.js\", \"https://cdn.bokeh.org/bokeh/release/bokeh-tables-2.3.3.min.js\"];\n  var css_urls = [];\n  \n\n  var inline_js = [\n    function(Bokeh) {\n      Bokeh.set_log_level(\"info\");\n    },\n    function(Bokeh) {\n    \n    \n    }\n  ];\n\n  function run_inline_js() {\n    \n    if (root.Bokeh !== undefined || force === true) {\n      \n    for (var i = 0; i < inline_js.length; i++) {\n      inline_js[i].call(root, root.Bokeh);\n    }\n    if (force === true) {\n        display_loaded();\n      }} else if (Date.now() < root._bokeh_timeout) {\n      setTimeout(run_inline_js, 100);\n    } else if (!root._bokeh_failed_load) {\n      console.log(\"Bokeh: BokehJS failed to load within specified timeout.\");\n      root._bokeh_failed_load = true;\n    } else if (force !== true) {\n      var cell = $(document.getElementById(\"2181\")).parents('.cell').data().cell;\n      cell.output_area.append_execute_result(NB_LOAD_WARNING)\n    }\n\n  }\n\n  if (root._bokeh_is_loading === 0) {\n    console.debug(\"Bokeh: BokehJS loaded, going straight to plotting\");\n    run_inline_js();\n  } else {\n    load_libs(css_urls, js_urls, function() {\n      console.debug(\"Bokeh: BokehJS plotting callback run at\", now());\n      run_inline_js();\n    });\n  }\n}(window));"
     },
     "metadata": {},
     "output_type": "display_data"
    },
    {
     "data": {
      "text/html": [
       "\n",
       "\n",
       "\n",
       "\n",
       "\n",
       "\n",
       "  <div class=\"bk-root\" id=\"ba2365f6-3f02-46a7-8eed-c3f151050964\" data-root-id=\"2332\"></div>\n"
      ]
     },
     "metadata": {},
     "output_type": "display_data"
    },
    {
     "data": {
      "application/javascript": [
       "(function(root) {\n",
       "  function embed_document(root) {\n",
       "    \n",
       "  var docs_json = {\"db404c2d-40d8-49e4-9704-e8b5aee4c672\":{\"defs\":[],\"roots\":{\"references\":[{\"attributes\":{\"children\":[{\"id\":\"2184\"},{\"id\":\"2302\"}]},\"id\":\"2332\",\"type\":\"Column\"},{\"attributes\":{},\"id\":\"2300\",\"type\":\"Selection\"},{\"attributes\":{\"click_policy\":\"hide\",\"items\":[{\"id\":\"2246\"},{\"id\":\"2272\"},{\"id\":\"2301\"}],\"location\":\"top_left\"},\"id\":\"2245\",\"type\":\"Legend\"},{\"attributes\":{\"overlay\":{\"id\":\"2328\"},\"x_range\":{\"id\":\"2187\"},\"y_range\":null},\"id\":\"2327\",\"type\":\"RangeTool\"},{\"attributes\":{\"data_source\":{\"id\":\"2321\"},\"glyph\":{\"id\":\"2323\"},\"hover_glyph\":null,\"muted_glyph\":null,\"nonselection_glyph\":{\"id\":\"2324\"},\"view\":{\"id\":\"2326\"}},\"id\":\"2325\",\"type\":\"GlyphRenderer\"},{\"attributes\":{\"days\":[\"%m-%d %H:%M\"],\"hours\":[\"%H:%M:%S\"],\"milliseconds\":[\"%H:%M:%S.%3N\"],\"minutes\":[\"%H:%M:%S\"],\"seconds\":[\"%H:%M:%S\"]},\"id\":\"2319\",\"type\":\"DatetimeTickFormatter\"},{\"attributes\":{\"align\":\"right\",\"text\":\"Drag the middle or edges of the selection box to change the range in the main chart\",\"text_font_size\":\"10px\"},\"id\":\"2318\",\"type\":\"Title\"},{\"attributes\":{\"text\":\"Range Selector\"},\"id\":\"2303\",\"type\":\"Title\"},{\"attributes\":{},\"id\":\"2227\",\"type\":\"AllLabels\"},{\"attributes\":{\"data\":{\"OfficeObjectId\":[4,2,15,1,1,2,2,44,2,2,2,3,2,15,1,1,1,1,2,3,17,3,2,1,1,29,16,2,1,2,1,1,15,1,3,2,1,18,17,3,1,2,3,3,15,1,2,2,5,3,17,3,1,1,1,15,2,2,2,1,2,1,20,1,1,1,3,17,1,3,31,1,3,2,16,3,1,5,10,27,3,3,1,1,2,2,16,3,2,3,2,6,16,2,1,3,1,2,45,4,2,2,1,1,16,1,29,1,3,15,3,2,3,2,2,3,16,26,3,1,0,0,0,0,0,0,0,0,0,0,0,0,0,0,0,0,0,0,0,0,0,0,0,0],\"TimeGenerated\":{\"__ndarray__\":\"Iz1gfGuyd0IjPUjrbrJ3QiM9MFpysndCIz0YyXWyd0IjPQA4ebJ3QiM96KZ8sndCIz3QFYCyd0IjPbiEg7J3QiM9oPOGsndCIz2IYoqyd0IjPXDRjbJ3QiM9WECRsndCIz1Ar5Syd0IjPSgemLJ3QiM9EI2bsndCIz34+56yd0IjPeBqorJ3QiM9yNmlsndCIz2wSKmyd0IjPZi3rLJ3QiM9gCawsndCIz1olbOyd0IjPVAEt7J3QiM9OHO6sndCIz0g4r2yd0IjPQhRwbJ3QiM98L/EsndCIz3YLsiyd0IjPcCdy7J3QiM9qAzPsndCIz2Qe9Kyd0IjPXjq1bJ3QiM9YFnZsndCIz1IyNyyd0IjPTA34LJ3QiM9GKbjsndCIz0AFeeyd0IjPeiD6rJ3QiM90PLtsndCIz24YfGyd0IjPaDQ9LJ3QiM9iD/4sndCIz1wrvuyd0IjPVgd/7J3QiM9QIwCs3dCIz0o+wWzd0IjPRBqCbN3QiM9+NgMs3dCIz3gRxCzd0IjPci2E7N3QiM9sCUXs3dCIz2YlBqzd0IjPYADHrN3QiM9aHIhs3dCIz1Q4SSzd0IjPThQKLN3QiM9IL8rs3dCIz0ILi+zd0IjPfCcMrN3QiM92As2s3dCIz3Aejmzd0IjPajpPLN3QiM9kFhAs3dCIz14x0Ozd0IjPWA2R7N3QiM9SKVKs3dCIz0wFE6zd0IjPRiDUbN3QiM9APJUs3dCIz3oYFizd0IjPdDPW7N3QiM9uD5fs3dCIz2grWKzd0IjPYgcZrN3QiM9cItps3dCIz1Y+myzd0IjPUBpcLN3QiM9KNhzs3dCIz0QR3ezd0IjPfi1erN3QiM94CR+s3dCIz3Ik4Gzd0IjPbAChbN3QiM9mHGIs3dCIz2A4Iuzd0IjPWhPj7N3QiM9UL6Ss3dCIz04LZazd0IjPSCcmbN3QiM9CAuds3dCIz3weaCzd0IjPdjoo7N3QiM9wFens3dCIz2oxqqzd0IjPZA1rrN3QiM9eKSxs3dCIz1gE7Wzd0IjPUiCuLN3QiM9MPG7s3dCIz0YYL+zd0IjPQDPwrN3QiM96D3Gs3dCIz3QrMmzd0IjPbgbzbN3QiM9oIrQs3dCIz2I+dOzd0IjPXBo17N3QiM9WNfas3dCIz1ARt6zd0IjPSi14bN3QiM9ECTls3dCIz34kuizd0IjPeAB7LN3QiM9yHDvs3dCIz2w3/Kzd0IjPZhO9rN3QiM9gL35s3dCIz1oLP2zd0IjPVCbALR3QiM9OAoEtHdCIz0geQe0d0IjPQjoCrR3QiM98FYOtHdCIz3YxRG0d0IjPcA0FbR3QiM9qKMYtHdCIz2QEhy0d0IjPXiBH7R3QiM9YPAitHdCIz1IXya0d0IjPTDOKbR3QiM9GD0ttHdCIz0ArDC0d0IjPegaNLR3QiM90Ik3tHdCIz24+Dq0d0IjPaBnPrR3QiM9iNZBtHdCIz1wRUW0d0IjPVi0SLR3QiM9QCNMtHdCIz0okk+0d0IjPRABU7R3QiM9+G9WtHdC\",\"dtype\":\"float64\",\"order\":\"little\",\"shape\":[144]},\"anomalies\":[0,0,0,0,0,0,0,0,0,0,0,0,0,0,0,0,0,0,0,0,0,0,0,0,0,1,0,0,0,0,0,0,0,0,0,0,0,0,0,0,0,0,0,0,0,0,0,0,0,0,0,0,0,0,0,0,0,0,0,0,0,0,0,0,0,0,0,0,0,0,1,0,0,0,0,0,0,0,0,0,0,0,0,0,0,0,0,0,0,0,0,0,0,0,0,0,0,0,1,0,0,0,0,0,0,0,1,0,0,0,0,0,0,0,0,0,0,0,0,0,0,0,0,0,0,0,0,0,0,0,0,0,0,0,0,0,0,0,0,0,0,0,0,0],\"baseline\":[3,12,13,1,0,1,0,29,6,1,0,2,1,16,7,1,0,1,2,3,15,1,4,1,3,10,16,2,1,2,2,23,6,1,2,2,1,11,11,1,0,1,2,5,12,1,7,0,2,8,18,1,0,1,2,15,6,1,4,0,1,8,14,1,1,1,2,8,11,4,10,2,3,5,22,3,1,3,4,12,7,2,9,1,2,7,13,2,2,2,3,8,11,9,10,3,2,2,20,3,2,3,4,9,8,3,11,3,4,7,8,3,3,3,3,5,10,10,5,2,-1,-2,14,0,-1,0,0,-1,3,-1,8,-2,-1,2,-3,-1,-1,-1,-1,-2,4,7,-4,-1],\"index\":[0,1,2,3,4,5,6,7,8,9,10,11,12,13,14,15,16,17,18,19,20,21,22,23,24,25,26,27,28,29,30,31,32,33,34,35,36,37,38,39,40,41,42,43,44,45,46,47,48,49,50,51,52,53,54,55,56,57,58,59,60,61,62,63,64,65,66,67,68,69,70,71,72,73,74,75,76,77,78,79,80,81,82,83,84,85,86,87,88,89,90,91,92,93,94,95,96,97,98,99,100,101,102,103,104,105,106,107,108,109,110,111,112,113,114,115,116,117,118,119,120,121,122,123,124,125,126,127,128,129,130,131,132,133,134,135,136,137,138,139,140,141,142,143],\"residual\":[0,-10,1,0,0,0,1,14,-4,0,1,0,0,-1,-6,0,0,0,0,0,1,1,-2,0,-2,18,0,0,0,0,-1,-22,8,0,0,0,0,6,5,1,0,0,0,-2,2,0,-5,1,2,-5,-1,1,0,0,-1,0,-4,0,-2,0,0,-7,5,0,0,0,0,8,-10,-1,20,-1,0,-3,-6,0,0,1,5,14,-4,0,-8,0,0,-5,2,0,0,0,-1,-2,4,-7,-9,0,-1,0,24,0,0,-1,-3,-8,7,-2,17,-2,-1,7,-5,-1,0,-1,-1,-2,5,15,-2,-1,1,2,-14,0,1,0,0,1,-3,1,-8,2,1,-2,3,1,1,1,1,2,-4,-7,4,1],\"score\":{\"__ndarray__\":\"aPqBqW7SmL+oRB4KRsj9v0vxLzevacQ/aPqBqW7SmL9o+oGpbtKYv2j6galu0pi/S/EvN69pxD+QJoGN2GEEQGtArIGQSui/aPqBqW7SmL9L8S83r2nEP2j6galu0pi/aPqBqW7SmL/lb5DhSp7Kv1ws7oNHBvK/aPqBqW7SmL9o+oGpbtKYv2j6galu0pi/aPqBqW7SmL9o+oGpbtKYv0vxLzevacQ/S/EvN69pxD8/UPj2IxHZv2j6galu0pi/P1D49iMR2b+3MpnQ10IKQGj6galu0pi/aPqBqW7SmL9o+oGpbtKYv2j6galu0pi/5W+Q4Uqeyr9ioytnkEMQwK4oulGzIPc/aPqBqW7SmL9o+oGpbtKYv2j6galu0pi/aPqBqW7SmL+IHKIOtD/xP+osLNponuw/S/EvN69pxD9o+oGpbtKYv2j6galu0pi/aPqBqW7SmL8/UPj2IxHZv/EQyCHW9tU/aPqBqW7SmL+RTMTEjyvuv0vxLzevacQ/8RDIIdb21T+RTMTEjyvuv+VvkOFKnsq/S/EvN69pxD9o+oGpbtKYv2j6galu0pi/5W+Q4Uqeyr9o+oGpbtKYv2tArIGQSui/aPqBqW7SmL8/UPj2IxHZv2j6galu0pi/aPqBqW7SmL9vMnolx/b0v+osLNponuw/aPqBqW7SmL9o+oGpbtKYv2j6galu0pi/aPqBqW7SmL+uKLpRsyD3P6hEHgpGyP2/5W+Q4Uqeyr/KOCVyVzMNQOVvkOFKnsq/aPqBqW7SmL9FNJQ+kWniv1ws7oNHBvK/aPqBqW7SmL9o+oGpbtKYv0vxLzevacQ/6iws2mie7D+QJoGN2GEEQGtArIGQSui/aPqBqW7SmL+COAbHRuf3v2j6galu0pi/aPqBqW7SmL+RTMTEjyvuv/EQyCHW9tU/aPqBqW7SmL9o+oGpbtKYv2j6galu0pi/5W+Q4Uqeyr8/UPj2IxHZv8QgFJdpveY/bzJ6Jcf29L+VPpJoxtf6v2j6galu0pi/5W+Q4Uqeyr9o+oGpbtKYv3iinlorihFAaPqBqW7SmL9o+oGpbtKYv+VvkOFKnsq/RTSUPpFp4r+COAbHRuf3v5siLrAzMPQ/P1D49iMR2b+tL9P/l8oIQD9Q+PYjEdm/5W+Q4Uqeyr+bIi6wMzD0P5FMxMSPK+6/5W+Q4Uqeyr9o+oGpbtKYv+VvkOFKnsq/5W+Q4Uqeyr8/UPj2IxHZv+osLNponuw/mSlHXhjaBUA/UPj2IxHZv+VvkOFKnsq/S/EvN69pxD/xEMgh1vbVP3ouJ0gixQTAaPqBqW7SmL9L8S83r2nEP2j6galu0pi/aPqBqW7SmL9L8S83r2nEP0U0lD6RaeK/S/EvN69pxD+COAbHRuf3v/EQyCHW9tU/S/EvN69pxD8/UPj2IxHZv54U/FNq3OA/S/EvN69pxD9L8S83r2nEP0vxLzevacQ/S/EvN69pxD/xEMgh1vbVP2tArIGQSui/bzJ6Jcf29L/EIBSXab3mP0vxLzevacQ/\",\"dtype\":\"float64\",\"order\":\"little\",\"shape\":[144]},\"seasonal\":[-1,7,8,-3,-4,-3,-4,24,0,-3,-4,-2,-3,11,1,-3,-4,-4,-2,-1,9,-4,-1,-4,-2,5,10,-3,-4,-3,-3,17,0,-3,-3,-3,-3,6,5,-3,-4,-4,-3,0,7,-3,2,-4,-2,3,13,-3,-4,-3,-2,10,1,-3,-1,-4,-3,2,8,-3,-4,-3,-3,2,5,-1,4,-3,-3,0,16,-2,-4,-3,-2,6,1,-3,3,-4,-3,1,6,-3,-3,-3,-2,2,5,3,4,-3,-3,-3,13,-2,-3,-3,-2,2,1,-3,5,-3,-2,1,2,-2,-1,-1,-1,0,5,6,1,-1,-4,-5,11,-2,-3,-2,-2,-2,2,-2,8,-2,-1,2,-2,0,0,0,0,0,6,10,-1,1],\"trend\":[4,4,5,5,5,5,5,5,5,5,5,5,5,5,5,5,5,5,5,5,5,5,5,5,5,5,5,5,5,5,5,5,5,5,5,5,5,5,5,5,5,5,5,5,5,4,4,4,4,4,4,4,4,4,4,4,5,5,5,5,5,5,5,5,5,5,5,5,6,6,6,6,6,6,6,6,6,6,6,6,6,6,6,6,6,6,6,6,6,6,6,6,6,6,6,6,6,6,6,6,6,6,6,6,6,6,6,6,6,6,6,5,5,5,5,4,4,4,4,3,3,3,2,2,2,2,1,1,1,0,0,0,0,0,0,0,-1,-1,-1,-2,-2,-2,-2,-3],\"weights\":[1,1,1,1,1,1,1,1,1,1,1,1,1,1,1,1,1,1,1,1,1,1,1,1,1,1,1,1,1,1,1,1,1,1,1,1,1,1,1,1,1,1,1,1,1,1,1,1,1,1,1,1,1,1,1,1,1,1,1,1,1,1,1,1,1,1,1,1,1,1,1,1,1,1,1,1,1,1,1,1,1,1,1,1,1,1,1,1,1,1,1,1,1,1,1,1,1,1,1,1,1,1,1,1,1,1,1,1,1,1,1,1,1,1,1,1,1,1,1,1,1,1,1,1,1,1,1,1,1,1,1,1,1,1,1,1,1,1,1,1,1,1,1,1]},\"selected\":{\"id\":\"2372\"},\"selection_policy\":{\"id\":\"2371\"}},\"id\":\"2321\",\"type\":\"ColumnDataSource\"},{\"attributes\":{\"active_multi\":{\"id\":\"2327\"},\"tools\":[{\"id\":\"2327\"}]},\"id\":\"2317\",\"type\":\"Toolbar\"},{\"attributes\":{},\"id\":\"2229\",\"type\":\"AllLabels\"},{\"attributes\":{\"months\":[0,6]},\"id\":\"2240\",\"type\":\"MonthsTicker\"},{\"attributes\":{\"axis\":{\"id\":\"2313\"},\"ticker\":null},\"id\":\"2316\",\"type\":\"Grid\"},{\"attributes\":{\"months\":[0,1,2,3,4,5,6,7,8,9,10,11]},\"id\":\"2237\",\"type\":\"MonthsTicker\"},{\"attributes\":{\"num_minor_ticks\":5,\"tickers\":[{\"id\":\"2358\"},{\"id\":\"2359\"},{\"id\":\"2360\"},{\"id\":\"2361\"},{\"id\":\"2362\"},{\"id\":\"2363\"},{\"id\":\"2364\"},{\"id\":\"2365\"},{\"id\":\"2366\"},{\"id\":\"2367\"},{\"id\":\"2368\"},{\"id\":\"2369\"}]},\"id\":\"2314\",\"type\":\"DatetimeTicker\"},{\"attributes\":{},\"id\":\"2241\",\"type\":\"YearsTicker\"},{\"attributes\":{\"days\":[1,15]},\"id\":\"2236\",\"type\":\"DaysTicker\"},{\"attributes\":{\"formatter\":{\"id\":\"2319\"},\"major_label_policy\":{\"id\":\"2340\"},\"ticker\":{\"id\":\"2314\"}},\"id\":\"2313\",\"type\":\"DatetimeAxis\"},{\"attributes\":{\"months\":[0,2,4,6,8,10]},\"id\":\"2238\",\"type\":\"MonthsTicker\"},{\"attributes\":{\"data_source\":{\"id\":\"2182\"},\"glyph\":{\"id\":\"2221\"},\"hover_glyph\":null,\"muted_glyph\":null,\"nonselection_glyph\":{\"id\":\"2222\"},\"view\":{\"id\":\"2224\"}},\"id\":\"2223\",\"type\":\"GlyphRenderer\"},{\"attributes\":{\"fill_alpha\":{\"value\":0.1},\"fill_color\":{\"value\":\"blue\"},\"line_alpha\":{\"value\":0.1},\"line_color\":{\"value\":\"blue\"},\"x\":{\"field\":\"TimeGenerated\"},\"y\":{\"field\":\"score\"}},\"id\":\"2324\",\"type\":\"Circle\"},{\"attributes\":{\"base\":60,\"mantissas\":[1,2,5,10,15,20,30],\"max_interval\":1800000.0,\"min_interval\":1000.0,\"num_minor_ticks\":0},\"id\":\"2231\",\"type\":\"AdaptiveTicker\"},{\"attributes\":{\"months\":[0,4,8]},\"id\":\"2239\",\"type\":\"MonthsTicker\"},{\"attributes\":{\"callback\":null,\"formatters\":{\"@TimeGenerated\":\"datetime\"},\"tooltips\":[[\"TimeGenerated\",\"@TimeGenerated{%F %T.%3N}\"],[\"OfficeObjectId\",\"@OfficeObjectId\"],[\"residual\",\"@residual\"],[\"trend\",\"@trend\"],[\"seasonal\",\"@seasonal\"],[\"weights\",\"@weights\"],[\"score\",\"@score\"],[\"baseline\",\"@baseline\"]]},\"id\":\"2183\",\"type\":\"HoverTool\"},{\"attributes\":{},\"id\":\"2340\",\"type\":\"AllLabels\"},{\"attributes\":{},\"id\":\"2243\",\"type\":\"UnionRenderers\"},{\"attributes\":{},\"id\":\"2244\",\"type\":\"Selection\"},{\"attributes\":{\"fill_alpha\":{\"value\":0.2},\"fill_color\":{\"value\":\"firebrick\"},\"line_color\":{\"value\":\"firebrick\"},\"marker\":{\"value\":\"circle_x\"},\"size\":{\"value\":12},\"x\":{\"field\":\"TimeGenerated\"},\"y\":{\"field\":\"OfficeObjectId\"}},\"id\":\"2275\",\"type\":\"Scatter\"},{\"attributes\":{\"fill_alpha\":0.2,\"fill_color\":\"navy\",\"level\":\"overlay\",\"line_alpha\":1.0,\"line_color\":\"black\",\"line_dash\":[2,2],\"line_width\":0.5,\"syncable\":false},\"id\":\"2328\",\"type\":\"BoxAnnotation\"},{\"attributes\":{\"source\":{\"id\":\"2321\"}},\"id\":\"2326\",\"type\":\"CDSView\"},{\"attributes\":{\"data\":{\"OfficeObjectId\":[4,2,15,1,1,2,2,44,2,2,2,3,2,15,1,1,1,1,2,3,17,3,2,1,1,29,16,2,1,2,1,1,15,1,3,2,1,18,17,3,1,2,3,3,15,1,2,2,5,3,17,3,1,1,1,15,2,2,2,1,2,1,20,1,1,1,3,17,1,3,31,1,3,2,16,3,1,5,10,27,3,3,1,1,2,2,16,3,2,3,2,6,16,2,1,3,1,2,45,4,2,2,1,1,16,1,29,1,3,15,3,2,3,2,2,3,16,26,3,1,0,0,0,0,0,0,0,0,0,0,0,0,0,0,0,0,0,0,0,0,0,0,0,0],\"TimeGenerated\":{\"__ndarray__\":\"Iz1gfGuyd0IjPUjrbrJ3QiM9MFpysndCIz0YyXWyd0IjPQA4ebJ3QiM96KZ8sndCIz3QFYCyd0IjPbiEg7J3QiM9oPOGsndCIz2IYoqyd0IjPXDRjbJ3QiM9WECRsndCIz1Ar5Syd0IjPSgemLJ3QiM9EI2bsndCIz34+56yd0IjPeBqorJ3QiM9yNmlsndCIz2wSKmyd0IjPZi3rLJ3QiM9gCawsndCIz1olbOyd0IjPVAEt7J3QiM9OHO6sndCIz0g4r2yd0IjPQhRwbJ3QiM98L/EsndCIz3YLsiyd0IjPcCdy7J3QiM9qAzPsndCIz2Qe9Kyd0IjPXjq1bJ3QiM9YFnZsndCIz1IyNyyd0IjPTA34LJ3QiM9GKbjsndCIz0AFeeyd0IjPeiD6rJ3QiM90PLtsndCIz24YfGyd0IjPaDQ9LJ3QiM9iD/4sndCIz1wrvuyd0IjPVgd/7J3QiM9QIwCs3dCIz0o+wWzd0IjPRBqCbN3QiM9+NgMs3dCIz3gRxCzd0IjPci2E7N3QiM9sCUXs3dCIz2YlBqzd0IjPYADHrN3QiM9aHIhs3dCIz1Q4SSzd0IjPThQKLN3QiM9IL8rs3dCIz0ILi+zd0IjPfCcMrN3QiM92As2s3dCIz3Aejmzd0IjPajpPLN3QiM9kFhAs3dCIz14x0Ozd0IjPWA2R7N3QiM9SKVKs3dCIz0wFE6zd0IjPRiDUbN3QiM9APJUs3dCIz3oYFizd0IjPdDPW7N3QiM9uD5fs3dCIz2grWKzd0IjPYgcZrN3QiM9cItps3dCIz1Y+myzd0IjPUBpcLN3QiM9KNhzs3dCIz0QR3ezd0IjPfi1erN3QiM94CR+s3dCIz3Ik4Gzd0IjPbAChbN3QiM9mHGIs3dCIz2A4Iuzd0IjPWhPj7N3QiM9UL6Ss3dCIz04LZazd0IjPSCcmbN3QiM9CAuds3dCIz3weaCzd0IjPdjoo7N3QiM9wFens3dCIz2oxqqzd0IjPZA1rrN3QiM9eKSxs3dCIz1gE7Wzd0IjPUiCuLN3QiM9MPG7s3dCIz0YYL+zd0IjPQDPwrN3QiM96D3Gs3dCIz3QrMmzd0IjPbgbzbN3QiM9oIrQs3dCIz2I+dOzd0IjPXBo17N3QiM9WNfas3dCIz1ARt6zd0IjPSi14bN3QiM9ECTls3dCIz34kuizd0IjPeAB7LN3QiM9yHDvs3dCIz2w3/Kzd0IjPZhO9rN3QiM9gL35s3dCIz1oLP2zd0IjPVCbALR3QiM9OAoEtHdCIz0geQe0d0IjPQjoCrR3QiM98FYOtHdCIz3YxRG0d0IjPcA0FbR3QiM9qKMYtHdCIz2QEhy0d0IjPXiBH7R3QiM9YPAitHdCIz1IXya0d0IjPTDOKbR3QiM9GD0ttHdCIz0ArDC0d0IjPegaNLR3QiM90Ik3tHdCIz24+Dq0d0IjPaBnPrR3QiM9iNZBtHdCIz1wRUW0d0IjPVi0SLR3QiM9QCNMtHdCIz0okk+0d0IjPRABU7R3QiM9+G9WtHdC\",\"dtype\":\"float64\",\"order\":\"little\",\"shape\":[144]},\"anomalies\":[0,0,0,0,0,0,0,0,0,0,0,0,0,0,0,0,0,0,0,0,0,0,0,0,0,1,0,0,0,0,0,0,0,0,0,0,0,0,0,0,0,0,0,0,0,0,0,0,0,0,0,0,0,0,0,0,0,0,0,0,0,0,0,0,0,0,0,0,0,0,1,0,0,0,0,0,0,0,0,0,0,0,0,0,0,0,0,0,0,0,0,0,0,0,0,0,0,0,1,0,0,0,0,0,0,0,1,0,0,0,0,0,0,0,0,0,0,0,0,0,0,0,0,0,0,0,0,0,0,0,0,0,0,0,0,0,0,0,0,0,0,0,0,0],\"baseline\":[3,12,13,1,0,1,0,29,6,1,0,2,1,16,7,1,0,1,2,3,15,1,4,1,3,10,16,2,1,2,2,23,6,1,2,2,1,11,11,1,0,1,2,5,12,1,7,0,2,8,18,1,0,1,2,15,6,1,4,0,1,8,14,1,1,1,2,8,11,4,10,2,3,5,22,3,1,3,4,12,7,2,9,1,2,7,13,2,2,2,3,8,11,9,10,3,2,2,20,3,2,3,4,9,8,3,11,3,4,7,8,3,3,3,3,5,10,10,5,2,-1,-2,14,0,-1,0,0,-1,3,-1,8,-2,-1,2,-3,-1,-1,-1,-1,-2,4,7,-4,-1],\"index\":[0,1,2,3,4,5,6,7,8,9,10,11,12,13,14,15,16,17,18,19,20,21,22,23,24,25,26,27,28,29,30,31,32,33,34,35,36,37,38,39,40,41,42,43,44,45,46,47,48,49,50,51,52,53,54,55,56,57,58,59,60,61,62,63,64,65,66,67,68,69,70,71,72,73,74,75,76,77,78,79,80,81,82,83,84,85,86,87,88,89,90,91,92,93,94,95,96,97,98,99,100,101,102,103,104,105,106,107,108,109,110,111,112,113,114,115,116,117,118,119,120,121,122,123,124,125,126,127,128,129,130,131,132,133,134,135,136,137,138,139,140,141,142,143],\"residual\":[0,-10,1,0,0,0,1,14,-4,0,1,0,0,-1,-6,0,0,0,0,0,1,1,-2,0,-2,18,0,0,0,0,-1,-22,8,0,0,0,0,6,5,1,0,0,0,-2,2,0,-5,1,2,-5,-1,1,0,0,-1,0,-4,0,-2,0,0,-7,5,0,0,0,0,8,-10,-1,20,-1,0,-3,-6,0,0,1,5,14,-4,0,-8,0,0,-5,2,0,0,0,-1,-2,4,-7,-9,0,-1,0,24,0,0,-1,-3,-8,7,-2,17,-2,-1,7,-5,-1,0,-1,-1,-2,5,15,-2,-1,1,2,-14,0,1,0,0,1,-3,1,-8,2,1,-2,3,1,1,1,1,2,-4,-7,4,1],\"score\":{\"__ndarray__\":\"aPqBqW7SmL+oRB4KRsj9v0vxLzevacQ/aPqBqW7SmL9o+oGpbtKYv2j6galu0pi/S/EvN69pxD+QJoGN2GEEQGtArIGQSui/aPqBqW7SmL9L8S83r2nEP2j6galu0pi/aPqBqW7SmL/lb5DhSp7Kv1ws7oNHBvK/aPqBqW7SmL9o+oGpbtKYv2j6galu0pi/aPqBqW7SmL9o+oGpbtKYv0vxLzevacQ/S/EvN69pxD8/UPj2IxHZv2j6galu0pi/P1D49iMR2b+3MpnQ10IKQGj6galu0pi/aPqBqW7SmL9o+oGpbtKYv2j6galu0pi/5W+Q4Uqeyr9ioytnkEMQwK4oulGzIPc/aPqBqW7SmL9o+oGpbtKYv2j6galu0pi/aPqBqW7SmL+IHKIOtD/xP+osLNponuw/S/EvN69pxD9o+oGpbtKYv2j6galu0pi/aPqBqW7SmL8/UPj2IxHZv/EQyCHW9tU/aPqBqW7SmL+RTMTEjyvuv0vxLzevacQ/8RDIIdb21T+RTMTEjyvuv+VvkOFKnsq/S/EvN69pxD9o+oGpbtKYv2j6galu0pi/5W+Q4Uqeyr9o+oGpbtKYv2tArIGQSui/aPqBqW7SmL8/UPj2IxHZv2j6galu0pi/aPqBqW7SmL9vMnolx/b0v+osLNponuw/aPqBqW7SmL9o+oGpbtKYv2j6galu0pi/aPqBqW7SmL+uKLpRsyD3P6hEHgpGyP2/5W+Q4Uqeyr/KOCVyVzMNQOVvkOFKnsq/aPqBqW7SmL9FNJQ+kWniv1ws7oNHBvK/aPqBqW7SmL9o+oGpbtKYv0vxLzevacQ/6iws2mie7D+QJoGN2GEEQGtArIGQSui/aPqBqW7SmL+COAbHRuf3v2j6galu0pi/aPqBqW7SmL+RTMTEjyvuv/EQyCHW9tU/aPqBqW7SmL9o+oGpbtKYv2j6galu0pi/5W+Q4Uqeyr8/UPj2IxHZv8QgFJdpveY/bzJ6Jcf29L+VPpJoxtf6v2j6galu0pi/5W+Q4Uqeyr9o+oGpbtKYv3iinlorihFAaPqBqW7SmL9o+oGpbtKYv+VvkOFKnsq/RTSUPpFp4r+COAbHRuf3v5siLrAzMPQ/P1D49iMR2b+tL9P/l8oIQD9Q+PYjEdm/5W+Q4Uqeyr+bIi6wMzD0P5FMxMSPK+6/5W+Q4Uqeyr9o+oGpbtKYv+VvkOFKnsq/5W+Q4Uqeyr8/UPj2IxHZv+osLNponuw/mSlHXhjaBUA/UPj2IxHZv+VvkOFKnsq/S/EvN69pxD/xEMgh1vbVP3ouJ0gixQTAaPqBqW7SmL9L8S83r2nEP2j6galu0pi/aPqBqW7SmL9L8S83r2nEP0U0lD6RaeK/S/EvN69pxD+COAbHRuf3v/EQyCHW9tU/S/EvN69pxD8/UPj2IxHZv54U/FNq3OA/S/EvN69pxD9L8S83r2nEP0vxLzevacQ/S/EvN69pxD/xEMgh1vbVP2tArIGQSui/bzJ6Jcf29L/EIBSXab3mP0vxLzevacQ/\",\"dtype\":\"float64\",\"order\":\"little\",\"shape\":[144]},\"seasonal\":[-1,7,8,-3,-4,-3,-4,24,0,-3,-4,-2,-3,11,1,-3,-4,-4,-2,-1,9,-4,-1,-4,-2,5,10,-3,-4,-3,-3,17,0,-3,-3,-3,-3,6,5,-3,-4,-4,-3,0,7,-3,2,-4,-2,3,13,-3,-4,-3,-2,10,1,-3,-1,-4,-3,2,8,-3,-4,-3,-3,2,5,-1,4,-3,-3,0,16,-2,-4,-3,-2,6,1,-3,3,-4,-3,1,6,-3,-3,-3,-2,2,5,3,4,-3,-3,-3,13,-2,-3,-3,-2,2,1,-3,5,-3,-2,1,2,-2,-1,-1,-1,0,5,6,1,-1,-4,-5,11,-2,-3,-2,-2,-2,2,-2,8,-2,-1,2,-2,0,0,0,0,0,6,10,-1,1],\"trend\":[4,4,5,5,5,5,5,5,5,5,5,5,5,5,5,5,5,5,5,5,5,5,5,5,5,5,5,5,5,5,5,5,5,5,5,5,5,5,5,5,5,5,5,5,5,4,4,4,4,4,4,4,4,4,4,4,5,5,5,5,5,5,5,5,5,5,5,5,6,6,6,6,6,6,6,6,6,6,6,6,6,6,6,6,6,6,6,6,6,6,6,6,6,6,6,6,6,6,6,6,6,6,6,6,6,6,6,6,6,6,6,5,5,5,5,4,4,4,4,3,3,3,2,2,2,2,1,1,1,0,0,0,0,0,0,0,-1,-1,-1,-2,-2,-2,-2,-3],\"weights\":[1,1,1,1,1,1,1,1,1,1,1,1,1,1,1,1,1,1,1,1,1,1,1,1,1,1,1,1,1,1,1,1,1,1,1,1,1,1,1,1,1,1,1,1,1,1,1,1,1,1,1,1,1,1,1,1,1,1,1,1,1,1,1,1,1,1,1,1,1,1,1,1,1,1,1,1,1,1,1,1,1,1,1,1,1,1,1,1,1,1,1,1,1,1,1,1,1,1,1,1,1,1,1,1,1,1,1,1,1,1,1,1,1,1,1,1,1,1,1,1,1,1,1,1,1,1,1,1,1,1,1,1,1,1,1,1,1,1,1,1,1,1,1,1]},\"selected\":{\"id\":\"2244\"},\"selection_policy\":{\"id\":\"2243\"}},\"id\":\"2182\",\"type\":\"ColumnDataSource\"},{\"attributes\":{\"days\":[\"%m-%d %H:%M\"],\"hours\":[\"%H:%M:%S\"],\"milliseconds\":[\"%H:%M:%S.%3N\"],\"minutes\":[\"%H:%M:%S\"],\"seconds\":[\"%H:%M:%S\"]},\"id\":\"2216\",\"type\":\"DatetimeTickFormatter\"},{\"attributes\":{\"fill_color\":{\"value\":\"blue\"},\"line_color\":{\"value\":\"blue\"},\"x\":{\"field\":\"TimeGenerated\"},\"y\":{\"field\":\"score\"}},\"id\":\"2323\",\"type\":\"Circle\"},{\"attributes\":{\"base\":24,\"mantissas\":[1,2,4,6,8,12],\"max_interval\":43200000.0,\"min_interval\":3600000.0,\"num_minor_ticks\":0},\"id\":\"2232\",\"type\":\"AdaptiveTicker\"},{\"attributes\":{\"axis\":{\"id\":\"2195\"},\"grid_line_color\":null,\"ticker\":null},\"id\":\"2198\",\"type\":\"Grid\"},{\"attributes\":{\"format\":\"00\"},\"id\":\"2218\",\"type\":\"NumeralTickFormatter\"},{\"attributes\":{\"end\":1628982723171.821,\"start\":1628416443171.821},\"id\":\"2187\",\"type\":\"Range1d\"},{\"attributes\":{\"below\":[{\"id\":\"2195\"}],\"center\":[{\"id\":\"2198\"},{\"id\":\"2202\"},{\"id\":\"2245\"}],\"height\":300,\"left\":[{\"id\":\"2199\"}],\"min_border_left\":50,\"renderers\":[{\"id\":\"2223\"},{\"id\":\"2250\"},{\"id\":\"2277\"}],\"title\":{\"id\":\"2185\"},\"toolbar\":{\"id\":\"2209\"},\"toolbar_location\":\"above\",\"width\":1200,\"x_range\":{\"id\":\"2187\"},\"x_scale\":{\"id\":\"2191\"},\"y_range\":{\"id\":\"2189\"},\"y_scale\":{\"id\":\"2193\"}},\"id\":\"2184\",\"subtype\":\"Figure\",\"type\":\"Plot\"},{\"attributes\":{\"text\":\"Time Series Anomalies Visualization\"},\"id\":\"2185\",\"type\":\"Title\"},{\"attributes\":{},\"id\":\"2193\",\"type\":\"LinearScale\"},{\"attributes\":{},\"id\":\"2189\",\"type\":\"DataRange1d\"},{\"attributes\":{\"num_minor_ticks\":10,\"tickers\":[{\"id\":\"2230\"},{\"id\":\"2231\"},{\"id\":\"2232\"},{\"id\":\"2233\"},{\"id\":\"2234\"},{\"id\":\"2235\"},{\"id\":\"2236\"},{\"id\":\"2237\"},{\"id\":\"2238\"},{\"id\":\"2239\"},{\"id\":\"2240\"},{\"id\":\"2241\"}]},\"id\":\"2196\",\"type\":\"DatetimeTicker\"},{\"attributes\":{\"axis_label\":\"OfficeObjectId\",\"formatter\":{\"id\":\"2218\"},\"major_label_policy\":{\"id\":\"2229\"},\"ticker\":{\"id\":\"2200\"}},\"id\":\"2199\",\"type\":\"LinearAxis\"},{\"attributes\":{\"axis_label\":\"TimeGenerated\",\"formatter\":{\"id\":\"2216\"},\"major_label_policy\":{\"id\":\"2227\"},\"ticker\":{\"id\":\"2196\"}},\"id\":\"2195\",\"type\":\"DatetimeAxis\"},{\"attributes\":{\"days\":[1,4,7,10,13,16,19,22,25,28]},\"id\":\"2234\",\"type\":\"DaysTicker\"},{\"attributes\":{},\"id\":\"2191\",\"type\":\"LinearScale\"},{\"attributes\":{\"days\":[1,2,3,4,5,6,7,8,9,10,11,12,13,14,15,16,17,18,19,20,21,22,23,24,25,26,27,28,29,30,31]},\"id\":\"2361\",\"type\":\"DaysTicker\"},{\"attributes\":{\"overlay\":{\"id\":\"2208\"}},\"id\":\"2204\",\"type\":\"BoxZoomTool\"},{\"attributes\":{\"below\":[{\"id\":\"2313\"},{\"id\":\"2318\"}],\"center\":[{\"id\":\"2316\"}],\"height\":120,\"renderers\":[{\"id\":\"2325\"}],\"title\":{\"id\":\"2303\"},\"toolbar\":{\"id\":\"2317\"},\"toolbar_location\":null,\"width\":1200,\"x_range\":{\"id\":\"2305\"},\"x_scale\":{\"id\":\"2309\"},\"y_range\":{\"id\":\"2307\"},\"y_scale\":{\"id\":\"2311\"}},\"id\":\"2302\",\"subtype\":\"Figure\",\"type\":\"Plot\"},{\"attributes\":{\"axis\":{\"id\":\"2199\"},\"dimension\":1,\"grid_line_color\":null,\"ticker\":null},\"id\":\"2202\",\"type\":\"Grid\"},{\"attributes\":{\"days\":[1,8,15,22]},\"id\":\"2235\",\"type\":\"DaysTicker\"},{\"attributes\":{},\"id\":\"2200\",\"type\":\"BasicTicker\"},{\"attributes\":{},\"id\":\"2206\",\"type\":\"SaveTool\"},{\"attributes\":{},\"id\":\"2372\",\"type\":\"Selection\"},{\"attributes\":{\"dimensions\":\"width\"},\"id\":\"2203\",\"type\":\"WheelZoomTool\"},{\"attributes\":{\"days\":[1,2,3,4,5,6,7,8,9,10,11,12,13,14,15,16,17,18,19,20,21,22,23,24,25,26,27,28,29,30,31]},\"id\":\"2233\",\"type\":\"DaysTicker\"},{\"attributes\":{},\"id\":\"2205\",\"type\":\"ResetTool\"},{\"attributes\":{\"months\":[0,1,2,3,4,5,6,7,8,9,10,11]},\"id\":\"2365\",\"type\":\"MonthsTicker\"},{\"attributes\":{\"dimensions\":\"width\"},\"id\":\"2207\",\"type\":\"PanTool\"},{\"attributes\":{\"mantissas\":[1,2,5],\"max_interval\":500.0,\"num_minor_ticks\":0},\"id\":\"2358\",\"type\":\"AdaptiveTicker\"},{\"attributes\":{\"days\":[1,4,7,10,13,16,19,22,25,28]},\"id\":\"2362\",\"type\":\"DaysTicker\"},{\"attributes\":{\"data_source\":{\"id\":\"2182\"},\"glyph\":{\"id\":\"2248\"},\"hover_glyph\":null,\"muted_glyph\":null,\"nonselection_glyph\":{\"id\":\"2249\"},\"view\":{\"id\":\"2251\"}},\"id\":\"2250\",\"type\":\"GlyphRenderer\"},{\"attributes\":{\"months\":[0,4,8]},\"id\":\"2367\",\"type\":\"MonthsTicker\"},{\"attributes\":{\"months\":[0,2,4,6,8,10]},\"id\":\"2366\",\"type\":\"MonthsTicker\"},{\"attributes\":{\"label\":{\"value\":\"baseline\"},\"renderers\":[{\"id\":\"2250\"}]},\"id\":\"2272\",\"type\":\"LegendItem\"},{\"attributes\":{},\"id\":\"2307\",\"type\":\"DataRange1d\"},{\"attributes\":{\"mantissas\":[1,2,5],\"max_interval\":500.0,\"num_minor_ticks\":0},\"id\":\"2230\",\"type\":\"AdaptiveTicker\"},{\"attributes\":{\"months\":[0,6]},\"id\":\"2368\",\"type\":\"MonthsTicker\"},{\"attributes\":{\"line_alpha\":0.1,\"line_color\":\"green\",\"x\":{\"field\":\"TimeGenerated\"},\"y\":{\"field\":\"baseline\"}},\"id\":\"2249\",\"type\":\"Line\"},{\"attributes\":{\"fill_alpha\":{\"value\":0.1},\"fill_color\":{\"value\":\"#1f77b4\"},\"line_alpha\":{\"value\":0.1},\"line_color\":{\"value\":\"navy\"},\"x\":{\"field\":\"TimeGenerated\"},\"y\":{\"field\":\"OfficeObjectId\"}},\"id\":\"2222\",\"type\":\"Circle\"},{\"attributes\":{\"end\":1629034203171.821,\"start\":1628364963171.821},\"id\":\"2305\",\"type\":\"Range1d\"},{\"attributes\":{\"line_color\":\"green\",\"x\":{\"field\":\"TimeGenerated\"},\"y\":{\"field\":\"baseline\"}},\"id\":\"2248\",\"type\":\"Line\"},{\"attributes\":{\"source\":{\"id\":\"2182\"}},\"id\":\"2251\",\"type\":\"CDSView\"},{\"attributes\":{\"fill_color\":{\"value\":\"#1f77b4\"},\"line_color\":{\"value\":\"navy\"},\"x\":{\"field\":\"TimeGenerated\"},\"y\":{\"field\":\"OfficeObjectId\"}},\"id\":\"2221\",\"type\":\"Circle\"},{\"attributes\":{\"base\":60,\"mantissas\":[1,2,5,10,15,20,30],\"max_interval\":1800000.0,\"min_interval\":1000.0,\"num_minor_ticks\":0},\"id\":\"2359\",\"type\":\"AdaptiveTicker\"},{\"attributes\":{},\"id\":\"2369\",\"type\":\"YearsTicker\"},{\"attributes\":{\"active_multi\":null,\"tools\":[{\"id\":\"2183\"},{\"id\":\"2203\"},{\"id\":\"2204\"},{\"id\":\"2205\"},{\"id\":\"2206\"},{\"id\":\"2207\"}]},\"id\":\"2209\",\"type\":\"Toolbar\"},{\"attributes\":{\"base\":24,\"mantissas\":[1,2,4,6,8,12],\"max_interval\":43200000.0,\"min_interval\":3600000.0,\"num_minor_ticks\":0},\"id\":\"2360\",\"type\":\"AdaptiveTicker\"},{\"attributes\":{\"data\":{\"OfficeObjectId\":[29,31,45,29],\"TimeGenerated\":{\"__ndarray__\":\"Iz0IUcGyd0IjPdDPW7N3QiM9MPG7s3dCIz1waNezd0I=\",\"dtype\":\"float64\",\"order\":\"little\",\"shape\":[4]},\"baseline\":[10,10,20,11],\"index\":[25,70,98,106],\"level_0\":[0,1,2,3],\"residual\":[18,20,24,17],\"score\":{\"__ndarray__\":\"tzKZ0NdCCkDKOCVyVzMNQHiinlorihFArS/T/5fKCEA=\",\"dtype\":\"float64\",\"order\":\"little\",\"shape\":[4]},\"seasonal\":[5,4,13,5],\"trend\":[5,6,6,6],\"weights\":[1,1,1,1]},\"selected\":{\"id\":\"2300\"},\"selection_policy\":{\"id\":\"2299\"}},\"id\":\"2273\",\"type\":\"ColumnDataSource\"},{\"attributes\":{\"days\":[1,15]},\"id\":\"2364\",\"type\":\"DaysTicker\"},{\"attributes\":{\"days\":[1,8,15,22]},\"id\":\"2363\",\"type\":\"DaysTicker\"},{\"attributes\":{\"data_source\":{\"id\":\"2273\"},\"glyph\":{\"id\":\"2275\"},\"hover_glyph\":null,\"muted_glyph\":null,\"nonselection_glyph\":{\"id\":\"2276\"},\"view\":{\"id\":\"2278\"}},\"id\":\"2277\",\"type\":\"GlyphRenderer\"},{\"attributes\":{},\"id\":\"2299\",\"type\":\"UnionRenderers\"},{\"attributes\":{},\"id\":\"2311\",\"type\":\"LinearScale\"},{\"attributes\":{\"fill_alpha\":{\"value\":0.1},\"fill_color\":{\"value\":\"firebrick\"},\"line_alpha\":{\"value\":0.1},\"line_color\":{\"value\":\"firebrick\"},\"marker\":{\"value\":\"circle_x\"},\"size\":{\"value\":12},\"x\":{\"field\":\"TimeGenerated\"},\"y\":{\"field\":\"OfficeObjectId\"}},\"id\":\"2276\",\"type\":\"Scatter\"},{\"attributes\":{\"source\":{\"id\":\"2273\"}},\"id\":\"2278\",\"type\":\"CDSView\"},{\"attributes\":{\"bottom_units\":\"screen\",\"fill_alpha\":0.5,\"fill_color\":\"lightgrey\",\"left_units\":\"screen\",\"level\":\"overlay\",\"line_alpha\":1.0,\"line_color\":\"black\",\"line_dash\":[4,4],\"line_width\":2,\"right_units\":\"screen\",\"syncable\":false,\"top_units\":\"screen\"},\"id\":\"2208\",\"type\":\"BoxAnnotation\"},{\"attributes\":{},\"id\":\"2309\",\"type\":\"LinearScale\"},{\"attributes\":{},\"id\":\"2371\",\"type\":\"UnionRenderers\"},{\"attributes\":{\"label\":{\"value\":\"observed\"},\"renderers\":[{\"id\":\"2223\"}]},\"id\":\"2246\",\"type\":\"LegendItem\"},{\"attributes\":{\"label\":{\"value\":\"anomalies\"},\"renderers\":[{\"id\":\"2277\"}]},\"id\":\"2301\",\"type\":\"LegendItem\"},{\"attributes\":{\"source\":{\"id\":\"2182\"}},\"id\":\"2224\",\"type\":\"CDSView\"}],\"root_ids\":[\"2332\"]},\"title\":\"Bokeh Application\",\"version\":\"2.3.3\"}};\n",
       "  var render_items = [{\"docid\":\"db404c2d-40d8-49e4-9704-e8b5aee4c672\",\"root_ids\":[\"2332\"],\"roots\":{\"2332\":\"ba2365f6-3f02-46a7-8eed-c3f151050964\"}}];\n",
       "  root.Bokeh.embed.embed_items_notebook(docs_json, render_items);\n",
       "\n",
       "  }\n",
       "  if (root.Bokeh !== undefined) {\n",
       "    embed_document(root);\n",
       "  } else {\n",
       "    var attempts = 0;\n",
       "    var timer = setInterval(function(root) {\n",
       "      if (root.Bokeh !== undefined) {\n",
       "        clearInterval(timer);\n",
       "        embed_document(root);\n",
       "      } else {\n",
       "        attempts++;\n",
       "        if (attempts > 100) {\n",
       "          clearInterval(timer);\n",
       "          console.log(\"Bokeh: ERROR: Unable to run BokehJS code because BokehJS library is missing\");\n",
       "        }\n",
       "      }\n",
       "    }, 10, root)\n",
       "  }\n",
       "})(window);"
      ],
      "application/vnd.bokehjs_exec.v0+json": ""
     },
     "metadata": {
      "application/vnd.bokehjs_exec.v0+json": {
       "id": "2332"
      }
     },
     "output_type": "display_data"
    },
    {
     "name": "stdout",
     "output_type": "stream",
     "text": [
      "\n",
      "Time Series for Parameters\n",
      "\n"
     ]
    },
    {
     "data": {
      "text/html": [
       "\n",
       "    <div class=\"bk-root\">\n",
       "        <a href=\"https://bokeh.org\" target=\"_blank\" class=\"bk-logo bk-logo-small bk-logo-notebook\"></a>\n",
       "        <span id=\"2574\">Loading BokehJS ...</span>\n",
       "    </div>"
      ]
     },
     "metadata": {},
     "output_type": "display_data"
    },
    {
     "data": {
      "application/javascript": [
       "\n",
       "(function(root) {\n",
       "  function now() {\n",
       "    return new Date();\n",
       "  }\n",
       "\n",
       "  var force = true;\n",
       "\n",
       "  if (typeof root._bokeh_onload_callbacks === \"undefined\" || force === true) {\n",
       "    root._bokeh_onload_callbacks = [];\n",
       "    root._bokeh_is_loading = undefined;\n",
       "  }\n",
       "\n",
       "  var JS_MIME_TYPE = 'application/javascript';\n",
       "  var HTML_MIME_TYPE = 'text/html';\n",
       "  var EXEC_MIME_TYPE = 'application/vnd.bokehjs_exec.v0+json';\n",
       "  var CLASS_NAME = 'output_bokeh rendered_html';\n",
       "\n",
       "  /**\n",
       "   * Render data to the DOM node\n",
       "   */\n",
       "  function render(props, node) {\n",
       "    var script = document.createElement(\"script\");\n",
       "    node.appendChild(script);\n",
       "  }\n",
       "\n",
       "  /**\n",
       "   * Handle when an output is cleared or removed\n",
       "   */\n",
       "  function handleClearOutput(event, handle) {\n",
       "    var cell = handle.cell;\n",
       "\n",
       "    var id = cell.output_area._bokeh_element_id;\n",
       "    var server_id = cell.output_area._bokeh_server_id;\n",
       "    // Clean up Bokeh references\n",
       "    if (id != null && id in Bokeh.index) {\n",
       "      Bokeh.index[id].model.document.clear();\n",
       "      delete Bokeh.index[id];\n",
       "    }\n",
       "\n",
       "    if (server_id !== undefined) {\n",
       "      // Clean up Bokeh references\n",
       "      var cmd = \"from bokeh.io.state import curstate; print(curstate().uuid_to_server['\" + server_id + \"'].get_sessions()[0].document.roots[0]._id)\";\n",
       "      cell.notebook.kernel.execute(cmd, {\n",
       "        iopub: {\n",
       "          output: function(msg) {\n",
       "            var id = msg.content.text.trim();\n",
       "            if (id in Bokeh.index) {\n",
       "              Bokeh.index[id].model.document.clear();\n",
       "              delete Bokeh.index[id];\n",
       "            }\n",
       "          }\n",
       "        }\n",
       "      });\n",
       "      // Destroy server and session\n",
       "      var cmd = \"import bokeh.io.notebook as ion; ion.destroy_server('\" + server_id + \"')\";\n",
       "      cell.notebook.kernel.execute(cmd);\n",
       "    }\n",
       "  }\n",
       "\n",
       "  /**\n",
       "   * Handle when a new output is added\n",
       "   */\n",
       "  function handleAddOutput(event, handle) {\n",
       "    var output_area = handle.output_area;\n",
       "    var output = handle.output;\n",
       "\n",
       "    // limit handleAddOutput to display_data with EXEC_MIME_TYPE content only\n",
       "    if ((output.output_type != \"display_data\") || (!Object.prototype.hasOwnProperty.call(output.data, EXEC_MIME_TYPE))) {\n",
       "      return\n",
       "    }\n",
       "\n",
       "    var toinsert = output_area.element.find(\".\" + CLASS_NAME.split(' ')[0]);\n",
       "\n",
       "    if (output.metadata[EXEC_MIME_TYPE][\"id\"] !== undefined) {\n",
       "      toinsert[toinsert.length - 1].firstChild.textContent = output.data[JS_MIME_TYPE];\n",
       "      // store reference to embed id on output_area\n",
       "      output_area._bokeh_element_id = output.metadata[EXEC_MIME_TYPE][\"id\"];\n",
       "    }\n",
       "    if (output.metadata[EXEC_MIME_TYPE][\"server_id\"] !== undefined) {\n",
       "      var bk_div = document.createElement(\"div\");\n",
       "      bk_div.innerHTML = output.data[HTML_MIME_TYPE];\n",
       "      var script_attrs = bk_div.children[0].attributes;\n",
       "      for (var i = 0; i < script_attrs.length; i++) {\n",
       "        toinsert[toinsert.length - 1].firstChild.setAttribute(script_attrs[i].name, script_attrs[i].value);\n",
       "        toinsert[toinsert.length - 1].firstChild.textContent = bk_div.children[0].textContent\n",
       "      }\n",
       "      // store reference to server id on output_area\n",
       "      output_area._bokeh_server_id = output.metadata[EXEC_MIME_TYPE][\"server_id\"];\n",
       "    }\n",
       "  }\n",
       "\n",
       "  function register_renderer(events, OutputArea) {\n",
       "\n",
       "    function append_mime(data, metadata, element) {\n",
       "      // create a DOM node to render to\n",
       "      var toinsert = this.create_output_subarea(\n",
       "        metadata,\n",
       "        CLASS_NAME,\n",
       "        EXEC_MIME_TYPE\n",
       "      );\n",
       "      this.keyboard_manager.register_events(toinsert);\n",
       "      // Render to node\n",
       "      var props = {data: data, metadata: metadata[EXEC_MIME_TYPE]};\n",
       "      render(props, toinsert[toinsert.length - 1]);\n",
       "      element.append(toinsert);\n",
       "      return toinsert\n",
       "    }\n",
       "\n",
       "    /* Handle when an output is cleared or removed */\n",
       "    events.on('clear_output.CodeCell', handleClearOutput);\n",
       "    events.on('delete.Cell', handleClearOutput);\n",
       "\n",
       "    /* Handle when a new output is added */\n",
       "    events.on('output_added.OutputArea', handleAddOutput);\n",
       "\n",
       "    /**\n",
       "     * Register the mime type and append_mime function with output_area\n",
       "     */\n",
       "    OutputArea.prototype.register_mime_type(EXEC_MIME_TYPE, append_mime, {\n",
       "      /* Is output safe? */\n",
       "      safe: true,\n",
       "      /* Index of renderer in `output_area.display_order` */\n",
       "      index: 0\n",
       "    });\n",
       "  }\n",
       "\n",
       "  // register the mime type if in Jupyter Notebook environment and previously unregistered\n",
       "  if (root.Jupyter !== undefined) {\n",
       "    var events = require('base/js/events');\n",
       "    var OutputArea = require('notebook/js/outputarea').OutputArea;\n",
       "\n",
       "    if (OutputArea.prototype.mime_types().indexOf(EXEC_MIME_TYPE) == -1) {\n",
       "      register_renderer(events, OutputArea);\n",
       "    }\n",
       "  }\n",
       "\n",
       "  \n",
       "  if (typeof (root._bokeh_timeout) === \"undefined\" || force === true) {\n",
       "    root._bokeh_timeout = Date.now() + 5000;\n",
       "    root._bokeh_failed_load = false;\n",
       "  }\n",
       "\n",
       "  var NB_LOAD_WARNING = {'data': {'text/html':\n",
       "     \"<div style='background-color: #fdd'>\\n\"+\n",
       "     \"<p>\\n\"+\n",
       "     \"BokehJS does not appear to have successfully loaded. If loading BokehJS from CDN, this \\n\"+\n",
       "     \"may be due to a slow or bad network connection. Possible fixes:\\n\"+\n",
       "     \"</p>\\n\"+\n",
       "     \"<ul>\\n\"+\n",
       "     \"<li>re-rerun `output_notebook()` to attempt to load from CDN again, or</li>\\n\"+\n",
       "     \"<li>use INLINE resources instead, as so:</li>\\n\"+\n",
       "     \"</ul>\\n\"+\n",
       "     \"<code>\\n\"+\n",
       "     \"from bokeh.resources import INLINE\\n\"+\n",
       "     \"output_notebook(resources=INLINE)\\n\"+\n",
       "     \"</code>\\n\"+\n",
       "     \"</div>\"}};\n",
       "\n",
       "  function display_loaded() {\n",
       "    var el = document.getElementById(\"2574\");\n",
       "    if (el != null) {\n",
       "      el.textContent = \"BokehJS is loading...\";\n",
       "    }\n",
       "    if (root.Bokeh !== undefined) {\n",
       "      if (el != null) {\n",
       "        el.textContent = \"BokehJS \" + root.Bokeh.version + \" successfully loaded.\";\n",
       "      }\n",
       "    } else if (Date.now() < root._bokeh_timeout) {\n",
       "      setTimeout(display_loaded, 100)\n",
       "    }\n",
       "  }\n",
       "\n",
       "\n",
       "  function run_callbacks() {\n",
       "    try {\n",
       "      root._bokeh_onload_callbacks.forEach(function(callback) {\n",
       "        if (callback != null)\n",
       "          callback();\n",
       "      });\n",
       "    } finally {\n",
       "      delete root._bokeh_onload_callbacks\n",
       "    }\n",
       "    console.debug(\"Bokeh: all callbacks have finished\");\n",
       "  }\n",
       "\n",
       "  function load_libs(css_urls, js_urls, callback) {\n",
       "    if (css_urls == null) css_urls = [];\n",
       "    if (js_urls == null) js_urls = [];\n",
       "\n",
       "    root._bokeh_onload_callbacks.push(callback);\n",
       "    if (root._bokeh_is_loading > 0) {\n",
       "      console.debug(\"Bokeh: BokehJS is being loaded, scheduling callback at\", now());\n",
       "      return null;\n",
       "    }\n",
       "    if (js_urls == null || js_urls.length === 0) {\n",
       "      run_callbacks();\n",
       "      return null;\n",
       "    }\n",
       "    console.debug(\"Bokeh: BokehJS not loaded, scheduling load and callback at\", now());\n",
       "    root._bokeh_is_loading = css_urls.length + js_urls.length;\n",
       "\n",
       "    function on_load() {\n",
       "      root._bokeh_is_loading--;\n",
       "      if (root._bokeh_is_loading === 0) {\n",
       "        console.debug(\"Bokeh: all BokehJS libraries/stylesheets loaded\");\n",
       "        run_callbacks()\n",
       "      }\n",
       "    }\n",
       "\n",
       "    function on_error(url) {\n",
       "      console.error(\"failed to load \" + url);\n",
       "    }\n",
       "\n",
       "    for (let i = 0; i < css_urls.length; i++) {\n",
       "      const url = css_urls[i];\n",
       "      const element = document.createElement(\"link\");\n",
       "      element.onload = on_load;\n",
       "      element.onerror = on_error.bind(null, url);\n",
       "      element.rel = \"stylesheet\";\n",
       "      element.type = \"text/css\";\n",
       "      element.href = url;\n",
       "      console.debug(\"Bokeh: injecting link tag for BokehJS stylesheet: \", url);\n",
       "      document.body.appendChild(element);\n",
       "    }\n",
       "\n",
       "    const hashes = {\"https://cdn.bokeh.org/bokeh/release/bokeh-2.3.3.min.js\": \"dM3QQsP+wXdHg42wTqW85BjZQdLNNIXqlPw/BgKoExPmTG7ZLML4EGqLMfqHT6ON\", \"https://cdn.bokeh.org/bokeh/release/bokeh-tables-2.3.3.min.js\": \"8x57I4YuIfu8XyZfFo0XVr2WAT8EK4rh/uDe3wF7YuW2FNUSNEpJbsPaB1nJ2fz2\", \"https://cdn.bokeh.org/bokeh/release/bokeh-widgets-2.3.3.min.js\": \"3QTqdz9LyAm2i0sG5XTePsHec3UHWwVsrOL68SYRoAXsafvfAyqtQ+h440+qIBhS\"};\n",
       "\n",
       "    for (let i = 0; i < js_urls.length; i++) {\n",
       "      const url = js_urls[i];\n",
       "      const element = document.createElement('script');\n",
       "      element.onload = on_load;\n",
       "      element.onerror = on_error.bind(null, url);\n",
       "      element.async = false;\n",
       "      element.src = url;\n",
       "      if (url in hashes) {\n",
       "        element.crossOrigin = \"anonymous\";\n",
       "        element.integrity = \"sha384-\" + hashes[url];\n",
       "      }\n",
       "      console.debug(\"Bokeh: injecting script tag for BokehJS library: \", url);\n",
       "      document.head.appendChild(element);\n",
       "    }\n",
       "  };\n",
       "\n",
       "  function inject_raw_css(css) {\n",
       "    const element = document.createElement(\"style\");\n",
       "    element.appendChild(document.createTextNode(css));\n",
       "    document.body.appendChild(element);\n",
       "  }\n",
       "\n",
       "  \n",
       "  var js_urls = [\"https://cdn.bokeh.org/bokeh/release/bokeh-2.3.3.min.js\", \"https://cdn.bokeh.org/bokeh/release/bokeh-widgets-2.3.3.min.js\", \"https://cdn.bokeh.org/bokeh/release/bokeh-tables-2.3.3.min.js\"];\n",
       "  var css_urls = [];\n",
       "  \n",
       "\n",
       "  var inline_js = [\n",
       "    function(Bokeh) {\n",
       "      Bokeh.set_log_level(\"info\");\n",
       "    },\n",
       "    function(Bokeh) {\n",
       "    \n",
       "    \n",
       "    }\n",
       "  ];\n",
       "\n",
       "  function run_inline_js() {\n",
       "    \n",
       "    if (root.Bokeh !== undefined || force === true) {\n",
       "      \n",
       "    for (var i = 0; i < inline_js.length; i++) {\n",
       "      inline_js[i].call(root, root.Bokeh);\n",
       "    }\n",
       "    if (force === true) {\n",
       "        display_loaded();\n",
       "      }} else if (Date.now() < root._bokeh_timeout) {\n",
       "      setTimeout(run_inline_js, 100);\n",
       "    } else if (!root._bokeh_failed_load) {\n",
       "      console.log(\"Bokeh: BokehJS failed to load within specified timeout.\");\n",
       "      root._bokeh_failed_load = true;\n",
       "    } else if (force !== true) {\n",
       "      var cell = $(document.getElementById(\"2574\")).parents('.cell').data().cell;\n",
       "      cell.output_area.append_execute_result(NB_LOAD_WARNING)\n",
       "    }\n",
       "\n",
       "  }\n",
       "\n",
       "  if (root._bokeh_is_loading === 0) {\n",
       "    console.debug(\"Bokeh: BokehJS loaded, going straight to plotting\");\n",
       "    run_inline_js();\n",
       "  } else {\n",
       "    load_libs(css_urls, js_urls, function() {\n",
       "      console.debug(\"Bokeh: BokehJS plotting callback run at\", now());\n",
       "      run_inline_js();\n",
       "    });\n",
       "  }\n",
       "}(window));"
      ],
      "application/vnd.bokehjs_load.v0+json": "\n(function(root) {\n  function now() {\n    return new Date();\n  }\n\n  var force = true;\n\n  if (typeof root._bokeh_onload_callbacks === \"undefined\" || force === true) {\n    root._bokeh_onload_callbacks = [];\n    root._bokeh_is_loading = undefined;\n  }\n\n  \n\n  \n  if (typeof (root._bokeh_timeout) === \"undefined\" || force === true) {\n    root._bokeh_timeout = Date.now() + 5000;\n    root._bokeh_failed_load = false;\n  }\n\n  var NB_LOAD_WARNING = {'data': {'text/html':\n     \"<div style='background-color: #fdd'>\\n\"+\n     \"<p>\\n\"+\n     \"BokehJS does not appear to have successfully loaded. If loading BokehJS from CDN, this \\n\"+\n     \"may be due to a slow or bad network connection. Possible fixes:\\n\"+\n     \"</p>\\n\"+\n     \"<ul>\\n\"+\n     \"<li>re-rerun `output_notebook()` to attempt to load from CDN again, or</li>\\n\"+\n     \"<li>use INLINE resources instead, as so:</li>\\n\"+\n     \"</ul>\\n\"+\n     \"<code>\\n\"+\n     \"from bokeh.resources import INLINE\\n\"+\n     \"output_notebook(resources=INLINE)\\n\"+\n     \"</code>\\n\"+\n     \"</div>\"}};\n\n  function display_loaded() {\n    var el = document.getElementById(\"2574\");\n    if (el != null) {\n      el.textContent = \"BokehJS is loading...\";\n    }\n    if (root.Bokeh !== undefined) {\n      if (el != null) {\n        el.textContent = \"BokehJS \" + root.Bokeh.version + \" successfully loaded.\";\n      }\n    } else if (Date.now() < root._bokeh_timeout) {\n      setTimeout(display_loaded, 100)\n    }\n  }\n\n\n  function run_callbacks() {\n    try {\n      root._bokeh_onload_callbacks.forEach(function(callback) {\n        if (callback != null)\n          callback();\n      });\n    } finally {\n      delete root._bokeh_onload_callbacks\n    }\n    console.debug(\"Bokeh: all callbacks have finished\");\n  }\n\n  function load_libs(css_urls, js_urls, callback) {\n    if (css_urls == null) css_urls = [];\n    if (js_urls == null) js_urls = [];\n\n    root._bokeh_onload_callbacks.push(callback);\n    if (root._bokeh_is_loading > 0) {\n      console.debug(\"Bokeh: BokehJS is being loaded, scheduling callback at\", now());\n      return null;\n    }\n    if (js_urls == null || js_urls.length === 0) {\n      run_callbacks();\n      return null;\n    }\n    console.debug(\"Bokeh: BokehJS not loaded, scheduling load and callback at\", now());\n    root._bokeh_is_loading = css_urls.length + js_urls.length;\n\n    function on_load() {\n      root._bokeh_is_loading--;\n      if (root._bokeh_is_loading === 0) {\n        console.debug(\"Bokeh: all BokehJS libraries/stylesheets loaded\");\n        run_callbacks()\n      }\n    }\n\n    function on_error(url) {\n      console.error(\"failed to load \" + url);\n    }\n\n    for (let i = 0; i < css_urls.length; i++) {\n      const url = css_urls[i];\n      const element = document.createElement(\"link\");\n      element.onload = on_load;\n      element.onerror = on_error.bind(null, url);\n      element.rel = \"stylesheet\";\n      element.type = \"text/css\";\n      element.href = url;\n      console.debug(\"Bokeh: injecting link tag for BokehJS stylesheet: \", url);\n      document.body.appendChild(element);\n    }\n\n    const hashes = {\"https://cdn.bokeh.org/bokeh/release/bokeh-2.3.3.min.js\": \"dM3QQsP+wXdHg42wTqW85BjZQdLNNIXqlPw/BgKoExPmTG7ZLML4EGqLMfqHT6ON\", \"https://cdn.bokeh.org/bokeh/release/bokeh-tables-2.3.3.min.js\": \"8x57I4YuIfu8XyZfFo0XVr2WAT8EK4rh/uDe3wF7YuW2FNUSNEpJbsPaB1nJ2fz2\", \"https://cdn.bokeh.org/bokeh/release/bokeh-widgets-2.3.3.min.js\": \"3QTqdz9LyAm2i0sG5XTePsHec3UHWwVsrOL68SYRoAXsafvfAyqtQ+h440+qIBhS\"};\n\n    for (let i = 0; i < js_urls.length; i++) {\n      const url = js_urls[i];\n      const element = document.createElement('script');\n      element.onload = on_load;\n      element.onerror = on_error.bind(null, url);\n      element.async = false;\n      element.src = url;\n      if (url in hashes) {\n        element.crossOrigin = \"anonymous\";\n        element.integrity = \"sha384-\" + hashes[url];\n      }\n      console.debug(\"Bokeh: injecting script tag for BokehJS library: \", url);\n      document.head.appendChild(element);\n    }\n  };\n\n  function inject_raw_css(css) {\n    const element = document.createElement(\"style\");\n    element.appendChild(document.createTextNode(css));\n    document.body.appendChild(element);\n  }\n\n  \n  var js_urls = [\"https://cdn.bokeh.org/bokeh/release/bokeh-2.3.3.min.js\", \"https://cdn.bokeh.org/bokeh/release/bokeh-widgets-2.3.3.min.js\", \"https://cdn.bokeh.org/bokeh/release/bokeh-tables-2.3.3.min.js\"];\n  var css_urls = [];\n  \n\n  var inline_js = [\n    function(Bokeh) {\n      Bokeh.set_log_level(\"info\");\n    },\n    function(Bokeh) {\n    \n    \n    }\n  ];\n\n  function run_inline_js() {\n    \n    if (root.Bokeh !== undefined || force === true) {\n      \n    for (var i = 0; i < inline_js.length; i++) {\n      inline_js[i].call(root, root.Bokeh);\n    }\n    if (force === true) {\n        display_loaded();\n      }} else if (Date.now() < root._bokeh_timeout) {\n      setTimeout(run_inline_js, 100);\n    } else if (!root._bokeh_failed_load) {\n      console.log(\"Bokeh: BokehJS failed to load within specified timeout.\");\n      root._bokeh_failed_load = true;\n    } else if (force !== true) {\n      var cell = $(document.getElementById(\"2574\")).parents('.cell').data().cell;\n      cell.output_area.append_execute_result(NB_LOAD_WARNING)\n    }\n\n  }\n\n  if (root._bokeh_is_loading === 0) {\n    console.debug(\"Bokeh: BokehJS loaded, going straight to plotting\");\n    run_inline_js();\n  } else {\n    load_libs(css_urls, js_urls, function() {\n      console.debug(\"Bokeh: BokehJS plotting callback run at\", now());\n      run_inline_js();\n    });\n  }\n}(window));"
     },
     "metadata": {},
     "output_type": "display_data"
    },
    {
     "data": {
      "text/html": [
       "\n",
       "\n",
       "\n",
       "\n",
       "\n",
       "\n",
       "  <div class=\"bk-root\" id=\"e5cecab9-9d68-41bc-98ad-bd483360922e\" data-root-id=\"2725\"></div>\n"
      ]
     },
     "metadata": {},
     "output_type": "display_data"
    },
    {
     "data": {
      "application/javascript": [
       "(function(root) {\n",
       "  function embed_document(root) {\n",
       "    \n",
       "  var docs_json = {\"c6adb1b4-cba3-4e3e-8d86-2dd59c60c108\":{\"defs\":[],\"roots\":{\"references\":[{\"attributes\":{\"children\":[{\"id\":\"2577\"},{\"id\":\"2695\"}]},\"id\":\"2725\",\"type\":\"Column\"},{\"attributes\":{\"months\":[0,4,8]},\"id\":\"2632\",\"type\":\"MonthsTicker\"},{\"attributes\":{\"data\":{\"Parameters\":[70,55,55],\"TimeGenerated\":{\"__ndarray__\":\"Iz24hIOyd0IjPQhRwbJ3QiM9cGjXs3dC\",\"dtype\":\"float64\",\"order\":\"little\",\"shape\":[3]},\"baseline\":[48,19,20],\"index\":[7,25,106],\"level_0\":[0,1,2],\"residual\":[21,35,34],\"score\":{\"__ndarray__\":\"L9g6+FVpCkAOErC5bAgWQMYqSnUDZxVA\",\"dtype\":\"float64\",\"order\":\"little\",\"shape\":[3]},\"seasonal\":[42,13,14],\"trend\":[6,6,6],\"weights\":[1,1,1]},\"selected\":{\"id\":\"2693\"},\"selection_policy\":{\"id\":\"2692\"}},\"id\":\"2666\",\"type\":\"ColumnDataSource\"},{\"attributes\":{\"base\":24,\"mantissas\":[1,2,4,6,8,12],\"max_interval\":43200000.0,\"min_interval\":3600000.0,\"num_minor_ticks\":0},\"id\":\"2753\",\"type\":\"AdaptiveTicker\"},{\"attributes\":{\"text\":\"Range Selector\"},\"id\":\"2696\",\"type\":\"Title\"},{\"attributes\":{\"bottom_units\":\"screen\",\"fill_alpha\":0.5,\"fill_color\":\"lightgrey\",\"left_units\":\"screen\",\"level\":\"overlay\",\"line_alpha\":1.0,\"line_color\":\"black\",\"line_dash\":[4,4],\"line_width\":2,\"right_units\":\"screen\",\"syncable\":false,\"top_units\":\"screen\"},\"id\":\"2601\",\"type\":\"BoxAnnotation\"},{\"attributes\":{\"months\":[0,1,2,3,4,5,6,7,8,9,10,11]},\"id\":\"2758\",\"type\":\"MonthsTicker\"},{\"attributes\":{\"axis\":{\"id\":\"2706\"},\"ticker\":null},\"id\":\"2709\",\"type\":\"Grid\"},{\"attributes\":{\"months\":[0,4,8]},\"id\":\"2760\",\"type\":\"MonthsTicker\"},{\"attributes\":{\"below\":[{\"id\":\"2588\"}],\"center\":[{\"id\":\"2591\"},{\"id\":\"2595\"},{\"id\":\"2638\"}],\"height\":300,\"left\":[{\"id\":\"2592\"}],\"min_border_left\":50,\"renderers\":[{\"id\":\"2616\"},{\"id\":\"2643\"},{\"id\":\"2670\"}],\"title\":{\"id\":\"2578\"},\"toolbar\":{\"id\":\"2602\"},\"toolbar_location\":\"above\",\"width\":1200,\"x_range\":{\"id\":\"2580\"},\"x_scale\":{\"id\":\"2584\"},\"y_range\":{\"id\":\"2582\"},\"y_scale\":{\"id\":\"2586\"}},\"id\":\"2577\",\"subtype\":\"Figure\",\"type\":\"Plot\"},{\"attributes\":{\"formatter\":{\"id\":\"2712\"},\"major_label_policy\":{\"id\":\"2733\"},\"ticker\":{\"id\":\"2707\"}},\"id\":\"2706\",\"type\":\"DatetimeAxis\"},{\"attributes\":{},\"id\":\"2692\",\"type\":\"UnionRenderers\"},{\"attributes\":{\"days\":[1,8,15,22]},\"id\":\"2756\",\"type\":\"DaysTicker\"},{\"attributes\":{\"days\":[\"%m-%d %H:%M\"],\"hours\":[\"%H:%M:%S\"],\"milliseconds\":[\"%H:%M:%S.%3N\"],\"minutes\":[\"%H:%M:%S\"],\"seconds\":[\"%H:%M:%S\"]},\"id\":\"2609\",\"type\":\"DatetimeTickFormatter\"},{\"attributes\":{\"overlay\":{\"id\":\"2721\"},\"x_range\":{\"id\":\"2580\"},\"y_range\":null},\"id\":\"2720\",\"type\":\"RangeTool\"},{\"attributes\":{\"days\":[1,2,3,4,5,6,7,8,9,10,11,12,13,14,15,16,17,18,19,20,21,22,23,24,25,26,27,28,29,30,31]},\"id\":\"2754\",\"type\":\"DaysTicker\"},{\"attributes\":{\"days\":[1,4,7,10,13,16,19,22,25,28]},\"id\":\"2755\",\"type\":\"DaysTicker\"},{\"attributes\":{},\"id\":\"2704\",\"type\":\"LinearScale\"},{\"attributes\":{},\"id\":\"2733\",\"type\":\"AllLabels\"},{\"attributes\":{},\"id\":\"2702\",\"type\":\"LinearScale\"},{\"attributes\":{\"days\":[1,15]},\"id\":\"2757\",\"type\":\"DaysTicker\"},{\"attributes\":{},\"id\":\"2700\",\"type\":\"DataRange1d\"},{\"attributes\":{\"end\":1629034203171.821,\"start\":1628364963171.821},\"id\":\"2698\",\"type\":\"Range1d\"},{\"attributes\":{\"callback\":null,\"formatters\":{\"@TimeGenerated\":\"datetime\"},\"tooltips\":[[\"TimeGenerated\",\"@TimeGenerated{%F %T.%3N}\"],[\"Parameters\",\"@Parameters\"],[\"residual\",\"@residual\"],[\"trend\",\"@trend\"],[\"seasonal\",\"@seasonal\"],[\"weights\",\"@weights\"],[\"score\",\"@score\"],[\"baseline\",\"@baseline\"]]},\"id\":\"2576\",\"type\":\"HoverTool\"},{\"attributes\":{\"base\":60,\"mantissas\":[1,2,5,10,15,20,30],\"max_interval\":1800000.0,\"min_interval\":1000.0,\"num_minor_ticks\":0},\"id\":\"2624\",\"type\":\"AdaptiveTicker\"},{\"attributes\":{\"data_source\":{\"id\":\"2714\"},\"glyph\":{\"id\":\"2716\"},\"hover_glyph\":null,\"muted_glyph\":null,\"nonselection_glyph\":{\"id\":\"2717\"},\"view\":{\"id\":\"2719\"}},\"id\":\"2718\",\"type\":\"GlyphRenderer\"},{\"attributes\":{\"days\":[1,4,7,10,13,16,19,22,25,28]},\"id\":\"2627\",\"type\":\"DaysTicker\"},{\"attributes\":{\"line_alpha\":0.1,\"line_color\":\"green\",\"x\":{\"field\":\"TimeGenerated\"},\"y\":{\"field\":\"baseline\"}},\"id\":\"2642\",\"type\":\"Line\"},{\"attributes\":{\"num_minor_ticks\":5,\"tickers\":[{\"id\":\"2751\"},{\"id\":\"2752\"},{\"id\":\"2753\"},{\"id\":\"2754\"},{\"id\":\"2755\"},{\"id\":\"2756\"},{\"id\":\"2757\"},{\"id\":\"2758\"},{\"id\":\"2759\"},{\"id\":\"2760\"},{\"id\":\"2761\"},{\"id\":\"2762\"}]},\"id\":\"2707\",\"type\":\"DatetimeTicker\"},{\"attributes\":{\"mantissas\":[1,2,5],\"max_interval\":500.0,\"num_minor_ticks\":0},\"id\":\"2751\",\"type\":\"AdaptiveTicker\"},{\"attributes\":{},\"id\":\"2765\",\"type\":\"Selection\"},{\"attributes\":{\"base\":60,\"mantissas\":[1,2,5,10,15,20,30],\"max_interval\":1800000.0,\"min_interval\":1000.0,\"num_minor_ticks\":0},\"id\":\"2752\",\"type\":\"AdaptiveTicker\"},{\"attributes\":{\"months\":[0,2,4,6,8,10]},\"id\":\"2759\",\"type\":\"MonthsTicker\"},{\"attributes\":{\"line_color\":\"green\",\"x\":{\"field\":\"TimeGenerated\"},\"y\":{\"field\":\"baseline\"}},\"id\":\"2641\",\"type\":\"Line\"},{\"attributes\":{\"fill_alpha\":0.2,\"fill_color\":\"navy\",\"level\":\"overlay\",\"line_alpha\":1.0,\"line_color\":\"black\",\"line_dash\":[2,2],\"line_width\":0.5,\"syncable\":false},\"id\":\"2721\",\"type\":\"BoxAnnotation\"},{\"attributes\":{\"base\":24,\"mantissas\":[1,2,4,6,8,12],\"max_interval\":43200000.0,\"min_interval\":3600000.0,\"num_minor_ticks\":0},\"id\":\"2625\",\"type\":\"AdaptiveTicker\"},{\"attributes\":{\"label\":{\"value\":\"baseline\"},\"renderers\":[{\"id\":\"2643\"}]},\"id\":\"2665\",\"type\":\"LegendItem\"},{\"attributes\":{\"days\":[1,2,3,4,5,6,7,8,9,10,11,12,13,14,15,16,17,18,19,20,21,22,23,24,25,26,27,28,29,30,31]},\"id\":\"2626\",\"type\":\"DaysTicker\"},{\"attributes\":{\"data_source\":{\"id\":\"2575\"},\"glyph\":{\"id\":\"2641\"},\"hover_glyph\":null,\"muted_glyph\":null,\"nonselection_glyph\":{\"id\":\"2642\"},\"view\":{\"id\":\"2644\"}},\"id\":\"2643\",\"type\":\"GlyphRenderer\"},{\"attributes\":{},\"id\":\"2764\",\"type\":\"UnionRenderers\"},{\"attributes\":{},\"id\":\"2634\",\"type\":\"YearsTicker\"},{\"attributes\":{\"source\":{\"id\":\"2575\"}},\"id\":\"2644\",\"type\":\"CDSView\"},{\"attributes\":{\"months\":[0,6]},\"id\":\"2633\",\"type\":\"MonthsTicker\"},{\"attributes\":{\"source\":{\"id\":\"2714\"}},\"id\":\"2719\",\"type\":\"CDSView\"},{\"attributes\":{\"format\":\"00\"},\"id\":\"2611\",\"type\":\"NumeralTickFormatter\"},{\"attributes\":{\"fill_alpha\":{\"value\":0.1},\"fill_color\":{\"value\":\"blue\"},\"line_alpha\":{\"value\":0.1},\"line_color\":{\"value\":\"blue\"},\"x\":{\"field\":\"TimeGenerated\"},\"y\":{\"field\":\"score\"}},\"id\":\"2717\",\"type\":\"Circle\"},{\"attributes\":{\"text\":\"Time Series Anomalies Visualization\"},\"id\":\"2578\",\"type\":\"Title\"},{\"attributes\":{\"data\":{\"Parameters\":[4,2,15,1,1,2,2,70,2,2,2,3,2,15,1,1,1,1,2,3,15,3,2,1,1,55,16,2,1,2,1,1,15,1,3,2,1,2,16,2,1,2,3,3,15,1,2,2,5,3,17,3,1,1,1,15,2,2,2,1,2,1,17,1,1,1,3,17,1,3,1,1,3,2,16,3,1,5,6,17,1,3,1,1,2,2,16,3,2,3,2,4,16,2,1,3,1,2,18,4,2,2,1,1,16,1,55,1,3,15,3,2,3,2,2,3,16,1,3,1,0,0,0,0,0,0,0,0,0,0,0,0,0,0,0,0,0,0,0,0,0,0,0,0],\"TimeGenerated\":{\"__ndarray__\":\"Iz1gfGuyd0IjPUjrbrJ3QiM9MFpysndCIz0YyXWyd0IjPQA4ebJ3QiM96KZ8sndCIz3QFYCyd0IjPbiEg7J3QiM9oPOGsndCIz2IYoqyd0IjPXDRjbJ3QiM9WECRsndCIz1Ar5Syd0IjPSgemLJ3QiM9EI2bsndCIz34+56yd0IjPeBqorJ3QiM9yNmlsndCIz2wSKmyd0IjPZi3rLJ3QiM9gCawsndCIz1olbOyd0IjPVAEt7J3QiM9OHO6sndCIz0g4r2yd0IjPQhRwbJ3QiM98L/EsndCIz3YLsiyd0IjPcCdy7J3QiM9qAzPsndCIz2Qe9Kyd0IjPXjq1bJ3QiM9YFnZsndCIz1IyNyyd0IjPTA34LJ3QiM9GKbjsndCIz0AFeeyd0IjPeiD6rJ3QiM90PLtsndCIz24YfGyd0IjPaDQ9LJ3QiM9iD/4sndCIz1wrvuyd0IjPVgd/7J3QiM9QIwCs3dCIz0o+wWzd0IjPRBqCbN3QiM9+NgMs3dCIz3gRxCzd0IjPci2E7N3QiM9sCUXs3dCIz2YlBqzd0IjPYADHrN3QiM9aHIhs3dCIz1Q4SSzd0IjPThQKLN3QiM9IL8rs3dCIz0ILi+zd0IjPfCcMrN3QiM92As2s3dCIz3Aejmzd0IjPajpPLN3QiM9kFhAs3dCIz14x0Ozd0IjPWA2R7N3QiM9SKVKs3dCIz0wFE6zd0IjPRiDUbN3QiM9APJUs3dCIz3oYFizd0IjPdDPW7N3QiM9uD5fs3dCIz2grWKzd0IjPYgcZrN3QiM9cItps3dCIz1Y+myzd0IjPUBpcLN3QiM9KNhzs3dCIz0QR3ezd0IjPfi1erN3QiM94CR+s3dCIz3Ik4Gzd0IjPbAChbN3QiM9mHGIs3dCIz2A4Iuzd0IjPWhPj7N3QiM9UL6Ss3dCIz04LZazd0IjPSCcmbN3QiM9CAuds3dCIz3weaCzd0IjPdjoo7N3QiM9wFens3dCIz2oxqqzd0IjPZA1rrN3QiM9eKSxs3dCIz1gE7Wzd0IjPUiCuLN3QiM9MPG7s3dCIz0YYL+zd0IjPQDPwrN3QiM96D3Gs3dCIz3QrMmzd0IjPbgbzbN3QiM9oIrQs3dCIz2I+dOzd0IjPXBo17N3QiM9WNfas3dCIz1ARt6zd0IjPSi14bN3QiM9ECTls3dCIz34kuizd0IjPeAB7LN3QiM9yHDvs3dCIz2w3/Kzd0IjPZhO9rN3QiM9gL35s3dCIz1oLP2zd0IjPVCbALR3QiM9OAoEtHdCIz0geQe0d0IjPQjoCrR3QiM98FYOtHdCIz3YxRG0d0IjPcA0FbR3QiM9qKMYtHdCIz2QEhy0d0IjPXiBH7R3QiM9YPAitHdCIz1IXya0d0IjPTDOKbR3QiM9GD0ttHdCIz0ArDC0d0IjPegaNLR3QiM90Ik3tHdCIz24+Dq0d0IjPaBnPrR3QiM9iNZBtHdCIz1wRUW0d0IjPVi0SLR3QiM9QCNMtHdCIz0okk+0d0IjPRABU7R3QiM9+G9WtHdC\",\"dtype\":\"float64\",\"order\":\"little\",\"shape\":[144]},\"anomalies\":[0,0,0,0,0,0,0,1,0,0,0,0,0,0,0,0,0,0,0,0,0,0,0,0,0,1,0,0,0,0,0,0,0,0,0,0,0,0,0,0,0,0,0,0,0,0,0,0,0,0,0,0,0,0,0,0,0,0,0,0,0,0,0,0,0,0,0,0,0,0,0,0,0,0,0,0,0,0,0,0,0,0,0,0,0,0,0,0,0,0,0,0,0,0,0,0,0,0,0,0,0,0,0,0,0,0,1,0,0,0,0,0,0,0,0,0,0,0,0,0,0,0,0,0,0,0,0,0,0,0,0,0,0,0,0,0,0,0,0,0,0,0,0,0],\"baseline\":[2,22,14,0,0,1,1,48,6,1,0,2,1,10,6,1,1,1,3,4,14,3,2,1,4,19,16,2,1,2,2,32,6,1,2,2,1,6,9,0,0,0,1,5,11,1,0,0,2,15,15,1,0,1,1,15,5,0,6,0,1,3,12,1,0,1,1,6,10,1,1,1,2,6,14,2,0,2,2,8,6,1,15,1,2,5,11,2,2,2,3,7,11,3,3,3,2,3,12,4,3,4,4,7,8,3,20,3,4,7,8,4,4,3,3,5,10,2,3,2,-1,-3,4,0,0,0,-1,-1,3,-1,18,-1,-1,3,-2,-1,-1,-1,-1,-2,4,-2,-1,-1],\"index\":[0,1,2,3,4,5,6,7,8,9,10,11,12,13,14,15,16,17,18,19,20,21,22,23,24,25,26,27,28,29,30,31,32,33,34,35,36,37,38,39,40,41,42,43,44,45,46,47,48,49,50,51,52,53,54,55,56,57,58,59,60,61,62,63,64,65,66,67,68,69,70,71,72,73,74,75,76,77,78,79,80,81,82,83,84,85,86,87,88,89,90,91,92,93,94,95,96,97,98,99,100,101,102,103,104,105,106,107,108,109,110,111,112,113,114,115,116,117,118,119,120,121,122,123,124,125,126,127,128,129,130,131,132,133,134,135,136,137,138,139,140,141,142,143],\"residual\":[1,-20,0,0,0,0,0,21,-4,0,2,0,0,4,-5,0,0,0,-1,-1,0,0,0,0,-3,35,0,0,0,0,-1,-31,8,0,0,0,0,-4,6,1,0,1,1,-2,3,0,1,1,2,-12,1,1,0,0,0,0,-3,1,-4,0,0,-2,4,0,0,0,1,10,-9,1,0,0,0,-4,1,0,0,2,3,8,-5,1,-14,0,0,-3,4,0,0,0,-1,-3,4,-1,-2,0,-1,-1,5,0,-1,-2,-3,-6,7,-2,34,-2,-1,7,-5,-2,-1,-1,-1,-2,5,-1,0,-1,1,3,-4,0,0,0,1,1,-3,1,-18,1,1,-3,2,1,1,1,1,2,-4,2,1,1],\"score\":{\"__ndarray__\":\"403rhDQOwz8FPWnwYUoJwLeyGX1A74G/t7IZfUDvgb+3shl9QO+Bv7eyGX1A74G/t7IZfUDvgb8v2Dr4VWkKQNlPsY7ldOS/t7IZfUDvgb94G9SIrp3TP7eyGX1A74G/t7IZfUDvgb9EgsiKa+XjPxyK4LEvgOm/t7IZfUDvgb+3shl9QO+Bv7eyGX1A74G/OoSOlBxMxb86hI6UHEzFv7eyGX1A74G/t7IZfUDvgb+3shl9QO+Bv7eyGX1A74G/KysE1zbT3r8OErC5bAgWQLeyGX1A74G/t7IZfUDvgb+3shl9QO+Bv7eyGX1A74G/OoSOlBxMxb+fjpXotpQTwKm1wgtKCfQ/t7IZfUDvgb+3shl9QO+Bv7eyGX1A74G/t7IZfUDvgb/ZT7GO5XTkv8v2JtH/++0/403rhDQOwz+3shl9QO+Bv+NN64Q0DsM/403rhDQOwz+jtqWQorzUvwCQMs9CtN0/t7IZfUDvgb/jTeuENA7DP+NN64Q0DsM/eBvUiK6d0z/7kBVUm2f+v+NN64Q0DsM/403rhDQOwz+3shl9QO+Bv7eyGX1A74G/t7IZfUDvgb+3shl9QO+BvysrBNc2096/403rhDQOwz/ZT7GO5XTkv7eyGX1A74G/t7IZfUDvgb+jtqWQorzUv0SCyIpr5eM/t7IZfUDvgb+3shl9QO+Bv7eyGX1A74G/403rhDQOwz/t7/EulBT5P5W5Th+s1va/403rhDQOwz+3shl9QO+Bv7eyGX1A74G/t7IZfUDvgb/ZT7GO5XTkv+NN64Q0DsM/t7IZfUDvgb+3shl9QO+Bv3gb1IiundM/AJAyz0K03T+ptcILSgn0PxyK4LEvgOm/403rhDQOwz+fZaK7crkBwLeyGX1A74G/t7IZfUDvgb8rKwTXNtPev0SCyIpr5eM/t7IZfUDvgb+3shl9QO+Bv7eyGX1A74G/OoSOlBxMxb8rKwTXNtPev0SCyIpr5eM/OoSOlBxMxb+jtqWQorzUv7eyGX1A74G/OoSOlBxMxb86hI6UHEzFv4e896218Og/t7IZfUDvgb86hI6UHEzFv6O2pZCivNS/KysE1zbT3r9gxA/VeYvuv4cYK/qkg/E/o7alkKK81L/GKkp1A2cVQKO2pZCivNS/OoSOlBxMxb+HGCv6pIPxPxyK4LEvgOm/o7alkKK81L86hI6UHEzFvzqEjpQcTMW/OoSOlBxMxb+jtqWQorzUv4e896218Og/OoSOlBxMxb+3shl9QO+BvzqEjpQcTMW/403rhDQOwz8AkDLPQrTdP9lPsY7ldOS/t7IZfUDvgb+3shl9QO+Bv7eyGX1A74G/403rhDQOwz/jTeuENA7DPysrBNc2096/403rhDQOwz/jn9HevMQGwONN64Q0DsM/403rhDQOwz8rKwTXNtPev3gb1IiundM/403rhDQOwz/jTeuENA7DP+NN64Q0DsM/403rhDQOwz94G9SIrp3TP9lPsY7ldOS/eBvUiK6d0z/jTeuENA7DP+NN64Q0DsM/\",\"dtype\":\"float64\",\"order\":\"little\",\"shape\":[144]},\"seasonal\":[-2,16,9,-4,-5,-4,-4,42,0,-4,-6,-3,-4,4,0,-5,-5,-4,-3,-2,7,-3,-4,-4,-2,13,10,-3,-4,-3,-3,26,0,-3,-3,-3,-3,1,4,-4,-4,-4,-2,0,6,-3,-3,-3,-2,10,11,-2,-4,-2,-2,10,1,-3,2,-3,-3,0,8,-3,-3,-3,-2,2,6,-2,-3,-3,-2,2,10,-2,-3,-2,-2,4,1,-2,10,-3,-2,0,6,-2,-2,-2,-2,2,6,-2,-2,-2,-3,-2,6,-2,-3,-2,-2,1,1,-2,14,-2,-1,2,2,-1,-1,-1,-1,0,6,0,0,0,-3,-6,1,-2,-2,-2,-2,-2,2,-2,18,-1,0,4,-1,0,0,0,0,0,6,0,1,1],\"trend\":[5,5,5,5,5,6,6,6,6,6,6,6,6,6,6,6,6,6,6,6,6,6,6,6,6,6,6,6,6,6,6,5,5,5,5,5,5,5,5,5,4,4,4,4,4,4,4,4,4,4,4,4,4,4,4,4,4,4,4,4,4,4,4,4,4,4,4,4,4,4,4,4,4,4,4,4,4,4,4,4,4,4,4,4,4,4,4,4,4,5,5,5,5,5,5,5,6,6,6,6,6,6,6,6,6,6,6,6,5,5,5,5,5,5,4,4,4,3,3,3,2,2,2,2,1,1,1,0,0,0,0,0,0,0,0,-1,-1,-1,-1,-2,-2,-2,-2,-3],\"weights\":[1,1,1,1,1,1,1,1,1,1,1,1,1,1,1,1,1,1,1,1,1,1,1,1,1,1,1,1,1,1,1,1,1,1,1,1,1,1,1,1,1,1,1,1,1,1,1,1,1,1,1,1,1,1,1,1,1,1,1,1,1,1,1,1,1,1,1,1,1,1,1,1,1,1,1,1,1,1,1,1,1,1,1,1,1,1,1,1,1,1,1,1,1,1,1,1,1,1,1,1,1,1,1,1,1,1,1,1,1,1,1,1,1,1,1,1,1,1,1,1,1,1,1,1,1,1,1,1,1,1,1,1,1,1,1,1,1,1,1,1,1,1,1,1]},\"selected\":{\"id\":\"2637\"},\"selection_policy\":{\"id\":\"2636\"}},\"id\":\"2575\",\"type\":\"ColumnDataSource\"},{\"attributes\":{\"axis_label\":\"Parameters\",\"formatter\":{\"id\":\"2611\"},\"major_label_policy\":{\"id\":\"2622\"},\"ticker\":{\"id\":\"2593\"}},\"id\":\"2592\",\"type\":\"LinearAxis\"},{\"attributes\":{\"days\":[1,15]},\"id\":\"2629\",\"type\":\"DaysTicker\"},{\"attributes\":{},\"id\":\"2598\",\"type\":\"ResetTool\"},{\"attributes\":{\"fill_color\":{\"value\":\"blue\"},\"line_color\":{\"value\":\"blue\"},\"x\":{\"field\":\"TimeGenerated\"},\"y\":{\"field\":\"score\"}},\"id\":\"2716\",\"type\":\"Circle\"},{\"attributes\":{\"dimensions\":\"width\"},\"id\":\"2600\",\"type\":\"PanTool\"},{\"attributes\":{\"end\":1628982723171.821,\"start\":1628416443171.821},\"id\":\"2580\",\"type\":\"Range1d\"},{\"attributes\":{\"source\":{\"id\":\"2666\"}},\"id\":\"2671\",\"type\":\"CDSView\"},{\"attributes\":{\"days\":[1,8,15,22]},\"id\":\"2628\",\"type\":\"DaysTicker\"},{\"attributes\":{\"months\":[0,1,2,3,4,5,6,7,8,9,10,11]},\"id\":\"2630\",\"type\":\"MonthsTicker\"},{\"attributes\":{\"overlay\":{\"id\":\"2601\"}},\"id\":\"2597\",\"type\":\"BoxZoomTool\"},{\"attributes\":{\"align\":\"right\",\"text\":\"Drag the middle or edges of the selection box to change the range in the main chart\",\"text_font_size\":\"10px\"},\"id\":\"2711\",\"type\":\"Title\"},{\"attributes\":{\"dimensions\":\"width\"},\"id\":\"2596\",\"type\":\"WheelZoomTool\"},{\"attributes\":{\"source\":{\"id\":\"2575\"}},\"id\":\"2617\",\"type\":\"CDSView\"},{\"attributes\":{},\"id\":\"2620\",\"type\":\"AllLabels\"},{\"attributes\":{},\"id\":\"2693\",\"type\":\"Selection\"},{\"attributes\":{\"months\":[0,6]},\"id\":\"2761\",\"type\":\"MonthsTicker\"},{\"attributes\":{\"fill_alpha\":{\"value\":0.1},\"fill_color\":{\"value\":\"#1f77b4\"},\"line_alpha\":{\"value\":0.1},\"line_color\":{\"value\":\"navy\"},\"x\":{\"field\":\"TimeGenerated\"},\"y\":{\"field\":\"Parameters\"}},\"id\":\"2615\",\"type\":\"Circle\"},{\"attributes\":{\"click_policy\":\"hide\",\"items\":[{\"id\":\"2639\"},{\"id\":\"2665\"},{\"id\":\"2694\"}],\"location\":\"top_left\"},\"id\":\"2638\",\"type\":\"Legend\"},{\"attributes\":{\"data\":{\"Parameters\":[4,2,15,1,1,2,2,70,2,2,2,3,2,15,1,1,1,1,2,3,15,3,2,1,1,55,16,2,1,2,1,1,15,1,3,2,1,2,16,2,1,2,3,3,15,1,2,2,5,3,17,3,1,1,1,15,2,2,2,1,2,1,17,1,1,1,3,17,1,3,1,1,3,2,16,3,1,5,6,17,1,3,1,1,2,2,16,3,2,3,2,4,16,2,1,3,1,2,18,4,2,2,1,1,16,1,55,1,3,15,3,2,3,2,2,3,16,1,3,1,0,0,0,0,0,0,0,0,0,0,0,0,0,0,0,0,0,0,0,0,0,0,0,0],\"TimeGenerated\":{\"__ndarray__\":\"Iz1gfGuyd0IjPUjrbrJ3QiM9MFpysndCIz0YyXWyd0IjPQA4ebJ3QiM96KZ8sndCIz3QFYCyd0IjPbiEg7J3QiM9oPOGsndCIz2IYoqyd0IjPXDRjbJ3QiM9WECRsndCIz1Ar5Syd0IjPSgemLJ3QiM9EI2bsndCIz34+56yd0IjPeBqorJ3QiM9yNmlsndCIz2wSKmyd0IjPZi3rLJ3QiM9gCawsndCIz1olbOyd0IjPVAEt7J3QiM9OHO6sndCIz0g4r2yd0IjPQhRwbJ3QiM98L/EsndCIz3YLsiyd0IjPcCdy7J3QiM9qAzPsndCIz2Qe9Kyd0IjPXjq1bJ3QiM9YFnZsndCIz1IyNyyd0IjPTA34LJ3QiM9GKbjsndCIz0AFeeyd0IjPeiD6rJ3QiM90PLtsndCIz24YfGyd0IjPaDQ9LJ3QiM9iD/4sndCIz1wrvuyd0IjPVgd/7J3QiM9QIwCs3dCIz0o+wWzd0IjPRBqCbN3QiM9+NgMs3dCIz3gRxCzd0IjPci2E7N3QiM9sCUXs3dCIz2YlBqzd0IjPYADHrN3QiM9aHIhs3dCIz1Q4SSzd0IjPThQKLN3QiM9IL8rs3dCIz0ILi+zd0IjPfCcMrN3QiM92As2s3dCIz3Aejmzd0IjPajpPLN3QiM9kFhAs3dCIz14x0Ozd0IjPWA2R7N3QiM9SKVKs3dCIz0wFE6zd0IjPRiDUbN3QiM9APJUs3dCIz3oYFizd0IjPdDPW7N3QiM9uD5fs3dCIz2grWKzd0IjPYgcZrN3QiM9cItps3dCIz1Y+myzd0IjPUBpcLN3QiM9KNhzs3dCIz0QR3ezd0IjPfi1erN3QiM94CR+s3dCIz3Ik4Gzd0IjPbAChbN3QiM9mHGIs3dCIz2A4Iuzd0IjPWhPj7N3QiM9UL6Ss3dCIz04LZazd0IjPSCcmbN3QiM9CAuds3dCIz3weaCzd0IjPdjoo7N3QiM9wFens3dCIz2oxqqzd0IjPZA1rrN3QiM9eKSxs3dCIz1gE7Wzd0IjPUiCuLN3QiM9MPG7s3dCIz0YYL+zd0IjPQDPwrN3QiM96D3Gs3dCIz3QrMmzd0IjPbgbzbN3QiM9oIrQs3dCIz2I+dOzd0IjPXBo17N3QiM9WNfas3dCIz1ARt6zd0IjPSi14bN3QiM9ECTls3dCIz34kuizd0IjPeAB7LN3QiM9yHDvs3dCIz2w3/Kzd0IjPZhO9rN3QiM9gL35s3dCIz1oLP2zd0IjPVCbALR3QiM9OAoEtHdCIz0geQe0d0IjPQjoCrR3QiM98FYOtHdCIz3YxRG0d0IjPcA0FbR3QiM9qKMYtHdCIz2QEhy0d0IjPXiBH7R3QiM9YPAitHdCIz1IXya0d0IjPTDOKbR3QiM9GD0ttHdCIz0ArDC0d0IjPegaNLR3QiM90Ik3tHdCIz24+Dq0d0IjPaBnPrR3QiM9iNZBtHdCIz1wRUW0d0IjPVi0SLR3QiM9QCNMtHdCIz0okk+0d0IjPRABU7R3QiM9+G9WtHdC\",\"dtype\":\"float64\",\"order\":\"little\",\"shape\":[144]},\"anomalies\":[0,0,0,0,0,0,0,1,0,0,0,0,0,0,0,0,0,0,0,0,0,0,0,0,0,1,0,0,0,0,0,0,0,0,0,0,0,0,0,0,0,0,0,0,0,0,0,0,0,0,0,0,0,0,0,0,0,0,0,0,0,0,0,0,0,0,0,0,0,0,0,0,0,0,0,0,0,0,0,0,0,0,0,0,0,0,0,0,0,0,0,0,0,0,0,0,0,0,0,0,0,0,0,0,0,0,1,0,0,0,0,0,0,0,0,0,0,0,0,0,0,0,0,0,0,0,0,0,0,0,0,0,0,0,0,0,0,0,0,0,0,0,0,0],\"baseline\":[2,22,14,0,0,1,1,48,6,1,0,2,1,10,6,1,1,1,3,4,14,3,2,1,4,19,16,2,1,2,2,32,6,1,2,2,1,6,9,0,0,0,1,5,11,1,0,0,2,15,15,1,0,1,1,15,5,0,6,0,1,3,12,1,0,1,1,6,10,1,1,1,2,6,14,2,0,2,2,8,6,1,15,1,2,5,11,2,2,2,3,7,11,3,3,3,2,3,12,4,3,4,4,7,8,3,20,3,4,7,8,4,4,3,3,5,10,2,3,2,-1,-3,4,0,0,0,-1,-1,3,-1,18,-1,-1,3,-2,-1,-1,-1,-1,-2,4,-2,-1,-1],\"index\":[0,1,2,3,4,5,6,7,8,9,10,11,12,13,14,15,16,17,18,19,20,21,22,23,24,25,26,27,28,29,30,31,32,33,34,35,36,37,38,39,40,41,42,43,44,45,46,47,48,49,50,51,52,53,54,55,56,57,58,59,60,61,62,63,64,65,66,67,68,69,70,71,72,73,74,75,76,77,78,79,80,81,82,83,84,85,86,87,88,89,90,91,92,93,94,95,96,97,98,99,100,101,102,103,104,105,106,107,108,109,110,111,112,113,114,115,116,117,118,119,120,121,122,123,124,125,126,127,128,129,130,131,132,133,134,135,136,137,138,139,140,141,142,143],\"residual\":[1,-20,0,0,0,0,0,21,-4,0,2,0,0,4,-5,0,0,0,-1,-1,0,0,0,0,-3,35,0,0,0,0,-1,-31,8,0,0,0,0,-4,6,1,0,1,1,-2,3,0,1,1,2,-12,1,1,0,0,0,0,-3,1,-4,0,0,-2,4,0,0,0,1,10,-9,1,0,0,0,-4,1,0,0,2,3,8,-5,1,-14,0,0,-3,4,0,0,0,-1,-3,4,-1,-2,0,-1,-1,5,0,-1,-2,-3,-6,7,-2,34,-2,-1,7,-5,-2,-1,-1,-1,-2,5,-1,0,-1,1,3,-4,0,0,0,1,1,-3,1,-18,1,1,-3,2,1,1,1,1,2,-4,2,1,1],\"score\":{\"__ndarray__\":\"403rhDQOwz8FPWnwYUoJwLeyGX1A74G/t7IZfUDvgb+3shl9QO+Bv7eyGX1A74G/t7IZfUDvgb8v2Dr4VWkKQNlPsY7ldOS/t7IZfUDvgb94G9SIrp3TP7eyGX1A74G/t7IZfUDvgb9EgsiKa+XjPxyK4LEvgOm/t7IZfUDvgb+3shl9QO+Bv7eyGX1A74G/OoSOlBxMxb86hI6UHEzFv7eyGX1A74G/t7IZfUDvgb+3shl9QO+Bv7eyGX1A74G/KysE1zbT3r8OErC5bAgWQLeyGX1A74G/t7IZfUDvgb+3shl9QO+Bv7eyGX1A74G/OoSOlBxMxb+fjpXotpQTwKm1wgtKCfQ/t7IZfUDvgb+3shl9QO+Bv7eyGX1A74G/t7IZfUDvgb/ZT7GO5XTkv8v2JtH/++0/403rhDQOwz+3shl9QO+Bv+NN64Q0DsM/403rhDQOwz+jtqWQorzUvwCQMs9CtN0/t7IZfUDvgb/jTeuENA7DP+NN64Q0DsM/eBvUiK6d0z/7kBVUm2f+v+NN64Q0DsM/403rhDQOwz+3shl9QO+Bv7eyGX1A74G/t7IZfUDvgb+3shl9QO+BvysrBNc2096/403rhDQOwz/ZT7GO5XTkv7eyGX1A74G/t7IZfUDvgb+jtqWQorzUv0SCyIpr5eM/t7IZfUDvgb+3shl9QO+Bv7eyGX1A74G/403rhDQOwz/t7/EulBT5P5W5Th+s1va/403rhDQOwz+3shl9QO+Bv7eyGX1A74G/t7IZfUDvgb/ZT7GO5XTkv+NN64Q0DsM/t7IZfUDvgb+3shl9QO+Bv3gb1IiundM/AJAyz0K03T+ptcILSgn0PxyK4LEvgOm/403rhDQOwz+fZaK7crkBwLeyGX1A74G/t7IZfUDvgb8rKwTXNtPev0SCyIpr5eM/t7IZfUDvgb+3shl9QO+Bv7eyGX1A74G/OoSOlBxMxb8rKwTXNtPev0SCyIpr5eM/OoSOlBxMxb+jtqWQorzUv7eyGX1A74G/OoSOlBxMxb86hI6UHEzFv4e896218Og/t7IZfUDvgb86hI6UHEzFv6O2pZCivNS/KysE1zbT3r9gxA/VeYvuv4cYK/qkg/E/o7alkKK81L/GKkp1A2cVQKO2pZCivNS/OoSOlBxMxb+HGCv6pIPxPxyK4LEvgOm/o7alkKK81L86hI6UHEzFvzqEjpQcTMW/OoSOlBxMxb+jtqWQorzUv4e896218Og/OoSOlBxMxb+3shl9QO+BvzqEjpQcTMW/403rhDQOwz8AkDLPQrTdP9lPsY7ldOS/t7IZfUDvgb+3shl9QO+Bv7eyGX1A74G/403rhDQOwz/jTeuENA7DPysrBNc2096/403rhDQOwz/jn9HevMQGwONN64Q0DsM/403rhDQOwz8rKwTXNtPev3gb1IiundM/403rhDQOwz/jTeuENA7DP+NN64Q0DsM/403rhDQOwz94G9SIrp3TP9lPsY7ldOS/eBvUiK6d0z/jTeuENA7DP+NN64Q0DsM/\",\"dtype\":\"float64\",\"order\":\"little\",\"shape\":[144]},\"seasonal\":[-2,16,9,-4,-5,-4,-4,42,0,-4,-6,-3,-4,4,0,-5,-5,-4,-3,-2,7,-3,-4,-4,-2,13,10,-3,-4,-3,-3,26,0,-3,-3,-3,-3,1,4,-4,-4,-4,-2,0,6,-3,-3,-3,-2,10,11,-2,-4,-2,-2,10,1,-3,2,-3,-3,0,8,-3,-3,-3,-2,2,6,-2,-3,-3,-2,2,10,-2,-3,-2,-2,4,1,-2,10,-3,-2,0,6,-2,-2,-2,-2,2,6,-2,-2,-2,-3,-2,6,-2,-3,-2,-2,1,1,-2,14,-2,-1,2,2,-1,-1,-1,-1,0,6,0,0,0,-3,-6,1,-2,-2,-2,-2,-2,2,-2,18,-1,0,4,-1,0,0,0,0,0,6,0,1,1],\"trend\":[5,5,5,5,5,6,6,6,6,6,6,6,6,6,6,6,6,6,6,6,6,6,6,6,6,6,6,6,6,6,6,5,5,5,5,5,5,5,5,5,4,4,4,4,4,4,4,4,4,4,4,4,4,4,4,4,4,4,4,4,4,4,4,4,4,4,4,4,4,4,4,4,4,4,4,4,4,4,4,4,4,4,4,4,4,4,4,4,4,5,5,5,5,5,5,5,6,6,6,6,6,6,6,6,6,6,6,6,5,5,5,5,5,5,4,4,4,3,3,3,2,2,2,2,1,1,1,0,0,0,0,0,0,0,0,-1,-1,-1,-1,-2,-2,-2,-2,-3],\"weights\":[1,1,1,1,1,1,1,1,1,1,1,1,1,1,1,1,1,1,1,1,1,1,1,1,1,1,1,1,1,1,1,1,1,1,1,1,1,1,1,1,1,1,1,1,1,1,1,1,1,1,1,1,1,1,1,1,1,1,1,1,1,1,1,1,1,1,1,1,1,1,1,1,1,1,1,1,1,1,1,1,1,1,1,1,1,1,1,1,1,1,1,1,1,1,1,1,1,1,1,1,1,1,1,1,1,1,1,1,1,1,1,1,1,1,1,1,1,1,1,1,1,1,1,1,1,1,1,1,1,1,1,1,1,1,1,1,1,1,1,1,1,1,1,1]},\"selected\":{\"id\":\"2765\"},\"selection_policy\":{\"id\":\"2764\"}},\"id\":\"2714\",\"type\":\"ColumnDataSource\"},{\"attributes\":{},\"id\":\"2637\",\"type\":\"Selection\"},{\"attributes\":{},\"id\":\"2586\",\"type\":\"LinearScale\"},{\"attributes\":{},\"id\":\"2599\",\"type\":\"SaveTool\"},{\"attributes\":{\"days\":[\"%m-%d %H:%M\"],\"hours\":[\"%H:%M:%S\"],\"milliseconds\":[\"%H:%M:%S.%3N\"],\"minutes\":[\"%H:%M:%S\"],\"seconds\":[\"%H:%M:%S\"]},\"id\":\"2712\",\"type\":\"DatetimeTickFormatter\"},{\"attributes\":{},\"id\":\"2584\",\"type\":\"LinearScale\"},{\"attributes\":{\"below\":[{\"id\":\"2706\"},{\"id\":\"2711\"}],\"center\":[{\"id\":\"2709\"}],\"height\":120,\"renderers\":[{\"id\":\"2718\"}],\"title\":{\"id\":\"2696\"},\"toolbar\":{\"id\":\"2710\"},\"toolbar_location\":null,\"width\":1200,\"x_range\":{\"id\":\"2698\"},\"x_scale\":{\"id\":\"2702\"},\"y_range\":{\"id\":\"2700\"},\"y_scale\":{\"id\":\"2704\"}},\"id\":\"2695\",\"subtype\":\"Figure\",\"type\":\"Plot\"},{\"attributes\":{\"active_multi\":{\"id\":\"2720\"},\"tools\":[{\"id\":\"2720\"}]},\"id\":\"2710\",\"type\":\"Toolbar\"},{\"attributes\":{},\"id\":\"2622\",\"type\":\"AllLabels\"},{\"attributes\":{\"num_minor_ticks\":10,\"tickers\":[{\"id\":\"2623\"},{\"id\":\"2624\"},{\"id\":\"2625\"},{\"id\":\"2626\"},{\"id\":\"2627\"},{\"id\":\"2628\"},{\"id\":\"2629\"},{\"id\":\"2630\"},{\"id\":\"2631\"},{\"id\":\"2632\"},{\"id\":\"2633\"},{\"id\":\"2634\"}]},\"id\":\"2589\",\"type\":\"DatetimeTicker\"},{\"attributes\":{\"months\":[0,2,4,6,8,10]},\"id\":\"2631\",\"type\":\"MonthsTicker\"},{\"attributes\":{\"data_source\":{\"id\":\"2575\"},\"glyph\":{\"id\":\"2614\"},\"hover_glyph\":null,\"muted_glyph\":null,\"nonselection_glyph\":{\"id\":\"2615\"},\"view\":{\"id\":\"2617\"}},\"id\":\"2616\",\"type\":\"GlyphRenderer\"},{\"attributes\":{},\"id\":\"2593\",\"type\":\"BasicTicker\"},{\"attributes\":{\"label\":{\"value\":\"observed\"},\"renderers\":[{\"id\":\"2616\"}]},\"id\":\"2639\",\"type\":\"LegendItem\"},{\"attributes\":{\"axis\":{\"id\":\"2588\"},\"grid_line_color\":null,\"ticker\":null},\"id\":\"2591\",\"type\":\"Grid\"},{\"attributes\":{\"label\":{\"value\":\"anomalies\"},\"renderers\":[{\"id\":\"2670\"}]},\"id\":\"2694\",\"type\":\"LegendItem\"},{\"attributes\":{\"data_source\":{\"id\":\"2666\"},\"glyph\":{\"id\":\"2668\"},\"hover_glyph\":null,\"muted_glyph\":null,\"nonselection_glyph\":{\"id\":\"2669\"},\"view\":{\"id\":\"2671\"}},\"id\":\"2670\",\"type\":\"GlyphRenderer\"},{\"attributes\":{},\"id\":\"2762\",\"type\":\"YearsTicker\"},{\"attributes\":{},\"id\":\"2582\",\"type\":\"DataRange1d\"},{\"attributes\":{\"fill_color\":{\"value\":\"#1f77b4\"},\"line_color\":{\"value\":\"navy\"},\"x\":{\"field\":\"TimeGenerated\"},\"y\":{\"field\":\"Parameters\"}},\"id\":\"2614\",\"type\":\"Circle\"},{\"attributes\":{\"mantissas\":[1,2,5],\"max_interval\":500.0,\"num_minor_ticks\":0},\"id\":\"2623\",\"type\":\"AdaptiveTicker\"},{\"attributes\":{\"axis\":{\"id\":\"2592\"},\"dimension\":1,\"grid_line_color\":null,\"ticker\":null},\"id\":\"2595\",\"type\":\"Grid\"},{\"attributes\":{\"active_multi\":null,\"tools\":[{\"id\":\"2576\"},{\"id\":\"2596\"},{\"id\":\"2597\"},{\"id\":\"2598\"},{\"id\":\"2599\"},{\"id\":\"2600\"}]},\"id\":\"2602\",\"type\":\"Toolbar\"},{\"attributes\":{\"fill_alpha\":{\"value\":0.2},\"fill_color\":{\"value\":\"firebrick\"},\"line_color\":{\"value\":\"firebrick\"},\"marker\":{\"value\":\"circle_x\"},\"size\":{\"value\":12},\"x\":{\"field\":\"TimeGenerated\"},\"y\":{\"field\":\"Parameters\"}},\"id\":\"2668\",\"type\":\"Scatter\"},{\"attributes\":{\"axis_label\":\"TimeGenerated\",\"formatter\":{\"id\":\"2609\"},\"major_label_policy\":{\"id\":\"2620\"},\"ticker\":{\"id\":\"2589\"}},\"id\":\"2588\",\"type\":\"DatetimeAxis\"},{\"attributes\":{},\"id\":\"2636\",\"type\":\"UnionRenderers\"},{\"attributes\":{\"fill_alpha\":{\"value\":0.1},\"fill_color\":{\"value\":\"firebrick\"},\"line_alpha\":{\"value\":0.1},\"line_color\":{\"value\":\"firebrick\"},\"marker\":{\"value\":\"circle_x\"},\"size\":{\"value\":12},\"x\":{\"field\":\"TimeGenerated\"},\"y\":{\"field\":\"Parameters\"}},\"id\":\"2669\",\"type\":\"Scatter\"}],\"root_ids\":[\"2725\"]},\"title\":\"Bokeh Application\",\"version\":\"2.3.3\"}};\n",
       "  var render_items = [{\"docid\":\"c6adb1b4-cba3-4e3e-8d86-2dd59c60c108\",\"root_ids\":[\"2725\"],\"roots\":{\"2725\":\"e5cecab9-9d68-41bc-98ad-bd483360922e\"}}];\n",
       "  root.Bokeh.embed.embed_items_notebook(docs_json, render_items);\n",
       "\n",
       "  }\n",
       "  if (root.Bokeh !== undefined) {\n",
       "    embed_document(root);\n",
       "  } else {\n",
       "    var attempts = 0;\n",
       "    var timer = setInterval(function(root) {\n",
       "      if (root.Bokeh !== undefined) {\n",
       "        clearInterval(timer);\n",
       "        embed_document(root);\n",
       "      } else {\n",
       "        attempts++;\n",
       "        if (attempts > 100) {\n",
       "          clearInterval(timer);\n",
       "          console.log(\"Bokeh: ERROR: Unable to run BokehJS code because BokehJS library is missing\");\n",
       "        }\n",
       "      }\n",
       "    }, 10, root)\n",
       "  }\n",
       "})(window);"
      ],
      "application/vnd.bokehjs_exec.v0+json": ""
     },
     "metadata": {
      "application/vnd.bokehjs_exec.v0+json": {
       "id": "2725"
      }
     },
     "output_type": "display_data"
    },
    {
     "name": "stdout",
     "output_type": "stream",
     "text": [
      "\n",
      "Time Series for SourceRecordId\n",
      "\n"
     ]
    },
    {
     "data": {
      "text/html": [
       "\n",
       "    <div class=\"bk-root\">\n",
       "        <a href=\"https://bokeh.org\" target=\"_blank\" class=\"bk-logo bk-logo-small bk-logo-notebook\"></a>\n",
       "        <span id=\"2967\">Loading BokehJS ...</span>\n",
       "    </div>"
      ]
     },
     "metadata": {},
     "output_type": "display_data"
    },
    {
     "data": {
      "application/javascript": [
       "\n",
       "(function(root) {\n",
       "  function now() {\n",
       "    return new Date();\n",
       "  }\n",
       "\n",
       "  var force = true;\n",
       "\n",
       "  if (typeof root._bokeh_onload_callbacks === \"undefined\" || force === true) {\n",
       "    root._bokeh_onload_callbacks = [];\n",
       "    root._bokeh_is_loading = undefined;\n",
       "  }\n",
       "\n",
       "  var JS_MIME_TYPE = 'application/javascript';\n",
       "  var HTML_MIME_TYPE = 'text/html';\n",
       "  var EXEC_MIME_TYPE = 'application/vnd.bokehjs_exec.v0+json';\n",
       "  var CLASS_NAME = 'output_bokeh rendered_html';\n",
       "\n",
       "  /**\n",
       "   * Render data to the DOM node\n",
       "   */\n",
       "  function render(props, node) {\n",
       "    var script = document.createElement(\"script\");\n",
       "    node.appendChild(script);\n",
       "  }\n",
       "\n",
       "  /**\n",
       "   * Handle when an output is cleared or removed\n",
       "   */\n",
       "  function handleClearOutput(event, handle) {\n",
       "    var cell = handle.cell;\n",
       "\n",
       "    var id = cell.output_area._bokeh_element_id;\n",
       "    var server_id = cell.output_area._bokeh_server_id;\n",
       "    // Clean up Bokeh references\n",
       "    if (id != null && id in Bokeh.index) {\n",
       "      Bokeh.index[id].model.document.clear();\n",
       "      delete Bokeh.index[id];\n",
       "    }\n",
       "\n",
       "    if (server_id !== undefined) {\n",
       "      // Clean up Bokeh references\n",
       "      var cmd = \"from bokeh.io.state import curstate; print(curstate().uuid_to_server['\" + server_id + \"'].get_sessions()[0].document.roots[0]._id)\";\n",
       "      cell.notebook.kernel.execute(cmd, {\n",
       "        iopub: {\n",
       "          output: function(msg) {\n",
       "            var id = msg.content.text.trim();\n",
       "            if (id in Bokeh.index) {\n",
       "              Bokeh.index[id].model.document.clear();\n",
       "              delete Bokeh.index[id];\n",
       "            }\n",
       "          }\n",
       "        }\n",
       "      });\n",
       "      // Destroy server and session\n",
       "      var cmd = \"import bokeh.io.notebook as ion; ion.destroy_server('\" + server_id + \"')\";\n",
       "      cell.notebook.kernel.execute(cmd);\n",
       "    }\n",
       "  }\n",
       "\n",
       "  /**\n",
       "   * Handle when a new output is added\n",
       "   */\n",
       "  function handleAddOutput(event, handle) {\n",
       "    var output_area = handle.output_area;\n",
       "    var output = handle.output;\n",
       "\n",
       "    // limit handleAddOutput to display_data with EXEC_MIME_TYPE content only\n",
       "    if ((output.output_type != \"display_data\") || (!Object.prototype.hasOwnProperty.call(output.data, EXEC_MIME_TYPE))) {\n",
       "      return\n",
       "    }\n",
       "\n",
       "    var toinsert = output_area.element.find(\".\" + CLASS_NAME.split(' ')[0]);\n",
       "\n",
       "    if (output.metadata[EXEC_MIME_TYPE][\"id\"] !== undefined) {\n",
       "      toinsert[toinsert.length - 1].firstChild.textContent = output.data[JS_MIME_TYPE];\n",
       "      // store reference to embed id on output_area\n",
       "      output_area._bokeh_element_id = output.metadata[EXEC_MIME_TYPE][\"id\"];\n",
       "    }\n",
       "    if (output.metadata[EXEC_MIME_TYPE][\"server_id\"] !== undefined) {\n",
       "      var bk_div = document.createElement(\"div\");\n",
       "      bk_div.innerHTML = output.data[HTML_MIME_TYPE];\n",
       "      var script_attrs = bk_div.children[0].attributes;\n",
       "      for (var i = 0; i < script_attrs.length; i++) {\n",
       "        toinsert[toinsert.length - 1].firstChild.setAttribute(script_attrs[i].name, script_attrs[i].value);\n",
       "        toinsert[toinsert.length - 1].firstChild.textContent = bk_div.children[0].textContent\n",
       "      }\n",
       "      // store reference to server id on output_area\n",
       "      output_area._bokeh_server_id = output.metadata[EXEC_MIME_TYPE][\"server_id\"];\n",
       "    }\n",
       "  }\n",
       "\n",
       "  function register_renderer(events, OutputArea) {\n",
       "\n",
       "    function append_mime(data, metadata, element) {\n",
       "      // create a DOM node to render to\n",
       "      var toinsert = this.create_output_subarea(\n",
       "        metadata,\n",
       "        CLASS_NAME,\n",
       "        EXEC_MIME_TYPE\n",
       "      );\n",
       "      this.keyboard_manager.register_events(toinsert);\n",
       "      // Render to node\n",
       "      var props = {data: data, metadata: metadata[EXEC_MIME_TYPE]};\n",
       "      render(props, toinsert[toinsert.length - 1]);\n",
       "      element.append(toinsert);\n",
       "      return toinsert\n",
       "    }\n",
       "\n",
       "    /* Handle when an output is cleared or removed */\n",
       "    events.on('clear_output.CodeCell', handleClearOutput);\n",
       "    events.on('delete.Cell', handleClearOutput);\n",
       "\n",
       "    /* Handle when a new output is added */\n",
       "    events.on('output_added.OutputArea', handleAddOutput);\n",
       "\n",
       "    /**\n",
       "     * Register the mime type and append_mime function with output_area\n",
       "     */\n",
       "    OutputArea.prototype.register_mime_type(EXEC_MIME_TYPE, append_mime, {\n",
       "      /* Is output safe? */\n",
       "      safe: true,\n",
       "      /* Index of renderer in `output_area.display_order` */\n",
       "      index: 0\n",
       "    });\n",
       "  }\n",
       "\n",
       "  // register the mime type if in Jupyter Notebook environment and previously unregistered\n",
       "  if (root.Jupyter !== undefined) {\n",
       "    var events = require('base/js/events');\n",
       "    var OutputArea = require('notebook/js/outputarea').OutputArea;\n",
       "\n",
       "    if (OutputArea.prototype.mime_types().indexOf(EXEC_MIME_TYPE) == -1) {\n",
       "      register_renderer(events, OutputArea);\n",
       "    }\n",
       "  }\n",
       "\n",
       "  \n",
       "  if (typeof (root._bokeh_timeout) === \"undefined\" || force === true) {\n",
       "    root._bokeh_timeout = Date.now() + 5000;\n",
       "    root._bokeh_failed_load = false;\n",
       "  }\n",
       "\n",
       "  var NB_LOAD_WARNING = {'data': {'text/html':\n",
       "     \"<div style='background-color: #fdd'>\\n\"+\n",
       "     \"<p>\\n\"+\n",
       "     \"BokehJS does not appear to have successfully loaded. If loading BokehJS from CDN, this \\n\"+\n",
       "     \"may be due to a slow or bad network connection. Possible fixes:\\n\"+\n",
       "     \"</p>\\n\"+\n",
       "     \"<ul>\\n\"+\n",
       "     \"<li>re-rerun `output_notebook()` to attempt to load from CDN again, or</li>\\n\"+\n",
       "     \"<li>use INLINE resources instead, as so:</li>\\n\"+\n",
       "     \"</ul>\\n\"+\n",
       "     \"<code>\\n\"+\n",
       "     \"from bokeh.resources import INLINE\\n\"+\n",
       "     \"output_notebook(resources=INLINE)\\n\"+\n",
       "     \"</code>\\n\"+\n",
       "     \"</div>\"}};\n",
       "\n",
       "  function display_loaded() {\n",
       "    var el = document.getElementById(\"2967\");\n",
       "    if (el != null) {\n",
       "      el.textContent = \"BokehJS is loading...\";\n",
       "    }\n",
       "    if (root.Bokeh !== undefined) {\n",
       "      if (el != null) {\n",
       "        el.textContent = \"BokehJS \" + root.Bokeh.version + \" successfully loaded.\";\n",
       "      }\n",
       "    } else if (Date.now() < root._bokeh_timeout) {\n",
       "      setTimeout(display_loaded, 100)\n",
       "    }\n",
       "  }\n",
       "\n",
       "\n",
       "  function run_callbacks() {\n",
       "    try {\n",
       "      root._bokeh_onload_callbacks.forEach(function(callback) {\n",
       "        if (callback != null)\n",
       "          callback();\n",
       "      });\n",
       "    } finally {\n",
       "      delete root._bokeh_onload_callbacks\n",
       "    }\n",
       "    console.debug(\"Bokeh: all callbacks have finished\");\n",
       "  }\n",
       "\n",
       "  function load_libs(css_urls, js_urls, callback) {\n",
       "    if (css_urls == null) css_urls = [];\n",
       "    if (js_urls == null) js_urls = [];\n",
       "\n",
       "    root._bokeh_onload_callbacks.push(callback);\n",
       "    if (root._bokeh_is_loading > 0) {\n",
       "      console.debug(\"Bokeh: BokehJS is being loaded, scheduling callback at\", now());\n",
       "      return null;\n",
       "    }\n",
       "    if (js_urls == null || js_urls.length === 0) {\n",
       "      run_callbacks();\n",
       "      return null;\n",
       "    }\n",
       "    console.debug(\"Bokeh: BokehJS not loaded, scheduling load and callback at\", now());\n",
       "    root._bokeh_is_loading = css_urls.length + js_urls.length;\n",
       "\n",
       "    function on_load() {\n",
       "      root._bokeh_is_loading--;\n",
       "      if (root._bokeh_is_loading === 0) {\n",
       "        console.debug(\"Bokeh: all BokehJS libraries/stylesheets loaded\");\n",
       "        run_callbacks()\n",
       "      }\n",
       "    }\n",
       "\n",
       "    function on_error(url) {\n",
       "      console.error(\"failed to load \" + url);\n",
       "    }\n",
       "\n",
       "    for (let i = 0; i < css_urls.length; i++) {\n",
       "      const url = css_urls[i];\n",
       "      const element = document.createElement(\"link\");\n",
       "      element.onload = on_load;\n",
       "      element.onerror = on_error.bind(null, url);\n",
       "      element.rel = \"stylesheet\";\n",
       "      element.type = \"text/css\";\n",
       "      element.href = url;\n",
       "      console.debug(\"Bokeh: injecting link tag for BokehJS stylesheet: \", url);\n",
       "      document.body.appendChild(element);\n",
       "    }\n",
       "\n",
       "    const hashes = {\"https://cdn.bokeh.org/bokeh/release/bokeh-2.3.3.min.js\": \"dM3QQsP+wXdHg42wTqW85BjZQdLNNIXqlPw/BgKoExPmTG7ZLML4EGqLMfqHT6ON\", \"https://cdn.bokeh.org/bokeh/release/bokeh-tables-2.3.3.min.js\": \"8x57I4YuIfu8XyZfFo0XVr2WAT8EK4rh/uDe3wF7YuW2FNUSNEpJbsPaB1nJ2fz2\", \"https://cdn.bokeh.org/bokeh/release/bokeh-widgets-2.3.3.min.js\": \"3QTqdz9LyAm2i0sG5XTePsHec3UHWwVsrOL68SYRoAXsafvfAyqtQ+h440+qIBhS\"};\n",
       "\n",
       "    for (let i = 0; i < js_urls.length; i++) {\n",
       "      const url = js_urls[i];\n",
       "      const element = document.createElement('script');\n",
       "      element.onload = on_load;\n",
       "      element.onerror = on_error.bind(null, url);\n",
       "      element.async = false;\n",
       "      element.src = url;\n",
       "      if (url in hashes) {\n",
       "        element.crossOrigin = \"anonymous\";\n",
       "        element.integrity = \"sha384-\" + hashes[url];\n",
       "      }\n",
       "      console.debug(\"Bokeh: injecting script tag for BokehJS library: \", url);\n",
       "      document.head.appendChild(element);\n",
       "    }\n",
       "  };\n",
       "\n",
       "  function inject_raw_css(css) {\n",
       "    const element = document.createElement(\"style\");\n",
       "    element.appendChild(document.createTextNode(css));\n",
       "    document.body.appendChild(element);\n",
       "  }\n",
       "\n",
       "  \n",
       "  var js_urls = [\"https://cdn.bokeh.org/bokeh/release/bokeh-2.3.3.min.js\", \"https://cdn.bokeh.org/bokeh/release/bokeh-widgets-2.3.3.min.js\", \"https://cdn.bokeh.org/bokeh/release/bokeh-tables-2.3.3.min.js\"];\n",
       "  var css_urls = [];\n",
       "  \n",
       "\n",
       "  var inline_js = [\n",
       "    function(Bokeh) {\n",
       "      Bokeh.set_log_level(\"info\");\n",
       "    },\n",
       "    function(Bokeh) {\n",
       "    \n",
       "    \n",
       "    }\n",
       "  ];\n",
       "\n",
       "  function run_inline_js() {\n",
       "    \n",
       "    if (root.Bokeh !== undefined || force === true) {\n",
       "      \n",
       "    for (var i = 0; i < inline_js.length; i++) {\n",
       "      inline_js[i].call(root, root.Bokeh);\n",
       "    }\n",
       "    if (force === true) {\n",
       "        display_loaded();\n",
       "      }} else if (Date.now() < root._bokeh_timeout) {\n",
       "      setTimeout(run_inline_js, 100);\n",
       "    } else if (!root._bokeh_failed_load) {\n",
       "      console.log(\"Bokeh: BokehJS failed to load within specified timeout.\");\n",
       "      root._bokeh_failed_load = true;\n",
       "    } else if (force !== true) {\n",
       "      var cell = $(document.getElementById(\"2967\")).parents('.cell').data().cell;\n",
       "      cell.output_area.append_execute_result(NB_LOAD_WARNING)\n",
       "    }\n",
       "\n",
       "  }\n",
       "\n",
       "  if (root._bokeh_is_loading === 0) {\n",
       "    console.debug(\"Bokeh: BokehJS loaded, going straight to plotting\");\n",
       "    run_inline_js();\n",
       "  } else {\n",
       "    load_libs(css_urls, js_urls, function() {\n",
       "      console.debug(\"Bokeh: BokehJS plotting callback run at\", now());\n",
       "      run_inline_js();\n",
       "    });\n",
       "  }\n",
       "}(window));"
      ],
      "application/vnd.bokehjs_load.v0+json": "\n(function(root) {\n  function now() {\n    return new Date();\n  }\n\n  var force = true;\n\n  if (typeof root._bokeh_onload_callbacks === \"undefined\" || force === true) {\n    root._bokeh_onload_callbacks = [];\n    root._bokeh_is_loading = undefined;\n  }\n\n  \n\n  \n  if (typeof (root._bokeh_timeout) === \"undefined\" || force === true) {\n    root._bokeh_timeout = Date.now() + 5000;\n    root._bokeh_failed_load = false;\n  }\n\n  var NB_LOAD_WARNING = {'data': {'text/html':\n     \"<div style='background-color: #fdd'>\\n\"+\n     \"<p>\\n\"+\n     \"BokehJS does not appear to have successfully loaded. If loading BokehJS from CDN, this \\n\"+\n     \"may be due to a slow or bad network connection. Possible fixes:\\n\"+\n     \"</p>\\n\"+\n     \"<ul>\\n\"+\n     \"<li>re-rerun `output_notebook()` to attempt to load from CDN again, or</li>\\n\"+\n     \"<li>use INLINE resources instead, as so:</li>\\n\"+\n     \"</ul>\\n\"+\n     \"<code>\\n\"+\n     \"from bokeh.resources import INLINE\\n\"+\n     \"output_notebook(resources=INLINE)\\n\"+\n     \"</code>\\n\"+\n     \"</div>\"}};\n\n  function display_loaded() {\n    var el = document.getElementById(\"2967\");\n    if (el != null) {\n      el.textContent = \"BokehJS is loading...\";\n    }\n    if (root.Bokeh !== undefined) {\n      if (el != null) {\n        el.textContent = \"BokehJS \" + root.Bokeh.version + \" successfully loaded.\";\n      }\n    } else if (Date.now() < root._bokeh_timeout) {\n      setTimeout(display_loaded, 100)\n    }\n  }\n\n\n  function run_callbacks() {\n    try {\n      root._bokeh_onload_callbacks.forEach(function(callback) {\n        if (callback != null)\n          callback();\n      });\n    } finally {\n      delete root._bokeh_onload_callbacks\n    }\n    console.debug(\"Bokeh: all callbacks have finished\");\n  }\n\n  function load_libs(css_urls, js_urls, callback) {\n    if (css_urls == null) css_urls = [];\n    if (js_urls == null) js_urls = [];\n\n    root._bokeh_onload_callbacks.push(callback);\n    if (root._bokeh_is_loading > 0) {\n      console.debug(\"Bokeh: BokehJS is being loaded, scheduling callback at\", now());\n      return null;\n    }\n    if (js_urls == null || js_urls.length === 0) {\n      run_callbacks();\n      return null;\n    }\n    console.debug(\"Bokeh: BokehJS not loaded, scheduling load and callback at\", now());\n    root._bokeh_is_loading = css_urls.length + js_urls.length;\n\n    function on_load() {\n      root._bokeh_is_loading--;\n      if (root._bokeh_is_loading === 0) {\n        console.debug(\"Bokeh: all BokehJS libraries/stylesheets loaded\");\n        run_callbacks()\n      }\n    }\n\n    function on_error(url) {\n      console.error(\"failed to load \" + url);\n    }\n\n    for (let i = 0; i < css_urls.length; i++) {\n      const url = css_urls[i];\n      const element = document.createElement(\"link\");\n      element.onload = on_load;\n      element.onerror = on_error.bind(null, url);\n      element.rel = \"stylesheet\";\n      element.type = \"text/css\";\n      element.href = url;\n      console.debug(\"Bokeh: injecting link tag for BokehJS stylesheet: \", url);\n      document.body.appendChild(element);\n    }\n\n    const hashes = {\"https://cdn.bokeh.org/bokeh/release/bokeh-2.3.3.min.js\": \"dM3QQsP+wXdHg42wTqW85BjZQdLNNIXqlPw/BgKoExPmTG7ZLML4EGqLMfqHT6ON\", \"https://cdn.bokeh.org/bokeh/release/bokeh-tables-2.3.3.min.js\": \"8x57I4YuIfu8XyZfFo0XVr2WAT8EK4rh/uDe3wF7YuW2FNUSNEpJbsPaB1nJ2fz2\", \"https://cdn.bokeh.org/bokeh/release/bokeh-widgets-2.3.3.min.js\": \"3QTqdz9LyAm2i0sG5XTePsHec3UHWwVsrOL68SYRoAXsafvfAyqtQ+h440+qIBhS\"};\n\n    for (let i = 0; i < js_urls.length; i++) {\n      const url = js_urls[i];\n      const element = document.createElement('script');\n      element.onload = on_load;\n      element.onerror = on_error.bind(null, url);\n      element.async = false;\n      element.src = url;\n      if (url in hashes) {\n        element.crossOrigin = \"anonymous\";\n        element.integrity = \"sha384-\" + hashes[url];\n      }\n      console.debug(\"Bokeh: injecting script tag for BokehJS library: \", url);\n      document.head.appendChild(element);\n    }\n  };\n\n  function inject_raw_css(css) {\n    const element = document.createElement(\"style\");\n    element.appendChild(document.createTextNode(css));\n    document.body.appendChild(element);\n  }\n\n  \n  var js_urls = [\"https://cdn.bokeh.org/bokeh/release/bokeh-2.3.3.min.js\", \"https://cdn.bokeh.org/bokeh/release/bokeh-widgets-2.3.3.min.js\", \"https://cdn.bokeh.org/bokeh/release/bokeh-tables-2.3.3.min.js\"];\n  var css_urls = [];\n  \n\n  var inline_js = [\n    function(Bokeh) {\n      Bokeh.set_log_level(\"info\");\n    },\n    function(Bokeh) {\n    \n    \n    }\n  ];\n\n  function run_inline_js() {\n    \n    if (root.Bokeh !== undefined || force === true) {\n      \n    for (var i = 0; i < inline_js.length; i++) {\n      inline_js[i].call(root, root.Bokeh);\n    }\n    if (force === true) {\n        display_loaded();\n      }} else if (Date.now() < root._bokeh_timeout) {\n      setTimeout(run_inline_js, 100);\n    } else if (!root._bokeh_failed_load) {\n      console.log(\"Bokeh: BokehJS failed to load within specified timeout.\");\n      root._bokeh_failed_load = true;\n    } else if (force !== true) {\n      var cell = $(document.getElementById(\"2967\")).parents('.cell').data().cell;\n      cell.output_area.append_execute_result(NB_LOAD_WARNING)\n    }\n\n  }\n\n  if (root._bokeh_is_loading === 0) {\n    console.debug(\"Bokeh: BokehJS loaded, going straight to plotting\");\n    run_inline_js();\n  } else {\n    load_libs(css_urls, js_urls, function() {\n      console.debug(\"Bokeh: BokehJS plotting callback run at\", now());\n      run_inline_js();\n    });\n  }\n}(window));"
     },
     "metadata": {},
     "output_type": "display_data"
    },
    {
     "data": {
      "text/html": [
       "\n",
       "\n",
       "\n",
       "\n",
       "\n",
       "\n",
       "  <div class=\"bk-root\" id=\"b3f11895-afbf-43e5-a56e-3b4ae069be92\" data-root-id=\"3118\"></div>\n"
      ]
     },
     "metadata": {},
     "output_type": "display_data"
    },
    {
     "data": {
      "application/javascript": [
       "(function(root) {\n",
       "  function embed_document(root) {\n",
       "    \n",
       "  var docs_json = {\"caf52ff5-9853-476e-9cdc-1d5b377f1d63\":{\"defs\":[],\"roots\":{\"references\":[{\"attributes\":{\"children\":[{\"id\":\"2970\"},{\"id\":\"3088\"}]},\"id\":\"3118\",\"type\":\"Column\"},{\"attributes\":{\"source\":{\"id\":\"2968\"}},\"id\":\"3010\",\"type\":\"CDSView\"},{\"attributes\":{\"label\":{\"value\":\"observed\"},\"renderers\":[{\"id\":\"3009\"}]},\"id\":\"3032\",\"type\":\"LegendItem\"},{\"attributes\":{\"click_policy\":\"hide\",\"items\":[{\"id\":\"3032\"},{\"id\":\"3058\"},{\"id\":\"3087\"}],\"location\":\"top_left\"},\"id\":\"3031\",\"type\":\"Legend\"},{\"attributes\":{},\"id\":\"3086\",\"type\":\"Selection\"},{\"attributes\":{},\"id\":\"3157\",\"type\":\"UnionRenderers\"},{\"attributes\":{},\"id\":\"3085\",\"type\":\"UnionRenderers\"},{\"attributes\":{\"fill_alpha\":0.2,\"fill_color\":\"navy\",\"level\":\"overlay\",\"line_alpha\":1.0,\"line_color\":\"black\",\"line_dash\":[2,2],\"line_width\":0.5,\"syncable\":false},\"id\":\"3114\",\"type\":\"BoxAnnotation\"},{\"attributes\":{\"overlay\":{\"id\":\"3114\"},\"x_range\":{\"id\":\"2973\"},\"y_range\":null},\"id\":\"3113\",\"type\":\"RangeTool\"},{\"attributes\":{},\"id\":\"3158\",\"type\":\"Selection\"},{\"attributes\":{\"axis\":{\"id\":\"2985\"},\"dimension\":1,\"grid_line_color\":null,\"ticker\":null},\"id\":\"2988\",\"type\":\"Grid\"},{\"attributes\":{\"axis\":{\"id\":\"2981\"},\"grid_line_color\":null,\"ticker\":null},\"id\":\"2984\",\"type\":\"Grid\"},{\"attributes\":{\"axis_label\":\"SourceRecordId\",\"formatter\":{\"id\":\"3004\"},\"major_label_policy\":{\"id\":\"3015\"},\"ticker\":{\"id\":\"2986\"}},\"id\":\"2985\",\"type\":\"LinearAxis\"},{\"attributes\":{\"num_minor_ticks\":10,\"tickers\":[{\"id\":\"3016\"},{\"id\":\"3017\"},{\"id\":\"3018\"},{\"id\":\"3019\"},{\"id\":\"3020\"},{\"id\":\"3021\"},{\"id\":\"3022\"},{\"id\":\"3023\"},{\"id\":\"3024\"},{\"id\":\"3025\"},{\"id\":\"3026\"},{\"id\":\"3027\"}]},\"id\":\"2982\",\"type\":\"DatetimeTicker\"},{\"attributes\":{},\"id\":\"3097\",\"type\":\"LinearScale\"},{\"attributes\":{},\"id\":\"3013\",\"type\":\"AllLabels\"},{\"attributes\":{\"callback\":null,\"formatters\":{\"@TimeGenerated\":\"datetime\"},\"tooltips\":[[\"TimeGenerated\",\"@TimeGenerated{%F %T.%3N}\"],[\"SourceRecordId\",\"@SourceRecordId\"],[\"residual\",\"@residual\"],[\"trend\",\"@trend\"],[\"seasonal\",\"@seasonal\"],[\"weights\",\"@weights\"],[\"score\",\"@score\"],[\"baseline\",\"@baseline\"]]},\"id\":\"2969\",\"type\":\"HoverTool\"},{\"attributes\":{\"overlay\":{\"id\":\"2994\"}},\"id\":\"2990\",\"type\":\"BoxZoomTool\"},{\"attributes\":{},\"id\":\"2986\",\"type\":\"BasicTicker\"},{\"attributes\":{\"num_minor_ticks\":5,\"tickers\":[{\"id\":\"3144\"},{\"id\":\"3145\"},{\"id\":\"3146\"},{\"id\":\"3147\"},{\"id\":\"3148\"},{\"id\":\"3149\"},{\"id\":\"3150\"},{\"id\":\"3151\"},{\"id\":\"3152\"},{\"id\":\"3153\"},{\"id\":\"3154\"},{\"id\":\"3155\"}]},\"id\":\"3100\",\"type\":\"DatetimeTicker\"},{\"attributes\":{\"text\":\"Range Selector\"},\"id\":\"3089\",\"type\":\"Title\"},{\"attributes\":{},\"id\":\"2992\",\"type\":\"SaveTool\"},{\"attributes\":{\"end\":1629034203171.821,\"start\":1628364963171.821},\"id\":\"3091\",\"type\":\"Range1d\"},{\"attributes\":{\"align\":\"right\",\"text\":\"Drag the middle or edges of the selection box to change the range in the main chart\",\"text_font_size\":\"10px\"},\"id\":\"3104\",\"type\":\"Title\"},{\"attributes\":{\"dimensions\":\"width\"},\"id\":\"2989\",\"type\":\"WheelZoomTool\"},{\"attributes\":{},\"id\":\"3093\",\"type\":\"DataRange1d\"},{\"attributes\":{},\"id\":\"2991\",\"type\":\"ResetTool\"},{\"attributes\":{\"dimensions\":\"width\"},\"id\":\"2993\",\"type\":\"PanTool\"},{\"attributes\":{\"data\":{\"SourceRecordId\":[9,7,20,8,6,3,6,96,6,6,11,8,7,15,5,6,6,5,7,9,18,15,7,6,5,81,20,9,5,6,5,5,15,5,9,6,11,74,34,26,15,9,14,16,26,7,11,26,13,16,28,20,18,12,19,19,2,10,9,9,10,8,70,7,5,7,8,24,7,11,66,6,3,9,22,9,7,11,40,125,55,6,11,8,6,8,22,10,8,10,9,16,23,7,7,4,5,8,51,7,11,10,13,7,20,8,85,5,3,21,12,13,7,7,9,11,20,26,7,5,0,0,0,0,0,0,0,0,0,0,0,0,0,0,0,0,0,0,0,0,0,0,0,0],\"TimeGenerated\":{\"__ndarray__\":\"Iz1gfGuyd0IjPUjrbrJ3QiM9MFpysndCIz0YyXWyd0IjPQA4ebJ3QiM96KZ8sndCIz3QFYCyd0IjPbiEg7J3QiM9oPOGsndCIz2IYoqyd0IjPXDRjbJ3QiM9WECRsndCIz1Ar5Syd0IjPSgemLJ3QiM9EI2bsndCIz34+56yd0IjPeBqorJ3QiM9yNmlsndCIz2wSKmyd0IjPZi3rLJ3QiM9gCawsndCIz1olbOyd0IjPVAEt7J3QiM9OHO6sndCIz0g4r2yd0IjPQhRwbJ3QiM98L/EsndCIz3YLsiyd0IjPcCdy7J3QiM9qAzPsndCIz2Qe9Kyd0IjPXjq1bJ3QiM9YFnZsndCIz1IyNyyd0IjPTA34LJ3QiM9GKbjsndCIz0AFeeyd0IjPeiD6rJ3QiM90PLtsndCIz24YfGyd0IjPaDQ9LJ3QiM9iD/4sndCIz1wrvuyd0IjPVgd/7J3QiM9QIwCs3dCIz0o+wWzd0IjPRBqCbN3QiM9+NgMs3dCIz3gRxCzd0IjPci2E7N3QiM9sCUXs3dCIz2YlBqzd0IjPYADHrN3QiM9aHIhs3dCIz1Q4SSzd0IjPThQKLN3QiM9IL8rs3dCIz0ILi+zd0IjPfCcMrN3QiM92As2s3dCIz3Aejmzd0IjPajpPLN3QiM9kFhAs3dCIz14x0Ozd0IjPWA2R7N3QiM9SKVKs3dCIz0wFE6zd0IjPRiDUbN3QiM9APJUs3dCIz3oYFizd0IjPdDPW7N3QiM9uD5fs3dCIz2grWKzd0IjPYgcZrN3QiM9cItps3dCIz1Y+myzd0IjPUBpcLN3QiM9KNhzs3dCIz0QR3ezd0IjPfi1erN3QiM94CR+s3dCIz3Ik4Gzd0IjPbAChbN3QiM9mHGIs3dCIz2A4Iuzd0IjPWhPj7N3QiM9UL6Ss3dCIz04LZazd0IjPSCcmbN3QiM9CAuds3dCIz3weaCzd0IjPdjoo7N3QiM9wFens3dCIz2oxqqzd0IjPZA1rrN3QiM9eKSxs3dCIz1gE7Wzd0IjPUiCuLN3QiM9MPG7s3dCIz0YYL+zd0IjPQDPwrN3QiM96D3Gs3dCIz3QrMmzd0IjPbgbzbN3QiM9oIrQs3dCIz2I+dOzd0IjPXBo17N3QiM9WNfas3dCIz1ARt6zd0IjPSi14bN3QiM9ECTls3dCIz34kuizd0IjPeAB7LN3QiM9yHDvs3dCIz2w3/Kzd0IjPZhO9rN3QiM9gL35s3dCIz1oLP2zd0IjPVCbALR3QiM9OAoEtHdCIz0geQe0d0IjPQjoCrR3QiM98FYOtHdCIz3YxRG0d0IjPcA0FbR3QiM9qKMYtHdCIz2QEhy0d0IjPXiBH7R3QiM9YPAitHdCIz1IXya0d0IjPTDOKbR3QiM9GD0ttHdCIz0ArDC0d0IjPegaNLR3QiM90Ik3tHdCIz24+Dq0d0IjPaBnPrR3QiM9iNZBtHdCIz1wRUW0d0IjPVi0SLR3QiM9QCNMtHdCIz0okk+0d0IjPRABU7R3QiM9+G9WtHdC\",\"dtype\":\"float64\",\"order\":\"little\",\"shape\":[144]},\"anomalies\":[0,0,0,0,0,0,0,0,0,0,0,0,0,0,0,0,0,0,0,0,0,0,0,0,0,1,0,0,0,0,0,0,0,0,0,0,0,0,0,0,0,0,0,0,0,0,0,0,0,0,0,0,0,0,0,0,0,0,0,0,0,0,0,0,0,0,0,0,0,0,0,0,0,0,0,0,0,0,0,1,0,0,0,0,0,0,0,0,0,0,0,0,0,0,0,0,0,0,0,0,0,0,0,0,0,0,1,0,0,0,0,0,0,0,0,0,0,0,0,0,0,0,0,0,0,0,0,0,0,0,0,0,0,0,0,0,0,0,0,0,0,0,0,0],\"baseline\":[8,35,17,8,5,2,1,56,2,4,4,6,7,36,17,11,7,4,7,10,17,9,11,11,8,32,22,11,8,7,12,54,13,8,12,9,10,33,30,14,10,8,10,15,19,11,21,12,7,29,26,12,10,9,18,48,20,6,16,7,7,26,36,13,9,9,11,19,20,13,28,13,9,20,32,14,13,13,24,46,26,10,31,10,9,20,34,14,10,10,11,18,19,15,24,9,5,8,25,8,8,9,16,32,21,8,33,7,6,13,18,10,7,8,8,11,14,13,11,5,-2,-5,13,-2,0,0,1,5,6,-2,27,-3,-4,-1,-7,0,-2,-2,-1,-1,3,5,-7,-3],\"index\":[0,1,2,3,4,5,6,7,8,9,10,11,12,13,14,15,16,17,18,19,20,21,22,23,24,25,26,27,28,29,30,31,32,33,34,35,36,37,38,39,40,41,42,43,44,45,46,47,48,49,50,51,52,53,54,55,56,57,58,59,60,61,62,63,64,65,66,67,68,69,70,71,72,73,74,75,76,77,78,79,80,81,82,83,84,85,86,87,88,89,90,91,92,93,94,95,96,97,98,99,100,101,102,103,104,105,106,107,108,109,110,111,112,113,114,115,116,117,118,119,120,121,122,123,124,125,126,127,128,129,130,131,132,133,134,135,136,137,138,139,140,141,142,143],\"residual\":[0,-28,2,0,0,0,4,39,3,1,6,1,0,-21,-12,-5,-1,0,0,-1,0,5,-4,-5,-3,48,-2,-2,-3,-1,-7,-49,1,-3,-3,-3,0,40,3,11,4,0,3,0,6,-4,-10,13,5,-13,1,7,7,2,0,-29,-18,3,-7,1,2,-18,33,-6,-4,-2,-3,4,-13,-2,37,-7,-6,-11,-10,-5,-6,-2,15,78,28,-4,-20,-2,-3,-12,-12,-4,-2,0,-2,-2,3,-8,-17,-5,0,0,25,-1,2,0,-3,-25,-1,0,51,-2,-3,7,-6,2,0,-1,0,0,5,12,-4,0,2,5,-13,2,0,0,-1,-5,-6,2,-27,3,4,1,7,0,2,2,1,1,-3,-5,7,3],\"score\":{\"__ndarray__\":\"Uc5aJm42kb9KfMZw2hQAwNetdgnUEsA/Uc5aJm42kb9RzlombjaRv1HOWiZuNpG/vFrc6zom0T+vwxNX0BMGQKixl/CkL8k/GqhWiQzYqz+NXv3SC0PaPxqoVokM2Ks/Uc5aJm42kb89FVAXfjD4v+ThlSYm4Ou/bjY4JHHb1782u9hXPYe2v1HOWiZuNpG/Uc5aJm42kb82u9hXPYe2v1HOWiZuNpG/pdxsX6O01T+GtKewCE3Tv242OCRx29e/PGUuekB9zb/VVRbZBTQLQGxhDZNvYMS/bGENk29gxL88ZS56QH3Nvza72Fc9h7a/H52sBSF84L9M0SGgrAoMwBqoVokM2Ks/PGUuekB9zb88ZS56QH3NvzxlLnpAfc2/Uc5aJm42kb/t04VlnaUGQKixl/CkL8k/DPRnCouF6D+8WtzrOibRP1HOWiZuNpG/qLGX8KQvyT9RzlombjaRv41e/dILQ9o/hrSnsAhN07/8XwWzvVHnv/R1+H3zE+0/pdxsX6O01T/YIl5gWifuvxqoVokM2Ks/duCNRnTR3j924I1GdNHeP9etdgnUEsA/Uc5aJm42kb+HjDh/p6YAwM+zo8CvxfS/qLGX8KQvyT8fnawFIXzgvxqoVokM2Ks/1612CdQSwD/Ps6PAr8X0v0FiZwACqQJAV7jIl9lp3L+GtKewCE3Tv2xhDZNvYMS/PGUuekB9zb+8WtzrOibRP9giXmBaJ+6/bGENk29gxL81oy86NvAEQB+drAUhfOC/V7jIl9lp3L/woM3s8Zjpv/xfBbO9Uee/bjY4JHHb179XuMiX2Wncv2xhDZNvYMS/7nvE+C3R8D9+HjrFBiUWQCEiWnABoP8/hrSnsAhN07/D9Gv64wz3v2xhDZNvYMS/PGUuekB9zb/k4ZUmJuDrv+ThlSYm4Ou/hrSnsAhN079sYQ2Tb2DEv1HOWiZuNpG/bGENk29gxL9sYQ2Tb2DEv6ixl/CkL8k/FN50P1XD4r9Vk7+jFaLzv242OCRx29e/Uc5aJm42kb9RzlombjaRv7PArRkzNfw/NrvYVz2Htr/XrXYJ1BLAP1HOWiZuNpG/PGUuekB9zb8ll+CK5r78vza72Fc9h7a/Uc5aJm42kb+MhmwEbekMQGxhDZNvYMS/PGUuekB9zb924I1GdNHeP1e4yJfZady/1612CdQSwD9RzlombjaRvza72Fc9h7a/Uc5aJm42kb9RzlombjaRv6XcbF+jtNU/ADUwRL/M6j+GtKewCE3Tv1HOWiZuNpG/1612CdQSwD+l3Gxfo7TVP9giXmBaJ+6/1612CdQSwD9RzlombjaRv1HOWiZuNpG/NrvYVz2Htr9uNjgkcdvXv1e4yJfZady/1612CdQSwD8Z2KjEGgb/v6ixl/CkL8k/vFrc6zom0T8aqFaJDNirP3bgjUZ00d4/Uc5aJm42kb/XrXYJ1BLAP9etdgnUEsA/GqhWiQzYqz8aqFaJDNirPzxlLnpAfc2/bjY4JHHb17924I1GdNHeP6ixl/CkL8k/\",\"dtype\":\"float64\",\"order\":\"little\",\"shape\":[144]},\"seasonal\":[-2,24,6,-2,-6,-8,-10,44,-9,-7,-8,-6,-5,23,4,-1,-5,-8,-5,-3,4,-3,-2,-1,-6,17,7,-3,-6,-8,-3,38,-3,-8,-4,-7,-6,15,13,-3,-7,-8,-6,-1,2,-5,4,-4,-9,12,9,-4,-6,-7,2,32,4,-9,0,-9,-8,10,19,-3,-8,-8,-7,0,1,-5,8,-6,-10,0,12,-5,-6,-6,4,27,7,-8,12,-8,-8,2,16,-3,-7,-6,-5,1,2,-1,8,-6,-10,-7,10,-6,-5,-5,2,18,6,-6,19,-6,-6,0,5,-1,-3,-2,-1,1,5,4,3,-2,-9,-12,8,-7,-5,-4,-1,3,4,-3,26,-3,-4,0,-5,1,0,1,2,2,8,10,-1,3],\"trend\":[10,11,11,11,11,11,11,11,12,12,12,12,12,12,13,13,13,13,13,13,13,13,13,13,14,14,14,15,15,15,16,16,16,16,17,17,17,17,17,17,17,17,17,17,17,17,17,17,17,17,17,17,17,16,16,16,16,16,16,16,16,16,17,17,17,18,18,18,19,19,19,19,20,20,20,20,20,19,19,19,19,19,19,18,18,18,18,18,17,17,17,17,16,16,16,15,15,15,14,14,14,14,14,14,14,14,14,13,13,13,12,12,11,11,10,10,9,8,8,7,6,6,5,5,4,3,3,2,2,1,0,0,0,0,-1,-2,-2,-3,-3,-4,-5,-5,-6,-6],\"weights\":[1,1,1,1,1,1,1,1,1,1,1,1,1,1,1,1,1,1,1,1,1,1,1,1,1,1,1,1,1,1,1,1,1,1,1,1,1,1,1,1,1,1,1,1,1,1,1,1,1,1,1,1,1,1,1,1,1,1,1,1,1,1,1,1,1,1,1,1,1,1,1,1,1,1,1,1,1,1,1,1,1,1,1,1,1,1,1,1,1,1,1,1,1,1,1,1,1,1,1,1,1,1,1,1,1,1,1,1,1,1,1,1,1,1,1,1,1,1,1,1,1,1,1,1,1,1,1,1,1,1,1,1,1,1,1,1,1,1,1,1,1,1,1,1]},\"selected\":{\"id\":\"3030\"},\"selection_policy\":{\"id\":\"3029\"}},\"id\":\"2968\",\"type\":\"ColumnDataSource\"},{\"attributes\":{},\"id\":\"3095\",\"type\":\"LinearScale\"},{\"attributes\":{},\"id\":\"3015\",\"type\":\"AllLabels\"},{\"attributes\":{\"source\":{\"id\":\"3107\"}},\"id\":\"3112\",\"type\":\"CDSView\"},{\"attributes\":{\"axis\":{\"id\":\"3099\"},\"ticker\":null},\"id\":\"3102\",\"type\":\"Grid\"},{\"attributes\":{\"days\":[1,4,7,10,13,16,19,22,25,28]},\"id\":\"3020\",\"type\":\"DaysTicker\"},{\"attributes\":{\"formatter\":{\"id\":\"3105\"},\"major_label_policy\":{\"id\":\"3126\"},\"ticker\":{\"id\":\"3100\"}},\"id\":\"3099\",\"type\":\"DatetimeAxis\"},{\"attributes\":{\"data_source\":{\"id\":\"3107\"},\"glyph\":{\"id\":\"3109\"},\"hover_glyph\":null,\"muted_glyph\":null,\"nonselection_glyph\":{\"id\":\"3110\"},\"view\":{\"id\":\"3112\"}},\"id\":\"3111\",\"type\":\"GlyphRenderer\"},{\"attributes\":{\"months\":[0,4,8]},\"id\":\"3025\",\"type\":\"MonthsTicker\"},{\"attributes\":{\"data_source\":{\"id\":\"2968\"},\"glyph\":{\"id\":\"3034\"},\"hover_glyph\":null,\"muted_glyph\":null,\"nonselection_glyph\":{\"id\":\"3035\"},\"view\":{\"id\":\"3037\"}},\"id\":\"3036\",\"type\":\"GlyphRenderer\"},{\"attributes\":{\"days\":[1,8,15,22]},\"id\":\"3021\",\"type\":\"DaysTicker\"},{\"attributes\":{\"months\":[0,6]},\"id\":\"3026\",\"type\":\"MonthsTicker\"},{\"attributes\":{\"active_multi\":{\"id\":\"3113\"},\"tools\":[{\"id\":\"3113\"}]},\"id\":\"3103\",\"type\":\"Toolbar\"},{\"attributes\":{\"days\":[\"%m-%d %H:%M\"],\"hours\":[\"%H:%M:%S\"],\"milliseconds\":[\"%H:%M:%S.%3N\"],\"minutes\":[\"%H:%M:%S\"],\"seconds\":[\"%H:%M:%S\"]},\"id\":\"3105\",\"type\":\"DatetimeTickFormatter\"},{\"attributes\":{\"label\":{\"value\":\"baseline\"},\"renderers\":[{\"id\":\"3036\"}]},\"id\":\"3058\",\"type\":\"LegendItem\"},{\"attributes\":{\"months\":[0,2,4,6,8,10]},\"id\":\"3024\",\"type\":\"MonthsTicker\"},{\"attributes\":{\"fill_alpha\":{\"value\":0.1},\"fill_color\":{\"value\":\"#1f77b4\"},\"line_alpha\":{\"value\":0.1},\"line_color\":{\"value\":\"navy\"},\"x\":{\"field\":\"TimeGenerated\"},\"y\":{\"field\":\"SourceRecordId\"}},\"id\":\"3008\",\"type\":\"Circle\"},{\"attributes\":{\"line_alpha\":0.1,\"line_color\":\"green\",\"x\":{\"field\":\"TimeGenerated\"},\"y\":{\"field\":\"baseline\"}},\"id\":\"3035\",\"type\":\"Line\"},{\"attributes\":{\"below\":[{\"id\":\"3099\"},{\"id\":\"3104\"}],\"center\":[{\"id\":\"3102\"}],\"height\":120,\"renderers\":[{\"id\":\"3111\"}],\"title\":{\"id\":\"3089\"},\"toolbar\":{\"id\":\"3103\"},\"toolbar_location\":null,\"width\":1200,\"x_range\":{\"id\":\"3091\"},\"x_scale\":{\"id\":\"3095\"},\"y_range\":{\"id\":\"3093\"},\"y_scale\":{\"id\":\"3097\"}},\"id\":\"3088\",\"subtype\":\"Figure\",\"type\":\"Plot\"},{\"attributes\":{\"base\":24,\"mantissas\":[1,2,4,6,8,12],\"max_interval\":43200000.0,\"min_interval\":3600000.0,\"num_minor_ticks\":0},\"id\":\"3018\",\"type\":\"AdaptiveTicker\"},{\"attributes\":{\"data_source\":{\"id\":\"2968\"},\"glyph\":{\"id\":\"3007\"},\"hover_glyph\":null,\"muted_glyph\":null,\"nonselection_glyph\":{\"id\":\"3008\"},\"view\":{\"id\":\"3010\"}},\"id\":\"3009\",\"type\":\"GlyphRenderer\"},{\"attributes\":{\"line_color\":\"green\",\"x\":{\"field\":\"TimeGenerated\"},\"y\":{\"field\":\"baseline\"}},\"id\":\"3034\",\"type\":\"Line\"},{\"attributes\":{\"fill_color\":{\"value\":\"#1f77b4\"},\"line_color\":{\"value\":\"navy\"},\"x\":{\"field\":\"TimeGenerated\"},\"y\":{\"field\":\"SourceRecordId\"}},\"id\":\"3007\",\"type\":\"Circle\"},{\"attributes\":{\"source\":{\"id\":\"2968\"}},\"id\":\"3037\",\"type\":\"CDSView\"},{\"attributes\":{\"mantissas\":[1,2,5],\"max_interval\":500.0,\"num_minor_ticks\":0},\"id\":\"3016\",\"type\":\"AdaptiveTicker\"},{\"attributes\":{\"months\":[0,1,2,3,4,5,6,7,8,9,10,11]},\"id\":\"3023\",\"type\":\"MonthsTicker\"},{\"attributes\":{\"months\":[0,6]},\"id\":\"3154\",\"type\":\"MonthsTicker\"},{\"attributes\":{\"days\":[1,4,7,10,13,16,19,22,25,28]},\"id\":\"3148\",\"type\":\"DaysTicker\"},{\"attributes\":{\"months\":[0,4,8]},\"id\":\"3153\",\"type\":\"MonthsTicker\"},{\"attributes\":{\"base\":60,\"mantissas\":[1,2,5,10,15,20,30],\"max_interval\":1800000.0,\"min_interval\":1000.0,\"num_minor_ticks\":0},\"id\":\"3017\",\"type\":\"AdaptiveTicker\"},{\"attributes\":{\"days\":[1,2,3,4,5,6,7,8,9,10,11,12,13,14,15,16,17,18,19,20,21,22,23,24,25,26,27,28,29,30,31]},\"id\":\"3147\",\"type\":\"DaysTicker\"},{\"attributes\":{\"days\":[1,2,3,4,5,6,7,8,9,10,11,12,13,14,15,16,17,18,19,20,21,22,23,24,25,26,27,28,29,30,31]},\"id\":\"3019\",\"type\":\"DaysTicker\"},{\"attributes\":{\"days\":[1,15]},\"id\":\"3150\",\"type\":\"DaysTicker\"},{\"attributes\":{\"days\":[1,8,15,22]},\"id\":\"3149\",\"type\":\"DaysTicker\"},{\"attributes\":{\"base\":24,\"mantissas\":[1,2,4,6,8,12],\"max_interval\":43200000.0,\"min_interval\":3600000.0,\"num_minor_ticks\":0},\"id\":\"3146\",\"type\":\"AdaptiveTicker\"},{\"attributes\":{\"base\":60,\"mantissas\":[1,2,5,10,15,20,30],\"max_interval\":1800000.0,\"min_interval\":1000.0,\"num_minor_ticks\":0},\"id\":\"3145\",\"type\":\"AdaptiveTicker\"},{\"attributes\":{\"active_multi\":null,\"tools\":[{\"id\":\"2969\"},{\"id\":\"2989\"},{\"id\":\"2990\"},{\"id\":\"2991\"},{\"id\":\"2992\"},{\"id\":\"2993\"}]},\"id\":\"2995\",\"type\":\"Toolbar\"},{\"attributes\":{\"data\":{\"SourceRecordId\":[81,125,85],\"TimeGenerated\":{\"__ndarray__\":\"Iz0IUcGyd0IjPfi1erN3QiM9cGjXs3dC\",\"dtype\":\"float64\",\"order\":\"little\",\"shape\":[3]},\"baseline\":[32,46,33],\"index\":[25,79,106],\"level_0\":[0,1,2],\"residual\":[48,78,51],\"score\":{\"__ndarray__\":\"1VUW2QU0C0B+HjrFBiUWQIyGbARt6QxA\",\"dtype\":\"float64\",\"order\":\"little\",\"shape\":[3]},\"seasonal\":[17,27,19],\"trend\":[14,19,14],\"weights\":[1,1,1]},\"selected\":{\"id\":\"3086\"},\"selection_policy\":{\"id\":\"3085\"}},\"id\":\"3059\",\"type\":\"ColumnDataSource\"},{\"attributes\":{\"months\":[0,1,2,3,4,5,6,7,8,9,10,11]},\"id\":\"3151\",\"type\":\"MonthsTicker\"},{\"attributes\":{},\"id\":\"3029\",\"type\":\"UnionRenderers\"},{\"attributes\":{\"months\":[0,2,4,6,8,10]},\"id\":\"3152\",\"type\":\"MonthsTicker\"},{\"attributes\":{\"mantissas\":[1,2,5],\"max_interval\":500.0,\"num_minor_ticks\":0},\"id\":\"3144\",\"type\":\"AdaptiveTicker\"},{\"attributes\":{},\"id\":\"3030\",\"type\":\"Selection\"},{\"attributes\":{\"data\":{\"SourceRecordId\":[9,7,20,8,6,3,6,96,6,6,11,8,7,15,5,6,6,5,7,9,18,15,7,6,5,81,20,9,5,6,5,5,15,5,9,6,11,74,34,26,15,9,14,16,26,7,11,26,13,16,28,20,18,12,19,19,2,10,9,9,10,8,70,7,5,7,8,24,7,11,66,6,3,9,22,9,7,11,40,125,55,6,11,8,6,8,22,10,8,10,9,16,23,7,7,4,5,8,51,7,11,10,13,7,20,8,85,5,3,21,12,13,7,7,9,11,20,26,7,5,0,0,0,0,0,0,0,0,0,0,0,0,0,0,0,0,0,0,0,0,0,0,0,0],\"TimeGenerated\":{\"__ndarray__\":\"Iz1gfGuyd0IjPUjrbrJ3QiM9MFpysndCIz0YyXWyd0IjPQA4ebJ3QiM96KZ8sndCIz3QFYCyd0IjPbiEg7J3QiM9oPOGsndCIz2IYoqyd0IjPXDRjbJ3QiM9WECRsndCIz1Ar5Syd0IjPSgemLJ3QiM9EI2bsndCIz34+56yd0IjPeBqorJ3QiM9yNmlsndCIz2wSKmyd0IjPZi3rLJ3QiM9gCawsndCIz1olbOyd0IjPVAEt7J3QiM9OHO6sndCIz0g4r2yd0IjPQhRwbJ3QiM98L/EsndCIz3YLsiyd0IjPcCdy7J3QiM9qAzPsndCIz2Qe9Kyd0IjPXjq1bJ3QiM9YFnZsndCIz1IyNyyd0IjPTA34LJ3QiM9GKbjsndCIz0AFeeyd0IjPeiD6rJ3QiM90PLtsndCIz24YfGyd0IjPaDQ9LJ3QiM9iD/4sndCIz1wrvuyd0IjPVgd/7J3QiM9QIwCs3dCIz0o+wWzd0IjPRBqCbN3QiM9+NgMs3dCIz3gRxCzd0IjPci2E7N3QiM9sCUXs3dCIz2YlBqzd0IjPYADHrN3QiM9aHIhs3dCIz1Q4SSzd0IjPThQKLN3QiM9IL8rs3dCIz0ILi+zd0IjPfCcMrN3QiM92As2s3dCIz3Aejmzd0IjPajpPLN3QiM9kFhAs3dCIz14x0Ozd0IjPWA2R7N3QiM9SKVKs3dCIz0wFE6zd0IjPRiDUbN3QiM9APJUs3dCIz3oYFizd0IjPdDPW7N3QiM9uD5fs3dCIz2grWKzd0IjPYgcZrN3QiM9cItps3dCIz1Y+myzd0IjPUBpcLN3QiM9KNhzs3dCIz0QR3ezd0IjPfi1erN3QiM94CR+s3dCIz3Ik4Gzd0IjPbAChbN3QiM9mHGIs3dCIz2A4Iuzd0IjPWhPj7N3QiM9UL6Ss3dCIz04LZazd0IjPSCcmbN3QiM9CAuds3dCIz3weaCzd0IjPdjoo7N3QiM9wFens3dCIz2oxqqzd0IjPZA1rrN3QiM9eKSxs3dCIz1gE7Wzd0IjPUiCuLN3QiM9MPG7s3dCIz0YYL+zd0IjPQDPwrN3QiM96D3Gs3dCIz3QrMmzd0IjPbgbzbN3QiM9oIrQs3dCIz2I+dOzd0IjPXBo17N3QiM9WNfas3dCIz1ARt6zd0IjPSi14bN3QiM9ECTls3dCIz34kuizd0IjPeAB7LN3QiM9yHDvs3dCIz2w3/Kzd0IjPZhO9rN3QiM9gL35s3dCIz1oLP2zd0IjPVCbALR3QiM9OAoEtHdCIz0geQe0d0IjPQjoCrR3QiM98FYOtHdCIz3YxRG0d0IjPcA0FbR3QiM9qKMYtHdCIz2QEhy0d0IjPXiBH7R3QiM9YPAitHdCIz1IXya0d0IjPTDOKbR3QiM9GD0ttHdCIz0ArDC0d0IjPegaNLR3QiM90Ik3tHdCIz24+Dq0d0IjPaBnPrR3QiM9iNZBtHdCIz1wRUW0d0IjPVi0SLR3QiM9QCNMtHdCIz0okk+0d0IjPRABU7R3QiM9+G9WtHdC\",\"dtype\":\"float64\",\"order\":\"little\",\"shape\":[144]},\"anomalies\":[0,0,0,0,0,0,0,0,0,0,0,0,0,0,0,0,0,0,0,0,0,0,0,0,0,1,0,0,0,0,0,0,0,0,0,0,0,0,0,0,0,0,0,0,0,0,0,0,0,0,0,0,0,0,0,0,0,0,0,0,0,0,0,0,0,0,0,0,0,0,0,0,0,0,0,0,0,0,0,1,0,0,0,0,0,0,0,0,0,0,0,0,0,0,0,0,0,0,0,0,0,0,0,0,0,0,1,0,0,0,0,0,0,0,0,0,0,0,0,0,0,0,0,0,0,0,0,0,0,0,0,0,0,0,0,0,0,0,0,0,0,0,0,0],\"baseline\":[8,35,17,8,5,2,1,56,2,4,4,6,7,36,17,11,7,4,7,10,17,9,11,11,8,32,22,11,8,7,12,54,13,8,12,9,10,33,30,14,10,8,10,15,19,11,21,12,7,29,26,12,10,9,18,48,20,6,16,7,7,26,36,13,9,9,11,19,20,13,28,13,9,20,32,14,13,13,24,46,26,10,31,10,9,20,34,14,10,10,11,18,19,15,24,9,5,8,25,8,8,9,16,32,21,8,33,7,6,13,18,10,7,8,8,11,14,13,11,5,-2,-5,13,-2,0,0,1,5,6,-2,27,-3,-4,-1,-7,0,-2,-2,-1,-1,3,5,-7,-3],\"index\":[0,1,2,3,4,5,6,7,8,9,10,11,12,13,14,15,16,17,18,19,20,21,22,23,24,25,26,27,28,29,30,31,32,33,34,35,36,37,38,39,40,41,42,43,44,45,46,47,48,49,50,51,52,53,54,55,56,57,58,59,60,61,62,63,64,65,66,67,68,69,70,71,72,73,74,75,76,77,78,79,80,81,82,83,84,85,86,87,88,89,90,91,92,93,94,95,96,97,98,99,100,101,102,103,104,105,106,107,108,109,110,111,112,113,114,115,116,117,118,119,120,121,122,123,124,125,126,127,128,129,130,131,132,133,134,135,136,137,138,139,140,141,142,143],\"residual\":[0,-28,2,0,0,0,4,39,3,1,6,1,0,-21,-12,-5,-1,0,0,-1,0,5,-4,-5,-3,48,-2,-2,-3,-1,-7,-49,1,-3,-3,-3,0,40,3,11,4,0,3,0,6,-4,-10,13,5,-13,1,7,7,2,0,-29,-18,3,-7,1,2,-18,33,-6,-4,-2,-3,4,-13,-2,37,-7,-6,-11,-10,-5,-6,-2,15,78,28,-4,-20,-2,-3,-12,-12,-4,-2,0,-2,-2,3,-8,-17,-5,0,0,25,-1,2,0,-3,-25,-1,0,51,-2,-3,7,-6,2,0,-1,0,0,5,12,-4,0,2,5,-13,2,0,0,-1,-5,-6,2,-27,3,4,1,7,0,2,2,1,1,-3,-5,7,3],\"score\":{\"__ndarray__\":\"Uc5aJm42kb9KfMZw2hQAwNetdgnUEsA/Uc5aJm42kb9RzlombjaRv1HOWiZuNpG/vFrc6zom0T+vwxNX0BMGQKixl/CkL8k/GqhWiQzYqz+NXv3SC0PaPxqoVokM2Ks/Uc5aJm42kb89FVAXfjD4v+ThlSYm4Ou/bjY4JHHb1782u9hXPYe2v1HOWiZuNpG/Uc5aJm42kb82u9hXPYe2v1HOWiZuNpG/pdxsX6O01T+GtKewCE3Tv242OCRx29e/PGUuekB9zb/VVRbZBTQLQGxhDZNvYMS/bGENk29gxL88ZS56QH3Nvza72Fc9h7a/H52sBSF84L9M0SGgrAoMwBqoVokM2Ks/PGUuekB9zb88ZS56QH3NvzxlLnpAfc2/Uc5aJm42kb/t04VlnaUGQKixl/CkL8k/DPRnCouF6D+8WtzrOibRP1HOWiZuNpG/qLGX8KQvyT9RzlombjaRv41e/dILQ9o/hrSnsAhN07/8XwWzvVHnv/R1+H3zE+0/pdxsX6O01T/YIl5gWifuvxqoVokM2Ks/duCNRnTR3j924I1GdNHeP9etdgnUEsA/Uc5aJm42kb+HjDh/p6YAwM+zo8CvxfS/qLGX8KQvyT8fnawFIXzgvxqoVokM2Ks/1612CdQSwD/Ps6PAr8X0v0FiZwACqQJAV7jIl9lp3L+GtKewCE3Tv2xhDZNvYMS/PGUuekB9zb+8WtzrOibRP9giXmBaJ+6/bGENk29gxL81oy86NvAEQB+drAUhfOC/V7jIl9lp3L/woM3s8Zjpv/xfBbO9Uee/bjY4JHHb179XuMiX2Wncv2xhDZNvYMS/7nvE+C3R8D9+HjrFBiUWQCEiWnABoP8/hrSnsAhN07/D9Gv64wz3v2xhDZNvYMS/PGUuekB9zb/k4ZUmJuDrv+ThlSYm4Ou/hrSnsAhN079sYQ2Tb2DEv1HOWiZuNpG/bGENk29gxL9sYQ2Tb2DEv6ixl/CkL8k/FN50P1XD4r9Vk7+jFaLzv242OCRx29e/Uc5aJm42kb9RzlombjaRv7PArRkzNfw/NrvYVz2Htr/XrXYJ1BLAP1HOWiZuNpG/PGUuekB9zb8ll+CK5r78vza72Fc9h7a/Uc5aJm42kb+MhmwEbekMQGxhDZNvYMS/PGUuekB9zb924I1GdNHeP1e4yJfZady/1612CdQSwD9RzlombjaRvza72Fc9h7a/Uc5aJm42kb9RzlombjaRv6XcbF+jtNU/ADUwRL/M6j+GtKewCE3Tv1HOWiZuNpG/1612CdQSwD+l3Gxfo7TVP9giXmBaJ+6/1612CdQSwD9RzlombjaRv1HOWiZuNpG/NrvYVz2Htr9uNjgkcdvXv1e4yJfZady/1612CdQSwD8Z2KjEGgb/v6ixl/CkL8k/vFrc6zom0T8aqFaJDNirP3bgjUZ00d4/Uc5aJm42kb/XrXYJ1BLAP9etdgnUEsA/GqhWiQzYqz8aqFaJDNirPzxlLnpAfc2/bjY4JHHb17924I1GdNHeP6ixl/CkL8k/\",\"dtype\":\"float64\",\"order\":\"little\",\"shape\":[144]},\"seasonal\":[-2,24,6,-2,-6,-8,-10,44,-9,-7,-8,-6,-5,23,4,-1,-5,-8,-5,-3,4,-3,-2,-1,-6,17,7,-3,-6,-8,-3,38,-3,-8,-4,-7,-6,15,13,-3,-7,-8,-6,-1,2,-5,4,-4,-9,12,9,-4,-6,-7,2,32,4,-9,0,-9,-8,10,19,-3,-8,-8,-7,0,1,-5,8,-6,-10,0,12,-5,-6,-6,4,27,7,-8,12,-8,-8,2,16,-3,-7,-6,-5,1,2,-1,8,-6,-10,-7,10,-6,-5,-5,2,18,6,-6,19,-6,-6,0,5,-1,-3,-2,-1,1,5,4,3,-2,-9,-12,8,-7,-5,-4,-1,3,4,-3,26,-3,-4,0,-5,1,0,1,2,2,8,10,-1,3],\"trend\":[10,11,11,11,11,11,11,11,12,12,12,12,12,12,13,13,13,13,13,13,13,13,13,13,14,14,14,15,15,15,16,16,16,16,17,17,17,17,17,17,17,17,17,17,17,17,17,17,17,17,17,17,17,16,16,16,16,16,16,16,16,16,17,17,17,18,18,18,19,19,19,19,20,20,20,20,20,19,19,19,19,19,19,18,18,18,18,18,17,17,17,17,16,16,16,15,15,15,14,14,14,14,14,14,14,14,14,13,13,13,12,12,11,11,10,10,9,8,8,7,6,6,5,5,4,3,3,2,2,1,0,0,0,0,-1,-2,-2,-3,-3,-4,-5,-5,-6,-6],\"weights\":[1,1,1,1,1,1,1,1,1,1,1,1,1,1,1,1,1,1,1,1,1,1,1,1,1,1,1,1,1,1,1,1,1,1,1,1,1,1,1,1,1,1,1,1,1,1,1,1,1,1,1,1,1,1,1,1,1,1,1,1,1,1,1,1,1,1,1,1,1,1,1,1,1,1,1,1,1,1,1,1,1,1,1,1,1,1,1,1,1,1,1,1,1,1,1,1,1,1,1,1,1,1,1,1,1,1,1,1,1,1,1,1,1,1,1,1,1,1,1,1,1,1,1,1,1,1,1,1,1,1,1,1,1,1,1,1,1,1,1,1,1,1,1,1]},\"selected\":{\"id\":\"3158\"},\"selection_policy\":{\"id\":\"3157\"}},\"id\":\"3107\",\"type\":\"ColumnDataSource\"},{\"attributes\":{\"source\":{\"id\":\"3059\"}},\"id\":\"3064\",\"type\":\"CDSView\"},{\"attributes\":{},\"id\":\"3155\",\"type\":\"YearsTicker\"},{\"attributes\":{\"fill_alpha\":{\"value\":0.2},\"fill_color\":{\"value\":\"firebrick\"},\"line_color\":{\"value\":\"firebrick\"},\"marker\":{\"value\":\"circle_x\"},\"size\":{\"value\":12},\"x\":{\"field\":\"TimeGenerated\"},\"y\":{\"field\":\"SourceRecordId\"}},\"id\":\"3061\",\"type\":\"Scatter\"},{\"attributes\":{\"label\":{\"value\":\"anomalies\"},\"renderers\":[{\"id\":\"3063\"}]},\"id\":\"3087\",\"type\":\"LegendItem\"},{\"attributes\":{\"data_source\":{\"id\":\"3059\"},\"glyph\":{\"id\":\"3061\"},\"hover_glyph\":null,\"muted_glyph\":null,\"nonselection_glyph\":{\"id\":\"3062\"},\"view\":{\"id\":\"3064\"}},\"id\":\"3063\",\"type\":\"GlyphRenderer\"},{\"attributes\":{\"bottom_units\":\"screen\",\"fill_alpha\":0.5,\"fill_color\":\"lightgrey\",\"left_units\":\"screen\",\"level\":\"overlay\",\"line_alpha\":1.0,\"line_color\":\"black\",\"line_dash\":[4,4],\"line_width\":2,\"right_units\":\"screen\",\"syncable\":false,\"top_units\":\"screen\"},\"id\":\"2994\",\"type\":\"BoxAnnotation\"},{\"attributes\":{\"fill_alpha\":{\"value\":0.1},\"fill_color\":{\"value\":\"firebrick\"},\"line_alpha\":{\"value\":0.1},\"line_color\":{\"value\":\"firebrick\"},\"marker\":{\"value\":\"circle_x\"},\"size\":{\"value\":12},\"x\":{\"field\":\"TimeGenerated\"},\"y\":{\"field\":\"SourceRecordId\"}},\"id\":\"3062\",\"type\":\"Scatter\"},{\"attributes\":{\"days\":[1,15]},\"id\":\"3022\",\"type\":\"DaysTicker\"},{\"attributes\":{},\"id\":\"3027\",\"type\":\"YearsTicker\"},{\"attributes\":{\"below\":[{\"id\":\"2981\"}],\"center\":[{\"id\":\"2984\"},{\"id\":\"2988\"},{\"id\":\"3031\"}],\"height\":300,\"left\":[{\"id\":\"2985\"}],\"min_border_left\":50,\"renderers\":[{\"id\":\"3009\"},{\"id\":\"3036\"},{\"id\":\"3063\"}],\"title\":{\"id\":\"2971\"},\"toolbar\":{\"id\":\"2995\"},\"toolbar_location\":\"above\",\"width\":1200,\"x_range\":{\"id\":\"2973\"},\"x_scale\":{\"id\":\"2977\"},\"y_range\":{\"id\":\"2975\"},\"y_scale\":{\"id\":\"2979\"}},\"id\":\"2970\",\"subtype\":\"Figure\",\"type\":\"Plot\"},{\"attributes\":{\"end\":1628982723171.821,\"start\":1628416443171.821},\"id\":\"2973\",\"type\":\"Range1d\"},{\"attributes\":{\"format\":\"00\"},\"id\":\"3004\",\"type\":\"NumeralTickFormatter\"},{\"attributes\":{},\"id\":\"2977\",\"type\":\"LinearScale\"},{\"attributes\":{},\"id\":\"2975\",\"type\":\"DataRange1d\"},{\"attributes\":{\"axis_label\":\"TimeGenerated\",\"formatter\":{\"id\":\"3002\"},\"major_label_policy\":{\"id\":\"3013\"},\"ticker\":{\"id\":\"2982\"}},\"id\":\"2981\",\"type\":\"DatetimeAxis\"},{\"attributes\":{\"text\":\"Time Series Anomalies Visualization\"},\"id\":\"2971\",\"type\":\"Title\"},{\"attributes\":{\"days\":[\"%m-%d %H:%M\"],\"hours\":[\"%H:%M:%S\"],\"milliseconds\":[\"%H:%M:%S.%3N\"],\"minutes\":[\"%H:%M:%S\"],\"seconds\":[\"%H:%M:%S\"]},\"id\":\"3002\",\"type\":\"DatetimeTickFormatter\"},{\"attributes\":{},\"id\":\"3126\",\"type\":\"AllLabels\"},{\"attributes\":{\"fill_color\":{\"value\":\"blue\"},\"line_color\":{\"value\":\"blue\"},\"x\":{\"field\":\"TimeGenerated\"},\"y\":{\"field\":\"score\"}},\"id\":\"3109\",\"type\":\"Circle\"},{\"attributes\":{\"fill_alpha\":{\"value\":0.1},\"fill_color\":{\"value\":\"blue\"},\"line_alpha\":{\"value\":0.1},\"line_color\":{\"value\":\"blue\"},\"x\":{\"field\":\"TimeGenerated\"},\"y\":{\"field\":\"score\"}},\"id\":\"3110\",\"type\":\"Circle\"},{\"attributes\":{},\"id\":\"2979\",\"type\":\"LinearScale\"}],\"root_ids\":[\"3118\"]},\"title\":\"Bokeh Application\",\"version\":\"2.3.3\"}};\n",
       "  var render_items = [{\"docid\":\"caf52ff5-9853-476e-9cdc-1d5b377f1d63\",\"root_ids\":[\"3118\"],\"roots\":{\"3118\":\"b3f11895-afbf-43e5-a56e-3b4ae069be92\"}}];\n",
       "  root.Bokeh.embed.embed_items_notebook(docs_json, render_items);\n",
       "\n",
       "  }\n",
       "  if (root.Bokeh !== undefined) {\n",
       "    embed_document(root);\n",
       "  } else {\n",
       "    var attempts = 0;\n",
       "    var timer = setInterval(function(root) {\n",
       "      if (root.Bokeh !== undefined) {\n",
       "        clearInterval(timer);\n",
       "        embed_document(root);\n",
       "      } else {\n",
       "        attempts++;\n",
       "        if (attempts > 100) {\n",
       "          clearInterval(timer);\n",
       "          console.log(\"Bokeh: ERROR: Unable to run BokehJS code because BokehJS library is missing\");\n",
       "        }\n",
       "      }\n",
       "    }, 10, root)\n",
       "  }\n",
       "})(window);"
      ],
      "application/vnd.bokehjs_exec.v0+json": ""
     },
     "metadata": {
      "application/vnd.bokehjs_exec.v0+json": {
       "id": "3118"
      }
     },
     "output_type": "display_data"
    }
   ],
   "source": [
    "from msticpy.nbtools.timeseries import display_timeseries_anomolies\n",
    "\n",
    "try:\n",
    "    anomalous_features = tuple(anomalyDf.loc[anomalyDf[timestamp_col] == timestamp_dropdown.value]['Anomalous Features'])[0]\n",
    "    for feature in anomalous_features:\n",
    "        print(f\"\\nTime Series for {feature}\\n\")\n",
    "        display_timeseries_anomolies(data=featureDict[feature], y=feature)\n",
    "except NameError:\n",
    "    print(\"Anomaly Dataframe not instantiated yet.\")"
   ]
  }
 ],
 "metadata": {
  "kernelspec": {
   "display_name": "Python 3 (ipykernel)",
   "language": "python",
   "name": "python3"
  },
  "language_info": {
   "codemirror_mode": {
    "name": "ipython",
    "version": 3
   },
   "file_extension": ".py",
   "mimetype": "text/x-python",
   "name": "python",
   "nbconvert_exporter": "python",
   "pygments_lexer": "ipython3",
   "version": "3.9.5"
  }
 },
 "nbformat": 4,
 "nbformat_minor": 5
}
