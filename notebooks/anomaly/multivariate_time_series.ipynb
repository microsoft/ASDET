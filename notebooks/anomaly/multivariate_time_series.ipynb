{
 "cells": [
  {
   "cell_type": "markdown",
   "id": "13ba3c54-c350-4eb6-9161-2a35c039b28c",
   "metadata": {},
   "source": [
    "## Generate MSTICpy Config"
   ]
  },
  {
   "cell_type": "code",
   "execution_count": 1,
   "id": "4d9ad6e7-c493-48c0-a6fb-28e358298b83",
   "metadata": {},
   "outputs": [],
   "source": [
    "# Only generate config if Teams\n",
    "# %%writefile msticpyconfig.yaml\n",
    "# AzureSentinel:\n",
    "#   Workspaces:\n",
    "#     ASIHuntOMSWorkspaceV4:\n",
    "#       TenantId: 72f988bf-86f1-41af-91ab-2d7cd011db47\n",
    "#       WorkspaceId: 52b1ab41-869e-4138-9e40-2a4457f09bf0\n",
    "#     CyberSecuritySoc:\n",
    "#       TenantId: 72f988bf-86f1-41af-91ab-2d7cd011db47\n",
    "#       WorkspaceId: 8ecf8077-cf51-4820-aadd-14040956f35d\n",
    "#     Default:\n",
    "#       TenantId: 72f988bf-86f1-41af-91ab-2d7cd011db47\n",
    "#       WorkspaceId: 8ecf8077-cf51-4820-aadd-14040956f35d"
   ]
  },
  {
   "cell_type": "markdown",
   "id": "161cd0cd-4b64-49c9-a4cd-31f19c8c651b",
   "metadata": {},
   "source": [
    "## Core MSTICPy initialization for Notebooks"
   ]
  },
  {
   "cell_type": "code",
   "execution_count": 2,
   "id": "d8ee129c-2c58-4c17-a6bd-bf9dc9d286ab",
   "metadata": {
    "tags": []
   },
   "outputs": [
    {
     "data": {
      "text/html": [
       "<hr><h4>Starting Notebook initialization...</h4>"
      ],
      "text/plain": [
       "<IPython.core.display.HTML object>"
      ]
     },
     "metadata": {},
     "output_type": "display_data"
    },
    {
     "data": {
      "text/html": [
       "msticpy version installed: 1.2.3 latest published: 1.3.0<br>A newer version of msticpy - 1.3.0 is available.<br>Upgrade with pip install --upgrade msticpy<br> <br>"
      ],
      "text/plain": [
       "<IPython.core.display.HTML object>"
      ]
     },
     "metadata": {},
     "output_type": "display_data"
    },
    {
     "data": {
      "text/html": [
       "Processing imports.... <br>"
      ],
      "text/plain": [
       "<IPython.core.display.HTML object>"
      ]
     },
     "metadata": {},
     "output_type": "display_data"
    },
    {
     "data": {
      "text/html": [
       "Imported: pd (pandas), IPython.get_ipython, IPython.display.display, IPython.display.HTML, IPython.display.Markdown, widgets (ipywidgets), pathlib.Path, plt (matplotlib.pyplot), matplotlib.MatplotlibDeprecationWarning, np (numpy), msticpy.data.QueryProvider, msticpy.nbtools.foliummap.FoliumMap, msticpy.common.utility.md, msticpy.common.utility.md_warn, msticpy.common.wsconfig.WorkspaceConfig, msticpy.datamodel.pivot.Pivot, msticpy.datamodel.entities <br>"
      ],
      "text/plain": [
       "<IPython.core.display.HTML object>"
      ]
     },
     "metadata": {},
     "output_type": "display_data"
    },
    {
     "data": {
      "text/html": [
       "Checking configuration.... <br>"
      ],
      "text/plain": [
       "<IPython.core.display.HTML object>"
      ]
     },
     "metadata": {},
     "output_type": "display_data"
    },
    {
     "data": {
      "text/html": [
       "Setting notebook options.... <br>"
      ],
      "text/plain": [
       "<IPython.core.display.HTML object>"
      ]
     },
     "metadata": {},
     "output_type": "display_data"
    },
    {
     "data": {
      "text/html": [
       " <br>"
      ],
      "text/plain": [
       "<IPython.core.display.HTML object>"
      ]
     },
     "metadata": {},
     "output_type": "display_data"
    },
    {
     "data": {
      "text/html": [
       "<h4>Notebook initialization complete</h4>"
      ],
      "text/plain": [
       "<IPython.core.display.HTML object>"
      ]
     },
     "metadata": {},
     "output_type": "display_data"
    },
    {
     "name": "stdout",
     "output_type": "stream",
     "text": [
      "Please wait. Loading Kqlmagic extension...\n"
     ]
    },
    {
     "data": {
      "application/javascript": [
       "try {IPython.notebook.kernel.reconnect();} catch(err) {;}"
      ],
      "text/plain": [
       "<IPython.core.display.Javascript object>"
      ]
     },
     "metadata": {},
     "output_type": "display_data"
    },
    {
     "data": {
      "application/javascript": [
       "try {IPython.notebook.kernel.execute(\"NOTEBOOK_URL = '\" + window.location + \"'\");} catch(err) {;}"
      ],
      "text/plain": [
       "<IPython.core.display.Javascript object>"
      ]
     },
     "metadata": {},
     "output_type": "display_data"
    }
   ],
   "source": [
    "from msticpy.nbtools import nbinit\n",
    "nbinit.init_notebook(namespace=globals())\n",
    "qry_prov = QueryProvider(\"AzureSentinel\")"
   ]
  },
  {
   "cell_type": "code",
   "execution_count": 4,
   "id": "f19dc39b-aed2-4ec7-82ca-b6ee359fee97",
   "metadata": {},
   "outputs": [
    {
     "data": {
      "application/javascript": [
       "try {IPython.notebook.kernel.execute(\"NOTEBOOK_URL = '\" + window.location + \"'\");} catch(err) {;}"
      ],
      "text/plain": [
       "<IPython.core.display.Javascript object>"
      ]
     },
     "metadata": {},
     "output_type": "display_data"
    },
    {
     "data": {
      "text/html": [
       "<!DOCTYPE html>\n",
       "                            <html><body>\n",
       "\n",
       "                            <!-- h1 id=\"user_code_p\"><b>RQ7RXSPWZ</b><br></h1-->\n",
       "\n",
       "                            <input  id=\"kql_MagicCodeAuthInput\" type=\"text\" readonly style=\"font-weight: bold; border: none;\" size='9' value='RQ7RXSPWZ'>\n",
       "\n",
       "                            <button id='kql_MagicCodeAuth_button', onclick=\"this.style.visibility='hidden';kql_MagicCodeAuthFunction()\">Copy code to clipboard and authenticate</button>\n",
       "\n",
       "                            <script>\n",
       "                            var kql_MagicUserCodeAuthWindow = null;\n",
       "                            function kql_MagicCodeAuthFunction() {\n",
       "                                /* Get the text field */\n",
       "                                var copyText = document.getElementById(\"kql_MagicCodeAuthInput\");\n",
       "\n",
       "                                /* Select the text field */\n",
       "                                copyText.select();\n",
       "\n",
       "                                /* Copy the text inside the text field */\n",
       "                                document.execCommand(\"copy\");\n",
       "\n",
       "                                /* Alert the copied text */\n",
       "                                // alert(\"Copied the text: \" + copyText.value);\n",
       "\n",
       "                                var w = screen.width / 2;\n",
       "                                var h = screen.height / 2;\n",
       "                                params = 'width='+w+',height='+h\n",
       "                                kql_MagicUserCodeAuthWindow = window.open('https://microsoft.com/devicelogin', 'kql_MagicUserCodeAuthWindow', params);\n",
       "\n",
       "                                // TODO: save selected cell index, so that the clear will be done on the lince cell\n",
       "                            }\n",
       "                            </script>\n",
       "\n",
       "                            </body></html>"
      ],
      "text/plain": [
       "<IPython.core.display.HTML object>"
      ]
     },
     "metadata": {},
     "output_type": "display_data"
    },
    {
     "data": {
      "text/html": [
       "<!DOCTYPE html>\n",
       "                            <html><body><script>\n",
       "\n",
       "                                // close authentication window\n",
       "                                if (kql_MagicUserCodeAuthWindow && kql_MagicUserCodeAuthWindow.opener != null && !kql_MagicUserCodeAuthWindow.closed) {\n",
       "                                    kql_MagicUserCodeAuthWindow.close()\n",
       "                                }\n",
       "                                // TODO: make sure, you clear the right cell. BTW, not sure it is a must to do any clearing\n",
       "\n",
       "                                // clear output cell\n",
       "                                Jupyter.notebook.clear_output(Jupyter.notebook.get_selected_index())\n",
       "\n",
       "                                // TODO: if in run all mode, move to last cell, otherwise move to next cell\n",
       "                                // move to next cell\n",
       "\n",
       "                            </script></body></html>"
      ],
      "text/plain": [
       "<IPython.core.display.HTML object>"
      ]
     },
     "metadata": {},
     "output_type": "display_data"
    },
    {
     "data": {
      "text/html": [
       "<!DOCTYPE html>\n",
       "            <html><body>\n",
       "            <div style=''>\n",
       "            \n",
       "            <button onclick=\"this.style.visibility='visible';\n",
       "            kql_MagicLaunchWindowFunction('kqlmagic/temp_files/f5d10920-691f-4727-b9d2-e9c611139c88/_8ecf8077-cf51-4820-aadd-14040956f35d_at_loganalytics_schema.html', 'fullscreen=no,directories=no,location=no,menubar=no,resizable=yes,scrollbars=yes,status=no,titlebar=no,toolbar=no,', '_8ecf8077_cf51_4820_aadd_14040956f35d_at_loganalytics_schema', '');\n",
       "            kql_MagicCloseWindow(kql_Magic__8ecf8077_cf51_4820_aadd_14040956f35d_at_loganalytics_schema, -1, -1);\">\n",
       "            popup schema 8ecf8077-cf51-4820-aadd-14040956f35d@loganalytics</button>\n",
       "            </div>\n",
       "\n",
       "            <script>\n",
       "            var kql_Magic__8ecf8077_cf51_4820_aadd_14040956f35d_at_loganalytics_schema = null;\n",
       "\n",
       "\n",
       "            function kql_MagicCloseWindow(window_obj, obj_secs, itself_secs) {\n",
       "                if (obj_secs >= 0) {\n",
       "                    _timeout = setTimeout(function(){\n",
       "                        window_obj.close();\n",
       "                        if (itself_secs >= 0) {\n",
       "                            __timeout = setTimeout(function(){window.close();}, itself_secs * 1000);\n",
       "                        }\n",
       "                    }, obj_secs * 1000);\n",
       "                } else if (itself_secs >= 0) {\n",
       "                    _timeout = setTimeout(function(){window.close();}, itself_secs * 1000);\n",
       "                }\n",
       "            }\n",
       "\n",
       "            function kql_MagicLaunchWindowFunction(file_path_or_data, window_params, window_name, host_or_text) {\n",
       "                var url;\n",
       "                const baseURI = String(window.location);\n",
       "                if (host_or_text == 'text' || host_or_text == 'body') {\n",
       "                    url = ''\n",
       "                } else if (file_path_or_data.startsWith('http')) {\n",
       "                    url = file_path_or_data;\n",
       "                } else if (host_or_text.endsWith('.azureml.ms') || host_or_text.endsWith('.azureml.net')) {\n",
       "                    let azuremlBaseURI = String(window.document.baseURI);\n",
       "                    let start = azuremlBaseURI.search('activeFilePath=');\n",
       "                    if (start > 0) {\n",
       "                        start += 'activeFilePath='.length;\n",
       "                        let end = azuremlBaseURI.substring(start).search('&');\n",
       "                        if (end < 0) {\n",
       "                            end = undefined;\n",
       "                        }\n",
       "                        let parts = azuremlBaseURI.substring(start, end).split('/');\n",
       "                        parts.pop();\n",
       "                        url = host_or_text + '/tree/' + parts.join('/') + '/' + file_path_or_data;\n",
       "                    } else {\n",
       "                        var parts = baseURI.split('/');\n",
       "                        parts.pop();\n",
       "                        url = parts.join('/') + '/' + file_path_or_data;\n",
       "                    }\n",
       "                } else {\n",
       "                    var base_url = '';\n",
       "\n",
       "                    // check if azure notebook\n",
       "                    var azure_host = (host_or_text == null || host_or_text.length == 0) ? 'https://notebooks.azure.com' : host_or_text;\n",
       "                    var start = azure_host.search('//');\n",
       "                    var azure_host_suffix = '.' + azure_host.substring(start+2);\n",
       "\n",
       "                    var end = baseURI.search(azure_host_suffix);\n",
       "                    start = baseURI.search('//');\n",
       "                    if (start > 0 && end > 0) {\n",
       "                        // # azure notebook environment, assume template: https://library-user.notebooks.azure.com\n",
       "                        var parts = baseURI.substring(start+2, end).split('-');\n",
       "                        if (parts.length == 2) {\n",
       "                            var library = parts[0];\n",
       "                            var user = parts[1];\n",
       "                            base_url = azure_host + '/api/user/' +user+ '/library/' +library+ '/html/';\n",
       "                        }\n",
       "                    }\n",
       "\n",
       "                    // check if local jupyter lab\n",
       "                    if (base_url.length == 0) {\n",
       "                        var configDataScipt  = document.getElementById('jupyter-config-data');\n",
       "                        if (configDataScipt != null) {\n",
       "                            var jupyterConfigData = JSON.parse(configDataScipt.textContent);\n",
       "                            if (jupyterConfigData['appName'] == 'JupyterLab' && jupyterConfigData['serverRoot'] != null &&  jupyterConfigData['treeUrl'] != null) {\n",
       "                                var basePath = 'C:/Users/t-znguyen/Desktop/mstic-dataexpl/notebooks/anomaly' + '/';\n",
       "                                if (basePath.startsWith(jupyterConfigData['serverRoot'])) {\n",
       "                                    base_url = '/files/' + basePath.substring(jupyterConfigData['serverRoot'].length+1);\n",
       "                                }\n",
       "                            }\n",
       "                        }\n",
       "                    }\n",
       "\n",
       "                    // works for local jupyter notebook\n",
       "                    if (base_url.length == 0) {\n",
       "\n",
       "                        var parts = baseURI.split('/');\n",
       "                        parts.pop(); // remove notebook name segment\n",
       "                        base_url = parts.join('/') + '/';\n",
       "                    }\n",
       "                    url = base_url + file_path_or_data;\n",
       "                }\n",
       "\n",
       "                window.focus();\n",
       "                var w = screen.width / 2;\n",
       "                var h = screen.height / 2;\n",
       "                params = 'width='+w+',height='+h;\n",
       "                // kql_Magic + window_name should be a global variable \n",
       "                window_obj = window.open(url, window_name, window_params + params);\n",
       "                if (url == '') {\n",
       "                    let decodedData = atob(file_path_or_data);\n",
       "                    if (host_or_text == 'text') {\n",
       "                        var el = window_obj.document.createElement('p');\n",
       "                        window_obj.document.body.overflow = 'auto';\n",
       "                        el.style.top = 0;\n",
       "                        el.style.left = 0;\n",
       "                        el.innerHTML = decodedData;\n",
       "                        window_obj.document.body.appendChild(el);\n",
       "                    } else {\n",
       "                        window_obj.document.body.innerHTML = decodedData;\n",
       "                    }\n",
       "                }\n",
       "                kql_Magic__8ecf8077_cf51_4820_aadd_14040956f35d_at_loganalytics_schema = window_obj;\n",
       "            }\n",
       "            </script>\n",
       "\n",
       "            </body></html>"
      ],
      "text/plain": [
       "<IPython.core.display.HTML object>"
      ]
     },
     "metadata": {},
     "output_type": "display_data"
    },
    {
     "data": {
      "application/javascript": [
       "try {IPython.notebook.kernel.execute(\"NOTEBOOK_URL = '\" + window.location + \"'\");} catch(err) {;}"
      ],
      "text/plain": [
       "<IPython.core.display.Javascript object>"
      ]
     },
     "metadata": {},
     "output_type": "display_data"
    }
   ],
   "source": [
    "qry_prov.connect(WorkspaceConfig())\n",
    "tables = qry_prov.schema_tables"
   ]
  },
  {
   "cell_type": "markdown",
   "id": "b4557d29-66b3-4d90-9e51-47e72a1be369",
   "metadata": {},
   "source": [
    "## Choose A Table To Analzye"
   ]
  },
  {
   "cell_type": "code",
   "execution_count": 5,
   "id": "c663b4e4-415a-48ca-b736-6058c7e8f653",
   "metadata": {},
   "outputs": [
    {
     "name": "stdout",
     "output_type": "stream",
     "text": [
      "\n",
      "Please select a table to analyze.\n",
      "\n"
     ]
    },
    {
     "data": {
      "application/vnd.jupyter.widget-view+json": {
       "model_id": "f3f0190a9c9d4bc1b9168b1a9ec97505",
       "version_major": 2,
       "version_minor": 0
      },
      "text/plain": [
       "Dropdown(description='Table:', index=231, options=('AACAudit', 'AACHttpRequest', 'AADDomainServicesAccountLogo…"
      ]
     },
     "metadata": {},
     "output_type": "display_data"
    }
   ],
   "source": [
    "import ipywidgets as widgets\n",
    "from IPython.display import display\n",
    "\n",
    "print('\\nPlease select a table to analyze.\\n')\n",
    "tableDropdown = widgets.Dropdown(\n",
    "    options=sorted(tables),\n",
    "    value=sorted(tables)[0],\n",
    "    description='Table:',\n",
    ")\n",
    "display(tableDropdown)"
   ]
  },
  {
   "cell_type": "markdown",
   "id": "ad58ef0a-9ec8-4f06-b73e-34c1763e36dc",
   "metadata": {},
   "source": [
    "## Choose a Feature(s) and Timeframe to Analyze"
   ]
  },
  {
   "cell_type": "code",
   "execution_count": 6,
   "id": "f7c01c82-9754-4a4b-929e-592b6d9b3d37",
   "metadata": {},
   "outputs": [
    {
     "data": {
      "application/javascript": [
       "try {IPython.notebook.kernel.execute(\"NOTEBOOK_URL = '\" + window.location + \"'\");} catch(err) {;}"
      ],
      "text/plain": [
       "<IPython.core.display.Javascript object>"
      ]
     },
     "metadata": {},
     "output_type": "display_data"
    },
    {
     "name": "stdout",
     "output_type": "stream",
     "text": [
      "\n",
      "What kind of features/columns would you like to see be analyzed?\n",
      "\n"
     ]
    },
    {
     "data": {
      "application/vnd.jupyter.widget-view+json": {
       "model_id": "fdd7e6c8bdde412898f0851422d0c3ee",
       "version_major": 2,
       "version_minor": 0
      },
      "text/plain": [
       "VBox(children=(Text(value='', description='Filter:', style=DescriptionStyle(description_width='initial')), HBo…"
      ]
     },
     "metadata": {},
     "output_type": "display_data"
    },
    {
     "name": "stdout",
     "output_type": "stream",
     "text": [
      "\n",
      "\n",
      "What time frame do you want to analyze?\n",
      "\n"
     ]
    },
    {
     "data": {
      "application/vnd.jupyter.widget-view+json": {
       "model_id": "c3acba06c48840648240dc3dcd12c072",
       "version_major": 2,
       "version_minor": 0
      },
      "text/plain": [
       "VBox(children=(HTML(value='<h4>Set query time boundaries</h4>'), HBox(children=(DatePicker(value=datetime.date…"
      ]
     },
     "metadata": {},
     "output_type": "display_data"
    }
   ],
   "source": [
    "df = qry_prov.exec_query(f'{tableDropdown.value} | take 1')\n",
    "timestamp_col = 'TimeGenerated'\n",
    "\n",
    "if df.empty:\n",
    "    print(\"Table is empty, please select another table.\")\n",
    "else:\n",
    "    print (\"\\nWhat kind of features/columns would you like to see be analyzed?\\n\")\n",
    "    options = sorted(list(df))\n",
    "    options.remove(timestamp_col)\n",
    "    try:\n",
    "        options.remove('Type')\n",
    "    except TypeError:\n",
    "        print('Type does not exist')\n",
    "    selected_features = nbwidgets.SelectSubset(source_items=options)\n",
    "    print('\\n\\nWhat time frame do you want to analyze?\\n')\n",
    "    timeFrame = nbwidgets.QueryTime(units='day', max_before=20, before=5, max_after=1)\n",
    "    timeFrame.display()"
   ]
  },
  {
   "cell_type": "markdown",
   "id": "90c2522f-1bb6-44c5-80ae-bd89af4a981d",
   "metadata": {},
   "source": [
    "## Generate Timeseries Anomalies"
   ]
  },
  {
   "cell_type": "code",
   "execution_count": 40,
   "id": "8ae0ac28-77e9-4b2b-92c0-5db0cd364b24",
   "metadata": {},
   "outputs": [],
   "source": [
    "def mapAnomalousColors(cells):\n",
    "    if cells.name in anomalousFeatures:\n",
    "        return ['background-color: #ffcccb' for i in range(len(cells))]\n",
    "    return ['background-color: #90EE90' for i in range(len(cells))]"
   ]
  },
  {
   "cell_type": "code",
   "execution_count": 41,
   "id": "71afc151-4e73-43e8-b56d-5ca4ce03b2b4",
   "metadata": {
    "collapsed": true,
    "jupyter": {
     "outputs_hidden": true
    },
    "tags": []
   },
   "outputs": [
    {
     "data": {
      "application/javascript": [
       "try {IPython.notebook.kernel.execute(\"NOTEBOOK_URL = '\" + window.location + \"'\");} catch(err) {;}"
      ],
      "text/plain": [
       "<IPython.core.display.Javascript object>"
      ]
     },
     "metadata": {},
     "output_type": "display_data"
    },
    {
     "name": "stdout",
     "output_type": "stream",
     "text": [
      "Timeseries for AADGroupId generated\n"
     ]
    },
    {
     "data": {
      "application/javascript": [
       "try {IPython.notebook.kernel.execute(\"NOTEBOOK_URL = '\" + window.location + \"'\");} catch(err) {;}"
      ],
      "text/plain": [
       "<IPython.core.display.Javascript object>"
      ]
     },
     "metadata": {},
     "output_type": "display_data"
    },
    {
     "name": "stdout",
     "output_type": "stream",
     "text": [
      "Timeseries for AADTarget generated\n"
     ]
    },
    {
     "data": {
      "application/javascript": [
       "try {IPython.notebook.kernel.execute(\"NOTEBOOK_URL = '\" + window.location + \"'\");} catch(err) {;}"
      ],
      "text/plain": [
       "<IPython.core.display.Javascript object>"
      ]
     },
     "metadata": {},
     "output_type": "display_data"
    },
    {
     "name": "stdout",
     "output_type": "stream",
     "text": [
      "Timeseries for Actor generated\n"
     ]
    },
    {
     "data": {
      "application/javascript": [
       "try {IPython.notebook.kernel.execute(\"NOTEBOOK_URL = '\" + window.location + \"'\");} catch(err) {;}"
      ],
      "text/plain": [
       "<IPython.core.display.Javascript object>"
      ]
     },
     "metadata": {},
     "output_type": "display_data"
    },
    {
     "name": "stdout",
     "output_type": "stream",
     "text": [
      "Timeseries for ActorContextId generated\n"
     ]
    },
    {
     "data": {
      "application/javascript": [
       "try {IPython.notebook.kernel.execute(\"NOTEBOOK_URL = '\" + window.location + \"'\");} catch(err) {;}"
      ],
      "text/plain": [
       "<IPython.core.display.Javascript object>"
      ]
     },
     "metadata": {},
     "output_type": "display_data"
    },
    {
     "name": "stdout",
     "output_type": "stream",
     "text": [
      "Timeseries for ActorIpAddress generated\n"
     ]
    },
    {
     "data": {
      "application/javascript": [
       "try {IPython.notebook.kernel.execute(\"NOTEBOOK_URL = '\" + window.location + \"'\");} catch(err) {;}"
      ],
      "text/plain": [
       "<IPython.core.display.Javascript object>"
      ]
     },
     "metadata": {},
     "output_type": "display_data"
    },
    {
     "name": "stdout",
     "output_type": "stream",
     "text": [
      "Timeseries for AddOnGuid generated\n"
     ]
    },
    {
     "data": {
      "application/javascript": [
       "try {IPython.notebook.kernel.execute(\"NOTEBOOK_URL = '\" + window.location + \"'\");} catch(err) {;}"
      ],
      "text/plain": [
       "<IPython.core.display.Javascript object>"
      ]
     },
     "metadata": {},
     "output_type": "display_data"
    },
    {
     "name": "stdout",
     "output_type": "stream",
     "text": [
      "Timeseries for AddOnType generated\n"
     ]
    },
    {
     "data": {
      "application/javascript": [
       "try {IPython.notebook.kernel.execute(\"NOTEBOOK_URL = '\" + window.location + \"'\");} catch(err) {;}"
      ],
      "text/plain": [
       "<IPython.core.display.Javascript object>"
      ]
     },
     "metadata": {},
     "output_type": "display_data"
    },
    {
     "name": "stdout",
     "output_type": "stream",
     "text": [
      "Timeseries for AddonName generated\n"
     ]
    },
    {
     "data": {
      "application/javascript": [
       "try {IPython.notebook.kernel.execute(\"NOTEBOOK_URL = '\" + window.location + \"'\");} catch(err) {;}"
      ],
      "text/plain": [
       "<IPython.core.display.Javascript object>"
      ]
     },
     "metadata": {},
     "output_type": "display_data"
    },
    {
     "name": "stdout",
     "output_type": "stream",
     "text": [
      "Timeseries for AffectedItems generated\n"
     ]
    },
    {
     "data": {
      "application/javascript": [
       "try {IPython.notebook.kernel.execute(\"NOTEBOOK_URL = '\" + window.location + \"'\");} catch(err) {;}"
      ],
      "text/plain": [
       "<IPython.core.display.Javascript object>"
      ]
     },
     "metadata": {},
     "output_type": "display_data"
    },
    {
     "name": "stdout",
     "output_type": "stream",
     "text": [
      "Timeseries for AppDistributionMode generated\n"
     ]
    },
    {
     "data": {
      "application/javascript": [
       "try {IPython.notebook.kernel.execute(\"NOTEBOOK_URL = '\" + window.location + \"'\");} catch(err) {;}"
      ],
      "text/plain": [
       "<IPython.core.display.Javascript object>"
      ]
     },
     "metadata": {},
     "output_type": "display_data"
    },
    {
     "name": "stdout",
     "output_type": "stream",
     "text": [
      "Timeseries for AppId generated\n"
     ]
    },
    {
     "data": {
      "application/javascript": [
       "try {IPython.notebook.kernel.execute(\"NOTEBOOK_URL = '\" + window.location + \"'\");} catch(err) {;}"
      ],
      "text/plain": [
       "<IPython.core.display.Javascript object>"
      ]
     },
     "metadata": {},
     "output_type": "display_data"
    },
    {
     "name": "stdout",
     "output_type": "stream",
     "text": [
      "Timeseries for Application generated\n"
     ]
    },
    {
     "data": {
      "application/javascript": [
       "try {IPython.notebook.kernel.execute(\"NOTEBOOK_URL = '\" + window.location + \"'\");} catch(err) {;}"
      ],
      "text/plain": [
       "<IPython.core.display.Javascript object>"
      ]
     },
     "metadata": {},
     "output_type": "display_data"
    },
    {
     "name": "stdout",
     "output_type": "stream",
     "text": [
      "Timeseries for AzureADAppId generated\n"
     ]
    },
    {
     "data": {
      "application/javascript": [
       "try {IPython.notebook.kernel.execute(\"NOTEBOOK_URL = '\" + window.location + \"'\");} catch(err) {;}"
      ],
      "text/plain": [
       "<IPython.core.display.Javascript object>"
      ]
     },
     "metadata": {},
     "output_type": "display_data"
    },
    {
     "name": "stdout",
     "output_type": "stream",
     "text": [
      "Timeseries for AzureActiveDirectory_EventType generated\n"
     ]
    },
    {
     "data": {
      "application/javascript": [
       "try {IPython.notebook.kernel.execute(\"NOTEBOOK_URL = '\" + window.location + \"'\");} catch(err) {;}"
      ],
      "text/plain": [
       "<IPython.core.display.Javascript object>"
      ]
     },
     "metadata": {},
     "output_type": "display_data"
    },
    {
     "name": "stdout",
     "output_type": "stream",
     "text": [
      "Timeseries for ChannelGuid generated\n"
     ]
    },
    {
     "data": {
      "application/javascript": [
       "try {IPython.notebook.kernel.execute(\"NOTEBOOK_URL = '\" + window.location + \"'\");} catch(err) {;}"
      ],
      "text/plain": [
       "<IPython.core.display.Javascript object>"
      ]
     },
     "metadata": {},
     "output_type": "display_data"
    },
    {
     "name": "stdout",
     "output_type": "stream",
     "text": [
      "Timeseries for ChannelName generated\n"
     ]
    },
    {
     "data": {
      "application/javascript": [
       "try {IPython.notebook.kernel.execute(\"NOTEBOOK_URL = '\" + window.location + \"'\");} catch(err) {;}"
      ],
      "text/plain": [
       "<IPython.core.display.Javascript object>"
      ]
     },
     "metadata": {},
     "output_type": "display_data"
    },
    {
     "name": "stdout",
     "output_type": "stream",
     "text": [
      "Timeseries for ChannelType generated\n"
     ]
    },
    {
     "data": {
      "application/javascript": [
       "try {IPython.notebook.kernel.execute(\"NOTEBOOK_URL = '\" + window.location + \"'\");} catch(err) {;}"
      ],
      "text/plain": [
       "<IPython.core.display.Javascript object>"
      ]
     },
     "metadata": {},
     "output_type": "display_data"
    },
    {
     "name": "stdout",
     "output_type": "stream",
     "text": [
      "Timeseries for ChatName generated\n"
     ]
    },
    {
     "data": {
      "application/javascript": [
       "try {IPython.notebook.kernel.execute(\"NOTEBOOK_URL = '\" + window.location + \"'\");} catch(err) {;}"
      ],
      "text/plain": [
       "<IPython.core.display.Javascript object>"
      ]
     },
     "metadata": {},
     "output_type": "display_data"
    },
    {
     "name": "stdout",
     "output_type": "stream",
     "text": [
      "Timeseries for ChatThreadId generated\n"
     ]
    },
    {
     "data": {
      "application/javascript": [
       "try {IPython.notebook.kernel.execute(\"NOTEBOOK_URL = '\" + window.location + \"'\");} catch(err) {;}"
      ],
      "text/plain": [
       "<IPython.core.display.Javascript object>"
      ]
     },
     "metadata": {},
     "output_type": "display_data"
    },
    {
     "name": "stdout",
     "output_type": "stream",
     "text": [
      "Timeseries for Client generated\n"
     ]
    },
    {
     "data": {
      "application/javascript": [
       "try {IPython.notebook.kernel.execute(\"NOTEBOOK_URL = '\" + window.location + \"'\");} catch(err) {;}"
      ],
      "text/plain": [
       "<IPython.core.display.Javascript object>"
      ]
     },
     "metadata": {},
     "output_type": "display_data"
    },
    {
     "name": "stdout",
     "output_type": "stream",
     "text": [
      "Timeseries for ClientAppId generated\n"
     ]
    },
    {
     "data": {
      "application/javascript": [
       "try {IPython.notebook.kernel.execute(\"NOTEBOOK_URL = '\" + window.location + \"'\");} catch(err) {;}"
      ],
      "text/plain": [
       "<IPython.core.display.Javascript object>"
      ]
     },
     "metadata": {},
     "output_type": "display_data"
    },
    {
     "name": "stdout",
     "output_type": "stream",
     "text": [
      "Timeseries for ClientIP generated\n"
     ]
    },
    {
     "data": {
      "application/javascript": [
       "try {IPython.notebook.kernel.execute(\"NOTEBOOK_URL = '\" + window.location + \"'\");} catch(err) {;}"
      ],
      "text/plain": [
       "<IPython.core.display.Javascript object>"
      ]
     },
     "metadata": {},
     "output_type": "display_data"
    },
    {
     "name": "stdout",
     "output_type": "stream",
     "text": [
      "Timeseries for ClientIP_ generated\n"
     ]
    },
    {
     "data": {
      "application/javascript": [
       "try {IPython.notebook.kernel.execute(\"NOTEBOOK_URL = '\" + window.location + \"'\");} catch(err) {;}"
      ],
      "text/plain": [
       "<IPython.core.display.Javascript object>"
      ]
     },
     "metadata": {},
     "output_type": "display_data"
    },
    {
     "name": "stdout",
     "output_type": "stream",
     "text": [
      "Timeseries for ClientInfoString generated\n"
     ]
    },
    {
     "data": {
      "application/javascript": [
       "try {IPython.notebook.kernel.execute(\"NOTEBOOK_URL = '\" + window.location + \"'\");} catch(err) {;}"
      ],
      "text/plain": [
       "<IPython.core.display.Javascript object>"
      ]
     },
     "metadata": {},
     "output_type": "display_data"
    },
    {
     "name": "stdout",
     "output_type": "stream",
     "text": [
      "Timeseries for ClientMachineName generated\n"
     ]
    },
    {
     "data": {
      "application/javascript": [
       "try {IPython.notebook.kernel.execute(\"NOTEBOOK_URL = '\" + window.location + \"'\");} catch(err) {;}"
      ],
      "text/plain": [
       "<IPython.core.display.Javascript object>"
      ]
     },
     "metadata": {},
     "output_type": "display_data"
    },
    {
     "name": "stdout",
     "output_type": "stream",
     "text": [
      "Timeseries for ClientProcessName generated\n"
     ]
    },
    {
     "data": {
      "application/javascript": [
       "try {IPython.notebook.kernel.execute(\"NOTEBOOK_URL = '\" + window.location + \"'\");} catch(err) {;}"
      ],
      "text/plain": [
       "<IPython.core.display.Javascript object>"
      ]
     },
     "metadata": {},
     "output_type": "display_data"
    },
    {
     "name": "stdout",
     "output_type": "stream",
     "text": [
      "Timeseries for ClientVersion generated\n"
     ]
    },
    {
     "data": {
      "application/javascript": [
       "try {IPython.notebook.kernel.execute(\"NOTEBOOK_URL = '\" + window.location + \"'\");} catch(err) {;}"
      ],
      "text/plain": [
       "<IPython.core.display.Javascript object>"
      ]
     },
     "metadata": {},
     "output_type": "display_data"
    },
    {
     "name": "stdout",
     "output_type": "stream",
     "text": [
      "Timeseries for Client_IPAddress generated\n"
     ]
    },
    {
     "data": {
      "application/javascript": [
       "try {IPython.notebook.kernel.execute(\"NOTEBOOK_URL = '\" + window.location + \"'\");} catch(err) {;}"
      ],
      "text/plain": [
       "<IPython.core.display.Javascript object>"
      ]
     },
     "metadata": {},
     "output_type": "display_data"
    },
    {
     "name": "stdout",
     "output_type": "stream",
     "text": [
      "Timeseries for CommunicationType generated\n"
     ]
    },
    {
     "data": {
      "application/javascript": [
       "try {IPython.notebook.kernel.execute(\"NOTEBOOK_URL = '\" + window.location + \"'\");} catch(err) {;}"
      ],
      "text/plain": [
       "<IPython.core.display.Javascript object>"
      ]
     },
     "metadata": {},
     "output_type": "display_data"
    },
    {
     "name": "stdout",
     "output_type": "stream",
     "text": [
      "Timeseries for CrossMailboxOperations generated\n"
     ]
    },
    {
     "data": {
      "application/javascript": [
       "try {IPython.notebook.kernel.execute(\"NOTEBOOK_URL = '\" + window.location + \"'\");} catch(err) {;}"
      ],
      "text/plain": [
       "<IPython.core.display.Javascript object>"
      ]
     },
     "metadata": {},
     "output_type": "display_data"
    },
    {
     "name": "stdout",
     "output_type": "stream",
     "text": [
      "Timeseries for CustomEvent generated\n"
     ]
    },
    {
     "data": {
      "application/javascript": [
       "try {IPython.notebook.kernel.execute(\"NOTEBOOK_URL = '\" + window.location + \"'\");} catch(err) {;}"
      ],
      "text/plain": [
       "<IPython.core.display.Javascript object>"
      ]
     },
     "metadata": {},
     "output_type": "display_data"
    },
    {
     "name": "stdout",
     "output_type": "stream",
     "text": [
      "Timeseries for DataCenterSecurityEventType generated\n"
     ]
    },
    {
     "data": {
      "application/javascript": [
       "try {IPython.notebook.kernel.execute(\"NOTEBOOK_URL = '\" + window.location + \"'\");} catch(err) {;}"
      ],
      "text/plain": [
       "<IPython.core.display.Javascript object>"
      ]
     },
     "metadata": {},
     "output_type": "display_data"
    },
    {
     "name": "stdout",
     "output_type": "stream",
     "text": [
      "Timeseries for DestFolder generated\n"
     ]
    },
    {
     "data": {
      "application/javascript": [
       "try {IPython.notebook.kernel.execute(\"NOTEBOOK_URL = '\" + window.location + \"'\");} catch(err) {;}"
      ],
      "text/plain": [
       "<IPython.core.display.Javascript object>"
      ]
     },
     "metadata": {},
     "output_type": "display_data"
    },
    {
     "name": "stdout",
     "output_type": "stream",
     "text": [
      "Timeseries for DestMailboxId generated\n"
     ]
    },
    {
     "data": {
      "application/javascript": [
       "try {IPython.notebook.kernel.execute(\"NOTEBOOK_URL = '\" + window.location + \"'\");} catch(err) {;}"
      ],
      "text/plain": [
       "<IPython.core.display.Javascript object>"
      ]
     },
     "metadata": {},
     "output_type": "display_data"
    },
    {
     "name": "stdout",
     "output_type": "stream",
     "text": [
      "Timeseries for DestMailboxOwnerMasterAccountSid generated\n"
     ]
    },
    {
     "data": {
      "application/javascript": [
       "try {IPython.notebook.kernel.execute(\"NOTEBOOK_URL = '\" + window.location + \"'\");} catch(err) {;}"
      ],
      "text/plain": [
       "<IPython.core.display.Javascript object>"
      ]
     },
     "metadata": {},
     "output_type": "display_data"
    },
    {
     "name": "stdout",
     "output_type": "stream",
     "text": [
      "Timeseries for DestMailboxOwnerSid generated\n"
     ]
    },
    {
     "data": {
      "application/javascript": [
       "try {IPython.notebook.kernel.execute(\"NOTEBOOK_URL = '\" + window.location + \"'\");} catch(err) {;}"
      ],
      "text/plain": [
       "<IPython.core.display.Javascript object>"
      ]
     },
     "metadata": {},
     "output_type": "display_data"
    },
    {
     "name": "stdout",
     "output_type": "stream",
     "text": [
      "Timeseries for DestMailboxOwnerUPN generated\n"
     ]
    },
    {
     "data": {
      "application/javascript": [
       "try {IPython.notebook.kernel.execute(\"NOTEBOOK_URL = '\" + window.location + \"'\");} catch(err) {;}"
      ],
      "text/plain": [
       "<IPython.core.display.Javascript object>"
      ]
     },
     "metadata": {},
     "output_type": "display_data"
    },
    {
     "name": "stdout",
     "output_type": "stream",
     "text": [
      "Timeseries for DestinationFileExtension generated\n"
     ]
    },
    {
     "data": {
      "application/javascript": [
       "try {IPython.notebook.kernel.execute(\"NOTEBOOK_URL = '\" + window.location + \"'\");} catch(err) {;}"
      ],
      "text/plain": [
       "<IPython.core.display.Javascript object>"
      ]
     },
     "metadata": {},
     "output_type": "display_data"
    },
    {
     "name": "stdout",
     "output_type": "stream",
     "text": [
      "Timeseries for DestinationFileName generated\n"
     ]
    },
    {
     "data": {
      "application/javascript": [
       "try {IPython.notebook.kernel.execute(\"NOTEBOOK_URL = '\" + window.location + \"'\");} catch(err) {;}"
      ],
      "text/plain": [
       "<IPython.core.display.Javascript object>"
      ]
     },
     "metadata": {},
     "output_type": "display_data"
    },
    {
     "name": "stdout",
     "output_type": "stream",
     "text": [
      "Timeseries for DestinationRelativeUrl generated\n"
     ]
    },
    {
     "data": {
      "application/javascript": [
       "try {IPython.notebook.kernel.execute(\"NOTEBOOK_URL = '\" + window.location + \"'\");} catch(err) {;}"
      ],
      "text/plain": [
       "<IPython.core.display.Javascript object>"
      ]
     },
     "metadata": {},
     "output_type": "display_data"
    },
    {
     "name": "stdout",
     "output_type": "stream",
     "text": [
      "Timeseries for EffectiveOrganization generated\n"
     ]
    },
    {
     "data": {
      "application/javascript": [
       "try {IPython.notebook.kernel.execute(\"NOTEBOOK_URL = '\" + window.location + \"'\");} catch(err) {;}"
      ],
      "text/plain": [
       "<IPython.core.display.Javascript object>"
      ]
     },
     "metadata": {},
     "output_type": "display_data"
    },
    {
     "name": "stdout",
     "output_type": "stream",
     "text": [
      "Timeseries for ElevationApprovedTime generated\n"
     ]
    },
    {
     "data": {
      "application/javascript": [
       "try {IPython.notebook.kernel.execute(\"NOTEBOOK_URL = '\" + window.location + \"'\");} catch(err) {;}"
      ],
      "text/plain": [
       "<IPython.core.display.Javascript object>"
      ]
     },
     "metadata": {},
     "output_type": "display_data"
    },
    {
     "name": "stdout",
     "output_type": "stream",
     "text": [
      "Timeseries for ElevationApprover generated\n"
     ]
    },
    {
     "data": {
      "application/javascript": [
       "try {IPython.notebook.kernel.execute(\"NOTEBOOK_URL = '\" + window.location + \"'\");} catch(err) {;}"
      ],
      "text/plain": [
       "<IPython.core.display.Javascript object>"
      ]
     },
     "metadata": {},
     "output_type": "display_data"
    },
    {
     "name": "stdout",
     "output_type": "stream",
     "text": [
      "Timeseries for ElevationDuration generated\n"
     ]
    },
    {
     "data": {
      "application/javascript": [
       "try {IPython.notebook.kernel.execute(\"NOTEBOOK_URL = '\" + window.location + \"'\");} catch(err) {;}"
      ],
      "text/plain": [
       "<IPython.core.display.Javascript object>"
      ]
     },
     "metadata": {},
     "output_type": "display_data"
    },
    {
     "name": "stdout",
     "output_type": "stream",
     "text": [
      "Timeseries for ElevationRequestId generated\n"
     ]
    },
    {
     "data": {
      "application/javascript": [
       "try {IPython.notebook.kernel.execute(\"NOTEBOOK_URL = '\" + window.location + \"'\");} catch(err) {;}"
      ],
      "text/plain": [
       "<IPython.core.display.Javascript object>"
      ]
     },
     "metadata": {},
     "output_type": "display_data"
    },
    {
     "name": "stdout",
     "output_type": "stream",
     "text": [
      "Timeseries for ElevationRole generated\n"
     ]
    },
    {
     "data": {
      "application/javascript": [
       "try {IPython.notebook.kernel.execute(\"NOTEBOOK_URL = '\" + window.location + \"'\");} catch(err) {;}"
      ],
      "text/plain": [
       "<IPython.core.display.Javascript object>"
      ]
     },
     "metadata": {},
     "output_type": "display_data"
    },
    {
     "name": "stdout",
     "output_type": "stream",
     "text": [
      "Timeseries for ElevationTime generated\n"
     ]
    },
    {
     "data": {
      "application/javascript": [
       "try {IPython.notebook.kernel.execute(\"NOTEBOOK_URL = '\" + window.location + \"'\");} catch(err) {;}"
      ],
      "text/plain": [
       "<IPython.core.display.Javascript object>"
      ]
     },
     "metadata": {},
     "output_type": "display_data"
    },
    {
     "name": "stdout",
     "output_type": "stream",
     "text": [
      "Timeseries for EventSource generated\n"
     ]
    },
    {
     "data": {
      "application/javascript": [
       "try {IPython.notebook.kernel.execute(\"NOTEBOOK_URL = '\" + window.location + \"'\");} catch(err) {;}"
      ],
      "text/plain": [
       "<IPython.core.display.Javascript object>"
      ]
     },
     "metadata": {},
     "output_type": "display_data"
    },
    {
     "name": "stdout",
     "output_type": "stream",
     "text": [
      "Timeseries for Event_Data generated\n"
     ]
    },
    {
     "data": {
      "application/javascript": [
       "try {IPython.notebook.kernel.execute(\"NOTEBOOK_URL = '\" + window.location + \"'\");} catch(err) {;}"
      ],
      "text/plain": [
       "<IPython.core.display.Javascript object>"
      ]
     },
     "metadata": {},
     "output_type": "display_data"
    },
    {
     "name": "stdout",
     "output_type": "stream",
     "text": [
      "Timeseries for ExtendedProperties generated\n"
     ]
    },
    {
     "data": {
      "application/javascript": [
       "try {IPython.notebook.kernel.execute(\"NOTEBOOK_URL = '\" + window.location + \"'\");} catch(err) {;}"
      ],
      "text/plain": [
       "<IPython.core.display.Javascript object>"
      ]
     },
     "metadata": {},
     "output_type": "display_data"
    },
    {
     "name": "stdout",
     "output_type": "stream",
     "text": [
      "Timeseries for ExternalAccess generated\n"
     ]
    },
    {
     "data": {
      "application/javascript": [
       "try {IPython.notebook.kernel.execute(\"NOTEBOOK_URL = '\" + window.location + \"'\");} catch(err) {;}"
      ],
      "text/plain": [
       "<IPython.core.display.Javascript object>"
      ]
     },
     "metadata": {},
     "output_type": "display_data"
    },
    {
     "name": "stdout",
     "output_type": "stream",
     "text": [
      "Timeseries for ExtraProperties generated\n"
     ]
    },
    {
     "data": {
      "application/javascript": [
       "try {IPython.notebook.kernel.execute(\"NOTEBOOK_URL = '\" + window.location + \"'\");} catch(err) {;}"
      ],
      "text/plain": [
       "<IPython.core.display.Javascript object>"
      ]
     },
     "metadata": {},
     "output_type": "display_data"
    },
    {
     "name": "stdout",
     "output_type": "stream",
     "text": [
      "Timeseries for Folder generated\n"
     ]
    },
    {
     "data": {
      "application/javascript": [
       "try {IPython.notebook.kernel.execute(\"NOTEBOOK_URL = '\" + window.location + \"'\");} catch(err) {;}"
      ],
      "text/plain": [
       "<IPython.core.display.Javascript object>"
      ]
     },
     "metadata": {},
     "output_type": "display_data"
    },
    {
     "name": "stdout",
     "output_type": "stream",
     "text": [
      "Timeseries for Folders generated\n"
     ]
    },
    {
     "data": {
      "application/javascript": [
       "try {IPython.notebook.kernel.execute(\"NOTEBOOK_URL = '\" + window.location + \"'\");} catch(err) {;}"
      ],
      "text/plain": [
       "<IPython.core.display.Javascript object>"
      ]
     },
     "metadata": {},
     "output_type": "display_data"
    },
    {
     "name": "stdout",
     "output_type": "stream",
     "text": [
      "Timeseries for GenericInfo generated\n"
     ]
    },
    {
     "data": {
      "application/javascript": [
       "try {IPython.notebook.kernel.execute(\"NOTEBOOK_URL = '\" + window.location + \"'\");} catch(err) {;}"
      ],
      "text/plain": [
       "<IPython.core.display.Javascript object>"
      ]
     },
     "metadata": {},
     "output_type": "display_data"
    },
    {
     "name": "stdout",
     "output_type": "stream",
     "text": [
      "Timeseries for InterSystemsId generated\n"
     ]
    },
    {
     "data": {
      "application/javascript": [
       "try {IPython.notebook.kernel.execute(\"NOTEBOOK_URL = '\" + window.location + \"'\");} catch(err) {;}"
      ],
      "text/plain": [
       "<IPython.core.display.Javascript object>"
      ]
     },
     "metadata": {},
     "output_type": "display_data"
    },
    {
     "name": "stdout",
     "output_type": "stream",
     "text": [
      "Timeseries for InternalLogonType generated\n"
     ]
    },
    {
     "data": {
      "application/javascript": [
       "try {IPython.notebook.kernel.execute(\"NOTEBOOK_URL = '\" + window.location + \"'\");} catch(err) {;}"
      ],
      "text/plain": [
       "<IPython.core.display.Javascript object>"
      ]
     },
     "metadata": {},
     "output_type": "display_data"
    },
    {
     "name": "stdout",
     "output_type": "stream",
     "text": [
      "Timeseries for IntraSystemId generated\n"
     ]
    },
    {
     "data": {
      "application/javascript": [
       "try {IPython.notebook.kernel.execute(\"NOTEBOOK_URL = '\" + window.location + \"'\");} catch(err) {;}"
      ],
      "text/plain": [
       "<IPython.core.display.Javascript object>"
      ]
     },
     "metadata": {},
     "output_type": "display_data"
    },
    {
     "name": "stdout",
     "output_type": "stream",
     "text": [
      "Timeseries for Item generated\n"
     ]
    },
    {
     "data": {
      "application/javascript": [
       "try {IPython.notebook.kernel.execute(\"NOTEBOOK_URL = '\" + window.location + \"'\");} catch(err) {;}"
      ],
      "text/plain": [
       "<IPython.core.display.Javascript object>"
      ]
     },
     "metadata": {},
     "output_type": "display_data"
    },
    {
     "name": "stdout",
     "output_type": "stream",
     "text": [
      "Timeseries for ItemName generated\n"
     ]
    },
    {
     "data": {
      "application/javascript": [
       "try {IPython.notebook.kernel.execute(\"NOTEBOOK_URL = '\" + window.location + \"'\");} catch(err) {;}"
      ],
      "text/plain": [
       "<IPython.core.display.Javascript object>"
      ]
     },
     "metadata": {},
     "output_type": "display_data"
    },
    {
     "name": "stdout",
     "output_type": "stream",
     "text": [
      "Timeseries for ItemType generated\n"
     ]
    },
    {
     "data": {
      "application/javascript": [
       "try {IPython.notebook.kernel.execute(\"NOTEBOOK_URL = '\" + window.location + \"'\");} catch(err) {;}"
      ],
      "text/plain": [
       "<IPython.core.display.Javascript object>"
      ]
     },
     "metadata": {},
     "output_type": "display_data"
    },
    {
     "name": "stdout",
     "output_type": "stream",
     "text": [
      "Timeseries for LoginStatus generated\n"
     ]
    },
    {
     "data": {
      "application/javascript": [
       "try {IPython.notebook.kernel.execute(\"NOTEBOOK_URL = '\" + window.location + \"'\");} catch(err) {;}"
      ],
      "text/plain": [
       "<IPython.core.display.Javascript object>"
      ]
     },
     "metadata": {},
     "output_type": "display_data"
    },
    {
     "name": "stdout",
     "output_type": "stream",
     "text": [
      "Timeseries for LogonUserDisplayName generated\n"
     ]
    },
    {
     "data": {
      "application/javascript": [
       "try {IPython.notebook.kernel.execute(\"NOTEBOOK_URL = '\" + window.location + \"'\");} catch(err) {;}"
      ],
      "text/plain": [
       "<IPython.core.display.Javascript object>"
      ]
     },
     "metadata": {},
     "output_type": "display_data"
    },
    {
     "name": "stdout",
     "output_type": "stream",
     "text": [
      "Timeseries for LogonUserSid generated\n"
     ]
    },
    {
     "data": {
      "application/javascript": [
       "try {IPython.notebook.kernel.execute(\"NOTEBOOK_URL = '\" + window.location + \"'\");} catch(err) {;}"
      ],
      "text/plain": [
       "<IPython.core.display.Javascript object>"
      ]
     },
     "metadata": {},
     "output_type": "display_data"
    },
    {
     "name": "stdout",
     "output_type": "stream",
     "text": [
      "Timeseries for Logon_Type generated\n"
     ]
    },
    {
     "data": {
      "application/javascript": [
       "try {IPython.notebook.kernel.execute(\"NOTEBOOK_URL = '\" + window.location + \"'\");} catch(err) {;}"
      ],
      "text/plain": [
       "<IPython.core.display.Javascript object>"
      ]
     },
     "metadata": {},
     "output_type": "display_data"
    },
    {
     "name": "stdout",
     "output_type": "stream",
     "text": [
      "Timeseries for MachineDomainInfo generated\n"
     ]
    },
    {
     "data": {
      "application/javascript": [
       "try {IPython.notebook.kernel.execute(\"NOTEBOOK_URL = '\" + window.location + \"'\");} catch(err) {;}"
      ],
      "text/plain": [
       "<IPython.core.display.Javascript object>"
      ]
     },
     "metadata": {},
     "output_type": "display_data"
    },
    {
     "name": "stdout",
     "output_type": "stream",
     "text": [
      "Timeseries for MachineId generated\n"
     ]
    },
    {
     "data": {
      "application/javascript": [
       "try {IPython.notebook.kernel.execute(\"NOTEBOOK_URL = '\" + window.location + \"'\");} catch(err) {;}"
      ],
      "text/plain": [
       "<IPython.core.display.Javascript object>"
      ]
     },
     "metadata": {},
     "output_type": "display_data"
    },
    {
     "name": "stdout",
     "output_type": "stream",
     "text": [
      "Timeseries for MailboxGuid generated\n"
     ]
    },
    {
     "data": {
      "application/javascript": [
       "try {IPython.notebook.kernel.execute(\"NOTEBOOK_URL = '\" + window.location + \"'\");} catch(err) {;}"
      ],
      "text/plain": [
       "<IPython.core.display.Javascript object>"
      ]
     },
     "metadata": {},
     "output_type": "display_data"
    },
    {
     "name": "stdout",
     "output_type": "stream",
     "text": [
      "Timeseries for MailboxOwnerMasterAccountSid generated\n"
     ]
    },
    {
     "data": {
      "application/javascript": [
       "try {IPython.notebook.kernel.execute(\"NOTEBOOK_URL = '\" + window.location + \"'\");} catch(err) {;}"
      ],
      "text/plain": [
       "<IPython.core.display.Javascript object>"
      ]
     },
     "metadata": {},
     "output_type": "display_data"
    },
    {
     "name": "stdout",
     "output_type": "stream",
     "text": [
      "Timeseries for MailboxOwnerSid generated\n"
     ]
    },
    {
     "data": {
      "application/javascript": [
       "try {IPython.notebook.kernel.execute(\"NOTEBOOK_URL = '\" + window.location + \"'\");} catch(err) {;}"
      ],
      "text/plain": [
       "<IPython.core.display.Javascript object>"
      ]
     },
     "metadata": {},
     "output_type": "display_data"
    },
    {
     "name": "stdout",
     "output_type": "stream",
     "text": [
      "Timeseries for MailboxOwnerUPN generated\n"
     ]
    },
    {
     "data": {
      "application/javascript": [
       "try {IPython.notebook.kernel.execute(\"NOTEBOOK_URL = '\" + window.location + \"'\");} catch(err) {;}"
      ],
      "text/plain": [
       "<IPython.core.display.Javascript object>"
      ]
     },
     "metadata": {},
     "output_type": "display_data"
    },
    {
     "name": "stdout",
     "output_type": "stream",
     "text": [
      "Timeseries for Members generated\n"
     ]
    },
    {
     "data": {
      "application/javascript": [
       "try {IPython.notebook.kernel.execute(\"NOTEBOOK_URL = '\" + window.location + \"'\");} catch(err) {;}"
      ],
      "text/plain": [
       "<IPython.core.display.Javascript object>"
      ]
     },
     "metadata": {},
     "output_type": "display_data"
    },
    {
     "name": "stdout",
     "output_type": "stream",
     "text": [
      "Timeseries for MessageId generated\n"
     ]
    },
    {
     "data": {
      "application/javascript": [
       "try {IPython.notebook.kernel.execute(\"NOTEBOOK_URL = '\" + window.location + \"'\");} catch(err) {;}"
      ],
      "text/plain": [
       "<IPython.core.display.Javascript object>"
      ]
     },
     "metadata": {},
     "output_type": "display_data"
    },
    {
     "name": "stdout",
     "output_type": "stream",
     "text": [
      "Timeseries for ModifiedObjectResolvedName generated\n"
     ]
    },
    {
     "data": {
      "application/javascript": [
       "try {IPython.notebook.kernel.execute(\"NOTEBOOK_URL = '\" + window.location + \"'\");} catch(err) {;}"
      ],
      "text/plain": [
       "<IPython.core.display.Javascript object>"
      ]
     },
     "metadata": {},
     "output_type": "display_data"
    },
    {
     "name": "stdout",
     "output_type": "stream",
     "text": [
      "Timeseries for ModifiedProperties generated\n"
     ]
    },
    {
     "data": {
      "application/javascript": [
       "try {IPython.notebook.kernel.execute(\"NOTEBOOK_URL = '\" + window.location + \"'\");} catch(err) {;}"
      ],
      "text/plain": [
       "<IPython.core.display.Javascript object>"
      ]
     },
     "metadata": {},
     "output_type": "display_data"
    },
    {
     "name": "stdout",
     "output_type": "stream",
     "text": [
      "Timeseries for Name generated\n"
     ]
    },
    {
     "data": {
      "application/javascript": [
       "try {IPython.notebook.kernel.execute(\"NOTEBOOK_URL = '\" + window.location + \"'\");} catch(err) {;}"
      ],
      "text/plain": [
       "<IPython.core.display.Javascript object>"
      ]
     },
     "metadata": {},
     "output_type": "display_data"
    },
    {
     "name": "stdout",
     "output_type": "stream",
     "text": [
      "Timeseries for NewValue generated\n"
     ]
    },
    {
     "data": {
      "application/javascript": [
       "try {IPython.notebook.kernel.execute(\"NOTEBOOK_URL = '\" + window.location + \"'\");} catch(err) {;}"
      ],
      "text/plain": [
       "<IPython.core.display.Javascript object>"
      ]
     },
     "metadata": {},
     "output_type": "display_data"
    },
    {
     "name": "stdout",
     "output_type": "stream",
     "text": [
      "Timeseries for OfficeId generated\n"
     ]
    },
    {
     "data": {
      "application/javascript": [
       "try {IPython.notebook.kernel.execute(\"NOTEBOOK_URL = '\" + window.location + \"'\");} catch(err) {;}"
      ],
      "text/plain": [
       "<IPython.core.display.Javascript object>"
      ]
     },
     "metadata": {},
     "output_type": "display_data"
    },
    {
     "name": "stdout",
     "output_type": "stream",
     "text": [
      "Timeseries for OfficeObjectId generated\n"
     ]
    },
    {
     "data": {
      "application/javascript": [
       "try {IPython.notebook.kernel.execute(\"NOTEBOOK_URL = '\" + window.location + \"'\");} catch(err) {;}"
      ],
      "text/plain": [
       "<IPython.core.display.Javascript object>"
      ]
     },
     "metadata": {},
     "output_type": "display_data"
    },
    {
     "name": "stdout",
     "output_type": "stream",
     "text": [
      "Timeseries for OfficeTenantId generated\n"
     ]
    },
    {
     "data": {
      "application/javascript": [
       "try {IPython.notebook.kernel.execute(\"NOTEBOOK_URL = '\" + window.location + \"'\");} catch(err) {;}"
      ],
      "text/plain": [
       "<IPython.core.display.Javascript object>"
      ]
     },
     "metadata": {},
     "output_type": "display_data"
    },
    {
     "name": "stdout",
     "output_type": "stream",
     "text": [
      "Timeseries for OfficeTenantId_ generated\n"
     ]
    },
    {
     "data": {
      "application/javascript": [
       "try {IPython.notebook.kernel.execute(\"NOTEBOOK_URL = '\" + window.location + \"'\");} catch(err) {;}"
      ],
      "text/plain": [
       "<IPython.core.display.Javascript object>"
      ]
     },
     "metadata": {},
     "output_type": "display_data"
    },
    {
     "name": "stdout",
     "output_type": "stream",
     "text": [
      "Timeseries for OfficeWorkload generated\n"
     ]
    },
    {
     "data": {
      "application/javascript": [
       "try {IPython.notebook.kernel.execute(\"NOTEBOOK_URL = '\" + window.location + \"'\");} catch(err) {;}"
      ],
      "text/plain": [
       "<IPython.core.display.Javascript object>"
      ]
     },
     "metadata": {},
     "output_type": "display_data"
    },
    {
     "name": "stdout",
     "output_type": "stream",
     "text": [
      "Timeseries for OldValue generated\n"
     ]
    },
    {
     "data": {
      "application/javascript": [
       "try {IPython.notebook.kernel.execute(\"NOTEBOOK_URL = '\" + window.location + \"'\");} catch(err) {;}"
      ],
      "text/plain": [
       "<IPython.core.display.Javascript object>"
      ]
     },
     "metadata": {},
     "output_type": "display_data"
    },
    {
     "name": "stdout",
     "output_type": "stream",
     "text": [
      "Timeseries for Operation generated\n"
     ]
    },
    {
     "data": {
      "application/javascript": [
       "try {IPython.notebook.kernel.execute(\"NOTEBOOK_URL = '\" + window.location + \"'\");} catch(err) {;}"
      ],
      "text/plain": [
       "<IPython.core.display.Javascript object>"
      ]
     },
     "metadata": {},
     "output_type": "display_data"
    },
    {
     "name": "stdout",
     "output_type": "stream",
     "text": [
      "Timeseries for OperationProperties generated\n"
     ]
    },
    {
     "data": {
      "application/javascript": [
       "try {IPython.notebook.kernel.execute(\"NOTEBOOK_URL = '\" + window.location + \"'\");} catch(err) {;}"
      ],
      "text/plain": [
       "<IPython.core.display.Javascript object>"
      ]
     },
     "metadata": {},
     "output_type": "display_data"
    },
    {
     "name": "stdout",
     "output_type": "stream",
     "text": [
      "Timeseries for OperationScope generated\n"
     ]
    },
    {
     "data": {
      "application/javascript": [
       "try {IPython.notebook.kernel.execute(\"NOTEBOOK_URL = '\" + window.location + \"'\");} catch(err) {;}"
      ],
      "text/plain": [
       "<IPython.core.display.Javascript object>"
      ]
     },
     "metadata": {},
     "output_type": "display_data"
    },
    {
     "name": "stdout",
     "output_type": "stream",
     "text": [
      "Timeseries for OrganizationId generated\n"
     ]
    },
    {
     "data": {
      "application/javascript": [
       "try {IPython.notebook.kernel.execute(\"NOTEBOOK_URL = '\" + window.location + \"'\");} catch(err) {;}"
      ],
      "text/plain": [
       "<IPython.core.display.Javascript object>"
      ]
     },
     "metadata": {},
     "output_type": "display_data"
    },
    {
     "name": "stdout",
     "output_type": "stream",
     "text": [
      "Timeseries for OrganizationId_ generated\n"
     ]
    },
    {
     "data": {
      "application/javascript": [
       "try {IPython.notebook.kernel.execute(\"NOTEBOOK_URL = '\" + window.location + \"'\");} catch(err) {;}"
      ],
      "text/plain": [
       "<IPython.core.display.Javascript object>"
      ]
     },
     "metadata": {},
     "output_type": "display_data"
    },
    {
     "name": "stdout",
     "output_type": "stream",
     "text": [
      "Timeseries for OrganizationName generated\n"
     ]
    },
    {
     "data": {
      "application/javascript": [
       "try {IPython.notebook.kernel.execute(\"NOTEBOOK_URL = '\" + window.location + \"'\");} catch(err) {;}"
      ],
      "text/plain": [
       "<IPython.core.display.Javascript object>"
      ]
     },
     "metadata": {},
     "output_type": "display_data"
    },
    {
     "name": "stdout",
     "output_type": "stream",
     "text": [
      "Timeseries for OriginatingServer generated\n"
     ]
    },
    {
     "data": {
      "application/javascript": [
       "try {IPython.notebook.kernel.execute(\"NOTEBOOK_URL = '\" + window.location + \"'\");} catch(err) {;}"
      ],
      "text/plain": [
       "<IPython.core.display.Javascript object>"
      ]
     },
     "metadata": {},
     "output_type": "display_data"
    },
    {
     "name": "stdout",
     "output_type": "stream",
     "text": [
      "Timeseries for Parameters generated\n"
     ]
    },
    {
     "data": {
      "application/javascript": [
       "try {IPython.notebook.kernel.execute(\"NOTEBOOK_URL = '\" + window.location + \"'\");} catch(err) {;}"
      ],
      "text/plain": [
       "<IPython.core.display.Javascript object>"
      ]
     },
     "metadata": {},
     "output_type": "display_data"
    },
    {
     "name": "stdout",
     "output_type": "stream",
     "text": [
      "Timeseries for RecordType generated\n"
     ]
    },
    {
     "data": {
      "application/javascript": [
       "try {IPython.notebook.kernel.execute(\"NOTEBOOK_URL = '\" + window.location + \"'\");} catch(err) {;}"
      ],
      "text/plain": [
       "<IPython.core.display.Javascript object>"
      ]
     },
     "metadata": {},
     "output_type": "display_data"
    },
    {
     "name": "stdout",
     "output_type": "stream",
     "text": [
      "Timeseries for ResultReasonType generated\n"
     ]
    },
    {
     "data": {
      "application/javascript": [
       "try {IPython.notebook.kernel.execute(\"NOTEBOOK_URL = '\" + window.location + \"'\");} catch(err) {;}"
      ],
      "text/plain": [
       "<IPython.core.display.Javascript object>"
      ]
     },
     "metadata": {},
     "output_type": "display_data"
    },
    {
     "name": "stdout",
     "output_type": "stream",
     "text": [
      "Timeseries for ResultStatus generated\n"
     ]
    },
    {
     "data": {
      "application/javascript": [
       "try {IPython.notebook.kernel.execute(\"NOTEBOOK_URL = '\" + window.location + \"'\");} catch(err) {;}"
      ],
      "text/plain": [
       "<IPython.core.display.Javascript object>"
      ]
     },
     "metadata": {},
     "output_type": "display_data"
    },
    {
     "name": "stdout",
     "output_type": "stream",
     "text": [
      "Timeseries for Scope generated\n"
     ]
    },
    {
     "data": {
      "application/javascript": [
       "try {IPython.notebook.kernel.execute(\"NOTEBOOK_URL = '\" + window.location + \"'\");} catch(err) {;}"
      ],
      "text/plain": [
       "<IPython.core.display.Javascript object>"
      ]
     },
     "metadata": {},
     "output_type": "display_data"
    },
    {
     "name": "stdout",
     "output_type": "stream",
     "text": [
      "Timeseries for SendAsUserMailboxGuid generated\n"
     ]
    },
    {
     "data": {
      "application/javascript": [
       "try {IPython.notebook.kernel.execute(\"NOTEBOOK_URL = '\" + window.location + \"'\");} catch(err) {;}"
      ],
      "text/plain": [
       "<IPython.core.display.Javascript object>"
      ]
     },
     "metadata": {},
     "output_type": "display_data"
    },
    {
     "name": "stdout",
     "output_type": "stream",
     "text": [
      "Timeseries for SendAsUserSmtp generated\n"
     ]
    },
    {
     "data": {
      "application/javascript": [
       "try {IPython.notebook.kernel.execute(\"NOTEBOOK_URL = '\" + window.location + \"'\");} catch(err) {;}"
      ],
      "text/plain": [
       "<IPython.core.display.Javascript object>"
      ]
     },
     "metadata": {},
     "output_type": "display_data"
    },
    {
     "name": "stdout",
     "output_type": "stream",
     "text": [
      "Timeseries for SendOnBehalfOfUserSmtp generated\n"
     ]
    },
    {
     "data": {
      "application/javascript": [
       "try {IPython.notebook.kernel.execute(\"NOTEBOOK_URL = '\" + window.location + \"'\");} catch(err) {;}"
      ],
      "text/plain": [
       "<IPython.core.display.Javascript object>"
      ]
     },
     "metadata": {},
     "output_type": "display_data"
    },
    {
     "name": "stdout",
     "output_type": "stream",
     "text": [
      "Timeseries for SendonBehalfOfUserMailboxGuid generated\n"
     ]
    },
    {
     "data": {
      "application/javascript": [
       "try {IPython.notebook.kernel.execute(\"NOTEBOOK_URL = '\" + window.location + \"'\");} catch(err) {;}"
      ],
      "text/plain": [
       "<IPython.core.display.Javascript object>"
      ]
     },
     "metadata": {},
     "output_type": "display_data"
    },
    {
     "name": "stdout",
     "output_type": "stream",
     "text": [
      "Timeseries for SharingType generated\n"
     ]
    },
    {
     "data": {
      "application/javascript": [
       "try {IPython.notebook.kernel.execute(\"NOTEBOOK_URL = '\" + window.location + \"'\");} catch(err) {;}"
      ],
      "text/plain": [
       "<IPython.core.display.Javascript object>"
      ]
     },
     "metadata": {},
     "output_type": "display_data"
    },
    {
     "name": "stdout",
     "output_type": "stream",
     "text": [
      "Timeseries for Site_ generated\n"
     ]
    },
    {
     "data": {
      "application/javascript": [
       "try {IPython.notebook.kernel.execute(\"NOTEBOOK_URL = '\" + window.location + \"'\");} catch(err) {;}"
      ],
      "text/plain": [
       "<IPython.core.display.Javascript object>"
      ]
     },
     "metadata": {},
     "output_type": "display_data"
    },
    {
     "name": "stdout",
     "output_type": "stream",
     "text": [
      "Timeseries for Site_Url generated\n"
     ]
    },
    {
     "data": {
      "application/javascript": [
       "try {IPython.notebook.kernel.execute(\"NOTEBOOK_URL = '\" + window.location + \"'\");} catch(err) {;}"
      ],
      "text/plain": [
       "<IPython.core.display.Javascript object>"
      ]
     },
     "metadata": {},
     "output_type": "display_data"
    },
    {
     "name": "stdout",
     "output_type": "stream",
     "text": [
      "Timeseries for Site_Url_ generated\n"
     ]
    },
    {
     "data": {
      "application/javascript": [
       "try {IPython.notebook.kernel.execute(\"NOTEBOOK_URL = '\" + window.location + \"'\");} catch(err) {;}"
      ],
      "text/plain": [
       "<IPython.core.display.Javascript object>"
      ]
     },
     "metadata": {},
     "output_type": "display_data"
    },
    {
     "name": "stdout",
     "output_type": "stream",
     "text": [
      "Timeseries for SourceFileExtension generated\n"
     ]
    },
    {
     "data": {
      "application/javascript": [
       "try {IPython.notebook.kernel.execute(\"NOTEBOOK_URL = '\" + window.location + \"'\");} catch(err) {;}"
      ],
      "text/plain": [
       "<IPython.core.display.Javascript object>"
      ]
     },
     "metadata": {},
     "output_type": "display_data"
    },
    {
     "name": "stdout",
     "output_type": "stream",
     "text": [
      "Timeseries for SourceFileName generated\n"
     ]
    },
    {
     "data": {
      "application/javascript": [
       "try {IPython.notebook.kernel.execute(\"NOTEBOOK_URL = '\" + window.location + \"'\");} catch(err) {;}"
      ],
      "text/plain": [
       "<IPython.core.display.Javascript object>"
      ]
     },
     "metadata": {},
     "output_type": "display_data"
    },
    {
     "name": "stdout",
     "output_type": "stream",
     "text": [
      "Timeseries for SourceFileName_ generated\n"
     ]
    },
    {
     "data": {
      "application/javascript": [
       "try {IPython.notebook.kernel.execute(\"NOTEBOOK_URL = '\" + window.location + \"'\");} catch(err) {;}"
      ],
      "text/plain": [
       "<IPython.core.display.Javascript object>"
      ]
     },
     "metadata": {},
     "output_type": "display_data"
    },
    {
     "name": "stdout",
     "output_type": "stream",
     "text": [
      "Timeseries for SourceRecordId generated\n"
     ]
    },
    {
     "data": {
      "application/javascript": [
       "try {IPython.notebook.kernel.execute(\"NOTEBOOK_URL = '\" + window.location + \"'\");} catch(err) {;}"
      ],
      "text/plain": [
       "<IPython.core.display.Javascript object>"
      ]
     },
     "metadata": {},
     "output_type": "display_data"
    },
    {
     "name": "stdout",
     "output_type": "stream",
     "text": [
      "Timeseries for SourceRelativeUrl generated\n"
     ]
    },
    {
     "data": {
      "application/javascript": [
       "try {IPython.notebook.kernel.execute(\"NOTEBOOK_URL = '\" + window.location + \"'\");} catch(err) {;}"
      ],
      "text/plain": [
       "<IPython.core.display.Javascript object>"
      ]
     },
     "metadata": {},
     "output_type": "display_data"
    },
    {
     "name": "stdout",
     "output_type": "stream",
     "text": [
      "Timeseries for SourceRelativeUrl_ generated\n"
     ]
    },
    {
     "data": {
      "application/javascript": [
       "try {IPython.notebook.kernel.execute(\"NOTEBOOK_URL = '\" + window.location + \"'\");} catch(err) {;}"
      ],
      "text/plain": [
       "<IPython.core.display.Javascript object>"
      ]
     },
     "metadata": {},
     "output_type": "display_data"
    },
    {
     "name": "stdout",
     "output_type": "stream",
     "text": [
      "Timeseries for SourceSystem generated\n"
     ]
    },
    {
     "data": {
      "application/javascript": [
       "try {IPython.notebook.kernel.execute(\"NOTEBOOK_URL = '\" + window.location + \"'\");} catch(err) {;}"
      ],
      "text/plain": [
       "<IPython.core.display.Javascript object>"
      ]
     },
     "metadata": {},
     "output_type": "display_data"
    },
    {
     "name": "stdout",
     "output_type": "stream",
     "text": [
      "Timeseries for Source_Name generated\n"
     ]
    },
    {
     "data": {
      "application/javascript": [
       "try {IPython.notebook.kernel.execute(\"NOTEBOOK_URL = '\" + window.location + \"'\");} catch(err) {;}"
      ],
      "text/plain": [
       "<IPython.core.display.Javascript object>"
      ]
     },
     "metadata": {},
     "output_type": "display_data"
    },
    {
     "name": "stdout",
     "output_type": "stream",
     "text": [
      "Timeseries for Start_Time generated\n"
     ]
    },
    {
     "data": {
      "application/javascript": [
       "try {IPython.notebook.kernel.execute(\"NOTEBOOK_URL = '\" + window.location + \"'\");} catch(err) {;}"
      ],
      "text/plain": [
       "<IPython.core.display.Javascript object>"
      ]
     },
     "metadata": {},
     "output_type": "display_data"
    },
    {
     "name": "stdout",
     "output_type": "stream",
     "text": [
      "Timeseries for SupportTicketId generated\n"
     ]
    },
    {
     "data": {
      "application/javascript": [
       "try {IPython.notebook.kernel.execute(\"NOTEBOOK_URL = '\" + window.location + \"'\");} catch(err) {;}"
      ],
      "text/plain": [
       "<IPython.core.display.Javascript object>"
      ]
     },
     "metadata": {},
     "output_type": "display_data"
    },
    {
     "name": "stdout",
     "output_type": "stream",
     "text": [
      "Timeseries for TabType generated\n"
     ]
    },
    {
     "data": {
      "application/javascript": [
       "try {IPython.notebook.kernel.execute(\"NOTEBOOK_URL = '\" + window.location + \"'\");} catch(err) {;}"
      ],
      "text/plain": [
       "<IPython.core.display.Javascript object>"
      ]
     },
     "metadata": {},
     "output_type": "display_data"
    },
    {
     "name": "stdout",
     "output_type": "stream",
     "text": [
      "Timeseries for TargetContextId generated\n"
     ]
    },
    {
     "data": {
      "application/javascript": [
       "try {IPython.notebook.kernel.execute(\"NOTEBOOK_URL = '\" + window.location + \"'\");} catch(err) {;}"
      ],
      "text/plain": [
       "<IPython.core.display.Javascript object>"
      ]
     },
     "metadata": {},
     "output_type": "display_data"
    },
    {
     "name": "stdout",
     "output_type": "stream",
     "text": [
      "Timeseries for TargetUserId generated\n"
     ]
    },
    {
     "data": {
      "application/javascript": [
       "try {IPython.notebook.kernel.execute(\"NOTEBOOK_URL = '\" + window.location + \"'\");} catch(err) {;}"
      ],
      "text/plain": [
       "<IPython.core.display.Javascript object>"
      ]
     },
     "metadata": {},
     "output_type": "display_data"
    },
    {
     "name": "stdout",
     "output_type": "stream",
     "text": [
      "Timeseries for TargetUserOrGroupName generated\n"
     ]
    },
    {
     "data": {
      "application/javascript": [
       "try {IPython.notebook.kernel.execute(\"NOTEBOOK_URL = '\" + window.location + \"'\");} catch(err) {;}"
      ],
      "text/plain": [
       "<IPython.core.display.Javascript object>"
      ]
     },
     "metadata": {},
     "output_type": "display_data"
    },
    {
     "name": "stdout",
     "output_type": "stream",
     "text": [
      "Timeseries for TargetUserOrGroupType generated\n"
     ]
    },
    {
     "data": {
      "application/javascript": [
       "try {IPython.notebook.kernel.execute(\"NOTEBOOK_URL = '\" + window.location + \"'\");} catch(err) {;}"
      ],
      "text/plain": [
       "<IPython.core.display.Javascript object>"
      ]
     },
     "metadata": {},
     "output_type": "display_data"
    },
    {
     "name": "stdout",
     "output_type": "stream",
     "text": [
      "Timeseries for TeamGuid generated\n"
     ]
    },
    {
     "data": {
      "application/javascript": [
       "try {IPython.notebook.kernel.execute(\"NOTEBOOK_URL = '\" + window.location + \"'\");} catch(err) {;}"
      ],
      "text/plain": [
       "<IPython.core.display.Javascript object>"
      ]
     },
     "metadata": {},
     "output_type": "display_data"
    },
    {
     "name": "stdout",
     "output_type": "stream",
     "text": [
      "Timeseries for TeamName generated\n"
     ]
    },
    {
     "data": {
      "application/javascript": [
       "try {IPython.notebook.kernel.execute(\"NOTEBOOK_URL = '\" + window.location + \"'\");} catch(err) {;}"
      ],
      "text/plain": [
       "<IPython.core.display.Javascript object>"
      ]
     },
     "metadata": {},
     "output_type": "display_data"
    },
    {
     "name": "stdout",
     "output_type": "stream",
     "text": [
      "Timeseries for TenantId generated\n"
     ]
    },
    {
     "data": {
      "application/javascript": [
       "try {IPython.notebook.kernel.execute(\"NOTEBOOK_URL = '\" + window.location + \"'\");} catch(err) {;}"
      ],
      "text/plain": [
       "<IPython.core.display.Javascript object>"
      ]
     },
     "metadata": {},
     "output_type": "display_data"
    },
    {
     "name": "stdout",
     "output_type": "stream",
     "text": [
      "Timeseries for UserAgent generated\n"
     ]
    },
    {
     "data": {
      "application/javascript": [
       "try {IPython.notebook.kernel.execute(\"NOTEBOOK_URL = '\" + window.location + \"'\");} catch(err) {;}"
      ],
      "text/plain": [
       "<IPython.core.display.Javascript object>"
      ]
     },
     "metadata": {},
     "output_type": "display_data"
    },
    {
     "name": "stdout",
     "output_type": "stream",
     "text": [
      "Timeseries for UserDomain generated\n"
     ]
    },
    {
     "data": {
      "application/javascript": [
       "try {IPython.notebook.kernel.execute(\"NOTEBOOK_URL = '\" + window.location + \"'\");} catch(err) {;}"
      ],
      "text/plain": [
       "<IPython.core.display.Javascript object>"
      ]
     },
     "metadata": {},
     "output_type": "display_data"
    },
    {
     "name": "stdout",
     "output_type": "stream",
     "text": [
      "Timeseries for UserId generated\n"
     ]
    },
    {
     "data": {
      "application/javascript": [
       "try {IPython.notebook.kernel.execute(\"NOTEBOOK_URL = '\" + window.location + \"'\");} catch(err) {;}"
      ],
      "text/plain": [
       "<IPython.core.display.Javascript object>"
      ]
     },
     "metadata": {},
     "output_type": "display_data"
    },
    {
     "name": "stdout",
     "output_type": "stream",
     "text": [
      "Timeseries for UserId_ generated\n"
     ]
    },
    {
     "data": {
      "application/javascript": [
       "try {IPython.notebook.kernel.execute(\"NOTEBOOK_URL = '\" + window.location + \"'\");} catch(err) {;}"
      ],
      "text/plain": [
       "<IPython.core.display.Javascript object>"
      ]
     },
     "metadata": {},
     "output_type": "display_data"
    },
    {
     "name": "stdout",
     "output_type": "stream",
     "text": [
      "Timeseries for UserKey generated\n"
     ]
    },
    {
     "data": {
      "application/javascript": [
       "try {IPython.notebook.kernel.execute(\"NOTEBOOK_URL = '\" + window.location + \"'\");} catch(err) {;}"
      ],
      "text/plain": [
       "<IPython.core.display.Javascript object>"
      ]
     },
     "metadata": {},
     "output_type": "display_data"
    },
    {
     "name": "stdout",
     "output_type": "stream",
     "text": [
      "Timeseries for UserSharedWith generated\n"
     ]
    },
    {
     "data": {
      "application/javascript": [
       "try {IPython.notebook.kernel.execute(\"NOTEBOOK_URL = '\" + window.location + \"'\");} catch(err) {;}"
      ],
      "text/plain": [
       "<IPython.core.display.Javascript object>"
      ]
     },
     "metadata": {},
     "output_type": "display_data"
    },
    {
     "name": "stdout",
     "output_type": "stream",
     "text": [
      "Timeseries for UserType generated\n"
     ]
    },
    {
     "data": {
      "application/javascript": [
       "try {IPython.notebook.kernel.execute(\"NOTEBOOK_URL = '\" + window.location + \"'\");} catch(err) {;}"
      ],
      "text/plain": [
       "<IPython.core.display.Javascript object>"
      ]
     },
     "metadata": {},
     "output_type": "display_data"
    },
    {
     "name": "stdout",
     "output_type": "stream",
     "text": [
      "Timeseries for _ResourceId generated\n",
      "\n",
      "Querying Raw Data For \n",
      "\n",
      "Timestamp for Anomalous Features\n",
      "\n"
     ]
    },
    {
     "data": {
      "application/javascript": [
       "try {IPython.notebook.kernel.execute(\"NOTEBOOK_URL = '\" + window.location + \"'\");} catch(err) {;}"
      ],
      "text/plain": [
       "<IPython.core.display.Javascript object>"
      ]
     },
     "metadata": {},
     "output_type": "display_data"
    },
    {
     "data": {
      "application/javascript": [
       "try {IPython.notebook.kernel.execute(\"NOTEBOOK_URL = '\" + window.location + \"'\");} catch(err) {;}"
      ],
      "text/plain": [
       "<IPython.core.display.Javascript object>"
      ]
     },
     "metadata": {},
     "output_type": "display_data"
    },
    {
     "data": {
      "application/javascript": [
       "try {IPython.notebook.kernel.execute(\"NOTEBOOK_URL = '\" + window.location + \"'\");} catch(err) {;}"
      ],
      "text/plain": [
       "<IPython.core.display.Javascript object>"
      ]
     },
     "metadata": {},
     "output_type": "display_data"
    },
    {
     "data": {
      "application/javascript": [
       "try {IPython.notebook.kernel.execute(\"NOTEBOOK_URL = '\" + window.location + \"'\");} catch(err) {;}"
      ],
      "text/plain": [
       "<IPython.core.display.Javascript object>"
      ]
     },
     "metadata": {},
     "output_type": "display_data"
    },
    {
     "data": {
      "application/javascript": [
       "try {IPython.notebook.kernel.execute(\"NOTEBOOK_URL = '\" + window.location + \"'\");} catch(err) {;}"
      ],
      "text/plain": [
       "<IPython.core.display.Javascript object>"
      ]
     },
     "metadata": {},
     "output_type": "display_data"
    },
    {
     "data": {
      "application/javascript": [
       "try {IPython.notebook.kernel.execute(\"NOTEBOOK_URL = '\" + window.location + \"'\");} catch(err) {;}"
      ],
      "text/plain": [
       "<IPython.core.display.Javascript object>"
      ]
     },
     "metadata": {},
     "output_type": "display_data"
    },
    {
     "data": {
      "application/javascript": [
       "try {IPython.notebook.kernel.execute(\"NOTEBOOK_URL = '\" + window.location + \"'\");} catch(err) {;}"
      ],
      "text/plain": [
       "<IPython.core.display.Javascript object>"
      ]
     },
     "metadata": {},
     "output_type": "display_data"
    },
    {
     "data": {
      "application/javascript": [
       "try {IPython.notebook.kernel.execute(\"NOTEBOOK_URL = '\" + window.location + \"'\");} catch(err) {;}"
      ],
      "text/plain": [
       "<IPython.core.display.Javascript object>"
      ]
     },
     "metadata": {},
     "output_type": "display_data"
    },
    {
     "data": {
      "application/javascript": [
       "try {IPython.notebook.kernel.execute(\"NOTEBOOK_URL = '\" + window.location + \"'\");} catch(err) {;}"
      ],
      "text/plain": [
       "<IPython.core.display.Javascript object>"
      ]
     },
     "metadata": {},
     "output_type": "display_data"
    },
    {
     "data": {
      "application/javascript": [
       "try {IPython.notebook.kernel.execute(\"NOTEBOOK_URL = '\" + window.location + \"'\");} catch(err) {;}"
      ],
      "text/plain": [
       "<IPython.core.display.Javascript object>"
      ]
     },
     "metadata": {},
     "output_type": "display_data"
    },
    {
     "data": {
      "application/javascript": [
       "try {IPython.notebook.kernel.execute(\"NOTEBOOK_URL = '\" + window.location + \"'\");} catch(err) {;}"
      ],
      "text/plain": [
       "<IPython.core.display.Javascript object>"
      ]
     },
     "metadata": {},
     "output_type": "display_data"
    },
    {
     "data": {
      "text/html": [
       "<div>\n",
       "<style scoped>\n",
       "    .dataframe tbody tr th:only-of-type {\n",
       "        vertical-align: middle;\n",
       "    }\n",
       "\n",
       "    .dataframe tbody tr th {\n",
       "        vertical-align: top;\n",
       "    }\n",
       "\n",
       "    .dataframe thead th {\n",
       "        text-align: right;\n",
       "    }\n",
       "</style>\n",
       "<table border=\"1\" class=\"dataframe\">\n",
       "  <thead>\n",
       "    <tr style=\"text-align: right;\">\n",
       "      <th></th>\n",
       "      <th>TimeGenerated</th>\n",
       "      <th>Anomalous Features</th>\n",
       "    </tr>\n",
       "  </thead>\n",
       "  <tbody>\n",
       "    <tr>\n",
       "      <th>0</th>\n",
       "      <td>2021-08-15 08:18:06.454916+00:00</td>\n",
       "      <td>[OfficeId, Operation, Parameters, SourceRecordId]</td>\n",
       "    </tr>\n",
       "    <tr>\n",
       "      <th>1</th>\n",
       "      <td>2021-08-16 08:18:06.454916+00:00</td>\n",
       "      <td>[OfficeId, Operation, Parameters, SourceRecordId]</td>\n",
       "    </tr>\n",
       "    <tr>\n",
       "      <th>2</th>\n",
       "      <td>2021-08-17 13:18:06.454916+00:00</td>\n",
       "      <td>[OfficeId, Operation, Parameters, SourceRecordId]</td>\n",
       "    </tr>\n",
       "    <tr>\n",
       "      <th>3</th>\n",
       "      <td>2021-08-17 18:18:06.454916+00:00</td>\n",
       "      <td>[ItemType, OfficeObjectId, SourceFileExtension, SourceFileName, SourceFileName_, SourceRelativeU...</td>\n",
       "    </tr>\n",
       "    <tr>\n",
       "      <th>4</th>\n",
       "      <td>2021-08-18 07:18:06.454916+00:00</td>\n",
       "      <td>[ClientIP, ClientIP_, Item]</td>\n",
       "    </tr>\n",
       "    <tr>\n",
       "      <th>5</th>\n",
       "      <td>2021-08-18 09:18:06.454916+00:00</td>\n",
       "      <td>[Item]</td>\n",
       "    </tr>\n",
       "    <tr>\n",
       "      <th>6</th>\n",
       "      <td>2021-08-18 16:18:06.454916+00:00</td>\n",
       "      <td>[Item]</td>\n",
       "    </tr>\n",
       "    <tr>\n",
       "      <th>7</th>\n",
       "      <td>2021-08-18 17:18:06.454916+00:00</td>\n",
       "      <td>[Client_IPAddress, Folders, LogonUserSid, MailboxGuid, MailboxOwnerSid, MailboxOwnerUPN]</td>\n",
       "    </tr>\n",
       "    <tr>\n",
       "      <th>8</th>\n",
       "      <td>2021-08-18 19:18:06.454916+00:00</td>\n",
       "      <td>[ClientInfoString, ItemType, OfficeId, OfficeObjectId, RecordType, Site_Url, Site_Url_, SourceFi...</td>\n",
       "    </tr>\n",
       "    <tr>\n",
       "      <th>9</th>\n",
       "      <td>2021-08-18 20:18:06.454916+00:00</td>\n",
       "      <td>[Item]</td>\n",
       "    </tr>\n",
       "    <tr>\n",
       "      <th>10</th>\n",
       "      <td>2021-08-18 21:18:06.454916+00:00</td>\n",
       "      <td>[ClientAppId]</td>\n",
       "    </tr>\n",
       "  </tbody>\n",
       "</table>\n",
       "</div>"
      ],
      "text/plain": [
       "                      TimeGenerated  \\\n",
       "0  2021-08-15 08:18:06.454916+00:00   \n",
       "1  2021-08-16 08:18:06.454916+00:00   \n",
       "2  2021-08-17 13:18:06.454916+00:00   \n",
       "3  2021-08-17 18:18:06.454916+00:00   \n",
       "4  2021-08-18 07:18:06.454916+00:00   \n",
       "5  2021-08-18 09:18:06.454916+00:00   \n",
       "6  2021-08-18 16:18:06.454916+00:00   \n",
       "7  2021-08-18 17:18:06.454916+00:00   \n",
       "8  2021-08-18 19:18:06.454916+00:00   \n",
       "9  2021-08-18 20:18:06.454916+00:00   \n",
       "10 2021-08-18 21:18:06.454916+00:00   \n",
       "\n",
       "                                                                                     Anomalous Features  \n",
       "0                                                     [OfficeId, Operation, Parameters, SourceRecordId]  \n",
       "1                                                     [OfficeId, Operation, Parameters, SourceRecordId]  \n",
       "2                                                     [OfficeId, Operation, Parameters, SourceRecordId]  \n",
       "3   [ItemType, OfficeObjectId, SourceFileExtension, SourceFileName, SourceFileName_, SourceRelativeU...  \n",
       "4                                                                           [ClientIP, ClientIP_, Item]  \n",
       "5                                                                                                [Item]  \n",
       "6                                                                                                [Item]  \n",
       "7              [Client_IPAddress, Folders, LogonUserSid, MailboxGuid, MailboxOwnerSid, MailboxOwnerUPN]  \n",
       "8   [ClientInfoString, ItemType, OfficeId, OfficeObjectId, RecordType, Site_Url, Site_Url_, SourceFi...  \n",
       "9                                                                                                [Item]  \n",
       "10                                                                                        [ClientAppId]  "
      ]
     },
     "metadata": {},
     "output_type": "display_data"
    }
   ],
   "source": [
    "from time_series_utils import check_kwargs, ts_anomalies_stl\n",
    "from datetime import timedelta\n",
    "\n",
    "start = (timeFrame.start)\n",
    "end = (timeFrame.end)\n",
    "features = selected_features.selected_values\n",
    "\n",
    "featureDict = {}\n",
    "anomalyDict = {}\n",
    "timeframeDict = {}\n",
    "\n",
    "if start == end:\n",
    "    print(\"\\nPlease make sure the start and end date are distinct\\n\")\n",
    "elif len(features) == 0:\n",
    "    print(\"\\nPlease choose at least one feature\\n\")\n",
    "else:\n",
    "    for feature in features:\n",
    "        raw_times_series_data = qry_prov.MultiDataSource.get_timeseries_data(\n",
    "            start=start,\n",
    "            end=end,\n",
    "            table=f\"{tableDropdown.value}\",\n",
    "            timestampcolumn=timestamp_col,\n",
    "            aggregatecolumn=f\"{feature}\",\n",
    "            aggregatefunction=f\"dcount(tostring({feature}))\",\n",
    "            add_query_items=f'|mv-expand {timestamp_col} to typeof(datetime), {feature} to typeof(long)',\n",
    "        )\n",
    "        df_time_series = raw_times_series_data[[timestamp_col, f'{feature}']]\n",
    "        df_time_series = df_time_series.set_index(timestamp_col)\n",
    "        anomalies = ts_anomalies_stl(df_time_series)\n",
    "        featureDict[f'{feature}'] = anomalies\n",
    "        anomalous_timestamps = list(anomalies[anomalies['anomalies']==1][timestamp_col])\n",
    "        for timestamp in anomalous_timestamps:\n",
    "            if timestamp not in anomalyDict:\n",
    "                anomalyDict[timestamp] = [f'{feature}']\n",
    "            else:\n",
    "                anomalyDict[timestamp].append(f'{feature}')\n",
    "        print(f'Timeseries for {feature} generated')\n",
    "    print('\\nQuerying Raw Data For ')\n",
    "    print('\\nTimestamp for Anomalous Features\\n')\n",
    "    anomalyDf = pd.DataFrame(anomalyDict.items(), columns=[timestamp_col, 'Anomalous Features'])\n",
    "    anomalyDf = anomalyDf.sort_values(by=[timestamp_col]).reset_index(drop=True)\n",
    "    anomalyTimeStamps = list(anomalyDf[timestamp_col])\n",
    "    for timestamp in anomalyTimeStamps:\n",
    "        # Timerange at which the raw data is retrieved. Default 1 hour before and 2 hours (including the 1 hour time range)\n",
    "        startRange = timestamp - timedelta(hours=1)\n",
    "        endRange = timestamp + timedelta(hours=2)\n",
    "        anomalousFeatures = list(anomalyDf.loc[anomalyDf[timestamp_col] == timestamp]['Anomalous Features'])[0]\n",
    "        queryString = f\"{tableDropdown.value} | where TimeGenerated between(datetime({starttime})..datetime({endtime}))\n",
    "        \"\n",
    "        result = qry_prov.exec_query(queryString)\n",
    "        result = result.style.apply(mapAnomalousColors)\n",
    "        timeframeDict[timestamp] = result\n",
    "    display(anomalyDf)"
   ]
  },
  {
   "cell_type": "markdown",
   "id": "663ca3af-c789-45cc-b19e-f5963231a3e3",
   "metadata": {},
   "source": [
    "## Select A Timestamp To Visualize"
   ]
  },
  {
   "cell_type": "code",
   "execution_count": 42,
   "id": "a8f2cbd6-0673-448f-8890-af1c7863c0e4",
   "metadata": {
    "tags": []
   },
   "outputs": [
    {
     "name": "stdout",
     "output_type": "stream",
     "text": [
      "\n",
      "Select a timestamp to visualize anomalous features \n"
     ]
    },
    {
     "data": {
      "application/vnd.jupyter.widget-view+json": {
       "model_id": "43991de1f1764aef91ec3ae7262f8750",
       "version_major": 2,
       "version_minor": 0
      },
      "text/plain": [
       "Dropdown(description='TimeStamp:', options=(Timestamp('2021-08-15 08:18:06.454916+0000', tz='UTC'), Timestamp(…"
      ]
     },
     "metadata": {},
     "output_type": "display_data"
    }
   ],
   "source": [
    "try:\n",
    "    timestamp_dropdown = widgets.Dropdown(\n",
    "        options=sorted(list(anomalyDf[timestamp_col])),\n",
    "        description='TimeStamp:',\n",
    "        disabled=False,\n",
    "    )\n",
    "    print('\\nSelect a timestamp to visualize anomalous features ')\n",
    "    display(timestamp_dropdown)\n",
    "except NameError:\n",
    "    print(\"Anomaly Dataframe not instantiated yet.\")"
   ]
  },
  {
   "cell_type": "markdown",
   "id": "b6abd251-7b03-475e-ae48-da91ad79a12b",
   "metadata": {},
   "source": [
    "## Visualize Anomalies"
   ]
  },
  {
   "cell_type": "code",
   "execution_count": 44,
   "id": "131ab15a-b138-4bd5-8cd7-2ae49d440244",
   "metadata": {
    "tags": []
   },
   "outputs": [
    {
     "name": "stdout",
     "output_type": "stream",
     "text": [
      "\n",
      "Time Series for OfficeId\n",
      "\n"
     ]
    },
    {
     "data": {
      "text/html": [
       "\n",
       "    <div class=\"bk-root\">\n",
       "        <a href=\"https://bokeh.org\" target=\"_blank\" class=\"bk-logo bk-logo-small bk-logo-notebook\"></a>\n",
       "        <span id=\"2574\">Loading BokehJS ...</span>\n",
       "    </div>"
      ]
     },
     "metadata": {},
     "output_type": "display_data"
    },
    {
     "data": {
      "application/javascript": [
       "\n",
       "(function(root) {\n",
       "  function now() {\n",
       "    return new Date();\n",
       "  }\n",
       "\n",
       "  var force = true;\n",
       "\n",
       "  if (typeof root._bokeh_onload_callbacks === \"undefined\" || force === true) {\n",
       "    root._bokeh_onload_callbacks = [];\n",
       "    root._bokeh_is_loading = undefined;\n",
       "  }\n",
       "\n",
       "  var JS_MIME_TYPE = 'application/javascript';\n",
       "  var HTML_MIME_TYPE = 'text/html';\n",
       "  var EXEC_MIME_TYPE = 'application/vnd.bokehjs_exec.v0+json';\n",
       "  var CLASS_NAME = 'output_bokeh rendered_html';\n",
       "\n",
       "  /**\n",
       "   * Render data to the DOM node\n",
       "   */\n",
       "  function render(props, node) {\n",
       "    var script = document.createElement(\"script\");\n",
       "    node.appendChild(script);\n",
       "  }\n",
       "\n",
       "  /**\n",
       "   * Handle when an output is cleared or removed\n",
       "   */\n",
       "  function handleClearOutput(event, handle) {\n",
       "    var cell = handle.cell;\n",
       "\n",
       "    var id = cell.output_area._bokeh_element_id;\n",
       "    var server_id = cell.output_area._bokeh_server_id;\n",
       "    // Clean up Bokeh references\n",
       "    if (id != null && id in Bokeh.index) {\n",
       "      Bokeh.index[id].model.document.clear();\n",
       "      delete Bokeh.index[id];\n",
       "    }\n",
       "\n",
       "    if (server_id !== undefined) {\n",
       "      // Clean up Bokeh references\n",
       "      var cmd = \"from bokeh.io.state import curstate; print(curstate().uuid_to_server['\" + server_id + \"'].get_sessions()[0].document.roots[0]._id)\";\n",
       "      cell.notebook.kernel.execute(cmd, {\n",
       "        iopub: {\n",
       "          output: function(msg) {\n",
       "            var id = msg.content.text.trim();\n",
       "            if (id in Bokeh.index) {\n",
       "              Bokeh.index[id].model.document.clear();\n",
       "              delete Bokeh.index[id];\n",
       "            }\n",
       "          }\n",
       "        }\n",
       "      });\n",
       "      // Destroy server and session\n",
       "      var cmd = \"import bokeh.io.notebook as ion; ion.destroy_server('\" + server_id + \"')\";\n",
       "      cell.notebook.kernel.execute(cmd);\n",
       "    }\n",
       "  }\n",
       "\n",
       "  /**\n",
       "   * Handle when a new output is added\n",
       "   */\n",
       "  function handleAddOutput(event, handle) {\n",
       "    var output_area = handle.output_area;\n",
       "    var output = handle.output;\n",
       "\n",
       "    // limit handleAddOutput to display_data with EXEC_MIME_TYPE content only\n",
       "    if ((output.output_type != \"display_data\") || (!Object.prototype.hasOwnProperty.call(output.data, EXEC_MIME_TYPE))) {\n",
       "      return\n",
       "    }\n",
       "\n",
       "    var toinsert = output_area.element.find(\".\" + CLASS_NAME.split(' ')[0]);\n",
       "\n",
       "    if (output.metadata[EXEC_MIME_TYPE][\"id\"] !== undefined) {\n",
       "      toinsert[toinsert.length - 1].firstChild.textContent = output.data[JS_MIME_TYPE];\n",
       "      // store reference to embed id on output_area\n",
       "      output_area._bokeh_element_id = output.metadata[EXEC_MIME_TYPE][\"id\"];\n",
       "    }\n",
       "    if (output.metadata[EXEC_MIME_TYPE][\"server_id\"] !== undefined) {\n",
       "      var bk_div = document.createElement(\"div\");\n",
       "      bk_div.innerHTML = output.data[HTML_MIME_TYPE];\n",
       "      var script_attrs = bk_div.children[0].attributes;\n",
       "      for (var i = 0; i < script_attrs.length; i++) {\n",
       "        toinsert[toinsert.length - 1].firstChild.setAttribute(script_attrs[i].name, script_attrs[i].value);\n",
       "        toinsert[toinsert.length - 1].firstChild.textContent = bk_div.children[0].textContent\n",
       "      }\n",
       "      // store reference to server id on output_area\n",
       "      output_area._bokeh_server_id = output.metadata[EXEC_MIME_TYPE][\"server_id\"];\n",
       "    }\n",
       "  }\n",
       "\n",
       "  function register_renderer(events, OutputArea) {\n",
       "\n",
       "    function append_mime(data, metadata, element) {\n",
       "      // create a DOM node to render to\n",
       "      var toinsert = this.create_output_subarea(\n",
       "        metadata,\n",
       "        CLASS_NAME,\n",
       "        EXEC_MIME_TYPE\n",
       "      );\n",
       "      this.keyboard_manager.register_events(toinsert);\n",
       "      // Render to node\n",
       "      var props = {data: data, metadata: metadata[EXEC_MIME_TYPE]};\n",
       "      render(props, toinsert[toinsert.length - 1]);\n",
       "      element.append(toinsert);\n",
       "      return toinsert\n",
       "    }\n",
       "\n",
       "    /* Handle when an output is cleared or removed */\n",
       "    events.on('clear_output.CodeCell', handleClearOutput);\n",
       "    events.on('delete.Cell', handleClearOutput);\n",
       "\n",
       "    /* Handle when a new output is added */\n",
       "    events.on('output_added.OutputArea', handleAddOutput);\n",
       "\n",
       "    /**\n",
       "     * Register the mime type and append_mime function with output_area\n",
       "     */\n",
       "    OutputArea.prototype.register_mime_type(EXEC_MIME_TYPE, append_mime, {\n",
       "      /* Is output safe? */\n",
       "      safe: true,\n",
       "      /* Index of renderer in `output_area.display_order` */\n",
       "      index: 0\n",
       "    });\n",
       "  }\n",
       "\n",
       "  // register the mime type if in Jupyter Notebook environment and previously unregistered\n",
       "  if (root.Jupyter !== undefined) {\n",
       "    var events = require('base/js/events');\n",
       "    var OutputArea = require('notebook/js/outputarea').OutputArea;\n",
       "\n",
       "    if (OutputArea.prototype.mime_types().indexOf(EXEC_MIME_TYPE) == -1) {\n",
       "      register_renderer(events, OutputArea);\n",
       "    }\n",
       "  }\n",
       "\n",
       "  \n",
       "  if (typeof (root._bokeh_timeout) === \"undefined\" || force === true) {\n",
       "    root._bokeh_timeout = Date.now() + 5000;\n",
       "    root._bokeh_failed_load = false;\n",
       "  }\n",
       "\n",
       "  var NB_LOAD_WARNING = {'data': {'text/html':\n",
       "     \"<div style='background-color: #fdd'>\\n\"+\n",
       "     \"<p>\\n\"+\n",
       "     \"BokehJS does not appear to have successfully loaded. If loading BokehJS from CDN, this \\n\"+\n",
       "     \"may be due to a slow or bad network connection. Possible fixes:\\n\"+\n",
       "     \"</p>\\n\"+\n",
       "     \"<ul>\\n\"+\n",
       "     \"<li>re-rerun `output_notebook()` to attempt to load from CDN again, or</li>\\n\"+\n",
       "     \"<li>use INLINE resources instead, as so:</li>\\n\"+\n",
       "     \"</ul>\\n\"+\n",
       "     \"<code>\\n\"+\n",
       "     \"from bokeh.resources import INLINE\\n\"+\n",
       "     \"output_notebook(resources=INLINE)\\n\"+\n",
       "     \"</code>\\n\"+\n",
       "     \"</div>\"}};\n",
       "\n",
       "  function display_loaded() {\n",
       "    var el = document.getElementById(\"2574\");\n",
       "    if (el != null) {\n",
       "      el.textContent = \"BokehJS is loading...\";\n",
       "    }\n",
       "    if (root.Bokeh !== undefined) {\n",
       "      if (el != null) {\n",
       "        el.textContent = \"BokehJS \" + root.Bokeh.version + \" successfully loaded.\";\n",
       "      }\n",
       "    } else if (Date.now() < root._bokeh_timeout) {\n",
       "      setTimeout(display_loaded, 100)\n",
       "    }\n",
       "  }\n",
       "\n",
       "\n",
       "  function run_callbacks() {\n",
       "    try {\n",
       "      root._bokeh_onload_callbacks.forEach(function(callback) {\n",
       "        if (callback != null)\n",
       "          callback();\n",
       "      });\n",
       "    } finally {\n",
       "      delete root._bokeh_onload_callbacks\n",
       "    }\n",
       "    console.debug(\"Bokeh: all callbacks have finished\");\n",
       "  }\n",
       "\n",
       "  function load_libs(css_urls, js_urls, callback) {\n",
       "    if (css_urls == null) css_urls = [];\n",
       "    if (js_urls == null) js_urls = [];\n",
       "\n",
       "    root._bokeh_onload_callbacks.push(callback);\n",
       "    if (root._bokeh_is_loading > 0) {\n",
       "      console.debug(\"Bokeh: BokehJS is being loaded, scheduling callback at\", now());\n",
       "      return null;\n",
       "    }\n",
       "    if (js_urls == null || js_urls.length === 0) {\n",
       "      run_callbacks();\n",
       "      return null;\n",
       "    }\n",
       "    console.debug(\"Bokeh: BokehJS not loaded, scheduling load and callback at\", now());\n",
       "    root._bokeh_is_loading = css_urls.length + js_urls.length;\n",
       "\n",
       "    function on_load() {\n",
       "      root._bokeh_is_loading--;\n",
       "      if (root._bokeh_is_loading === 0) {\n",
       "        console.debug(\"Bokeh: all BokehJS libraries/stylesheets loaded\");\n",
       "        run_callbacks()\n",
       "      }\n",
       "    }\n",
       "\n",
       "    function on_error(url) {\n",
       "      console.error(\"failed to load \" + url);\n",
       "    }\n",
       "\n",
       "    for (let i = 0; i < css_urls.length; i++) {\n",
       "      const url = css_urls[i];\n",
       "      const element = document.createElement(\"link\");\n",
       "      element.onload = on_load;\n",
       "      element.onerror = on_error.bind(null, url);\n",
       "      element.rel = \"stylesheet\";\n",
       "      element.type = \"text/css\";\n",
       "      element.href = url;\n",
       "      console.debug(\"Bokeh: injecting link tag for BokehJS stylesheet: \", url);\n",
       "      document.body.appendChild(element);\n",
       "    }\n",
       "\n",
       "    const hashes = {\"https://cdn.bokeh.org/bokeh/release/bokeh-2.3.3.min.js\": \"dM3QQsP+wXdHg42wTqW85BjZQdLNNIXqlPw/BgKoExPmTG7ZLML4EGqLMfqHT6ON\", \"https://cdn.bokeh.org/bokeh/release/bokeh-tables-2.3.3.min.js\": \"8x57I4YuIfu8XyZfFo0XVr2WAT8EK4rh/uDe3wF7YuW2FNUSNEpJbsPaB1nJ2fz2\", \"https://cdn.bokeh.org/bokeh/release/bokeh-widgets-2.3.3.min.js\": \"3QTqdz9LyAm2i0sG5XTePsHec3UHWwVsrOL68SYRoAXsafvfAyqtQ+h440+qIBhS\"};\n",
       "\n",
       "    for (let i = 0; i < js_urls.length; i++) {\n",
       "      const url = js_urls[i];\n",
       "      const element = document.createElement('script');\n",
       "      element.onload = on_load;\n",
       "      element.onerror = on_error.bind(null, url);\n",
       "      element.async = false;\n",
       "      element.src = url;\n",
       "      if (url in hashes) {\n",
       "        element.crossOrigin = \"anonymous\";\n",
       "        element.integrity = \"sha384-\" + hashes[url];\n",
       "      }\n",
       "      console.debug(\"Bokeh: injecting script tag for BokehJS library: \", url);\n",
       "      document.head.appendChild(element);\n",
       "    }\n",
       "  };\n",
       "\n",
       "  function inject_raw_css(css) {\n",
       "    const element = document.createElement(\"style\");\n",
       "    element.appendChild(document.createTextNode(css));\n",
       "    document.body.appendChild(element);\n",
       "  }\n",
       "\n",
       "  \n",
       "  var js_urls = [\"https://cdn.bokeh.org/bokeh/release/bokeh-2.3.3.min.js\", \"https://cdn.bokeh.org/bokeh/release/bokeh-widgets-2.3.3.min.js\", \"https://cdn.bokeh.org/bokeh/release/bokeh-tables-2.3.3.min.js\"];\n",
       "  var css_urls = [];\n",
       "  \n",
       "\n",
       "  var inline_js = [\n",
       "    function(Bokeh) {\n",
       "      Bokeh.set_log_level(\"info\");\n",
       "    },\n",
       "    function(Bokeh) {\n",
       "    \n",
       "    \n",
       "    }\n",
       "  ];\n",
       "\n",
       "  function run_inline_js() {\n",
       "    \n",
       "    if (root.Bokeh !== undefined || force === true) {\n",
       "      \n",
       "    for (var i = 0; i < inline_js.length; i++) {\n",
       "      inline_js[i].call(root, root.Bokeh);\n",
       "    }\n",
       "    if (force === true) {\n",
       "        display_loaded();\n",
       "      }} else if (Date.now() < root._bokeh_timeout) {\n",
       "      setTimeout(run_inline_js, 100);\n",
       "    } else if (!root._bokeh_failed_load) {\n",
       "      console.log(\"Bokeh: BokehJS failed to load within specified timeout.\");\n",
       "      root._bokeh_failed_load = true;\n",
       "    } else if (force !== true) {\n",
       "      var cell = $(document.getElementById(\"2574\")).parents('.cell').data().cell;\n",
       "      cell.output_area.append_execute_result(NB_LOAD_WARNING)\n",
       "    }\n",
       "\n",
       "  }\n",
       "\n",
       "  if (root._bokeh_is_loading === 0) {\n",
       "    console.debug(\"Bokeh: BokehJS loaded, going straight to plotting\");\n",
       "    run_inline_js();\n",
       "  } else {\n",
       "    load_libs(css_urls, js_urls, function() {\n",
       "      console.debug(\"Bokeh: BokehJS plotting callback run at\", now());\n",
       "      run_inline_js();\n",
       "    });\n",
       "  }\n",
       "}(window));"
      ],
      "application/vnd.bokehjs_load.v0+json": "\n(function(root) {\n  function now() {\n    return new Date();\n  }\n\n  var force = true;\n\n  if (typeof root._bokeh_onload_callbacks === \"undefined\" || force === true) {\n    root._bokeh_onload_callbacks = [];\n    root._bokeh_is_loading = undefined;\n  }\n\n  \n\n  \n  if (typeof (root._bokeh_timeout) === \"undefined\" || force === true) {\n    root._bokeh_timeout = Date.now() + 5000;\n    root._bokeh_failed_load = false;\n  }\n\n  var NB_LOAD_WARNING = {'data': {'text/html':\n     \"<div style='background-color: #fdd'>\\n\"+\n     \"<p>\\n\"+\n     \"BokehJS does not appear to have successfully loaded. If loading BokehJS from CDN, this \\n\"+\n     \"may be due to a slow or bad network connection. Possible fixes:\\n\"+\n     \"</p>\\n\"+\n     \"<ul>\\n\"+\n     \"<li>re-rerun `output_notebook()` to attempt to load from CDN again, or</li>\\n\"+\n     \"<li>use INLINE resources instead, as so:</li>\\n\"+\n     \"</ul>\\n\"+\n     \"<code>\\n\"+\n     \"from bokeh.resources import INLINE\\n\"+\n     \"output_notebook(resources=INLINE)\\n\"+\n     \"</code>\\n\"+\n     \"</div>\"}};\n\n  function display_loaded() {\n    var el = document.getElementById(\"2574\");\n    if (el != null) {\n      el.textContent = \"BokehJS is loading...\";\n    }\n    if (root.Bokeh !== undefined) {\n      if (el != null) {\n        el.textContent = \"BokehJS \" + root.Bokeh.version + \" successfully loaded.\";\n      }\n    } else if (Date.now() < root._bokeh_timeout) {\n      setTimeout(display_loaded, 100)\n    }\n  }\n\n\n  function run_callbacks() {\n    try {\n      root._bokeh_onload_callbacks.forEach(function(callback) {\n        if (callback != null)\n          callback();\n      });\n    } finally {\n      delete root._bokeh_onload_callbacks\n    }\n    console.debug(\"Bokeh: all callbacks have finished\");\n  }\n\n  function load_libs(css_urls, js_urls, callback) {\n    if (css_urls == null) css_urls = [];\n    if (js_urls == null) js_urls = [];\n\n    root._bokeh_onload_callbacks.push(callback);\n    if (root._bokeh_is_loading > 0) {\n      console.debug(\"Bokeh: BokehJS is being loaded, scheduling callback at\", now());\n      return null;\n    }\n    if (js_urls == null || js_urls.length === 0) {\n      run_callbacks();\n      return null;\n    }\n    console.debug(\"Bokeh: BokehJS not loaded, scheduling load and callback at\", now());\n    root._bokeh_is_loading = css_urls.length + js_urls.length;\n\n    function on_load() {\n      root._bokeh_is_loading--;\n      if (root._bokeh_is_loading === 0) {\n        console.debug(\"Bokeh: all BokehJS libraries/stylesheets loaded\");\n        run_callbacks()\n      }\n    }\n\n    function on_error(url) {\n      console.error(\"failed to load \" + url);\n    }\n\n    for (let i = 0; i < css_urls.length; i++) {\n      const url = css_urls[i];\n      const element = document.createElement(\"link\");\n      element.onload = on_load;\n      element.onerror = on_error.bind(null, url);\n      element.rel = \"stylesheet\";\n      element.type = \"text/css\";\n      element.href = url;\n      console.debug(\"Bokeh: injecting link tag for BokehJS stylesheet: \", url);\n      document.body.appendChild(element);\n    }\n\n    const hashes = {\"https://cdn.bokeh.org/bokeh/release/bokeh-2.3.3.min.js\": \"dM3QQsP+wXdHg42wTqW85BjZQdLNNIXqlPw/BgKoExPmTG7ZLML4EGqLMfqHT6ON\", \"https://cdn.bokeh.org/bokeh/release/bokeh-tables-2.3.3.min.js\": \"8x57I4YuIfu8XyZfFo0XVr2WAT8EK4rh/uDe3wF7YuW2FNUSNEpJbsPaB1nJ2fz2\", \"https://cdn.bokeh.org/bokeh/release/bokeh-widgets-2.3.3.min.js\": \"3QTqdz9LyAm2i0sG5XTePsHec3UHWwVsrOL68SYRoAXsafvfAyqtQ+h440+qIBhS\"};\n\n    for (let i = 0; i < js_urls.length; i++) {\n      const url = js_urls[i];\n      const element = document.createElement('script');\n      element.onload = on_load;\n      element.onerror = on_error.bind(null, url);\n      element.async = false;\n      element.src = url;\n      if (url in hashes) {\n        element.crossOrigin = \"anonymous\";\n        element.integrity = \"sha384-\" + hashes[url];\n      }\n      console.debug(\"Bokeh: injecting script tag for BokehJS library: \", url);\n      document.head.appendChild(element);\n    }\n  };\n\n  function inject_raw_css(css) {\n    const element = document.createElement(\"style\");\n    element.appendChild(document.createTextNode(css));\n    document.body.appendChild(element);\n  }\n\n  \n  var js_urls = [\"https://cdn.bokeh.org/bokeh/release/bokeh-2.3.3.min.js\", \"https://cdn.bokeh.org/bokeh/release/bokeh-widgets-2.3.3.min.js\", \"https://cdn.bokeh.org/bokeh/release/bokeh-tables-2.3.3.min.js\"];\n  var css_urls = [];\n  \n\n  var inline_js = [\n    function(Bokeh) {\n      Bokeh.set_log_level(\"info\");\n    },\n    function(Bokeh) {\n    \n    \n    }\n  ];\n\n  function run_inline_js() {\n    \n    if (root.Bokeh !== undefined || force === true) {\n      \n    for (var i = 0; i < inline_js.length; i++) {\n      inline_js[i].call(root, root.Bokeh);\n    }\n    if (force === true) {\n        display_loaded();\n      }} else if (Date.now() < root._bokeh_timeout) {\n      setTimeout(run_inline_js, 100);\n    } else if (!root._bokeh_failed_load) {\n      console.log(\"Bokeh: BokehJS failed to load within specified timeout.\");\n      root._bokeh_failed_load = true;\n    } else if (force !== true) {\n      var cell = $(document.getElementById(\"2574\")).parents('.cell').data().cell;\n      cell.output_area.append_execute_result(NB_LOAD_WARNING)\n    }\n\n  }\n\n  if (root._bokeh_is_loading === 0) {\n    console.debug(\"Bokeh: BokehJS loaded, going straight to plotting\");\n    run_inline_js();\n  } else {\n    load_libs(css_urls, js_urls, function() {\n      console.debug(\"Bokeh: BokehJS plotting callback run at\", now());\n      run_inline_js();\n    });\n  }\n}(window));"
     },
     "metadata": {},
     "output_type": "display_data"
    },
    {
     "data": {
      "text/html": [
       "\n",
       "\n",
       "\n",
       "\n",
       "\n",
       "\n",
       "  <div class=\"bk-root\" id=\"0d01503a-7f7e-4b6a-bab3-c0c2c7a10763\" data-root-id=\"2725\"></div>\n"
      ]
     },
     "metadata": {},
     "output_type": "display_data"
    },
    {
     "data": {
      "application/javascript": [
       "(function(root) {\n",
       "  function embed_document(root) {\n",
       "    \n",
       "  var docs_json = {\"14989f17-2c99-4a5a-ac10-f9c3058dc932\":{\"defs\":[],\"roots\":{\"references\":[{\"attributes\":{\"children\":[{\"id\":\"2577\"},{\"id\":\"2695\"}]},\"id\":\"2725\",\"type\":\"Column\"},{\"attributes\":{},\"id\":\"2586\",\"type\":\"LinearScale\"},{\"attributes\":{\"data\":{\"OfficeId\":[9,14,6,23,10,21,5,5,19,8,6,5,8,8,8,21,7,11,5,2,5,20,6,9,6,6,20,8,7,1,7,5,8,21,81,7,1,11,5,20,10,7,8,7,23,6,11,7,17,1,5,20,7,8,7,4,7,24,81,10,5,11,5,20,7,16,2,7,10,22,7,7,7,7,21,8,8,8,1,9,21,8,7,7,13,18,19,85,6,8,10,10,53,8,2,8,8,5,7,21,19,16,10,10,29,22,15,25,20,15,31,9,9,17,11,28,12,86,23,18,0,0,0,0,0,0,0,0,0,0,0,0,0,0,0,0,0,0,0,0,0,0,0,0],\"TimeGenerated\":{\"__ndarray__\":\"qG4vgBm0d0KobhfvHLR3Qqhu/10gtHdCqG7nzCO0d0Kobs87J7R3Qqhut6oqtHdCqG6fGS60d0KoboeIMbR3Qqhub/c0tHdCqG5XZji0d0Kobj/VO7R3QqhuJ0Q/tHdCqG4Ps0K0d0KobvchRrR3Qqhu35BJtHdCqG7H/0y0d0Kobq9uULR3Qqhul91TtHdCqG5/TFe0d0Kobme7WrR3QqhuTypetHdCqG43mWG0d0Kobh8IZbR3QqhuB3dotHdCqG7v5Wu0d0KobtdUb7R3Qqhuv8NytHdCqG6nMna0d0Kobo+hebR3QqhudxB9tHdCqG5ff4C0d0Kobkfug7R3QqhuL12HtHdCqG4XzIq0d0Kobv86jrR3Qqhu56mRtHdCqG7PGJW0d0KobreHmLR3Qqhun/abtHdCqG6HZZ+0d0Kobm/UorR3QqhuV0OmtHdCqG4/sqm0d0KobichrbR3QqhuD5CwtHdCqG73/rO0d0Kobt9tt7R3Qqhux9y6tHdCqG6vS760d0Kobpe6wbR3QqhufynFtHdCqG5nmMi0d0Kobk8HzLR3QqhuN3bPtHdCqG4f5dK0d0KobgdU1rR3Qqhu78LZtHdCqG7XMd20d0Kobr+g4LR3Qqhupw/ktHdCqG6Pfue0d0Kobnft6rR3QqhuX1zutHdCqG5Hy/G0d0Kobi869bR3QqhuF6n4tHdCqG7/F/y0d0KobueG/7R3Qqhuz/UCtXdCqG63ZAa1d0Kobp/TCbV3Qqhuh0INtXdCqG5vsRC1d0KoblcgFLV3QqhuP48XtXdCqG4n/hq1d0Kobg9tHrV3Qqhu99shtXdCqG7fSiW1d0Kobse5KLV3QqhurygstXdCqG6Xly+1d0Kobn8GM7V3QqhuZ3U2tXdCqG5P5Dm1d0KobjdTPbV3QqhuH8JAtXdCqG4HMUS1d0Kobu+fR7V3Qqhu1w5LtXdCqG6/fU61d0KobqfsUbV3Qqhuj1tVtXdCqG53yli1d0Kobl85XLV3QqhuR6hftXdCqG4vF2O1d0KobheGZrV3Qqhu//RptXdCqG7nY221d0Kobs/ScLV3Qqhut0F0tXdCqG6fsHe1d0Kobocfe7V3Qqhub45+tXdCqG5X/YG1d0Kobj9shbV3QqhuJ9uItXdCqG4PSoy1d0Kobve4j7V3Qqhu3yeTtXdCqG7Hlpa1d0Kobq8FmrV3Qqhul3SdtXdCqG5/46C1d0KobmdSpLV3QqhuT8GntXdCqG43MKu1d0Kobh+frrV3QqhuBw6ytXdCqG7vfLW1d0KobtfruLV3Qqhuv1q8tXdCqG6nyb+1d0Kobo84w7V3Qqhud6fGtXdCqG5fFsq1d0KobkeFzbV3QqhuL/TQtXdCqG4XY9S1d0Kobv/R17V3Qqhu50DbtXdCqG7Pr961d0Kobrce4rV3Qqhun43ltXdCqG6H/Oi1d0Kobm9r7LV3QqhuV9rvtXdCqG4/SfO1d0Kobie49rV3QqhuDyf6tXdCqG73lf21d0Kobt8EAbZ3Qqhux3MEtndC\",\"dtype\":\"float64\",\"order\":\"little\",\"shape\":[144]},\"anomalies\":[0,0,0,0,0,0,0,0,0,0,0,0,0,0,0,0,0,0,0,0,0,0,0,0,0,0,0,0,0,0,0,0,0,0,1,0,0,0,0,0,0,0,0,0,0,0,0,0,0,0,0,0,0,0,0,0,0,0,1,0,0,0,0,0,0,0,0,0,0,0,0,0,0,0,0,0,0,0,0,0,0,0,0,0,0,0,0,1,0,0,0,0,0,0,0,0,0,0,0,0,0,0,0,0,0,0,0,0,0,0,0,0,0,0,0,0,0,1,0,0,0,0,0,0,0,0,0,0,0,0,0,0,0,0,0,0,0,0,0,0,0,0,0,0],\"baseline\":[8,10,9,18,7,13,5,3,12,13,39,4,3,7,3,14,7,9,4,1,6,11,7,7,10,8,12,17,9,11,6,5,14,16,45,7,6,11,8,26,8,11,6,6,16,16,8,8,10,6,13,14,8,8,5,6,13,16,47,9,7,12,10,34,6,10,5,8,22,19,6,7,7,3,10,12,9,8,5,6,16,16,35,12,11,14,16,35,9,14,10,15,26,34,14,14,8,6,10,14,12,12,9,11,20,16,19,17,16,16,21,30,12,16,14,19,23,38,16,15,-1,-1,0,2,2,1,-2,-1,5,0,-12,2,1,-1,5,0,-5,-3,-4,1,-2,22,-1,-2],\"index\":[0,1,2,3,4,5,6,7,8,9,10,11,12,13,14,15,16,17,18,19,20,21,22,23,24,25,26,27,28,29,30,31,32,33,34,35,36,37,38,39,40,41,42,43,44,45,46,47,48,49,50,51,52,53,54,55,56,57,58,59,60,61,62,63,64,65,66,67,68,69,70,71,72,73,74,75,76,77,78,79,80,81,82,83,84,85,86,87,88,89,90,91,92,93,94,95,96,97,98,99,100,101,102,103,104,105,106,107,108,109,110,111,112,113,114,115,116,117,118,119,120,121,122,123,124,125,126,127,128,129,130,131,132,133,134,135,136,137,138,139,140,141,142,143],\"residual\":[0,3,-3,4,2,7,0,1,6,-5,-33,0,4,0,4,6,0,1,0,0,-1,8,-1,1,-4,-2,7,-9,-2,-10,0,0,-6,4,35,0,-5,0,-3,-6,1,-4,1,0,6,-10,2,-1,6,-5,-8,5,-1,0,1,-2,-6,7,33,0,-2,-1,-5,-14,0,5,-3,-1,-12,2,0,0,0,3,10,-4,-1,0,-4,2,4,-8,-28,-5,1,3,2,49,-3,-6,0,-5,26,-26,-12,-6,0,-1,-3,6,6,3,0,-1,8,5,-4,7,3,-1,9,-21,-3,0,-3,8,-11,47,6,2,1,1,0,-2,-2,-1,2,1,-5,0,12,-2,-1,1,-5,0,5,3,4,-1,2,-22,1,2],\"score\":{\"__ndarray__\":\"WdMrreBIoL/MHI8gi4HRP6IR2kvDk9W/iaSgMhgF2D8eKvsc/PvFP+CdarTfx+U/WdMrreBIoL9INbDxw+mxPwLaYSsZhuI/jpD+t25N4b85/zxtyR8LwFnTK63gSKC/iaSgMhgF2D9Z0yut4Eigv4mkoDIYBdg/AtphKxmG4j9Z0yut4Eigv0g1sPHD6bE/WdMrreBIoL9Z0yut4Eigv1AEbk9SGcG/v2FzPaYJ6T9QBG5PUhnBv0g1sPHD6bE/X5nrXVAX3L/KE5FzbCDOv+CdarTfx+U/CKAh3IhU7r/KE5FzbCDOv/MxlbIny/C/WdMrreBIoL9Z0yut4Eigv21UB0E1j+S/iaSgMhgF2D+OAlisZT4MQFnTK63gSKC/jpD+t25N4b9Z0yut4Eigv6IR2kvDk9W/bVQHQTWP5L9INbDxw+mxP1+Z611QF9y/SDWw8cPpsT9Z0yut4EigvwLaYSsZhuI/8zGVsifL8L8eKvsc/PvFP1AEbk9SGcG/AtphKxmG4j+OkP63bk3hvyrcGFPCEuu/RiyyRKWI3j9QBG5PUhnBv1nTK63gSKC/SDWw8cPpsT/KE5FzbCDOv21UB0E1j+S/4J1qtN/H5T+foNNngp0KQFnTK63gSKC/yhORc2wgzr9QBG5PUhnBv46Q/rduTeG/sbmmxLRO979Z0yut4Eigv0YsskSliN4/ohHaS8OT1b9QBG5PUhnBv9L1nTvuDPS/Hir7HPz7xT9Z0yut4Eigv1nTK63gSKC/WdMrreBIoL/MHI8gi4HRP3zphE8zje8/X5nrXVAX3L9QBG5PUhnBv1nTK63gSKC/X5nrXVAX3L8eKvsc/PvFP4mkoDIYBdg/KtwYU8IS679jCvJBkQ0HwI6Q/rduTeG/SDWw8cPpsT/MHI8gi4HRPx4q+xz8+8U/DFj7RU7SE0CiEdpLw5PVv21UB0E1j+S/WdMrreBIoL+OkP63bk3hv9lJBPhm6gRAdKht/a1sBcDS9Z077gz0v21UB0E1j+S/WdMrreBIoL9QBG5PUhnBv6IR2kvDk9W/AtphKxmG4j8C2mErGYbiP8wcjyCLgdE/WdMrreBIoL9QBG5PUhnBv79hcz2mCek/RiyyRKWI3j9fmetdUBfcv+CdarTfx+U/zByPIIuB0T9QBG5PUhnBv50lfMZsS+w/nrMi0nVaAcCiEdpLw5PVv1nTK63gSKC/ohHaS8OT1b+/YXM9pgnpP+OTGfcKbPK/FSe5o9wBE0AC2mErGYbiPx4q+xz8+8U/SDWw8cPpsT9INbDxw+mxP1nTK63gSKC/yhORc2wgzr/KE5FzbCDOv1AEbk9SGcG/Hir7HPz7xT9INbDxw+mxP46Q/rduTeG/WdMrreBIoL+cOMswYAjzP8oTkXNsIM6/UARuT1IZwb9INbDxw+mxP46Q/rduTeG/WdMrreBIoL9GLLJEpYjeP8wcjyCLgdE/iaSgMhgF2D9QBG5PUhnBvx4q+xz8+8U/leRkdOcqAsBINbDxw+mxPx4q+xz8+8U/\",\"dtype\":\"float64\",\"order\":\"little\",\"shape\":[144]},\"seasonal\":[0,2,0,9,0,4,-3,-5,3,3,30,-4,-5,-1,-5,4,-1,0,-5,-8,-3,1,-3,-3,0,-2,0,5,-2,0,-5,-5,2,4,34,-4,-5,0,-4,14,-3,-1,-6,-6,3,3,-4,-4,-2,-6,0,1,-3,-4,-7,-6,1,4,34,-3,-5,0,-1,22,-5,-2,-6,-4,10,6,-5,-5,-4,-9,-2,0,-3,-4,-8,-6,2,2,21,-1,-2,0,2,20,-6,-1,-5,0,10,18,-2,-2,-8,-10,-6,-3,-4,-4,-7,-6,2,0,2,0,0,0,5,13,-3,0,-1,5,9,25,3,3,-12,-11,-10,-6,-4,-5,-7,-5,2,-2,-14,2,2,0,8,3,0,3,3,10,7,33,10,10],\"trend\":[8,8,8,8,8,8,8,8,9,9,9,9,9,9,9,9,9,9,10,10,10,10,10,10,10,11,11,11,11,11,11,11,11,11,11,11,11,12,12,12,12,12,12,12,12,12,13,13,13,13,12,12,12,12,12,12,12,12,12,12,12,12,12,12,12,12,12,12,12,12,12,12,12,12,12,12,12,13,13,13,13,13,13,14,14,14,14,14,15,15,15,15,16,16,16,16,16,16,16,17,17,17,17,17,17,17,17,17,16,16,16,16,16,15,15,14,14,13,12,12,11,10,9,8,7,6,5,4,3,2,1,0,-1,-2,-3,-4,-5,-6,-7,-8,-9,-10,-11,-13],\"weights\":[1,1,1,1,1,1,1,1,1,1,1,1,1,1,1,1,1,1,1,1,1,1,1,1,1,1,1,1,1,1,1,1,1,1,1,1,1,1,1,1,1,1,1,1,1,1,1,1,1,1,1,1,1,1,1,1,1,1,1,1,1,1,1,1,1,1,1,1,1,1,1,1,1,1,1,1,1,1,1,1,1,1,1,1,1,1,1,1,1,1,1,1,1,1,1,1,1,1,1,1,1,1,1,1,1,1,1,1,1,1,1,1,1,1,1,1,1,1,1,1,1,1,1,1,1,1,1,1,1,1,1,1,1,1,1,1,1,1,1,1,1,1,1,1]},\"selected\":{\"id\":\"2764\"},\"selection_policy\":{\"id\":\"2765\"}},\"id\":\"2714\",\"type\":\"ColumnDataSource\"},{\"attributes\":{},\"id\":\"2764\",\"type\":\"Selection\"},{\"attributes\":{\"days\":[\"%m-%d %H:%M\"],\"hours\":[\"%H:%M:%S\"],\"milliseconds\":[\"%H:%M:%S.%3N\"],\"minutes\":[\"%H:%M:%S\"],\"seconds\":[\"%H:%M:%S\"]},\"id\":\"2609\",\"type\":\"DatetimeTickFormatter\"},{\"attributes\":{\"num_minor_ticks\":5,\"tickers\":[{\"id\":\"2751\"},{\"id\":\"2752\"},{\"id\":\"2753\"},{\"id\":\"2754\"},{\"id\":\"2755\"},{\"id\":\"2756\"},{\"id\":\"2757\"},{\"id\":\"2758\"},{\"id\":\"2759\"},{\"id\":\"2760\"},{\"id\":\"2761\"},{\"id\":\"2762\"}]},\"id\":\"2707\",\"type\":\"DatetimeTicker\"},{\"attributes\":{},\"id\":\"2700\",\"type\":\"DataRange1d\"},{\"attributes\":{},\"id\":\"2599\",\"type\":\"SaveTool\"},{\"attributes\":{},\"id\":\"2693\",\"type\":\"UnionRenderers\"},{\"attributes\":{\"mantissas\":[1,2,5],\"max_interval\":500.0,\"num_minor_ticks\":0},\"id\":\"2751\",\"type\":\"AdaptiveTicker\"},{\"attributes\":{\"dimensions\":\"width\"},\"id\":\"2596\",\"type\":\"WheelZoomTool\"},{\"attributes\":{},\"id\":\"2702\",\"type\":\"LinearScale\"},{\"attributes\":{\"months\":[0,4,8]},\"id\":\"2760\",\"type\":\"MonthsTicker\"},{\"attributes\":{\"axis\":{\"id\":\"2706\"},\"ticker\":null},\"id\":\"2709\",\"type\":\"Grid\"},{\"attributes\":{\"days\":[1,15]},\"id\":\"2757\",\"type\":\"DaysTicker\"},{\"attributes\":{\"days\":[1,8,15,22]},\"id\":\"2756\",\"type\":\"DaysTicker\"},{\"attributes\":{\"label\":{\"value\":\"anomalies\"},\"renderers\":[{\"id\":\"2670\"}]},\"id\":\"2694\",\"type\":\"LegendItem\"},{\"attributes\":{\"fill_alpha\":{\"value\":0.2},\"fill_color\":{\"value\":\"firebrick\"},\"line_color\":{\"value\":\"firebrick\"},\"marker\":{\"value\":\"circle_x\"},\"size\":{\"value\":12},\"x\":{\"field\":\"TimeGenerated\"},\"y\":{\"field\":\"OfficeId\"}},\"id\":\"2668\",\"type\":\"Scatter\"},{\"attributes\":{},\"id\":\"2704\",\"type\":\"LinearScale\"},{\"attributes\":{},\"id\":\"2762\",\"type\":\"YearsTicker\"},{\"attributes\":{\"months\":[0,6]},\"id\":\"2761\",\"type\":\"MonthsTicker\"},{\"attributes\":{\"months\":[0,1,2,3,4,5,6,7,8,9,10,11]},\"id\":\"2758\",\"type\":\"MonthsTicker\"},{\"attributes\":{\"text\":\"Range Selector\"},\"id\":\"2696\",\"type\":\"Title\"},{\"attributes\":{\"days\":[1,2,3,4,5,6,7,8,9,10,11,12,13,14,15,16,17,18,19,20,21,22,23,24,25,26,27,28,29,30,31]},\"id\":\"2754\",\"type\":\"DaysTicker\"},{\"attributes\":{},\"id\":\"2692\",\"type\":\"Selection\"},{\"attributes\":{\"format\":\"00\"},\"id\":\"2611\",\"type\":\"NumeralTickFormatter\"},{\"attributes\":{\"fill_alpha\":{\"value\":0.1},\"fill_color\":{\"value\":\"firebrick\"},\"line_alpha\":{\"value\":0.1},\"line_color\":{\"value\":\"firebrick\"},\"marker\":{\"value\":\"circle_x\"},\"size\":{\"value\":12},\"x\":{\"field\":\"TimeGenerated\"},\"y\":{\"field\":\"OfficeId\"}},\"id\":\"2669\",\"type\":\"Scatter\"},{\"attributes\":{\"months\":[0,2,4,6,8,10]},\"id\":\"2759\",\"type\":\"MonthsTicker\"},{\"attributes\":{\"formatter\":{\"id\":\"2712\"},\"major_label_policy\":{\"id\":\"2732\"},\"ticker\":{\"id\":\"2707\"}},\"id\":\"2706\",\"type\":\"DatetimeAxis\"},{\"attributes\":{\"fill_color\":{\"value\":\"blue\"},\"line_color\":{\"value\":\"blue\"},\"x\":{\"field\":\"TimeGenerated\"},\"y\":{\"field\":\"score\"}},\"id\":\"2716\",\"type\":\"Circle\"},{\"attributes\":{\"num_minor_ticks\":10,\"tickers\":[{\"id\":\"2623\"},{\"id\":\"2624\"},{\"id\":\"2625\"},{\"id\":\"2626\"},{\"id\":\"2627\"},{\"id\":\"2628\"},{\"id\":\"2629\"},{\"id\":\"2630\"},{\"id\":\"2631\"},{\"id\":\"2632\"},{\"id\":\"2633\"},{\"id\":\"2634\"}]},\"id\":\"2589\",\"type\":\"DatetimeTicker\"},{\"attributes\":{\"data\":{\"OfficeId\":[9,14,6,23,10,21,5,5,19,8,6,5,8,8,8,21,7,11,5,2,5,20,6,9,6,6,20,8,7,1,7,5,8,21,81,7,1,11,5,20,10,7,8,7,23,6,11,7,17,1,5,20,7,8,7,4,7,24,81,10,5,11,5,20,7,16,2,7,10,22,7,7,7,7,21,8,8,8,1,9,21,8,7,7,13,18,19,85,6,8,10,10,53,8,2,8,8,5,7,21,19,16,10,10,29,22,15,25,20,15,31,9,9,17,11,28,12,86,23,18,0,0,0,0,0,0,0,0,0,0,0,0,0,0,0,0,0,0,0,0,0,0,0,0],\"TimeGenerated\":{\"__ndarray__\":\"qG4vgBm0d0KobhfvHLR3Qqhu/10gtHdCqG7nzCO0d0Kobs87J7R3Qqhut6oqtHdCqG6fGS60d0KoboeIMbR3Qqhub/c0tHdCqG5XZji0d0Kobj/VO7R3QqhuJ0Q/tHdCqG4Ps0K0d0KobvchRrR3Qqhu35BJtHdCqG7H/0y0d0Kobq9uULR3Qqhul91TtHdCqG5/TFe0d0Kobme7WrR3QqhuTypetHdCqG43mWG0d0Kobh8IZbR3QqhuB3dotHdCqG7v5Wu0d0KobtdUb7R3Qqhuv8NytHdCqG6nMna0d0Kobo+hebR3QqhudxB9tHdCqG5ff4C0d0Kobkfug7R3QqhuL12HtHdCqG4XzIq0d0Kobv86jrR3Qqhu56mRtHdCqG7PGJW0d0KobreHmLR3Qqhun/abtHdCqG6HZZ+0d0Kobm/UorR3QqhuV0OmtHdCqG4/sqm0d0KobichrbR3QqhuD5CwtHdCqG73/rO0d0Kobt9tt7R3Qqhux9y6tHdCqG6vS760d0Kobpe6wbR3QqhufynFtHdCqG5nmMi0d0Kobk8HzLR3QqhuN3bPtHdCqG4f5dK0d0KobgdU1rR3Qqhu78LZtHdCqG7XMd20d0Kobr+g4LR3Qqhupw/ktHdCqG6Pfue0d0Kobnft6rR3QqhuX1zutHdCqG5Hy/G0d0Kobi869bR3QqhuF6n4tHdCqG7/F/y0d0KobueG/7R3Qqhuz/UCtXdCqG63ZAa1d0Kobp/TCbV3Qqhuh0INtXdCqG5vsRC1d0KoblcgFLV3QqhuP48XtXdCqG4n/hq1d0Kobg9tHrV3Qqhu99shtXdCqG7fSiW1d0Kobse5KLV3QqhurygstXdCqG6Xly+1d0Kobn8GM7V3QqhuZ3U2tXdCqG5P5Dm1d0KobjdTPbV3QqhuH8JAtXdCqG4HMUS1d0Kobu+fR7V3Qqhu1w5LtXdCqG6/fU61d0KobqfsUbV3Qqhuj1tVtXdCqG53yli1d0Kobl85XLV3QqhuR6hftXdCqG4vF2O1d0KobheGZrV3Qqhu//RptXdCqG7nY221d0Kobs/ScLV3Qqhut0F0tXdCqG6fsHe1d0Kobocfe7V3Qqhub45+tXdCqG5X/YG1d0Kobj9shbV3QqhuJ9uItXdCqG4PSoy1d0Kobve4j7V3Qqhu3yeTtXdCqG7Hlpa1d0Kobq8FmrV3Qqhul3SdtXdCqG5/46C1d0KobmdSpLV3QqhuT8GntXdCqG43MKu1d0Kobh+frrV3QqhuBw6ytXdCqG7vfLW1d0KobtfruLV3Qqhuv1q8tXdCqG6nyb+1d0Kobo84w7V3Qqhud6fGtXdCqG5fFsq1d0KobkeFzbV3QqhuL/TQtXdCqG4XY9S1d0Kobv/R17V3Qqhu50DbtXdCqG7Pr961d0Kobrce4rV3Qqhun43ltXdCqG6H/Oi1d0Kobm9r7LV3QqhuV9rvtXdCqG4/SfO1d0Kobie49rV3QqhuDyf6tXdCqG73lf21d0Kobt8EAbZ3Qqhux3MEtndC\",\"dtype\":\"float64\",\"order\":\"little\",\"shape\":[144]},\"anomalies\":[0,0,0,0,0,0,0,0,0,0,0,0,0,0,0,0,0,0,0,0,0,0,0,0,0,0,0,0,0,0,0,0,0,0,1,0,0,0,0,0,0,0,0,0,0,0,0,0,0,0,0,0,0,0,0,0,0,0,1,0,0,0,0,0,0,0,0,0,0,0,0,0,0,0,0,0,0,0,0,0,0,0,0,0,0,0,0,1,0,0,0,0,0,0,0,0,0,0,0,0,0,0,0,0,0,0,0,0,0,0,0,0,0,0,0,0,0,1,0,0,0,0,0,0,0,0,0,0,0,0,0,0,0,0,0,0,0,0,0,0,0,0,0,0],\"baseline\":[8,10,9,18,7,13,5,3,12,13,39,4,3,7,3,14,7,9,4,1,6,11,7,7,10,8,12,17,9,11,6,5,14,16,45,7,6,11,8,26,8,11,6,6,16,16,8,8,10,6,13,14,8,8,5,6,13,16,47,9,7,12,10,34,6,10,5,8,22,19,6,7,7,3,10,12,9,8,5,6,16,16,35,12,11,14,16,35,9,14,10,15,26,34,14,14,8,6,10,14,12,12,9,11,20,16,19,17,16,16,21,30,12,16,14,19,23,38,16,15,-1,-1,0,2,2,1,-2,-1,5,0,-12,2,1,-1,5,0,-5,-3,-4,1,-2,22,-1,-2],\"index\":[0,1,2,3,4,5,6,7,8,9,10,11,12,13,14,15,16,17,18,19,20,21,22,23,24,25,26,27,28,29,30,31,32,33,34,35,36,37,38,39,40,41,42,43,44,45,46,47,48,49,50,51,52,53,54,55,56,57,58,59,60,61,62,63,64,65,66,67,68,69,70,71,72,73,74,75,76,77,78,79,80,81,82,83,84,85,86,87,88,89,90,91,92,93,94,95,96,97,98,99,100,101,102,103,104,105,106,107,108,109,110,111,112,113,114,115,116,117,118,119,120,121,122,123,124,125,126,127,128,129,130,131,132,133,134,135,136,137,138,139,140,141,142,143],\"residual\":[0,3,-3,4,2,7,0,1,6,-5,-33,0,4,0,4,6,0,1,0,0,-1,8,-1,1,-4,-2,7,-9,-2,-10,0,0,-6,4,35,0,-5,0,-3,-6,1,-4,1,0,6,-10,2,-1,6,-5,-8,5,-1,0,1,-2,-6,7,33,0,-2,-1,-5,-14,0,5,-3,-1,-12,2,0,0,0,3,10,-4,-1,0,-4,2,4,-8,-28,-5,1,3,2,49,-3,-6,0,-5,26,-26,-12,-6,0,-1,-3,6,6,3,0,-1,8,5,-4,7,3,-1,9,-21,-3,0,-3,8,-11,47,6,2,1,1,0,-2,-2,-1,2,1,-5,0,12,-2,-1,1,-5,0,5,3,4,-1,2,-22,1,2],\"score\":{\"__ndarray__\":\"WdMrreBIoL/MHI8gi4HRP6IR2kvDk9W/iaSgMhgF2D8eKvsc/PvFP+CdarTfx+U/WdMrreBIoL9INbDxw+mxPwLaYSsZhuI/jpD+t25N4b85/zxtyR8LwFnTK63gSKC/iaSgMhgF2D9Z0yut4Eigv4mkoDIYBdg/AtphKxmG4j9Z0yut4Eigv0g1sPHD6bE/WdMrreBIoL9Z0yut4Eigv1AEbk9SGcG/v2FzPaYJ6T9QBG5PUhnBv0g1sPHD6bE/X5nrXVAX3L/KE5FzbCDOv+CdarTfx+U/CKAh3IhU7r/KE5FzbCDOv/MxlbIny/C/WdMrreBIoL9Z0yut4Eigv21UB0E1j+S/iaSgMhgF2D+OAlisZT4MQFnTK63gSKC/jpD+t25N4b9Z0yut4Eigv6IR2kvDk9W/bVQHQTWP5L9INbDxw+mxP1+Z611QF9y/SDWw8cPpsT9Z0yut4EigvwLaYSsZhuI/8zGVsifL8L8eKvsc/PvFP1AEbk9SGcG/AtphKxmG4j+OkP63bk3hvyrcGFPCEuu/RiyyRKWI3j9QBG5PUhnBv1nTK63gSKC/SDWw8cPpsT/KE5FzbCDOv21UB0E1j+S/4J1qtN/H5T+foNNngp0KQFnTK63gSKC/yhORc2wgzr9QBG5PUhnBv46Q/rduTeG/sbmmxLRO979Z0yut4Eigv0YsskSliN4/ohHaS8OT1b9QBG5PUhnBv9L1nTvuDPS/Hir7HPz7xT9Z0yut4Eigv1nTK63gSKC/WdMrreBIoL/MHI8gi4HRP3zphE8zje8/X5nrXVAX3L9QBG5PUhnBv1nTK63gSKC/X5nrXVAX3L8eKvsc/PvFP4mkoDIYBdg/KtwYU8IS679jCvJBkQ0HwI6Q/rduTeG/SDWw8cPpsT/MHI8gi4HRPx4q+xz8+8U/DFj7RU7SE0CiEdpLw5PVv21UB0E1j+S/WdMrreBIoL+OkP63bk3hv9lJBPhm6gRAdKht/a1sBcDS9Z077gz0v21UB0E1j+S/WdMrreBIoL9QBG5PUhnBv6IR2kvDk9W/AtphKxmG4j8C2mErGYbiP8wcjyCLgdE/WdMrreBIoL9QBG5PUhnBv79hcz2mCek/RiyyRKWI3j9fmetdUBfcv+CdarTfx+U/zByPIIuB0T9QBG5PUhnBv50lfMZsS+w/nrMi0nVaAcCiEdpLw5PVv1nTK63gSKC/ohHaS8OT1b+/YXM9pgnpP+OTGfcKbPK/FSe5o9wBE0AC2mErGYbiPx4q+xz8+8U/SDWw8cPpsT9INbDxw+mxP1nTK63gSKC/yhORc2wgzr/KE5FzbCDOv1AEbk9SGcG/Hir7HPz7xT9INbDxw+mxP46Q/rduTeG/WdMrreBIoL+cOMswYAjzP8oTkXNsIM6/UARuT1IZwb9INbDxw+mxP46Q/rduTeG/WdMrreBIoL9GLLJEpYjeP8wcjyCLgdE/iaSgMhgF2D9QBG5PUhnBvx4q+xz8+8U/leRkdOcqAsBINbDxw+mxPx4q+xz8+8U/\",\"dtype\":\"float64\",\"order\":\"little\",\"shape\":[144]},\"seasonal\":[0,2,0,9,0,4,-3,-5,3,3,30,-4,-5,-1,-5,4,-1,0,-5,-8,-3,1,-3,-3,0,-2,0,5,-2,0,-5,-5,2,4,34,-4,-5,0,-4,14,-3,-1,-6,-6,3,3,-4,-4,-2,-6,0,1,-3,-4,-7,-6,1,4,34,-3,-5,0,-1,22,-5,-2,-6,-4,10,6,-5,-5,-4,-9,-2,0,-3,-4,-8,-6,2,2,21,-1,-2,0,2,20,-6,-1,-5,0,10,18,-2,-2,-8,-10,-6,-3,-4,-4,-7,-6,2,0,2,0,0,0,5,13,-3,0,-1,5,9,25,3,3,-12,-11,-10,-6,-4,-5,-7,-5,2,-2,-14,2,2,0,8,3,0,3,3,10,7,33,10,10],\"trend\":[8,8,8,8,8,8,8,8,9,9,9,9,9,9,9,9,9,9,10,10,10,10,10,10,10,11,11,11,11,11,11,11,11,11,11,11,11,12,12,12,12,12,12,12,12,12,13,13,13,13,12,12,12,12,12,12,12,12,12,12,12,12,12,12,12,12,12,12,12,12,12,12,12,12,12,12,12,13,13,13,13,13,13,14,14,14,14,14,15,15,15,15,16,16,16,16,16,16,16,17,17,17,17,17,17,17,17,17,16,16,16,16,16,15,15,14,14,13,12,12,11,10,9,8,7,6,5,4,3,2,1,0,-1,-2,-3,-4,-5,-6,-7,-8,-9,-10,-11,-13],\"weights\":[1,1,1,1,1,1,1,1,1,1,1,1,1,1,1,1,1,1,1,1,1,1,1,1,1,1,1,1,1,1,1,1,1,1,1,1,1,1,1,1,1,1,1,1,1,1,1,1,1,1,1,1,1,1,1,1,1,1,1,1,1,1,1,1,1,1,1,1,1,1,1,1,1,1,1,1,1,1,1,1,1,1,1,1,1,1,1,1,1,1,1,1,1,1,1,1,1,1,1,1,1,1,1,1,1,1,1,1,1,1,1,1,1,1,1,1,1,1,1,1,1,1,1,1,1,1,1,1,1,1,1,1,1,1,1,1,1,1,1,1,1,1,1,1]},\"selected\":{\"id\":\"2636\"},\"selection_policy\":{\"id\":\"2637\"}},\"id\":\"2575\",\"type\":\"ColumnDataSource\"},{\"attributes\":{\"fill_alpha\":0.2,\"fill_color\":\"navy\",\"level\":\"overlay\",\"line_alpha\":1.0,\"line_color\":\"black\",\"line_dash\":[2,2],\"line_width\":0.5,\"syncable\":false},\"id\":\"2721\",\"type\":\"BoxAnnotation\"},{\"attributes\":{\"active_multi\":{\"id\":\"2720\"},\"tools\":[{\"id\":\"2720\"}]},\"id\":\"2710\",\"type\":\"Toolbar\"},{\"attributes\":{\"end\":1629433626454.916,\"start\":1628867346454.916},\"id\":\"2580\",\"type\":\"Range1d\"},{\"attributes\":{},\"id\":\"2598\",\"type\":\"ResetTool\"},{\"attributes\":{\"below\":[{\"id\":\"2588\"}],\"center\":[{\"id\":\"2591\"},{\"id\":\"2595\"},{\"id\":\"2638\"}],\"height\":300,\"left\":[{\"id\":\"2592\"}],\"min_border_left\":50,\"renderers\":[{\"id\":\"2616\"},{\"id\":\"2643\"},{\"id\":\"2670\"}],\"title\":{\"id\":\"2578\"},\"toolbar\":{\"id\":\"2602\"},\"toolbar_location\":\"above\",\"width\":1200,\"x_range\":{\"id\":\"2580\"},\"x_scale\":{\"id\":\"2584\"},\"y_range\":{\"id\":\"2582\"},\"y_scale\":{\"id\":\"2586\"}},\"id\":\"2577\",\"subtype\":\"Figure\",\"type\":\"Plot\"},{\"attributes\":{\"overlay\":{\"id\":\"2721\"},\"x_range\":{\"id\":\"2580\"},\"y_range\":null},\"id\":\"2720\",\"type\":\"RangeTool\"},{\"attributes\":{\"base\":24,\"mantissas\":[1,2,4,6,8,12],\"max_interval\":43200000.0,\"min_interval\":3600000.0,\"num_minor_ticks\":0},\"id\":\"2753\",\"type\":\"AdaptiveTicker\"},{\"attributes\":{\"text\":\"Time Series Anomalies Visualization\"},\"id\":\"2578\",\"type\":\"Title\"},{\"attributes\":{\"data_source\":{\"id\":\"2666\"},\"glyph\":{\"id\":\"2668\"},\"hover_glyph\":null,\"muted_glyph\":null,\"nonselection_glyph\":{\"id\":\"2669\"},\"view\":{\"id\":\"2671\"}},\"id\":\"2670\",\"type\":\"GlyphRenderer\"},{\"attributes\":{\"overlay\":{\"id\":\"2601\"}},\"id\":\"2597\",\"type\":\"BoxZoomTool\"},{\"attributes\":{\"below\":[{\"id\":\"2706\"},{\"id\":\"2711\"}],\"center\":[{\"id\":\"2709\"}],\"height\":120,\"renderers\":[{\"id\":\"2718\"}],\"title\":{\"id\":\"2696\"},\"toolbar\":{\"id\":\"2710\"},\"toolbar_location\":null,\"width\":1200,\"x_range\":{\"id\":\"2698\"},\"x_scale\":{\"id\":\"2702\"},\"y_range\":{\"id\":\"2700\"},\"y_scale\":{\"id\":\"2704\"}},\"id\":\"2695\",\"subtype\":\"Figure\",\"type\":\"Plot\"},{\"attributes\":{},\"id\":\"2765\",\"type\":\"UnionRenderers\"},{\"attributes\":{},\"id\":\"2582\",\"type\":\"DataRange1d\"},{\"attributes\":{\"days\":[\"%m-%d %H:%M\"],\"hours\":[\"%H:%M:%S\"],\"milliseconds\":[\"%H:%M:%S.%3N\"],\"minutes\":[\"%H:%M:%S\"],\"seconds\":[\"%H:%M:%S\"]},\"id\":\"2712\",\"type\":\"DatetimeTickFormatter\"},{\"attributes\":{},\"id\":\"2732\",\"type\":\"AllLabels\"},{\"attributes\":{\"source\":{\"id\":\"2666\"}},\"id\":\"2671\",\"type\":\"CDSView\"},{\"attributes\":{\"axis_label\":\"TimeGenerated\",\"formatter\":{\"id\":\"2609\"},\"major_label_policy\":{\"id\":\"2619\"},\"ticker\":{\"id\":\"2589\"}},\"id\":\"2588\",\"type\":\"DatetimeAxis\"},{\"attributes\":{\"days\":[1,4,7,10,13,16,19,22,25,28]},\"id\":\"2755\",\"type\":\"DaysTicker\"},{\"attributes\":{\"axis\":{\"id\":\"2592\"},\"dimension\":1,\"grid_line_color\":null,\"ticker\":null},\"id\":\"2595\",\"type\":\"Grid\"},{\"attributes\":{\"align\":\"right\",\"text\":\"Drag the middle or edges of the selection box to change the range in the main chart\",\"text_font_size\":\"10px\"},\"id\":\"2711\",\"type\":\"Title\"},{\"attributes\":{\"base\":60,\"mantissas\":[1,2,5,10,15,20,30],\"max_interval\":1800000.0,\"min_interval\":1000.0,\"num_minor_ticks\":0},\"id\":\"2752\",\"type\":\"AdaptiveTicker\"},{\"attributes\":{},\"id\":\"2584\",\"type\":\"LinearScale\"},{\"attributes\":{\"end\":1629485106454.916,\"start\":1628815866454.916},\"id\":\"2698\",\"type\":\"Range1d\"},{\"attributes\":{\"data_source\":{\"id\":\"2575\"},\"glyph\":{\"id\":\"2641\"},\"hover_glyph\":null,\"muted_glyph\":null,\"nonselection_glyph\":{\"id\":\"2642\"},\"view\":{\"id\":\"2644\"}},\"id\":\"2643\",\"type\":\"GlyphRenderer\"},{\"attributes\":{\"bottom_units\":\"screen\",\"fill_alpha\":0.5,\"fill_color\":\"lightgrey\",\"left_units\":\"screen\",\"level\":\"overlay\",\"line_alpha\":1.0,\"line_color\":\"black\",\"line_dash\":[4,4],\"line_width\":2,\"right_units\":\"screen\",\"syncable\":false,\"top_units\":\"screen\"},\"id\":\"2601\",\"type\":\"BoxAnnotation\"},{\"attributes\":{},\"id\":\"2593\",\"type\":\"BasicTicker\"},{\"attributes\":{\"source\":{\"id\":\"2714\"}},\"id\":\"2719\",\"type\":\"CDSView\"},{\"attributes\":{\"base\":24,\"mantissas\":[1,2,4,6,8,12],\"max_interval\":43200000.0,\"min_interval\":3600000.0,\"num_minor_ticks\":0},\"id\":\"2625\",\"type\":\"AdaptiveTicker\"},{\"attributes\":{\"fill_color\":{\"value\":\"#1f77b4\"},\"line_color\":{\"value\":\"navy\"},\"x\":{\"field\":\"TimeGenerated\"},\"y\":{\"field\":\"OfficeId\"}},\"id\":\"2614\",\"type\":\"Circle\"},{\"attributes\":{\"data\":{\"OfficeId\":[81,81,85,86],\"TimeGenerated\":{\"__ndarray__\":\"qG7/Oo60d0Kobr+g4LR3QqhuBzFEtXdCqG43MKu1d0I=\",\"dtype\":\"float64\",\"order\":\"little\",\"shape\":[4]},\"baseline\":[45,47,35,38],\"index\":[34,58,87,117],\"level_0\":[0,1,2,3],\"residual\":[35,33,49,47],\"score\":{\"__ndarray__\":\"jgJYrGU+DECfoNNngp0KQAxY+0VO0hNAFSe5o9wBE0A=\",\"dtype\":\"float64\",\"order\":\"little\",\"shape\":[4]},\"seasonal\":[34,34,20,25],\"trend\":[11,12,14,13],\"weights\":[1,1,1,1]},\"selected\":{\"id\":\"2692\"},\"selection_policy\":{\"id\":\"2693\"}},\"id\":\"2666\",\"type\":\"ColumnDataSource\"},{\"attributes\":{\"days\":[1,2,3,4,5,6,7,8,9,10,11,12,13,14,15,16,17,18,19,20,21,22,23,24,25,26,27,28,29,30,31]},\"id\":\"2626\",\"type\":\"DaysTicker\"},{\"attributes\":{\"months\":[0,6]},\"id\":\"2633\",\"type\":\"MonthsTicker\"},{\"attributes\":{\"label\":{\"value\":\"observed\"},\"renderers\":[{\"id\":\"2616\"}]},\"id\":\"2639\",\"type\":\"LegendItem\"},{\"attributes\":{\"click_policy\":\"hide\",\"items\":[{\"id\":\"2639\"},{\"id\":\"2665\"},{\"id\":\"2694\"}],\"location\":\"top_left\"},\"id\":\"2638\",\"type\":\"Legend\"},{\"attributes\":{\"axis_label\":\"OfficeId\",\"formatter\":{\"id\":\"2611\"},\"major_label_policy\":{\"id\":\"2621\"},\"ticker\":{\"id\":\"2593\"}},\"id\":\"2592\",\"type\":\"LinearAxis\"},{\"attributes\":{\"line_alpha\":0.1,\"line_color\":\"green\",\"x\":{\"field\":\"TimeGenerated\"},\"y\":{\"field\":\"baseline\"}},\"id\":\"2642\",\"type\":\"Line\"},{\"attributes\":{},\"id\":\"2634\",\"type\":\"YearsTicker\"},{\"attributes\":{\"fill_alpha\":{\"value\":0.1},\"fill_color\":{\"value\":\"#1f77b4\"},\"line_alpha\":{\"value\":0.1},\"line_color\":{\"value\":\"navy\"},\"x\":{\"field\":\"TimeGenerated\"},\"y\":{\"field\":\"OfficeId\"}},\"id\":\"2615\",\"type\":\"Circle\"},{\"attributes\":{\"days\":[1,8,15,22]},\"id\":\"2628\",\"type\":\"DaysTicker\"},{\"attributes\":{\"months\":[0,4,8]},\"id\":\"2632\",\"type\":\"MonthsTicker\"},{\"attributes\":{\"axis\":{\"id\":\"2588\"},\"grid_line_color\":null,\"ticker\":null},\"id\":\"2591\",\"type\":\"Grid\"},{\"attributes\":{\"data_source\":{\"id\":\"2575\"},\"glyph\":{\"id\":\"2614\"},\"hover_glyph\":null,\"muted_glyph\":null,\"nonselection_glyph\":{\"id\":\"2615\"},\"view\":{\"id\":\"2617\"}},\"id\":\"2616\",\"type\":\"GlyphRenderer\"},{\"attributes\":{\"months\":[0,1,2,3,4,5,6,7,8,9,10,11]},\"id\":\"2630\",\"type\":\"MonthsTicker\"},{\"attributes\":{\"label\":{\"value\":\"baseline\"},\"renderers\":[{\"id\":\"2643\"}]},\"id\":\"2665\",\"type\":\"LegendItem\"},{\"attributes\":{\"callback\":null,\"formatters\":{\"@TimeGenerated\":\"datetime\"},\"tooltips\":[[\"TimeGenerated\",\"@TimeGenerated{%F %T.%3N}\"],[\"OfficeId\",\"@OfficeId\"],[\"residual\",\"@residual\"],[\"trend\",\"@trend\"],[\"seasonal\",\"@seasonal\"],[\"weights\",\"@weights\"],[\"score\",\"@score\"],[\"baseline\",\"@baseline\"]]},\"id\":\"2576\",\"type\":\"HoverTool\"},{\"attributes\":{\"days\":[1,15]},\"id\":\"2629\",\"type\":\"DaysTicker\"},{\"attributes\":{\"data_source\":{\"id\":\"2714\"},\"glyph\":{\"id\":\"2716\"},\"hover_glyph\":null,\"muted_glyph\":null,\"nonselection_glyph\":{\"id\":\"2717\"},\"view\":{\"id\":\"2719\"}},\"id\":\"2718\",\"type\":\"GlyphRenderer\"},{\"attributes\":{\"line_color\":\"green\",\"x\":{\"field\":\"TimeGenerated\"},\"y\":{\"field\":\"baseline\"}},\"id\":\"2641\",\"type\":\"Line\"},{\"attributes\":{},\"id\":\"2637\",\"type\":\"UnionRenderers\"},{\"attributes\":{},\"id\":\"2619\",\"type\":\"AllLabels\"},{\"attributes\":{\"fill_alpha\":{\"value\":0.1},\"fill_color\":{\"value\":\"blue\"},\"line_alpha\":{\"value\":0.1},\"line_color\":{\"value\":\"blue\"},\"x\":{\"field\":\"TimeGenerated\"},\"y\":{\"field\":\"score\"}},\"id\":\"2717\",\"type\":\"Circle\"},{\"attributes\":{\"days\":[1,4,7,10,13,16,19,22,25,28]},\"id\":\"2627\",\"type\":\"DaysTicker\"},{\"attributes\":{\"active_multi\":null,\"tools\":[{\"id\":\"2576\"},{\"id\":\"2596\"},{\"id\":\"2597\"},{\"id\":\"2598\"},{\"id\":\"2599\"},{\"id\":\"2600\"}]},\"id\":\"2602\",\"type\":\"Toolbar\"},{\"attributes\":{\"source\":{\"id\":\"2575\"}},\"id\":\"2644\",\"type\":\"CDSView\"},{\"attributes\":{\"source\":{\"id\":\"2575\"}},\"id\":\"2617\",\"type\":\"CDSView\"},{\"attributes\":{\"months\":[0,2,4,6,8,10]},\"id\":\"2631\",\"type\":\"MonthsTicker\"},{\"attributes\":{\"dimensions\":\"width\"},\"id\":\"2600\",\"type\":\"PanTool\"},{\"attributes\":{},\"id\":\"2636\",\"type\":\"Selection\"},{\"attributes\":{\"base\":60,\"mantissas\":[1,2,5,10,15,20,30],\"max_interval\":1800000.0,\"min_interval\":1000.0,\"num_minor_ticks\":0},\"id\":\"2624\",\"type\":\"AdaptiveTicker\"},{\"attributes\":{},\"id\":\"2621\",\"type\":\"AllLabels\"},{\"attributes\":{\"mantissas\":[1,2,5],\"max_interval\":500.0,\"num_minor_ticks\":0},\"id\":\"2623\",\"type\":\"AdaptiveTicker\"}],\"root_ids\":[\"2725\"]},\"title\":\"Bokeh Application\",\"version\":\"2.3.3\"}};\n",
       "  var render_items = [{\"docid\":\"14989f17-2c99-4a5a-ac10-f9c3058dc932\",\"root_ids\":[\"2725\"],\"roots\":{\"2725\":\"0d01503a-7f7e-4b6a-bab3-c0c2c7a10763\"}}];\n",
       "  root.Bokeh.embed.embed_items_notebook(docs_json, render_items);\n",
       "\n",
       "  }\n",
       "  if (root.Bokeh !== undefined) {\n",
       "    embed_document(root);\n",
       "  } else {\n",
       "    var attempts = 0;\n",
       "    var timer = setInterval(function(root) {\n",
       "      if (root.Bokeh !== undefined) {\n",
       "        clearInterval(timer);\n",
       "        embed_document(root);\n",
       "      } else {\n",
       "        attempts++;\n",
       "        if (attempts > 100) {\n",
       "          clearInterval(timer);\n",
       "          console.log(\"Bokeh: ERROR: Unable to run BokehJS code because BokehJS library is missing\");\n",
       "        }\n",
       "      }\n",
       "    }, 10, root)\n",
       "  }\n",
       "})(window);"
      ],
      "application/vnd.bokehjs_exec.v0+json": ""
     },
     "metadata": {
      "application/vnd.bokehjs_exec.v0+json": {
       "id": "2725"
      }
     },
     "output_type": "display_data"
    },
    {
     "name": "stdout",
     "output_type": "stream",
     "text": [
      "\n",
      "Time Series for Operation\n",
      "\n"
     ]
    },
    {
     "data": {
      "text/html": [
       "\n",
       "    <div class=\"bk-root\">\n",
       "        <a href=\"https://bokeh.org\" target=\"_blank\" class=\"bk-logo bk-logo-small bk-logo-notebook\"></a>\n",
       "        <span id=\"2967\">Loading BokehJS ...</span>\n",
       "    </div>"
      ]
     },
     "metadata": {},
     "output_type": "display_data"
    },
    {
     "data": {
      "application/javascript": [
       "\n",
       "(function(root) {\n",
       "  function now() {\n",
       "    return new Date();\n",
       "  }\n",
       "\n",
       "  var force = true;\n",
       "\n",
       "  if (typeof root._bokeh_onload_callbacks === \"undefined\" || force === true) {\n",
       "    root._bokeh_onload_callbacks = [];\n",
       "    root._bokeh_is_loading = undefined;\n",
       "  }\n",
       "\n",
       "  var JS_MIME_TYPE = 'application/javascript';\n",
       "  var HTML_MIME_TYPE = 'text/html';\n",
       "  var EXEC_MIME_TYPE = 'application/vnd.bokehjs_exec.v0+json';\n",
       "  var CLASS_NAME = 'output_bokeh rendered_html';\n",
       "\n",
       "  /**\n",
       "   * Render data to the DOM node\n",
       "   */\n",
       "  function render(props, node) {\n",
       "    var script = document.createElement(\"script\");\n",
       "    node.appendChild(script);\n",
       "  }\n",
       "\n",
       "  /**\n",
       "   * Handle when an output is cleared or removed\n",
       "   */\n",
       "  function handleClearOutput(event, handle) {\n",
       "    var cell = handle.cell;\n",
       "\n",
       "    var id = cell.output_area._bokeh_element_id;\n",
       "    var server_id = cell.output_area._bokeh_server_id;\n",
       "    // Clean up Bokeh references\n",
       "    if (id != null && id in Bokeh.index) {\n",
       "      Bokeh.index[id].model.document.clear();\n",
       "      delete Bokeh.index[id];\n",
       "    }\n",
       "\n",
       "    if (server_id !== undefined) {\n",
       "      // Clean up Bokeh references\n",
       "      var cmd = \"from bokeh.io.state import curstate; print(curstate().uuid_to_server['\" + server_id + \"'].get_sessions()[0].document.roots[0]._id)\";\n",
       "      cell.notebook.kernel.execute(cmd, {\n",
       "        iopub: {\n",
       "          output: function(msg) {\n",
       "            var id = msg.content.text.trim();\n",
       "            if (id in Bokeh.index) {\n",
       "              Bokeh.index[id].model.document.clear();\n",
       "              delete Bokeh.index[id];\n",
       "            }\n",
       "          }\n",
       "        }\n",
       "      });\n",
       "      // Destroy server and session\n",
       "      var cmd = \"import bokeh.io.notebook as ion; ion.destroy_server('\" + server_id + \"')\";\n",
       "      cell.notebook.kernel.execute(cmd);\n",
       "    }\n",
       "  }\n",
       "\n",
       "  /**\n",
       "   * Handle when a new output is added\n",
       "   */\n",
       "  function handleAddOutput(event, handle) {\n",
       "    var output_area = handle.output_area;\n",
       "    var output = handle.output;\n",
       "\n",
       "    // limit handleAddOutput to display_data with EXEC_MIME_TYPE content only\n",
       "    if ((output.output_type != \"display_data\") || (!Object.prototype.hasOwnProperty.call(output.data, EXEC_MIME_TYPE))) {\n",
       "      return\n",
       "    }\n",
       "\n",
       "    var toinsert = output_area.element.find(\".\" + CLASS_NAME.split(' ')[0]);\n",
       "\n",
       "    if (output.metadata[EXEC_MIME_TYPE][\"id\"] !== undefined) {\n",
       "      toinsert[toinsert.length - 1].firstChild.textContent = output.data[JS_MIME_TYPE];\n",
       "      // store reference to embed id on output_area\n",
       "      output_area._bokeh_element_id = output.metadata[EXEC_MIME_TYPE][\"id\"];\n",
       "    }\n",
       "    if (output.metadata[EXEC_MIME_TYPE][\"server_id\"] !== undefined) {\n",
       "      var bk_div = document.createElement(\"div\");\n",
       "      bk_div.innerHTML = output.data[HTML_MIME_TYPE];\n",
       "      var script_attrs = bk_div.children[0].attributes;\n",
       "      for (var i = 0; i < script_attrs.length; i++) {\n",
       "        toinsert[toinsert.length - 1].firstChild.setAttribute(script_attrs[i].name, script_attrs[i].value);\n",
       "        toinsert[toinsert.length - 1].firstChild.textContent = bk_div.children[0].textContent\n",
       "      }\n",
       "      // store reference to server id on output_area\n",
       "      output_area._bokeh_server_id = output.metadata[EXEC_MIME_TYPE][\"server_id\"];\n",
       "    }\n",
       "  }\n",
       "\n",
       "  function register_renderer(events, OutputArea) {\n",
       "\n",
       "    function append_mime(data, metadata, element) {\n",
       "      // create a DOM node to render to\n",
       "      var toinsert = this.create_output_subarea(\n",
       "        metadata,\n",
       "        CLASS_NAME,\n",
       "        EXEC_MIME_TYPE\n",
       "      );\n",
       "      this.keyboard_manager.register_events(toinsert);\n",
       "      // Render to node\n",
       "      var props = {data: data, metadata: metadata[EXEC_MIME_TYPE]};\n",
       "      render(props, toinsert[toinsert.length - 1]);\n",
       "      element.append(toinsert);\n",
       "      return toinsert\n",
       "    }\n",
       "\n",
       "    /* Handle when an output is cleared or removed */\n",
       "    events.on('clear_output.CodeCell', handleClearOutput);\n",
       "    events.on('delete.Cell', handleClearOutput);\n",
       "\n",
       "    /* Handle when a new output is added */\n",
       "    events.on('output_added.OutputArea', handleAddOutput);\n",
       "\n",
       "    /**\n",
       "     * Register the mime type and append_mime function with output_area\n",
       "     */\n",
       "    OutputArea.prototype.register_mime_type(EXEC_MIME_TYPE, append_mime, {\n",
       "      /* Is output safe? */\n",
       "      safe: true,\n",
       "      /* Index of renderer in `output_area.display_order` */\n",
       "      index: 0\n",
       "    });\n",
       "  }\n",
       "\n",
       "  // register the mime type if in Jupyter Notebook environment and previously unregistered\n",
       "  if (root.Jupyter !== undefined) {\n",
       "    var events = require('base/js/events');\n",
       "    var OutputArea = require('notebook/js/outputarea').OutputArea;\n",
       "\n",
       "    if (OutputArea.prototype.mime_types().indexOf(EXEC_MIME_TYPE) == -1) {\n",
       "      register_renderer(events, OutputArea);\n",
       "    }\n",
       "  }\n",
       "\n",
       "  \n",
       "  if (typeof (root._bokeh_timeout) === \"undefined\" || force === true) {\n",
       "    root._bokeh_timeout = Date.now() + 5000;\n",
       "    root._bokeh_failed_load = false;\n",
       "  }\n",
       "\n",
       "  var NB_LOAD_WARNING = {'data': {'text/html':\n",
       "     \"<div style='background-color: #fdd'>\\n\"+\n",
       "     \"<p>\\n\"+\n",
       "     \"BokehJS does not appear to have successfully loaded. If loading BokehJS from CDN, this \\n\"+\n",
       "     \"may be due to a slow or bad network connection. Possible fixes:\\n\"+\n",
       "     \"</p>\\n\"+\n",
       "     \"<ul>\\n\"+\n",
       "     \"<li>re-rerun `output_notebook()` to attempt to load from CDN again, or</li>\\n\"+\n",
       "     \"<li>use INLINE resources instead, as so:</li>\\n\"+\n",
       "     \"</ul>\\n\"+\n",
       "     \"<code>\\n\"+\n",
       "     \"from bokeh.resources import INLINE\\n\"+\n",
       "     \"output_notebook(resources=INLINE)\\n\"+\n",
       "     \"</code>\\n\"+\n",
       "     \"</div>\"}};\n",
       "\n",
       "  function display_loaded() {\n",
       "    var el = document.getElementById(\"2967\");\n",
       "    if (el != null) {\n",
       "      el.textContent = \"BokehJS is loading...\";\n",
       "    }\n",
       "    if (root.Bokeh !== undefined) {\n",
       "      if (el != null) {\n",
       "        el.textContent = \"BokehJS \" + root.Bokeh.version + \" successfully loaded.\";\n",
       "      }\n",
       "    } else if (Date.now() < root._bokeh_timeout) {\n",
       "      setTimeout(display_loaded, 100)\n",
       "    }\n",
       "  }\n",
       "\n",
       "\n",
       "  function run_callbacks() {\n",
       "    try {\n",
       "      root._bokeh_onload_callbacks.forEach(function(callback) {\n",
       "        if (callback != null)\n",
       "          callback();\n",
       "      });\n",
       "    } finally {\n",
       "      delete root._bokeh_onload_callbacks\n",
       "    }\n",
       "    console.debug(\"Bokeh: all callbacks have finished\");\n",
       "  }\n",
       "\n",
       "  function load_libs(css_urls, js_urls, callback) {\n",
       "    if (css_urls == null) css_urls = [];\n",
       "    if (js_urls == null) js_urls = [];\n",
       "\n",
       "    root._bokeh_onload_callbacks.push(callback);\n",
       "    if (root._bokeh_is_loading > 0) {\n",
       "      console.debug(\"Bokeh: BokehJS is being loaded, scheduling callback at\", now());\n",
       "      return null;\n",
       "    }\n",
       "    if (js_urls == null || js_urls.length === 0) {\n",
       "      run_callbacks();\n",
       "      return null;\n",
       "    }\n",
       "    console.debug(\"Bokeh: BokehJS not loaded, scheduling load and callback at\", now());\n",
       "    root._bokeh_is_loading = css_urls.length + js_urls.length;\n",
       "\n",
       "    function on_load() {\n",
       "      root._bokeh_is_loading--;\n",
       "      if (root._bokeh_is_loading === 0) {\n",
       "        console.debug(\"Bokeh: all BokehJS libraries/stylesheets loaded\");\n",
       "        run_callbacks()\n",
       "      }\n",
       "    }\n",
       "\n",
       "    function on_error(url) {\n",
       "      console.error(\"failed to load \" + url);\n",
       "    }\n",
       "\n",
       "    for (let i = 0; i < css_urls.length; i++) {\n",
       "      const url = css_urls[i];\n",
       "      const element = document.createElement(\"link\");\n",
       "      element.onload = on_load;\n",
       "      element.onerror = on_error.bind(null, url);\n",
       "      element.rel = \"stylesheet\";\n",
       "      element.type = \"text/css\";\n",
       "      element.href = url;\n",
       "      console.debug(\"Bokeh: injecting link tag for BokehJS stylesheet: \", url);\n",
       "      document.body.appendChild(element);\n",
       "    }\n",
       "\n",
       "    const hashes = {\"https://cdn.bokeh.org/bokeh/release/bokeh-2.3.3.min.js\": \"dM3QQsP+wXdHg42wTqW85BjZQdLNNIXqlPw/BgKoExPmTG7ZLML4EGqLMfqHT6ON\", \"https://cdn.bokeh.org/bokeh/release/bokeh-tables-2.3.3.min.js\": \"8x57I4YuIfu8XyZfFo0XVr2WAT8EK4rh/uDe3wF7YuW2FNUSNEpJbsPaB1nJ2fz2\", \"https://cdn.bokeh.org/bokeh/release/bokeh-widgets-2.3.3.min.js\": \"3QTqdz9LyAm2i0sG5XTePsHec3UHWwVsrOL68SYRoAXsafvfAyqtQ+h440+qIBhS\"};\n",
       "\n",
       "    for (let i = 0; i < js_urls.length; i++) {\n",
       "      const url = js_urls[i];\n",
       "      const element = document.createElement('script');\n",
       "      element.onload = on_load;\n",
       "      element.onerror = on_error.bind(null, url);\n",
       "      element.async = false;\n",
       "      element.src = url;\n",
       "      if (url in hashes) {\n",
       "        element.crossOrigin = \"anonymous\";\n",
       "        element.integrity = \"sha384-\" + hashes[url];\n",
       "      }\n",
       "      console.debug(\"Bokeh: injecting script tag for BokehJS library: \", url);\n",
       "      document.head.appendChild(element);\n",
       "    }\n",
       "  };\n",
       "\n",
       "  function inject_raw_css(css) {\n",
       "    const element = document.createElement(\"style\");\n",
       "    element.appendChild(document.createTextNode(css));\n",
       "    document.body.appendChild(element);\n",
       "  }\n",
       "\n",
       "  \n",
       "  var js_urls = [\"https://cdn.bokeh.org/bokeh/release/bokeh-2.3.3.min.js\", \"https://cdn.bokeh.org/bokeh/release/bokeh-widgets-2.3.3.min.js\", \"https://cdn.bokeh.org/bokeh/release/bokeh-tables-2.3.3.min.js\"];\n",
       "  var css_urls = [];\n",
       "  \n",
       "\n",
       "  var inline_js = [\n",
       "    function(Bokeh) {\n",
       "      Bokeh.set_log_level(\"info\");\n",
       "    },\n",
       "    function(Bokeh) {\n",
       "    \n",
       "    \n",
       "    }\n",
       "  ];\n",
       "\n",
       "  function run_inline_js() {\n",
       "    \n",
       "    if (root.Bokeh !== undefined || force === true) {\n",
       "      \n",
       "    for (var i = 0; i < inline_js.length; i++) {\n",
       "      inline_js[i].call(root, root.Bokeh);\n",
       "    }\n",
       "    if (force === true) {\n",
       "        display_loaded();\n",
       "      }} else if (Date.now() < root._bokeh_timeout) {\n",
       "      setTimeout(run_inline_js, 100);\n",
       "    } else if (!root._bokeh_failed_load) {\n",
       "      console.log(\"Bokeh: BokehJS failed to load within specified timeout.\");\n",
       "      root._bokeh_failed_load = true;\n",
       "    } else if (force !== true) {\n",
       "      var cell = $(document.getElementById(\"2967\")).parents('.cell').data().cell;\n",
       "      cell.output_area.append_execute_result(NB_LOAD_WARNING)\n",
       "    }\n",
       "\n",
       "  }\n",
       "\n",
       "  if (root._bokeh_is_loading === 0) {\n",
       "    console.debug(\"Bokeh: BokehJS loaded, going straight to plotting\");\n",
       "    run_inline_js();\n",
       "  } else {\n",
       "    load_libs(css_urls, js_urls, function() {\n",
       "      console.debug(\"Bokeh: BokehJS plotting callback run at\", now());\n",
       "      run_inline_js();\n",
       "    });\n",
       "  }\n",
       "}(window));"
      ],
      "application/vnd.bokehjs_load.v0+json": "\n(function(root) {\n  function now() {\n    return new Date();\n  }\n\n  var force = true;\n\n  if (typeof root._bokeh_onload_callbacks === \"undefined\" || force === true) {\n    root._bokeh_onload_callbacks = [];\n    root._bokeh_is_loading = undefined;\n  }\n\n  \n\n  \n  if (typeof (root._bokeh_timeout) === \"undefined\" || force === true) {\n    root._bokeh_timeout = Date.now() + 5000;\n    root._bokeh_failed_load = false;\n  }\n\n  var NB_LOAD_WARNING = {'data': {'text/html':\n     \"<div style='background-color: #fdd'>\\n\"+\n     \"<p>\\n\"+\n     \"BokehJS does not appear to have successfully loaded. If loading BokehJS from CDN, this \\n\"+\n     \"may be due to a slow or bad network connection. Possible fixes:\\n\"+\n     \"</p>\\n\"+\n     \"<ul>\\n\"+\n     \"<li>re-rerun `output_notebook()` to attempt to load from CDN again, or</li>\\n\"+\n     \"<li>use INLINE resources instead, as so:</li>\\n\"+\n     \"</ul>\\n\"+\n     \"<code>\\n\"+\n     \"from bokeh.resources import INLINE\\n\"+\n     \"output_notebook(resources=INLINE)\\n\"+\n     \"</code>\\n\"+\n     \"</div>\"}};\n\n  function display_loaded() {\n    var el = document.getElementById(\"2967\");\n    if (el != null) {\n      el.textContent = \"BokehJS is loading...\";\n    }\n    if (root.Bokeh !== undefined) {\n      if (el != null) {\n        el.textContent = \"BokehJS \" + root.Bokeh.version + \" successfully loaded.\";\n      }\n    } else if (Date.now() < root._bokeh_timeout) {\n      setTimeout(display_loaded, 100)\n    }\n  }\n\n\n  function run_callbacks() {\n    try {\n      root._bokeh_onload_callbacks.forEach(function(callback) {\n        if (callback != null)\n          callback();\n      });\n    } finally {\n      delete root._bokeh_onload_callbacks\n    }\n    console.debug(\"Bokeh: all callbacks have finished\");\n  }\n\n  function load_libs(css_urls, js_urls, callback) {\n    if (css_urls == null) css_urls = [];\n    if (js_urls == null) js_urls = [];\n\n    root._bokeh_onload_callbacks.push(callback);\n    if (root._bokeh_is_loading > 0) {\n      console.debug(\"Bokeh: BokehJS is being loaded, scheduling callback at\", now());\n      return null;\n    }\n    if (js_urls == null || js_urls.length === 0) {\n      run_callbacks();\n      return null;\n    }\n    console.debug(\"Bokeh: BokehJS not loaded, scheduling load and callback at\", now());\n    root._bokeh_is_loading = css_urls.length + js_urls.length;\n\n    function on_load() {\n      root._bokeh_is_loading--;\n      if (root._bokeh_is_loading === 0) {\n        console.debug(\"Bokeh: all BokehJS libraries/stylesheets loaded\");\n        run_callbacks()\n      }\n    }\n\n    function on_error(url) {\n      console.error(\"failed to load \" + url);\n    }\n\n    for (let i = 0; i < css_urls.length; i++) {\n      const url = css_urls[i];\n      const element = document.createElement(\"link\");\n      element.onload = on_load;\n      element.onerror = on_error.bind(null, url);\n      element.rel = \"stylesheet\";\n      element.type = \"text/css\";\n      element.href = url;\n      console.debug(\"Bokeh: injecting link tag for BokehJS stylesheet: \", url);\n      document.body.appendChild(element);\n    }\n\n    const hashes = {\"https://cdn.bokeh.org/bokeh/release/bokeh-2.3.3.min.js\": \"dM3QQsP+wXdHg42wTqW85BjZQdLNNIXqlPw/BgKoExPmTG7ZLML4EGqLMfqHT6ON\", \"https://cdn.bokeh.org/bokeh/release/bokeh-tables-2.3.3.min.js\": \"8x57I4YuIfu8XyZfFo0XVr2WAT8EK4rh/uDe3wF7YuW2FNUSNEpJbsPaB1nJ2fz2\", \"https://cdn.bokeh.org/bokeh/release/bokeh-widgets-2.3.3.min.js\": \"3QTqdz9LyAm2i0sG5XTePsHec3UHWwVsrOL68SYRoAXsafvfAyqtQ+h440+qIBhS\"};\n\n    for (let i = 0; i < js_urls.length; i++) {\n      const url = js_urls[i];\n      const element = document.createElement('script');\n      element.onload = on_load;\n      element.onerror = on_error.bind(null, url);\n      element.async = false;\n      element.src = url;\n      if (url in hashes) {\n        element.crossOrigin = \"anonymous\";\n        element.integrity = \"sha384-\" + hashes[url];\n      }\n      console.debug(\"Bokeh: injecting script tag for BokehJS library: \", url);\n      document.head.appendChild(element);\n    }\n  };\n\n  function inject_raw_css(css) {\n    const element = document.createElement(\"style\");\n    element.appendChild(document.createTextNode(css));\n    document.body.appendChild(element);\n  }\n\n  \n  var js_urls = [\"https://cdn.bokeh.org/bokeh/release/bokeh-2.3.3.min.js\", \"https://cdn.bokeh.org/bokeh/release/bokeh-widgets-2.3.3.min.js\", \"https://cdn.bokeh.org/bokeh/release/bokeh-tables-2.3.3.min.js\"];\n  var css_urls = [];\n  \n\n  var inline_js = [\n    function(Bokeh) {\n      Bokeh.set_log_level(\"info\");\n    },\n    function(Bokeh) {\n    \n    \n    }\n  ];\n\n  function run_inline_js() {\n    \n    if (root.Bokeh !== undefined || force === true) {\n      \n    for (var i = 0; i < inline_js.length; i++) {\n      inline_js[i].call(root, root.Bokeh);\n    }\n    if (force === true) {\n        display_loaded();\n      }} else if (Date.now() < root._bokeh_timeout) {\n      setTimeout(run_inline_js, 100);\n    } else if (!root._bokeh_failed_load) {\n      console.log(\"Bokeh: BokehJS failed to load within specified timeout.\");\n      root._bokeh_failed_load = true;\n    } else if (force !== true) {\n      var cell = $(document.getElementById(\"2967\")).parents('.cell').data().cell;\n      cell.output_area.append_execute_result(NB_LOAD_WARNING)\n    }\n\n  }\n\n  if (root._bokeh_is_loading === 0) {\n    console.debug(\"Bokeh: BokehJS loaded, going straight to plotting\");\n    run_inline_js();\n  } else {\n    load_libs(css_urls, js_urls, function() {\n      console.debug(\"Bokeh: BokehJS plotting callback run at\", now());\n      run_inline_js();\n    });\n  }\n}(window));"
     },
     "metadata": {},
     "output_type": "display_data"
    },
    {
     "data": {
      "text/html": [
       "\n",
       "\n",
       "\n",
       "\n",
       "\n",
       "\n",
       "  <div class=\"bk-root\" id=\"91b995a1-cc15-4bd0-abe6-2906abf20d98\" data-root-id=\"3118\"></div>\n"
      ]
     },
     "metadata": {},
     "output_type": "display_data"
    },
    {
     "data": {
      "application/javascript": [
       "(function(root) {\n",
       "  function embed_document(root) {\n",
       "    \n",
       "  var docs_json = {\"68a0ecf6-bd51-426a-95fe-0995822a4ca9\":{\"defs\":[],\"roots\":{\"references\":[{\"attributes\":{\"children\":[{\"id\":\"2970\"},{\"id\":\"3088\"}]},\"id\":\"3118\",\"type\":\"Column\"},{\"attributes\":{},\"id\":\"2975\",\"type\":\"DataRange1d\"},{\"attributes\":{\"months\":[0,1,2,3,4,5,6,7,8,9,10,11]},\"id\":\"3023\",\"type\":\"MonthsTicker\"},{\"attributes\":{\"data\":{\"Operation\":[2,2,1,3,1,3,1,1,2,3,1,1,2,2,2,3,2,2,1,2,1,2,2,2,1,1,3,2,2,1,2,1,2,4,16,2,1,2,1,3,2,2,2,1,4,1,1,1,1,1,1,3,1,2,3,2,2,5,17,3,1,2,1,3,1,6,2,3,2,3,1,2,2,1,3,2,1,2,1,1,2,2,2,2,2,4,4,19,1,2,2,1,6,3,1,3,2,1,2,2,3,3,3,2,3,5,3,2,3,2,4,3,2,4,2,4,6,6,2,2,0,0,0,0,0,0,0,0,0,0,0,0,0,0,0,0,0,0,0,0,0,0,0,0],\"TimeGenerated\":{\"__ndarray__\":\"qG4vgBm0d0KobhfvHLR3Qqhu/10gtHdCqG7nzCO0d0Kobs87J7R3Qqhut6oqtHdCqG6fGS60d0KoboeIMbR3Qqhub/c0tHdCqG5XZji0d0Kobj/VO7R3QqhuJ0Q/tHdCqG4Ps0K0d0KobvchRrR3Qqhu35BJtHdCqG7H/0y0d0Kobq9uULR3Qqhul91TtHdCqG5/TFe0d0Kobme7WrR3QqhuTypetHdCqG43mWG0d0Kobh8IZbR3QqhuB3dotHdCqG7v5Wu0d0KobtdUb7R3Qqhuv8NytHdCqG6nMna0d0Kobo+hebR3QqhudxB9tHdCqG5ff4C0d0Kobkfug7R3QqhuL12HtHdCqG4XzIq0d0Kobv86jrR3Qqhu56mRtHdCqG7PGJW0d0KobreHmLR3Qqhun/abtHdCqG6HZZ+0d0Kobm/UorR3QqhuV0OmtHdCqG4/sqm0d0KobichrbR3QqhuD5CwtHdCqG73/rO0d0Kobt9tt7R3Qqhux9y6tHdCqG6vS760d0Kobpe6wbR3QqhufynFtHdCqG5nmMi0d0Kobk8HzLR3QqhuN3bPtHdCqG4f5dK0d0KobgdU1rR3Qqhu78LZtHdCqG7XMd20d0Kobr+g4LR3Qqhupw/ktHdCqG6Pfue0d0Kobnft6rR3QqhuX1zutHdCqG5Hy/G0d0Kobi869bR3QqhuF6n4tHdCqG7/F/y0d0KobueG/7R3Qqhuz/UCtXdCqG63ZAa1d0Kobp/TCbV3Qqhuh0INtXdCqG5vsRC1d0KoblcgFLV3QqhuP48XtXdCqG4n/hq1d0Kobg9tHrV3Qqhu99shtXdCqG7fSiW1d0Kobse5KLV3QqhurygstXdCqG6Xly+1d0Kobn8GM7V3QqhuZ3U2tXdCqG5P5Dm1d0KobjdTPbV3QqhuH8JAtXdCqG4HMUS1d0Kobu+fR7V3Qqhu1w5LtXdCqG6/fU61d0KobqfsUbV3Qqhuj1tVtXdCqG53yli1d0Kobl85XLV3QqhuR6hftXdCqG4vF2O1d0KobheGZrV3Qqhu//RptXdCqG7nY221d0Kobs/ScLV3Qqhut0F0tXdCqG6fsHe1d0Kobocfe7V3Qqhub45+tXdCqG5X/YG1d0Kobj9shbV3QqhuJ9uItXdCqG4PSoy1d0Kobve4j7V3Qqhu3yeTtXdCqG7Hlpa1d0Kobq8FmrV3Qqhul3SdtXdCqG5/46C1d0KobmdSpLV3QqhuT8GntXdCqG43MKu1d0Kobh+frrV3QqhuBw6ytXdCqG7vfLW1d0KobtfruLV3Qqhuv1q8tXdCqG6nyb+1d0Kobo84w7V3Qqhud6fGtXdCqG5fFsq1d0KobkeFzbV3QqhuL/TQtXdCqG4XY9S1d0Kobv/R17V3Qqhu50DbtXdCqG7Pr961d0Kobrce4rV3Qqhun43ltXdCqG6H/Oi1d0Kobm9r7LV3QqhuV9rvtXdCqG4/SfO1d0Kobie49rV3QqhuDyf6tXdCqG73lf21d0Kobt8EAbZ3Qqhux3MEtndC\",\"dtype\":\"float64\",\"order\":\"little\",\"shape\":[144]},\"anomalies\":[0,0,0,0,0,0,0,0,0,0,0,0,0,0,0,0,0,0,0,0,0,0,0,0,0,0,0,0,0,0,0,0,0,0,1,0,0,0,0,0,0,0,0,0,0,0,0,0,0,0,0,0,0,0,0,0,0,0,1,0,0,0,0,0,0,0,0,0,0,0,0,0,0,0,0,0,0,0,0,0,0,0,0,0,0,0,0,1,0,0,0,0,0,0,0,0,0,0,0,0,0,0,0,0,0,0,0,0,0,0,0,0,0,0,0,0,0,0,0,0,0,0,0,0,0,0,0,0,0,0,0,0,0,0,0,0,0,0,0,0,0,0,0,0],\"baseline\":[1,1,1,2,1,1,1,0,1,3,7,1,1,1,1,1,1,2,1,1,1,1,1,1,1,1,2,2,1,2,2,1,2,3,9,1,1,2,1,4,1,2,1,1,2,2,1,1,1,1,2,2,1,2,2,1,2,3,10,2,1,2,2,7,1,3,1,2,3,2,1,1,1,0,1,2,1,2,2,1,2,3,7,2,2,2,2,7,1,3,2,2,4,4,2,2,1,1,2,2,2,2,2,1,2,3,3,2,2,2,3,6,1,3,2,2,4,3,1,2,0,0,0,0,0,0,0,0,0,0,-2,0,0,0,0,1,0,0,0,0,1,1,0,0],\"index\":[0,1,2,3,4,5,6,7,8,9,10,11,12,13,14,15,16,17,18,19,20,21,22,23,24,25,26,27,28,29,30,31,32,33,34,35,36,37,38,39,40,41,42,43,44,45,46,47,48,49,50,51,52,53,54,55,56,57,58,59,60,61,62,63,64,65,66,67,68,69,70,71,72,73,74,75,76,77,78,79,80,81,82,83,84,85,86,87,88,89,90,91,92,93,94,95,96,97,98,99,100,101,102,103,104,105,106,107,108,109,110,111,112,113,114,115,116,117,118,119,120,121,122,123,124,125,126,127,128,129,130,131,132,133,134,135,136,137,138,139,140,141,142,143],\"residual\":[0,0,0,0,0,1,0,0,0,0,-6,0,0,0,0,1,0,0,0,0,0,0,0,0,0,0,0,0,0,-1,0,0,0,0,6,0,0,0,0,-1,0,0,0,0,1,-1,0,0,0,0,-1,0,0,0,0,0,0,1,6,0,0,0,-1,-4,0,2,0,0,-1,0,0,0,0,0,1,0,0,0,-1,0,0,-1,-5,0,0,1,1,11,0,-1,0,-1,1,-1,-1,0,0,0,0,0,0,0,0,0,0,1,0,0,0,0,0,-3,0,0,0,1,1,2,0,0,0,0,0,0,0,0,0,0,0,0,2,0,0,0,0,-1,0,0,0,0,-1,-1,0,0],\"score\":{\"__ndarray__\":\"n8S4O6fIoL+fxLg7p8igv5/EuDunyKC/n8S4O6fIoL+fxLg7p8igv/BLxEa6h+Q/n8S4O6fIoL+fxLg7p8igv5/EuDunyKC/n8S4O6fIoL+1U1faxFAQwJ/EuDunyKC/n8S4O6fIoL+fxLg7p8igv5/EuDunyKC/8EvERrqH5D+fxLg7p8igv5/EuDunyKC/n8S4O6fIoL+fxLg7p8igv5/EuDunyKC/n8S4O6fIoL+fxLg7p8igv5/EuDunyKC/n8S4O6fIoL+fxLg7p8igv5/EuDunyKC/n8S4O6fIoL+fxLg7p8igv4VkOy7PoOa/n8S4O6fIoL+fxLg7p8igv5/EuDunyKC/n8S4O6fIoL+jcGg9og0QQJ/EuDunyKC/n8S4O6fIoL+fxLg7p8igv5/EuDunyKC/hWQ7Ls+g5r+fxLg7p8igv5/EuDunyKC/n8S4O6fIoL+fxLg7p8igv/BLxEa6h+Q/hWQ7Ls+g5r+fxLg7p8igv5/EuDunyKC/n8S4O6fIoL+fxLg7p8igv4VkOy7PoOa/n8S4O6fIoL+fxLg7p8igv5/EuDunyKC/n8S4O6fIoL+fxLg7p8igv5/EuDunyKC/8EvERrqH5D+jcGg9og0QQJ/EuDunyKC/n8S4O6fIoL+fxLg7p8igv4VkOy7PoOa/TLtuV2fXBcCfxLg7p8igvxUSooD/DfU/n8S4O6fIoL+fxLg7p8igv4VkOy7PoOa/n8S4O6fIoL+fxLg7p8igv5/EuDunyKC/n8S4O6fIoL+fxLg7p8igv/BLxEa6h+Q/n8S4O6fIoL+fxLg7p8igv5/EuDunyKC/hWQ7Ls+g5r+fxLg7p8igv5/EuDunyKC/hWQ7Ls+g5r9bsQ6GeDwLwJ/EuDunyKC/n8S4O6fIoL/wS8RGuofkP/BLxEa6h+Q/yFf4MU2KHUCfxLg7p8igv4VkOy7PoOa/n8S4O6fIoL+FZDsuz6Dmv/BLxEa6h+Q/hWQ7Ls+g5r+FZDsuz6Dmv5/EuDunyKC/n8S4O6fIoL+fxLg7p8igv5/EuDunyKC/n8S4O6fIoL+fxLg7p8igv5/EuDunyKC/n8S4O6fIoL+fxLg7p8igv5/EuDunyKC/8EvERrqH5D+fxLg7p8igv5/EuDunyKC/n8S4O6fIoL+fxLg7p8igv5/EuDunyKC/PsXOKFZyAMCfxLg7p8igv5/EuDunyKC/n8S4O6fIoL/wS8RGuofkP/BLxEa6h+Q/FRKigP8N9T+fxLg7p8igv5/EuDunyKC/n8S4O6fIoL+fxLg7p8igv5/EuDunyKC/n8S4O6fIoL+fxLg7p8igv5/EuDunyKC/n8S4O6fIoL+fxLg7p8igv5/EuDunyKC/n8S4O6fIoL8VEqKA/w31P5/EuDunyKC/n8S4O6fIoL+fxLg7p8igv5/EuDunyKC/hWQ7Ls+g5r+fxLg7p8igv5/EuDunyKC/n8S4O6fIoL+fxLg7p8igv4VkOy7PoOa/hWQ7Ls+g5r+fxLg7p8igv5/EuDunyKC/\",\"dtype\":\"float64\",\"order\":\"little\",\"shape\":[144]},\"seasonal\":[0,0,0,1,0,0,0,0,0,1,5,0,0,0,0,0,0,0,0,0,0,0,0,0,0,0,0,0,0,0,0,0,0,1,6,0,0,0,0,2,0,0,0,0,0,0,-1,0,0,-1,0,0,-1,0,0,-1,0,1,7,0,-1,0,0,4,-1,0,0,0,1,0,-1,0,-1,-1,0,0,-1,0,0,-1,0,0,4,0,0,0,0,4,-1,0,0,0,1,1,-1,0,-1,-1,0,0,0,0,0,-1,0,0,1,0,0,0,0,3,0,0,0,0,2,1,0,0,-1,-1,-1,-1,0,0,0,0,0,0,-2,0,0,0,1,1,0,0,0,1,2,2,1,1],\"trend\":[1,1,1,1,1,1,1,1,1,1,1,1,1,1,1,1,1,1,1,1,2,2,2,2,2,2,2,2,2,2,2,2,2,2,2,2,2,2,2,2,2,2,2,2,2,2,2,2,2,2,2,2,2,2,2,2,2,2,2,2,2,2,2,2,2,2,2,2,2,2,2,2,2,2,2,2,2,2,2,2,2,2,2,2,2,2,2,2,2,2,2,2,3,3,3,3,3,3,3,3,3,2,2,2,2,2,2,2,2,2,2,2,2,2,2,2,2,1,1,1,1,1,1,1,1,0,0,0,0,0,0,0,0,0,0,0,0,0,-1,-1,-1,-1,-1,-1],\"weights\":[1,1,1,1,1,1,1,1,1,1,1,1,1,1,1,1,1,1,1,1,1,1,1,1,1,1,1,1,1,1,1,1,1,1,1,1,1,1,1,1,1,1,1,1,1,1,1,1,1,1,1,1,1,1,1,1,1,1,1,1,1,1,1,1,1,1,1,1,1,1,1,1,1,1,1,1,1,1,1,1,1,1,1,1,1,1,1,1,1,1,1,1,1,1,1,1,1,1,1,1,1,1,1,1,1,1,1,1,1,1,1,1,1,1,1,1,1,1,1,1,1,1,1,1,1,1,1,1,1,1,1,1,1,1,1,1,1,1,1,1,1,1,1,1]},\"selected\":{\"id\":\"3029\"},\"selection_policy\":{\"id\":\"3030\"}},\"id\":\"2968\",\"type\":\"ColumnDataSource\"},{\"attributes\":{},\"id\":\"3029\",\"type\":\"Selection\"},{\"attributes\":{},\"id\":\"3093\",\"type\":\"DataRange1d\"},{\"attributes\":{\"fill_alpha\":{\"value\":0.1},\"fill_color\":{\"value\":\"#1f77b4\"},\"line_alpha\":{\"value\":0.1},\"line_color\":{\"value\":\"navy\"},\"x\":{\"field\":\"TimeGenerated\"},\"y\":{\"field\":\"Operation\"}},\"id\":\"3008\",\"type\":\"Circle\"},{\"attributes\":{\"fill_alpha\":{\"value\":0.1},\"fill_color\":{\"value\":\"blue\"},\"line_alpha\":{\"value\":0.1},\"line_color\":{\"value\":\"blue\"},\"x\":{\"field\":\"TimeGenerated\"},\"y\":{\"field\":\"score\"}},\"id\":\"3110\",\"type\":\"Circle\"},{\"attributes\":{\"end\":1629485106454.916,\"start\":1628815866454.916},\"id\":\"3091\",\"type\":\"Range1d\"},{\"attributes\":{\"source\":{\"id\":\"3107\"}},\"id\":\"3112\",\"type\":\"CDSView\"},{\"attributes\":{\"months\":[0,2,4,6,8,10]},\"id\":\"3024\",\"type\":\"MonthsTicker\"},{\"attributes\":{\"data\":{\"Operation\":[2,2,1,3,1,3,1,1,2,3,1,1,2,2,2,3,2,2,1,2,1,2,2,2,1,1,3,2,2,1,2,1,2,4,16,2,1,2,1,3,2,2,2,1,4,1,1,1,1,1,1,3,1,2,3,2,2,5,17,3,1,2,1,3,1,6,2,3,2,3,1,2,2,1,3,2,1,2,1,1,2,2,2,2,2,4,4,19,1,2,2,1,6,3,1,3,2,1,2,2,3,3,3,2,3,5,3,2,3,2,4,3,2,4,2,4,6,6,2,2,0,0,0,0,0,0,0,0,0,0,0,0,0,0,0,0,0,0,0,0,0,0,0,0],\"TimeGenerated\":{\"__ndarray__\":\"qG4vgBm0d0KobhfvHLR3Qqhu/10gtHdCqG7nzCO0d0Kobs87J7R3Qqhut6oqtHdCqG6fGS60d0KoboeIMbR3Qqhub/c0tHdCqG5XZji0d0Kobj/VO7R3QqhuJ0Q/tHdCqG4Ps0K0d0KobvchRrR3Qqhu35BJtHdCqG7H/0y0d0Kobq9uULR3Qqhul91TtHdCqG5/TFe0d0Kobme7WrR3QqhuTypetHdCqG43mWG0d0Kobh8IZbR3QqhuB3dotHdCqG7v5Wu0d0KobtdUb7R3Qqhuv8NytHdCqG6nMna0d0Kobo+hebR3QqhudxB9tHdCqG5ff4C0d0Kobkfug7R3QqhuL12HtHdCqG4XzIq0d0Kobv86jrR3Qqhu56mRtHdCqG7PGJW0d0KobreHmLR3Qqhun/abtHdCqG6HZZ+0d0Kobm/UorR3QqhuV0OmtHdCqG4/sqm0d0KobichrbR3QqhuD5CwtHdCqG73/rO0d0Kobt9tt7R3Qqhux9y6tHdCqG6vS760d0Kobpe6wbR3QqhufynFtHdCqG5nmMi0d0Kobk8HzLR3QqhuN3bPtHdCqG4f5dK0d0KobgdU1rR3Qqhu78LZtHdCqG7XMd20d0Kobr+g4LR3Qqhupw/ktHdCqG6Pfue0d0Kobnft6rR3QqhuX1zutHdCqG5Hy/G0d0Kobi869bR3QqhuF6n4tHdCqG7/F/y0d0KobueG/7R3Qqhuz/UCtXdCqG63ZAa1d0Kobp/TCbV3Qqhuh0INtXdCqG5vsRC1d0KoblcgFLV3QqhuP48XtXdCqG4n/hq1d0Kobg9tHrV3Qqhu99shtXdCqG7fSiW1d0Kobse5KLV3QqhurygstXdCqG6Xly+1d0Kobn8GM7V3QqhuZ3U2tXdCqG5P5Dm1d0KobjdTPbV3QqhuH8JAtXdCqG4HMUS1d0Kobu+fR7V3Qqhu1w5LtXdCqG6/fU61d0KobqfsUbV3Qqhuj1tVtXdCqG53yli1d0Kobl85XLV3QqhuR6hftXdCqG4vF2O1d0KobheGZrV3Qqhu//RptXdCqG7nY221d0Kobs/ScLV3Qqhut0F0tXdCqG6fsHe1d0Kobocfe7V3Qqhub45+tXdCqG5X/YG1d0Kobj9shbV3QqhuJ9uItXdCqG4PSoy1d0Kobve4j7V3Qqhu3yeTtXdCqG7Hlpa1d0Kobq8FmrV3Qqhul3SdtXdCqG5/46C1d0KobmdSpLV3QqhuT8GntXdCqG43MKu1d0Kobh+frrV3QqhuBw6ytXdCqG7vfLW1d0KobtfruLV3Qqhuv1q8tXdCqG6nyb+1d0Kobo84w7V3Qqhud6fGtXdCqG5fFsq1d0KobkeFzbV3QqhuL/TQtXdCqG4XY9S1d0Kobv/R17V3Qqhu50DbtXdCqG7Pr961d0Kobrce4rV3Qqhun43ltXdCqG6H/Oi1d0Kobm9r7LV3QqhuV9rvtXdCqG4/SfO1d0Kobie49rV3QqhuDyf6tXdCqG73lf21d0Kobt8EAbZ3Qqhux3MEtndC\",\"dtype\":\"float64\",\"order\":\"little\",\"shape\":[144]},\"anomalies\":[0,0,0,0,0,0,0,0,0,0,0,0,0,0,0,0,0,0,0,0,0,0,0,0,0,0,0,0,0,0,0,0,0,0,1,0,0,0,0,0,0,0,0,0,0,0,0,0,0,0,0,0,0,0,0,0,0,0,1,0,0,0,0,0,0,0,0,0,0,0,0,0,0,0,0,0,0,0,0,0,0,0,0,0,0,0,0,1,0,0,0,0,0,0,0,0,0,0,0,0,0,0,0,0,0,0,0,0,0,0,0,0,0,0,0,0,0,0,0,0,0,0,0,0,0,0,0,0,0,0,0,0,0,0,0,0,0,0,0,0,0,0,0,0],\"baseline\":[1,1,1,2,1,1,1,0,1,3,7,1,1,1,1,1,1,2,1,1,1,1,1,1,1,1,2,2,1,2,2,1,2,3,9,1,1,2,1,4,1,2,1,1,2,2,1,1,1,1,2,2,1,2,2,1,2,3,10,2,1,2,2,7,1,3,1,2,3,2,1,1,1,0,1,2,1,2,2,1,2,3,7,2,2,2,2,7,1,3,2,2,4,4,2,2,1,1,2,2,2,2,2,1,2,3,3,2,2,2,3,6,1,3,2,2,4,3,1,2,0,0,0,0,0,0,0,0,0,0,-2,0,0,0,0,1,0,0,0,0,1,1,0,0],\"index\":[0,1,2,3,4,5,6,7,8,9,10,11,12,13,14,15,16,17,18,19,20,21,22,23,24,25,26,27,28,29,30,31,32,33,34,35,36,37,38,39,40,41,42,43,44,45,46,47,48,49,50,51,52,53,54,55,56,57,58,59,60,61,62,63,64,65,66,67,68,69,70,71,72,73,74,75,76,77,78,79,80,81,82,83,84,85,86,87,88,89,90,91,92,93,94,95,96,97,98,99,100,101,102,103,104,105,106,107,108,109,110,111,112,113,114,115,116,117,118,119,120,121,122,123,124,125,126,127,128,129,130,131,132,133,134,135,136,137,138,139,140,141,142,143],\"residual\":[0,0,0,0,0,1,0,0,0,0,-6,0,0,0,0,1,0,0,0,0,0,0,0,0,0,0,0,0,0,-1,0,0,0,0,6,0,0,0,0,-1,0,0,0,0,1,-1,0,0,0,0,-1,0,0,0,0,0,0,1,6,0,0,0,-1,-4,0,2,0,0,-1,0,0,0,0,0,1,0,0,0,-1,0,0,-1,-5,0,0,1,1,11,0,-1,0,-1,1,-1,-1,0,0,0,0,0,0,0,0,0,0,1,0,0,0,0,0,-3,0,0,0,1,1,2,0,0,0,0,0,0,0,0,0,0,0,0,2,0,0,0,0,-1,0,0,0,0,-1,-1,0,0],\"score\":{\"__ndarray__\":\"n8S4O6fIoL+fxLg7p8igv5/EuDunyKC/n8S4O6fIoL+fxLg7p8igv/BLxEa6h+Q/n8S4O6fIoL+fxLg7p8igv5/EuDunyKC/n8S4O6fIoL+1U1faxFAQwJ/EuDunyKC/n8S4O6fIoL+fxLg7p8igv5/EuDunyKC/8EvERrqH5D+fxLg7p8igv5/EuDunyKC/n8S4O6fIoL+fxLg7p8igv5/EuDunyKC/n8S4O6fIoL+fxLg7p8igv5/EuDunyKC/n8S4O6fIoL+fxLg7p8igv5/EuDunyKC/n8S4O6fIoL+fxLg7p8igv4VkOy7PoOa/n8S4O6fIoL+fxLg7p8igv5/EuDunyKC/n8S4O6fIoL+jcGg9og0QQJ/EuDunyKC/n8S4O6fIoL+fxLg7p8igv5/EuDunyKC/hWQ7Ls+g5r+fxLg7p8igv5/EuDunyKC/n8S4O6fIoL+fxLg7p8igv/BLxEa6h+Q/hWQ7Ls+g5r+fxLg7p8igv5/EuDunyKC/n8S4O6fIoL+fxLg7p8igv4VkOy7PoOa/n8S4O6fIoL+fxLg7p8igv5/EuDunyKC/n8S4O6fIoL+fxLg7p8igv5/EuDunyKC/8EvERrqH5D+jcGg9og0QQJ/EuDunyKC/n8S4O6fIoL+fxLg7p8igv4VkOy7PoOa/TLtuV2fXBcCfxLg7p8igvxUSooD/DfU/n8S4O6fIoL+fxLg7p8igv4VkOy7PoOa/n8S4O6fIoL+fxLg7p8igv5/EuDunyKC/n8S4O6fIoL+fxLg7p8igv/BLxEa6h+Q/n8S4O6fIoL+fxLg7p8igv5/EuDunyKC/hWQ7Ls+g5r+fxLg7p8igv5/EuDunyKC/hWQ7Ls+g5r9bsQ6GeDwLwJ/EuDunyKC/n8S4O6fIoL/wS8RGuofkP/BLxEa6h+Q/yFf4MU2KHUCfxLg7p8igv4VkOy7PoOa/n8S4O6fIoL+FZDsuz6Dmv/BLxEa6h+Q/hWQ7Ls+g5r+FZDsuz6Dmv5/EuDunyKC/n8S4O6fIoL+fxLg7p8igv5/EuDunyKC/n8S4O6fIoL+fxLg7p8igv5/EuDunyKC/n8S4O6fIoL+fxLg7p8igv5/EuDunyKC/8EvERrqH5D+fxLg7p8igv5/EuDunyKC/n8S4O6fIoL+fxLg7p8igv5/EuDunyKC/PsXOKFZyAMCfxLg7p8igv5/EuDunyKC/n8S4O6fIoL/wS8RGuofkP/BLxEa6h+Q/FRKigP8N9T+fxLg7p8igv5/EuDunyKC/n8S4O6fIoL+fxLg7p8igv5/EuDunyKC/n8S4O6fIoL+fxLg7p8igv5/EuDunyKC/n8S4O6fIoL+fxLg7p8igv5/EuDunyKC/n8S4O6fIoL8VEqKA/w31P5/EuDunyKC/n8S4O6fIoL+fxLg7p8igv5/EuDunyKC/hWQ7Ls+g5r+fxLg7p8igv5/EuDunyKC/n8S4O6fIoL+fxLg7p8igv4VkOy7PoOa/hWQ7Ls+g5r+fxLg7p8igv5/EuDunyKC/\",\"dtype\":\"float64\",\"order\":\"little\",\"shape\":[144]},\"seasonal\":[0,0,0,1,0,0,0,0,0,1,5,0,0,0,0,0,0,0,0,0,0,0,0,0,0,0,0,0,0,0,0,0,0,1,6,0,0,0,0,2,0,0,0,0,0,0,-1,0,0,-1,0,0,-1,0,0,-1,0,1,7,0,-1,0,0,4,-1,0,0,0,1,0,-1,0,-1,-1,0,0,-1,0,0,-1,0,0,4,0,0,0,0,4,-1,0,0,0,1,1,-1,0,-1,-1,0,0,0,0,0,-1,0,0,1,0,0,0,0,3,0,0,0,0,2,1,0,0,-1,-1,-1,-1,0,0,0,0,0,0,-2,0,0,0,1,1,0,0,0,1,2,2,1,1],\"trend\":[1,1,1,1,1,1,1,1,1,1,1,1,1,1,1,1,1,1,1,1,2,2,2,2,2,2,2,2,2,2,2,2,2,2,2,2,2,2,2,2,2,2,2,2,2,2,2,2,2,2,2,2,2,2,2,2,2,2,2,2,2,2,2,2,2,2,2,2,2,2,2,2,2,2,2,2,2,2,2,2,2,2,2,2,2,2,2,2,2,2,2,2,3,3,3,3,3,3,3,3,3,2,2,2,2,2,2,2,2,2,2,2,2,2,2,2,2,1,1,1,1,1,1,1,1,0,0,0,0,0,0,0,0,0,0,0,0,0,-1,-1,-1,-1,-1,-1],\"weights\":[1,1,1,1,1,1,1,1,1,1,1,1,1,1,1,1,1,1,1,1,1,1,1,1,1,1,1,1,1,1,1,1,1,1,1,1,1,1,1,1,1,1,1,1,1,1,1,1,1,1,1,1,1,1,1,1,1,1,1,1,1,1,1,1,1,1,1,1,1,1,1,1,1,1,1,1,1,1,1,1,1,1,1,1,1,1,1,1,1,1,1,1,1,1,1,1,1,1,1,1,1,1,1,1,1,1,1,1,1,1,1,1,1,1,1,1,1,1,1,1,1,1,1,1,1,1,1,1,1,1,1,1,1,1,1,1,1,1,1,1,1,1,1,1]},\"selected\":{\"id\":\"3157\"},\"selection_policy\":{\"id\":\"3158\"}},\"id\":\"3107\",\"type\":\"ColumnDataSource\"},{\"attributes\":{\"bottom_units\":\"screen\",\"fill_alpha\":0.5,\"fill_color\":\"lightgrey\",\"left_units\":\"screen\",\"level\":\"overlay\",\"line_alpha\":1.0,\"line_color\":\"black\",\"line_dash\":[4,4],\"line_width\":2,\"right_units\":\"screen\",\"syncable\":false,\"top_units\":\"screen\"},\"id\":\"2994\",\"type\":\"BoxAnnotation\"},{\"attributes\":{\"num_minor_ticks\":5,\"tickers\":[{\"id\":\"3144\"},{\"id\":\"3145\"},{\"id\":\"3146\"},{\"id\":\"3147\"},{\"id\":\"3148\"},{\"id\":\"3149\"},{\"id\":\"3150\"},{\"id\":\"3151\"},{\"id\":\"3152\"},{\"id\":\"3153\"},{\"id\":\"3154\"},{\"id\":\"3155\"}]},\"id\":\"3100\",\"type\":\"DatetimeTicker\"},{\"attributes\":{\"days\":[1,8,15,22]},\"id\":\"3021\",\"type\":\"DaysTicker\"},{\"attributes\":{\"axis\":{\"id\":\"3099\"},\"ticker\":null},\"id\":\"3102\",\"type\":\"Grid\"},{\"attributes\":{\"dimensions\":\"width\"},\"id\":\"2993\",\"type\":\"PanTool\"},{\"attributes\":{\"base\":24,\"mantissas\":[1,2,4,6,8,12],\"max_interval\":43200000.0,\"min_interval\":3600000.0,\"num_minor_ticks\":0},\"id\":\"3018\",\"type\":\"AdaptiveTicker\"},{\"attributes\":{\"formatter\":{\"id\":\"3105\"},\"major_label_policy\":{\"id\":\"3125\"},\"ticker\":{\"id\":\"3100\"}},\"id\":\"3099\",\"type\":\"DatetimeAxis\"},{\"attributes\":{\"text\":\"Range Selector\"},\"id\":\"3089\",\"type\":\"Title\"},{\"attributes\":{\"months\":[0,4,8]},\"id\":\"3025\",\"type\":\"MonthsTicker\"},{\"attributes\":{\"data_source\":{\"id\":\"2968\"},\"glyph\":{\"id\":\"3007\"},\"hover_glyph\":null,\"muted_glyph\":null,\"nonselection_glyph\":{\"id\":\"3008\"},\"view\":{\"id\":\"3010\"}},\"id\":\"3009\",\"type\":\"GlyphRenderer\"},{\"attributes\":{\"num_minor_ticks\":10,\"tickers\":[{\"id\":\"3016\"},{\"id\":\"3017\"},{\"id\":\"3018\"},{\"id\":\"3019\"},{\"id\":\"3020\"},{\"id\":\"3021\"},{\"id\":\"3022\"},{\"id\":\"3023\"},{\"id\":\"3024\"},{\"id\":\"3025\"},{\"id\":\"3026\"},{\"id\":\"3027\"}]},\"id\":\"2982\",\"type\":\"DatetimeTicker\"},{\"attributes\":{},\"id\":\"2991\",\"type\":\"ResetTool\"},{\"attributes\":{},\"id\":\"3125\",\"type\":\"AllLabels\"},{\"attributes\":{\"months\":[0,6]},\"id\":\"3026\",\"type\":\"MonthsTicker\"},{\"attributes\":{\"days\":[\"%m-%d %H:%M\"],\"hours\":[\"%H:%M:%S\"],\"milliseconds\":[\"%H:%M:%S.%3N\"],\"minutes\":[\"%H:%M:%S\"],\"seconds\":[\"%H:%M:%S\"]},\"id\":\"3105\",\"type\":\"DatetimeTickFormatter\"},{\"attributes\":{\"days\":[1,15]},\"id\":\"3022\",\"type\":\"DaysTicker\"},{\"attributes\":{\"axis_label\":\"TimeGenerated\",\"formatter\":{\"id\":\"3002\"},\"major_label_policy\":{\"id\":\"3012\"},\"ticker\":{\"id\":\"2982\"}},\"id\":\"2981\",\"type\":\"DatetimeAxis\"},{\"attributes\":{},\"id\":\"3027\",\"type\":\"YearsTicker\"},{\"attributes\":{\"click_policy\":\"hide\",\"items\":[{\"id\":\"3032\"},{\"id\":\"3058\"},{\"id\":\"3087\"}],\"location\":\"top_left\"},\"id\":\"3031\",\"type\":\"Legend\"},{\"attributes\":{},\"id\":\"3095\",\"type\":\"LinearScale\"},{\"attributes\":{\"end\":1629433626454.916,\"start\":1628867346454.916},\"id\":\"2973\",\"type\":\"Range1d\"},{\"attributes\":{\"label\":{\"value\":\"observed\"},\"renderers\":[{\"id\":\"3009\"}]},\"id\":\"3032\",\"type\":\"LegendItem\"},{\"attributes\":{\"fill_alpha\":0.2,\"fill_color\":\"navy\",\"level\":\"overlay\",\"line_alpha\":1.0,\"line_color\":\"black\",\"line_dash\":[2,2],\"line_width\":0.5,\"syncable\":false},\"id\":\"3114\",\"type\":\"BoxAnnotation\"},{\"attributes\":{\"overlay\":{\"id\":\"3114\"},\"x_range\":{\"id\":\"2973\"},\"y_range\":null},\"id\":\"3113\",\"type\":\"RangeTool\"},{\"attributes\":{\"fill_color\":{\"value\":\"blue\"},\"line_color\":{\"value\":\"blue\"},\"x\":{\"field\":\"TimeGenerated\"},\"y\":{\"field\":\"score\"}},\"id\":\"3109\",\"type\":\"Circle\"},{\"attributes\":{\"active_multi\":null,\"tools\":[{\"id\":\"2969\"},{\"id\":\"2989\"},{\"id\":\"2990\"},{\"id\":\"2991\"},{\"id\":\"2992\"},{\"id\":\"2993\"}]},\"id\":\"2995\",\"type\":\"Toolbar\"},{\"attributes\":{\"format\":\"00\"},\"id\":\"3004\",\"type\":\"NumeralTickFormatter\"},{\"attributes\":{\"callback\":null,\"formatters\":{\"@TimeGenerated\":\"datetime\"},\"tooltips\":[[\"TimeGenerated\",\"@TimeGenerated{%F %T.%3N}\"],[\"Operation\",\"@Operation\"],[\"residual\",\"@residual\"],[\"trend\",\"@trend\"],[\"seasonal\",\"@seasonal\"],[\"weights\",\"@weights\"],[\"score\",\"@score\"],[\"baseline\",\"@baseline\"]]},\"id\":\"2969\",\"type\":\"HoverTool\"},{\"attributes\":{},\"id\":\"2977\",\"type\":\"LinearScale\"},{\"attributes\":{\"fill_color\":{\"value\":\"#1f77b4\"},\"line_color\":{\"value\":\"navy\"},\"x\":{\"field\":\"TimeGenerated\"},\"y\":{\"field\":\"Operation\"}},\"id\":\"3007\",\"type\":\"Circle\"},{\"attributes\":{\"axis\":{\"id\":\"2981\"},\"grid_line_color\":null,\"ticker\":null},\"id\":\"2984\",\"type\":\"Grid\"},{\"attributes\":{},\"id\":\"3097\",\"type\":\"LinearScale\"},{\"attributes\":{},\"id\":\"2979\",\"type\":\"LinearScale\"},{\"attributes\":{\"text\":\"Time Series Anomalies Visualization\"},\"id\":\"2971\",\"type\":\"Title\"},{\"attributes\":{\"source\":{\"id\":\"2968\"}},\"id\":\"3010\",\"type\":\"CDSView\"},{\"attributes\":{\"align\":\"right\",\"text\":\"Drag the middle or edges of the selection box to change the range in the main chart\",\"text_font_size\":\"10px\"},\"id\":\"3104\",\"type\":\"Title\"},{\"attributes\":{\"axis\":{\"id\":\"2985\"},\"dimension\":1,\"grid_line_color\":null,\"ticker\":null},\"id\":\"2988\",\"type\":\"Grid\"},{\"attributes\":{\"data_source\":{\"id\":\"3107\"},\"glyph\":{\"id\":\"3109\"},\"hover_glyph\":null,\"muted_glyph\":null,\"nonselection_glyph\":{\"id\":\"3110\"},\"view\":{\"id\":\"3112\"}},\"id\":\"3111\",\"type\":\"GlyphRenderer\"},{\"attributes\":{},\"id\":\"3030\",\"type\":\"UnionRenderers\"},{\"attributes\":{\"days\":[\"%m-%d %H:%M\"],\"hours\":[\"%H:%M:%S\"],\"milliseconds\":[\"%H:%M:%S.%3N\"],\"minutes\":[\"%H:%M:%S\"],\"seconds\":[\"%H:%M:%S\"]},\"id\":\"3002\",\"type\":\"DatetimeTickFormatter\"},{\"attributes\":{\"dimensions\":\"width\"},\"id\":\"2989\",\"type\":\"WheelZoomTool\"},{\"attributes\":{\"below\":[{\"id\":\"2981\"}],\"center\":[{\"id\":\"2984\"},{\"id\":\"2988\"},{\"id\":\"3031\"}],\"height\":300,\"left\":[{\"id\":\"2985\"}],\"min_border_left\":50,\"renderers\":[{\"id\":\"3009\"},{\"id\":\"3036\"},{\"id\":\"3063\"}],\"title\":{\"id\":\"2971\"},\"toolbar\":{\"id\":\"2995\"},\"toolbar_location\":\"above\",\"width\":1200,\"x_range\":{\"id\":\"2973\"},\"x_scale\":{\"id\":\"2977\"},\"y_range\":{\"id\":\"2975\"},\"y_scale\":{\"id\":\"2979\"}},\"id\":\"2970\",\"subtype\":\"Figure\",\"type\":\"Plot\"},{\"attributes\":{\"days\":[1,2,3,4,5,6,7,8,9,10,11,12,13,14,15,16,17,18,19,20,21,22,23,24,25,26,27,28,29,30,31]},\"id\":\"3019\",\"type\":\"DaysTicker\"},{\"attributes\":{\"overlay\":{\"id\":\"2994\"}},\"id\":\"2990\",\"type\":\"BoxZoomTool\"},{\"attributes\":{\"days\":[1,4,7,10,13,16,19,22,25,28]},\"id\":\"3020\",\"type\":\"DaysTicker\"},{\"attributes\":{},\"id\":\"2992\",\"type\":\"SaveTool\"},{\"attributes\":{\"active_multi\":{\"id\":\"3113\"},\"tools\":[{\"id\":\"3113\"}]},\"id\":\"3103\",\"type\":\"Toolbar\"},{\"attributes\":{\"label\":{\"value\":\"baseline\"},\"renderers\":[{\"id\":\"3036\"}]},\"id\":\"3058\",\"type\":\"LegendItem\"},{\"attributes\":{\"label\":{\"value\":\"anomalies\"},\"renderers\":[{\"id\":\"3063\"}]},\"id\":\"3087\",\"type\":\"LegendItem\"},{\"attributes\":{\"line_alpha\":0.1,\"line_color\":\"green\",\"x\":{\"field\":\"TimeGenerated\"},\"y\":{\"field\":\"baseline\"}},\"id\":\"3035\",\"type\":\"Line\"},{\"attributes\":{\"mantissas\":[1,2,5],\"max_interval\":500.0,\"num_minor_ticks\":0},\"id\":\"3016\",\"type\":\"AdaptiveTicker\"},{\"attributes\":{\"source\":{\"id\":\"3059\"}},\"id\":\"3064\",\"type\":\"CDSView\"},{\"attributes\":{\"fill_alpha\":{\"value\":0.1},\"fill_color\":{\"value\":\"firebrick\"},\"line_alpha\":{\"value\":0.1},\"line_color\":{\"value\":\"firebrick\"},\"marker\":{\"value\":\"circle_x\"},\"size\":{\"value\":12},\"x\":{\"field\":\"TimeGenerated\"},\"y\":{\"field\":\"Operation\"}},\"id\":\"3062\",\"type\":\"Scatter\"},{\"attributes\":{},\"id\":\"3012\",\"type\":\"AllLabels\"},{\"attributes\":{\"months\":[0,2,4,6,8,10]},\"id\":\"3152\",\"type\":\"MonthsTicker\"},{\"attributes\":{\"months\":[0,6]},\"id\":\"3154\",\"type\":\"MonthsTicker\"},{\"attributes\":{\"days\":[1,4,7,10,13,16,19,22,25,28]},\"id\":\"3148\",\"type\":\"DaysTicker\"},{\"attributes\":{\"below\":[{\"id\":\"3099\"},{\"id\":\"3104\"}],\"center\":[{\"id\":\"3102\"}],\"height\":120,\"renderers\":[{\"id\":\"3111\"}],\"title\":{\"id\":\"3089\"},\"toolbar\":{\"id\":\"3103\"},\"toolbar_location\":null,\"width\":1200,\"x_range\":{\"id\":\"3091\"},\"x_scale\":{\"id\":\"3095\"},\"y_range\":{\"id\":\"3093\"},\"y_scale\":{\"id\":\"3097\"}},\"id\":\"3088\",\"subtype\":\"Figure\",\"type\":\"Plot\"},{\"attributes\":{\"months\":[0,1,2,3,4,5,6,7,8,9,10,11]},\"id\":\"3151\",\"type\":\"MonthsTicker\"},{\"attributes\":{\"days\":[1,8,15,22]},\"id\":\"3149\",\"type\":\"DaysTicker\"},{\"attributes\":{},\"id\":\"3155\",\"type\":\"YearsTicker\"},{\"attributes\":{\"days\":[1,2,3,4,5,6,7,8,9,10,11,12,13,14,15,16,17,18,19,20,21,22,23,24,25,26,27,28,29,30,31]},\"id\":\"3147\",\"type\":\"DaysTicker\"},{\"attributes\":{\"data_source\":{\"id\":\"2968\"},\"glyph\":{\"id\":\"3034\"},\"hover_glyph\":null,\"muted_glyph\":null,\"nonselection_glyph\":{\"id\":\"3035\"},\"view\":{\"id\":\"3037\"}},\"id\":\"3036\",\"type\":\"GlyphRenderer\"},{\"attributes\":{\"base\":24,\"mantissas\":[1,2,4,6,8,12],\"max_interval\":43200000.0,\"min_interval\":3600000.0,\"num_minor_ticks\":0},\"id\":\"3146\",\"type\":\"AdaptiveTicker\"},{\"attributes\":{\"days\":[1,15]},\"id\":\"3150\",\"type\":\"DaysTicker\"},{\"attributes\":{\"axis_label\":\"Operation\",\"formatter\":{\"id\":\"3004\"},\"major_label_policy\":{\"id\":\"3014\"},\"ticker\":{\"id\":\"2986\"}},\"id\":\"2985\",\"type\":\"LinearAxis\"},{\"attributes\":{\"data\":{\"Operation\":[16,17,19],\"TimeGenerated\":{\"__ndarray__\":\"qG7/Oo60d0Kobr+g4LR3QqhuBzFEtXdC\",\"dtype\":\"float64\",\"order\":\"little\",\"shape\":[3]},\"baseline\":[9,10,7],\"index\":[34,58,87],\"level_0\":[0,1,2],\"residual\":[6,6,11],\"score\":{\"__ndarray__\":\"o3BoPaINEECjcGg9og0QQMhX+DFNih1A\",\"dtype\":\"float64\",\"order\":\"little\",\"shape\":[3]},\"seasonal\":[6,7,4],\"trend\":[2,2,2],\"weights\":[1,1,1]},\"selected\":{\"id\":\"3085\"},\"selection_policy\":{\"id\":\"3086\"}},\"id\":\"3059\",\"type\":\"ColumnDataSource\"},{\"attributes\":{\"source\":{\"id\":\"2968\"}},\"id\":\"3037\",\"type\":\"CDSView\"},{\"attributes\":{\"months\":[0,4,8]},\"id\":\"3153\",\"type\":\"MonthsTicker\"},{\"attributes\":{},\"id\":\"3158\",\"type\":\"UnionRenderers\"},{\"attributes\":{},\"id\":\"3157\",\"type\":\"Selection\"},{\"attributes\":{},\"id\":\"3085\",\"type\":\"Selection\"},{\"attributes\":{\"data_source\":{\"id\":\"3059\"},\"glyph\":{\"id\":\"3061\"},\"hover_glyph\":null,\"muted_glyph\":null,\"nonselection_glyph\":{\"id\":\"3062\"},\"view\":{\"id\":\"3064\"}},\"id\":\"3063\",\"type\":\"GlyphRenderer\"},{\"attributes\":{},\"id\":\"3086\",\"type\":\"UnionRenderers\"},{\"attributes\":{\"base\":60,\"mantissas\":[1,2,5,10,15,20,30],\"max_interval\":1800000.0,\"min_interval\":1000.0,\"num_minor_ticks\":0},\"id\":\"3017\",\"type\":\"AdaptiveTicker\"},{\"attributes\":{\"fill_alpha\":{\"value\":0.2},\"fill_color\":{\"value\":\"firebrick\"},\"line_color\":{\"value\":\"firebrick\"},\"marker\":{\"value\":\"circle_x\"},\"size\":{\"value\":12},\"x\":{\"field\":\"TimeGenerated\"},\"y\":{\"field\":\"Operation\"}},\"id\":\"3061\",\"type\":\"Scatter\"},{\"attributes\":{\"line_color\":\"green\",\"x\":{\"field\":\"TimeGenerated\"},\"y\":{\"field\":\"baseline\"}},\"id\":\"3034\",\"type\":\"Line\"},{\"attributes\":{},\"id\":\"2986\",\"type\":\"BasicTicker\"},{\"attributes\":{\"mantissas\":[1,2,5],\"max_interval\":500.0,\"num_minor_ticks\":0},\"id\":\"3144\",\"type\":\"AdaptiveTicker\"},{\"attributes\":{},\"id\":\"3014\",\"type\":\"AllLabels\"},{\"attributes\":{\"base\":60,\"mantissas\":[1,2,5,10,15,20,30],\"max_interval\":1800000.0,\"min_interval\":1000.0,\"num_minor_ticks\":0},\"id\":\"3145\",\"type\":\"AdaptiveTicker\"}],\"root_ids\":[\"3118\"]},\"title\":\"Bokeh Application\",\"version\":\"2.3.3\"}};\n",
       "  var render_items = [{\"docid\":\"68a0ecf6-bd51-426a-95fe-0995822a4ca9\",\"root_ids\":[\"3118\"],\"roots\":{\"3118\":\"91b995a1-cc15-4bd0-abe6-2906abf20d98\"}}];\n",
       "  root.Bokeh.embed.embed_items_notebook(docs_json, render_items);\n",
       "\n",
       "  }\n",
       "  if (root.Bokeh !== undefined) {\n",
       "    embed_document(root);\n",
       "  } else {\n",
       "    var attempts = 0;\n",
       "    var timer = setInterval(function(root) {\n",
       "      if (root.Bokeh !== undefined) {\n",
       "        clearInterval(timer);\n",
       "        embed_document(root);\n",
       "      } else {\n",
       "        attempts++;\n",
       "        if (attempts > 100) {\n",
       "          clearInterval(timer);\n",
       "          console.log(\"Bokeh: ERROR: Unable to run BokehJS code because BokehJS library is missing\");\n",
       "        }\n",
       "      }\n",
       "    }, 10, root)\n",
       "  }\n",
       "})(window);"
      ],
      "application/vnd.bokehjs_exec.v0+json": ""
     },
     "metadata": {
      "application/vnd.bokehjs_exec.v0+json": {
       "id": "3118"
      }
     },
     "output_type": "display_data"
    },
    {
     "name": "stdout",
     "output_type": "stream",
     "text": [
      "\n",
      "Time Series for Parameters\n",
      "\n"
     ]
    },
    {
     "data": {
      "text/html": [
       "\n",
       "    <div class=\"bk-root\">\n",
       "        <a href=\"https://bokeh.org\" target=\"_blank\" class=\"bk-logo bk-logo-small bk-logo-notebook\"></a>\n",
       "        <span id=\"3360\">Loading BokehJS ...</span>\n",
       "    </div>"
      ]
     },
     "metadata": {},
     "output_type": "display_data"
    },
    {
     "data": {
      "application/javascript": [
       "\n",
       "(function(root) {\n",
       "  function now() {\n",
       "    return new Date();\n",
       "  }\n",
       "\n",
       "  var force = true;\n",
       "\n",
       "  if (typeof root._bokeh_onload_callbacks === \"undefined\" || force === true) {\n",
       "    root._bokeh_onload_callbacks = [];\n",
       "    root._bokeh_is_loading = undefined;\n",
       "  }\n",
       "\n",
       "  var JS_MIME_TYPE = 'application/javascript';\n",
       "  var HTML_MIME_TYPE = 'text/html';\n",
       "  var EXEC_MIME_TYPE = 'application/vnd.bokehjs_exec.v0+json';\n",
       "  var CLASS_NAME = 'output_bokeh rendered_html';\n",
       "\n",
       "  /**\n",
       "   * Render data to the DOM node\n",
       "   */\n",
       "  function render(props, node) {\n",
       "    var script = document.createElement(\"script\");\n",
       "    node.appendChild(script);\n",
       "  }\n",
       "\n",
       "  /**\n",
       "   * Handle when an output is cleared or removed\n",
       "   */\n",
       "  function handleClearOutput(event, handle) {\n",
       "    var cell = handle.cell;\n",
       "\n",
       "    var id = cell.output_area._bokeh_element_id;\n",
       "    var server_id = cell.output_area._bokeh_server_id;\n",
       "    // Clean up Bokeh references\n",
       "    if (id != null && id in Bokeh.index) {\n",
       "      Bokeh.index[id].model.document.clear();\n",
       "      delete Bokeh.index[id];\n",
       "    }\n",
       "\n",
       "    if (server_id !== undefined) {\n",
       "      // Clean up Bokeh references\n",
       "      var cmd = \"from bokeh.io.state import curstate; print(curstate().uuid_to_server['\" + server_id + \"'].get_sessions()[0].document.roots[0]._id)\";\n",
       "      cell.notebook.kernel.execute(cmd, {\n",
       "        iopub: {\n",
       "          output: function(msg) {\n",
       "            var id = msg.content.text.trim();\n",
       "            if (id in Bokeh.index) {\n",
       "              Bokeh.index[id].model.document.clear();\n",
       "              delete Bokeh.index[id];\n",
       "            }\n",
       "          }\n",
       "        }\n",
       "      });\n",
       "      // Destroy server and session\n",
       "      var cmd = \"import bokeh.io.notebook as ion; ion.destroy_server('\" + server_id + \"')\";\n",
       "      cell.notebook.kernel.execute(cmd);\n",
       "    }\n",
       "  }\n",
       "\n",
       "  /**\n",
       "   * Handle when a new output is added\n",
       "   */\n",
       "  function handleAddOutput(event, handle) {\n",
       "    var output_area = handle.output_area;\n",
       "    var output = handle.output;\n",
       "\n",
       "    // limit handleAddOutput to display_data with EXEC_MIME_TYPE content only\n",
       "    if ((output.output_type != \"display_data\") || (!Object.prototype.hasOwnProperty.call(output.data, EXEC_MIME_TYPE))) {\n",
       "      return\n",
       "    }\n",
       "\n",
       "    var toinsert = output_area.element.find(\".\" + CLASS_NAME.split(' ')[0]);\n",
       "\n",
       "    if (output.metadata[EXEC_MIME_TYPE][\"id\"] !== undefined) {\n",
       "      toinsert[toinsert.length - 1].firstChild.textContent = output.data[JS_MIME_TYPE];\n",
       "      // store reference to embed id on output_area\n",
       "      output_area._bokeh_element_id = output.metadata[EXEC_MIME_TYPE][\"id\"];\n",
       "    }\n",
       "    if (output.metadata[EXEC_MIME_TYPE][\"server_id\"] !== undefined) {\n",
       "      var bk_div = document.createElement(\"div\");\n",
       "      bk_div.innerHTML = output.data[HTML_MIME_TYPE];\n",
       "      var script_attrs = bk_div.children[0].attributes;\n",
       "      for (var i = 0; i < script_attrs.length; i++) {\n",
       "        toinsert[toinsert.length - 1].firstChild.setAttribute(script_attrs[i].name, script_attrs[i].value);\n",
       "        toinsert[toinsert.length - 1].firstChild.textContent = bk_div.children[0].textContent\n",
       "      }\n",
       "      // store reference to server id on output_area\n",
       "      output_area._bokeh_server_id = output.metadata[EXEC_MIME_TYPE][\"server_id\"];\n",
       "    }\n",
       "  }\n",
       "\n",
       "  function register_renderer(events, OutputArea) {\n",
       "\n",
       "    function append_mime(data, metadata, element) {\n",
       "      // create a DOM node to render to\n",
       "      var toinsert = this.create_output_subarea(\n",
       "        metadata,\n",
       "        CLASS_NAME,\n",
       "        EXEC_MIME_TYPE\n",
       "      );\n",
       "      this.keyboard_manager.register_events(toinsert);\n",
       "      // Render to node\n",
       "      var props = {data: data, metadata: metadata[EXEC_MIME_TYPE]};\n",
       "      render(props, toinsert[toinsert.length - 1]);\n",
       "      element.append(toinsert);\n",
       "      return toinsert\n",
       "    }\n",
       "\n",
       "    /* Handle when an output is cleared or removed */\n",
       "    events.on('clear_output.CodeCell', handleClearOutput);\n",
       "    events.on('delete.Cell', handleClearOutput);\n",
       "\n",
       "    /* Handle when a new output is added */\n",
       "    events.on('output_added.OutputArea', handleAddOutput);\n",
       "\n",
       "    /**\n",
       "     * Register the mime type and append_mime function with output_area\n",
       "     */\n",
       "    OutputArea.prototype.register_mime_type(EXEC_MIME_TYPE, append_mime, {\n",
       "      /* Is output safe? */\n",
       "      safe: true,\n",
       "      /* Index of renderer in `output_area.display_order` */\n",
       "      index: 0\n",
       "    });\n",
       "  }\n",
       "\n",
       "  // register the mime type if in Jupyter Notebook environment and previously unregistered\n",
       "  if (root.Jupyter !== undefined) {\n",
       "    var events = require('base/js/events');\n",
       "    var OutputArea = require('notebook/js/outputarea').OutputArea;\n",
       "\n",
       "    if (OutputArea.prototype.mime_types().indexOf(EXEC_MIME_TYPE) == -1) {\n",
       "      register_renderer(events, OutputArea);\n",
       "    }\n",
       "  }\n",
       "\n",
       "  \n",
       "  if (typeof (root._bokeh_timeout) === \"undefined\" || force === true) {\n",
       "    root._bokeh_timeout = Date.now() + 5000;\n",
       "    root._bokeh_failed_load = false;\n",
       "  }\n",
       "\n",
       "  var NB_LOAD_WARNING = {'data': {'text/html':\n",
       "     \"<div style='background-color: #fdd'>\\n\"+\n",
       "     \"<p>\\n\"+\n",
       "     \"BokehJS does not appear to have successfully loaded. If loading BokehJS from CDN, this \\n\"+\n",
       "     \"may be due to a slow or bad network connection. Possible fixes:\\n\"+\n",
       "     \"</p>\\n\"+\n",
       "     \"<ul>\\n\"+\n",
       "     \"<li>re-rerun `output_notebook()` to attempt to load from CDN again, or</li>\\n\"+\n",
       "     \"<li>use INLINE resources instead, as so:</li>\\n\"+\n",
       "     \"</ul>\\n\"+\n",
       "     \"<code>\\n\"+\n",
       "     \"from bokeh.resources import INLINE\\n\"+\n",
       "     \"output_notebook(resources=INLINE)\\n\"+\n",
       "     \"</code>\\n\"+\n",
       "     \"</div>\"}};\n",
       "\n",
       "  function display_loaded() {\n",
       "    var el = document.getElementById(\"3360\");\n",
       "    if (el != null) {\n",
       "      el.textContent = \"BokehJS is loading...\";\n",
       "    }\n",
       "    if (root.Bokeh !== undefined) {\n",
       "      if (el != null) {\n",
       "        el.textContent = \"BokehJS \" + root.Bokeh.version + \" successfully loaded.\";\n",
       "      }\n",
       "    } else if (Date.now() < root._bokeh_timeout) {\n",
       "      setTimeout(display_loaded, 100)\n",
       "    }\n",
       "  }\n",
       "\n",
       "\n",
       "  function run_callbacks() {\n",
       "    try {\n",
       "      root._bokeh_onload_callbacks.forEach(function(callback) {\n",
       "        if (callback != null)\n",
       "          callback();\n",
       "      });\n",
       "    } finally {\n",
       "      delete root._bokeh_onload_callbacks\n",
       "    }\n",
       "    console.debug(\"Bokeh: all callbacks have finished\");\n",
       "  }\n",
       "\n",
       "  function load_libs(css_urls, js_urls, callback) {\n",
       "    if (css_urls == null) css_urls = [];\n",
       "    if (js_urls == null) js_urls = [];\n",
       "\n",
       "    root._bokeh_onload_callbacks.push(callback);\n",
       "    if (root._bokeh_is_loading > 0) {\n",
       "      console.debug(\"Bokeh: BokehJS is being loaded, scheduling callback at\", now());\n",
       "      return null;\n",
       "    }\n",
       "    if (js_urls == null || js_urls.length === 0) {\n",
       "      run_callbacks();\n",
       "      return null;\n",
       "    }\n",
       "    console.debug(\"Bokeh: BokehJS not loaded, scheduling load and callback at\", now());\n",
       "    root._bokeh_is_loading = css_urls.length + js_urls.length;\n",
       "\n",
       "    function on_load() {\n",
       "      root._bokeh_is_loading--;\n",
       "      if (root._bokeh_is_loading === 0) {\n",
       "        console.debug(\"Bokeh: all BokehJS libraries/stylesheets loaded\");\n",
       "        run_callbacks()\n",
       "      }\n",
       "    }\n",
       "\n",
       "    function on_error(url) {\n",
       "      console.error(\"failed to load \" + url);\n",
       "    }\n",
       "\n",
       "    for (let i = 0; i < css_urls.length; i++) {\n",
       "      const url = css_urls[i];\n",
       "      const element = document.createElement(\"link\");\n",
       "      element.onload = on_load;\n",
       "      element.onerror = on_error.bind(null, url);\n",
       "      element.rel = \"stylesheet\";\n",
       "      element.type = \"text/css\";\n",
       "      element.href = url;\n",
       "      console.debug(\"Bokeh: injecting link tag for BokehJS stylesheet: \", url);\n",
       "      document.body.appendChild(element);\n",
       "    }\n",
       "\n",
       "    const hashes = {\"https://cdn.bokeh.org/bokeh/release/bokeh-2.3.3.min.js\": \"dM3QQsP+wXdHg42wTqW85BjZQdLNNIXqlPw/BgKoExPmTG7ZLML4EGqLMfqHT6ON\", \"https://cdn.bokeh.org/bokeh/release/bokeh-tables-2.3.3.min.js\": \"8x57I4YuIfu8XyZfFo0XVr2WAT8EK4rh/uDe3wF7YuW2FNUSNEpJbsPaB1nJ2fz2\", \"https://cdn.bokeh.org/bokeh/release/bokeh-widgets-2.3.3.min.js\": \"3QTqdz9LyAm2i0sG5XTePsHec3UHWwVsrOL68SYRoAXsafvfAyqtQ+h440+qIBhS\"};\n",
       "\n",
       "    for (let i = 0; i < js_urls.length; i++) {\n",
       "      const url = js_urls[i];\n",
       "      const element = document.createElement('script');\n",
       "      element.onload = on_load;\n",
       "      element.onerror = on_error.bind(null, url);\n",
       "      element.async = false;\n",
       "      element.src = url;\n",
       "      if (url in hashes) {\n",
       "        element.crossOrigin = \"anonymous\";\n",
       "        element.integrity = \"sha384-\" + hashes[url];\n",
       "      }\n",
       "      console.debug(\"Bokeh: injecting script tag for BokehJS library: \", url);\n",
       "      document.head.appendChild(element);\n",
       "    }\n",
       "  };\n",
       "\n",
       "  function inject_raw_css(css) {\n",
       "    const element = document.createElement(\"style\");\n",
       "    element.appendChild(document.createTextNode(css));\n",
       "    document.body.appendChild(element);\n",
       "  }\n",
       "\n",
       "  \n",
       "  var js_urls = [\"https://cdn.bokeh.org/bokeh/release/bokeh-2.3.3.min.js\", \"https://cdn.bokeh.org/bokeh/release/bokeh-widgets-2.3.3.min.js\", \"https://cdn.bokeh.org/bokeh/release/bokeh-tables-2.3.3.min.js\"];\n",
       "  var css_urls = [];\n",
       "  \n",
       "\n",
       "  var inline_js = [\n",
       "    function(Bokeh) {\n",
       "      Bokeh.set_log_level(\"info\");\n",
       "    },\n",
       "    function(Bokeh) {\n",
       "    \n",
       "    \n",
       "    }\n",
       "  ];\n",
       "\n",
       "  function run_inline_js() {\n",
       "    \n",
       "    if (root.Bokeh !== undefined || force === true) {\n",
       "      \n",
       "    for (var i = 0; i < inline_js.length; i++) {\n",
       "      inline_js[i].call(root, root.Bokeh);\n",
       "    }\n",
       "    if (force === true) {\n",
       "        display_loaded();\n",
       "      }} else if (Date.now() < root._bokeh_timeout) {\n",
       "      setTimeout(run_inline_js, 100);\n",
       "    } else if (!root._bokeh_failed_load) {\n",
       "      console.log(\"Bokeh: BokehJS failed to load within specified timeout.\");\n",
       "      root._bokeh_failed_load = true;\n",
       "    } else if (force !== true) {\n",
       "      var cell = $(document.getElementById(\"3360\")).parents('.cell').data().cell;\n",
       "      cell.output_area.append_execute_result(NB_LOAD_WARNING)\n",
       "    }\n",
       "\n",
       "  }\n",
       "\n",
       "  if (root._bokeh_is_loading === 0) {\n",
       "    console.debug(\"Bokeh: BokehJS loaded, going straight to plotting\");\n",
       "    run_inline_js();\n",
       "  } else {\n",
       "    load_libs(css_urls, js_urls, function() {\n",
       "      console.debug(\"Bokeh: BokehJS plotting callback run at\", now());\n",
       "      run_inline_js();\n",
       "    });\n",
       "  }\n",
       "}(window));"
      ],
      "application/vnd.bokehjs_load.v0+json": "\n(function(root) {\n  function now() {\n    return new Date();\n  }\n\n  var force = true;\n\n  if (typeof root._bokeh_onload_callbacks === \"undefined\" || force === true) {\n    root._bokeh_onload_callbacks = [];\n    root._bokeh_is_loading = undefined;\n  }\n\n  \n\n  \n  if (typeof (root._bokeh_timeout) === \"undefined\" || force === true) {\n    root._bokeh_timeout = Date.now() + 5000;\n    root._bokeh_failed_load = false;\n  }\n\n  var NB_LOAD_WARNING = {'data': {'text/html':\n     \"<div style='background-color: #fdd'>\\n\"+\n     \"<p>\\n\"+\n     \"BokehJS does not appear to have successfully loaded. If loading BokehJS from CDN, this \\n\"+\n     \"may be due to a slow or bad network connection. Possible fixes:\\n\"+\n     \"</p>\\n\"+\n     \"<ul>\\n\"+\n     \"<li>re-rerun `output_notebook()` to attempt to load from CDN again, or</li>\\n\"+\n     \"<li>use INLINE resources instead, as so:</li>\\n\"+\n     \"</ul>\\n\"+\n     \"<code>\\n\"+\n     \"from bokeh.resources import INLINE\\n\"+\n     \"output_notebook(resources=INLINE)\\n\"+\n     \"</code>\\n\"+\n     \"</div>\"}};\n\n  function display_loaded() {\n    var el = document.getElementById(\"3360\");\n    if (el != null) {\n      el.textContent = \"BokehJS is loading...\";\n    }\n    if (root.Bokeh !== undefined) {\n      if (el != null) {\n        el.textContent = \"BokehJS \" + root.Bokeh.version + \" successfully loaded.\";\n      }\n    } else if (Date.now() < root._bokeh_timeout) {\n      setTimeout(display_loaded, 100)\n    }\n  }\n\n\n  function run_callbacks() {\n    try {\n      root._bokeh_onload_callbacks.forEach(function(callback) {\n        if (callback != null)\n          callback();\n      });\n    } finally {\n      delete root._bokeh_onload_callbacks\n    }\n    console.debug(\"Bokeh: all callbacks have finished\");\n  }\n\n  function load_libs(css_urls, js_urls, callback) {\n    if (css_urls == null) css_urls = [];\n    if (js_urls == null) js_urls = [];\n\n    root._bokeh_onload_callbacks.push(callback);\n    if (root._bokeh_is_loading > 0) {\n      console.debug(\"Bokeh: BokehJS is being loaded, scheduling callback at\", now());\n      return null;\n    }\n    if (js_urls == null || js_urls.length === 0) {\n      run_callbacks();\n      return null;\n    }\n    console.debug(\"Bokeh: BokehJS not loaded, scheduling load and callback at\", now());\n    root._bokeh_is_loading = css_urls.length + js_urls.length;\n\n    function on_load() {\n      root._bokeh_is_loading--;\n      if (root._bokeh_is_loading === 0) {\n        console.debug(\"Bokeh: all BokehJS libraries/stylesheets loaded\");\n        run_callbacks()\n      }\n    }\n\n    function on_error(url) {\n      console.error(\"failed to load \" + url);\n    }\n\n    for (let i = 0; i < css_urls.length; i++) {\n      const url = css_urls[i];\n      const element = document.createElement(\"link\");\n      element.onload = on_load;\n      element.onerror = on_error.bind(null, url);\n      element.rel = \"stylesheet\";\n      element.type = \"text/css\";\n      element.href = url;\n      console.debug(\"Bokeh: injecting link tag for BokehJS stylesheet: \", url);\n      document.body.appendChild(element);\n    }\n\n    const hashes = {\"https://cdn.bokeh.org/bokeh/release/bokeh-2.3.3.min.js\": \"dM3QQsP+wXdHg42wTqW85BjZQdLNNIXqlPw/BgKoExPmTG7ZLML4EGqLMfqHT6ON\", \"https://cdn.bokeh.org/bokeh/release/bokeh-tables-2.3.3.min.js\": \"8x57I4YuIfu8XyZfFo0XVr2WAT8EK4rh/uDe3wF7YuW2FNUSNEpJbsPaB1nJ2fz2\", \"https://cdn.bokeh.org/bokeh/release/bokeh-widgets-2.3.3.min.js\": \"3QTqdz9LyAm2i0sG5XTePsHec3UHWwVsrOL68SYRoAXsafvfAyqtQ+h440+qIBhS\"};\n\n    for (let i = 0; i < js_urls.length; i++) {\n      const url = js_urls[i];\n      const element = document.createElement('script');\n      element.onload = on_load;\n      element.onerror = on_error.bind(null, url);\n      element.async = false;\n      element.src = url;\n      if (url in hashes) {\n        element.crossOrigin = \"anonymous\";\n        element.integrity = \"sha384-\" + hashes[url];\n      }\n      console.debug(\"Bokeh: injecting script tag for BokehJS library: \", url);\n      document.head.appendChild(element);\n    }\n  };\n\n  function inject_raw_css(css) {\n    const element = document.createElement(\"style\");\n    element.appendChild(document.createTextNode(css));\n    document.body.appendChild(element);\n  }\n\n  \n  var js_urls = [\"https://cdn.bokeh.org/bokeh/release/bokeh-2.3.3.min.js\", \"https://cdn.bokeh.org/bokeh/release/bokeh-widgets-2.3.3.min.js\", \"https://cdn.bokeh.org/bokeh/release/bokeh-tables-2.3.3.min.js\"];\n  var css_urls = [];\n  \n\n  var inline_js = [\n    function(Bokeh) {\n      Bokeh.set_log_level(\"info\");\n    },\n    function(Bokeh) {\n    \n    \n    }\n  ];\n\n  function run_inline_js() {\n    \n    if (root.Bokeh !== undefined || force === true) {\n      \n    for (var i = 0; i < inline_js.length; i++) {\n      inline_js[i].call(root, root.Bokeh);\n    }\n    if (force === true) {\n        display_loaded();\n      }} else if (Date.now() < root._bokeh_timeout) {\n      setTimeout(run_inline_js, 100);\n    } else if (!root._bokeh_failed_load) {\n      console.log(\"Bokeh: BokehJS failed to load within specified timeout.\");\n      root._bokeh_failed_load = true;\n    } else if (force !== true) {\n      var cell = $(document.getElementById(\"3360\")).parents('.cell').data().cell;\n      cell.output_area.append_execute_result(NB_LOAD_WARNING)\n    }\n\n  }\n\n  if (root._bokeh_is_loading === 0) {\n    console.debug(\"Bokeh: BokehJS loaded, going straight to plotting\");\n    run_inline_js();\n  } else {\n    load_libs(css_urls, js_urls, function() {\n      console.debug(\"Bokeh: BokehJS plotting callback run at\", now());\n      run_inline_js();\n    });\n  }\n}(window));"
     },
     "metadata": {},
     "output_type": "display_data"
    },
    {
     "data": {
      "text/html": [
       "\n",
       "\n",
       "\n",
       "\n",
       "\n",
       "\n",
       "  <div class=\"bk-root\" id=\"453d7331-d249-4a48-95f7-751a18b43a39\" data-root-id=\"3511\"></div>\n"
      ]
     },
     "metadata": {},
     "output_type": "display_data"
    },
    {
     "data": {
      "application/javascript": [
       "(function(root) {\n",
       "  function embed_document(root) {\n",
       "    \n",
       "  var docs_json = {\"4d0dfebc-6be0-4e87-8e73-dcd345897d7b\":{\"defs\":[],\"roots\":{\"references\":[{\"attributes\":{\"children\":[{\"id\":\"3363\"},{\"id\":\"3481\"}]},\"id\":\"3511\",\"type\":\"Column\"},{\"attributes\":{\"source\":{\"id\":\"3452\"}},\"id\":\"3457\",\"type\":\"CDSView\"},{\"attributes\":{\"bottom_units\":\"screen\",\"fill_alpha\":0.5,\"fill_color\":\"lightgrey\",\"left_units\":\"screen\",\"level\":\"overlay\",\"line_alpha\":1.0,\"line_color\":\"black\",\"line_dash\":[4,4],\"line_width\":2,\"right_units\":\"screen\",\"syncable\":false,\"top_units\":\"screen\"},\"id\":\"3387\",\"type\":\"BoxAnnotation\"},{\"attributes\":{\"click_policy\":\"hide\",\"items\":[{\"id\":\"3425\"},{\"id\":\"3451\"},{\"id\":\"3480\"}],\"location\":\"top_left\"},\"id\":\"3424\",\"type\":\"Legend\"},{\"attributes\":{\"fill_alpha\":{\"value\":0.1},\"fill_color\":{\"value\":\"firebrick\"},\"line_alpha\":{\"value\":0.1},\"line_color\":{\"value\":\"firebrick\"},\"marker\":{\"value\":\"circle_x\"},\"size\":{\"value\":12},\"x\":{\"field\":\"TimeGenerated\"},\"y\":{\"field\":\"Parameters\"}},\"id\":\"3455\",\"type\":\"Scatter\"},{\"attributes\":{\"text\":\"Time Series Anomalies Visualization\"},\"id\":\"3364\",\"type\":\"Title\"},{\"attributes\":{\"end\":1629433626454.916,\"start\":1628867346454.916},\"id\":\"3366\",\"type\":\"Range1d\"},{\"attributes\":{\"dimensions\":\"width\"},\"id\":\"3386\",\"type\":\"PanTool\"},{\"attributes\":{\"axis\":{\"id\":\"3374\"},\"grid_line_color\":null,\"ticker\":null},\"id\":\"3377\",\"type\":\"Grid\"},{\"attributes\":{\"source\":{\"id\":\"3361\"}},\"id\":\"3403\",\"type\":\"CDSView\"},{\"attributes\":{},\"id\":\"3405\",\"type\":\"AllLabels\"},{\"attributes\":{},\"id\":\"3407\",\"type\":\"AllLabels\"},{\"attributes\":{},\"id\":\"3372\",\"type\":\"LinearScale\"},{\"attributes\":{\"data_source\":{\"id\":\"3452\"},\"glyph\":{\"id\":\"3454\"},\"hover_glyph\":null,\"muted_glyph\":null,\"nonselection_glyph\":{\"id\":\"3455\"},\"view\":{\"id\":\"3457\"}},\"id\":\"3456\",\"type\":\"GlyphRenderer\"},{\"attributes\":{\"label\":{\"value\":\"observed\"},\"renderers\":[{\"id\":\"3402\"}]},\"id\":\"3425\",\"type\":\"LegendItem\"},{\"attributes\":{\"label\":{\"value\":\"anomalies\"},\"renderers\":[{\"id\":\"3456\"}]},\"id\":\"3480\",\"type\":\"LegendItem\"},{\"attributes\":{},\"id\":\"3518\",\"type\":\"AllLabels\"},{\"attributes\":{},\"id\":\"3479\",\"type\":\"UnionRenderers\"},{\"attributes\":{\"fill_alpha\":{\"value\":0.1},\"fill_color\":{\"value\":\"#1f77b4\"},\"line_alpha\":{\"value\":0.1},\"line_color\":{\"value\":\"navy\"},\"x\":{\"field\":\"TimeGenerated\"},\"y\":{\"field\":\"Parameters\"}},\"id\":\"3401\",\"type\":\"Circle\"},{\"attributes\":{\"axis_label\":\"TimeGenerated\",\"formatter\":{\"id\":\"3395\"},\"major_label_policy\":{\"id\":\"3405\"},\"ticker\":{\"id\":\"3375\"}},\"id\":\"3374\",\"type\":\"DatetimeAxis\"},{\"attributes\":{\"data\":{\"Parameters\":[54,55,54],\"TimeGenerated\":{\"__ndarray__\":\"qG7/Oo60d0Kobr+g4LR3QqhuBzFEtXdC\",\"dtype\":\"float64\",\"order\":\"little\",\"shape\":[3]},\"baseline\":[29,30,23],\"index\":[34,58,87],\"level_0\":[0,1,2],\"residual\":[24,24,30],\"score\":{\"__ndarray__\":\"Wb/P/rC2EEBZv8/+sLYQQAg9z+R35xRA\",\"dtype\":\"float64\",\"order\":\"little\",\"shape\":[3]},\"seasonal\":[23,24,16],\"trend\":[6,6,6],\"weights\":[1,1,1]},\"selected\":{\"id\":\"3478\"},\"selection_policy\":{\"id\":\"3479\"}},\"id\":\"3452\",\"type\":\"ColumnDataSource\"},{\"attributes\":{\"fill_alpha\":{\"value\":0.2},\"fill_color\":{\"value\":\"firebrick\"},\"line_color\":{\"value\":\"firebrick\"},\"marker\":{\"value\":\"circle_x\"},\"size\":{\"value\":12},\"x\":{\"field\":\"TimeGenerated\"},\"y\":{\"field\":\"Parameters\"}},\"id\":\"3454\",\"type\":\"Scatter\"},{\"attributes\":{\"overlay\":{\"id\":\"3507\"},\"x_range\":{\"id\":\"3366\"},\"y_range\":null},\"id\":\"3506\",\"type\":\"RangeTool\"},{\"attributes\":{\"data_source\":{\"id\":\"3361\"},\"glyph\":{\"id\":\"3400\"},\"hover_glyph\":null,\"muted_glyph\":null,\"nonselection_glyph\":{\"id\":\"3401\"},\"view\":{\"id\":\"3403\"}},\"id\":\"3402\",\"type\":\"GlyphRenderer\"},{\"attributes\":{},\"id\":\"3478\",\"type\":\"Selection\"},{\"attributes\":{\"end\":1629485106454.916,\"start\":1628815866454.916},\"id\":\"3484\",\"type\":\"Range1d\"},{\"attributes\":{\"fill_color\":{\"value\":\"blue\"},\"line_color\":{\"value\":\"blue\"},\"x\":{\"field\":\"TimeGenerated\"},\"y\":{\"field\":\"score\"}},\"id\":\"3502\",\"type\":\"Circle\"},{\"attributes\":{\"source\":{\"id\":\"3500\"}},\"id\":\"3505\",\"type\":\"CDSView\"},{\"attributes\":{\"fill_alpha\":0.2,\"fill_color\":\"navy\",\"level\":\"overlay\",\"line_alpha\":1.0,\"line_color\":\"black\",\"line_dash\":[2,2],\"line_width\":0.5,\"syncable\":false},\"id\":\"3507\",\"type\":\"BoxAnnotation\"},{\"attributes\":{\"active_multi\":null,\"tools\":[{\"id\":\"3362\"},{\"id\":\"3382\"},{\"id\":\"3383\"},{\"id\":\"3384\"},{\"id\":\"3385\"},{\"id\":\"3386\"}]},\"id\":\"3388\",\"type\":\"Toolbar\"},{\"attributes\":{},\"id\":\"3370\",\"type\":\"LinearScale\"},{\"attributes\":{\"data_source\":{\"id\":\"3500\"},\"glyph\":{\"id\":\"3502\"},\"hover_glyph\":null,\"muted_glyph\":null,\"nonselection_glyph\":{\"id\":\"3503\"},\"view\":{\"id\":\"3505\"}},\"id\":\"3504\",\"type\":\"GlyphRenderer\"},{\"attributes\":{\"num_minor_ticks\":10,\"tickers\":[{\"id\":\"3409\"},{\"id\":\"3410\"},{\"id\":\"3411\"},{\"id\":\"3412\"},{\"id\":\"3413\"},{\"id\":\"3414\"},{\"id\":\"3415\"},{\"id\":\"3416\"},{\"id\":\"3417\"},{\"id\":\"3418\"},{\"id\":\"3419\"},{\"id\":\"3420\"}]},\"id\":\"3375\",\"type\":\"DatetimeTicker\"},{\"attributes\":{},\"id\":\"3486\",\"type\":\"DataRange1d\"},{\"attributes\":{\"fill_color\":{\"value\":\"#1f77b4\"},\"line_color\":{\"value\":\"navy\"},\"x\":{\"field\":\"TimeGenerated\"},\"y\":{\"field\":\"Parameters\"}},\"id\":\"3400\",\"type\":\"Circle\"},{\"attributes\":{\"callback\":null,\"formatters\":{\"@TimeGenerated\":\"datetime\"},\"tooltips\":[[\"TimeGenerated\",\"@TimeGenerated{%F %T.%3N}\"],[\"Parameters\",\"@Parameters\"],[\"residual\",\"@residual\"],[\"trend\",\"@trend\"],[\"seasonal\",\"@seasonal\"],[\"weights\",\"@weights\"],[\"score\",\"@score\"],[\"baseline\",\"@baseline\"]]},\"id\":\"3362\",\"type\":\"HoverTool\"},{\"attributes\":{\"below\":[{\"id\":\"3374\"}],\"center\":[{\"id\":\"3377\"},{\"id\":\"3381\"},{\"id\":\"3424\"}],\"height\":300,\"left\":[{\"id\":\"3378\"}],\"min_border_left\":50,\"renderers\":[{\"id\":\"3402\"},{\"id\":\"3429\"},{\"id\":\"3456\"}],\"title\":{\"id\":\"3364\"},\"toolbar\":{\"id\":\"3388\"},\"toolbar_location\":\"above\",\"width\":1200,\"x_range\":{\"id\":\"3366\"},\"x_scale\":{\"id\":\"3370\"},\"y_range\":{\"id\":\"3368\"},\"y_scale\":{\"id\":\"3372\"}},\"id\":\"3363\",\"subtype\":\"Figure\",\"type\":\"Plot\"},{\"attributes\":{\"fill_alpha\":{\"value\":0.1},\"fill_color\":{\"value\":\"blue\"},\"line_alpha\":{\"value\":0.1},\"line_color\":{\"value\":\"blue\"},\"x\":{\"field\":\"TimeGenerated\"},\"y\":{\"field\":\"score\"}},\"id\":\"3503\",\"type\":\"Circle\"},{\"attributes\":{\"below\":[{\"id\":\"3492\"},{\"id\":\"3497\"}],\"center\":[{\"id\":\"3495\"}],\"height\":120,\"renderers\":[{\"id\":\"3504\"}],\"title\":{\"id\":\"3482\"},\"toolbar\":{\"id\":\"3496\"},\"toolbar_location\":null,\"width\":1200,\"x_range\":{\"id\":\"3484\"},\"x_scale\":{\"id\":\"3488\"},\"y_range\":{\"id\":\"3486\"},\"y_scale\":{\"id\":\"3490\"}},\"id\":\"3481\",\"subtype\":\"Figure\",\"type\":\"Plot\"},{\"attributes\":{\"label\":{\"value\":\"baseline\"},\"renderers\":[{\"id\":\"3429\"}]},\"id\":\"3451\",\"type\":\"LegendItem\"},{\"attributes\":{},\"id\":\"3368\",\"type\":\"DataRange1d\"},{\"attributes\":{\"data_source\":{\"id\":\"3361\"},\"glyph\":{\"id\":\"3427\"},\"hover_glyph\":null,\"muted_glyph\":null,\"nonselection_glyph\":{\"id\":\"3428\"},\"view\":{\"id\":\"3430\"}},\"id\":\"3429\",\"type\":\"GlyphRenderer\"},{\"attributes\":{\"months\":[0,2,4,6,8,10]},\"id\":\"3417\",\"type\":\"MonthsTicker\"},{\"attributes\":{\"months\":[0,1,2,3,4,5,6,7,8,9,10,11]},\"id\":\"3544\",\"type\":\"MonthsTicker\"},{\"attributes\":{\"dimensions\":\"width\"},\"id\":\"3382\",\"type\":\"WheelZoomTool\"},{\"attributes\":{\"source\":{\"id\":\"3361\"}},\"id\":\"3430\",\"type\":\"CDSView\"},{\"attributes\":{\"text\":\"Range Selector\"},\"id\":\"3482\",\"type\":\"Title\"},{\"attributes\":{\"months\":[0,1,2,3,4,5,6,7,8,9,10,11]},\"id\":\"3416\",\"type\":\"MonthsTicker\"},{\"attributes\":{\"days\":[1,15]},\"id\":\"3543\",\"type\":\"DaysTicker\"},{\"attributes\":{\"num_minor_ticks\":5,\"tickers\":[{\"id\":\"3537\"},{\"id\":\"3538\"},{\"id\":\"3539\"},{\"id\":\"3540\"},{\"id\":\"3541\"},{\"id\":\"3542\"},{\"id\":\"3543\"},{\"id\":\"3544\"},{\"id\":\"3545\"},{\"id\":\"3546\"},{\"id\":\"3547\"},{\"id\":\"3548\"}]},\"id\":\"3493\",\"type\":\"DatetimeTicker\"},{\"attributes\":{\"mantissas\":[1,2,5],\"max_interval\":500.0,\"num_minor_ticks\":0},\"id\":\"3409\",\"type\":\"AdaptiveTicker\"},{\"attributes\":{\"line_color\":\"green\",\"x\":{\"field\":\"TimeGenerated\"},\"y\":{\"field\":\"baseline\"}},\"id\":\"3427\",\"type\":\"Line\"},{\"attributes\":{},\"id\":\"3490\",\"type\":\"LinearScale\"},{\"attributes\":{\"base\":60,\"mantissas\":[1,2,5,10,15,20,30],\"max_interval\":1800000.0,\"min_interval\":1000.0,\"num_minor_ticks\":0},\"id\":\"3410\",\"type\":\"AdaptiveTicker\"},{\"attributes\":{\"months\":[0,2,4,6,8,10]},\"id\":\"3545\",\"type\":\"MonthsTicker\"},{\"attributes\":{\"days\":[\"%m-%d %H:%M\"],\"hours\":[\"%H:%M:%S\"],\"milliseconds\":[\"%H:%M:%S.%3N\"],\"minutes\":[\"%H:%M:%S\"],\"seconds\":[\"%H:%M:%S\"]},\"id\":\"3498\",\"type\":\"DatetimeTickFormatter\"},{\"attributes\":{\"days\":[1,8,15,22]},\"id\":\"3414\",\"type\":\"DaysTicker\"},{\"attributes\":{\"days\":[1,4,7,10,13,16,19,22,25,28]},\"id\":\"3413\",\"type\":\"DaysTicker\"},{\"attributes\":{},\"id\":\"3422\",\"type\":\"Selection\"},{\"attributes\":{\"months\":[0,6]},\"id\":\"3419\",\"type\":\"MonthsTicker\"},{\"attributes\":{\"base\":24,\"mantissas\":[1,2,4,6,8,12],\"max_interval\":43200000.0,\"min_interval\":3600000.0,\"num_minor_ticks\":0},\"id\":\"3539\",\"type\":\"AdaptiveTicker\"},{\"attributes\":{},\"id\":\"3423\",\"type\":\"UnionRenderers\"},{\"attributes\":{\"months\":[0,4,8]},\"id\":\"3546\",\"type\":\"MonthsTicker\"},{\"attributes\":{\"mantissas\":[1,2,5],\"max_interval\":500.0,\"num_minor_ticks\":0},\"id\":\"3537\",\"type\":\"AdaptiveTicker\"},{\"attributes\":{\"formatter\":{\"id\":\"3498\"},\"major_label_policy\":{\"id\":\"3518\"},\"ticker\":{\"id\":\"3493\"}},\"id\":\"3492\",\"type\":\"DatetimeAxis\"},{\"attributes\":{\"days\":[1,2,3,4,5,6,7,8,9,10,11,12,13,14,15,16,17,18,19,20,21,22,23,24,25,26,27,28,29,30,31]},\"id\":\"3540\",\"type\":\"DaysTicker\"},{\"attributes\":{\"data\":{\"Parameters\":[3,5,1,16,1,16,1,1,15,2,1,1,3,4,3,16,2,2,1,2,1,15,2,2,1,1,16,2,2,1,3,1,2,16,54,2,1,2,1,16,5,2,3,1,16,1,1,1,1,1,1,15,1,3,2,3,2,16,55,4,1,2,1,16,1,1,2,2,3,16,1,2,2,1,16,1,1,3,1,1,15,1,2,2,7,2,17,54,1,3,3,1,15,2,1,2,3,1,2,15,4,2,2,1,15,5,1,1,2,1,17,2,1,2,1,3,3,15,1,1,0,0,0,0,0,0,0,0,0,0,0,0,0,0,0,0,0,0,0,0,0,0,0,0],\"TimeGenerated\":{\"__ndarray__\":\"qG4vgBm0d0KobhfvHLR3Qqhu/10gtHdCqG7nzCO0d0Kobs87J7R3Qqhut6oqtHdCqG6fGS60d0KoboeIMbR3Qqhub/c0tHdCqG5XZji0d0Kobj/VO7R3QqhuJ0Q/tHdCqG4Ps0K0d0KobvchRrR3Qqhu35BJtHdCqG7H/0y0d0Kobq9uULR3Qqhul91TtHdCqG5/TFe0d0Kobme7WrR3QqhuTypetHdCqG43mWG0d0Kobh8IZbR3QqhuB3dotHdCqG7v5Wu0d0KobtdUb7R3Qqhuv8NytHdCqG6nMna0d0Kobo+hebR3QqhudxB9tHdCqG5ff4C0d0Kobkfug7R3QqhuL12HtHdCqG4XzIq0d0Kobv86jrR3Qqhu56mRtHdCqG7PGJW0d0KobreHmLR3Qqhun/abtHdCqG6HZZ+0d0Kobm/UorR3QqhuV0OmtHdCqG4/sqm0d0KobichrbR3QqhuD5CwtHdCqG73/rO0d0Kobt9tt7R3Qqhux9y6tHdCqG6vS760d0Kobpe6wbR3QqhufynFtHdCqG5nmMi0d0Kobk8HzLR3QqhuN3bPtHdCqG4f5dK0d0KobgdU1rR3Qqhu78LZtHdCqG7XMd20d0Kobr+g4LR3Qqhupw/ktHdCqG6Pfue0d0Kobnft6rR3QqhuX1zutHdCqG5Hy/G0d0Kobi869bR3QqhuF6n4tHdCqG7/F/y0d0KobueG/7R3Qqhuz/UCtXdCqG63ZAa1d0Kobp/TCbV3Qqhuh0INtXdCqG5vsRC1d0KoblcgFLV3QqhuP48XtXdCqG4n/hq1d0Kobg9tHrV3Qqhu99shtXdCqG7fSiW1d0Kobse5KLV3QqhurygstXdCqG6Xly+1d0Kobn8GM7V3QqhuZ3U2tXdCqG5P5Dm1d0KobjdTPbV3QqhuH8JAtXdCqG4HMUS1d0Kobu+fR7V3Qqhu1w5LtXdCqG6/fU61d0KobqfsUbV3Qqhuj1tVtXdCqG53yli1d0Kobl85XLV3QqhuR6hftXdCqG4vF2O1d0KobheGZrV3Qqhu//RptXdCqG7nY221d0Kobs/ScLV3Qqhut0F0tXdCqG6fsHe1d0Kobocfe7V3Qqhub45+tXdCqG5X/YG1d0Kobj9shbV3QqhuJ9uItXdCqG4PSoy1d0Kobve4j7V3Qqhu3yeTtXdCqG7Hlpa1d0Kobq8FmrV3Qqhul3SdtXdCqG5/46C1d0KobmdSpLV3QqhuT8GntXdCqG43MKu1d0Kobh+frrV3QqhuBw6ytXdCqG7vfLW1d0KobtfruLV3Qqhuv1q8tXdCqG6nyb+1d0Kobo84w7V3Qqhud6fGtXdCqG5fFsq1d0KobkeFzbV3QqhuL/TQtXdCqG4XY9S1d0Kobv/R17V3Qqhu50DbtXdCqG7Pr961d0Kobrce4rV3Qqhun43ltXdCqG6H/Oi1d0Kobm9r7LV3QqhuV9rvtXdCqG4/SfO1d0Kobie49rV3QqhuDyf6tXdCqG73lf21d0Kobt8EAbZ3Qqhux3MEtndC\",\"dtype\":\"float64\",\"order\":\"little\",\"shape\":[144]},\"anomalies\":[0,0,0,0,0,0,0,0,0,0,0,0,0,0,0,0,0,0,0,0,0,0,0,0,0,0,0,0,0,0,0,0,0,0,1,0,0,0,0,0,0,0,0,0,0,0,0,0,0,0,0,0,0,0,0,0,0,0,1,0,0,0,0,0,0,0,0,0,0,0,0,0,0,0,0,0,0,0,0,0,0,0,0,0,0,0,0,1,0,0,0,0,0,0,0,0,0,0,0,0,0,0,0,0,0,0,0,0,0,0,0,0,0,0,0,0,0,0,0,0,0,0,0,0,0,0,0,0,0,0,0,0,0,0,0,0,0,0,0,0,0,0,0,0],\"baseline\":[1,3,4,11,0,10,1,0,8,7,24,0,1,2,0,12,2,1,1,1,4,10,1,1,2,3,7,10,2,8,2,2,8,9,29,2,2,3,3,19,3,2,2,2,7,10,2,2,2,2,9,8,1,4,2,1,8,9,30,2,3,2,7,24,2,2,2,1,9,8,1,1,1,1,7,8,2,2,2,2,9,8,21,3,4,2,10,23,2,3,3,3,9,10,2,3,2,2,5,7,2,2,2,1,9,4,6,1,2,1,9,13,1,1,1,1,4,6,1,1,0,0,0,3,0,0,0,-1,5,-1,-9,-1,0,0,6,1,0,0,0,0,0,3,0,0],\"index\":[0,1,2,3,4,5,6,7,8,9,10,11,12,13,14,15,16,17,18,19,20,21,22,23,24,25,26,27,28,29,30,31,32,33,34,35,36,37,38,39,40,41,42,43,44,45,46,47,48,49,50,51,52,53,54,55,56,57,58,59,60,61,62,63,64,65,66,67,68,69,70,71,72,73,74,75,76,77,78,79,80,81,82,83,84,85,86,87,88,89,90,91,92,93,94,95,96,97,98,99,100,101,102,103,104,105,106,107,108,109,110,111,112,113,114,115,116,117,118,119,120,121,122,123,124,125,126,127,128,129,130,131,132,133,134,135,136,137,138,139,140,141,142,143],\"residual\":[1,1,-3,4,0,5,0,0,6,-5,-23,0,1,1,3,3,0,0,0,0,-3,4,0,0,-1,-2,8,-8,0,-7,0,-1,-6,6,24,0,-1,-1,-2,-3,1,0,0,-1,8,-9,-1,-1,-1,-1,-8,6,0,-1,0,1,-6,6,24,1,-2,0,-6,-8,-1,-1,0,0,-6,7,0,0,0,0,8,-7,-1,0,-1,-1,5,-7,-19,-1,2,0,6,30,-1,0,0,-2,5,-8,-1,-1,0,-1,-3,7,1,0,0,0,5,0,-5,0,0,0,7,-11,0,0,0,1,-1,8,0,0,0,0,0,-3,0,0,0,1,-5,1,9,1,0,0,-6,-1,0,0,0,0,0,-3,0,0],\"score\":{\"__ndarray__\":\"y1w2+ibMxD/LXDb6JszEP8axb2FwJuG/7I2LViX25T/bwm5cMtWIvyvgit6DjOs/28JuXDLViL/bwm5cMtWIvzQZRTNxkfA/QlZucS1T7L/UQyxguhwQwNvCblwy1Yi/y1w2+ibMxD/LXDb6JszEP647jM7GX+A/rjuMzsZf4D/bwm5cMtWIv9vCblwy1Yi/28JuXDLViL/bwm5cMtWIv8axb2FwJuG/7I2LViX25T/bwm5cMtWIv9vCblwy1Yi/JjXERc3mx78Qv+CyIyDXv3JrRLvPJ/Y/fia2hCSL9r/bwm5cMtWIv199tkD1v/O/28JuXDLViL8mNcRFzebHv0DUtvzF9PC/NBlFM3GR8D9Zv8/+sLYQQNvCblwy1Yi/JjXERc3mx78mNcRFzebHvxC/4LIjINe/xrFvYXAm4b/LXDb6JszEP9vCblwy1Yi/28JuXDLViL8mNcRFzebHv3JrRLvPJ/Y/nc+1yFNW+b8mNcRFzebHvyY1xEXN5se/JjXERc3mx78mNcRFzebHv34mtoQki/a/NBlFM3GR8D/bwm5cMtWIvyY1xEXN5se/28JuXDLViL/LXDb6JszEP0DUtvzF9PC/NBlFM3GR8D9Zv8/+sLYQQMtcNvomzMQ/EL/gsiMg17/bwm5cMtWIv0DUtvzF9PC/fia2hCSL9r8mNcRFzebHvyY1xEXN5se/28JuXDLViL/bwm5cMtWIv0DUtvzF9PC/U8JEd6Bc8z/bwm5cMtWIv9vCblwy1Yi/28JuXDLViL/bwm5cMtWIv3JrRLvPJ/Y/X322QPW/878mNcRFzebHv9vCblwy1Yi/JjXERc3mx78mNcRFzebHvyvgit6DjOs/X322QPW/879pNVk4FqMKwCY1xEXN5se/4dIZjdCS1T/bwm5cMtWIvzQZRTNxkfA/CD3P5HfnFEAmNcRFzebHv9vCblwy1Yi/28JuXDLViL8Qv+CyIyDXvyvgit6DjOs/fia2hCSL9r8mNcRFzebHvyY1xEXN5se/28JuXDLViL8mNcRFzebHv8axb2FwJuG/U8JEd6Bc8z/LXDb6JszEP9vCblwy1Yi/28JuXDLViL/bwm5cMtWIvyvgit6DjOs/28JuXDLViL9CVm5xLVPsv9vCblwy1Yi/28JuXDLViL/bwm5cMtWIv1PCRHegXPM/2yG1ULLs/r/bwm5cMtWIv9vCblwy1Yi/28JuXDLViL/LXDb6JszEPyY1xEXN5se/cmtEu88n9j/bwm5cMtWIv9vCblwy1Yi/28JuXDLViL/bwm5cMtWIv9vCblwy1Yi/xrFvYXAm4b/bwm5cMtWIv9vCblwy1Yi/28JuXDLViL/LXDb6JszEP0JWbnEtU+y/y1w2+ibMxD+RFET//vL4P8tcNvomzMQ/28JuXDLViL/bwm5cMtWIv0DUtvzF9PC/JjXERc3mx7/bwm5cMtWIv9vCblwy1Yi/28JuXDLViL/bwm5cMtWIv9vCblwy1Yi/xrFvYXAm4b/bwm5cMtWIv9vCblwy1Yi/\",\"dtype\":\"float64\",\"order\":\"little\",\"shape\":[144]},\"seasonal\":[-2,0,0,7,-3,6,-3,-3,4,3,20,-3,-3,-1,-5,7,-2,-3,-4,-4,0,5,-4,-4,-3,-2,1,4,-3,2,-3,-4,2,3,23,-3,-3,-2,-2,13,-3,-3,-3,-4,1,3,-4,-4,-4,-4,2,2,-4,-2,-3,-4,2,3,24,-3,-3,-3,1,18,-3,-3,-3,-4,3,2,-4,-4,-3,-4,1,2,-3,-3,-3,-3,3,2,15,-3,-2,-3,4,16,-3,-2,-2,-2,2,4,-3,-2,-3,-3,0,2,-2,-2,-2,-2,4,0,2,-2,0,-2,6,10,-1,-1,-1,0,2,4,-1,0,-1,-2,-1,1,-1,-1,-1,-1,4,-2,-9,-1,0,0,7,2,0,0,0,1,1,5,1,1],\"trend\":[3,3,3,3,3,4,4,4,4,4,4,4,4,4,4,4,4,4,5,5,5,5,5,5,5,5,5,5,6,6,6,6,6,6,6,6,6,6,6,6,6,6,6,6,6,6,6,6,6,6,6,6,6,6,6,6,6,6,6,6,6,6,6,6,6,6,5,5,5,5,5,5,5,5,5,5,5,6,6,6,6,6,6,6,6,6,6,6,6,6,6,6,6,6,6,5,5,5,5,5,5,5,4,4,4,4,4,3,3,3,3,3,3,3,2,2,2,2,2,2,1,1,1,1,1,1,0,0,0,0,0,0,0,0,0,0,0,-1,-1,-1,-1,-1,-2,-2],\"weights\":[1,1,1,1,1,1,1,1,1,1,1,1,1,1,1,1,1,1,1,1,1,1,1,1,1,1,1,1,1,1,1,1,1,1,1,1,1,1,1,1,1,1,1,1,1,1,1,1,1,1,1,1,1,1,1,1,1,1,1,1,1,1,1,1,1,1,1,1,1,1,1,1,1,1,1,1,1,1,1,1,1,1,1,1,1,1,1,1,1,1,1,1,1,1,1,1,1,1,1,1,1,1,1,1,1,1,1,1,1,1,1,1,1,1,1,1,1,1,1,1,1,1,1,1,1,1,1,1,1,1,1,1,1,1,1,1,1,1,1,1,1,1,1,1]},\"selected\":{\"id\":\"3422\"},\"selection_policy\":{\"id\":\"3423\"}},\"id\":\"3361\",\"type\":\"ColumnDataSource\"},{\"attributes\":{\"days\":[1,15]},\"id\":\"3415\",\"type\":\"DaysTicker\"},{\"attributes\":{\"days\":[1,4,7,10,13,16,19,22,25,28]},\"id\":\"3541\",\"type\":\"DaysTicker\"},{\"attributes\":{},\"id\":\"3551\",\"type\":\"UnionRenderers\"},{\"attributes\":{},\"id\":\"3385\",\"type\":\"SaveTool\"},{\"attributes\":{\"days\":[\"%m-%d %H:%M\"],\"hours\":[\"%H:%M:%S\"],\"milliseconds\":[\"%H:%M:%S.%3N\"],\"minutes\":[\"%H:%M:%S\"],\"seconds\":[\"%H:%M:%S\"]},\"id\":\"3395\",\"type\":\"DatetimeTickFormatter\"},{\"attributes\":{\"line_alpha\":0.1,\"line_color\":\"green\",\"x\":{\"field\":\"TimeGenerated\"},\"y\":{\"field\":\"baseline\"}},\"id\":\"3428\",\"type\":\"Line\"},{\"attributes\":{\"format\":\"00\"},\"id\":\"3397\",\"type\":\"NumeralTickFormatter\"},{\"attributes\":{\"active_multi\":{\"id\":\"3506\"},\"tools\":[{\"id\":\"3506\"}]},\"id\":\"3496\",\"type\":\"Toolbar\"},{\"attributes\":{},\"id\":\"3488\",\"type\":\"LinearScale\"},{\"attributes\":{},\"id\":\"3384\",\"type\":\"ResetTool\"},{\"attributes\":{\"base\":60,\"mantissas\":[1,2,5,10,15,20,30],\"max_interval\":1800000.0,\"min_interval\":1000.0,\"num_minor_ticks\":0},\"id\":\"3538\",\"type\":\"AdaptiveTicker\"},{\"attributes\":{\"days\":[1,2,3,4,5,6,7,8,9,10,11,12,13,14,15,16,17,18,19,20,21,22,23,24,25,26,27,28,29,30,31]},\"id\":\"3412\",\"type\":\"DaysTicker\"},{\"attributes\":{\"overlay\":{\"id\":\"3387\"}},\"id\":\"3383\",\"type\":\"BoxZoomTool\"},{\"attributes\":{\"days\":[1,8,15,22]},\"id\":\"3542\",\"type\":\"DaysTicker\"},{\"attributes\":{},\"id\":\"3420\",\"type\":\"YearsTicker\"},{\"attributes\":{},\"id\":\"3548\",\"type\":\"YearsTicker\"},{\"attributes\":{\"months\":[0,4,8]},\"id\":\"3418\",\"type\":\"MonthsTicker\"},{\"attributes\":{\"data\":{\"Parameters\":[3,5,1,16,1,16,1,1,15,2,1,1,3,4,3,16,2,2,1,2,1,15,2,2,1,1,16,2,2,1,3,1,2,16,54,2,1,2,1,16,5,2,3,1,16,1,1,1,1,1,1,15,1,3,2,3,2,16,55,4,1,2,1,16,1,1,2,2,3,16,1,2,2,1,16,1,1,3,1,1,15,1,2,2,7,2,17,54,1,3,3,1,15,2,1,2,3,1,2,15,4,2,2,1,15,5,1,1,2,1,17,2,1,2,1,3,3,15,1,1,0,0,0,0,0,0,0,0,0,0,0,0,0,0,0,0,0,0,0,0,0,0,0,0],\"TimeGenerated\":{\"__ndarray__\":\"qG4vgBm0d0KobhfvHLR3Qqhu/10gtHdCqG7nzCO0d0Kobs87J7R3Qqhut6oqtHdCqG6fGS60d0KoboeIMbR3Qqhub/c0tHdCqG5XZji0d0Kobj/VO7R3QqhuJ0Q/tHdCqG4Ps0K0d0KobvchRrR3Qqhu35BJtHdCqG7H/0y0d0Kobq9uULR3Qqhul91TtHdCqG5/TFe0d0Kobme7WrR3QqhuTypetHdCqG43mWG0d0Kobh8IZbR3QqhuB3dotHdCqG7v5Wu0d0KobtdUb7R3Qqhuv8NytHdCqG6nMna0d0Kobo+hebR3QqhudxB9tHdCqG5ff4C0d0Kobkfug7R3QqhuL12HtHdCqG4XzIq0d0Kobv86jrR3Qqhu56mRtHdCqG7PGJW0d0KobreHmLR3Qqhun/abtHdCqG6HZZ+0d0Kobm/UorR3QqhuV0OmtHdCqG4/sqm0d0KobichrbR3QqhuD5CwtHdCqG73/rO0d0Kobt9tt7R3Qqhux9y6tHdCqG6vS760d0Kobpe6wbR3QqhufynFtHdCqG5nmMi0d0Kobk8HzLR3QqhuN3bPtHdCqG4f5dK0d0KobgdU1rR3Qqhu78LZtHdCqG7XMd20d0Kobr+g4LR3Qqhupw/ktHdCqG6Pfue0d0Kobnft6rR3QqhuX1zutHdCqG5Hy/G0d0Kobi869bR3QqhuF6n4tHdCqG7/F/y0d0KobueG/7R3Qqhuz/UCtXdCqG63ZAa1d0Kobp/TCbV3Qqhuh0INtXdCqG5vsRC1d0KoblcgFLV3QqhuP48XtXdCqG4n/hq1d0Kobg9tHrV3Qqhu99shtXdCqG7fSiW1d0Kobse5KLV3QqhurygstXdCqG6Xly+1d0Kobn8GM7V3QqhuZ3U2tXdCqG5P5Dm1d0KobjdTPbV3QqhuH8JAtXdCqG4HMUS1d0Kobu+fR7V3Qqhu1w5LtXdCqG6/fU61d0KobqfsUbV3Qqhuj1tVtXdCqG53yli1d0Kobl85XLV3QqhuR6hftXdCqG4vF2O1d0KobheGZrV3Qqhu//RptXdCqG7nY221d0Kobs/ScLV3Qqhut0F0tXdCqG6fsHe1d0Kobocfe7V3Qqhub45+tXdCqG5X/YG1d0Kobj9shbV3QqhuJ9uItXdCqG4PSoy1d0Kobve4j7V3Qqhu3yeTtXdCqG7Hlpa1d0Kobq8FmrV3Qqhul3SdtXdCqG5/46C1d0KobmdSpLV3QqhuT8GntXdCqG43MKu1d0Kobh+frrV3QqhuBw6ytXdCqG7vfLW1d0KobtfruLV3Qqhuv1q8tXdCqG6nyb+1d0Kobo84w7V3Qqhud6fGtXdCqG5fFsq1d0KobkeFzbV3QqhuL/TQtXdCqG4XY9S1d0Kobv/R17V3Qqhu50DbtXdCqG7Pr961d0Kobrce4rV3Qqhun43ltXdCqG6H/Oi1d0Kobm9r7LV3QqhuV9rvtXdCqG4/SfO1d0Kobie49rV3QqhuDyf6tXdCqG73lf21d0Kobt8EAbZ3Qqhux3MEtndC\",\"dtype\":\"float64\",\"order\":\"little\",\"shape\":[144]},\"anomalies\":[0,0,0,0,0,0,0,0,0,0,0,0,0,0,0,0,0,0,0,0,0,0,0,0,0,0,0,0,0,0,0,0,0,0,1,0,0,0,0,0,0,0,0,0,0,0,0,0,0,0,0,0,0,0,0,0,0,0,1,0,0,0,0,0,0,0,0,0,0,0,0,0,0,0,0,0,0,0,0,0,0,0,0,0,0,0,0,1,0,0,0,0,0,0,0,0,0,0,0,0,0,0,0,0,0,0,0,0,0,0,0,0,0,0,0,0,0,0,0,0,0,0,0,0,0,0,0,0,0,0,0,0,0,0,0,0,0,0,0,0,0,0,0,0],\"baseline\":[1,3,4,11,0,10,1,0,8,7,24,0,1,2,0,12,2,1,1,1,4,10,1,1,2,3,7,10,2,8,2,2,8,9,29,2,2,3,3,19,3,2,2,2,7,10,2,2,2,2,9,8,1,4,2,1,8,9,30,2,3,2,7,24,2,2,2,1,9,8,1,1,1,1,7,8,2,2,2,2,9,8,21,3,4,2,10,23,2,3,3,3,9,10,2,3,2,2,5,7,2,2,2,1,9,4,6,1,2,1,9,13,1,1,1,1,4,6,1,1,0,0,0,3,0,0,0,-1,5,-1,-9,-1,0,0,6,1,0,0,0,0,0,3,0,0],\"index\":[0,1,2,3,4,5,6,7,8,9,10,11,12,13,14,15,16,17,18,19,20,21,22,23,24,25,26,27,28,29,30,31,32,33,34,35,36,37,38,39,40,41,42,43,44,45,46,47,48,49,50,51,52,53,54,55,56,57,58,59,60,61,62,63,64,65,66,67,68,69,70,71,72,73,74,75,76,77,78,79,80,81,82,83,84,85,86,87,88,89,90,91,92,93,94,95,96,97,98,99,100,101,102,103,104,105,106,107,108,109,110,111,112,113,114,115,116,117,118,119,120,121,122,123,124,125,126,127,128,129,130,131,132,133,134,135,136,137,138,139,140,141,142,143],\"residual\":[1,1,-3,4,0,5,0,0,6,-5,-23,0,1,1,3,3,0,0,0,0,-3,4,0,0,-1,-2,8,-8,0,-7,0,-1,-6,6,24,0,-1,-1,-2,-3,1,0,0,-1,8,-9,-1,-1,-1,-1,-8,6,0,-1,0,1,-6,6,24,1,-2,0,-6,-8,-1,-1,0,0,-6,7,0,0,0,0,8,-7,-1,0,-1,-1,5,-7,-19,-1,2,0,6,30,-1,0,0,-2,5,-8,-1,-1,0,-1,-3,7,1,0,0,0,5,0,-5,0,0,0,7,-11,0,0,0,1,-1,8,0,0,0,0,0,-3,0,0,0,1,-5,1,9,1,0,0,-6,-1,0,0,0,0,0,-3,0,0],\"score\":{\"__ndarray__\":\"y1w2+ibMxD/LXDb6JszEP8axb2FwJuG/7I2LViX25T/bwm5cMtWIvyvgit6DjOs/28JuXDLViL/bwm5cMtWIvzQZRTNxkfA/QlZucS1T7L/UQyxguhwQwNvCblwy1Yi/y1w2+ibMxD/LXDb6JszEP647jM7GX+A/rjuMzsZf4D/bwm5cMtWIv9vCblwy1Yi/28JuXDLViL/bwm5cMtWIv8axb2FwJuG/7I2LViX25T/bwm5cMtWIv9vCblwy1Yi/JjXERc3mx78Qv+CyIyDXv3JrRLvPJ/Y/fia2hCSL9r/bwm5cMtWIv199tkD1v/O/28JuXDLViL8mNcRFzebHv0DUtvzF9PC/NBlFM3GR8D9Zv8/+sLYQQNvCblwy1Yi/JjXERc3mx78mNcRFzebHvxC/4LIjINe/xrFvYXAm4b/LXDb6JszEP9vCblwy1Yi/28JuXDLViL8mNcRFzebHv3JrRLvPJ/Y/nc+1yFNW+b8mNcRFzebHvyY1xEXN5se/JjXERc3mx78mNcRFzebHv34mtoQki/a/NBlFM3GR8D/bwm5cMtWIvyY1xEXN5se/28JuXDLViL/LXDb6JszEP0DUtvzF9PC/NBlFM3GR8D9Zv8/+sLYQQMtcNvomzMQ/EL/gsiMg17/bwm5cMtWIv0DUtvzF9PC/fia2hCSL9r8mNcRFzebHvyY1xEXN5se/28JuXDLViL/bwm5cMtWIv0DUtvzF9PC/U8JEd6Bc8z/bwm5cMtWIv9vCblwy1Yi/28JuXDLViL/bwm5cMtWIv3JrRLvPJ/Y/X322QPW/878mNcRFzebHv9vCblwy1Yi/JjXERc3mx78mNcRFzebHvyvgit6DjOs/X322QPW/879pNVk4FqMKwCY1xEXN5se/4dIZjdCS1T/bwm5cMtWIvzQZRTNxkfA/CD3P5HfnFEAmNcRFzebHv9vCblwy1Yi/28JuXDLViL8Qv+CyIyDXvyvgit6DjOs/fia2hCSL9r8mNcRFzebHvyY1xEXN5se/28JuXDLViL8mNcRFzebHv8axb2FwJuG/U8JEd6Bc8z/LXDb6JszEP9vCblwy1Yi/28JuXDLViL/bwm5cMtWIvyvgit6DjOs/28JuXDLViL9CVm5xLVPsv9vCblwy1Yi/28JuXDLViL/bwm5cMtWIv1PCRHegXPM/2yG1ULLs/r/bwm5cMtWIv9vCblwy1Yi/28JuXDLViL/LXDb6JszEPyY1xEXN5se/cmtEu88n9j/bwm5cMtWIv9vCblwy1Yi/28JuXDLViL/bwm5cMtWIv9vCblwy1Yi/xrFvYXAm4b/bwm5cMtWIv9vCblwy1Yi/28JuXDLViL/LXDb6JszEP0JWbnEtU+y/y1w2+ibMxD+RFET//vL4P8tcNvomzMQ/28JuXDLViL/bwm5cMtWIv0DUtvzF9PC/JjXERc3mx7/bwm5cMtWIv9vCblwy1Yi/28JuXDLViL/bwm5cMtWIv9vCblwy1Yi/xrFvYXAm4b/bwm5cMtWIv9vCblwy1Yi/\",\"dtype\":\"float64\",\"order\":\"little\",\"shape\":[144]},\"seasonal\":[-2,0,0,7,-3,6,-3,-3,4,3,20,-3,-3,-1,-5,7,-2,-3,-4,-4,0,5,-4,-4,-3,-2,1,4,-3,2,-3,-4,2,3,23,-3,-3,-2,-2,13,-3,-3,-3,-4,1,3,-4,-4,-4,-4,2,2,-4,-2,-3,-4,2,3,24,-3,-3,-3,1,18,-3,-3,-3,-4,3,2,-4,-4,-3,-4,1,2,-3,-3,-3,-3,3,2,15,-3,-2,-3,4,16,-3,-2,-2,-2,2,4,-3,-2,-3,-3,0,2,-2,-2,-2,-2,4,0,2,-2,0,-2,6,10,-1,-1,-1,0,2,4,-1,0,-1,-2,-1,1,-1,-1,-1,-1,4,-2,-9,-1,0,0,7,2,0,0,0,1,1,5,1,1],\"trend\":[3,3,3,3,3,4,4,4,4,4,4,4,4,4,4,4,4,4,5,5,5,5,5,5,5,5,5,5,6,6,6,6,6,6,6,6,6,6,6,6,6,6,6,6,6,6,6,6,6,6,6,6,6,6,6,6,6,6,6,6,6,6,6,6,6,6,5,5,5,5,5,5,5,5,5,5,5,6,6,6,6,6,6,6,6,6,6,6,6,6,6,6,6,6,6,5,5,5,5,5,5,5,4,4,4,4,4,3,3,3,3,3,3,3,2,2,2,2,2,2,1,1,1,1,1,1,0,0,0,0,0,0,0,0,0,0,0,-1,-1,-1,-1,-1,-2,-2],\"weights\":[1,1,1,1,1,1,1,1,1,1,1,1,1,1,1,1,1,1,1,1,1,1,1,1,1,1,1,1,1,1,1,1,1,1,1,1,1,1,1,1,1,1,1,1,1,1,1,1,1,1,1,1,1,1,1,1,1,1,1,1,1,1,1,1,1,1,1,1,1,1,1,1,1,1,1,1,1,1,1,1,1,1,1,1,1,1,1,1,1,1,1,1,1,1,1,1,1,1,1,1,1,1,1,1,1,1,1,1,1,1,1,1,1,1,1,1,1,1,1,1,1,1,1,1,1,1,1,1,1,1,1,1,1,1,1,1,1,1,1,1,1,1,1,1]},\"selected\":{\"id\":\"3550\"},\"selection_policy\":{\"id\":\"3551\"}},\"id\":\"3500\",\"type\":\"ColumnDataSource\"},{\"attributes\":{\"axis\":{\"id\":\"3492\"},\"ticker\":null},\"id\":\"3495\",\"type\":\"Grid\"},{\"attributes\":{\"axis_label\":\"Parameters\",\"formatter\":{\"id\":\"3397\"},\"major_label_policy\":{\"id\":\"3407\"},\"ticker\":{\"id\":\"3379\"}},\"id\":\"3378\",\"type\":\"LinearAxis\"},{\"attributes\":{\"align\":\"right\",\"text\":\"Drag the middle or edges of the selection box to change the range in the main chart\",\"text_font_size\":\"10px\"},\"id\":\"3497\",\"type\":\"Title\"},{\"attributes\":{\"base\":24,\"mantissas\":[1,2,4,6,8,12],\"max_interval\":43200000.0,\"min_interval\":3600000.0,\"num_minor_ticks\":0},\"id\":\"3411\",\"type\":\"AdaptiveTicker\"},{\"attributes\":{},\"id\":\"3550\",\"type\":\"Selection\"},{\"attributes\":{\"axis\":{\"id\":\"3378\"},\"dimension\":1,\"grid_line_color\":null,\"ticker\":null},\"id\":\"3381\",\"type\":\"Grid\"},{\"attributes\":{\"months\":[0,6]},\"id\":\"3547\",\"type\":\"MonthsTicker\"},{\"attributes\":{},\"id\":\"3379\",\"type\":\"BasicTicker\"}],\"root_ids\":[\"3511\"]},\"title\":\"Bokeh Application\",\"version\":\"2.3.3\"}};\n",
       "  var render_items = [{\"docid\":\"4d0dfebc-6be0-4e87-8e73-dcd345897d7b\",\"root_ids\":[\"3511\"],\"roots\":{\"3511\":\"453d7331-d249-4a48-95f7-751a18b43a39\"}}];\n",
       "  root.Bokeh.embed.embed_items_notebook(docs_json, render_items);\n",
       "\n",
       "  }\n",
       "  if (root.Bokeh !== undefined) {\n",
       "    embed_document(root);\n",
       "  } else {\n",
       "    var attempts = 0;\n",
       "    var timer = setInterval(function(root) {\n",
       "      if (root.Bokeh !== undefined) {\n",
       "        clearInterval(timer);\n",
       "        embed_document(root);\n",
       "      } else {\n",
       "        attempts++;\n",
       "        if (attempts > 100) {\n",
       "          clearInterval(timer);\n",
       "          console.log(\"Bokeh: ERROR: Unable to run BokehJS code because BokehJS library is missing\");\n",
       "        }\n",
       "      }\n",
       "    }, 10, root)\n",
       "  }\n",
       "})(window);"
      ],
      "application/vnd.bokehjs_exec.v0+json": ""
     },
     "metadata": {
      "application/vnd.bokehjs_exec.v0+json": {
       "id": "3511"
      }
     },
     "output_type": "display_data"
    },
    {
     "name": "stdout",
     "output_type": "stream",
     "text": [
      "\n",
      "Time Series for SourceRecordId\n",
      "\n"
     ]
    },
    {
     "data": {
      "text/html": [
       "\n",
       "    <div class=\"bk-root\">\n",
       "        <a href=\"https://bokeh.org\" target=\"_blank\" class=\"bk-logo bk-logo-small bk-logo-notebook\"></a>\n",
       "        <span id=\"3753\">Loading BokehJS ...</span>\n",
       "    </div>"
      ]
     },
     "metadata": {},
     "output_type": "display_data"
    },
    {
     "data": {
      "application/javascript": [
       "\n",
       "(function(root) {\n",
       "  function now() {\n",
       "    return new Date();\n",
       "  }\n",
       "\n",
       "  var force = true;\n",
       "\n",
       "  if (typeof root._bokeh_onload_callbacks === \"undefined\" || force === true) {\n",
       "    root._bokeh_onload_callbacks = [];\n",
       "    root._bokeh_is_loading = undefined;\n",
       "  }\n",
       "\n",
       "  var JS_MIME_TYPE = 'application/javascript';\n",
       "  var HTML_MIME_TYPE = 'text/html';\n",
       "  var EXEC_MIME_TYPE = 'application/vnd.bokehjs_exec.v0+json';\n",
       "  var CLASS_NAME = 'output_bokeh rendered_html';\n",
       "\n",
       "  /**\n",
       "   * Render data to the DOM node\n",
       "   */\n",
       "  function render(props, node) {\n",
       "    var script = document.createElement(\"script\");\n",
       "    node.appendChild(script);\n",
       "  }\n",
       "\n",
       "  /**\n",
       "   * Handle when an output is cleared or removed\n",
       "   */\n",
       "  function handleClearOutput(event, handle) {\n",
       "    var cell = handle.cell;\n",
       "\n",
       "    var id = cell.output_area._bokeh_element_id;\n",
       "    var server_id = cell.output_area._bokeh_server_id;\n",
       "    // Clean up Bokeh references\n",
       "    if (id != null && id in Bokeh.index) {\n",
       "      Bokeh.index[id].model.document.clear();\n",
       "      delete Bokeh.index[id];\n",
       "    }\n",
       "\n",
       "    if (server_id !== undefined) {\n",
       "      // Clean up Bokeh references\n",
       "      var cmd = \"from bokeh.io.state import curstate; print(curstate().uuid_to_server['\" + server_id + \"'].get_sessions()[0].document.roots[0]._id)\";\n",
       "      cell.notebook.kernel.execute(cmd, {\n",
       "        iopub: {\n",
       "          output: function(msg) {\n",
       "            var id = msg.content.text.trim();\n",
       "            if (id in Bokeh.index) {\n",
       "              Bokeh.index[id].model.document.clear();\n",
       "              delete Bokeh.index[id];\n",
       "            }\n",
       "          }\n",
       "        }\n",
       "      });\n",
       "      // Destroy server and session\n",
       "      var cmd = \"import bokeh.io.notebook as ion; ion.destroy_server('\" + server_id + \"')\";\n",
       "      cell.notebook.kernel.execute(cmd);\n",
       "    }\n",
       "  }\n",
       "\n",
       "  /**\n",
       "   * Handle when a new output is added\n",
       "   */\n",
       "  function handleAddOutput(event, handle) {\n",
       "    var output_area = handle.output_area;\n",
       "    var output = handle.output;\n",
       "\n",
       "    // limit handleAddOutput to display_data with EXEC_MIME_TYPE content only\n",
       "    if ((output.output_type != \"display_data\") || (!Object.prototype.hasOwnProperty.call(output.data, EXEC_MIME_TYPE))) {\n",
       "      return\n",
       "    }\n",
       "\n",
       "    var toinsert = output_area.element.find(\".\" + CLASS_NAME.split(' ')[0]);\n",
       "\n",
       "    if (output.metadata[EXEC_MIME_TYPE][\"id\"] !== undefined) {\n",
       "      toinsert[toinsert.length - 1].firstChild.textContent = output.data[JS_MIME_TYPE];\n",
       "      // store reference to embed id on output_area\n",
       "      output_area._bokeh_element_id = output.metadata[EXEC_MIME_TYPE][\"id\"];\n",
       "    }\n",
       "    if (output.metadata[EXEC_MIME_TYPE][\"server_id\"] !== undefined) {\n",
       "      var bk_div = document.createElement(\"div\");\n",
       "      bk_div.innerHTML = output.data[HTML_MIME_TYPE];\n",
       "      var script_attrs = bk_div.children[0].attributes;\n",
       "      for (var i = 0; i < script_attrs.length; i++) {\n",
       "        toinsert[toinsert.length - 1].firstChild.setAttribute(script_attrs[i].name, script_attrs[i].value);\n",
       "        toinsert[toinsert.length - 1].firstChild.textContent = bk_div.children[0].textContent\n",
       "      }\n",
       "      // store reference to server id on output_area\n",
       "      output_area._bokeh_server_id = output.metadata[EXEC_MIME_TYPE][\"server_id\"];\n",
       "    }\n",
       "  }\n",
       "\n",
       "  function register_renderer(events, OutputArea) {\n",
       "\n",
       "    function append_mime(data, metadata, element) {\n",
       "      // create a DOM node to render to\n",
       "      var toinsert = this.create_output_subarea(\n",
       "        metadata,\n",
       "        CLASS_NAME,\n",
       "        EXEC_MIME_TYPE\n",
       "      );\n",
       "      this.keyboard_manager.register_events(toinsert);\n",
       "      // Render to node\n",
       "      var props = {data: data, metadata: metadata[EXEC_MIME_TYPE]};\n",
       "      render(props, toinsert[toinsert.length - 1]);\n",
       "      element.append(toinsert);\n",
       "      return toinsert\n",
       "    }\n",
       "\n",
       "    /* Handle when an output is cleared or removed */\n",
       "    events.on('clear_output.CodeCell', handleClearOutput);\n",
       "    events.on('delete.Cell', handleClearOutput);\n",
       "\n",
       "    /* Handle when a new output is added */\n",
       "    events.on('output_added.OutputArea', handleAddOutput);\n",
       "\n",
       "    /**\n",
       "     * Register the mime type and append_mime function with output_area\n",
       "     */\n",
       "    OutputArea.prototype.register_mime_type(EXEC_MIME_TYPE, append_mime, {\n",
       "      /* Is output safe? */\n",
       "      safe: true,\n",
       "      /* Index of renderer in `output_area.display_order` */\n",
       "      index: 0\n",
       "    });\n",
       "  }\n",
       "\n",
       "  // register the mime type if in Jupyter Notebook environment and previously unregistered\n",
       "  if (root.Jupyter !== undefined) {\n",
       "    var events = require('base/js/events');\n",
       "    var OutputArea = require('notebook/js/outputarea').OutputArea;\n",
       "\n",
       "    if (OutputArea.prototype.mime_types().indexOf(EXEC_MIME_TYPE) == -1) {\n",
       "      register_renderer(events, OutputArea);\n",
       "    }\n",
       "  }\n",
       "\n",
       "  \n",
       "  if (typeof (root._bokeh_timeout) === \"undefined\" || force === true) {\n",
       "    root._bokeh_timeout = Date.now() + 5000;\n",
       "    root._bokeh_failed_load = false;\n",
       "  }\n",
       "\n",
       "  var NB_LOAD_WARNING = {'data': {'text/html':\n",
       "     \"<div style='background-color: #fdd'>\\n\"+\n",
       "     \"<p>\\n\"+\n",
       "     \"BokehJS does not appear to have successfully loaded. If loading BokehJS from CDN, this \\n\"+\n",
       "     \"may be due to a slow or bad network connection. Possible fixes:\\n\"+\n",
       "     \"</p>\\n\"+\n",
       "     \"<ul>\\n\"+\n",
       "     \"<li>re-rerun `output_notebook()` to attempt to load from CDN again, or</li>\\n\"+\n",
       "     \"<li>use INLINE resources instead, as so:</li>\\n\"+\n",
       "     \"</ul>\\n\"+\n",
       "     \"<code>\\n\"+\n",
       "     \"from bokeh.resources import INLINE\\n\"+\n",
       "     \"output_notebook(resources=INLINE)\\n\"+\n",
       "     \"</code>\\n\"+\n",
       "     \"</div>\"}};\n",
       "\n",
       "  function display_loaded() {\n",
       "    var el = document.getElementById(\"3753\");\n",
       "    if (el != null) {\n",
       "      el.textContent = \"BokehJS is loading...\";\n",
       "    }\n",
       "    if (root.Bokeh !== undefined) {\n",
       "      if (el != null) {\n",
       "        el.textContent = \"BokehJS \" + root.Bokeh.version + \" successfully loaded.\";\n",
       "      }\n",
       "    } else if (Date.now() < root._bokeh_timeout) {\n",
       "      setTimeout(display_loaded, 100)\n",
       "    }\n",
       "  }\n",
       "\n",
       "\n",
       "  function run_callbacks() {\n",
       "    try {\n",
       "      root._bokeh_onload_callbacks.forEach(function(callback) {\n",
       "        if (callback != null)\n",
       "          callback();\n",
       "      });\n",
       "    } finally {\n",
       "      delete root._bokeh_onload_callbacks\n",
       "    }\n",
       "    console.debug(\"Bokeh: all callbacks have finished\");\n",
       "  }\n",
       "\n",
       "  function load_libs(css_urls, js_urls, callback) {\n",
       "    if (css_urls == null) css_urls = [];\n",
       "    if (js_urls == null) js_urls = [];\n",
       "\n",
       "    root._bokeh_onload_callbacks.push(callback);\n",
       "    if (root._bokeh_is_loading > 0) {\n",
       "      console.debug(\"Bokeh: BokehJS is being loaded, scheduling callback at\", now());\n",
       "      return null;\n",
       "    }\n",
       "    if (js_urls == null || js_urls.length === 0) {\n",
       "      run_callbacks();\n",
       "      return null;\n",
       "    }\n",
       "    console.debug(\"Bokeh: BokehJS not loaded, scheduling load and callback at\", now());\n",
       "    root._bokeh_is_loading = css_urls.length + js_urls.length;\n",
       "\n",
       "    function on_load() {\n",
       "      root._bokeh_is_loading--;\n",
       "      if (root._bokeh_is_loading === 0) {\n",
       "        console.debug(\"Bokeh: all BokehJS libraries/stylesheets loaded\");\n",
       "        run_callbacks()\n",
       "      }\n",
       "    }\n",
       "\n",
       "    function on_error(url) {\n",
       "      console.error(\"failed to load \" + url);\n",
       "    }\n",
       "\n",
       "    for (let i = 0; i < css_urls.length; i++) {\n",
       "      const url = css_urls[i];\n",
       "      const element = document.createElement(\"link\");\n",
       "      element.onload = on_load;\n",
       "      element.onerror = on_error.bind(null, url);\n",
       "      element.rel = \"stylesheet\";\n",
       "      element.type = \"text/css\";\n",
       "      element.href = url;\n",
       "      console.debug(\"Bokeh: injecting link tag for BokehJS stylesheet: \", url);\n",
       "      document.body.appendChild(element);\n",
       "    }\n",
       "\n",
       "    const hashes = {\"https://cdn.bokeh.org/bokeh/release/bokeh-2.3.3.min.js\": \"dM3QQsP+wXdHg42wTqW85BjZQdLNNIXqlPw/BgKoExPmTG7ZLML4EGqLMfqHT6ON\", \"https://cdn.bokeh.org/bokeh/release/bokeh-tables-2.3.3.min.js\": \"8x57I4YuIfu8XyZfFo0XVr2WAT8EK4rh/uDe3wF7YuW2FNUSNEpJbsPaB1nJ2fz2\", \"https://cdn.bokeh.org/bokeh/release/bokeh-widgets-2.3.3.min.js\": \"3QTqdz9LyAm2i0sG5XTePsHec3UHWwVsrOL68SYRoAXsafvfAyqtQ+h440+qIBhS\"};\n",
       "\n",
       "    for (let i = 0; i < js_urls.length; i++) {\n",
       "      const url = js_urls[i];\n",
       "      const element = document.createElement('script');\n",
       "      element.onload = on_load;\n",
       "      element.onerror = on_error.bind(null, url);\n",
       "      element.async = false;\n",
       "      element.src = url;\n",
       "      if (url in hashes) {\n",
       "        element.crossOrigin = \"anonymous\";\n",
       "        element.integrity = \"sha384-\" + hashes[url];\n",
       "      }\n",
       "      console.debug(\"Bokeh: injecting script tag for BokehJS library: \", url);\n",
       "      document.head.appendChild(element);\n",
       "    }\n",
       "  };\n",
       "\n",
       "  function inject_raw_css(css) {\n",
       "    const element = document.createElement(\"style\");\n",
       "    element.appendChild(document.createTextNode(css));\n",
       "    document.body.appendChild(element);\n",
       "  }\n",
       "\n",
       "  \n",
       "  var js_urls = [\"https://cdn.bokeh.org/bokeh/release/bokeh-2.3.3.min.js\", \"https://cdn.bokeh.org/bokeh/release/bokeh-widgets-2.3.3.min.js\", \"https://cdn.bokeh.org/bokeh/release/bokeh-tables-2.3.3.min.js\"];\n",
       "  var css_urls = [];\n",
       "  \n",
       "\n",
       "  var inline_js = [\n",
       "    function(Bokeh) {\n",
       "      Bokeh.set_log_level(\"info\");\n",
       "    },\n",
       "    function(Bokeh) {\n",
       "    \n",
       "    \n",
       "    }\n",
       "  ];\n",
       "\n",
       "  function run_inline_js() {\n",
       "    \n",
       "    if (root.Bokeh !== undefined || force === true) {\n",
       "      \n",
       "    for (var i = 0; i < inline_js.length; i++) {\n",
       "      inline_js[i].call(root, root.Bokeh);\n",
       "    }\n",
       "    if (force === true) {\n",
       "        display_loaded();\n",
       "      }} else if (Date.now() < root._bokeh_timeout) {\n",
       "      setTimeout(run_inline_js, 100);\n",
       "    } else if (!root._bokeh_failed_load) {\n",
       "      console.log(\"Bokeh: BokehJS failed to load within specified timeout.\");\n",
       "      root._bokeh_failed_load = true;\n",
       "    } else if (force !== true) {\n",
       "      var cell = $(document.getElementById(\"3753\")).parents('.cell').data().cell;\n",
       "      cell.output_area.append_execute_result(NB_LOAD_WARNING)\n",
       "    }\n",
       "\n",
       "  }\n",
       "\n",
       "  if (root._bokeh_is_loading === 0) {\n",
       "    console.debug(\"Bokeh: BokehJS loaded, going straight to plotting\");\n",
       "    run_inline_js();\n",
       "  } else {\n",
       "    load_libs(css_urls, js_urls, function() {\n",
       "      console.debug(\"Bokeh: BokehJS plotting callback run at\", now());\n",
       "      run_inline_js();\n",
       "    });\n",
       "  }\n",
       "}(window));"
      ],
      "application/vnd.bokehjs_load.v0+json": "\n(function(root) {\n  function now() {\n    return new Date();\n  }\n\n  var force = true;\n\n  if (typeof root._bokeh_onload_callbacks === \"undefined\" || force === true) {\n    root._bokeh_onload_callbacks = [];\n    root._bokeh_is_loading = undefined;\n  }\n\n  \n\n  \n  if (typeof (root._bokeh_timeout) === \"undefined\" || force === true) {\n    root._bokeh_timeout = Date.now() + 5000;\n    root._bokeh_failed_load = false;\n  }\n\n  var NB_LOAD_WARNING = {'data': {'text/html':\n     \"<div style='background-color: #fdd'>\\n\"+\n     \"<p>\\n\"+\n     \"BokehJS does not appear to have successfully loaded. If loading BokehJS from CDN, this \\n\"+\n     \"may be due to a slow or bad network connection. Possible fixes:\\n\"+\n     \"</p>\\n\"+\n     \"<ul>\\n\"+\n     \"<li>re-rerun `output_notebook()` to attempt to load from CDN again, or</li>\\n\"+\n     \"<li>use INLINE resources instead, as so:</li>\\n\"+\n     \"</ul>\\n\"+\n     \"<code>\\n\"+\n     \"from bokeh.resources import INLINE\\n\"+\n     \"output_notebook(resources=INLINE)\\n\"+\n     \"</code>\\n\"+\n     \"</div>\"}};\n\n  function display_loaded() {\n    var el = document.getElementById(\"3753\");\n    if (el != null) {\n      el.textContent = \"BokehJS is loading...\";\n    }\n    if (root.Bokeh !== undefined) {\n      if (el != null) {\n        el.textContent = \"BokehJS \" + root.Bokeh.version + \" successfully loaded.\";\n      }\n    } else if (Date.now() < root._bokeh_timeout) {\n      setTimeout(display_loaded, 100)\n    }\n  }\n\n\n  function run_callbacks() {\n    try {\n      root._bokeh_onload_callbacks.forEach(function(callback) {\n        if (callback != null)\n          callback();\n      });\n    } finally {\n      delete root._bokeh_onload_callbacks\n    }\n    console.debug(\"Bokeh: all callbacks have finished\");\n  }\n\n  function load_libs(css_urls, js_urls, callback) {\n    if (css_urls == null) css_urls = [];\n    if (js_urls == null) js_urls = [];\n\n    root._bokeh_onload_callbacks.push(callback);\n    if (root._bokeh_is_loading > 0) {\n      console.debug(\"Bokeh: BokehJS is being loaded, scheduling callback at\", now());\n      return null;\n    }\n    if (js_urls == null || js_urls.length === 0) {\n      run_callbacks();\n      return null;\n    }\n    console.debug(\"Bokeh: BokehJS not loaded, scheduling load and callback at\", now());\n    root._bokeh_is_loading = css_urls.length + js_urls.length;\n\n    function on_load() {\n      root._bokeh_is_loading--;\n      if (root._bokeh_is_loading === 0) {\n        console.debug(\"Bokeh: all BokehJS libraries/stylesheets loaded\");\n        run_callbacks()\n      }\n    }\n\n    function on_error(url) {\n      console.error(\"failed to load \" + url);\n    }\n\n    for (let i = 0; i < css_urls.length; i++) {\n      const url = css_urls[i];\n      const element = document.createElement(\"link\");\n      element.onload = on_load;\n      element.onerror = on_error.bind(null, url);\n      element.rel = \"stylesheet\";\n      element.type = \"text/css\";\n      element.href = url;\n      console.debug(\"Bokeh: injecting link tag for BokehJS stylesheet: \", url);\n      document.body.appendChild(element);\n    }\n\n    const hashes = {\"https://cdn.bokeh.org/bokeh/release/bokeh-2.3.3.min.js\": \"dM3QQsP+wXdHg42wTqW85BjZQdLNNIXqlPw/BgKoExPmTG7ZLML4EGqLMfqHT6ON\", \"https://cdn.bokeh.org/bokeh/release/bokeh-tables-2.3.3.min.js\": \"8x57I4YuIfu8XyZfFo0XVr2WAT8EK4rh/uDe3wF7YuW2FNUSNEpJbsPaB1nJ2fz2\", \"https://cdn.bokeh.org/bokeh/release/bokeh-widgets-2.3.3.min.js\": \"3QTqdz9LyAm2i0sG5XTePsHec3UHWwVsrOL68SYRoAXsafvfAyqtQ+h440+qIBhS\"};\n\n    for (let i = 0; i < js_urls.length; i++) {\n      const url = js_urls[i];\n      const element = document.createElement('script');\n      element.onload = on_load;\n      element.onerror = on_error.bind(null, url);\n      element.async = false;\n      element.src = url;\n      if (url in hashes) {\n        element.crossOrigin = \"anonymous\";\n        element.integrity = \"sha384-\" + hashes[url];\n      }\n      console.debug(\"Bokeh: injecting script tag for BokehJS library: \", url);\n      document.head.appendChild(element);\n    }\n  };\n\n  function inject_raw_css(css) {\n    const element = document.createElement(\"style\");\n    element.appendChild(document.createTextNode(css));\n    document.body.appendChild(element);\n  }\n\n  \n  var js_urls = [\"https://cdn.bokeh.org/bokeh/release/bokeh-2.3.3.min.js\", \"https://cdn.bokeh.org/bokeh/release/bokeh-widgets-2.3.3.min.js\", \"https://cdn.bokeh.org/bokeh/release/bokeh-tables-2.3.3.min.js\"];\n  var css_urls = [];\n  \n\n  var inline_js = [\n    function(Bokeh) {\n      Bokeh.set_log_level(\"info\");\n    },\n    function(Bokeh) {\n    \n    \n    }\n  ];\n\n  function run_inline_js() {\n    \n    if (root.Bokeh !== undefined || force === true) {\n      \n    for (var i = 0; i < inline_js.length; i++) {\n      inline_js[i].call(root, root.Bokeh);\n    }\n    if (force === true) {\n        display_loaded();\n      }} else if (Date.now() < root._bokeh_timeout) {\n      setTimeout(run_inline_js, 100);\n    } else if (!root._bokeh_failed_load) {\n      console.log(\"Bokeh: BokehJS failed to load within specified timeout.\");\n      root._bokeh_failed_load = true;\n    } else if (force !== true) {\n      var cell = $(document.getElementById(\"3753\")).parents('.cell').data().cell;\n      cell.output_area.append_execute_result(NB_LOAD_WARNING)\n    }\n\n  }\n\n  if (root._bokeh_is_loading === 0) {\n    console.debug(\"Bokeh: BokehJS loaded, going straight to plotting\");\n    run_inline_js();\n  } else {\n    load_libs(css_urls, js_urls, function() {\n      console.debug(\"Bokeh: BokehJS plotting callback run at\", now());\n      run_inline_js();\n    });\n  }\n}(window));"
     },
     "metadata": {},
     "output_type": "display_data"
    },
    {
     "data": {
      "text/html": [
       "\n",
       "\n",
       "\n",
       "\n",
       "\n",
       "\n",
       "  <div class=\"bk-root\" id=\"21021265-475d-4e9d-86e3-9ebb7746e813\" data-root-id=\"3904\"></div>\n"
      ]
     },
     "metadata": {},
     "output_type": "display_data"
    },
    {
     "data": {
      "application/javascript": [
       "(function(root) {\n",
       "  function embed_document(root) {\n",
       "    \n",
       "  var docs_json = {\"82340bce-e7ee-462a-a9d9-d707e0ad077f\":{\"defs\":[],\"roots\":{\"references\":[{\"attributes\":{\"children\":[{\"id\":\"3756\"},{\"id\":\"3874\"}]},\"id\":\"3904\",\"type\":\"Column\"},{\"attributes\":{\"label\":{\"value\":\"baseline\"},\"renderers\":[{\"id\":\"3822\"}]},\"id\":\"3844\",\"type\":\"LegendItem\"},{\"attributes\":{\"active_multi\":{\"id\":\"3899\"},\"tools\":[{\"id\":\"3899\"}]},\"id\":\"3889\",\"type\":\"Toolbar\"},{\"attributes\":{\"fill_alpha\":{\"value\":0.2},\"fill_color\":{\"value\":\"firebrick\"},\"line_color\":{\"value\":\"firebrick\"},\"marker\":{\"value\":\"circle_x\"},\"size\":{\"value\":12},\"x\":{\"field\":\"TimeGenerated\"},\"y\":{\"field\":\"SourceRecordId\"}},\"id\":\"3847\",\"type\":\"Scatter\"},{\"attributes\":{\"data\":{\"SourceRecordId\":[9,14,6,23,10,21,5,5,19,8,6,5,8,8,8,21,7,11,5,2,5,20,6,9,6,6,20,8,7,1,7,5,8,21,81,7,1,11,5,20,10,7,8,7,23,6,11,7,17,1,5,20,7,8,7,4,7,24,81,10,5,11,5,20,7,16,2,7,10,22,7,7,7,7,21,8,8,8,1,9,21,8,7,7,13,18,19,85,6,8,10,10,53,8,2,8,8,5,7,21,19,16,10,10,29,22,15,25,20,15,31,9,9,17,11,28,12,86,23,18,0,0,0,0,0,0,0,0,0,0,0,0,0,0,0,0,0,0,0,0,0,0,0,0],\"TimeGenerated\":{\"__ndarray__\":\"qG4vgBm0d0KobhfvHLR3Qqhu/10gtHdCqG7nzCO0d0Kobs87J7R3Qqhut6oqtHdCqG6fGS60d0KoboeIMbR3Qqhub/c0tHdCqG5XZji0d0Kobj/VO7R3QqhuJ0Q/tHdCqG4Ps0K0d0KobvchRrR3Qqhu35BJtHdCqG7H/0y0d0Kobq9uULR3Qqhul91TtHdCqG5/TFe0d0Kobme7WrR3QqhuTypetHdCqG43mWG0d0Kobh8IZbR3QqhuB3dotHdCqG7v5Wu0d0KobtdUb7R3Qqhuv8NytHdCqG6nMna0d0Kobo+hebR3QqhudxB9tHdCqG5ff4C0d0Kobkfug7R3QqhuL12HtHdCqG4XzIq0d0Kobv86jrR3Qqhu56mRtHdCqG7PGJW0d0KobreHmLR3Qqhun/abtHdCqG6HZZ+0d0Kobm/UorR3QqhuV0OmtHdCqG4/sqm0d0KobichrbR3QqhuD5CwtHdCqG73/rO0d0Kobt9tt7R3Qqhux9y6tHdCqG6vS760d0Kobpe6wbR3QqhufynFtHdCqG5nmMi0d0Kobk8HzLR3QqhuN3bPtHdCqG4f5dK0d0KobgdU1rR3Qqhu78LZtHdCqG7XMd20d0Kobr+g4LR3Qqhupw/ktHdCqG6Pfue0d0Kobnft6rR3QqhuX1zutHdCqG5Hy/G0d0Kobi869bR3QqhuF6n4tHdCqG7/F/y0d0KobueG/7R3Qqhuz/UCtXdCqG63ZAa1d0Kobp/TCbV3Qqhuh0INtXdCqG5vsRC1d0KoblcgFLV3QqhuP48XtXdCqG4n/hq1d0Kobg9tHrV3Qqhu99shtXdCqG7fSiW1d0Kobse5KLV3QqhurygstXdCqG6Xly+1d0Kobn8GM7V3QqhuZ3U2tXdCqG5P5Dm1d0KobjdTPbV3QqhuH8JAtXdCqG4HMUS1d0Kobu+fR7V3Qqhu1w5LtXdCqG6/fU61d0KobqfsUbV3Qqhuj1tVtXdCqG53yli1d0Kobl85XLV3QqhuR6hftXdCqG4vF2O1d0KobheGZrV3Qqhu//RptXdCqG7nY221d0Kobs/ScLV3Qqhut0F0tXdCqG6fsHe1d0Kobocfe7V3Qqhub45+tXdCqG5X/YG1d0Kobj9shbV3QqhuJ9uItXdCqG4PSoy1d0Kobve4j7V3Qqhu3yeTtXdCqG7Hlpa1d0Kobq8FmrV3Qqhul3SdtXdCqG5/46C1d0KobmdSpLV3QqhuT8GntXdCqG43MKu1d0Kobh+frrV3QqhuBw6ytXdCqG7vfLW1d0KobtfruLV3Qqhuv1q8tXdCqG6nyb+1d0Kobo84w7V3Qqhud6fGtXdCqG5fFsq1d0KobkeFzbV3QqhuL/TQtXdCqG4XY9S1d0Kobv/R17V3Qqhu50DbtXdCqG7Pr961d0Kobrce4rV3Qqhun43ltXdCqG6H/Oi1d0Kobm9r7LV3QqhuV9rvtXdCqG4/SfO1d0Kobie49rV3QqhuDyf6tXdCqG73lf21d0Kobt8EAbZ3Qqhux3MEtndC\",\"dtype\":\"float64\",\"order\":\"little\",\"shape\":[144]},\"anomalies\":[0,0,0,0,0,0,0,0,0,0,0,0,0,0,0,0,0,0,0,0,0,0,0,0,0,0,0,0,0,0,0,0,0,0,1,0,0,0,0,0,0,0,0,0,0,0,0,0,0,0,0,0,0,0,0,0,0,0,1,0,0,0,0,0,0,0,0,0,0,0,0,0,0,0,0,0,0,0,0,0,0,0,0,0,0,0,0,1,0,0,0,0,0,0,0,0,0,0,0,0,0,0,0,0,0,0,0,0,0,0,0,0,0,0,0,0,0,1,0,0,0,0,0,0,0,0,0,0,0,0,0,0,0,0,0,0,0,0,0,0,0,0,0,0],\"baseline\":[8,10,9,18,7,13,5,3,12,13,39,4,3,7,3,14,7,9,4,1,6,11,7,7,10,8,12,17,9,11,6,5,14,16,45,7,6,11,8,26,8,11,6,6,16,16,8,8,10,6,13,14,8,8,5,6,13,16,47,9,7,12,10,34,6,10,5,8,22,19,6,7,7,3,10,12,9,8,5,6,16,16,35,12,11,14,16,35,9,14,10,15,26,34,14,14,8,6,10,14,12,12,9,11,20,16,19,17,16,16,21,30,12,16,14,19,23,38,16,15,-1,-1,0,2,2,1,-2,-1,5,0,-12,2,1,-1,5,0,-5,-3,-4,1,-2,22,-1,-2],\"index\":[0,1,2,3,4,5,6,7,8,9,10,11,12,13,14,15,16,17,18,19,20,21,22,23,24,25,26,27,28,29,30,31,32,33,34,35,36,37,38,39,40,41,42,43,44,45,46,47,48,49,50,51,52,53,54,55,56,57,58,59,60,61,62,63,64,65,66,67,68,69,70,71,72,73,74,75,76,77,78,79,80,81,82,83,84,85,86,87,88,89,90,91,92,93,94,95,96,97,98,99,100,101,102,103,104,105,106,107,108,109,110,111,112,113,114,115,116,117,118,119,120,121,122,123,124,125,126,127,128,129,130,131,132,133,134,135,136,137,138,139,140,141,142,143],\"residual\":[0,3,-3,4,2,7,0,1,6,-5,-33,0,4,0,4,6,0,1,0,0,-1,8,-1,1,-4,-2,7,-9,-2,-10,0,0,-6,4,35,0,-5,0,-3,-6,1,-4,1,0,6,-10,2,-1,6,-5,-8,5,-1,0,1,-2,-6,7,33,0,-2,-1,-5,-14,0,5,-3,-1,-12,2,0,0,0,3,10,-4,-1,0,-4,2,4,-8,-28,-5,1,3,2,49,-3,-6,0,-5,26,-26,-12,-6,0,-1,-3,6,6,3,0,-1,8,5,-4,7,3,-1,9,-21,-3,0,-3,8,-11,47,6,2,1,1,0,-2,-2,-1,2,1,-5,0,12,-2,-1,1,-5,0,5,3,4,-1,2,-22,1,2],\"score\":{\"__ndarray__\":\"WdMrreBIoL/MHI8gi4HRP6IR2kvDk9W/iaSgMhgF2D8eKvsc/PvFP+CdarTfx+U/WdMrreBIoL9INbDxw+mxPwLaYSsZhuI/jpD+t25N4b85/zxtyR8LwFnTK63gSKC/iaSgMhgF2D9Z0yut4Eigv4mkoDIYBdg/AtphKxmG4j9Z0yut4Eigv0g1sPHD6bE/WdMrreBIoL9Z0yut4Eigv1AEbk9SGcG/v2FzPaYJ6T9QBG5PUhnBv0g1sPHD6bE/X5nrXVAX3L/KE5FzbCDOv+CdarTfx+U/CKAh3IhU7r/KE5FzbCDOv/MxlbIny/C/WdMrreBIoL9Z0yut4Eigv21UB0E1j+S/iaSgMhgF2D+OAlisZT4MQFnTK63gSKC/jpD+t25N4b9Z0yut4Eigv6IR2kvDk9W/bVQHQTWP5L9INbDxw+mxP1+Z611QF9y/SDWw8cPpsT9Z0yut4EigvwLaYSsZhuI/8zGVsifL8L8eKvsc/PvFP1AEbk9SGcG/AtphKxmG4j+OkP63bk3hvyrcGFPCEuu/RiyyRKWI3j9QBG5PUhnBv1nTK63gSKC/SDWw8cPpsT/KE5FzbCDOv21UB0E1j+S/4J1qtN/H5T+foNNngp0KQFnTK63gSKC/yhORc2wgzr9QBG5PUhnBv46Q/rduTeG/sbmmxLRO979Z0yut4Eigv0YsskSliN4/ohHaS8OT1b9QBG5PUhnBv9L1nTvuDPS/Hir7HPz7xT9Z0yut4Eigv1nTK63gSKC/WdMrreBIoL/MHI8gi4HRP3zphE8zje8/X5nrXVAX3L9QBG5PUhnBv1nTK63gSKC/X5nrXVAX3L8eKvsc/PvFP4mkoDIYBdg/KtwYU8IS679jCvJBkQ0HwI6Q/rduTeG/SDWw8cPpsT/MHI8gi4HRPx4q+xz8+8U/DFj7RU7SE0CiEdpLw5PVv21UB0E1j+S/WdMrreBIoL+OkP63bk3hv9lJBPhm6gRAdKht/a1sBcDS9Z077gz0v21UB0E1j+S/WdMrreBIoL9QBG5PUhnBv6IR2kvDk9W/AtphKxmG4j8C2mErGYbiP8wcjyCLgdE/WdMrreBIoL9QBG5PUhnBv79hcz2mCek/RiyyRKWI3j9fmetdUBfcv+CdarTfx+U/zByPIIuB0T9QBG5PUhnBv50lfMZsS+w/nrMi0nVaAcCiEdpLw5PVv1nTK63gSKC/ohHaS8OT1b+/YXM9pgnpP+OTGfcKbPK/FSe5o9wBE0AC2mErGYbiPx4q+xz8+8U/SDWw8cPpsT9INbDxw+mxP1nTK63gSKC/yhORc2wgzr/KE5FzbCDOv1AEbk9SGcG/Hir7HPz7xT9INbDxw+mxP46Q/rduTeG/WdMrreBIoL+cOMswYAjzP8oTkXNsIM6/UARuT1IZwb9INbDxw+mxP46Q/rduTeG/WdMrreBIoL9GLLJEpYjeP8wcjyCLgdE/iaSgMhgF2D9QBG5PUhnBvx4q+xz8+8U/leRkdOcqAsBINbDxw+mxPx4q+xz8+8U/\",\"dtype\":\"float64\",\"order\":\"little\",\"shape\":[144]},\"seasonal\":[0,2,0,9,0,4,-3,-5,3,3,30,-4,-5,-1,-5,4,-1,0,-5,-8,-3,1,-3,-3,0,-2,0,5,-2,0,-5,-5,2,4,34,-4,-5,0,-4,14,-3,-1,-6,-6,3,3,-4,-4,-2,-6,0,1,-3,-4,-7,-6,1,4,34,-3,-5,0,-1,22,-5,-2,-6,-4,10,6,-5,-5,-4,-9,-2,0,-3,-4,-8,-6,2,2,21,-1,-2,0,2,20,-6,-1,-5,0,10,18,-2,-2,-8,-10,-6,-3,-4,-4,-7,-6,2,0,2,0,0,0,5,13,-3,0,-1,5,9,25,3,3,-12,-11,-10,-6,-4,-5,-7,-5,2,-2,-14,2,2,0,8,3,0,3,3,10,7,33,10,10],\"trend\":[8,8,8,8,8,8,8,8,9,9,9,9,9,9,9,9,9,9,10,10,10,10,10,10,10,11,11,11,11,11,11,11,11,11,11,11,11,12,12,12,12,12,12,12,12,12,13,13,13,13,12,12,12,12,12,12,12,12,12,12,12,12,12,12,12,12,12,12,12,12,12,12,12,12,12,12,12,13,13,13,13,13,13,14,14,14,14,14,15,15,15,15,16,16,16,16,16,16,16,17,17,17,17,17,17,17,17,17,16,16,16,16,16,15,15,14,14,13,12,12,11,10,9,8,7,6,5,4,3,2,1,0,-1,-2,-3,-4,-5,-6,-7,-8,-9,-10,-11,-13],\"weights\":[1,1,1,1,1,1,1,1,1,1,1,1,1,1,1,1,1,1,1,1,1,1,1,1,1,1,1,1,1,1,1,1,1,1,1,1,1,1,1,1,1,1,1,1,1,1,1,1,1,1,1,1,1,1,1,1,1,1,1,1,1,1,1,1,1,1,1,1,1,1,1,1,1,1,1,1,1,1,1,1,1,1,1,1,1,1,1,1,1,1,1,1,1,1,1,1,1,1,1,1,1,1,1,1,1,1,1,1,1,1,1,1,1,1,1,1,1,1,1,1,1,1,1,1,1,1,1,1,1,1,1,1,1,1,1,1,1,1,1,1,1,1,1,1]},\"selected\":{\"id\":\"3815\"},\"selection_policy\":{\"id\":\"3816\"}},\"id\":\"3754\",\"type\":\"ColumnDataSource\"},{\"attributes\":{\"fill_alpha\":{\"value\":0.1},\"fill_color\":{\"value\":\"firebrick\"},\"line_alpha\":{\"value\":0.1},\"line_color\":{\"value\":\"firebrick\"},\"marker\":{\"value\":\"circle_x\"},\"size\":{\"value\":12},\"x\":{\"field\":\"TimeGenerated\"},\"y\":{\"field\":\"SourceRecordId\"}},\"id\":\"3848\",\"type\":\"Scatter\"},{\"attributes\":{\"source\":{\"id\":\"3845\"}},\"id\":\"3850\",\"type\":\"CDSView\"},{\"attributes\":{\"days\":[\"%m-%d %H:%M\"],\"hours\":[\"%H:%M:%S\"],\"milliseconds\":[\"%H:%M:%S.%3N\"],\"minutes\":[\"%H:%M:%S\"],\"seconds\":[\"%H:%M:%S\"]},\"id\":\"3891\",\"type\":\"DatetimeTickFormatter\"},{\"attributes\":{\"formatter\":{\"id\":\"3891\"},\"major_label_policy\":{\"id\":\"3911\"},\"ticker\":{\"id\":\"3886\"}},\"id\":\"3885\",\"type\":\"DatetimeAxis\"},{\"attributes\":{\"axis\":{\"id\":\"3885\"},\"ticker\":null},\"id\":\"3888\",\"type\":\"Grid\"},{\"attributes\":{},\"id\":\"3881\",\"type\":\"LinearScale\"},{\"attributes\":{\"align\":\"right\",\"text\":\"Drag the middle or edges of the selection box to change the range in the main chart\",\"text_font_size\":\"10px\"},\"id\":\"3890\",\"type\":\"Title\"},{\"attributes\":{\"num_minor_ticks\":5,\"tickers\":[{\"id\":\"3930\"},{\"id\":\"3931\"},{\"id\":\"3932\"},{\"id\":\"3933\"},{\"id\":\"3934\"},{\"id\":\"3935\"},{\"id\":\"3936\"},{\"id\":\"3937\"},{\"id\":\"3938\"},{\"id\":\"3939\"},{\"id\":\"3940\"},{\"id\":\"3941\"}]},\"id\":\"3886\",\"type\":\"DatetimeTicker\"},{\"attributes\":{},\"id\":\"3879\",\"type\":\"DataRange1d\"},{\"attributes\":{\"below\":[{\"id\":\"3885\"},{\"id\":\"3890\"}],\"center\":[{\"id\":\"3888\"}],\"height\":120,\"renderers\":[{\"id\":\"3897\"}],\"title\":{\"id\":\"3875\"},\"toolbar\":{\"id\":\"3889\"},\"toolbar_location\":null,\"width\":1200,\"x_range\":{\"id\":\"3877\"},\"x_scale\":{\"id\":\"3881\"},\"y_range\":{\"id\":\"3879\"},\"y_scale\":{\"id\":\"3883\"}},\"id\":\"3874\",\"subtype\":\"Figure\",\"type\":\"Plot\"},{\"attributes\":{},\"id\":\"3911\",\"type\":\"AllLabels\"},{\"attributes\":{\"text\":\"Range Selector\"},\"id\":\"3875\",\"type\":\"Title\"},{\"attributes\":{\"fill_color\":{\"value\":\"blue\"},\"line_color\":{\"value\":\"blue\"},\"x\":{\"field\":\"TimeGenerated\"},\"y\":{\"field\":\"score\"}},\"id\":\"3895\",\"type\":\"Circle\"},{\"attributes\":{},\"id\":\"3871\",\"type\":\"Selection\"},{\"attributes\":{},\"id\":\"3872\",\"type\":\"UnionRenderers\"},{\"attributes\":{\"label\":{\"value\":\"anomalies\"},\"renderers\":[{\"id\":\"3849\"}]},\"id\":\"3873\",\"type\":\"LegendItem\"},{\"attributes\":{\"end\":1629485106454.916,\"start\":1628815866454.916},\"id\":\"3877\",\"type\":\"Range1d\"},{\"attributes\":{},\"id\":\"3883\",\"type\":\"LinearScale\"},{\"attributes\":{\"data_source\":{\"id\":\"3845\"},\"glyph\":{\"id\":\"3847\"},\"hover_glyph\":null,\"muted_glyph\":null,\"nonselection_glyph\":{\"id\":\"3848\"},\"view\":{\"id\":\"3850\"}},\"id\":\"3849\",\"type\":\"GlyphRenderer\"},{\"attributes\":{\"days\":[\"%m-%d %H:%M\"],\"hours\":[\"%H:%M:%S\"],\"milliseconds\":[\"%H:%M:%S.%3N\"],\"minutes\":[\"%H:%M:%S\"],\"seconds\":[\"%H:%M:%S\"]},\"id\":\"3788\",\"type\":\"DatetimeTickFormatter\"},{\"attributes\":{\"below\":[{\"id\":\"3767\"}],\"center\":[{\"id\":\"3770\"},{\"id\":\"3774\"},{\"id\":\"3817\"}],\"height\":300,\"left\":[{\"id\":\"3771\"}],\"min_border_left\":50,\"renderers\":[{\"id\":\"3795\"},{\"id\":\"3822\"},{\"id\":\"3849\"}],\"title\":{\"id\":\"3757\"},\"toolbar\":{\"id\":\"3781\"},\"toolbar_location\":\"above\",\"width\":1200,\"x_range\":{\"id\":\"3759\"},\"x_scale\":{\"id\":\"3763\"},\"y_range\":{\"id\":\"3761\"},\"y_scale\":{\"id\":\"3765\"}},\"id\":\"3756\",\"subtype\":\"Figure\",\"type\":\"Plot\"},{\"attributes\":{\"format\":\"00\"},\"id\":\"3790\",\"type\":\"NumeralTickFormatter\"},{\"attributes\":{\"data\":{\"SourceRecordId\":[9,14,6,23,10,21,5,5,19,8,6,5,8,8,8,21,7,11,5,2,5,20,6,9,6,6,20,8,7,1,7,5,8,21,81,7,1,11,5,20,10,7,8,7,23,6,11,7,17,1,5,20,7,8,7,4,7,24,81,10,5,11,5,20,7,16,2,7,10,22,7,7,7,7,21,8,8,8,1,9,21,8,7,7,13,18,19,85,6,8,10,10,53,8,2,8,8,5,7,21,19,16,10,10,29,22,15,25,20,15,31,9,9,17,11,28,12,86,23,18,0,0,0,0,0,0,0,0,0,0,0,0,0,0,0,0,0,0,0,0,0,0,0,0],\"TimeGenerated\":{\"__ndarray__\":\"qG4vgBm0d0KobhfvHLR3Qqhu/10gtHdCqG7nzCO0d0Kobs87J7R3Qqhut6oqtHdCqG6fGS60d0KoboeIMbR3Qqhub/c0tHdCqG5XZji0d0Kobj/VO7R3QqhuJ0Q/tHdCqG4Ps0K0d0KobvchRrR3Qqhu35BJtHdCqG7H/0y0d0Kobq9uULR3Qqhul91TtHdCqG5/TFe0d0Kobme7WrR3QqhuTypetHdCqG43mWG0d0Kobh8IZbR3QqhuB3dotHdCqG7v5Wu0d0KobtdUb7R3Qqhuv8NytHdCqG6nMna0d0Kobo+hebR3QqhudxB9tHdCqG5ff4C0d0Kobkfug7R3QqhuL12HtHdCqG4XzIq0d0Kobv86jrR3Qqhu56mRtHdCqG7PGJW0d0KobreHmLR3Qqhun/abtHdCqG6HZZ+0d0Kobm/UorR3QqhuV0OmtHdCqG4/sqm0d0KobichrbR3QqhuD5CwtHdCqG73/rO0d0Kobt9tt7R3Qqhux9y6tHdCqG6vS760d0Kobpe6wbR3QqhufynFtHdCqG5nmMi0d0Kobk8HzLR3QqhuN3bPtHdCqG4f5dK0d0KobgdU1rR3Qqhu78LZtHdCqG7XMd20d0Kobr+g4LR3Qqhupw/ktHdCqG6Pfue0d0Kobnft6rR3QqhuX1zutHdCqG5Hy/G0d0Kobi869bR3QqhuF6n4tHdCqG7/F/y0d0KobueG/7R3Qqhuz/UCtXdCqG63ZAa1d0Kobp/TCbV3Qqhuh0INtXdCqG5vsRC1d0KoblcgFLV3QqhuP48XtXdCqG4n/hq1d0Kobg9tHrV3Qqhu99shtXdCqG7fSiW1d0Kobse5KLV3QqhurygstXdCqG6Xly+1d0Kobn8GM7V3QqhuZ3U2tXdCqG5P5Dm1d0KobjdTPbV3QqhuH8JAtXdCqG4HMUS1d0Kobu+fR7V3Qqhu1w5LtXdCqG6/fU61d0KobqfsUbV3Qqhuj1tVtXdCqG53yli1d0Kobl85XLV3QqhuR6hftXdCqG4vF2O1d0KobheGZrV3Qqhu//RptXdCqG7nY221d0Kobs/ScLV3Qqhut0F0tXdCqG6fsHe1d0Kobocfe7V3Qqhub45+tXdCqG5X/YG1d0Kobj9shbV3QqhuJ9uItXdCqG4PSoy1d0Kobve4j7V3Qqhu3yeTtXdCqG7Hlpa1d0Kobq8FmrV3Qqhul3SdtXdCqG5/46C1d0KobmdSpLV3QqhuT8GntXdCqG43MKu1d0Kobh+frrV3QqhuBw6ytXdCqG7vfLW1d0KobtfruLV3Qqhuv1q8tXdCqG6nyb+1d0Kobo84w7V3Qqhud6fGtXdCqG5fFsq1d0KobkeFzbV3QqhuL/TQtXdCqG4XY9S1d0Kobv/R17V3Qqhu50DbtXdCqG7Pr961d0Kobrce4rV3Qqhun43ltXdCqG6H/Oi1d0Kobm9r7LV3QqhuV9rvtXdCqG4/SfO1d0Kobie49rV3QqhuDyf6tXdCqG73lf21d0Kobt8EAbZ3Qqhux3MEtndC\",\"dtype\":\"float64\",\"order\":\"little\",\"shape\":[144]},\"anomalies\":[0,0,0,0,0,0,0,0,0,0,0,0,0,0,0,0,0,0,0,0,0,0,0,0,0,0,0,0,0,0,0,0,0,0,1,0,0,0,0,0,0,0,0,0,0,0,0,0,0,0,0,0,0,0,0,0,0,0,1,0,0,0,0,0,0,0,0,0,0,0,0,0,0,0,0,0,0,0,0,0,0,0,0,0,0,0,0,1,0,0,0,0,0,0,0,0,0,0,0,0,0,0,0,0,0,0,0,0,0,0,0,0,0,0,0,0,0,1,0,0,0,0,0,0,0,0,0,0,0,0,0,0,0,0,0,0,0,0,0,0,0,0,0,0],\"baseline\":[8,10,9,18,7,13,5,3,12,13,39,4,3,7,3,14,7,9,4,1,6,11,7,7,10,8,12,17,9,11,6,5,14,16,45,7,6,11,8,26,8,11,6,6,16,16,8,8,10,6,13,14,8,8,5,6,13,16,47,9,7,12,10,34,6,10,5,8,22,19,6,7,7,3,10,12,9,8,5,6,16,16,35,12,11,14,16,35,9,14,10,15,26,34,14,14,8,6,10,14,12,12,9,11,20,16,19,17,16,16,21,30,12,16,14,19,23,38,16,15,-1,-1,0,2,2,1,-2,-1,5,0,-12,2,1,-1,5,0,-5,-3,-4,1,-2,22,-1,-2],\"index\":[0,1,2,3,4,5,6,7,8,9,10,11,12,13,14,15,16,17,18,19,20,21,22,23,24,25,26,27,28,29,30,31,32,33,34,35,36,37,38,39,40,41,42,43,44,45,46,47,48,49,50,51,52,53,54,55,56,57,58,59,60,61,62,63,64,65,66,67,68,69,70,71,72,73,74,75,76,77,78,79,80,81,82,83,84,85,86,87,88,89,90,91,92,93,94,95,96,97,98,99,100,101,102,103,104,105,106,107,108,109,110,111,112,113,114,115,116,117,118,119,120,121,122,123,124,125,126,127,128,129,130,131,132,133,134,135,136,137,138,139,140,141,142,143],\"residual\":[0,3,-3,4,2,7,0,1,6,-5,-33,0,4,0,4,6,0,1,0,0,-1,8,-1,1,-4,-2,7,-9,-2,-10,0,0,-6,4,35,0,-5,0,-3,-6,1,-4,1,0,6,-10,2,-1,6,-5,-8,5,-1,0,1,-2,-6,7,33,0,-2,-1,-5,-14,0,5,-3,-1,-12,2,0,0,0,3,10,-4,-1,0,-4,2,4,-8,-28,-5,1,3,2,49,-3,-6,0,-5,26,-26,-12,-6,0,-1,-3,6,6,3,0,-1,8,5,-4,7,3,-1,9,-21,-3,0,-3,8,-11,47,6,2,1,1,0,-2,-2,-1,2,1,-5,0,12,-2,-1,1,-5,0,5,3,4,-1,2,-22,1,2],\"score\":{\"__ndarray__\":\"WdMrreBIoL/MHI8gi4HRP6IR2kvDk9W/iaSgMhgF2D8eKvsc/PvFP+CdarTfx+U/WdMrreBIoL9INbDxw+mxPwLaYSsZhuI/jpD+t25N4b85/zxtyR8LwFnTK63gSKC/iaSgMhgF2D9Z0yut4Eigv4mkoDIYBdg/AtphKxmG4j9Z0yut4Eigv0g1sPHD6bE/WdMrreBIoL9Z0yut4Eigv1AEbk9SGcG/v2FzPaYJ6T9QBG5PUhnBv0g1sPHD6bE/X5nrXVAX3L/KE5FzbCDOv+CdarTfx+U/CKAh3IhU7r/KE5FzbCDOv/MxlbIny/C/WdMrreBIoL9Z0yut4Eigv21UB0E1j+S/iaSgMhgF2D+OAlisZT4MQFnTK63gSKC/jpD+t25N4b9Z0yut4Eigv6IR2kvDk9W/bVQHQTWP5L9INbDxw+mxP1+Z611QF9y/SDWw8cPpsT9Z0yut4EigvwLaYSsZhuI/8zGVsifL8L8eKvsc/PvFP1AEbk9SGcG/AtphKxmG4j+OkP63bk3hvyrcGFPCEuu/RiyyRKWI3j9QBG5PUhnBv1nTK63gSKC/SDWw8cPpsT/KE5FzbCDOv21UB0E1j+S/4J1qtN/H5T+foNNngp0KQFnTK63gSKC/yhORc2wgzr9QBG5PUhnBv46Q/rduTeG/sbmmxLRO979Z0yut4Eigv0YsskSliN4/ohHaS8OT1b9QBG5PUhnBv9L1nTvuDPS/Hir7HPz7xT9Z0yut4Eigv1nTK63gSKC/WdMrreBIoL/MHI8gi4HRP3zphE8zje8/X5nrXVAX3L9QBG5PUhnBv1nTK63gSKC/X5nrXVAX3L8eKvsc/PvFP4mkoDIYBdg/KtwYU8IS679jCvJBkQ0HwI6Q/rduTeG/SDWw8cPpsT/MHI8gi4HRPx4q+xz8+8U/DFj7RU7SE0CiEdpLw5PVv21UB0E1j+S/WdMrreBIoL+OkP63bk3hv9lJBPhm6gRAdKht/a1sBcDS9Z077gz0v21UB0E1j+S/WdMrreBIoL9QBG5PUhnBv6IR2kvDk9W/AtphKxmG4j8C2mErGYbiP8wcjyCLgdE/WdMrreBIoL9QBG5PUhnBv79hcz2mCek/RiyyRKWI3j9fmetdUBfcv+CdarTfx+U/zByPIIuB0T9QBG5PUhnBv50lfMZsS+w/nrMi0nVaAcCiEdpLw5PVv1nTK63gSKC/ohHaS8OT1b+/YXM9pgnpP+OTGfcKbPK/FSe5o9wBE0AC2mErGYbiPx4q+xz8+8U/SDWw8cPpsT9INbDxw+mxP1nTK63gSKC/yhORc2wgzr/KE5FzbCDOv1AEbk9SGcG/Hir7HPz7xT9INbDxw+mxP46Q/rduTeG/WdMrreBIoL+cOMswYAjzP8oTkXNsIM6/UARuT1IZwb9INbDxw+mxP46Q/rduTeG/WdMrreBIoL9GLLJEpYjeP8wcjyCLgdE/iaSgMhgF2D9QBG5PUhnBvx4q+xz8+8U/leRkdOcqAsBINbDxw+mxPx4q+xz8+8U/\",\"dtype\":\"float64\",\"order\":\"little\",\"shape\":[144]},\"seasonal\":[0,2,0,9,0,4,-3,-5,3,3,30,-4,-5,-1,-5,4,-1,0,-5,-8,-3,1,-3,-3,0,-2,0,5,-2,0,-5,-5,2,4,34,-4,-5,0,-4,14,-3,-1,-6,-6,3,3,-4,-4,-2,-6,0,1,-3,-4,-7,-6,1,4,34,-3,-5,0,-1,22,-5,-2,-6,-4,10,6,-5,-5,-4,-9,-2,0,-3,-4,-8,-6,2,2,21,-1,-2,0,2,20,-6,-1,-5,0,10,18,-2,-2,-8,-10,-6,-3,-4,-4,-7,-6,2,0,2,0,0,0,5,13,-3,0,-1,5,9,25,3,3,-12,-11,-10,-6,-4,-5,-7,-5,2,-2,-14,2,2,0,8,3,0,3,3,10,7,33,10,10],\"trend\":[8,8,8,8,8,8,8,8,9,9,9,9,9,9,9,9,9,9,10,10,10,10,10,10,10,11,11,11,11,11,11,11,11,11,11,11,11,12,12,12,12,12,12,12,12,12,13,13,13,13,12,12,12,12,12,12,12,12,12,12,12,12,12,12,12,12,12,12,12,12,12,12,12,12,12,12,12,13,13,13,13,13,13,14,14,14,14,14,15,15,15,15,16,16,16,16,16,16,16,17,17,17,17,17,17,17,17,17,16,16,16,16,16,15,15,14,14,13,12,12,11,10,9,8,7,6,5,4,3,2,1,0,-1,-2,-3,-4,-5,-6,-7,-8,-9,-10,-11,-13],\"weights\":[1,1,1,1,1,1,1,1,1,1,1,1,1,1,1,1,1,1,1,1,1,1,1,1,1,1,1,1,1,1,1,1,1,1,1,1,1,1,1,1,1,1,1,1,1,1,1,1,1,1,1,1,1,1,1,1,1,1,1,1,1,1,1,1,1,1,1,1,1,1,1,1,1,1,1,1,1,1,1,1,1,1,1,1,1,1,1,1,1,1,1,1,1,1,1,1,1,1,1,1,1,1,1,1,1,1,1,1,1,1,1,1,1,1,1,1,1,1,1,1,1,1,1,1,1,1,1,1,1,1,1,1,1,1,1,1,1,1,1,1,1,1,1,1]},\"selected\":{\"id\":\"3943\"},\"selection_policy\":{\"id\":\"3944\"}},\"id\":\"3893\",\"type\":\"ColumnDataSource\"},{\"attributes\":{\"text\":\"Time Series Anomalies Visualization\"},\"id\":\"3757\",\"type\":\"Title\"},{\"attributes\":{},\"id\":\"3761\",\"type\":\"DataRange1d\"},{\"attributes\":{\"bottom_units\":\"screen\",\"fill_alpha\":0.5,\"fill_color\":\"lightgrey\",\"left_units\":\"screen\",\"level\":\"overlay\",\"line_alpha\":1.0,\"line_color\":\"black\",\"line_dash\":[4,4],\"line_width\":2,\"right_units\":\"screen\",\"syncable\":false,\"top_units\":\"screen\"},\"id\":\"3780\",\"type\":\"BoxAnnotation\"},{\"attributes\":{\"end\":1629433626454.916,\"start\":1628867346454.916},\"id\":\"3759\",\"type\":\"Range1d\"},{\"attributes\":{\"days\":[1,2,3,4,5,6,7,8,9,10,11,12,13,14,15,16,17,18,19,20,21,22,23,24,25,26,27,28,29,30,31]},\"id\":\"3933\",\"type\":\"DaysTicker\"},{\"attributes\":{\"base\":60,\"mantissas\":[1,2,5,10,15,20,30],\"max_interval\":1800000.0,\"min_interval\":1000.0,\"num_minor_ticks\":0},\"id\":\"3931\",\"type\":\"AdaptiveTicker\"},{\"attributes\":{\"mantissas\":[1,2,5],\"max_interval\":500.0,\"num_minor_ticks\":0},\"id\":\"3930\",\"type\":\"AdaptiveTicker\"},{\"attributes\":{\"fill_color\":{\"value\":\"#1f77b4\"},\"line_color\":{\"value\":\"navy\"},\"x\":{\"field\":\"TimeGenerated\"},\"y\":{\"field\":\"SourceRecordId\"}},\"id\":\"3793\",\"type\":\"Circle\"},{\"attributes\":{},\"id\":\"3815\",\"type\":\"Selection\"},{\"attributes\":{\"fill_alpha\":{\"value\":0.1},\"fill_color\":{\"value\":\"#1f77b4\"},\"line_alpha\":{\"value\":0.1},\"line_color\":{\"value\":\"navy\"},\"x\":{\"field\":\"TimeGenerated\"},\"y\":{\"field\":\"SourceRecordId\"}},\"id\":\"3794\",\"type\":\"Circle\"},{\"attributes\":{\"source\":{\"id\":\"3754\"}},\"id\":\"3796\",\"type\":\"CDSView\"},{\"attributes\":{},\"id\":\"3816\",\"type\":\"UnionRenderers\"},{\"attributes\":{\"days\":[1,15]},\"id\":\"3936\",\"type\":\"DaysTicker\"},{\"attributes\":{\"base\":24,\"mantissas\":[1,2,4,6,8,12],\"max_interval\":43200000.0,\"min_interval\":3600000.0,\"num_minor_ticks\":0},\"id\":\"3932\",\"type\":\"AdaptiveTicker\"},{\"attributes\":{},\"id\":\"3941\",\"type\":\"YearsTicker\"},{\"attributes\":{\"data_source\":{\"id\":\"3754\"},\"glyph\":{\"id\":\"3793\"},\"hover_glyph\":null,\"muted_glyph\":null,\"nonselection_glyph\":{\"id\":\"3794\"},\"view\":{\"id\":\"3796\"}},\"id\":\"3795\",\"type\":\"GlyphRenderer\"},{\"attributes\":{\"months\":[0,1,2,3,4,5,6,7,8,9,10,11]},\"id\":\"3937\",\"type\":\"MonthsTicker\"},{\"attributes\":{\"label\":{\"value\":\"observed\"},\"renderers\":[{\"id\":\"3795\"}]},\"id\":\"3818\",\"type\":\"LegendItem\"},{\"attributes\":{\"months\":[0,6]},\"id\":\"3940\",\"type\":\"MonthsTicker\"},{\"attributes\":{\"days\":[1,4,7,10,13,16,19,22,25,28]},\"id\":\"3934\",\"type\":\"DaysTicker\"},{\"attributes\":{\"axis\":{\"id\":\"3767\"},\"grid_line_color\":null,\"ticker\":null},\"id\":\"3770\",\"type\":\"Grid\"},{\"attributes\":{\"click_policy\":\"hide\",\"items\":[{\"id\":\"3818\"},{\"id\":\"3844\"},{\"id\":\"3873\"}],\"location\":\"top_left\"},\"id\":\"3817\",\"type\":\"Legend\"},{\"attributes\":{\"months\":[0,2,4,6,8,10]},\"id\":\"3938\",\"type\":\"MonthsTicker\"},{\"attributes\":{\"days\":[1,8,15,22]},\"id\":\"3935\",\"type\":\"DaysTicker\"},{\"attributes\":{\"fill_alpha\":0.2,\"fill_color\":\"navy\",\"level\":\"overlay\",\"line_alpha\":1.0,\"line_color\":\"black\",\"line_dash\":[2,2],\"line_width\":0.5,\"syncable\":false},\"id\":\"3900\",\"type\":\"BoxAnnotation\"},{\"attributes\":{\"months\":[0,4,8]},\"id\":\"3939\",\"type\":\"MonthsTicker\"},{\"attributes\":{\"fill_alpha\":{\"value\":0.1},\"fill_color\":{\"value\":\"blue\"},\"line_alpha\":{\"value\":0.1},\"line_color\":{\"value\":\"blue\"},\"x\":{\"field\":\"TimeGenerated\"},\"y\":{\"field\":\"score\"}},\"id\":\"3896\",\"type\":\"Circle\"},{\"attributes\":{},\"id\":\"3943\",\"type\":\"Selection\"},{\"attributes\":{},\"id\":\"3944\",\"type\":\"UnionRenderers\"},{\"attributes\":{},\"id\":\"3798\",\"type\":\"AllLabels\"},{\"attributes\":{\"source\":{\"id\":\"3893\"}},\"id\":\"3898\",\"type\":\"CDSView\"},{\"attributes\":{},\"id\":\"3800\",\"type\":\"AllLabels\"},{\"attributes\":{\"active_multi\":null,\"tools\":[{\"id\":\"3755\"},{\"id\":\"3775\"},{\"id\":\"3776\"},{\"id\":\"3777\"},{\"id\":\"3778\"},{\"id\":\"3779\"}]},\"id\":\"3781\",\"type\":\"Toolbar\"},{\"attributes\":{\"dimensions\":\"width\"},\"id\":\"3779\",\"type\":\"PanTool\"},{\"attributes\":{},\"id\":\"3777\",\"type\":\"ResetTool\"},{\"attributes\":{\"dimensions\":\"width\"},\"id\":\"3775\",\"type\":\"WheelZoomTool\"},{\"attributes\":{\"overlay\":{\"id\":\"3900\"},\"x_range\":{\"id\":\"3759\"},\"y_range\":null},\"id\":\"3899\",\"type\":\"RangeTool\"},{\"attributes\":{},\"id\":\"3778\",\"type\":\"SaveTool\"},{\"attributes\":{},\"id\":\"3772\",\"type\":\"BasicTicker\"},{\"attributes\":{\"axis\":{\"id\":\"3771\"},\"dimension\":1,\"grid_line_color\":null,\"ticker\":null},\"id\":\"3774\",\"type\":\"Grid\"},{\"attributes\":{\"mantissas\":[1,2,5],\"max_interval\":500.0,\"num_minor_ticks\":0},\"id\":\"3802\",\"type\":\"AdaptiveTicker\"},{\"attributes\":{\"data_source\":{\"id\":\"3893\"},\"glyph\":{\"id\":\"3895\"},\"hover_glyph\":null,\"muted_glyph\":null,\"nonselection_glyph\":{\"id\":\"3896\"},\"view\":{\"id\":\"3898\"}},\"id\":\"3897\",\"type\":\"GlyphRenderer\"},{\"attributes\":{\"base\":60,\"mantissas\":[1,2,5,10,15,20,30],\"max_interval\":1800000.0,\"min_interval\":1000.0,\"num_minor_ticks\":0},\"id\":\"3803\",\"type\":\"AdaptiveTicker\"},{\"attributes\":{\"base\":24,\"mantissas\":[1,2,4,6,8,12],\"max_interval\":43200000.0,\"min_interval\":3600000.0,\"num_minor_ticks\":0},\"id\":\"3804\",\"type\":\"AdaptiveTicker\"},{\"attributes\":{},\"id\":\"3813\",\"type\":\"YearsTicker\"},{\"attributes\":{\"data_source\":{\"id\":\"3754\"},\"glyph\":{\"id\":\"3820\"},\"hover_glyph\":null,\"muted_glyph\":null,\"nonselection_glyph\":{\"id\":\"3821\"},\"view\":{\"id\":\"3823\"}},\"id\":\"3822\",\"type\":\"GlyphRenderer\"},{\"attributes\":{\"overlay\":{\"id\":\"3780\"}},\"id\":\"3776\",\"type\":\"BoxZoomTool\"},{\"attributes\":{\"months\":[0,1,2,3,4,5,6,7,8,9,10,11]},\"id\":\"3809\",\"type\":\"MonthsTicker\"},{\"attributes\":{\"days\":[1,15]},\"id\":\"3808\",\"type\":\"DaysTicker\"},{\"attributes\":{},\"id\":\"3763\",\"type\":\"LinearScale\"},{\"attributes\":{\"days\":[1,2,3,4,5,6,7,8,9,10,11,12,13,14,15,16,17,18,19,20,21,22,23,24,25,26,27,28,29,30,31]},\"id\":\"3805\",\"type\":\"DaysTicker\"},{\"attributes\":{\"days\":[1,4,7,10,13,16,19,22,25,28]},\"id\":\"3806\",\"type\":\"DaysTicker\"},{\"attributes\":{\"line_alpha\":0.1,\"line_color\":\"green\",\"x\":{\"field\":\"TimeGenerated\"},\"y\":{\"field\":\"baseline\"}},\"id\":\"3821\",\"type\":\"Line\"},{\"attributes\":{\"days\":[1,8,15,22]},\"id\":\"3807\",\"type\":\"DaysTicker\"},{\"attributes\":{\"months\":[0,6]},\"id\":\"3812\",\"type\":\"MonthsTicker\"},{\"attributes\":{\"data\":{\"SourceRecordId\":[81,81,85,86],\"TimeGenerated\":{\"__ndarray__\":\"qG7/Oo60d0Kobr+g4LR3QqhuBzFEtXdCqG43MKu1d0I=\",\"dtype\":\"float64\",\"order\":\"little\",\"shape\":[4]},\"baseline\":[45,47,35,38],\"index\":[34,58,87,117],\"level_0\":[0,1,2,3],\"residual\":[35,33,49,47],\"score\":{\"__ndarray__\":\"jgJYrGU+DECfoNNngp0KQAxY+0VO0hNAFSe5o9wBE0A=\",\"dtype\":\"float64\",\"order\":\"little\",\"shape\":[4]},\"seasonal\":[34,34,20,25],\"trend\":[11,12,14,13],\"weights\":[1,1,1,1]},\"selected\":{\"id\":\"3871\"},\"selection_policy\":{\"id\":\"3872\"}},\"id\":\"3845\",\"type\":\"ColumnDataSource\"},{\"attributes\":{\"axis_label\":\"TimeGenerated\",\"formatter\":{\"id\":\"3788\"},\"major_label_policy\":{\"id\":\"3798\"},\"ticker\":{\"id\":\"3768\"}},\"id\":\"3767\",\"type\":\"DatetimeAxis\"},{\"attributes\":{\"months\":[0,2,4,6,8,10]},\"id\":\"3810\",\"type\":\"MonthsTicker\"},{\"attributes\":{\"callback\":null,\"formatters\":{\"@TimeGenerated\":\"datetime\"},\"tooltips\":[[\"TimeGenerated\",\"@TimeGenerated{%F %T.%3N}\"],[\"SourceRecordId\",\"@SourceRecordId\"],[\"residual\",\"@residual\"],[\"trend\",\"@trend\"],[\"seasonal\",\"@seasonal\"],[\"weights\",\"@weights\"],[\"score\",\"@score\"],[\"baseline\",\"@baseline\"]]},\"id\":\"3755\",\"type\":\"HoverTool\"},{\"attributes\":{\"line_color\":\"green\",\"x\":{\"field\":\"TimeGenerated\"},\"y\":{\"field\":\"baseline\"}},\"id\":\"3820\",\"type\":\"Line\"},{\"attributes\":{\"axis_label\":\"SourceRecordId\",\"formatter\":{\"id\":\"3790\"},\"major_label_policy\":{\"id\":\"3800\"},\"ticker\":{\"id\":\"3772\"}},\"id\":\"3771\",\"type\":\"LinearAxis\"},{\"attributes\":{\"source\":{\"id\":\"3754\"}},\"id\":\"3823\",\"type\":\"CDSView\"},{\"attributes\":{\"months\":[0,4,8]},\"id\":\"3811\",\"type\":\"MonthsTicker\"},{\"attributes\":{\"num_minor_ticks\":10,\"tickers\":[{\"id\":\"3802\"},{\"id\":\"3803\"},{\"id\":\"3804\"},{\"id\":\"3805\"},{\"id\":\"3806\"},{\"id\":\"3807\"},{\"id\":\"3808\"},{\"id\":\"3809\"},{\"id\":\"3810\"},{\"id\":\"3811\"},{\"id\":\"3812\"},{\"id\":\"3813\"}]},\"id\":\"3768\",\"type\":\"DatetimeTicker\"},{\"attributes\":{},\"id\":\"3765\",\"type\":\"LinearScale\"}],\"root_ids\":[\"3904\"]},\"title\":\"Bokeh Application\",\"version\":\"2.3.3\"}};\n",
       "  var render_items = [{\"docid\":\"82340bce-e7ee-462a-a9d9-d707e0ad077f\",\"root_ids\":[\"3904\"],\"roots\":{\"3904\":\"21021265-475d-4e9d-86e3-9ebb7746e813\"}}];\n",
       "  root.Bokeh.embed.embed_items_notebook(docs_json, render_items);\n",
       "\n",
       "  }\n",
       "  if (root.Bokeh !== undefined) {\n",
       "    embed_document(root);\n",
       "  } else {\n",
       "    var attempts = 0;\n",
       "    var timer = setInterval(function(root) {\n",
       "      if (root.Bokeh !== undefined) {\n",
       "        clearInterval(timer);\n",
       "        embed_document(root);\n",
       "      } else {\n",
       "        attempts++;\n",
       "        if (attempts > 100) {\n",
       "          clearInterval(timer);\n",
       "          console.log(\"Bokeh: ERROR: Unable to run BokehJS code because BokehJS library is missing\");\n",
       "        }\n",
       "      }\n",
       "    }, 10, root)\n",
       "  }\n",
       "})(window);"
      ],
      "application/vnd.bokehjs_exec.v0+json": ""
     },
     "metadata": {
      "application/vnd.bokehjs_exec.v0+json": {
       "id": "3904"
      }
     },
     "output_type": "display_data"
    },
    {
     "ename": "AttributeError",
     "evalue": "'Styler' object has no attribute 'head'",
     "output_type": "error",
     "traceback": [
      "\u001b[1;31m---------------------------------------------------------------------------\u001b[0m",
      "\u001b[1;31mAttributeError\u001b[0m                            Traceback (most recent call last)",
      "\u001b[1;32mC:\\Users\\T-ZNGU~1\\AppData\\Local\\Temp/ipykernel_19484/3501764228.py\u001b[0m in \u001b[0;36m<module>\u001b[1;34m\u001b[0m\n\u001b[0;32m      7\u001b[0m         \u001b[0mprint\u001b[0m\u001b[1;33m(\u001b[0m\u001b[1;34mf\"\\nTime Series for {feature}\\n\"\u001b[0m\u001b[1;33m)\u001b[0m\u001b[1;33m\u001b[0m\u001b[1;33m\u001b[0m\u001b[0m\n\u001b[0;32m      8\u001b[0m         \u001b[0mdisplay_timeseries_anomolies\u001b[0m\u001b[1;33m(\u001b[0m\u001b[0mdata\u001b[0m\u001b[1;33m=\u001b[0m\u001b[0mfeatureDict\u001b[0m\u001b[1;33m[\u001b[0m\u001b[0mfeature\u001b[0m\u001b[1;33m]\u001b[0m\u001b[1;33m,\u001b[0m \u001b[0my\u001b[0m\u001b[1;33m=\u001b[0m\u001b[0mfeature\u001b[0m\u001b[1;33m)\u001b[0m\u001b[1;33m\u001b[0m\u001b[1;33m\u001b[0m\u001b[0m\n\u001b[1;32m----> 9\u001b[1;33m     \u001b[0mdisplay\u001b[0m\u001b[1;33m(\u001b[0m\u001b[0mtimeframeDict\u001b[0m\u001b[1;33m[\u001b[0m\u001b[0mtimestamp_dropdown\u001b[0m\u001b[1;33m.\u001b[0m\u001b[0mvalue\u001b[0m\u001b[1;33m]\u001b[0m\u001b[1;33m.\u001b[0m\u001b[0mhead\u001b[0m\u001b[1;33m(\u001b[0m\u001b[1;33m)\u001b[0m\u001b[1;33m)\u001b[0m\u001b[1;33m\u001b[0m\u001b[1;33m\u001b[0m\u001b[0m\n\u001b[0m\u001b[0;32m     10\u001b[0m \u001b[1;32mexcept\u001b[0m \u001b[0mNameError\u001b[0m\u001b[1;33m:\u001b[0m\u001b[1;33m\u001b[0m\u001b[1;33m\u001b[0m\u001b[0m\n\u001b[0;32m     11\u001b[0m     \u001b[0mprint\u001b[0m\u001b[1;33m(\u001b[0m\u001b[1;34m\"Anomaly Dataframe not instantiated yet.\"\u001b[0m\u001b[1;33m)\u001b[0m\u001b[1;33m\u001b[0m\u001b[1;33m\u001b[0m\u001b[0m\n",
      "\u001b[1;31mAttributeError\u001b[0m: 'Styler' object has no attribute 'head'"
     ]
    }
   ],
   "source": [
    "from msticpy.nbtools.timeseries import display_timeseries_anomolies\n",
    "pd.set_option(\"display.max_rows\", None, \"display.max_columns\", None)\n",
    "\n",
    "try:\n",
    "    anomalous_features = tuple(anomalyDf.loc[anomalyDf[timestamp_col] == timestamp_dropdown.value]['Anomalous Features'])[0]\n",
    "    for feature in anomalous_features:\n",
    "        print(f\"\\nTime Series for {feature}\\n\")\n",
    "        display_timeseries_anomolies(data=featureDict[feature], y=feature)\n",
    "    display(timeframeDict[timestamp_dropdown.value])\n",
    "except NameError:\n",
    "    print(\"Anomaly Dataframe not instantiated yet.\")"
   ]
  },
  {
   "cell_type": "code",
   "execution_count": 36,
   "id": "85ba0d53-72ce-4e1d-8f74-388c0f59fd78",
   "metadata": {},
   "outputs": [
    {
     "data": {
      "text/html": [
       "<style type=\"text/css\">\n",
       "#T_81e80_row0_col0, #T_81e80_row0_col2, #T_81e80_row1_col0, #T_81e80_row1_col2, #T_81e80_row2_col0, #T_81e80_row2_col2, #T_81e80_row3_col0, #T_81e80_row3_col2 {\n",
       "  background-color: #ffcccb;\n",
       "}\n",
       "#T_81e80_row0_col1, #T_81e80_row1_col1, #T_81e80_row2_col1, #T_81e80_row3_col1 {\n",
       "  background-color: #90EE90;\n",
       "}\n",
       "</style>\n",
       "<table id=\"T_81e80_\">\n",
       "  <thead>\n",
       "    <tr>\n",
       "      <th class=\"blank level0\" >&nbsp;</th>\n",
       "      <th class=\"col_heading level0 col0\" >a</th>\n",
       "      <th class=\"col_heading level0 col1\" >b</th>\n",
       "      <th class=\"col_heading level0 col2\" >c</th>\n",
       "    </tr>\n",
       "  </thead>\n",
       "  <tbody>\n",
       "    <tr>\n",
       "      <th id=\"T_81e80_level0_row0\" class=\"row_heading level0 row0\" >0</th>\n",
       "      <td id=\"T_81e80_row0_col0\" class=\"data row0 col0\" >1</td>\n",
       "      <td id=\"T_81e80_row0_col1\" class=\"data row0 col1\" ></td>\n",
       "      <td id=\"T_81e80_row0_col2\" class=\"data row0 col2\" >a</td>\n",
       "    </tr>\n",
       "    <tr>\n",
       "      <th id=\"T_81e80_level0_row1\" class=\"row_heading level0 row1\" >1</th>\n",
       "      <td id=\"T_81e80_row1_col0\" class=\"data row1 col0\" >2</td>\n",
       "      <td id=\"T_81e80_row1_col1\" class=\"data row1 col1\" ></td>\n",
       "      <td id=\"T_81e80_row1_col2\" class=\"data row1 col2\" >b</td>\n",
       "    </tr>\n",
       "    <tr>\n",
       "      <th id=\"T_81e80_level0_row2\" class=\"row_heading level0 row2\" >2</th>\n",
       "      <td id=\"T_81e80_row2_col0\" class=\"data row2 col0\" >3</td>\n",
       "      <td id=\"T_81e80_row2_col1\" class=\"data row2 col1\" >1</td>\n",
       "      <td id=\"T_81e80_row2_col2\" class=\"data row2 col2\" >c</td>\n",
       "    </tr>\n",
       "    <tr>\n",
       "      <th id=\"T_81e80_level0_row3\" class=\"row_heading level0 row3\" >3</th>\n",
       "      <td id=\"T_81e80_row3_col0\" class=\"data row3 col0\" >4</td>\n",
       "      <td id=\"T_81e80_row3_col1\" class=\"data row3 col1\" ></td>\n",
       "      <td id=\"T_81e80_row3_col2\" class=\"data row3 col2\" ></td>\n",
       "    </tr>\n",
       "  </tbody>\n",
       "</table>\n"
      ],
      "text/plain": [
       "<pandas.io.formats.style.Styler at 0x2698966cb80>"
      ]
     },
     "execution_count": 36,
     "metadata": {},
     "output_type": "execute_result"
    }
   ],
   "source": [
    "df = pd.DataFrame({'a':[1,2,3,4],'b':['','',1,''],'c':['a','b','c','']})\n",
    "df_column_colors=['red','blue','green']\n",
    "anomalousFeatures = ['a', 'c']\n",
    "nonAnomalous = ['b']\n",
    "\n",
    "def mapAnomalousColors(cells):\n",
    "    if cells.name in anomalousFeatures:\n",
    "        return ['background-color: #ffcccb' for i in range(len(cells))]\n",
    "    return ['background-color: #90EE90' for i in range(len(cells))]\n",
    "\n",
    "df = df.style.apply(mapAnomalousColors)\n",
    "df"
   ]
  },
  {
   "cell_type": "code",
   "execution_count": null,
   "id": "0da51bb1-33d1-40b2-8d4b-cf38e208f162",
   "metadata": {},
   "outputs": [],
   "source": []
  }
 ],
 "metadata": {
  "kernelspec": {
   "display_name": "Python 3 (ipykernel)",
   "language": "python",
   "name": "python3"
  },
  "language_info": {
   "codemirror_mode": {
    "name": "ipython",
    "version": 3
   },
   "file_extension": ".py",
   "mimetype": "text/x-python",
   "name": "python",
   "nbconvert_exporter": "python",
   "pygments_lexer": "ipython3",
   "version": "3.9.5"
  }
 },
 "nbformat": 4,
 "nbformat_minor": 5
}
