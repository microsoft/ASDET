get_ipython().run_cell_magic("writefile", " msticpyconfig.yaml", """AzureSentinel:
  Workspaces:
    ASIHuntOMSWorkspaceV4:
      TenantId: 72f988bf-86f1-41af-91ab-2d7cd011db47
      WorkspaceId: 52b1ab41-869e-4138-9e40-2a4457f09bf0
    CyberSecuritySoc:
      TenantId: 72f988bf-86f1-41af-91ab-2d7cd011db47
      WorkspaceId: 8ecf8077-cf51-4820-aadd-14040956f35d
    Default:
      TenantId: 72f988bf-86f1-41af-91ab-2d7cd011db47
      WorkspaceId: 8ecf8077-cf51-4820-aadd-14040956f35d""")


# Core MSTICPy initialization for Notebooks
from msticpy.nbtools import nbinit
nbinit.init_notebook(namespace=globals());

# Load query providers (typically you'll be using just one)
qry_prov = QueryProvider("AzureSentinel")


qry_prov.connect(WorkspaceConfig())


tables = qry_prov.schema_tables


import ipywidgets as widgets

dropdown = widgets.Dropdown(
    options=tables,
    description='Table:',
    value='OfficeActivity'
)

display(dropdown)


import pandas as pd
import numpy as np

# Get the most recent n rows

nRows = 10000
table = dropdown.value
queryString = f"{table} | take {nRows}"
df = qry_prov.exec_query(queryString)


# Clean the data based on entropy
# We don't want to have features with an entropy of 1 (0 variance)
# However we also don't want to have featuers with a low entrpoy either

entropyThreshold = 0.5

cleanTable = df.applymap(lambda x: str(x) if isinstance(x, list) or isinstance(x, dict) else x)


cleanTable



