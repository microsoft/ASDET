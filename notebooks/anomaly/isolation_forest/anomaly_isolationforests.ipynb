{
 "cells": [
  {
   "cell_type": "markdown",
   "id": "a7eece66",
   "metadata": {},
   "source": [
    "<h2>Importing essential modules</h2>"
   ]
  },
  {
   "cell_type": "code",
   "execution_count": 2,
   "id": "a6df0bfb",
   "metadata": {
    "gather": {
     "logged": 1629392351016
    }
   },
   "outputs": [],
   "source": [
    "\"\"\"Initialization for Jupyter Notebook\"\"\"\r\n",
    "import sys \r\n",
    "import os \r\n",
    "import entity_id as eid\r\n",
    "import pandas as pd\r\n",
    "from msticpy.nbtools import *\r\n",
    "import category_encoders as ce\r\n",
    "from sklearn.feature_extraction import FeatureHasher\r\n",
    "from sklearn.ensemble import IsolationForest\r\n",
    "import xlsxwriter   \r\n",
    "import numpy as np\r\n",
    "from IPython.display import display\r\n",
    "import ipywidgets\r\n",
    "from pprint import pprint\r\n",
    "import matplotlib.pyplot as plt\r\n",
    "import matplotlib.patheffects as pe\r\n",
    "import seaborn as sns"
   ]
  },
  {
   "cell_type": "markdown",
   "id": "01d20adb",
   "metadata": {},
   "source": [
    "<h2>Notebook setup</h2\">"
   ]
  },
  {
   "cell_type": "code",
   "execution_count": 3,
   "id": "ae959d23",
   "metadata": {
    "gather": {
     "logged": 1629392359586
    }
   },
   "outputs": [
    {
     "data": {
      "text/html": [
       "<hr><h4>Starting Notebook initialization...</h4>"
      ],
      "text/plain": [
       "<IPython.core.display.HTML object>"
      ]
     },
     "metadata": {},
     "output_type": "display_data"
    },
    {
     "data": {
      "text/html": [
       "<h4>Starting notebook pre-checks...</h4>"
      ],
      "text/plain": [
       "<IPython.core.display.HTML object>"
      ]
     },
     "metadata": {},
     "output_type": "display_data"
    },
    {
     "data": {
      "text/html": [
       "Checking Python kernel version..."
      ],
      "text/plain": [
       "<IPython.core.display.HTML object>"
      ]
     },
     "metadata": {},
     "output_type": "display_data"
    },
    {
     "data": {
      "text/html": [
       "Info: Python kernel version 3.8.1 OK<br>"
      ],
      "text/plain": [
       "<IPython.core.display.HTML object>"
      ]
     },
     "metadata": {},
     "output_type": "display_data"
    },
    {
     "data": {
      "text/html": [
       "Checking msticpy version...<br>"
      ],
      "text/plain": [
       "<IPython.core.display.HTML object>"
      ]
     },
     "metadata": {},
     "output_type": "display_data"
    },
    {
     "data": {
      "text/html": [
       "Info: msticpy version 1.3.0 OK<br>"
      ],
      "text/plain": [
       "<IPython.core.display.HTML object>"
      ]
     },
     "metadata": {},
     "output_type": "display_data"
    },
    {
     "data": {
      "text/html": [
       "<h4>Notebook pre-checks complete.</h4>"
      ],
      "text/plain": [
       "<IPython.core.display.HTML object>"
      ]
     },
     "metadata": {},
     "output_type": "display_data"
    },
    {
     "data": {
      "text/html": [
       "msticpy version installed: 1.3.0 latest published: 1.3.0<br>Latest version is installed.<br> <br>"
      ],
      "text/plain": [
       "<IPython.core.display.HTML object>"
      ]
     },
     "metadata": {},
     "output_type": "display_data"
    },
    {
     "data": {
      "text/html": [
       "Processing imports.... <br>"
      ],
      "text/plain": [
       "<IPython.core.display.HTML object>"
      ]
     },
     "metadata": {},
     "output_type": "display_data"
    },
    {
     "data": {
      "text/html": [
       "Imported: pd (pandas), IPython.get_ipython, IPython.display.display, IPython.display.HTML, IPython.display.Markdown, widgets (ipywidgets), pathlib.Path, plt (matplotlib.pyplot), matplotlib.MatplotlibDeprecationWarning, sns (seaborn), np (numpy), msticpy.data.QueryProvider, msticpy.nbtools.foliummap.FoliumMap, msticpy.common.utility.md, msticpy.common.utility.md_warn, msticpy.common.wsconfig.WorkspaceConfig, msticpy.datamodel.pivot.Pivot, msticpy.datamodel.entities <br>"
      ],
      "text/plain": [
       "<IPython.core.display.HTML object>"
      ]
     },
     "metadata": {},
     "output_type": "display_data"
    },
    {
     "data": {
      "text/html": [
       "Checking configuration.... <br>"
      ],
      "text/plain": [
       "<IPython.core.display.HTML object>"
      ]
     },
     "metadata": {},
     "output_type": "display_data"
    },
    {
     "data": {
      "text/html": [
       "Setting notebook options.... <br>"
      ],
      "text/plain": [
       "<IPython.core.display.HTML object>"
      ]
     },
     "metadata": {},
     "output_type": "display_data"
    },
    {
     "data": {
      "text/html": [
       " <br>"
      ],
      "text/plain": [
       "<IPython.core.display.HTML object>"
      ]
     },
     "metadata": {},
     "output_type": "display_data"
    },
    {
     "data": {
      "text/html": [
       "<h4>Notebook initialization complete</h4>"
      ],
      "text/plain": [
       "<IPython.core.display.HTML object>"
      ]
     },
     "metadata": {},
     "output_type": "display_data"
    },
    {
     "name": "stderr",
     "output_type": "stream",
     "text": [
      "Runtime dependency of PyGObject is missing.\n",
      "Depends on your Linux distro, you could install it system-wide by something like:\n",
      "    sudo apt install python3-gi python3-gi-cairo gir1.2-secret-1\n",
      "If necessary, please refer to PyGObject's doc:\n",
      "https://pygobject.readthedocs.io/en/latest/getting_started.html\n",
      "Traceback (most recent call last):\n",
      "  File \"/anaconda/envs/azureml_py38/lib/python3.8/site-packages/msal_extensions/libsecret.py\", line 21, in <module>\n",
      "    import gi  # https://github.com/AzureAD/microsoft-authentication-extensions-for-python/wiki/Encryption-on-Linux\n",
      "ModuleNotFoundError: No module named 'gi'\n"
     ]
    },
    {
     "name": "stdout",
     "output_type": "stream",
     "text": [
      "Please wait. Loading Kqlmagic extension...\n"
     ]
    },
    {
     "data": {
      "application/javascript": [
       "try {IPython.notebook.kernel.reconnect();} catch(err) {;}"
      ],
      "text/plain": [
       "<IPython.core.display.Javascript object>"
      ]
     },
     "metadata": {},
     "output_type": "display_data"
    },
    {
     "data": {
      "application/javascript": [
       "try {IPython.notebook.kernel.execute(\"NOTEBOOK_URL = '\" + window.location + \"'\");} catch(err) {;}"
      ],
      "text/plain": [
       "<IPython.core.display.Javascript object>"
      ]
     },
     "metadata": {},
     "output_type": "display_data"
    }
   ],
   "source": [
    "nbinit.init_notebook(namespace=globals());\r\n",
    "# Load query providers\r\n",
    "qry_prov = QueryProvider(\"AzureSentinel\")"
   ]
  },
  {
   "cell_type": "code",
   "execution_count": 5,
   "id": "c7270166",
   "metadata": {
    "gather": {
     "logged": 1629394076281
    }
   },
   "outputs": [
    {
     "data": {
      "application/javascript": [
       "try {IPython.notebook.kernel.execute(\"NOTEBOOK_URL = '\" + window.location + \"'\");} catch(err) {;}"
      ],
      "text/plain": [
       "<IPython.core.display.Javascript object>"
      ]
     },
     "metadata": {},
     "output_type": "display_data"
    },
    {
     "data": {
      "text/html": [
       "<!DOCTYPE html>\n",
       "                            <html><body>\n",
       "                            <input  id=\"kql_MagicCodeAuthInput\" type=\"text\" readonly style=\"font-weight: bold; border: none;\" size='9' value='RCA3RR7HY'>\n",
       "\n",
       "                            <script>\n",
       "                            function kql_MagicCopyCodeFunction() {\n",
       "                                /* Get the text field */\n",
       "                                var copyText = document.getElementById(\"kql_MagicCodeAuthInput\");\n",
       "\n",
       "                                /* Select the text field */\n",
       "                                copyText.select();\n",
       "\n",
       "                                /* Copy the text inside the text field */\n",
       "                                document.execCommand(\"copy\");\n",
       "\n",
       "                                /* Alert the copied text */\n",
       "                                // alert(\"Copied the text: \" + copyText.value);\n",
       "                            }\n",
       "                            kql_MagicCopyCodeFunction()\n",
       "                            </script>\n",
       "\n",
       "                            </body></html>"
      ],
      "text/plain": [
       "<IPython.core.display.HTML object>"
      ]
     },
     "metadata": {},
     "output_type": "display_data"
    },
    {
     "name": "stdout",
     "output_type": "stream",
     "text": [
      "Copy code to clipboard and authenticate here: https://microsoft.com/devicelogin\n"
     ]
    },
    {
     "data": {
      "text/html": [
       "<!DOCTYPE html>\n",
       "                            <html><body><script>\n",
       "\n",
       "                                // close authentication window\n",
       "                                if (kql_MagicUserCodeAuthWindow && kql_MagicUserCodeAuthWindow.opener != null && !kql_MagicUserCodeAuthWindow.closed) {\n",
       "                                    kql_MagicUserCodeAuthWindow.close()\n",
       "                                }\n",
       "                                // TODO: make sure, you clear the right cell. BTW, not sure it is a must to do any clearing\n",
       "\n",
       "                                // clear output cell\n",
       "                                Jupyter.notebook.clear_output(Jupyter.notebook.get_selected_index())\n",
       "\n",
       "                                // TODO: if in run all mode, move to last cell, otherwise move to next cell\n",
       "                                // move to next cell\n",
       "\n",
       "                            </script></body></html>"
      ],
      "text/plain": [
       "<IPython.core.display.HTML object>"
      ]
     },
     "metadata": {},
     "output_type": "display_data"
    },
    {
     "data": {
      "text/html": [
       "<!DOCTYPE html>\n",
       "            <html><body>\n",
       "            <div style=''>\n",
       "            \n",
       "            <button onclick=\"this.style.visibility='visible';\n",
       "            kql_MagicLaunchWindowFunction('kqlmagic/temp_files/8b51e797-abd2-4c31-8457-01992fdb2eb2/_8ecf8077-cf51-4820-aadd-14040956f35d_at_loganalytics_schema.html', 'fullscreen=no,directories=no,location=no,menubar=no,resizable=yes,scrollbars=yes,status=no,titlebar=no,toolbar=no,', '_8ecf8077_cf51_4820_aadd_14040956f35d_at_loganalytics_schema', 'https://testing.eastus.instances.azureml.ms');\n",
       "            kql_MagicCloseWindow(kql_Magic__8ecf8077_cf51_4820_aadd_14040956f35d_at_loganalytics_schema, -1, -1);\">\n",
       "            popup schema 8ecf8077-cf51-4820-aadd-14040956f35d@loganalytics</button>\n",
       "            </div>\n",
       "\n",
       "            <script>\n",
       "            var kql_Magic__8ecf8077_cf51_4820_aadd_14040956f35d_at_loganalytics_schema = null;\n",
       "\n",
       "\n",
       "            function kql_MagicCloseWindow(window_obj, obj_secs, itself_secs) {\n",
       "                if (obj_secs >= 0) {\n",
       "                    _timeout = setTimeout(function(){\n",
       "                        window_obj.close();\n",
       "                        if (itself_secs >= 0) {\n",
       "                            __timeout = setTimeout(function(){window.close();}, itself_secs * 1000);\n",
       "                        }\n",
       "                    }, obj_secs * 1000);\n",
       "                } else if (itself_secs >= 0) {\n",
       "                    _timeout = setTimeout(function(){window.close();}, itself_secs * 1000);\n",
       "                }\n",
       "            }\n",
       "\n",
       "            function kql_MagicLaunchWindowFunction(file_path_or_data, window_params, window_name, host_or_text) {\n",
       "                var url;\n",
       "                const baseURI = String(window.location);\n",
       "                if (host_or_text == 'text' || host_or_text == 'body') {\n",
       "                    url = ''\n",
       "                } else if (file_path_or_data.startsWith('http')) {\n",
       "                    url = file_path_or_data;\n",
       "                } else if (host_or_text.endsWith('.azureml.ms') || host_or_text.endsWith('.azureml.net')) {\n",
       "                    let azuremlBaseURI = String(window.document.baseURI);\n",
       "                    let start = azuremlBaseURI.search('activeFilePath=');\n",
       "                    if (start > 0) {\n",
       "                        start += 'activeFilePath='.length;\n",
       "                        let end = azuremlBaseURI.substring(start).search('&');\n",
       "                        if (end < 0) {\n",
       "                            end = undefined;\n",
       "                        }\n",
       "                        let parts = azuremlBaseURI.substring(start, end).split('/');\n",
       "                        parts.pop();\n",
       "                        url = host_or_text + '/tree/' + parts.join('/') + '/' + file_path_or_data;\n",
       "                    } else {\n",
       "                        var parts = baseURI.split('/');\n",
       "                        parts.pop();\n",
       "                        url = parts.join('/') + '/' + file_path_or_data;\n",
       "                    }\n",
       "                } else {\n",
       "                    var base_url = '';\n",
       "\n",
       "                    // check if azure notebook\n",
       "                    var azure_host = (host_or_text == null || host_or_text.length == 0) ? 'https://notebooks.azure.com' : host_or_text;\n",
       "                    var start = azure_host.search('//');\n",
       "                    var azure_host_suffix = '.' + azure_host.substring(start+2);\n",
       "\n",
       "                    var end = baseURI.search(azure_host_suffix);\n",
       "                    start = baseURI.search('//');\n",
       "                    if (start > 0 && end > 0) {\n",
       "                        // # azure notebook environment, assume template: https://library-user.notebooks.azure.com\n",
       "                        var parts = baseURI.substring(start+2, end).split('-');\n",
       "                        if (parts.length == 2) {\n",
       "                            var library = parts[0];\n",
       "                            var user = parts[1];\n",
       "                            base_url = azure_host + '/api/user/' +user+ '/library/' +library+ '/html/';\n",
       "                        }\n",
       "                    }\n",
       "\n",
       "                    // check if local jupyter lab\n",
       "                    if (base_url.length == 0) {\n",
       "                        var configDataScipt  = document.getElementById('jupyter-config-data');\n",
       "                        if (configDataScipt != null) {\n",
       "                            var jupyterConfigData = JSON.parse(configDataScipt.textContent);\n",
       "                            if (jupyterConfigData['appName'] == 'JupyterLab' && jupyterConfigData['serverRoot'] != null &&  jupyterConfigData['treeUrl'] != null) {\n",
       "                                var basePath = '/mnt/batch/tasks/shared/LS_root/mounts/clusters/testing/code/Users/t-tsharma' + '/';\n",
       "                                if (basePath.startsWith(jupyterConfigData['serverRoot'])) {\n",
       "                                    base_url = '/files/' + basePath.substring(jupyterConfigData['serverRoot'].length+1);\n",
       "                                }\n",
       "                            }\n",
       "                        }\n",
       "                    }\n",
       "\n",
       "                    // works for local jupyter notebook\n",
       "                    if (base_url.length == 0) {\n",
       "\n",
       "                        var parts = baseURI.split('/');\n",
       "                        parts.pop(); // remove notebook name segment\n",
       "                        base_url = parts.join('/') + '/';\n",
       "                    }\n",
       "                    url = base_url + file_path_or_data;\n",
       "                }\n",
       "\n",
       "                window.focus();\n",
       "                var w = screen.width / 2;\n",
       "                var h = screen.height / 2;\n",
       "                params = 'width='+w+',height='+h;\n",
       "                // kql_Magic + window_name should be a global variable \n",
       "                window_obj = window.open(url, window_name, window_params + params);\n",
       "                if (url == '') {\n",
       "                    let decodedData = atob(file_path_or_data);\n",
       "                    if (host_or_text == 'text') {\n",
       "                        var el = window_obj.document.createElement('p');\n",
       "                        window_obj.document.body.overflow = 'auto';\n",
       "                        el.style.top = 0;\n",
       "                        el.style.left = 0;\n",
       "                        el.innerHTML = decodedData;\n",
       "                        window_obj.document.body.appendChild(el);\n",
       "                    } else {\n",
       "                        window_obj.document.body.innerHTML = decodedData;\n",
       "                    }\n",
       "                }\n",
       "                kql_Magic__8ecf8077_cf51_4820_aadd_14040956f35d_at_loganalytics_schema = window_obj;\n",
       "            }\n",
       "            </script>\n",
       "\n",
       "            </body></html>"
      ],
      "text/plain": [
       "<IPython.core.display.HTML object>"
      ]
     },
     "metadata": {},
     "output_type": "display_data"
    },
    {
     "data": {
      "application/javascript": [
       "try {IPython.notebook.kernel.execute(\"NOTEBOOK_URL = '\" + window.location + \"'\");} catch(err) {;}"
      ],
      "text/plain": [
       "<IPython.core.display.Javascript object>"
      ]
     },
     "metadata": {},
     "output_type": "display_data"
    }
   ],
   "source": [
    "qry_prov.connect(WorkspaceConfig())"
   ]
  },
  {
   "cell_type": "markdown",
   "id": "d4dbe2ab",
   "metadata": {
    "nteract": {
     "transient": {
      "deleting": false
     }
    }
   },
   "source": [
    "<h2>Obtaining and understanding the data</h2>"
   ]
  },
  {
   "cell_type": "code",
   "execution_count": 6,
   "id": "30460b89",
   "metadata": {
    "collapsed": true,
    "gather": {
     "logged": 1629394096243
    },
    "jupyter": {
     "outputs_hidden": false,
     "source_hidden": false
    },
    "nteract": {
     "transient": {
      "deleting": false
     }
    }
   },
   "outputs": [],
   "source": [
    "tables = qry_prov.schema_tables"
   ]
  },
  {
   "cell_type": "code",
   "execution_count": 7,
   "id": "697ebec7",
   "metadata": {
    "collapsed": false,
    "gather": {
     "logged": 1629394100995
    },
    "jupyter": {
     "outputs_hidden": false,
     "source_hidden": false
    },
    "nteract": {
     "transient": {
      "deleting": false
     }
    }
   },
   "outputs": [
    {
     "name": "stdout",
     "output_type": "stream",
     "text": [
      "Please select a single table you would like to analyze\n"
     ]
    },
    {
     "data": {
      "application/vnd.jupyter.widget-view+json": {
       "model_id": "5f6639e17f474070a008192e8e76fa57",
       "version_major": 2,
       "version_minor": 0
      },
      "text/plain": [
       "Dropdown(description='Tables', index=231, options=('AACAudit', 'AACHttpRequest', 'AADDomainServicesAccountLogo…"
      ]
     },
     "metadata": {},
     "output_type": "display_data"
    }
   ],
   "source": [
    "print(\"Please select a single table you would like to analyze\")\r\n",
    "#Selecting a table from the Azure Sentinel schema through ipywidget (default is OfficeActivity)\r\n",
    "dropdown = ipywidgets.Dropdown(\r\n",
    "    options=sorted(tables),\r\n",
    "    value='OfficeActivity',\r\n",
    "    description='Tables',\r\n",
    ")\r\n",
    "display(dropdown)"
   ]
  },
  {
   "cell_type": "code",
   "execution_count": 8,
   "id": "e49b4542",
   "metadata": {
    "collapsed": true,
    "gather": {
     "logged": 1629394120642
    },
    "jupyter": {
     "outputs_hidden": false,
     "source_hidden": false
    },
    "nteract": {
     "transient": {
      "deleting": false
     }
    }
   },
   "outputs": [],
   "source": [
    "#defining the table\r\n",
    "table = dropdown.value \r\n",
    "#using the entity_id module to get entites for our selected table\r\n",
    "query = eid.EntityIdentifier(qry_prov)"
   ]
  },
  {
   "cell_type": "code",
   "execution_count": 9,
   "id": "dc241f03",
   "metadata": {
    "collapsed": true,
    "gather": {
     "logged": 1629394126195
    },
    "jupyter": {
     "outputs_hidden": false,
     "source_hidden": false
    },
    "nteract": {
     "transient": {
      "deleting": false
     }
    }
   },
   "outputs": [
    {
     "data": {
      "text/plain": [
       "'OfficeActivity'"
      ]
     },
     "execution_count": 9,
     "metadata": {},
     "output_type": "execute_result"
    }
   ],
   "source": [
    "table"
   ]
  },
  {
   "cell_type": "code",
   "execution_count": 10,
   "id": "821e8341",
   "metadata": {
    "collapsed": true,
    "gather": {
     "logged": 1629394155263
    },
    "jupyter": {
     "outputs_hidden": false,
     "source_hidden": false
    },
    "nteract": {
     "transient": {
      "deleting": false
     }
    }
   },
   "outputs": [
    {
     "data": {
      "application/javascript": [
       "try {IPython.notebook.kernel.execute(\"NOTEBOOK_URL = '\" + window.location + \"'\");} catch(err) {;}"
      ],
      "text/plain": [
       "<IPython.core.display.Javascript object>"
      ]
     },
     "metadata": {},
     "output_type": "display_data"
    }
   ],
   "source": [
    "#Raw data before feature engineering\r\n",
    "raw_data = qry_prov.exec_query(table)"
   ]
  },
  {
   "cell_type": "code",
   "execution_count": 11,
   "id": "55225f80",
   "metadata": {
    "collapsed": true,
    "gather": {
     "logged": 1629394156618
    },
    "jupyter": {
     "outputs_hidden": false,
     "source_hidden": false
    },
    "nteract": {
     "transient": {
      "deleting": false
     }
    }
   },
   "outputs": [
    {
     "data": {
      "text/html": [
       "<div>\n",
       "<style scoped>\n",
       "    .dataframe tbody tr th:only-of-type {\n",
       "        vertical-align: middle;\n",
       "    }\n",
       "\n",
       "    .dataframe tbody tr th {\n",
       "        vertical-align: top;\n",
       "    }\n",
       "\n",
       "    .dataframe thead th {\n",
       "        text-align: right;\n",
       "    }\n",
       "</style>\n",
       "<table border=\"1\" class=\"dataframe\">\n",
       "  <thead>\n",
       "    <tr style=\"text-align: right;\">\n",
       "      <th></th>\n",
       "      <th>TenantId</th>\n",
       "      <th>Application</th>\n",
       "      <th>UserDomain</th>\n",
       "      <th>UserAgent</th>\n",
       "      <th>RecordType</th>\n",
       "      <th>TimeGenerated</th>\n",
       "      <th>Operation</th>\n",
       "      <th>OrganizationId</th>\n",
       "      <th>OrganizationId_</th>\n",
       "      <th>UserType</th>\n",
       "      <th>UserKey</th>\n",
       "      <th>OfficeWorkload</th>\n",
       "      <th>ResultStatus</th>\n",
       "      <th>ResultReasonType</th>\n",
       "      <th>OfficeObjectId</th>\n",
       "      <th>UserId</th>\n",
       "      <th>UserId_</th>\n",
       "      <th>ClientIP</th>\n",
       "      <th>ClientIP_</th>\n",
       "      <th>Scope</th>\n",
       "      <th>Site_</th>\n",
       "      <th>ItemType</th>\n",
       "      <th>EventSource</th>\n",
       "      <th>Source_Name</th>\n",
       "      <th>MachineDomainInfo</th>\n",
       "      <th>...</th>\n",
       "      <th>ChannelType</th>\n",
       "      <th>ChannelName</th>\n",
       "      <th>ChannelGuid</th>\n",
       "      <th>ExtraProperties</th>\n",
       "      <th>AddOnType</th>\n",
       "      <th>AddonName</th>\n",
       "      <th>TabType</th>\n",
       "      <th>Name</th>\n",
       "      <th>OldValue</th>\n",
       "      <th>NewValue</th>\n",
       "      <th>ItemName</th>\n",
       "      <th>ChatThreadId</th>\n",
       "      <th>ChatName</th>\n",
       "      <th>CommunicationType</th>\n",
       "      <th>AADGroupId</th>\n",
       "      <th>AddOnGuid</th>\n",
       "      <th>AppDistributionMode</th>\n",
       "      <th>TargetUserId</th>\n",
       "      <th>OperationScope</th>\n",
       "      <th>AzureADAppId</th>\n",
       "      <th>OperationProperties</th>\n",
       "      <th>AppId</th>\n",
       "      <th>ClientAppId</th>\n",
       "      <th>Type</th>\n",
       "      <th>_ResourceId</th>\n",
       "    </tr>\n",
       "  </thead>\n",
       "  <tbody>\n",
       "    <tr>\n",
       "      <th>0</th>\n",
       "      <td>8ecf8077-cf51-4820-aadd-14040956f35d</td>\n",
       "      <td></td>\n",
       "      <td></td>\n",
       "      <td></td>\n",
       "      <td>50</td>\n",
       "      <td>2021-05-31 12:11:18+00:00</td>\n",
       "      <td>MailItemsAccessed</td>\n",
       "      <td>4b2462a4-bbee-495a-a0e1-f23ae524cc9c</td>\n",
       "      <td>4b2462a4-bbee-495a-a0e1-f23ae524cc9c</td>\n",
       "      <td>Regular</td>\n",
       "      <td>100320003F88D275</td>\n",
       "      <td>Exchange</td>\n",
       "      <td>Succeeded</td>\n",
       "      <td>Succeeded</td>\n",
       "      <td></td>\n",
       "      <td>seb@seccxp.ninja</td>\n",
       "      <td>seb@seccxp.ninja</td>\n",
       "      <td></td>\n",
       "      <td></td>\n",
       "      <td></td>\n",
       "      <td></td>\n",
       "      <td></td>\n",
       "      <td></td>\n",
       "      <td></td>\n",
       "      <td></td>\n",
       "      <td>...</td>\n",
       "      <td></td>\n",
       "      <td></td>\n",
       "      <td></td>\n",
       "      <td>None</td>\n",
       "      <td></td>\n",
       "      <td></td>\n",
       "      <td></td>\n",
       "      <td></td>\n",
       "      <td></td>\n",
       "      <td></td>\n",
       "      <td></td>\n",
       "      <td></td>\n",
       "      <td></td>\n",
       "      <td></td>\n",
       "      <td></td>\n",
       "      <td></td>\n",
       "      <td></td>\n",
       "      <td></td>\n",
       "      <td></td>\n",
       "      <td></td>\n",
       "      <td>[{'Value': 'Bind', 'Name': 'MailAccessType'}, {'Value': 'False', 'Name': 'IsThrottled'}]</td>\n",
       "      <td>7ab7862c-4c57-491e-8a45-d52a7e023983</td>\n",
       "      <td></td>\n",
       "      <td>OfficeActivity</td>\n",
       "      <td></td>\n",
       "    </tr>\n",
       "    <tr>\n",
       "      <th>1</th>\n",
       "      <td>8ecf8077-cf51-4820-aadd-14040956f35d</td>\n",
       "      <td></td>\n",
       "      <td></td>\n",
       "      <td></td>\n",
       "      <td>ExchangeAdmin</td>\n",
       "      <td>2021-05-31 12:35:25+00:00</td>\n",
       "      <td>Set-User</td>\n",
       "      <td>4b2462a4-bbee-495a-a0e1-f23ae524cc9c</td>\n",
       "      <td>4b2462a4-bbee-495a-a0e1-f23ae524cc9c</td>\n",
       "      <td>DcAdmin</td>\n",
       "      <td>NT AUTHORITY\\SYSTEM (Microsoft.Exchange.Management.ForwardSync)</td>\n",
       "      <td>Exchange</td>\n",
       "      <td>True</td>\n",
       "      <td>True</td>\n",
       "      <td>NAMPR06A007.PROD.OUTLOOK.COM/Microsoft Exchange Hosted Organizations/seccxpninja.onmicrosoft.com...</td>\n",
       "      <td>NT AUTHORITY\\SYSTEM (Microsoft.Exchange.Management.ForwardSync)</td>\n",
       "      <td>NT AUTHORITY\\SYSTEM (Microsoft.Exchange.Management.ForwardSync)</td>\n",
       "      <td></td>\n",
       "      <td></td>\n",
       "      <td></td>\n",
       "      <td></td>\n",
       "      <td></td>\n",
       "      <td></td>\n",
       "      <td></td>\n",
       "      <td></td>\n",
       "      <td>...</td>\n",
       "      <td></td>\n",
       "      <td></td>\n",
       "      <td></td>\n",
       "      <td>None</td>\n",
       "      <td></td>\n",
       "      <td></td>\n",
       "      <td></td>\n",
       "      <td></td>\n",
       "      <td></td>\n",
       "      <td></td>\n",
       "      <td></td>\n",
       "      <td></td>\n",
       "      <td></td>\n",
       "      <td></td>\n",
       "      <td></td>\n",
       "      <td></td>\n",
       "      <td></td>\n",
       "      <td></td>\n",
       "      <td></td>\n",
       "      <td></td>\n",
       "      <td>None</td>\n",
       "      <td></td>\n",
       "      <td></td>\n",
       "      <td>OfficeActivity</td>\n",
       "      <td></td>\n",
       "    </tr>\n",
       "    <tr>\n",
       "      <th>2</th>\n",
       "      <td>8ecf8077-cf51-4820-aadd-14040956f35d</td>\n",
       "      <td></td>\n",
       "      <td></td>\n",
       "      <td></td>\n",
       "      <td>50</td>\n",
       "      <td>2021-05-31 13:11:26+00:00</td>\n",
       "      <td>MailItemsAccessed</td>\n",
       "      <td>4b2462a4-bbee-495a-a0e1-f23ae524cc9c</td>\n",
       "      <td>4b2462a4-bbee-495a-a0e1-f23ae524cc9c</td>\n",
       "      <td>Regular</td>\n",
       "      <td>100320003F88D275</td>\n",
       "      <td>Exchange</td>\n",
       "      <td>Succeeded</td>\n",
       "      <td>Succeeded</td>\n",
       "      <td></td>\n",
       "      <td>seb@seccxp.ninja</td>\n",
       "      <td>seb@seccxp.ninja</td>\n",
       "      <td></td>\n",
       "      <td></td>\n",
       "      <td></td>\n",
       "      <td></td>\n",
       "      <td></td>\n",
       "      <td></td>\n",
       "      <td></td>\n",
       "      <td></td>\n",
       "      <td>...</td>\n",
       "      <td></td>\n",
       "      <td></td>\n",
       "      <td></td>\n",
       "      <td>None</td>\n",
       "      <td></td>\n",
       "      <td></td>\n",
       "      <td></td>\n",
       "      <td></td>\n",
       "      <td></td>\n",
       "      <td></td>\n",
       "      <td></td>\n",
       "      <td></td>\n",
       "      <td></td>\n",
       "      <td></td>\n",
       "      <td></td>\n",
       "      <td></td>\n",
       "      <td></td>\n",
       "      <td></td>\n",
       "      <td></td>\n",
       "      <td></td>\n",
       "      <td>[{'Value': 'Bind', 'Name': 'MailAccessType'}, {'Value': 'False', 'Name': 'IsThrottled'}]</td>\n",
       "      <td>7ab7862c-4c57-491e-8a45-d52a7e023983</td>\n",
       "      <td></td>\n",
       "      <td>OfficeActivity</td>\n",
       "      <td></td>\n",
       "    </tr>\n",
       "    <tr>\n",
       "      <th>3</th>\n",
       "      <td>8ecf8077-cf51-4820-aadd-14040956f35d</td>\n",
       "      <td></td>\n",
       "      <td></td>\n",
       "      <td></td>\n",
       "      <td>ExchangeAdmin</td>\n",
       "      <td>2021-05-31 16:05:34+00:00</td>\n",
       "      <td>Set-User</td>\n",
       "      <td>4b2462a4-bbee-495a-a0e1-f23ae524cc9c</td>\n",
       "      <td>4b2462a4-bbee-495a-a0e1-f23ae524cc9c</td>\n",
       "      <td>DcAdmin</td>\n",
       "      <td>NT AUTHORITY\\SYSTEM (Microsoft.Exchange.Management.ForwardSync)</td>\n",
       "      <td>Exchange</td>\n",
       "      <td>True</td>\n",
       "      <td>True</td>\n",
       "      <td>NAMPR06A007.PROD.OUTLOOK.COM/Microsoft Exchange Hosted Organizations/seccxpninja.onmicrosoft.com...</td>\n",
       "      <td>NT AUTHORITY\\SYSTEM (Microsoft.Exchange.Management.ForwardSync)</td>\n",
       "      <td>NT AUTHORITY\\SYSTEM (Microsoft.Exchange.Management.ForwardSync)</td>\n",
       "      <td></td>\n",
       "      <td></td>\n",
       "      <td></td>\n",
       "      <td></td>\n",
       "      <td></td>\n",
       "      <td></td>\n",
       "      <td></td>\n",
       "      <td></td>\n",
       "      <td>...</td>\n",
       "      <td></td>\n",
       "      <td></td>\n",
       "      <td></td>\n",
       "      <td>None</td>\n",
       "      <td></td>\n",
       "      <td></td>\n",
       "      <td></td>\n",
       "      <td></td>\n",
       "      <td></td>\n",
       "      <td></td>\n",
       "      <td></td>\n",
       "      <td></td>\n",
       "      <td></td>\n",
       "      <td></td>\n",
       "      <td></td>\n",
       "      <td></td>\n",
       "      <td></td>\n",
       "      <td></td>\n",
       "      <td></td>\n",
       "      <td></td>\n",
       "      <td>None</td>\n",
       "      <td></td>\n",
       "      <td></td>\n",
       "      <td>OfficeActivity</td>\n",
       "      <td></td>\n",
       "    </tr>\n",
       "    <tr>\n",
       "      <th>4</th>\n",
       "      <td>8ecf8077-cf51-4820-aadd-14040956f35d</td>\n",
       "      <td></td>\n",
       "      <td></td>\n",
       "      <td></td>\n",
       "      <td>MicrosoftTeams</td>\n",
       "      <td>2021-05-31 16:12:44+00:00</td>\n",
       "      <td>MemberAdded</td>\n",
       "      <td>4b2462a4-bbee-495a-a0e1-f23ae524cc9c</td>\n",
       "      <td>4b2462a4-bbee-495a-a0e1-f23ae524cc9c</td>\n",
       "      <td>Application</td>\n",
       "      <td>62b732f7-fc71-40bc-b27d-35efcb0509de</td>\n",
       "      <td>MicrosoftTeams</td>\n",
       "      <td></td>\n",
       "      <td></td>\n",
       "      <td></td>\n",
       "      <td>Microsoft Teams Sync</td>\n",
       "      <td>Microsoft Teams Sync</td>\n",
       "      <td></td>\n",
       "      <td></td>\n",
       "      <td></td>\n",
       "      <td></td>\n",
       "      <td></td>\n",
       "      <td></td>\n",
       "      <td></td>\n",
       "      <td></td>\n",
       "      <td>...</td>\n",
       "      <td></td>\n",
       "      <td></td>\n",
       "      <td></td>\n",
       "      <td>[]</td>\n",
       "      <td></td>\n",
       "      <td></td>\n",
       "      <td></td>\n",
       "      <td></td>\n",
       "      <td></td>\n",
       "      <td></td>\n",
       "      <td>SocTeam</td>\n",
       "      <td></td>\n",
       "      <td></td>\n",
       "      <td>Team</td>\n",
       "      <td>d05ba55c-593e-4bfa-8011-26e0626b5c14</td>\n",
       "      <td></td>\n",
       "      <td></td>\n",
       "      <td></td>\n",
       "      <td></td>\n",
       "      <td></td>\n",
       "      <td>None</td>\n",
       "      <td></td>\n",
       "      <td></td>\n",
       "      <td>OfficeActivity</td>\n",
       "      <td></td>\n",
       "    </tr>\n",
       "  </tbody>\n",
       "</table>\n",
       "<p>5 rows × 131 columns</p>\n",
       "</div>"
      ],
      "text/plain": [
       "                               TenantId Application UserDomain UserAgent  \\\n",
       "0  8ecf8077-cf51-4820-aadd-14040956f35d                                    \n",
       "1  8ecf8077-cf51-4820-aadd-14040956f35d                                    \n",
       "2  8ecf8077-cf51-4820-aadd-14040956f35d                                    \n",
       "3  8ecf8077-cf51-4820-aadd-14040956f35d                                    \n",
       "4  8ecf8077-cf51-4820-aadd-14040956f35d                                    \n",
       "\n",
       "       RecordType             TimeGenerated          Operation  \\\n",
       "0              50 2021-05-31 12:11:18+00:00  MailItemsAccessed   \n",
       "1   ExchangeAdmin 2021-05-31 12:35:25+00:00           Set-User   \n",
       "2              50 2021-05-31 13:11:26+00:00  MailItemsAccessed   \n",
       "3   ExchangeAdmin 2021-05-31 16:05:34+00:00           Set-User   \n",
       "4  MicrosoftTeams 2021-05-31 16:12:44+00:00        MemberAdded   \n",
       "\n",
       "                         OrganizationId                       OrganizationId_  \\\n",
       "0  4b2462a4-bbee-495a-a0e1-f23ae524cc9c  4b2462a4-bbee-495a-a0e1-f23ae524cc9c   \n",
       "1  4b2462a4-bbee-495a-a0e1-f23ae524cc9c  4b2462a4-bbee-495a-a0e1-f23ae524cc9c   \n",
       "2  4b2462a4-bbee-495a-a0e1-f23ae524cc9c  4b2462a4-bbee-495a-a0e1-f23ae524cc9c   \n",
       "3  4b2462a4-bbee-495a-a0e1-f23ae524cc9c  4b2462a4-bbee-495a-a0e1-f23ae524cc9c   \n",
       "4  4b2462a4-bbee-495a-a0e1-f23ae524cc9c  4b2462a4-bbee-495a-a0e1-f23ae524cc9c   \n",
       "\n",
       "      UserType  \\\n",
       "0      Regular   \n",
       "1      DcAdmin   \n",
       "2      Regular   \n",
       "3      DcAdmin   \n",
       "4  Application   \n",
       "\n",
       "                                                           UserKey  \\\n",
       "0                                                 100320003F88D275   \n",
       "1  NT AUTHORITY\\SYSTEM (Microsoft.Exchange.Management.ForwardSync)   \n",
       "2                                                 100320003F88D275   \n",
       "3  NT AUTHORITY\\SYSTEM (Microsoft.Exchange.Management.ForwardSync)   \n",
       "4                             62b732f7-fc71-40bc-b27d-35efcb0509de   \n",
       "\n",
       "   OfficeWorkload ResultStatus ResultReasonType  \\\n",
       "0        Exchange    Succeeded        Succeeded   \n",
       "1        Exchange         True             True   \n",
       "2        Exchange    Succeeded        Succeeded   \n",
       "3        Exchange         True             True   \n",
       "4  MicrosoftTeams                                 \n",
       "\n",
       "                                                                                        OfficeObjectId  \\\n",
       "0                                                                                                        \n",
       "1  NAMPR06A007.PROD.OUTLOOK.COM/Microsoft Exchange Hosted Organizations/seccxpninja.onmicrosoft.com...   \n",
       "2                                                                                                        \n",
       "3  NAMPR06A007.PROD.OUTLOOK.COM/Microsoft Exchange Hosted Organizations/seccxpninja.onmicrosoft.com...   \n",
       "4                                                                                                        \n",
       "\n",
       "                                                            UserId  \\\n",
       "0                                                 seb@seccxp.ninja   \n",
       "1  NT AUTHORITY\\SYSTEM (Microsoft.Exchange.Management.ForwardSync)   \n",
       "2                                                 seb@seccxp.ninja   \n",
       "3  NT AUTHORITY\\SYSTEM (Microsoft.Exchange.Management.ForwardSync)   \n",
       "4                                             Microsoft Teams Sync   \n",
       "\n",
       "                                                           UserId_ ClientIP  \\\n",
       "0                                                 seb@seccxp.ninja            \n",
       "1  NT AUTHORITY\\SYSTEM (Microsoft.Exchange.Management.ForwardSync)            \n",
       "2                                                 seb@seccxp.ninja            \n",
       "3  NT AUTHORITY\\SYSTEM (Microsoft.Exchange.Management.ForwardSync)            \n",
       "4                                             Microsoft Teams Sync            \n",
       "\n",
       "  ClientIP_ Scope Site_ ItemType EventSource Source_Name MachineDomainInfo  \\\n",
       "0                                                                            \n",
       "1                                                                            \n",
       "2                                                                            \n",
       "3                                                                            \n",
       "4                                                                            \n",
       "\n",
       "   ... ChannelType ChannelName ChannelGuid ExtraProperties AddOnType  \\\n",
       "0  ...                                                None             \n",
       "1  ...                                                None             \n",
       "2  ...                                                None             \n",
       "3  ...                                                None             \n",
       "4  ...                                                  []             \n",
       "\n",
       "  AddonName TabType Name OldValue NewValue ItemName ChatThreadId ChatName  \\\n",
       "0                                                                           \n",
       "1                                                                           \n",
       "2                                                                           \n",
       "3                                                                           \n",
       "4                                           SocTeam                         \n",
       "\n",
       "  CommunicationType                            AADGroupId AddOnGuid  \\\n",
       "0                                                                     \n",
       "1                                                                     \n",
       "2                                                                     \n",
       "3                                                                     \n",
       "4              Team  d05ba55c-593e-4bfa-8011-26e0626b5c14             \n",
       "\n",
       "  AppDistributionMode TargetUserId OperationScope AzureADAppId  \\\n",
       "0                                                                \n",
       "1                                                                \n",
       "2                                                                \n",
       "3                                                                \n",
       "4                                                                \n",
       "\n",
       "                                                                        OperationProperties  \\\n",
       "0  [{'Value': 'Bind', 'Name': 'MailAccessType'}, {'Value': 'False', 'Name': 'IsThrottled'}]   \n",
       "1                                                                                      None   \n",
       "2  [{'Value': 'Bind', 'Name': 'MailAccessType'}, {'Value': 'False', 'Name': 'IsThrottled'}]   \n",
       "3                                                                                      None   \n",
       "4                                                                                      None   \n",
       "\n",
       "                                  AppId ClientAppId            Type  \\\n",
       "0  7ab7862c-4c57-491e-8a45-d52a7e023983              OfficeActivity   \n",
       "1                                                    OfficeActivity   \n",
       "2  7ab7862c-4c57-491e-8a45-d52a7e023983              OfficeActivity   \n",
       "3                                                    OfficeActivity   \n",
       "4                                                    OfficeActivity   \n",
       "\n",
       "  _ResourceId  \n",
       "0              \n",
       "1              \n",
       "2              \n",
       "3              \n",
       "4              \n",
       "\n",
       "[5 rows x 131 columns]"
      ]
     },
     "execution_count": 11,
     "metadata": {},
     "output_type": "execute_result"
    }
   ],
   "source": [
    "raw_data.head()"
   ]
  },
  {
   "cell_type": "code",
   "execution_count": 12,
   "id": "9d6b398d",
   "metadata": {
    "collapsed": true,
    "gather": {
     "logged": 1629394159218
    },
    "jupyter": {
     "outputs_hidden": false,
     "source_hidden": false
    },
    "nteract": {
     "transient": {
      "deleting": false
     }
    }
   },
   "outputs": [
    {
     "data": {
      "text/plain": [
       "(26159, 131)"
      ]
     },
     "execution_count": 12,
     "metadata": {},
     "output_type": "execute_result"
    }
   ],
   "source": [
    "raw_data.shape"
   ]
  },
  {
   "cell_type": "markdown",
   "id": "e07474bc",
   "metadata": {},
   "source": [
    "<h2>Feature Engineering</h2>"
   ]
  },
  {
   "cell_type": "code",
   "execution_count": 13,
   "id": "ccc2469d",
   "metadata": {
    "collapsed": true,
    "gather": {
     "logged": 1629394168144
    },
    "jupyter": {
     "outputs_hidden": false,
     "source_hidden": false
    },
    "nteract": {
     "transient": {
      "deleting": false
     }
    }
   },
   "outputs": [],
   "source": [
    "def convert_to_string(df):\r\n",
    "    \"\"\"\r\n",
    "    Converts all the columns of the given dataframe to string\r\n",
    "    \r\n",
    "    Parameters\r\n",
    "    -------\r\n",
    "    \r\n",
    "    df - takes in a dataframe type object\r\n",
    "    \r\n",
    "    Returns\r\n",
    "    -------\r\n",
    "    \r\n",
    "    a new dataframe type object with all columns as strings \r\n",
    "    \"\"\"\r\n",
    "    df_complete_string = df.copy()\r\n",
    "    for column in df_complete_string.columns:\r\n",
    "        df_complete_string[column] = df_complete_string[column].astype(str)\r\n",
    "    "
   ]
  },
  {
   "cell_type": "code",
   "execution_count": 14,
   "id": "10e91627",
   "metadata": {
    "collapsed": true,
    "gather": {
     "logged": 1629394177680
    },
    "jupyter": {
     "outputs_hidden": false,
     "source_hidden": false
    },
    "nteract": {
     "transient": {
      "deleting": false
     }
    }
   },
   "outputs": [],
   "source": [
    "def clean_extra_columns(df):\r\n",
    "    \"\"\"\r\n",
    "    Cleans all extra columns of the table. Removes any identical columns with each and every datapoint being same for example URL and URL_ which have the exact same data just different column names\r\n",
    "    \r\n",
    "    Parameters\r\n",
    "    -------\r\n",
    "    \r\n",
    "    df - takes in a dataframe type object\r\n",
    "    \r\n",
    "    Returns\r\n",
    "    -------\r\n",
    "    \r\n",
    "    a new dataframe type object with no redundant column\r\n",
    "    \"\"\"\r\n",
    "\r\n",
    "    #exit if dataframe is empty\r\n",
    "    if df.empty == True:\r\n",
    "        print(\"The dataframe has no data\")\r\n",
    "        return \r\n",
    "\r\n",
    "    cols_list = list(df.columns)\r\n",
    "    df_columns_copy = (cols_list).copy()\r\n",
    "    cols_p = 0\r\n",
    "    colscopy_p = 0\r\n",
    "    seen = []\r\n",
    "    to_delete = []\r\n",
    "    while cols_p < len(cols_list):\r\n",
    "        if df[cols_list[cols_p]].equals(df[cols_list[colscopy_p]]) and (cols_p != colscopy_p) and (cols_list[cols_p] not in seen): #if equates to True\r\n",
    "            seen.append(cols_list[colscopy_p])\r\n",
    "            to_delete.append(cols_list[colscopy_p])\r\n",
    "            if colscopy_p == len(cols_list)-1:\r\n",
    "                cols_p+=1\r\n",
    "                colscopy_p = 0\r\n",
    "            else:\r\n",
    "                colscopy_p+=1\r\n",
    "        elif colscopy_p == len(cols_list)-1:\r\n",
    "            cols_p+=1\r\n",
    "            colscopy_p = 0\r\n",
    "        else:\r\n",
    "            colscopy_p+=1\r\n",
    "            \r\n",
    "    df.drop(columns = to_delete, axis=1, inplace= True)\r\n",
    "    return df           "
   ]
  },
  {
   "cell_type": "code",
   "execution_count": 15,
   "id": "8a6e15ac",
   "metadata": {
    "collapsed": true,
    "gather": {
     "logged": 1629394186512
    },
    "jupyter": {
     "outputs_hidden": true,
     "source_hidden": false
    },
    "nteract": {
     "transient": {
      "deleting": false
     }
    }
   },
   "outputs": [
    {
     "data": {
      "text/html": [
       "<div>\n",
       "<style scoped>\n",
       "    .dataframe tbody tr th:only-of-type {\n",
       "        vertical-align: middle;\n",
       "    }\n",
       "\n",
       "    .dataframe tbody tr th {\n",
       "        vertical-align: top;\n",
       "    }\n",
       "\n",
       "    .dataframe thead th {\n",
       "        text-align: right;\n",
       "    }\n",
       "</style>\n",
       "<table border=\"1\" class=\"dataframe\">\n",
       "  <thead>\n",
       "    <tr style=\"text-align: right;\">\n",
       "      <th></th>\n",
       "      <th>TenantId</th>\n",
       "      <th>Application</th>\n",
       "      <th>UserAgent</th>\n",
       "      <th>RecordType</th>\n",
       "      <th>TimeGenerated</th>\n",
       "      <th>Operation</th>\n",
       "      <th>OrganizationId</th>\n",
       "      <th>UserType</th>\n",
       "      <th>UserKey</th>\n",
       "      <th>OfficeWorkload</th>\n",
       "      <th>ResultStatus</th>\n",
       "      <th>OfficeObjectId</th>\n",
       "      <th>UserId</th>\n",
       "      <th>ClientIP</th>\n",
       "      <th>Site_</th>\n",
       "      <th>ItemType</th>\n",
       "      <th>EventSource</th>\n",
       "      <th>Site_Url</th>\n",
       "      <th>SourceRelativeUrl</th>\n",
       "      <th>SourceFileName</th>\n",
       "      <th>SourceFileExtension</th>\n",
       "      <th>DestinationRelativeUrl</th>\n",
       "      <th>DestinationFileName</th>\n",
       "      <th>DestinationFileExtension</th>\n",
       "      <th>Event_Data</th>\n",
       "      <th>...</th>\n",
       "      <th>TargetUserOrGroupType</th>\n",
       "      <th>MessageId</th>\n",
       "      <th>Members</th>\n",
       "      <th>TeamName</th>\n",
       "      <th>TeamGuid</th>\n",
       "      <th>ChannelName</th>\n",
       "      <th>ChannelGuid</th>\n",
       "      <th>ExtraProperties</th>\n",
       "      <th>AddOnType</th>\n",
       "      <th>AddonName</th>\n",
       "      <th>TabType</th>\n",
       "      <th>Name</th>\n",
       "      <th>NewValue</th>\n",
       "      <th>ItemName</th>\n",
       "      <th>ChatThreadId</th>\n",
       "      <th>CommunicationType</th>\n",
       "      <th>AADGroupId</th>\n",
       "      <th>AddOnGuid</th>\n",
       "      <th>AppDistributionMode</th>\n",
       "      <th>OperationScope</th>\n",
       "      <th>AzureADAppId</th>\n",
       "      <th>OperationProperties</th>\n",
       "      <th>AppId</th>\n",
       "      <th>ClientAppId</th>\n",
       "      <th>Type</th>\n",
       "    </tr>\n",
       "  </thead>\n",
       "  <tbody>\n",
       "    <tr>\n",
       "      <th>0</th>\n",
       "      <td>8ecf8077-cf51-4820-aadd-14040956f35d</td>\n",
       "      <td></td>\n",
       "      <td></td>\n",
       "      <td>50</td>\n",
       "      <td>2021-05-31 12:11:18+00:00</td>\n",
       "      <td>MailItemsAccessed</td>\n",
       "      <td>4b2462a4-bbee-495a-a0e1-f23ae524cc9c</td>\n",
       "      <td>Regular</td>\n",
       "      <td>100320003F88D275</td>\n",
       "      <td>Exchange</td>\n",
       "      <td>Succeeded</td>\n",
       "      <td></td>\n",
       "      <td>seb@seccxp.ninja</td>\n",
       "      <td></td>\n",
       "      <td></td>\n",
       "      <td></td>\n",
       "      <td></td>\n",
       "      <td></td>\n",
       "      <td></td>\n",
       "      <td></td>\n",
       "      <td></td>\n",
       "      <td></td>\n",
       "      <td></td>\n",
       "      <td></td>\n",
       "      <td></td>\n",
       "      <td>...</td>\n",
       "      <td></td>\n",
       "      <td></td>\n",
       "      <td>None</td>\n",
       "      <td></td>\n",
       "      <td></td>\n",
       "      <td></td>\n",
       "      <td></td>\n",
       "      <td>None</td>\n",
       "      <td></td>\n",
       "      <td></td>\n",
       "      <td></td>\n",
       "      <td></td>\n",
       "      <td></td>\n",
       "      <td></td>\n",
       "      <td></td>\n",
       "      <td></td>\n",
       "      <td></td>\n",
       "      <td></td>\n",
       "      <td></td>\n",
       "      <td></td>\n",
       "      <td></td>\n",
       "      <td>[{'Value': 'Bind', 'Name': 'MailAccessType'}, {'Value': 'False', 'Name': 'IsThrottled'}]</td>\n",
       "      <td>7ab7862c-4c57-491e-8a45-d52a7e023983</td>\n",
       "      <td></td>\n",
       "      <td>OfficeActivity</td>\n",
       "    </tr>\n",
       "    <tr>\n",
       "      <th>1</th>\n",
       "      <td>8ecf8077-cf51-4820-aadd-14040956f35d</td>\n",
       "      <td></td>\n",
       "      <td></td>\n",
       "      <td>ExchangeAdmin</td>\n",
       "      <td>2021-05-31 12:35:25+00:00</td>\n",
       "      <td>Set-User</td>\n",
       "      <td>4b2462a4-bbee-495a-a0e1-f23ae524cc9c</td>\n",
       "      <td>DcAdmin</td>\n",
       "      <td>NT AUTHORITY\\SYSTEM (Microsoft.Exchange.Management.ForwardSync)</td>\n",
       "      <td>Exchange</td>\n",
       "      <td>True</td>\n",
       "      <td>NAMPR06A007.PROD.OUTLOOK.COM/Microsoft Exchange Hosted Organizations/seccxpninja.onmicrosoft.com...</td>\n",
       "      <td>NT AUTHORITY\\SYSTEM (Microsoft.Exchange.Management.ForwardSync)</td>\n",
       "      <td></td>\n",
       "      <td></td>\n",
       "      <td></td>\n",
       "      <td></td>\n",
       "      <td></td>\n",
       "      <td></td>\n",
       "      <td></td>\n",
       "      <td></td>\n",
       "      <td></td>\n",
       "      <td></td>\n",
       "      <td></td>\n",
       "      <td></td>\n",
       "      <td>...</td>\n",
       "      <td></td>\n",
       "      <td></td>\n",
       "      <td>None</td>\n",
       "      <td></td>\n",
       "      <td></td>\n",
       "      <td></td>\n",
       "      <td></td>\n",
       "      <td>None</td>\n",
       "      <td></td>\n",
       "      <td></td>\n",
       "      <td></td>\n",
       "      <td></td>\n",
       "      <td></td>\n",
       "      <td></td>\n",
       "      <td></td>\n",
       "      <td></td>\n",
       "      <td></td>\n",
       "      <td></td>\n",
       "      <td></td>\n",
       "      <td></td>\n",
       "      <td></td>\n",
       "      <td>None</td>\n",
       "      <td></td>\n",
       "      <td></td>\n",
       "      <td>OfficeActivity</td>\n",
       "    </tr>\n",
       "    <tr>\n",
       "      <th>2</th>\n",
       "      <td>8ecf8077-cf51-4820-aadd-14040956f35d</td>\n",
       "      <td></td>\n",
       "      <td></td>\n",
       "      <td>50</td>\n",
       "      <td>2021-05-31 13:11:26+00:00</td>\n",
       "      <td>MailItemsAccessed</td>\n",
       "      <td>4b2462a4-bbee-495a-a0e1-f23ae524cc9c</td>\n",
       "      <td>Regular</td>\n",
       "      <td>100320003F88D275</td>\n",
       "      <td>Exchange</td>\n",
       "      <td>Succeeded</td>\n",
       "      <td></td>\n",
       "      <td>seb@seccxp.ninja</td>\n",
       "      <td></td>\n",
       "      <td></td>\n",
       "      <td></td>\n",
       "      <td></td>\n",
       "      <td></td>\n",
       "      <td></td>\n",
       "      <td></td>\n",
       "      <td></td>\n",
       "      <td></td>\n",
       "      <td></td>\n",
       "      <td></td>\n",
       "      <td></td>\n",
       "      <td>...</td>\n",
       "      <td></td>\n",
       "      <td></td>\n",
       "      <td>None</td>\n",
       "      <td></td>\n",
       "      <td></td>\n",
       "      <td></td>\n",
       "      <td></td>\n",
       "      <td>None</td>\n",
       "      <td></td>\n",
       "      <td></td>\n",
       "      <td></td>\n",
       "      <td></td>\n",
       "      <td></td>\n",
       "      <td></td>\n",
       "      <td></td>\n",
       "      <td></td>\n",
       "      <td></td>\n",
       "      <td></td>\n",
       "      <td></td>\n",
       "      <td></td>\n",
       "      <td></td>\n",
       "      <td>[{'Value': 'Bind', 'Name': 'MailAccessType'}, {'Value': 'False', 'Name': 'IsThrottled'}]</td>\n",
       "      <td>7ab7862c-4c57-491e-8a45-d52a7e023983</td>\n",
       "      <td></td>\n",
       "      <td>OfficeActivity</td>\n",
       "    </tr>\n",
       "    <tr>\n",
       "      <th>3</th>\n",
       "      <td>8ecf8077-cf51-4820-aadd-14040956f35d</td>\n",
       "      <td></td>\n",
       "      <td></td>\n",
       "      <td>ExchangeAdmin</td>\n",
       "      <td>2021-05-31 16:05:34+00:00</td>\n",
       "      <td>Set-User</td>\n",
       "      <td>4b2462a4-bbee-495a-a0e1-f23ae524cc9c</td>\n",
       "      <td>DcAdmin</td>\n",
       "      <td>NT AUTHORITY\\SYSTEM (Microsoft.Exchange.Management.ForwardSync)</td>\n",
       "      <td>Exchange</td>\n",
       "      <td>True</td>\n",
       "      <td>NAMPR06A007.PROD.OUTLOOK.COM/Microsoft Exchange Hosted Organizations/seccxpninja.onmicrosoft.com...</td>\n",
       "      <td>NT AUTHORITY\\SYSTEM (Microsoft.Exchange.Management.ForwardSync)</td>\n",
       "      <td></td>\n",
       "      <td></td>\n",
       "      <td></td>\n",
       "      <td></td>\n",
       "      <td></td>\n",
       "      <td></td>\n",
       "      <td></td>\n",
       "      <td></td>\n",
       "      <td></td>\n",
       "      <td></td>\n",
       "      <td></td>\n",
       "      <td></td>\n",
       "      <td>...</td>\n",
       "      <td></td>\n",
       "      <td></td>\n",
       "      <td>None</td>\n",
       "      <td></td>\n",
       "      <td></td>\n",
       "      <td></td>\n",
       "      <td></td>\n",
       "      <td>None</td>\n",
       "      <td></td>\n",
       "      <td></td>\n",
       "      <td></td>\n",
       "      <td></td>\n",
       "      <td></td>\n",
       "      <td></td>\n",
       "      <td></td>\n",
       "      <td></td>\n",
       "      <td></td>\n",
       "      <td></td>\n",
       "      <td></td>\n",
       "      <td></td>\n",
       "      <td></td>\n",
       "      <td>None</td>\n",
       "      <td></td>\n",
       "      <td></td>\n",
       "      <td>OfficeActivity</td>\n",
       "    </tr>\n",
       "    <tr>\n",
       "      <th>4</th>\n",
       "      <td>8ecf8077-cf51-4820-aadd-14040956f35d</td>\n",
       "      <td></td>\n",
       "      <td></td>\n",
       "      <td>MicrosoftTeams</td>\n",
       "      <td>2021-05-31 16:12:44+00:00</td>\n",
       "      <td>MemberAdded</td>\n",
       "      <td>4b2462a4-bbee-495a-a0e1-f23ae524cc9c</td>\n",
       "      <td>Application</td>\n",
       "      <td>62b732f7-fc71-40bc-b27d-35efcb0509de</td>\n",
       "      <td>MicrosoftTeams</td>\n",
       "      <td></td>\n",
       "      <td></td>\n",
       "      <td>Microsoft Teams Sync</td>\n",
       "      <td></td>\n",
       "      <td></td>\n",
       "      <td></td>\n",
       "      <td></td>\n",
       "      <td></td>\n",
       "      <td></td>\n",
       "      <td></td>\n",
       "      <td></td>\n",
       "      <td></td>\n",
       "      <td></td>\n",
       "      <td></td>\n",
       "      <td></td>\n",
       "      <td>...</td>\n",
       "      <td></td>\n",
       "      <td></td>\n",
       "      <td>[{'DisplayName': 'On-Premises Directory Synchronization Service Account', 'Role': 1, 'UPN': 'Syn...</td>\n",
       "      <td>SocTeam</td>\n",
       "      <td>19:9695c2f3977a4254975475668bb52751@thread.skype</td>\n",
       "      <td></td>\n",
       "      <td></td>\n",
       "      <td>[]</td>\n",
       "      <td></td>\n",
       "      <td></td>\n",
       "      <td></td>\n",
       "      <td></td>\n",
       "      <td></td>\n",
       "      <td>SocTeam</td>\n",
       "      <td></td>\n",
       "      <td>Team</td>\n",
       "      <td>d05ba55c-593e-4bfa-8011-26e0626b5c14</td>\n",
       "      <td></td>\n",
       "      <td></td>\n",
       "      <td></td>\n",
       "      <td></td>\n",
       "      <td>None</td>\n",
       "      <td></td>\n",
       "      <td></td>\n",
       "      <td>OfficeActivity</td>\n",
       "    </tr>\n",
       "    <tr>\n",
       "      <th>...</th>\n",
       "      <td>...</td>\n",
       "      <td>...</td>\n",
       "      <td>...</td>\n",
       "      <td>...</td>\n",
       "      <td>...</td>\n",
       "      <td>...</td>\n",
       "      <td>...</td>\n",
       "      <td>...</td>\n",
       "      <td>...</td>\n",
       "      <td>...</td>\n",
       "      <td>...</td>\n",
       "      <td>...</td>\n",
       "      <td>...</td>\n",
       "      <td>...</td>\n",
       "      <td>...</td>\n",
       "      <td>...</td>\n",
       "      <td>...</td>\n",
       "      <td>...</td>\n",
       "      <td>...</td>\n",
       "      <td>...</td>\n",
       "      <td>...</td>\n",
       "      <td>...</td>\n",
       "      <td>...</td>\n",
       "      <td>...</td>\n",
       "      <td>...</td>\n",
       "      <td>...</td>\n",
       "      <td>...</td>\n",
       "      <td>...</td>\n",
       "      <td>...</td>\n",
       "      <td>...</td>\n",
       "      <td>...</td>\n",
       "      <td>...</td>\n",
       "      <td>...</td>\n",
       "      <td>...</td>\n",
       "      <td>...</td>\n",
       "      <td>...</td>\n",
       "      <td>...</td>\n",
       "      <td>...</td>\n",
       "      <td>...</td>\n",
       "      <td>...</td>\n",
       "      <td>...</td>\n",
       "      <td>...</td>\n",
       "      <td>...</td>\n",
       "      <td>...</td>\n",
       "      <td>...</td>\n",
       "      <td>...</td>\n",
       "      <td>...</td>\n",
       "      <td>...</td>\n",
       "      <td>...</td>\n",
       "      <td>...</td>\n",
       "      <td>...</td>\n",
       "    </tr>\n",
       "    <tr>\n",
       "      <th>26154</th>\n",
       "      <td>8ecf8077-cf51-4820-aadd-14040956f35d</td>\n",
       "      <td></td>\n",
       "      <td></td>\n",
       "      <td>50</td>\n",
       "      <td>2021-07-31 10:45:39+00:00</td>\n",
       "      <td>MailItemsAccessed</td>\n",
       "      <td>4b2462a4-bbee-495a-a0e1-f23ae524cc9c</td>\n",
       "      <td>Regular</td>\n",
       "      <td>100320003F8A6FC7</td>\n",
       "      <td>Exchange</td>\n",
       "      <td>Succeeded</td>\n",
       "      <td></td>\n",
       "      <td>MeganB@seccxp.ninja</td>\n",
       "      <td></td>\n",
       "      <td></td>\n",
       "      <td></td>\n",
       "      <td></td>\n",
       "      <td></td>\n",
       "      <td></td>\n",
       "      <td></td>\n",
       "      <td></td>\n",
       "      <td></td>\n",
       "      <td></td>\n",
       "      <td></td>\n",
       "      <td></td>\n",
       "      <td>...</td>\n",
       "      <td></td>\n",
       "      <td></td>\n",
       "      <td>None</td>\n",
       "      <td></td>\n",
       "      <td></td>\n",
       "      <td></td>\n",
       "      <td></td>\n",
       "      <td>None</td>\n",
       "      <td></td>\n",
       "      <td></td>\n",
       "      <td></td>\n",
       "      <td></td>\n",
       "      <td></td>\n",
       "      <td></td>\n",
       "      <td></td>\n",
       "      <td></td>\n",
       "      <td></td>\n",
       "      <td></td>\n",
       "      <td></td>\n",
       "      <td></td>\n",
       "      <td></td>\n",
       "      <td>[{'Value': 'Bind', 'Name': 'MailAccessType'}, {'Value': 'False', 'Name': 'IsThrottled'}]</td>\n",
       "      <td>414a677a-e50f-46ea-b89c-aebb8a9efbe2</td>\n",
       "      <td></td>\n",
       "      <td>OfficeActivity</td>\n",
       "    </tr>\n",
       "    <tr>\n",
       "      <th>26155</th>\n",
       "      <td>8ecf8077-cf51-4820-aadd-14040956f35d</td>\n",
       "      <td></td>\n",
       "      <td></td>\n",
       "      <td>50</td>\n",
       "      <td>2021-07-31 10:45:39+00:00</td>\n",
       "      <td>MailItemsAccessed</td>\n",
       "      <td>4b2462a4-bbee-495a-a0e1-f23ae524cc9c</td>\n",
       "      <td>Regular</td>\n",
       "      <td>100320003F8A6FC7</td>\n",
       "      <td>Exchange</td>\n",
       "      <td>Succeeded</td>\n",
       "      <td></td>\n",
       "      <td>MeganB@seccxp.ninja</td>\n",
       "      <td></td>\n",
       "      <td></td>\n",
       "      <td></td>\n",
       "      <td></td>\n",
       "      <td></td>\n",
       "      <td></td>\n",
       "      <td></td>\n",
       "      <td></td>\n",
       "      <td></td>\n",
       "      <td></td>\n",
       "      <td></td>\n",
       "      <td></td>\n",
       "      <td>...</td>\n",
       "      <td></td>\n",
       "      <td></td>\n",
       "      <td>None</td>\n",
       "      <td></td>\n",
       "      <td></td>\n",
       "      <td></td>\n",
       "      <td></td>\n",
       "      <td>None</td>\n",
       "      <td></td>\n",
       "      <td></td>\n",
       "      <td></td>\n",
       "      <td></td>\n",
       "      <td></td>\n",
       "      <td></td>\n",
       "      <td></td>\n",
       "      <td></td>\n",
       "      <td></td>\n",
       "      <td></td>\n",
       "      <td></td>\n",
       "      <td></td>\n",
       "      <td></td>\n",
       "      <td>[{'Value': 'Bind', 'Name': 'MailAccessType'}, {'Value': 'False', 'Name': 'IsThrottled'}]</td>\n",
       "      <td>414a677a-e50f-46ea-b89c-aebb8a9efbe2</td>\n",
       "      <td></td>\n",
       "      <td>OfficeActivity</td>\n",
       "    </tr>\n",
       "    <tr>\n",
       "      <th>26156</th>\n",
       "      <td>8ecf8077-cf51-4820-aadd-14040956f35d</td>\n",
       "      <td></td>\n",
       "      <td></td>\n",
       "      <td>50</td>\n",
       "      <td>2021-07-31 10:45:39+00:00</td>\n",
       "      <td>MailItemsAccessed</td>\n",
       "      <td>4b2462a4-bbee-495a-a0e1-f23ae524cc9c</td>\n",
       "      <td>Regular</td>\n",
       "      <td>100320003F8A6FC7</td>\n",
       "      <td>Exchange</td>\n",
       "      <td>Succeeded</td>\n",
       "      <td></td>\n",
       "      <td>MeganB@seccxp.ninja</td>\n",
       "      <td></td>\n",
       "      <td></td>\n",
       "      <td></td>\n",
       "      <td></td>\n",
       "      <td></td>\n",
       "      <td></td>\n",
       "      <td></td>\n",
       "      <td></td>\n",
       "      <td></td>\n",
       "      <td></td>\n",
       "      <td></td>\n",
       "      <td></td>\n",
       "      <td>...</td>\n",
       "      <td></td>\n",
       "      <td></td>\n",
       "      <td>None</td>\n",
       "      <td></td>\n",
       "      <td></td>\n",
       "      <td></td>\n",
       "      <td></td>\n",
       "      <td>None</td>\n",
       "      <td></td>\n",
       "      <td></td>\n",
       "      <td></td>\n",
       "      <td></td>\n",
       "      <td></td>\n",
       "      <td></td>\n",
       "      <td></td>\n",
       "      <td></td>\n",
       "      <td></td>\n",
       "      <td></td>\n",
       "      <td></td>\n",
       "      <td></td>\n",
       "      <td></td>\n",
       "      <td>[{'Value': 'Bind', 'Name': 'MailAccessType'}, {'Value': 'False', 'Name': 'IsThrottled'}]</td>\n",
       "      <td>414a677a-e50f-46ea-b89c-aebb8a9efbe2</td>\n",
       "      <td></td>\n",
       "      <td>OfficeActivity</td>\n",
       "    </tr>\n",
       "    <tr>\n",
       "      <th>26157</th>\n",
       "      <td>8ecf8077-cf51-4820-aadd-14040956f35d</td>\n",
       "      <td></td>\n",
       "      <td></td>\n",
       "      <td>50</td>\n",
       "      <td>2021-07-31 10:45:39+00:00</td>\n",
       "      <td>MailItemsAccessed</td>\n",
       "      <td>4b2462a4-bbee-495a-a0e1-f23ae524cc9c</td>\n",
       "      <td>Regular</td>\n",
       "      <td>100320003F8A6FC7</td>\n",
       "      <td>Exchange</td>\n",
       "      <td>Succeeded</td>\n",
       "      <td></td>\n",
       "      <td>MeganB@seccxp.ninja</td>\n",
       "      <td></td>\n",
       "      <td></td>\n",
       "      <td></td>\n",
       "      <td></td>\n",
       "      <td></td>\n",
       "      <td></td>\n",
       "      <td></td>\n",
       "      <td></td>\n",
       "      <td></td>\n",
       "      <td></td>\n",
       "      <td></td>\n",
       "      <td></td>\n",
       "      <td>...</td>\n",
       "      <td></td>\n",
       "      <td></td>\n",
       "      <td>None</td>\n",
       "      <td></td>\n",
       "      <td></td>\n",
       "      <td></td>\n",
       "      <td></td>\n",
       "      <td>None</td>\n",
       "      <td></td>\n",
       "      <td></td>\n",
       "      <td></td>\n",
       "      <td></td>\n",
       "      <td></td>\n",
       "      <td></td>\n",
       "      <td></td>\n",
       "      <td></td>\n",
       "      <td></td>\n",
       "      <td></td>\n",
       "      <td></td>\n",
       "      <td></td>\n",
       "      <td></td>\n",
       "      <td>[{'Value': 'Bind', 'Name': 'MailAccessType'}, {'Value': 'False', 'Name': 'IsThrottled'}]</td>\n",
       "      <td>414a677a-e50f-46ea-b89c-aebb8a9efbe2</td>\n",
       "      <td></td>\n",
       "      <td>OfficeActivity</td>\n",
       "    </tr>\n",
       "    <tr>\n",
       "      <th>26158</th>\n",
       "      <td>8ecf8077-cf51-4820-aadd-14040956f35d</td>\n",
       "      <td></td>\n",
       "      <td></td>\n",
       "      <td>ExchangeAdmin</td>\n",
       "      <td>2021-07-31 10:50:51+00:00</td>\n",
       "      <td>Set-User</td>\n",
       "      <td>4b2462a4-bbee-495a-a0e1-f23ae524cc9c</td>\n",
       "      <td>DcAdmin</td>\n",
       "      <td>NT AUTHORITY\\SYSTEM (Microsoft.Exchange.Management.ForwardSync)</td>\n",
       "      <td>Exchange</td>\n",
       "      <td>True</td>\n",
       "      <td>NAMPR06A007.PROD.OUTLOOK.COM/Microsoft Exchange Hosted Organizations/seccxpninja.onmicrosoft.com...</td>\n",
       "      <td>NT AUTHORITY\\SYSTEM (Microsoft.Exchange.Management.ForwardSync)</td>\n",
       "      <td></td>\n",
       "      <td></td>\n",
       "      <td></td>\n",
       "      <td></td>\n",
       "      <td></td>\n",
       "      <td></td>\n",
       "      <td></td>\n",
       "      <td></td>\n",
       "      <td></td>\n",
       "      <td></td>\n",
       "      <td></td>\n",
       "      <td></td>\n",
       "      <td>...</td>\n",
       "      <td></td>\n",
       "      <td></td>\n",
       "      <td>None</td>\n",
       "      <td></td>\n",
       "      <td></td>\n",
       "      <td></td>\n",
       "      <td></td>\n",
       "      <td>None</td>\n",
       "      <td></td>\n",
       "      <td></td>\n",
       "      <td></td>\n",
       "      <td></td>\n",
       "      <td></td>\n",
       "      <td></td>\n",
       "      <td></td>\n",
       "      <td></td>\n",
       "      <td></td>\n",
       "      <td></td>\n",
       "      <td></td>\n",
       "      <td></td>\n",
       "      <td></td>\n",
       "      <td>None</td>\n",
       "      <td></td>\n",
       "      <td></td>\n",
       "      <td>OfficeActivity</td>\n",
       "    </tr>\n",
       "  </tbody>\n",
       "</table>\n",
       "<p>26159 rows × 79 columns</p>\n",
       "</div>"
      ],
      "text/plain": [
       "                                   TenantId Application UserAgent  \\\n",
       "0      8ecf8077-cf51-4820-aadd-14040956f35d                         \n",
       "1      8ecf8077-cf51-4820-aadd-14040956f35d                         \n",
       "2      8ecf8077-cf51-4820-aadd-14040956f35d                         \n",
       "3      8ecf8077-cf51-4820-aadd-14040956f35d                         \n",
       "4      8ecf8077-cf51-4820-aadd-14040956f35d                         \n",
       "...                                     ...         ...       ...   \n",
       "26154  8ecf8077-cf51-4820-aadd-14040956f35d                         \n",
       "26155  8ecf8077-cf51-4820-aadd-14040956f35d                         \n",
       "26156  8ecf8077-cf51-4820-aadd-14040956f35d                         \n",
       "26157  8ecf8077-cf51-4820-aadd-14040956f35d                         \n",
       "26158  8ecf8077-cf51-4820-aadd-14040956f35d                         \n",
       "\n",
       "           RecordType             TimeGenerated          Operation  \\\n",
       "0                  50 2021-05-31 12:11:18+00:00  MailItemsAccessed   \n",
       "1       ExchangeAdmin 2021-05-31 12:35:25+00:00           Set-User   \n",
       "2                  50 2021-05-31 13:11:26+00:00  MailItemsAccessed   \n",
       "3       ExchangeAdmin 2021-05-31 16:05:34+00:00           Set-User   \n",
       "4      MicrosoftTeams 2021-05-31 16:12:44+00:00        MemberAdded   \n",
       "...               ...                       ...                ...   \n",
       "26154              50 2021-07-31 10:45:39+00:00  MailItemsAccessed   \n",
       "26155              50 2021-07-31 10:45:39+00:00  MailItemsAccessed   \n",
       "26156              50 2021-07-31 10:45:39+00:00  MailItemsAccessed   \n",
       "26157              50 2021-07-31 10:45:39+00:00  MailItemsAccessed   \n",
       "26158   ExchangeAdmin 2021-07-31 10:50:51+00:00           Set-User   \n",
       "\n",
       "                             OrganizationId     UserType  \\\n",
       "0      4b2462a4-bbee-495a-a0e1-f23ae524cc9c      Regular   \n",
       "1      4b2462a4-bbee-495a-a0e1-f23ae524cc9c      DcAdmin   \n",
       "2      4b2462a4-bbee-495a-a0e1-f23ae524cc9c      Regular   \n",
       "3      4b2462a4-bbee-495a-a0e1-f23ae524cc9c      DcAdmin   \n",
       "4      4b2462a4-bbee-495a-a0e1-f23ae524cc9c  Application   \n",
       "...                                     ...          ...   \n",
       "26154  4b2462a4-bbee-495a-a0e1-f23ae524cc9c      Regular   \n",
       "26155  4b2462a4-bbee-495a-a0e1-f23ae524cc9c      Regular   \n",
       "26156  4b2462a4-bbee-495a-a0e1-f23ae524cc9c      Regular   \n",
       "26157  4b2462a4-bbee-495a-a0e1-f23ae524cc9c      Regular   \n",
       "26158  4b2462a4-bbee-495a-a0e1-f23ae524cc9c      DcAdmin   \n",
       "\n",
       "                                                               UserKey  \\\n",
       "0                                                     100320003F88D275   \n",
       "1      NT AUTHORITY\\SYSTEM (Microsoft.Exchange.Management.ForwardSync)   \n",
       "2                                                     100320003F88D275   \n",
       "3      NT AUTHORITY\\SYSTEM (Microsoft.Exchange.Management.ForwardSync)   \n",
       "4                                 62b732f7-fc71-40bc-b27d-35efcb0509de   \n",
       "...                                                                ...   \n",
       "26154                                                 100320003F8A6FC7   \n",
       "26155                                                 100320003F8A6FC7   \n",
       "26156                                                 100320003F8A6FC7   \n",
       "26157                                                 100320003F8A6FC7   \n",
       "26158  NT AUTHORITY\\SYSTEM (Microsoft.Exchange.Management.ForwardSync)   \n",
       "\n",
       "       OfficeWorkload ResultStatus  \\\n",
       "0            Exchange    Succeeded   \n",
       "1            Exchange         True   \n",
       "2            Exchange    Succeeded   \n",
       "3            Exchange         True   \n",
       "4      MicrosoftTeams                \n",
       "...               ...          ...   \n",
       "26154        Exchange    Succeeded   \n",
       "26155        Exchange    Succeeded   \n",
       "26156        Exchange    Succeeded   \n",
       "26157        Exchange    Succeeded   \n",
       "26158        Exchange         True   \n",
       "\n",
       "                                                                                            OfficeObjectId  \\\n",
       "0                                                                                                            \n",
       "1      NAMPR06A007.PROD.OUTLOOK.COM/Microsoft Exchange Hosted Organizations/seccxpninja.onmicrosoft.com...   \n",
       "2                                                                                                            \n",
       "3      NAMPR06A007.PROD.OUTLOOK.COM/Microsoft Exchange Hosted Organizations/seccxpninja.onmicrosoft.com...   \n",
       "4                                                                                                            \n",
       "...                                                                                                    ...   \n",
       "26154                                                                                                        \n",
       "26155                                                                                                        \n",
       "26156                                                                                                        \n",
       "26157                                                                                                        \n",
       "26158  NAMPR06A007.PROD.OUTLOOK.COM/Microsoft Exchange Hosted Organizations/seccxpninja.onmicrosoft.com...   \n",
       "\n",
       "                                                                UserId  \\\n",
       "0                                                     seb@seccxp.ninja   \n",
       "1      NT AUTHORITY\\SYSTEM (Microsoft.Exchange.Management.ForwardSync)   \n",
       "2                                                     seb@seccxp.ninja   \n",
       "3      NT AUTHORITY\\SYSTEM (Microsoft.Exchange.Management.ForwardSync)   \n",
       "4                                                 Microsoft Teams Sync   \n",
       "...                                                                ...   \n",
       "26154                                              MeganB@seccxp.ninja   \n",
       "26155                                              MeganB@seccxp.ninja   \n",
       "26156                                              MeganB@seccxp.ninja   \n",
       "26157                                              MeganB@seccxp.ninja   \n",
       "26158  NT AUTHORITY\\SYSTEM (Microsoft.Exchange.Management.ForwardSync)   \n",
       "\n",
       "      ClientIP Site_ ItemType EventSource Site_Url SourceRelativeUrl  \\\n",
       "0                                                                      \n",
       "1                                                                      \n",
       "2                                                                      \n",
       "3                                                                      \n",
       "4                                                                      \n",
       "...        ...   ...      ...         ...      ...               ...   \n",
       "26154                                                                  \n",
       "26155                                                                  \n",
       "26156                                                                  \n",
       "26157                                                                  \n",
       "26158                                                                  \n",
       "\n",
       "      SourceFileName SourceFileExtension DestinationRelativeUrl  \\\n",
       "0                                                                 \n",
       "1                                                                 \n",
       "2                                                                 \n",
       "3                                                                 \n",
       "4                                                                 \n",
       "...              ...                 ...                    ...   \n",
       "26154                                                             \n",
       "26155                                                             \n",
       "26156                                                             \n",
       "26157                                                             \n",
       "26158                                                             \n",
       "\n",
       "      DestinationFileName DestinationFileExtension Event_Data  ...  \\\n",
       "0                                                              ...   \n",
       "1                                                              ...   \n",
       "2                                                              ...   \n",
       "3                                                              ...   \n",
       "4                                                              ...   \n",
       "...                   ...                      ...        ...  ...   \n",
       "26154                                                          ...   \n",
       "26155                                                          ...   \n",
       "26156                                                          ...   \n",
       "26157                                                          ...   \n",
       "26158                                                          ...   \n",
       "\n",
       "      TargetUserOrGroupType MessageId  \\\n",
       "0                                       \n",
       "1                                       \n",
       "2                                       \n",
       "3                                       \n",
       "4                                       \n",
       "...                     ...       ...   \n",
       "26154                                   \n",
       "26155                                   \n",
       "26156                                   \n",
       "26157                                   \n",
       "26158                                   \n",
       "\n",
       "                                                                                                   Members  \\\n",
       "0                                                                                                     None   \n",
       "1                                                                                                     None   \n",
       "2                                                                                                     None   \n",
       "3                                                                                                     None   \n",
       "4      [{'DisplayName': 'On-Premises Directory Synchronization Service Account', 'Role': 1, 'UPN': 'Syn...   \n",
       "...                                                                                                    ...   \n",
       "26154                                                                                                 None   \n",
       "26155                                                                                                 None   \n",
       "26156                                                                                                 None   \n",
       "26157                                                                                                 None   \n",
       "26158                                                                                                 None   \n",
       "\n",
       "      TeamName                                          TeamGuid  ChannelName  \\\n",
       "0                                                                               \n",
       "1                                                                               \n",
       "2                                                                               \n",
       "3                                                                               \n",
       "4      SocTeam  19:9695c2f3977a4254975475668bb52751@thread.skype                \n",
       "...        ...                                               ...          ...   \n",
       "26154                                                                           \n",
       "26155                                                                           \n",
       "26156                                                                           \n",
       "26157                                                                           \n",
       "26158                                                                           \n",
       "\n",
       "      ChannelGuid ExtraProperties AddOnType AddonName TabType Name NewValue  \\\n",
       "0                            None                                             \n",
       "1                            None                                             \n",
       "2                            None                                             \n",
       "3                            None                                             \n",
       "4                              []                                             \n",
       "...           ...             ...       ...       ...     ...  ...      ...   \n",
       "26154                        None                                             \n",
       "26155                        None                                             \n",
       "26156                        None                                             \n",
       "26157                        None                                             \n",
       "26158                        None                                             \n",
       "\n",
       "      ItemName ChatThreadId CommunicationType  \\\n",
       "0                                               \n",
       "1                                               \n",
       "2                                               \n",
       "3                                               \n",
       "4      SocTeam                           Team   \n",
       "...        ...          ...               ...   \n",
       "26154                                           \n",
       "26155                                           \n",
       "26156                                           \n",
       "26157                                           \n",
       "26158                                           \n",
       "\n",
       "                                 AADGroupId AddOnGuid AppDistributionMode  \\\n",
       "0                                                                           \n",
       "1                                                                           \n",
       "2                                                                           \n",
       "3                                                                           \n",
       "4      d05ba55c-593e-4bfa-8011-26e0626b5c14                                 \n",
       "...                                     ...       ...                 ...   \n",
       "26154                                                                       \n",
       "26155                                                                       \n",
       "26156                                                                       \n",
       "26157                                                                       \n",
       "26158                                                                       \n",
       "\n",
       "      OperationScope AzureADAppId  \\\n",
       "0                                   \n",
       "1                                   \n",
       "2                                   \n",
       "3                                   \n",
       "4                                   \n",
       "...              ...          ...   \n",
       "26154                               \n",
       "26155                               \n",
       "26156                               \n",
       "26157                               \n",
       "26158                               \n",
       "\n",
       "                                                                            OperationProperties  \\\n",
       "0      [{'Value': 'Bind', 'Name': 'MailAccessType'}, {'Value': 'False', 'Name': 'IsThrottled'}]   \n",
       "1                                                                                          None   \n",
       "2      [{'Value': 'Bind', 'Name': 'MailAccessType'}, {'Value': 'False', 'Name': 'IsThrottled'}]   \n",
       "3                                                                                          None   \n",
       "4                                                                                          None   \n",
       "...                                                                                         ...   \n",
       "26154  [{'Value': 'Bind', 'Name': 'MailAccessType'}, {'Value': 'False', 'Name': 'IsThrottled'}]   \n",
       "26155  [{'Value': 'Bind', 'Name': 'MailAccessType'}, {'Value': 'False', 'Name': 'IsThrottled'}]   \n",
       "26156  [{'Value': 'Bind', 'Name': 'MailAccessType'}, {'Value': 'False', 'Name': 'IsThrottled'}]   \n",
       "26157  [{'Value': 'Bind', 'Name': 'MailAccessType'}, {'Value': 'False', 'Name': 'IsThrottled'}]   \n",
       "26158                                                                                      None   \n",
       "\n",
       "                                      AppId ClientAppId            Type  \n",
       "0      7ab7862c-4c57-491e-8a45-d52a7e023983              OfficeActivity  \n",
       "1                                                        OfficeActivity  \n",
       "2      7ab7862c-4c57-491e-8a45-d52a7e023983              OfficeActivity  \n",
       "3                                                        OfficeActivity  \n",
       "4                                                        OfficeActivity  \n",
       "...                                     ...         ...             ...  \n",
       "26154  414a677a-e50f-46ea-b89c-aebb8a9efbe2              OfficeActivity  \n",
       "26155  414a677a-e50f-46ea-b89c-aebb8a9efbe2              OfficeActivity  \n",
       "26156  414a677a-e50f-46ea-b89c-aebb8a9efbe2              OfficeActivity  \n",
       "26157  414a677a-e50f-46ea-b89c-aebb8a9efbe2              OfficeActivity  \n",
       "26158                                                    OfficeActivity  \n",
       "\n",
       "[26159 rows x 79 columns]"
      ]
     },
     "execution_count": 15,
     "metadata": {},
     "output_type": "execute_result"
    }
   ],
   "source": [
    "clean_extra_columns(raw_data)"
   ]
  },
  {
   "cell_type": "code",
   "execution_count": 16,
   "id": "ad2dddbb",
   "metadata": {
    "collapsed": true,
    "gather": {
     "logged": 1629394188297
    },
    "jupyter": {
     "outputs_hidden": false,
     "source_hidden": false
    },
    "nteract": {
     "transient": {
      "deleting": false
     }
    }
   },
   "outputs": [
    {
     "data": {
      "text/html": [
       "<div>\n",
       "<style scoped>\n",
       "    .dataframe tbody tr th:only-of-type {\n",
       "        vertical-align: middle;\n",
       "    }\n",
       "\n",
       "    .dataframe tbody tr th {\n",
       "        vertical-align: top;\n",
       "    }\n",
       "\n",
       "    .dataframe thead th {\n",
       "        text-align: right;\n",
       "    }\n",
       "</style>\n",
       "<table border=\"1\" class=\"dataframe\">\n",
       "  <thead>\n",
       "    <tr style=\"text-align: right;\">\n",
       "      <th></th>\n",
       "      <th>TenantId</th>\n",
       "      <th>Application</th>\n",
       "      <th>UserAgent</th>\n",
       "      <th>RecordType</th>\n",
       "      <th>TimeGenerated</th>\n",
       "      <th>Operation</th>\n",
       "      <th>OrganizationId</th>\n",
       "      <th>UserType</th>\n",
       "      <th>UserKey</th>\n",
       "      <th>OfficeWorkload</th>\n",
       "      <th>ResultStatus</th>\n",
       "      <th>OfficeObjectId</th>\n",
       "      <th>UserId</th>\n",
       "      <th>ClientIP</th>\n",
       "      <th>Site_</th>\n",
       "      <th>ItemType</th>\n",
       "      <th>EventSource</th>\n",
       "      <th>Site_Url</th>\n",
       "      <th>SourceRelativeUrl</th>\n",
       "      <th>SourceFileName</th>\n",
       "      <th>SourceFileExtension</th>\n",
       "      <th>DestinationRelativeUrl</th>\n",
       "      <th>DestinationFileName</th>\n",
       "      <th>DestinationFileExtension</th>\n",
       "      <th>Event_Data</th>\n",
       "      <th>...</th>\n",
       "      <th>TargetUserOrGroupType</th>\n",
       "      <th>MessageId</th>\n",
       "      <th>Members</th>\n",
       "      <th>TeamName</th>\n",
       "      <th>TeamGuid</th>\n",
       "      <th>ChannelName</th>\n",
       "      <th>ChannelGuid</th>\n",
       "      <th>ExtraProperties</th>\n",
       "      <th>AddOnType</th>\n",
       "      <th>AddonName</th>\n",
       "      <th>TabType</th>\n",
       "      <th>Name</th>\n",
       "      <th>NewValue</th>\n",
       "      <th>ItemName</th>\n",
       "      <th>ChatThreadId</th>\n",
       "      <th>CommunicationType</th>\n",
       "      <th>AADGroupId</th>\n",
       "      <th>AddOnGuid</th>\n",
       "      <th>AppDistributionMode</th>\n",
       "      <th>OperationScope</th>\n",
       "      <th>AzureADAppId</th>\n",
       "      <th>OperationProperties</th>\n",
       "      <th>AppId</th>\n",
       "      <th>ClientAppId</th>\n",
       "      <th>Type</th>\n",
       "    </tr>\n",
       "  </thead>\n",
       "  <tbody>\n",
       "    <tr>\n",
       "      <th>0</th>\n",
       "      <td>8ecf8077-cf51-4820-aadd-14040956f35d</td>\n",
       "      <td></td>\n",
       "      <td></td>\n",
       "      <td>50</td>\n",
       "      <td>2021-05-31 12:11:18+00:00</td>\n",
       "      <td>MailItemsAccessed</td>\n",
       "      <td>4b2462a4-bbee-495a-a0e1-f23ae524cc9c</td>\n",
       "      <td>Regular</td>\n",
       "      <td>100320003F88D275</td>\n",
       "      <td>Exchange</td>\n",
       "      <td>Succeeded</td>\n",
       "      <td></td>\n",
       "      <td>seb@seccxp.ninja</td>\n",
       "      <td></td>\n",
       "      <td></td>\n",
       "      <td></td>\n",
       "      <td></td>\n",
       "      <td></td>\n",
       "      <td></td>\n",
       "      <td></td>\n",
       "      <td></td>\n",
       "      <td></td>\n",
       "      <td></td>\n",
       "      <td></td>\n",
       "      <td></td>\n",
       "      <td>...</td>\n",
       "      <td></td>\n",
       "      <td></td>\n",
       "      <td>None</td>\n",
       "      <td></td>\n",
       "      <td></td>\n",
       "      <td></td>\n",
       "      <td></td>\n",
       "      <td>None</td>\n",
       "      <td></td>\n",
       "      <td></td>\n",
       "      <td></td>\n",
       "      <td></td>\n",
       "      <td></td>\n",
       "      <td></td>\n",
       "      <td></td>\n",
       "      <td></td>\n",
       "      <td></td>\n",
       "      <td></td>\n",
       "      <td></td>\n",
       "      <td></td>\n",
       "      <td></td>\n",
       "      <td>[{'Value': 'Bind', 'Name': 'MailAccessType'}, {'Value': 'False', 'Name': 'IsThrottled'}]</td>\n",
       "      <td>7ab7862c-4c57-491e-8a45-d52a7e023983</td>\n",
       "      <td></td>\n",
       "      <td>OfficeActivity</td>\n",
       "    </tr>\n",
       "    <tr>\n",
       "      <th>1</th>\n",
       "      <td>8ecf8077-cf51-4820-aadd-14040956f35d</td>\n",
       "      <td></td>\n",
       "      <td></td>\n",
       "      <td>ExchangeAdmin</td>\n",
       "      <td>2021-05-31 12:35:25+00:00</td>\n",
       "      <td>Set-User</td>\n",
       "      <td>4b2462a4-bbee-495a-a0e1-f23ae524cc9c</td>\n",
       "      <td>DcAdmin</td>\n",
       "      <td>NT AUTHORITY\\SYSTEM (Microsoft.Exchange.Management.ForwardSync)</td>\n",
       "      <td>Exchange</td>\n",
       "      <td>True</td>\n",
       "      <td>NAMPR06A007.PROD.OUTLOOK.COM/Microsoft Exchange Hosted Organizations/seccxpninja.onmicrosoft.com...</td>\n",
       "      <td>NT AUTHORITY\\SYSTEM (Microsoft.Exchange.Management.ForwardSync)</td>\n",
       "      <td></td>\n",
       "      <td></td>\n",
       "      <td></td>\n",
       "      <td></td>\n",
       "      <td></td>\n",
       "      <td></td>\n",
       "      <td></td>\n",
       "      <td></td>\n",
       "      <td></td>\n",
       "      <td></td>\n",
       "      <td></td>\n",
       "      <td></td>\n",
       "      <td>...</td>\n",
       "      <td></td>\n",
       "      <td></td>\n",
       "      <td>None</td>\n",
       "      <td></td>\n",
       "      <td></td>\n",
       "      <td></td>\n",
       "      <td></td>\n",
       "      <td>None</td>\n",
       "      <td></td>\n",
       "      <td></td>\n",
       "      <td></td>\n",
       "      <td></td>\n",
       "      <td></td>\n",
       "      <td></td>\n",
       "      <td></td>\n",
       "      <td></td>\n",
       "      <td></td>\n",
       "      <td></td>\n",
       "      <td></td>\n",
       "      <td></td>\n",
       "      <td></td>\n",
       "      <td>None</td>\n",
       "      <td></td>\n",
       "      <td></td>\n",
       "      <td>OfficeActivity</td>\n",
       "    </tr>\n",
       "    <tr>\n",
       "      <th>2</th>\n",
       "      <td>8ecf8077-cf51-4820-aadd-14040956f35d</td>\n",
       "      <td></td>\n",
       "      <td></td>\n",
       "      <td>50</td>\n",
       "      <td>2021-05-31 13:11:26+00:00</td>\n",
       "      <td>MailItemsAccessed</td>\n",
       "      <td>4b2462a4-bbee-495a-a0e1-f23ae524cc9c</td>\n",
       "      <td>Regular</td>\n",
       "      <td>100320003F88D275</td>\n",
       "      <td>Exchange</td>\n",
       "      <td>Succeeded</td>\n",
       "      <td></td>\n",
       "      <td>seb@seccxp.ninja</td>\n",
       "      <td></td>\n",
       "      <td></td>\n",
       "      <td></td>\n",
       "      <td></td>\n",
       "      <td></td>\n",
       "      <td></td>\n",
       "      <td></td>\n",
       "      <td></td>\n",
       "      <td></td>\n",
       "      <td></td>\n",
       "      <td></td>\n",
       "      <td></td>\n",
       "      <td>...</td>\n",
       "      <td></td>\n",
       "      <td></td>\n",
       "      <td>None</td>\n",
       "      <td></td>\n",
       "      <td></td>\n",
       "      <td></td>\n",
       "      <td></td>\n",
       "      <td>None</td>\n",
       "      <td></td>\n",
       "      <td></td>\n",
       "      <td></td>\n",
       "      <td></td>\n",
       "      <td></td>\n",
       "      <td></td>\n",
       "      <td></td>\n",
       "      <td></td>\n",
       "      <td></td>\n",
       "      <td></td>\n",
       "      <td></td>\n",
       "      <td></td>\n",
       "      <td></td>\n",
       "      <td>[{'Value': 'Bind', 'Name': 'MailAccessType'}, {'Value': 'False', 'Name': 'IsThrottled'}]</td>\n",
       "      <td>7ab7862c-4c57-491e-8a45-d52a7e023983</td>\n",
       "      <td></td>\n",
       "      <td>OfficeActivity</td>\n",
       "    </tr>\n",
       "    <tr>\n",
       "      <th>3</th>\n",
       "      <td>8ecf8077-cf51-4820-aadd-14040956f35d</td>\n",
       "      <td></td>\n",
       "      <td></td>\n",
       "      <td>ExchangeAdmin</td>\n",
       "      <td>2021-05-31 16:05:34+00:00</td>\n",
       "      <td>Set-User</td>\n",
       "      <td>4b2462a4-bbee-495a-a0e1-f23ae524cc9c</td>\n",
       "      <td>DcAdmin</td>\n",
       "      <td>NT AUTHORITY\\SYSTEM (Microsoft.Exchange.Management.ForwardSync)</td>\n",
       "      <td>Exchange</td>\n",
       "      <td>True</td>\n",
       "      <td>NAMPR06A007.PROD.OUTLOOK.COM/Microsoft Exchange Hosted Organizations/seccxpninja.onmicrosoft.com...</td>\n",
       "      <td>NT AUTHORITY\\SYSTEM (Microsoft.Exchange.Management.ForwardSync)</td>\n",
       "      <td></td>\n",
       "      <td></td>\n",
       "      <td></td>\n",
       "      <td></td>\n",
       "      <td></td>\n",
       "      <td></td>\n",
       "      <td></td>\n",
       "      <td></td>\n",
       "      <td></td>\n",
       "      <td></td>\n",
       "      <td></td>\n",
       "      <td></td>\n",
       "      <td>...</td>\n",
       "      <td></td>\n",
       "      <td></td>\n",
       "      <td>None</td>\n",
       "      <td></td>\n",
       "      <td></td>\n",
       "      <td></td>\n",
       "      <td></td>\n",
       "      <td>None</td>\n",
       "      <td></td>\n",
       "      <td></td>\n",
       "      <td></td>\n",
       "      <td></td>\n",
       "      <td></td>\n",
       "      <td></td>\n",
       "      <td></td>\n",
       "      <td></td>\n",
       "      <td></td>\n",
       "      <td></td>\n",
       "      <td></td>\n",
       "      <td></td>\n",
       "      <td></td>\n",
       "      <td>None</td>\n",
       "      <td></td>\n",
       "      <td></td>\n",
       "      <td>OfficeActivity</td>\n",
       "    </tr>\n",
       "    <tr>\n",
       "      <th>4</th>\n",
       "      <td>8ecf8077-cf51-4820-aadd-14040956f35d</td>\n",
       "      <td></td>\n",
       "      <td></td>\n",
       "      <td>MicrosoftTeams</td>\n",
       "      <td>2021-05-31 16:12:44+00:00</td>\n",
       "      <td>MemberAdded</td>\n",
       "      <td>4b2462a4-bbee-495a-a0e1-f23ae524cc9c</td>\n",
       "      <td>Application</td>\n",
       "      <td>62b732f7-fc71-40bc-b27d-35efcb0509de</td>\n",
       "      <td>MicrosoftTeams</td>\n",
       "      <td></td>\n",
       "      <td></td>\n",
       "      <td>Microsoft Teams Sync</td>\n",
       "      <td></td>\n",
       "      <td></td>\n",
       "      <td></td>\n",
       "      <td></td>\n",
       "      <td></td>\n",
       "      <td></td>\n",
       "      <td></td>\n",
       "      <td></td>\n",
       "      <td></td>\n",
       "      <td></td>\n",
       "      <td></td>\n",
       "      <td></td>\n",
       "      <td>...</td>\n",
       "      <td></td>\n",
       "      <td></td>\n",
       "      <td>[{'DisplayName': 'On-Premises Directory Synchronization Service Account', 'Role': 1, 'UPN': 'Syn...</td>\n",
       "      <td>SocTeam</td>\n",
       "      <td>19:9695c2f3977a4254975475668bb52751@thread.skype</td>\n",
       "      <td></td>\n",
       "      <td></td>\n",
       "      <td>[]</td>\n",
       "      <td></td>\n",
       "      <td></td>\n",
       "      <td></td>\n",
       "      <td></td>\n",
       "      <td></td>\n",
       "      <td>SocTeam</td>\n",
       "      <td></td>\n",
       "      <td>Team</td>\n",
       "      <td>d05ba55c-593e-4bfa-8011-26e0626b5c14</td>\n",
       "      <td></td>\n",
       "      <td></td>\n",
       "      <td></td>\n",
       "      <td></td>\n",
       "      <td>None</td>\n",
       "      <td></td>\n",
       "      <td></td>\n",
       "      <td>OfficeActivity</td>\n",
       "    </tr>\n",
       "  </tbody>\n",
       "</table>\n",
       "<p>5 rows × 79 columns</p>\n",
       "</div>"
      ],
      "text/plain": [
       "                               TenantId Application UserAgent      RecordType  \\\n",
       "0  8ecf8077-cf51-4820-aadd-14040956f35d                                    50   \n",
       "1  8ecf8077-cf51-4820-aadd-14040956f35d                         ExchangeAdmin   \n",
       "2  8ecf8077-cf51-4820-aadd-14040956f35d                                    50   \n",
       "3  8ecf8077-cf51-4820-aadd-14040956f35d                         ExchangeAdmin   \n",
       "4  8ecf8077-cf51-4820-aadd-14040956f35d                        MicrosoftTeams   \n",
       "\n",
       "              TimeGenerated          Operation  \\\n",
       "0 2021-05-31 12:11:18+00:00  MailItemsAccessed   \n",
       "1 2021-05-31 12:35:25+00:00           Set-User   \n",
       "2 2021-05-31 13:11:26+00:00  MailItemsAccessed   \n",
       "3 2021-05-31 16:05:34+00:00           Set-User   \n",
       "4 2021-05-31 16:12:44+00:00        MemberAdded   \n",
       "\n",
       "                         OrganizationId     UserType  \\\n",
       "0  4b2462a4-bbee-495a-a0e1-f23ae524cc9c      Regular   \n",
       "1  4b2462a4-bbee-495a-a0e1-f23ae524cc9c      DcAdmin   \n",
       "2  4b2462a4-bbee-495a-a0e1-f23ae524cc9c      Regular   \n",
       "3  4b2462a4-bbee-495a-a0e1-f23ae524cc9c      DcAdmin   \n",
       "4  4b2462a4-bbee-495a-a0e1-f23ae524cc9c  Application   \n",
       "\n",
       "                                                           UserKey  \\\n",
       "0                                                 100320003F88D275   \n",
       "1  NT AUTHORITY\\SYSTEM (Microsoft.Exchange.Management.ForwardSync)   \n",
       "2                                                 100320003F88D275   \n",
       "3  NT AUTHORITY\\SYSTEM (Microsoft.Exchange.Management.ForwardSync)   \n",
       "4                             62b732f7-fc71-40bc-b27d-35efcb0509de   \n",
       "\n",
       "   OfficeWorkload ResultStatus  \\\n",
       "0        Exchange    Succeeded   \n",
       "1        Exchange         True   \n",
       "2        Exchange    Succeeded   \n",
       "3        Exchange         True   \n",
       "4  MicrosoftTeams                \n",
       "\n",
       "                                                                                        OfficeObjectId  \\\n",
       "0                                                                                                        \n",
       "1  NAMPR06A007.PROD.OUTLOOK.COM/Microsoft Exchange Hosted Organizations/seccxpninja.onmicrosoft.com...   \n",
       "2                                                                                                        \n",
       "3  NAMPR06A007.PROD.OUTLOOK.COM/Microsoft Exchange Hosted Organizations/seccxpninja.onmicrosoft.com...   \n",
       "4                                                                                                        \n",
       "\n",
       "                                                            UserId ClientIP  \\\n",
       "0                                                 seb@seccxp.ninja            \n",
       "1  NT AUTHORITY\\SYSTEM (Microsoft.Exchange.Management.ForwardSync)            \n",
       "2                                                 seb@seccxp.ninja            \n",
       "3  NT AUTHORITY\\SYSTEM (Microsoft.Exchange.Management.ForwardSync)            \n",
       "4                                             Microsoft Teams Sync            \n",
       "\n",
       "  Site_ ItemType EventSource Site_Url SourceRelativeUrl SourceFileName  \\\n",
       "0                                                                        \n",
       "1                                                                        \n",
       "2                                                                        \n",
       "3                                                                        \n",
       "4                                                                        \n",
       "\n",
       "  SourceFileExtension DestinationRelativeUrl DestinationFileName  \\\n",
       "0                                                                  \n",
       "1                                                                  \n",
       "2                                                                  \n",
       "3                                                                  \n",
       "4                                                                  \n",
       "\n",
       "  DestinationFileExtension Event_Data  ... TargetUserOrGroupType MessageId  \\\n",
       "0                                      ...                                   \n",
       "1                                      ...                                   \n",
       "2                                      ...                                   \n",
       "3                                      ...                                   \n",
       "4                                      ...                                   \n",
       "\n",
       "                                                                                               Members  \\\n",
       "0                                                                                                 None   \n",
       "1                                                                                                 None   \n",
       "2                                                                                                 None   \n",
       "3                                                                                                 None   \n",
       "4  [{'DisplayName': 'On-Premises Directory Synchronization Service Account', 'Role': 1, 'UPN': 'Syn...   \n",
       "\n",
       "  TeamName                                          TeamGuid  ChannelName  \\\n",
       "0                                                                           \n",
       "1                                                                           \n",
       "2                                                                           \n",
       "3                                                                           \n",
       "4  SocTeam  19:9695c2f3977a4254975475668bb52751@thread.skype                \n",
       "\n",
       "  ChannelGuid ExtraProperties AddOnType AddonName TabType Name NewValue  \\\n",
       "0                        None                                             \n",
       "1                        None                                             \n",
       "2                        None                                             \n",
       "3                        None                                             \n",
       "4                          []                                             \n",
       "\n",
       "  ItemName ChatThreadId CommunicationType  \\\n",
       "0                                           \n",
       "1                                           \n",
       "2                                           \n",
       "3                                           \n",
       "4  SocTeam                           Team   \n",
       "\n",
       "                             AADGroupId AddOnGuid AppDistributionMode  \\\n",
       "0                                                                       \n",
       "1                                                                       \n",
       "2                                                                       \n",
       "3                                                                       \n",
       "4  d05ba55c-593e-4bfa-8011-26e0626b5c14                                 \n",
       "\n",
       "  OperationScope AzureADAppId  \\\n",
       "0                               \n",
       "1                               \n",
       "2                               \n",
       "3                               \n",
       "4                               \n",
       "\n",
       "                                                                        OperationProperties  \\\n",
       "0  [{'Value': 'Bind', 'Name': 'MailAccessType'}, {'Value': 'False', 'Name': 'IsThrottled'}]   \n",
       "1                                                                                      None   \n",
       "2  [{'Value': 'Bind', 'Name': 'MailAccessType'}, {'Value': 'False', 'Name': 'IsThrottled'}]   \n",
       "3                                                                                      None   \n",
       "4                                                                                      None   \n",
       "\n",
       "                                  AppId ClientAppId            Type  \n",
       "0  7ab7862c-4c57-491e-8a45-d52a7e023983              OfficeActivity  \n",
       "1                                                    OfficeActivity  \n",
       "2  7ab7862c-4c57-491e-8a45-d52a7e023983              OfficeActivity  \n",
       "3                                                    OfficeActivity  \n",
       "4                                                    OfficeActivity  \n",
       "\n",
       "[5 rows x 79 columns]"
      ]
     },
     "execution_count": 16,
     "metadata": {},
     "output_type": "execute_result"
    }
   ],
   "source": [
    "raw_data.head()"
   ]
  },
  {
   "cell_type": "code",
   "execution_count": 17,
   "id": "0590f82f",
   "metadata": {
    "collapsed": true,
    "gather": {
     "logged": 1629394196092
    },
    "jupyter": {
     "outputs_hidden": false,
     "source_hidden": false
    },
    "nteract": {
     "transient": {
      "deleting": false
     }
    }
   },
   "outputs": [
    {
     "data": {
      "text/plain": [
       "(26159, 79)"
      ]
     },
     "execution_count": 17,
     "metadata": {},
     "output_type": "execute_result"
    }
   ],
   "source": [
    "raw_data.shape"
   ]
  },
  {
   "cell_type": "code",
   "execution_count": 18,
   "id": "474f9ee6",
   "metadata": {
    "collapsed": true,
    "gather": {
     "logged": 1629394206949
    },
    "jupyter": {
     "outputs_hidden": false,
     "source_hidden": false
    },
    "nteract": {
     "transient": {
      "deleting": false
     }
    }
   },
   "outputs": [
    {
     "data": {
      "application/vnd.jupyter.widget-view+json": {
       "model_id": "f0e428f861954e5aba582067186e83d7",
       "version_major": 2,
       "version_minor": 0
      },
      "text/plain": [
       "  0%|          | 0/1 [00:00<?, ?it/s]"
      ]
     },
     "metadata": {},
     "output_type": "display_data"
    },
    {
     "data": {
      "application/javascript": [
       "try {IPython.notebook.kernel.execute(\"NOTEBOOK_URL = '\" + window.location + \"'\");} catch(err) {;}"
      ],
      "text/plain": [
       "<IPython.core.display.Javascript object>"
      ]
     },
     "metadata": {},
     "output_type": "display_data"
    },
    {
     "name": "stdout",
     "output_type": "stream",
     "text": [
      "{'account': [('OfficeActivity', 'UserKey'),\n",
      "             ('OfficeActivity', 'UserId'),\n",
      "             ('OfficeActivity', 'MailboxOwnerUPN'),\n",
      "             ('OfficeActivity', 'MailboxOwnerSid'),\n",
      "             ('OfficeActivity', 'LogonUserSid')],\n",
      " 'host': [('OfficeActivity', 'OfficeObjectId'),\n",
      "          ('OfficeActivity', 'OrganizationName'),\n",
      "          ('OfficeActivity', 'ClientProcessName')],\n",
      " 'ipaddress': [('OfficeActivity', 'ClientIP'),\n",
      "               ('OfficeActivity', 'Client_IPAddress')]}\n"
     ]
    }
   ],
   "source": [
    "#get a dictionary of entities of the table and remove redundant columns\r\n",
    "entities_dict = query.detect_entities(tables=[table])\r\n",
    "for key,value in entities_dict.items():\r\n",
    "    for tup in value:\r\n",
    "        if tup[1] not in raw_data.columns:\r\n",
    "            value.remove(tup)\r\n",
    "\r\n",
    "pprint(entities_dict)"
   ]
  },
  {
   "cell_type": "code",
   "execution_count": 86,
   "id": "81a215ec",
   "metadata": {
    "gather": {
     "logged": 1629401587950
    }
   },
   "outputs": [
    {
     "name": "stdout",
     "output_type": "stream",
     "text": [
      "What kind of entites would you like to see be analyzed?\n"
     ]
    },
    {
     "data": {
      "application/vnd.jupyter.widget-view+json": {
       "model_id": "2b2a70c28ee1477582919a8712f6016f",
       "version_major": 2,
       "version_minor": 0
      },
      "text/plain": [
       "Dropdown(description='Entities', options=('Entity - account, Column - LogonUserSid', 'Entity - account, Column…"
      ]
     },
     "metadata": {},
     "output_type": "display_data"
    }
   ],
   "source": [
    "print (\"What kind of entites would you like to see be analyzed?\")\n",
    "#Formatting data to have it in a Entity - x, Column - y format \n",
    "source_entities = list()\n",
    "for key,value in entities_dict.items():\n",
    "    for tup in value:\n",
    "        source_entities.append(\"Entity - {}, Column - {}\".format(key,tup[1]))\n",
    "\n",
    "#nbwidget to select entity\n",
    "#sel_entities = nbwidgets.SelectSubset(source_items=source_entities)\n",
    "\n",
    "sel_entities = ipywidgets.Dropdown(\n",
    "    options=sorted(source_entities),\n",
    "    description='Entities',\n",
    ")\n",
    "display(sel_entities)"
   ]
  },
  {
   "cell_type": "code",
   "execution_count": 77,
   "id": "2756122b",
   "metadata": {
    "collapsed": true,
    "gather": {
     "logged": 1629401145760
    },
    "jupyter": {
     "outputs_hidden": false,
     "source_hidden": false
    },
    "nteract": {
     "transient": {
      "deleting": false
     }
    }
   },
   "outputs": [
    {
     "name": "stdout",
     "output_type": "stream",
     "text": [
      "What kind of features would you like to see be analyzed?\n"
     ]
    },
    {
     "data": {
      "application/vnd.jupyter.widget-view+json": {
       "model_id": "2ca1b0d29fa547c689e729860d5bb499",
       "version_major": 2,
       "version_minor": 0
      },
      "text/plain": [
       "VBox(children=(Text(value='', description='Filter:', style=DescriptionStyle(description_width='initial')), HBo…"
      ]
     },
     "metadata": {},
     "output_type": "display_data"
    }
   ],
   "source": [
    "print (\"What kind of features would you like to see be analyzed?\")\r\n",
    "#nbwidget to select features\r\n",
    "sel_features = nbwidgets.SelectSubset(source_items=raw_data.columns)"
   ]
  },
  {
   "cell_type": "code",
   "execution_count": 110,
   "id": "df5a36f9",
   "metadata": {
    "collapsed": true,
    "gather": {
     "logged": 1629403124781
    },
    "jupyter": {
     "outputs_hidden": false,
     "source_hidden": false
    },
    "nteract": {
     "transient": {
      "deleting": false
     }
    }
   },
   "outputs": [
    {
     "data": {
      "application/vnd.jupyter.widget-view+json": {
       "model_id": "52f7a7e2e6464b5dac333cef9c295757",
       "version_major": 2,
       "version_minor": 0
      },
      "text/plain": [
       "VBox(children=(HTML(value='<h4>Set query time boundaries</h4>'), HBox(children=(DatePicker(value=datetime.date…"
      ]
     },
     "metadata": {},
     "output_type": "display_data"
    }
   ],
   "source": [
    "#nbwidget to select the time range\r\n",
    "q_times = nbwidgets.QueryTime(units='day', max_before=50, before=5, max_after=50)\r\n",
    "q_times.display()"
   ]
  },
  {
   "cell_type": "code",
   "execution_count": 23,
   "id": "c4932fe7",
   "metadata": {
    "collapsed": true,
    "gather": {
     "logged": 1629394397408
    },
    "jupyter": {
     "outputs_hidden": false,
     "source_hidden": false
    },
    "nteract": {
     "transient": {
      "deleting": false
     }
    }
   },
   "outputs": [],
   "source": [
    "def to_lower_and_replace(lst):\r\n",
    "    \"\"\"\r\n",
    "    Makes all data in a list to lower case and replaces space with no space\r\n",
    "    \r\n",
    "    Parameters\r\n",
    "    -------\r\n",
    "    \r\n",
    "    lst - takes in a list type object\r\n",
    "    \r\n",
    "    Returns\r\n",
    "    -------\r\n",
    "    a list type object with all elements to lower case and replaces space with no space\r\n",
    "    \"\"\"\r\n",
    "    return [x.lower().replace(\" \",\"\") for x in lst]"
   ]
  },
  {
   "cell_type": "code",
   "execution_count": 24,
   "id": "4f5ab169",
   "metadata": {
    "gather": {
     "logged": 1629394403530
    }
   },
   "outputs": [],
   "source": [
    "#list of all entities \n",
    "all_entities = [\"Account\",\"Host\",\"IP address\", \"URL\", \"Azure resource\", \"Registry key\", \"File\", \"File hash\"]\n",
    "#list of all entities selected by the user\n",
    "user_entities = []\n",
    "for i in sel_entities.selected_values:\n",
    "    to_append = i.split(\"Column - \",)[1]\n",
    "    user_entities.append(to_append)\n",
    "\n",
    "all_entities = to_lower_and_replace(all_entities)\n",
    "user_features = sel_features.selected_values"
   ]
  },
  {
   "cell_type": "code",
   "execution_count": 62,
   "id": "6dec1698",
   "metadata": {
    "collapsed": true,
    "gather": {
     "logged": 1629396514223
    },
    "jupyter": {
     "outputs_hidden": false,
     "source_hidden": false
    },
    "nteract": {
     "transient": {
      "deleting": false
     }
    }
   },
   "outputs": [],
   "source": [
    "def create_subset(df, user_entities, user_features, start_date, end_date):\r\n",
    "    \"\"\"\r\n",
    "    Creates of a subset of the raw input dataframe based on user's selected entities, features and time range\r\n",
    "    \r\n",
    "    Parameters\r\n",
    "    -------\r\n",
    "    \r\n",
    "    df - takes in a dataframe type object\r\n",
    "    user_entities - list of selected user entities\r\n",
    "    user_features- list of selected user features\r\n",
    "    start_date - start date of the time range(inclusive)\r\n",
    "    end_date - end date of the time range (inclusive)\r\n",
    "    \r\n",
    "    Returns\r\n",
    "    -------\r\n",
    "    \r\n",
    "    a new dataframe type object which is a subset of the raw data based on user selected inputs\r\n",
    "    \r\n",
    "    \"\"\"\r\n",
    "    df_subsetted  = pd.DataFrame()\r\n",
    "    df_subsetted = df.filter([\"TimeGenerated\"], axis=1)\r\n",
    "    df_subsetted.rename(columns = {'TimeGenerated':'TimeGenerated_encoded'}, inplace = True)\r\n",
    "    df_subsetted[\"TimeGenerated_encoded\"] = df_subsetted[\"TimeGenerated_encoded\"].apply(lambda x: x.timestamp())\r\n",
    "    df_subsetted[\"TimeGenerated\"] = df.filter([\"TimeGenerated\"], axis=1)\r\n",
    "\r\n",
    "    for i in user_entities:\r\n",
    "        df_subsetted[i] = df.filter([i])\r\n",
    "\r\n",
    "    for i in user_features:\r\n",
    "        df_subsetted[i] = df.filter([i])\r\n",
    "        \r\n",
    "    df_subsetted = df_subsetted.sort_values(by = \"TimeGenerated\", ascending = True)\r\n",
    "    df_subsetted = df_subsetted.query(\"TimeGenerated_encoded>={} and TimeGenerated_encoded<={}\".format(start_date.timestamp(), end_date.timestamp())).copy()\r\n",
    "    df_subsetted.drop(\"TimeGenerated_encoded\", inplace = True, axis = 1)\r\n",
    "    df_subsetted.reset_index(inplace = True,drop = True)\r\n",
    "    return df_subsetted\r\n"
   ]
  },
  {
   "cell_type": "code",
   "execution_count": 66,
   "id": "3745ff3f",
   "metadata": {
    "collapsed": true,
    "gather": {
     "logged": 1629396606140
    },
    "jupyter": {
     "outputs_hidden": false,
     "source_hidden": false
    },
    "nteract": {
     "transient": {
      "deleting": false
     }
    }
   },
   "outputs": [],
   "source": [
    "df_subset = create_subset(raw_data, user_entities, user_features,q_times.start, q_times.end) "
   ]
  },
  {
   "cell_type": "code",
   "execution_count": 67,
   "id": "c29f481d",
   "metadata": {
    "collapsed": true,
    "gather": {
     "logged": 1629396608323
    },
    "jupyter": {
     "outputs_hidden": false,
     "source_hidden": false
    },
    "nteract": {
     "transient": {
      "deleting": false
     }
    }
   },
   "outputs": [
    {
     "data": {
      "text/html": [
       "<div>\n",
       "<style scoped>\n",
       "    .dataframe tbody tr th:only-of-type {\n",
       "        vertical-align: middle;\n",
       "    }\n",
       "\n",
       "    .dataframe tbody tr th {\n",
       "        vertical-align: top;\n",
       "    }\n",
       "\n",
       "    .dataframe thead th {\n",
       "        text-align: right;\n",
       "    }\n",
       "</style>\n",
       "<table border=\"1\" class=\"dataframe\">\n",
       "  <thead>\n",
       "    <tr style=\"text-align: right;\">\n",
       "      <th></th>\n",
       "      <th>TimeGenerated</th>\n",
       "      <th>UserId</th>\n",
       "      <th>Operation</th>\n",
       "      <th>OrganizationName</th>\n",
       "      <th>OriginatingServer</th>\n",
       "      <th>Parameters</th>\n",
       "      <th>RecordType</th>\n",
       "      <th>ResultStatus</th>\n",
       "    </tr>\n",
       "  </thead>\n",
       "  <tbody>\n",
       "    <tr>\n",
       "      <th>0</th>\n",
       "      <td>2021-07-11 17:38:47+00:00</td>\n",
       "      <td>NT AUTHORITY\\SYSTEM (Microsoft.Exchange.Management.ForwardSync)</td>\n",
       "      <td>Set-User</td>\n",
       "      <td>seccxpninja.onmicrosoft.com</td>\n",
       "      <td>SN6PR06MB6445 (15.20.4308.026)</td>\n",
       "      <td>[\\r\\n  {\\r\\n    \"Name\": \"Identity\",\\r\\n    \"Value\": \"4b2462a4-bbee-495a-a0e1-f23ae524cc9c\\\\fa796...</td>\n",
       "      <td>ExchangeAdmin</td>\n",
       "      <td>True</td>\n",
       "    </tr>\n",
       "    <tr>\n",
       "      <th>1</th>\n",
       "      <td>2021-07-11 17:52:07+00:00</td>\n",
       "      <td>seb@seccxpninja.onmicrosoft.com</td>\n",
       "      <td>MailItemsAccessed</td>\n",
       "      <td>seccxpninja.onmicrosoft.com</td>\n",
       "      <td>DM5PR06MB3180 (15.20.4200.000)\\r\\n</td>\n",
       "      <td></td>\n",
       "      <td>50</td>\n",
       "      <td>Succeeded</td>\n",
       "    </tr>\n",
       "    <tr>\n",
       "      <th>2</th>\n",
       "      <td>2021-07-11 17:52:07+00:00</td>\n",
       "      <td>seb@seccxpninja.onmicrosoft.com</td>\n",
       "      <td>MailItemsAccessed</td>\n",
       "      <td>seccxpninja.onmicrosoft.com</td>\n",
       "      <td>DM5PR06MB3180 (15.20.4200.000)\\r\\n</td>\n",
       "      <td></td>\n",
       "      <td>50</td>\n",
       "      <td>Succeeded</td>\n",
       "    </tr>\n",
       "    <tr>\n",
       "      <th>3</th>\n",
       "      <td>2021-07-11 17:57:04+00:00</td>\n",
       "      <td>john@seccxpninja.onmicrosoft.com</td>\n",
       "      <td>MailItemsAccessed</td>\n",
       "      <td>seccxpninja.onmicrosoft.com</td>\n",
       "      <td>CH2PR06MB6710 (15.20.4200.000)\\r\\n</td>\n",
       "      <td></td>\n",
       "      <td>50</td>\n",
       "      <td>Succeeded</td>\n",
       "    </tr>\n",
       "    <tr>\n",
       "      <th>4</th>\n",
       "      <td>2021-07-11 18:25:07+00:00</td>\n",
       "      <td>MeganB@seccxp.ninja</td>\n",
       "      <td>MailItemsAccessed</td>\n",
       "      <td>seccxpninja.onmicrosoft.com</td>\n",
       "      <td>DM5PR0601MB3686 (15.20.4200.000)\\r\\n</td>\n",
       "      <td></td>\n",
       "      <td>50</td>\n",
       "      <td>Succeeded</td>\n",
       "    </tr>\n",
       "  </tbody>\n",
       "</table>\n",
       "</div>"
      ],
      "text/plain": [
       "               TimeGenerated  \\\n",
       "0  2021-07-11 17:38:47+00:00   \n",
       "1  2021-07-11 17:52:07+00:00   \n",
       "2  2021-07-11 17:52:07+00:00   \n",
       "3  2021-07-11 17:57:04+00:00   \n",
       "4  2021-07-11 18:25:07+00:00   \n",
       "\n",
       "                                                            UserId  \\\n",
       "0  NT AUTHORITY\\SYSTEM (Microsoft.Exchange.Management.ForwardSync)   \n",
       "1                                  seb@seccxpninja.onmicrosoft.com   \n",
       "2                                  seb@seccxpninja.onmicrosoft.com   \n",
       "3                                 john@seccxpninja.onmicrosoft.com   \n",
       "4                                              MeganB@seccxp.ninja   \n",
       "\n",
       "           Operation             OrganizationName  \\\n",
       "0           Set-User  seccxpninja.onmicrosoft.com   \n",
       "1  MailItemsAccessed  seccxpninja.onmicrosoft.com   \n",
       "2  MailItemsAccessed  seccxpninja.onmicrosoft.com   \n",
       "3  MailItemsAccessed  seccxpninja.onmicrosoft.com   \n",
       "4  MailItemsAccessed  seccxpninja.onmicrosoft.com   \n",
       "\n",
       "                      OriginatingServer  \\\n",
       "0        SN6PR06MB6445 (15.20.4308.026)   \n",
       "1    DM5PR06MB3180 (15.20.4200.000)\\r\\n   \n",
       "2    DM5PR06MB3180 (15.20.4200.000)\\r\\n   \n",
       "3    CH2PR06MB6710 (15.20.4200.000)\\r\\n   \n",
       "4  DM5PR0601MB3686 (15.20.4200.000)\\r\\n   \n",
       "\n",
       "                                                                                            Parameters  \\\n",
       "0  [\\r\\n  {\\r\\n    \"Name\": \"Identity\",\\r\\n    \"Value\": \"4b2462a4-bbee-495a-a0e1-f23ae524cc9c\\\\fa796...   \n",
       "1                                                                                                        \n",
       "2                                                                                                        \n",
       "3                                                                                                        \n",
       "4                                                                                                        \n",
       "\n",
       "      RecordType ResultStatus  \n",
       "0  ExchangeAdmin         True  \n",
       "1             50    Succeeded  \n",
       "2             50    Succeeded  \n",
       "3             50    Succeeded  \n",
       "4             50    Succeeded  "
      ]
     },
     "execution_count": 67,
     "metadata": {},
     "output_type": "execute_result"
    }
   ],
   "source": [
    "df_subset.head()"
   ]
  },
  {
   "cell_type": "code",
   "execution_count": 29,
   "id": "a1c36158",
   "metadata": {
    "collapsed": true,
    "gather": {
     "logged": 1629394458476
    },
    "jupyter": {
     "outputs_hidden": false,
     "source_hidden": false
    },
    "nteract": {
     "transient": {
      "deleting": false
     }
    }
   },
   "outputs": [],
   "source": [
    "def nunique_nan(col):\r\n",
    "    \"\"\"\r\n",
    "    Helper function to select count including NaN values\r\n",
    "    \r\n",
    "    Parameters\r\n",
    "    -------\r\n",
    "    \r\n",
    "    col - column of a dataframe\r\n",
    "    \r\n",
    "    Returns\r\n",
    "    -------\r\n",
    "    \r\n",
    "    returns count of all distinct occurences in the column\r\n",
    "    \"\"\"\r\n",
    "    return col.nunique(dropna=False)"
   ]
  },
  {
   "cell_type": "code",
   "execution_count": 30,
   "id": "79f9f3d1",
   "metadata": {
    "collapsed": true,
    "gather": {
     "logged": 1629394471531
    },
    "jupyter": {
     "outputs_hidden": false,
     "source_hidden": false
    },
    "nteract": {
     "transient": {
      "deleting": false
     }
    }
   },
   "outputs": [],
   "source": [
    "def create_aggregate_bycount(df,user_entities):\r\n",
    "    \"\"\"\r\n",
    "    Creates a dataframe which is grouped by the user entity and has the data in the count format\r\n",
    "    \r\n",
    "    Parameters\r\n",
    "    -------\r\n",
    "    \r\n",
    "    df - takes in a dataframe type object\r\n",
    "    user_entities - list of selected user entities\r\n",
    "    \r\n",
    "    Returns\r\n",
    "    -------\r\n",
    "    a new dataframe type object with data grouped by and aggregated by the user entity and the data being in the original data format \r\n",
    "    \"\"\"\r\n",
    "    df_aggregate = df.copy()\r\n",
    "    df_aggregate_bycount = df_aggregate.groupby(by = user_entities, as_index = False).agg(nunique_nan) \r\n",
    "    return df_aggregate_bycount"
   ]
  },
  {
   "cell_type": "code",
   "execution_count": 31,
   "id": "5af73cb7",
   "metadata": {
    "collapsed": true,
    "gather": {
     "logged": 1629394477711
    },
    "jupyter": {
     "outputs_hidden": false,
     "source_hidden": false
    },
    "nteract": {
     "transient": {
      "deleting": false
     }
    }
   },
   "outputs": [],
   "source": [
    "def create_aggregate_bydata(df,user_entities):\r\n",
    "    \"\"\"\r\n",
    "    Creates a dataframe which is grouped by the user entity and has the data in the data format\r\n",
    "    \r\n",
    "    Parameters\r\n",
    "    -------\r\n",
    "    \r\n",
    "    df - takes in a dataframe type object\r\n",
    "    user_entities - list of selected user entities\r\n",
    "    \r\n",
    "    Returns\r\n",
    "    -------\r\n",
    "    a new dataframe type object with data grouped by and aggregated by the user entity and the data being in the original data format \r\n",
    "    \"\"\"\r\n",
    "    df_temp = df.copy()\r\n",
    "\r\n",
    "    df_temp_bydata = df_temp.groupby(by = user_entities, as_index = False).agg(lambda x: set(x)) \r\n",
    "    return df_temp_bydata"
   ]
  },
  {
   "cell_type": "code",
   "execution_count": 32,
   "id": "e392013f",
   "metadata": {
    "collapsed": true,
    "gather": {
     "logged": 1629394481337
    },
    "jupyter": {
     "outputs_hidden": false,
     "source_hidden": false
    },
    "nteract": {
     "transient": {
      "deleting": false
     }
    }
   },
   "outputs": [
    {
     "data": {
      "text/html": [
       "<div>\n",
       "<style scoped>\n",
       "    .dataframe tbody tr th:only-of-type {\n",
       "        vertical-align: middle;\n",
       "    }\n",
       "\n",
       "    .dataframe tbody tr th {\n",
       "        vertical-align: top;\n",
       "    }\n",
       "\n",
       "    .dataframe thead th {\n",
       "        text-align: right;\n",
       "    }\n",
       "</style>\n",
       "<table border=\"1\" class=\"dataframe\">\n",
       "  <thead>\n",
       "    <tr style=\"text-align: right;\">\n",
       "      <th></th>\n",
       "      <th>UserId</th>\n",
       "      <th>TimeGenerated</th>\n",
       "      <th>Operation</th>\n",
       "      <th>OrganizationName</th>\n",
       "      <th>OriginatingServer</th>\n",
       "      <th>Parameters</th>\n",
       "      <th>RecordType</th>\n",
       "      <th>ResultStatus</th>\n",
       "    </tr>\n",
       "  </thead>\n",
       "  <tbody>\n",
       "    <tr>\n",
       "      <th>0</th>\n",
       "      <td>AzureDevSub@seccxpninja.onmicrosoft.com</td>\n",
       "      <td>{2021-07-20 14:19:24+00:00, 2021-07-16 17:37:55+00:00, 2021-07-25 18:35:18+00:00, 2021-07-15 16:...</td>\n",
       "      <td>{MailItemsAccessed}</td>\n",
       "      <td>{seccxpninja.onmicrosoft.com}</td>\n",
       "      <td>{BN0P221MB0446 (15.20.4200.000)\\r\\n, CO6PR06MB7124 (15.20.4200.000)\\r\\n}</td>\n",
       "      <td>{}</td>\n",
       "      <td>{50}</td>\n",
       "      <td>{Succeeded}</td>\n",
       "    </tr>\n",
       "    <tr>\n",
       "      <th>1</th>\n",
       "      <td>AzurePlaygroundSub@seccxpninja.onmicrosoft.com</td>\n",
       "      <td>{2021-07-21 09:28:55+00:00, 2021-07-25 18:04:00+00:00, 2021-07-18 15:35:36+00:00, 2021-08-05 21:...</td>\n",
       "      <td>{MailItemsAccessed}</td>\n",
       "      <td>{seccxpninja.onmicrosoft.com}</td>\n",
       "      <td>{CH0P221MB0598 (15.20.4200.000)\\r\\n, SN6PR06MB5230 (15.20.4200.000)\\r\\n}</td>\n",
       "      <td>{}</td>\n",
       "      <td>{50}</td>\n",
       "      <td>{Succeeded}</td>\n",
       "    </tr>\n",
       "    <tr>\n",
       "      <th>2</th>\n",
       "      <td>CBoehmSA@seccxpninja.onmicrosoft.com</td>\n",
       "      <td>{2021-07-15 13:05:41+00:00, 2021-07-15 13:05:52+00:00, 2021-07-16 15:13:53+00:00, 2021-07-12 13:...</td>\n",
       "      <td>{Add-RoleGroupMember, Set-SafeAttachmentPolicy, Set-SafeAttachmentRule, Set-User}</td>\n",
       "      <td>{seccxpninja.onmicrosoft.com}</td>\n",
       "      <td>{SN6PR06MB6445 (15.20.4308.027), DM5PR06MB3433 (15.20.4308.026)}</td>\n",
       "      <td>{[\\r\\n  {\\r\\n    \"Name\": \"Identity\",\\r\\n    \"Value\": \"8e8a3eba-1500-4ef7-8a36-40747aec8ce9\"\\r\\n ...</td>\n",
       "      <td>{ExchangeAdmin}</td>\n",
       "      <td>{True}</td>\n",
       "    </tr>\n",
       "    <tr>\n",
       "      <th>3</th>\n",
       "      <td>DlpAgent</td>\n",
       "      <td>{2021-08-11 15:45:42+00:00, 2021-08-10 06:52:10+00:00, 2021-08-10 08:05:42+00:00, 2021-08-10 07:...</td>\n",
       "      <td>{MipLabel}</td>\n",
       "      <td>{}</td>\n",
       "      <td>{}</td>\n",
       "      <td>{}</td>\n",
       "      <td>{13}</td>\n",
       "      <td>{}</td>\n",
       "    </tr>\n",
       "    <tr>\n",
       "      <th>4</th>\n",
       "      <td>DlpPolicyEventBasedAssistantOneDriveForBusiness</td>\n",
       "      <td>{2021-07-27 15:14:19+00:00, 2021-07-27 09:41:57+00:00, 2021-07-27 15:14:16+00:00}</td>\n",
       "      <td>{DLPRuleMatch, DLPRuleUndo}</td>\n",
       "      <td>{}</td>\n",
       "      <td>{}</td>\n",
       "      <td>{}</td>\n",
       "      <td>{ComplianceDLPSharePoint}</td>\n",
       "      <td>{}</td>\n",
       "    </tr>\n",
       "  </tbody>\n",
       "</table>\n",
       "</div>"
      ],
      "text/plain": [
       "                                            UserId  \\\n",
       "0          AzureDevSub@seccxpninja.onmicrosoft.com   \n",
       "1   AzurePlaygroundSub@seccxpninja.onmicrosoft.com   \n",
       "2             CBoehmSA@seccxpninja.onmicrosoft.com   \n",
       "3                                         DlpAgent   \n",
       "4  DlpPolicyEventBasedAssistantOneDriveForBusiness   \n",
       "\n",
       "                                                                                         TimeGenerated  \\\n",
       "0  {2021-07-20 14:19:24+00:00, 2021-07-16 17:37:55+00:00, 2021-07-25 18:35:18+00:00, 2021-07-15 16:...   \n",
       "1  {2021-07-21 09:28:55+00:00, 2021-07-25 18:04:00+00:00, 2021-07-18 15:35:36+00:00, 2021-08-05 21:...   \n",
       "2  {2021-07-15 13:05:41+00:00, 2021-07-15 13:05:52+00:00, 2021-07-16 15:13:53+00:00, 2021-07-12 13:...   \n",
       "3  {2021-08-11 15:45:42+00:00, 2021-08-10 06:52:10+00:00, 2021-08-10 08:05:42+00:00, 2021-08-10 07:...   \n",
       "4                    {2021-07-27 15:14:19+00:00, 2021-07-27 09:41:57+00:00, 2021-07-27 15:14:16+00:00}   \n",
       "\n",
       "                                                                           Operation  \\\n",
       "0                                                                {MailItemsAccessed}   \n",
       "1                                                                {MailItemsAccessed}   \n",
       "2  {Add-RoleGroupMember, Set-SafeAttachmentPolicy, Set-SafeAttachmentRule, Set-User}   \n",
       "3                                                                         {MipLabel}   \n",
       "4                                                        {DLPRuleMatch, DLPRuleUndo}   \n",
       "\n",
       "                OrganizationName  \\\n",
       "0  {seccxpninja.onmicrosoft.com}   \n",
       "1  {seccxpninja.onmicrosoft.com}   \n",
       "2  {seccxpninja.onmicrosoft.com}   \n",
       "3                             {}   \n",
       "4                             {}   \n",
       "\n",
       "                                                          OriginatingServer  \\\n",
       "0  {BN0P221MB0446 (15.20.4200.000)\\r\\n, CO6PR06MB7124 (15.20.4200.000)\\r\\n}   \n",
       "1  {CH0P221MB0598 (15.20.4200.000)\\r\\n, SN6PR06MB5230 (15.20.4200.000)\\r\\n}   \n",
       "2          {SN6PR06MB6445 (15.20.4308.027), DM5PR06MB3433 (15.20.4308.026)}   \n",
       "3                                                                        {}   \n",
       "4                                                                        {}   \n",
       "\n",
       "                                                                                            Parameters  \\\n",
       "0                                                                                                   {}   \n",
       "1                                                                                                   {}   \n",
       "2  {[\\r\\n  {\\r\\n    \"Name\": \"Identity\",\\r\\n    \"Value\": \"8e8a3eba-1500-4ef7-8a36-40747aec8ce9\"\\r\\n ...   \n",
       "3                                                                                                   {}   \n",
       "4                                                                                                   {}   \n",
       "\n",
       "                  RecordType ResultStatus  \n",
       "0                       {50}  {Succeeded}  \n",
       "1                       {50}  {Succeeded}  \n",
       "2            {ExchangeAdmin}       {True}  \n",
       "3                       {13}           {}  \n",
       "4  {ComplianceDLPSharePoint}           {}  "
      ]
     },
     "execution_count": 32,
     "metadata": {},
     "output_type": "execute_result"
    }
   ],
   "source": [
    "data_aggregate = create_aggregate_bydata(df_subset, user_entities)\r\n",
    "data_aggregate.head()"
   ]
  },
  {
   "cell_type": "code",
   "execution_count": 33,
   "id": "e8bd2cfc",
   "metadata": {
    "collapsed": true,
    "gather": {
     "logged": 1629394491905
    },
    "jupyter": {
     "outputs_hidden": false,
     "source_hidden": false
    },
    "nteract": {
     "transient": {
      "deleting": false
     }
    }
   },
   "outputs": [
    {
     "data": {
      "text/html": [
       "<div>\n",
       "<style scoped>\n",
       "    .dataframe tbody tr th:only-of-type {\n",
       "        vertical-align: middle;\n",
       "    }\n",
       "\n",
       "    .dataframe tbody tr th {\n",
       "        vertical-align: top;\n",
       "    }\n",
       "\n",
       "    .dataframe thead th {\n",
       "        text-align: right;\n",
       "    }\n",
       "</style>\n",
       "<table border=\"1\" class=\"dataframe\">\n",
       "  <thead>\n",
       "    <tr style=\"text-align: right;\">\n",
       "      <th></th>\n",
       "      <th>UserId</th>\n",
       "      <th>TimeGenerated</th>\n",
       "      <th>Operation</th>\n",
       "      <th>OrganizationName</th>\n",
       "      <th>OriginatingServer</th>\n",
       "      <th>Parameters</th>\n",
       "      <th>RecordType</th>\n",
       "      <th>ResultStatus</th>\n",
       "    </tr>\n",
       "  </thead>\n",
       "  <tbody>\n",
       "    <tr>\n",
       "      <th>0</th>\n",
       "      <td>AzureDevSub@seccxpninja.onmicrosoft.com</td>\n",
       "      <td>13</td>\n",
       "      <td>1</td>\n",
       "      <td>1</td>\n",
       "      <td>2</td>\n",
       "      <td>1</td>\n",
       "      <td>1</td>\n",
       "      <td>1</td>\n",
       "    </tr>\n",
       "    <tr>\n",
       "      <th>1</th>\n",
       "      <td>AzurePlaygroundSub@seccxpninja.onmicrosoft.com</td>\n",
       "      <td>44</td>\n",
       "      <td>1</td>\n",
       "      <td>1</td>\n",
       "      <td>2</td>\n",
       "      <td>1</td>\n",
       "      <td>1</td>\n",
       "      <td>1</td>\n",
       "    </tr>\n",
       "    <tr>\n",
       "      <th>2</th>\n",
       "      <td>CBoehmSA@seccxpninja.onmicrosoft.com</td>\n",
       "      <td>6</td>\n",
       "      <td>4</td>\n",
       "      <td>1</td>\n",
       "      <td>2</td>\n",
       "      <td>6</td>\n",
       "      <td>1</td>\n",
       "      <td>1</td>\n",
       "    </tr>\n",
       "    <tr>\n",
       "      <th>3</th>\n",
       "      <td>DlpAgent</td>\n",
       "      <td>8</td>\n",
       "      <td>1</td>\n",
       "      <td>1</td>\n",
       "      <td>1</td>\n",
       "      <td>1</td>\n",
       "      <td>1</td>\n",
       "      <td>1</td>\n",
       "    </tr>\n",
       "    <tr>\n",
       "      <th>4</th>\n",
       "      <td>DlpPolicyEventBasedAssistantOneDriveForBusiness</td>\n",
       "      <td>3</td>\n",
       "      <td>2</td>\n",
       "      <td>1</td>\n",
       "      <td>1</td>\n",
       "      <td>1</td>\n",
       "      <td>1</td>\n",
       "      <td>1</td>\n",
       "    </tr>\n",
       "  </tbody>\n",
       "</table>\n",
       "</div>"
      ],
      "text/plain": [
       "                                            UserId  TimeGenerated  Operation  \\\n",
       "0          AzureDevSub@seccxpninja.onmicrosoft.com             13          1   \n",
       "1   AzurePlaygroundSub@seccxpninja.onmicrosoft.com             44          1   \n",
       "2             CBoehmSA@seccxpninja.onmicrosoft.com              6          4   \n",
       "3                                         DlpAgent              8          1   \n",
       "4  DlpPolicyEventBasedAssistantOneDriveForBusiness              3          2   \n",
       "\n",
       "   OrganizationName  OriginatingServer  Parameters  RecordType  ResultStatus  \n",
       "0                 1                  2           1           1             1  \n",
       "1                 1                  2           1           1             1  \n",
       "2                 1                  2           6           1             1  \n",
       "3                 1                  1           1           1             1  \n",
       "4                 1                  1           1           1             1  "
      ]
     },
     "execution_count": 33,
     "metadata": {},
     "output_type": "execute_result"
    }
   ],
   "source": [
    "count_aggregate = create_aggregate_bycount(df_subset, user_entities)\r\n",
    "count_aggregate.head()"
   ]
  },
  {
   "cell_type": "code",
   "execution_count": 34,
   "id": "b889f1cd",
   "metadata": {
    "collapsed": true,
    "gather": {
     "logged": 1629394496153
    },
    "jupyter": {
     "outputs_hidden": false,
     "source_hidden": false
    },
    "nteract": {
     "transient": {
      "deleting": false
     }
    }
   },
   "outputs": [],
   "source": [
    "def column_encoder(df,user_entities):\r\n",
    "    \"\"\"\r\n",
    "    Creates a dataframe in which the user entities are encoded to feed to the model\r\n",
    "    \r\n",
    "    Parameters\r\n",
    "    -------\r\n",
    "    \r\n",
    "    df - takes in a dataframe type object\r\n",
    "    user_entities - list of selected user entities\r\n",
    "    \r\n",
    "    Returns\r\n",
    "    -------\r\n",
    "    a new dataframe type object with the user entities columns encoded\r\n",
    "    \"\"\"\r\n",
    "    encoder = ce.HashingEncoder(cols = user_entities, n_components = 32)  #this is the hash encoder object\r\n",
    "    df_final_encoding = encoder.fit_transform(df) #fitting the dataframe\r\n",
    "    return df_final_encoding"
   ]
  },
  {
   "cell_type": "code",
   "execution_count": 35,
   "id": "2c8ecb7a",
   "metadata": {
    "collapsed": true,
    "gather": {
     "logged": 1629394502300
    },
    "jupyter": {
     "outputs_hidden": false,
     "source_hidden": false
    },
    "nteract": {
     "transient": {
      "deleting": false
     }
    }
   },
   "outputs": [
    {
     "name": "stderr",
     "output_type": "stream",
     "text": [
      "/anaconda/envs/azureml_py38/lib/python3.8/site-packages/category_encoders/utils.py:21: FutureWarning: is_categorical is deprecated and will be removed in a future version.  Use is_categorical_dtype instead\n",
      "  elif pd.api.types.is_categorical(cols):\n"
     ]
    }
   ],
   "source": [
    "encoded_data = column_encoder(count_aggregate,user_entities)"
   ]
  },
  {
   "cell_type": "code",
   "execution_count": 36,
   "id": "79ac5439",
   "metadata": {
    "collapsed": true,
    "gather": {
     "logged": 1629394509504
    },
    "jupyter": {
     "outputs_hidden": false,
     "source_hidden": false
    },
    "nteract": {
     "transient": {
      "deleting": false
     }
    }
   },
   "outputs": [
    {
     "data": {
      "text/html": [
       "<div>\n",
       "<style scoped>\n",
       "    .dataframe tbody tr th:only-of-type {\n",
       "        vertical-align: middle;\n",
       "    }\n",
       "\n",
       "    .dataframe tbody tr th {\n",
       "        vertical-align: top;\n",
       "    }\n",
       "\n",
       "    .dataframe thead th {\n",
       "        text-align: right;\n",
       "    }\n",
       "</style>\n",
       "<table border=\"1\" class=\"dataframe\">\n",
       "  <thead>\n",
       "    <tr style=\"text-align: right;\">\n",
       "      <th></th>\n",
       "      <th>col_0</th>\n",
       "      <th>col_1</th>\n",
       "      <th>col_2</th>\n",
       "      <th>col_3</th>\n",
       "      <th>col_4</th>\n",
       "      <th>col_5</th>\n",
       "      <th>col_6</th>\n",
       "      <th>col_7</th>\n",
       "      <th>col_8</th>\n",
       "      <th>col_9</th>\n",
       "      <th>col_10</th>\n",
       "      <th>col_11</th>\n",
       "      <th>col_12</th>\n",
       "      <th>col_13</th>\n",
       "      <th>col_14</th>\n",
       "      <th>col_15</th>\n",
       "      <th>col_16</th>\n",
       "      <th>col_17</th>\n",
       "      <th>col_18</th>\n",
       "      <th>col_19</th>\n",
       "      <th>col_20</th>\n",
       "      <th>col_21</th>\n",
       "      <th>col_22</th>\n",
       "      <th>col_23</th>\n",
       "      <th>col_24</th>\n",
       "      <th>col_25</th>\n",
       "      <th>col_26</th>\n",
       "      <th>col_27</th>\n",
       "      <th>col_28</th>\n",
       "      <th>col_29</th>\n",
       "      <th>col_30</th>\n",
       "      <th>col_31</th>\n",
       "      <th>TimeGenerated</th>\n",
       "      <th>Operation</th>\n",
       "      <th>OrganizationName</th>\n",
       "      <th>OriginatingServer</th>\n",
       "      <th>Parameters</th>\n",
       "      <th>RecordType</th>\n",
       "      <th>ResultStatus</th>\n",
       "    </tr>\n",
       "  </thead>\n",
       "  <tbody>\n",
       "    <tr>\n",
       "      <th>0</th>\n",
       "      <td>0</td>\n",
       "      <td>0</td>\n",
       "      <td>0</td>\n",
       "      <td>0</td>\n",
       "      <td>0</td>\n",
       "      <td>0</td>\n",
       "      <td>0</td>\n",
       "      <td>1</td>\n",
       "      <td>0</td>\n",
       "      <td>0</td>\n",
       "      <td>0</td>\n",
       "      <td>0</td>\n",
       "      <td>0</td>\n",
       "      <td>0</td>\n",
       "      <td>0</td>\n",
       "      <td>0</td>\n",
       "      <td>0</td>\n",
       "      <td>0</td>\n",
       "      <td>0</td>\n",
       "      <td>0</td>\n",
       "      <td>0</td>\n",
       "      <td>0</td>\n",
       "      <td>0</td>\n",
       "      <td>0</td>\n",
       "      <td>0</td>\n",
       "      <td>0</td>\n",
       "      <td>0</td>\n",
       "      <td>0</td>\n",
       "      <td>0</td>\n",
       "      <td>0</td>\n",
       "      <td>0</td>\n",
       "      <td>0</td>\n",
       "      <td>13</td>\n",
       "      <td>1</td>\n",
       "      <td>1</td>\n",
       "      <td>2</td>\n",
       "      <td>1</td>\n",
       "      <td>1</td>\n",
       "      <td>1</td>\n",
       "    </tr>\n",
       "    <tr>\n",
       "      <th>1</th>\n",
       "      <td>0</td>\n",
       "      <td>0</td>\n",
       "      <td>0</td>\n",
       "      <td>0</td>\n",
       "      <td>0</td>\n",
       "      <td>0</td>\n",
       "      <td>0</td>\n",
       "      <td>0</td>\n",
       "      <td>0</td>\n",
       "      <td>0</td>\n",
       "      <td>0</td>\n",
       "      <td>0</td>\n",
       "      <td>0</td>\n",
       "      <td>1</td>\n",
       "      <td>0</td>\n",
       "      <td>0</td>\n",
       "      <td>0</td>\n",
       "      <td>0</td>\n",
       "      <td>0</td>\n",
       "      <td>0</td>\n",
       "      <td>0</td>\n",
       "      <td>0</td>\n",
       "      <td>0</td>\n",
       "      <td>0</td>\n",
       "      <td>0</td>\n",
       "      <td>0</td>\n",
       "      <td>0</td>\n",
       "      <td>0</td>\n",
       "      <td>0</td>\n",
       "      <td>0</td>\n",
       "      <td>0</td>\n",
       "      <td>0</td>\n",
       "      <td>44</td>\n",
       "      <td>1</td>\n",
       "      <td>1</td>\n",
       "      <td>2</td>\n",
       "      <td>1</td>\n",
       "      <td>1</td>\n",
       "      <td>1</td>\n",
       "    </tr>\n",
       "    <tr>\n",
       "      <th>2</th>\n",
       "      <td>0</td>\n",
       "      <td>0</td>\n",
       "      <td>0</td>\n",
       "      <td>0</td>\n",
       "      <td>0</td>\n",
       "      <td>0</td>\n",
       "      <td>0</td>\n",
       "      <td>0</td>\n",
       "      <td>0</td>\n",
       "      <td>0</td>\n",
       "      <td>0</td>\n",
       "      <td>0</td>\n",
       "      <td>0</td>\n",
       "      <td>0</td>\n",
       "      <td>0</td>\n",
       "      <td>0</td>\n",
       "      <td>0</td>\n",
       "      <td>0</td>\n",
       "      <td>0</td>\n",
       "      <td>0</td>\n",
       "      <td>0</td>\n",
       "      <td>0</td>\n",
       "      <td>1</td>\n",
       "      <td>0</td>\n",
       "      <td>0</td>\n",
       "      <td>0</td>\n",
       "      <td>0</td>\n",
       "      <td>0</td>\n",
       "      <td>0</td>\n",
       "      <td>0</td>\n",
       "      <td>0</td>\n",
       "      <td>0</td>\n",
       "      <td>6</td>\n",
       "      <td>4</td>\n",
       "      <td>1</td>\n",
       "      <td>2</td>\n",
       "      <td>6</td>\n",
       "      <td>1</td>\n",
       "      <td>1</td>\n",
       "    </tr>\n",
       "    <tr>\n",
       "      <th>3</th>\n",
       "      <td>0</td>\n",
       "      <td>0</td>\n",
       "      <td>0</td>\n",
       "      <td>0</td>\n",
       "      <td>0</td>\n",
       "      <td>0</td>\n",
       "      <td>0</td>\n",
       "      <td>0</td>\n",
       "      <td>0</td>\n",
       "      <td>0</td>\n",
       "      <td>0</td>\n",
       "      <td>0</td>\n",
       "      <td>0</td>\n",
       "      <td>0</td>\n",
       "      <td>0</td>\n",
       "      <td>0</td>\n",
       "      <td>0</td>\n",
       "      <td>0</td>\n",
       "      <td>0</td>\n",
       "      <td>0</td>\n",
       "      <td>0</td>\n",
       "      <td>0</td>\n",
       "      <td>0</td>\n",
       "      <td>0</td>\n",
       "      <td>0</td>\n",
       "      <td>0</td>\n",
       "      <td>0</td>\n",
       "      <td>1</td>\n",
       "      <td>0</td>\n",
       "      <td>0</td>\n",
       "      <td>0</td>\n",
       "      <td>0</td>\n",
       "      <td>8</td>\n",
       "      <td>1</td>\n",
       "      <td>1</td>\n",
       "      <td>1</td>\n",
       "      <td>1</td>\n",
       "      <td>1</td>\n",
       "      <td>1</td>\n",
       "    </tr>\n",
       "    <tr>\n",
       "      <th>4</th>\n",
       "      <td>0</td>\n",
       "      <td>0</td>\n",
       "      <td>1</td>\n",
       "      <td>0</td>\n",
       "      <td>0</td>\n",
       "      <td>0</td>\n",
       "      <td>0</td>\n",
       "      <td>0</td>\n",
       "      <td>0</td>\n",
       "      <td>0</td>\n",
       "      <td>0</td>\n",
       "      <td>0</td>\n",
       "      <td>0</td>\n",
       "      <td>0</td>\n",
       "      <td>0</td>\n",
       "      <td>0</td>\n",
       "      <td>0</td>\n",
       "      <td>0</td>\n",
       "      <td>0</td>\n",
       "      <td>0</td>\n",
       "      <td>0</td>\n",
       "      <td>0</td>\n",
       "      <td>0</td>\n",
       "      <td>0</td>\n",
       "      <td>0</td>\n",
       "      <td>0</td>\n",
       "      <td>0</td>\n",
       "      <td>0</td>\n",
       "      <td>0</td>\n",
       "      <td>0</td>\n",
       "      <td>0</td>\n",
       "      <td>0</td>\n",
       "      <td>3</td>\n",
       "      <td>2</td>\n",
       "      <td>1</td>\n",
       "      <td>1</td>\n",
       "      <td>1</td>\n",
       "      <td>1</td>\n",
       "      <td>1</td>\n",
       "    </tr>\n",
       "  </tbody>\n",
       "</table>\n",
       "</div>"
      ],
      "text/plain": [
       "   col_0  col_1  col_2  col_3  col_4  col_5  col_6  col_7  col_8  col_9  \\\n",
       "0      0      0      0      0      0      0      0      1      0      0   \n",
       "1      0      0      0      0      0      0      0      0      0      0   \n",
       "2      0      0      0      0      0      0      0      0      0      0   \n",
       "3      0      0      0      0      0      0      0      0      0      0   \n",
       "4      0      0      1      0      0      0      0      0      0      0   \n",
       "\n",
       "   col_10  col_11  col_12  col_13  col_14  col_15  col_16  col_17  col_18  \\\n",
       "0       0       0       0       0       0       0       0       0       0   \n",
       "1       0       0       0       1       0       0       0       0       0   \n",
       "2       0       0       0       0       0       0       0       0       0   \n",
       "3       0       0       0       0       0       0       0       0       0   \n",
       "4       0       0       0       0       0       0       0       0       0   \n",
       "\n",
       "   col_19  col_20  col_21  col_22  col_23  col_24  col_25  col_26  col_27  \\\n",
       "0       0       0       0       0       0       0       0       0       0   \n",
       "1       0       0       0       0       0       0       0       0       0   \n",
       "2       0       0       0       1       0       0       0       0       0   \n",
       "3       0       0       0       0       0       0       0       0       1   \n",
       "4       0       0       0       0       0       0       0       0       0   \n",
       "\n",
       "   col_28  col_29  col_30  col_31  TimeGenerated  Operation  OrganizationName  \\\n",
       "0       0       0       0       0             13          1                 1   \n",
       "1       0       0       0       0             44          1                 1   \n",
       "2       0       0       0       0              6          4                 1   \n",
       "3       0       0       0       0              8          1                 1   \n",
       "4       0       0       0       0              3          2                 1   \n",
       "\n",
       "   OriginatingServer  Parameters  RecordType  ResultStatus  \n",
       "0                  2           1           1             1  \n",
       "1                  2           1           1             1  \n",
       "2                  2           6           1             1  \n",
       "3                  1           1           1             1  \n",
       "4                  1           1           1             1  "
      ]
     },
     "execution_count": 36,
     "metadata": {},
     "output_type": "execute_result"
    }
   ],
   "source": [
    "encoded_data.head()"
   ]
  },
  {
   "cell_type": "markdown",
   "id": "4f2ab10c",
   "metadata": {},
   "source": [
    "<h2>Modeling</h2>"
   ]
  },
  {
   "cell_type": "code",
   "execution_count": 50,
   "id": "fda26026",
   "metadata": {
    "collapsed": true,
    "gather": {
     "logged": 1629395086956
    },
    "jupyter": {
     "outputs_hidden": false,
     "source_hidden": false
    },
    "nteract": {
     "transient": {
      "deleting": false
     }
    }
   },
   "outputs": [
    {
     "name": "stdout",
     "output_type": "stream",
     "text": [
      "Datapoints with a '1' marker are considered anomalous\n",
      "0    50\n",
      "1     6\n",
      "Name: Anomalies, dtype: int64\n"
     ]
    }
   ],
   "source": [
    "model =  IsolationForest(contamination=0.1,n_estimators=150)\r\n",
    "model.fit(encoded_data)\r\n",
    "prediction = model.predict(encoded_data)\r\n",
    "encoded_data[\"Anomalies\"] = pd.Series(prediction)\r\n",
    "encoded_data[\"Anomalies\"] = encoded_data[\"Anomalies\"].map( {1: 0, -1: 1} )\r\n",
    "scores = model.decision_function(encoded_data)\r\n",
    "\r\n",
    "print (\"Datapoints with a '1' marker are considered anomalous\") \r\n",
    "print(encoded_data[\"Anomalies\"].value_counts())"
   ]
  },
  {
   "cell_type": "code",
   "execution_count": 159,
   "id": "4574f984",
   "metadata": {
    "collapsed": true,
    "gather": {
     "logged": 1629408085976
    },
    "jupyter": {
     "outputs_hidden": false,
     "source_hidden": false
    },
    "nteract": {
     "transient": {
      "deleting": false
     }
    }
   },
   "outputs": [],
   "source": [
    "def count_anomaly(count_aggregate, encoded_data):\r\n",
    "    \"\"\"\r\n",
    "    Creates a dataframe which only has datapoints marked off as anomalies and features in count format\r\n",
    "    \r\n",
    "    Parameters\r\n",
    "    -------\r\n",
    "    \r\n",
    "    count_aggregate - df in which all data is aggregated by count\r\n",
    "    encoded_data - data with user_entities encoded\r\n",
    "    \r\n",
    "    Returns\r\n",
    "    -------\r\n",
    "    a new dataframe type object with datapoints marked off as anomalies and features in count format\r\n",
    "    \"\"\"\r\n",
    "    count_aggregate[\"Anomalies\"] = encoded_data[\"Anomalies\"]\r\n",
    "    count_aggregate.rename(columns = {'TimeGenerated':'No. of Login Times'}, inplace = True)\r\n",
    "    count_aggregate[\"Anomaly Score\"] = round(pd.Series(scores),2)\r\n",
    "    count_anomaly = count_aggregate[count_aggregate[\"Anomalies\"] == 1]\r\n",
    "    count_anomaly.reset_index(inplace = True,drop = True)\r\n",
    "    return count_anomaly"
   ]
  },
  {
   "cell_type": "code",
   "execution_count": 160,
   "id": "a0d7a7ed",
   "metadata": {
    "collapsed": true,
    "gather": {
     "logged": 1629408094585
    },
    "jupyter": {
     "outputs_hidden": false,
     "source_hidden": false
    },
    "nteract": {
     "transient": {
      "deleting": false
     }
    }
   },
   "outputs": [],
   "source": [
    "def data_anomaly(data_aggregate, encoded_data):\r\n",
    "    \"\"\"\r\n",
    "    Creates a dataframe which only has datapoints marked off as anomalies and features in raw data format\r\n",
    "    \r\n",
    "    Parameters\r\n",
    "    -------\r\n",
    "    \r\n",
    "    count_aggregate - df in which all data is aggregated by count\r\n",
    "    encoded_data - data with user_entities encoded\r\n",
    "    \r\n",
    "    Returns\r\n",
    "    -------\r\n",
    "    a new dataframe type object with datapoints marked off as anomalies and features in data format\r\n",
    "    \"\"\"\r\n",
    "    data_aggregate[\"Anomalies\"] = encoded_data[\"Anomalies\"]\r\n",
    "    data_aggregate.rename(columns = {'TimeGenerated':'Login Times'}, inplace = True)\r\n",
    "    data_aggregate[\"Anomaly Score\"] = round(pd.Series(scores),2)\r\n",
    "    data_anomaly = data_aggregate[data_aggregate[\"Anomalies\"] == 1]\r\n",
    "    data_anomaly.reset_index(inplace = True,drop = True)\r\n",
    "    return data_anomaly"
   ]
  },
  {
   "cell_type": "code",
   "execution_count": 54,
   "id": "fcfe867e",
   "metadata": {
    "collapsed": true,
    "gather": {
     "logged": 1629395196289
    },
    "jupyter": {
     "outputs_hidden": false,
     "source_hidden": false
    },
    "nteract": {
     "transient": {
      "deleting": false
     }
    }
   },
   "outputs": [],
   "source": [
    "def anomalies_to_excel(data_aggregate, data_anomaly, count_aggregate, count_anomaly):\r\n",
    "    \"\"\"\r\n",
    "    Creates a excel file with all 4 dataframes - All data count, All data raw, Anomaly data count, Anomlay daw rata in the worksheets\r\n",
    "    \r\n",
    "    Parameters\r\n",
    "    -------\r\n",
    "    \r\n",
    "    data_aggregate - df in which all data is aggregated by raw data\r\n",
    "    data_anomaly - df derived from data_aggregate with only anomalies as 1\r\n",
    "    count_aggregate - df in which all data is aggregated by count\r\n",
    "    count_anomaly - df derived from count_aggregate with only anomalies as 1\r\n",
    "    \r\n",
    "\r\n",
    "    Returns\r\n",
    "    -------\r\n",
    "    an excel \r\n",
    "    \"\"\"\r\n",
    "    count = 0\r\n",
    "    while True: \r\n",
    "        file_name = \"DataAnomaly\"\r\n",
    "        count_num = \"({})\".format(count)\r\n",
    "        extension = \".xlsx\"\r\n",
    "        if count == 0:\r\n",
    "            exists = os.path.isfile(file_name+extension)\r\n",
    "        else:\r\n",
    "            exists = os.path.isfile(file_name+count_num+extension)\r\n",
    "        if exists:\r\n",
    "            count+=1\r\n",
    "            continue\r\n",
    "\r\n",
    "        else: \r\n",
    "            if count == 0:\r\n",
    "                writer = pd.ExcelWriter(file_name+extension)\r\n",
    "            else:\r\n",
    "                writer = pd.ExcelWriter(file_name+count_num+extension)\r\n",
    "            data_aggregate.to_excel(writer, sheet_name = \"All-data-raw\")\r\n",
    "            data_anomaly.to_excel(writer, sheet_name = \"Anomalous-data-raw\")\r\n",
    "            count_aggregate.to_excel(writer, sheet_name = \"All-data-count\")\r\n",
    "            count_anomaly.to_excel(writer, sheet_name = \"Anomalous-data-count\")\r\n",
    "            writer.save()\r\n",
    "            break       \r\n"
   ]
  },
  {
   "cell_type": "code",
   "execution_count": 161,
   "id": "e7b2c5e8",
   "metadata": {
    "collapsed": true,
    "gather": {
     "logged": 1629408099800
    },
    "jupyter": {
     "outputs_hidden": false,
     "source_hidden": false
    },
    "nteract": {
     "transient": {
      "deleting": false
     }
    }
   },
   "outputs": [],
   "source": [
    "anomaly_count_model = count_anomaly(count_aggregate, encoded_data)\r\n",
    "anomaly_data_model = data_anomaly(data_aggregate, encoded_data)"
   ]
  },
  {
   "cell_type": "code",
   "execution_count": 311,
   "id": "1fe6f918",
   "metadata": {
    "collapsed": true,
    "gather": {
     "logged": 1629413627344
    },
    "jupyter": {
     "outputs_hidden": false,
     "source_hidden": false
    },
    "nteract": {
     "transient": {
      "deleting": false
     }
    }
   },
   "outputs": [
    {
     "data": {
      "image/png": "[encoded data removed]",
      "text/plain": [
       "<Figure size 3000x700 with 1 Axes>"
      ]
     },
     "metadata": {},
     "output_type": "display_data"
    }
   ],
   "source": [
    "total_bins = 30 \r\n",
    "fig = plt.figure()\r\n",
    "fig.set_figwidth(30)\r\n",
    "fig.set_figheight(7)\r\n",
    "n, bins, patches = plt.hist(scores, total_bins, color = \"orange\", alpha = 0.8)\r\n",
    "plt.xlabel('Score of Path Length')\r\n",
    "plt.ylabel('Count of Data Point')\r\n",
    "plt.title('Distribution of Scores based on Path Length\\n\\n',\r\n",
    "          fontweight =\"bold\",fontsize = 15)\r\n",
    "plt.legend([\"Count\"])\r\n",
    "plt.show()"
   ]
  },
  {
   "cell_type": "code",
   "execution_count": 44,
   "id": "b224156b",
   "metadata": {
    "collapsed": true,
    "gather": {
     "logged": 1629394599878
    },
    "jupyter": {
     "outputs_hidden": false,
     "source_hidden": false
    },
    "nteract": {
     "transient": {
      "deleting": false
     }
    }
   },
   "outputs": [],
   "source": [
    "anomalies_to_excel(data_aggregate, anomaly_data_model, count_aggregate, anomaly_count_model)"
   ]
  },
  {
   "cell_type": "code",
   "execution_count": 56,
   "id": "12720b45",
   "metadata": {
    "collapsed": true,
    "gather": {
     "logged": 1629395227319
    },
    "jupyter": {
     "outputs_hidden": false,
     "source_hidden": false
    },
    "nteract": {
     "transient": {
      "deleting": false
     }
    }
   },
   "outputs": [
    {
     "data": {
      "text/html": [
       "<div>\n",
       "<style scoped>\n",
       "    .dataframe tbody tr th:only-of-type {\n",
       "        vertical-align: middle;\n",
       "    }\n",
       "\n",
       "    .dataframe tbody tr th {\n",
       "        vertical-align: top;\n",
       "    }\n",
       "\n",
       "    .dataframe thead th {\n",
       "        text-align: right;\n",
       "    }\n",
       "</style>\n",
       "<table border=\"1\" class=\"dataframe\">\n",
       "  <thead>\n",
       "    <tr style=\"text-align: right;\">\n",
       "      <th></th>\n",
       "      <th>UserId</th>\n",
       "      <th>No. of Login Times</th>\n",
       "      <th>Operation</th>\n",
       "      <th>OrganizationName</th>\n",
       "      <th>OriginatingServer</th>\n",
       "      <th>Parameters</th>\n",
       "      <th>RecordType</th>\n",
       "      <th>ResultStatus</th>\n",
       "      <th>Anomalies</th>\n",
       "      <th>Anomaly Score</th>\n",
       "    </tr>\n",
       "  </thead>\n",
       "  <tbody>\n",
       "    <tr>\n",
       "      <th>10</th>\n",
       "      <td>KDickens@seccxp.ninja</td>\n",
       "      <td>132</td>\n",
       "      <td>9</td>\n",
       "      <td>2</td>\n",
       "      <td>3</td>\n",
       "      <td>1</td>\n",
       "      <td>5</td>\n",
       "      <td>2</td>\n",
       "      <td>1</td>\n",
       "      <td>0.01</td>\n",
       "    </tr>\n",
       "    <tr>\n",
       "      <th>15</th>\n",
       "      <td>NT AUTHORITY\\SYSTEM (Microsoft.Exchange.Management.ForwardSync)</td>\n",
       "      <td>484</td>\n",
       "      <td>1</td>\n",
       "      <td>1</td>\n",
       "      <td>413</td>\n",
       "      <td>51</td>\n",
       "      <td>1</td>\n",
       "      <td>1</td>\n",
       "      <td>1</td>\n",
       "      <td>0.01</td>\n",
       "    </tr>\n",
       "    <tr>\n",
       "      <th>35</th>\n",
       "      <td>cjones@seccxp.ninja</td>\n",
       "      <td>68</td>\n",
       "      <td>14</td>\n",
       "      <td>2</td>\n",
       "      <td>4</td>\n",
       "      <td>1</td>\n",
       "      <td>7</td>\n",
       "      <td>2</td>\n",
       "      <td>1</td>\n",
       "      <td>-0.01</td>\n",
       "    </tr>\n",
       "    <tr>\n",
       "      <th>46</th>\n",
       "      <td>lrodriguez@seccxp.ninja</td>\n",
       "      <td>903</td>\n",
       "      <td>13</td>\n",
       "      <td>2</td>\n",
       "      <td>3</td>\n",
       "      <td>1</td>\n",
       "      <td>6</td>\n",
       "      <td>2</td>\n",
       "      <td>1</td>\n",
       "      <td>-0.01</td>\n",
       "    </tr>\n",
       "    <tr>\n",
       "      <th>52</th>\n",
       "      <td>sbeavers@seccxp.ninja</td>\n",
       "      <td>1352</td>\n",
       "      <td>12</td>\n",
       "      <td>2</td>\n",
       "      <td>5</td>\n",
       "      <td>1</td>\n",
       "      <td>6</td>\n",
       "      <td>2</td>\n",
       "      <td>1</td>\n",
       "      <td>-0.03</td>\n",
       "    </tr>\n",
       "    <tr>\n",
       "      <th>53</th>\n",
       "      <td>seb@seccxpninja.onmicrosoft.com</td>\n",
       "      <td>909</td>\n",
       "      <td>4</td>\n",
       "      <td>2</td>\n",
       "      <td>6</td>\n",
       "      <td>1</td>\n",
       "      <td>3</td>\n",
       "      <td>2</td>\n",
       "      <td>1</td>\n",
       "      <td>-0.01</td>\n",
       "    </tr>\n",
       "  </tbody>\n",
       "</table>\n",
       "</div>"
      ],
      "text/plain": [
       "                                                             UserId  \\\n",
       "10                                            KDickens@seccxp.ninja   \n",
       "15  NT AUTHORITY\\SYSTEM (Microsoft.Exchange.Management.ForwardSync)   \n",
       "35                                              cjones@seccxp.ninja   \n",
       "46                                          lrodriguez@seccxp.ninja   \n",
       "52                                            sbeavers@seccxp.ninja   \n",
       "53                                  seb@seccxpninja.onmicrosoft.com   \n",
       "\n",
       "    No. of Login Times  Operation  OrganizationName  OriginatingServer  \\\n",
       "10                 132          9                 2                  3   \n",
       "15                 484          1                 1                413   \n",
       "35                  68         14                 2                  4   \n",
       "46                 903         13                 2                  3   \n",
       "52                1352         12                 2                  5   \n",
       "53                 909          4                 2                  6   \n",
       "\n",
       "    Parameters  RecordType  ResultStatus  Anomalies  Anomaly Score  \n",
       "10           1           5             2          1           0.01  \n",
       "15          51           1             1          1           0.01  \n",
       "35           1           7             2          1          -0.01  \n",
       "46           1           6             2          1          -0.01  \n",
       "52           1           6             2          1          -0.03  \n",
       "53           1           3             2          1          -0.01  "
      ]
     },
     "execution_count": 56,
     "metadata": {},
     "output_type": "execute_result"
    }
   ],
   "source": [
    "anomaly_count_model"
   ]
  },
  {
   "cell_type": "code",
   "execution_count": 58,
   "id": "c7560fe2",
   "metadata": {
    "collapsed": true,
    "gather": {
     "logged": 1629395310261
    },
    "jupyter": {
     "outputs_hidden": false,
     "source_hidden": false
    },
    "nteract": {
     "transient": {
      "deleting": false
     }
    }
   },
   "outputs": [
    {
     "data": {
      "text/html": [
       "<div>\n",
       "<style scoped>\n",
       "    .dataframe tbody tr th:only-of-type {\n",
       "        vertical-align: middle;\n",
       "    }\n",
       "\n",
       "    .dataframe tbody tr th {\n",
       "        vertical-align: top;\n",
       "    }\n",
       "\n",
       "    .dataframe thead th {\n",
       "        text-align: right;\n",
       "    }\n",
       "</style>\n",
       "<table border=\"1\" class=\"dataframe\">\n",
       "  <thead>\n",
       "    <tr style=\"text-align: right;\">\n",
       "      <th></th>\n",
       "      <th>UserId</th>\n",
       "      <th>Login Times</th>\n",
       "      <th>Operation</th>\n",
       "      <th>OrganizationName</th>\n",
       "      <th>OriginatingServer</th>\n",
       "      <th>Parameters</th>\n",
       "      <th>RecordType</th>\n",
       "      <th>ResultStatus</th>\n",
       "      <th>Anomalies</th>\n",
       "      <th>Anomaly Score</th>\n",
       "    </tr>\n",
       "  </thead>\n",
       "  <tbody>\n",
       "    <tr>\n",
       "      <th>10</th>\n",
       "      <td>KDickens@seccxp.ninja</td>\n",
       "      <td>{2021-08-10 07:58:14+00:00, 2021-08-10 23:42:06+00:00, 2021-07-19 15:07:29+00:00, 2021-08-10 23:...</td>\n",
       "      <td>{MessageCreatedHasLink, Send, SoftDelete, HardDelete, MailItemsAccessed, MipLabel, Update, Modif...</td>\n",
       "      <td>{seccxpninja.onmicrosoft.com, }</td>\n",
       "      <td>{, BN0P221MB0398 (15.20.4200.000)\\r\\n, BL3P221MB0387 (15.20.4200.000)\\r\\n}</td>\n",
       "      <td>{}</td>\n",
       "      <td>{50, ExchangeItemGroup, ExchangeItem, MicrosoftTeams, 43}</td>\n",
       "      <td>{, Succeeded}</td>\n",
       "      <td>1</td>\n",
       "      <td>0.01</td>\n",
       "    </tr>\n",
       "    <tr>\n",
       "      <th>15</th>\n",
       "      <td>NT AUTHORITY\\SYSTEM (Microsoft.Exchange.Management.ForwardSync)</td>\n",
       "      <td>{2021-08-08 14:59:28+00:00, 2021-08-01 16:53:08+00:00, 2021-07-25 21:53:55+00:00, 2021-08-02 21:...</td>\n",
       "      <td>{Set-User}</td>\n",
       "      <td>{seccxpninja.onmicrosoft.com}</td>\n",
       "      <td>{CH0P221MB0393 (15.20.4373.026), DM8P221MB0470 (15.20.4394.015), CY4PR06MB3350 (15.20.4308.027),...</td>\n",
       "      <td>{[\\r\\n  {\\r\\n    \"Name\": \"Identity\",\\r\\n    \"Value\": \"4b2462a4-bbee-495a-a0e1-f23ae524cc9c\\\\ccec...</td>\n",
       "      <td>{ExchangeAdmin}</td>\n",
       "      <td>{True}</td>\n",
       "      <td>1</td>\n",
       "      <td>0.01</td>\n",
       "    </tr>\n",
       "    <tr>\n",
       "      <th>35</th>\n",
       "      <td>cjones@seccxp.ninja</td>\n",
       "      <td>{2021-07-16 15:27:38+00:00, 2021-07-16 15:34:34+00:00, 2021-07-16 15:44:59+00:00, 2021-07-16 13:...</td>\n",
       "      <td>{Send, PageViewed, SoftDelete, MoveToDeletedItems, FolderModified, SharingInheritanceBroken, Fol...</td>\n",
       "      <td>{seccxpninja.onmicrosoft.com, }</td>\n",
       "      <td>{DM6PR06MB6170 (15.20.4200.000)\\r\\n, , CH0P221MB0646 (15.20.4200.000)\\r\\n, BL3P221MB0644 (15.20....</td>\n",
       "      <td>{}</td>\n",
       "      <td>{50, SharePointFileOperation, ExchangeItemGroup, SharePoint, ExchangeItem, 43, SharePointSharing...</td>\n",
       "      <td>{, Succeeded}</td>\n",
       "      <td>1</td>\n",
       "      <td>-0.01</td>\n",
       "    </tr>\n",
       "    <tr>\n",
       "      <th>46</th>\n",
       "      <td>lrodriguez@seccxp.ninja</td>\n",
       "      <td>{2021-07-16 13:55:07+00:00, 2021-07-12 17:36:07+00:00, 2021-07-13 09:22:38+00:00, 2021-07-12 16:...</td>\n",
       "      <td>{Send, PageViewed, FileAccessedExtended, ListViewed, MoveToDeletedItems, FileDownloaded, FolderM...</td>\n",
       "      <td>{seccxpninja.onmicrosoft.com, }</td>\n",
       "      <td>{CY4PR06MB3143 (15.20.4200.000)\\r\\n, , BL3P221MB0420 (15.20.4200.000)\\r\\n}</td>\n",
       "      <td>{}</td>\n",
       "      <td>{50, 36, SharePointFileOperation, ExchangeItemGroup, SharePoint, ExchangeItem}</td>\n",
       "      <td>{, Succeeded}</td>\n",
       "      <td>1</td>\n",
       "      <td>-0.01</td>\n",
       "    </tr>\n",
       "    <tr>\n",
       "      <th>52</th>\n",
       "      <td>sbeavers@seccxp.ninja</td>\n",
       "      <td>{2021-07-16 12:08:18+00:00, 2021-07-16 10:43:34+00:00, 2021-07-19 13:00:25+00:00, 2021-07-19 12:...</td>\n",
       "      <td>{SiteCollectionAdminAdded, SiteCollectionQuotaModified, Send, SoftDelete, SiteCollectionCreated,...</td>\n",
       "      <td>{seccxpninja.onmicrosoft.com, }</td>\n",
       "      <td>{, DM6PR06MB5657 (15.20.4200.000)\\r\\n, PH0P221MB0687 (15.20.4200.000)\\r\\n, BYAPR06MB5653 (15.20....</td>\n",
       "      <td>{}</td>\n",
       "      <td>{50, ExchangeItemGroup, SharePoint, ExchangeItem, 43, SharePointSharingOperation}</td>\n",
       "      <td>{, Succeeded}</td>\n",
       "      <td>1</td>\n",
       "      <td>-0.03</td>\n",
       "    </tr>\n",
       "    <tr>\n",
       "      <th>53</th>\n",
       "      <td>seb@seccxpninja.onmicrosoft.com</td>\n",
       "      <td>{2021-07-29 08:09:55+00:00, 2021-08-05 17:25:26+00:00, 2021-07-15 07:35:32+00:00, 2021-08-03 02:...</td>\n",
       "      <td>{MipLabel, Send, MailItemsAccessed, Create}</td>\n",
       "      <td>{seccxpninja.onmicrosoft.com, }</td>\n",
       "      <td>{, BN6PR06MB3169 (15.20.4200.000)\\r\\n, DM8P221MB0375 (15.20.4200.000)\\r\\n, MWHPR06MB3182 (15.20....</td>\n",
       "      <td>{}</td>\n",
       "      <td>{43, 50, ExchangeItem}</td>\n",
       "      <td>{, Succeeded}</td>\n",
       "      <td>1</td>\n",
       "      <td>-0.01</td>\n",
       "    </tr>\n",
       "  </tbody>\n",
       "</table>\n",
       "</div>"
      ],
      "text/plain": [
       "                                                             UserId  \\\n",
       "10                                            KDickens@seccxp.ninja   \n",
       "15  NT AUTHORITY\\SYSTEM (Microsoft.Exchange.Management.ForwardSync)   \n",
       "35                                              cjones@seccxp.ninja   \n",
       "46                                          lrodriguez@seccxp.ninja   \n",
       "52                                            sbeavers@seccxp.ninja   \n",
       "53                                  seb@seccxpninja.onmicrosoft.com   \n",
       "\n",
       "                                                                                            Login Times  \\\n",
       "10  {2021-08-10 07:58:14+00:00, 2021-08-10 23:42:06+00:00, 2021-07-19 15:07:29+00:00, 2021-08-10 23:...   \n",
       "15  {2021-08-08 14:59:28+00:00, 2021-08-01 16:53:08+00:00, 2021-07-25 21:53:55+00:00, 2021-08-02 21:...   \n",
       "35  {2021-07-16 15:27:38+00:00, 2021-07-16 15:34:34+00:00, 2021-07-16 15:44:59+00:00, 2021-07-16 13:...   \n",
       "46  {2021-07-16 13:55:07+00:00, 2021-07-12 17:36:07+00:00, 2021-07-13 09:22:38+00:00, 2021-07-12 16:...   \n",
       "52  {2021-07-16 12:08:18+00:00, 2021-07-16 10:43:34+00:00, 2021-07-19 13:00:25+00:00, 2021-07-19 12:...   \n",
       "53  {2021-07-29 08:09:55+00:00, 2021-08-05 17:25:26+00:00, 2021-07-15 07:35:32+00:00, 2021-08-03 02:...   \n",
       "\n",
       "                                                                                              Operation  \\\n",
       "10  {MessageCreatedHasLink, Send, SoftDelete, HardDelete, MailItemsAccessed, MipLabel, Update, Modif...   \n",
       "15                                                                                           {Set-User}   \n",
       "35  {Send, PageViewed, SoftDelete, MoveToDeletedItems, FolderModified, SharingInheritanceBroken, Fol...   \n",
       "46  {Send, PageViewed, FileAccessedExtended, ListViewed, MoveToDeletedItems, FileDownloaded, FolderM...   \n",
       "52  {SiteCollectionAdminAdded, SiteCollectionQuotaModified, Send, SoftDelete, SiteCollectionCreated,...   \n",
       "53                                                          {MipLabel, Send, MailItemsAccessed, Create}   \n",
       "\n",
       "                   OrganizationName  \\\n",
       "10  {seccxpninja.onmicrosoft.com, }   \n",
       "15    {seccxpninja.onmicrosoft.com}   \n",
       "35  {seccxpninja.onmicrosoft.com, }   \n",
       "46  {seccxpninja.onmicrosoft.com, }   \n",
       "52  {seccxpninja.onmicrosoft.com, }   \n",
       "53  {seccxpninja.onmicrosoft.com, }   \n",
       "\n",
       "                                                                                      OriginatingServer  \\\n",
       "10                           {, BN0P221MB0398 (15.20.4200.000)\\r\\n, BL3P221MB0387 (15.20.4200.000)\\r\\n}   \n",
       "15  {CH0P221MB0393 (15.20.4373.026), DM8P221MB0470 (15.20.4394.015), CY4PR06MB3350 (15.20.4308.027),...   \n",
       "35  {DM6PR06MB6170 (15.20.4200.000)\\r\\n, , CH0P221MB0646 (15.20.4200.000)\\r\\n, BL3P221MB0644 (15.20....   \n",
       "46                           {CY4PR06MB3143 (15.20.4200.000)\\r\\n, , BL3P221MB0420 (15.20.4200.000)\\r\\n}   \n",
       "52  {, DM6PR06MB5657 (15.20.4200.000)\\r\\n, PH0P221MB0687 (15.20.4200.000)\\r\\n, BYAPR06MB5653 (15.20....   \n",
       "53  {, BN6PR06MB3169 (15.20.4200.000)\\r\\n, DM8P221MB0375 (15.20.4200.000)\\r\\n, MWHPR06MB3182 (15.20....   \n",
       "\n",
       "                                                                                             Parameters  \\\n",
       "10                                                                                                   {}   \n",
       "15  {[\\r\\n  {\\r\\n    \"Name\": \"Identity\",\\r\\n    \"Value\": \"4b2462a4-bbee-495a-a0e1-f23ae524cc9c\\\\ccec...   \n",
       "35                                                                                                   {}   \n",
       "46                                                                                                   {}   \n",
       "52                                                                                                   {}   \n",
       "53                                                                                                   {}   \n",
       "\n",
       "                                                                                             RecordType  \\\n",
       "10                                            {50, ExchangeItemGroup, ExchangeItem, MicrosoftTeams, 43}   \n",
       "15                                                                                      {ExchangeAdmin}   \n",
       "35  {50, SharePointFileOperation, ExchangeItemGroup, SharePoint, ExchangeItem, 43, SharePointSharing...   \n",
       "46                       {50, 36, SharePointFileOperation, ExchangeItemGroup, SharePoint, ExchangeItem}   \n",
       "52                    {50, ExchangeItemGroup, SharePoint, ExchangeItem, 43, SharePointSharingOperation}   \n",
       "53                                                                               {43, 50, ExchangeItem}   \n",
       "\n",
       "     ResultStatus  Anomalies  Anomaly Score  \n",
       "10  {, Succeeded}          1           0.01  \n",
       "15         {True}          1           0.01  \n",
       "35  {, Succeeded}          1          -0.01  \n",
       "46  {, Succeeded}          1          -0.01  \n",
       "52  {, Succeeded}          1          -0.03  \n",
       "53  {, Succeeded}          1          -0.01  "
      ]
     },
     "execution_count": 58,
     "metadata": {},
     "output_type": "execute_result"
    }
   ],
   "source": [
    "anomaly_data_model"
   ]
  },
  {
   "cell_type": "markdown",
   "id": "28c20032",
   "metadata": {
    "nteract": {
     "transient": {
      "deleting": false
     }
    }
   },
   "source": [
    "<h2>Visualization</h2>"
   ]
  },
  {
   "cell_type": "code",
   "execution_count": 306,
   "id": "656bb997",
   "metadata": {
    "collapsed": true,
    "gather": {
     "logged": 1629413578733
    },
    "jupyter": {
     "outputs_hidden": false,
     "source_hidden": false
    },
    "nteract": {
     "transient": {
      "deleting": false
     }
    }
   },
   "outputs": [],
   "source": [
    "plt.rcdefaults()\r\n",
    "plt.rcParams.update({'axes.facecolor':'white'})"
   ]
  },
  {
   "cell_type": "code",
   "execution_count": 307,
   "id": "66683605",
   "metadata": {
    "collapsed": true,
    "gather": {
     "logged": 1629413581330
    },
    "jupyter": {
     "outputs_hidden": false,
     "source_hidden": false
    },
    "nteract": {
     "transient": {
      "deleting": false
     }
    }
   },
   "outputs": [
    {
     "data": {
      "image/png": "[encoded data removed]",
      "text/plain": [
       "<Figure size 2500x700 with 1 Axes>"
      ]
     },
     "metadata": {},
     "output_type": "display_data"
    }
   ],
   "source": [
    "fig = plt.figure()\r\n",
    "fig.set_figwidth(25)\r\n",
    "fig.set_figheight(7)\r\n",
    "plt.scatter(count_aggregate[\"UserId\"], count_aggregate[\"No. of Login Times\"], color = \"blue\", path_effects=[pe.SimpleLineShadow(shadow_color='g'), pe.Normal()])\r\n",
    "plt.plot(count_aggregate[\"UserId\"], count_aggregate[\"No. of Login Times\"], color = \"orange\", path_effects=[pe.SimpleLineShadow(shadow_color='orange'), pe.Normal()])\r\n",
    "plt.xlabel('Users')\r\n",
    "plt.ylabel('Count of Number of Times has a user logged in')\r\n",
    "plt.title('Counts of User Signin\\n\\n',\r\n",
    "          fontweight =\"bold\", fontsize=15)\r\n",
    "plt.xticks([])  \r\n",
    "plt.rcdefaults()\r\n",
    "# set the axes color glbally for all plots\r\n",
    "plt.rcParams.update({'axes.facecolor':'white'})\r\n",
    "plt.legend([\"Count\",\"High/Low Points\"])\r\n",
    "plt.show()"
   ]
  },
  {
   "cell_type": "code",
   "execution_count": 308,
   "id": "0a93eb34",
   "metadata": {
    "collapsed": true,
    "gather": {
     "logged": 1629413586358
    },
    "jupyter": {
     "outputs_hidden": false,
     "source_hidden": false
    },
    "nteract": {
     "transient": {
      "deleting": false
     }
    }
   },
   "outputs": [
    {
     "data": {
      "image/png": "[encoded data removed]",
      "text/plain": [
       "<Figure size 2500x700 with 1 Axes>"
      ]
     },
     "metadata": {},
     "output_type": "display_data"
    }
   ],
   "source": [
    "fig = plt.figure()\r\n",
    "fig.set_figwidth(25)\r\n",
    "fig.set_figheight(7)\r\n",
    "plt.scatter(anomaly_count_model[\"UserId\"], anomaly_count_model[\"No. of Login Times\"], color = \"blue\", path_effects=[pe.SimpleLineShadow(shadow_color='b'), pe.Normal()])\r\n",
    "plt.plot(anomaly_count_model[\"UserId\"], anomaly_count_model[\"No. of Login Times\"], color = \"orange\", path_effects=[pe.SimpleLineShadow(shadow_color='orange'), pe.Normal()])\r\n",
    "plt.xlabel('Users')\r\n",
    "plt.ylabel('Count of Number of Times has a user logged in')\r\n",
    "plt.title('Anomalous Counts in User Signin\\n\\n',\r\n",
    "          fontweight =\"bold\", fontsize=15)\r\n",
    "plt.legend([\"Count\", \"High/Low Points\"])\r\n",
    "plt.show()"
   ]
  },
  {
   "cell_type": "code",
   "execution_count": 304,
   "id": "5eaee75b",
   "metadata": {
    "collapsed": true,
    "gather": {
     "logged": 1629413543066
    },
    "jupyter": {
     "outputs_hidden": false,
     "source_hidden": false
    },
    "nteract": {
     "transient": {
      "deleting": false
     }
    }
   },
   "outputs": [
    {
     "data": {
      "image/png": "[encoded data removed]",
      "text/plain": [
       "<Figure size 3010x400 with 6 Axes>"
      ]
     },
     "metadata": {},
     "output_type": "display_data"
    }
   ],
   "source": [
    "sns.pairplot(anomaly_count_model, x_vars = user_features , y_vars = user_entities[0], hue=user_entities[0], plot_kws={\"s\": 300},height = 4)\r\n",
    "fig.show()"
   ]
  },
  {
   "cell_type": "code",
   "execution_count": 255,
   "id": "2967e05e",
   "metadata": {
    "collapsed": true,
    "gather": {
     "logged": 1629412513981
    },
    "jupyter": {
     "outputs_hidden": false,
     "source_hidden": false
    },
    "nteract": {
     "transient": {
      "deleting": false
     }
    }
   },
   "outputs": [
    {
     "data": {
      "image/png": "[encoded data removed]",
      "text/plain": [
       "<Figure size 2000x2000 with 6 Axes>"
      ]
     },
     "metadata": {},
     "output_type": "display_data"
    }
   ],
   "source": [
    "fig, ax = plt.subplots(len(anomaly_data_model[user_entities[0]]))\r\n",
    "fig.set_figwidth(20)\r\n",
    "fig.set_figheight(20)\r\n",
    "fig.tight_layout(h_pad=5)\r\n",
    "count = 0\r\n",
    "fig.suptitle(\"Count of the number times each user has logged in on a specific date\", fontweight =\"bold\", fontsize=15, y= 1.05)\r\n",
    "\r\n",
    "\r\n",
    "#histtype = 'step' linewidth=4\r\n",
    "for i in anomaly_data_model[\"Login Times\"]:\r\n",
    "    temp_lst = list(i)\r\n",
    "    x = list(i)\r\n",
    "    ax[count].hist(x, alpha = 0.4, facecolor=\"red\",histtype = 'stepfilled')\r\n",
    "    ax[count].title.set_text(\"Count of Number of log ins of {}\".format(anomaly_data_model.loc[count,user_entities[0]])) \r\n",
    "    ax[count].legend([\"Count\"])\r\n",
    "    count+=1\r\n",
    "\r\n",
    "plt.show()"
   ]
  }
 ],
 "metadata": {
  "kernel_info": {
   "name": "python38-azureml"
  },
  "kernelspec": {
   "display_name": "Python 3.8 - AzureML",
   "language": "python",
   "name": "python38-azureml"
  },
  "language_info": {
   "codemirror_mode": {
    "name": "ipython",
    "version": 3
   },
   "file_extension": ".py",
   "mimetype": "text/x-python",
   "name": "python",
   "nbconvert_exporter": "python",
   "pygments_lexer": "ipython3",
   "version": "3.8.1"
  },
  "microsoft": {
   "host": {
    "AzureML": {
     "notebookHasBeenCompleted": true
    }
   }
  },
  "nteract": {
   "version": "nteract-front-end@1.0.0"
  }
 },
 "nbformat": 4,
 "nbformat_minor": 5
}
