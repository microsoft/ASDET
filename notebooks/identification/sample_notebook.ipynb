{
 "cells": [
  {
   "cell_type": "code",
   "execution_count": 1,
   "source": [
    "# Core MSTICPy initialization for Notebooks\r\n",
    "from msticpy.nbtools import nbinit\r\n",
    "nbinit.init_notebook(namespace=globals());\r\n",
    "\r\n",
    "# Load query providers (typically you'll be using just one)\r\n",
    "qry_prov = QueryProvider(\"AzureSentinel\")"
   ],
   "outputs": [
    {
     "output_type": "display_data",
     "data": {
      "text/plain": [
       "<IPython.core.display.HTML object>"
      ],
      "text/html": [
       "<hr><h4>Starting Notebook initialization...</h4>"
      ]
     },
     "metadata": {}
    },
    {
     "output_type": "display_data",
     "data": {
      "text/plain": [
       "<IPython.core.display.HTML object>"
      ],
      "text/html": [
       "msticpy version installed: 1.0.1 latest published: 1.3.0<br>A newer version of msticpy - 1.3.0 is available.<br>Upgrade with pip install --upgrade msticpy<br> <br>"
      ]
     },
     "metadata": {}
    },
    {
     "output_type": "display_data",
     "data": {
      "text/plain": [
       "<IPython.core.display.HTML object>"
      ],
      "text/html": [
       "Processing imports.... <br>"
      ]
     },
     "metadata": {}
    },
    {
     "output_type": "display_data",
     "data": {
      "text/plain": [
       "<IPython.core.display.HTML object>"
      ],
      "text/html": [
       "Imported: pd (pandas), IPython.get_ipython, IPython.display.display, IPython.display.HTML, IPython.display.Markdown, widgets (ipywidgets), pathlib.Path, plt (matplotlib.pyplot), matplotlib.MatplotlibDeprecationWarning, np (numpy), msticpy.data.QueryProvider, msticpy.nbtools.foliummap.FoliumMap, msticpy.common.utility.md, msticpy.common.utility.md_warn, msticpy.common.wsconfig.WorkspaceConfig, msticpy.datamodel.pivot.Pivot, msticpy.datamodel.entities <br>"
      ]
     },
     "metadata": {}
    },
    {
     "output_type": "display_data",
     "data": {
      "text/plain": [
       "<IPython.core.display.HTML object>"
      ],
      "text/html": [
       "Checking configuration.... <br>"
      ]
     },
     "metadata": {}
    },
    {
     "output_type": "display_data",
     "data": {
      "text/plain": [
       "<IPython.core.display.HTML object>"
      ],
      "text/html": [
       "No errors found.<br><br>The following configuration warnings were found: <br> -------------------------------------------------<br>'TIProviders' section has no settings.<br>'OtherProviders' section has no settings.<br> <br>"
      ]
     },
     "metadata": {}
    },
    {
     "output_type": "display_data",
     "data": {
      "text/plain": [
       "<IPython.core.display.HTML object>"
      ],
      "text/html": [
       "Setting notebook options.... <br>"
      ]
     },
     "metadata": {}
    },
    {
     "output_type": "display_data",
     "data": {
      "text/plain": [
       "<IPython.core.display.HTML object>"
      ],
      "text/html": [
       "<h4>Notebook initialization complete</h4>"
      ]
     },
     "metadata": {}
    },
    {
     "output_type": "stream",
     "name": "stdout",
     "text": [
      "Please wait. Loading Kqlmagic extension...\n"
     ]
    }
   ],
   "metadata": {}
  },
  {
   "cell_type": "code",
   "execution_count": 2,
   "source": [
    "qry_prov.connect(WorkspaceConfig())"
   ],
   "outputs": [
    {
     "output_type": "display_data",
     "data": {
      "text/plain": [
       "<IPython.core.display.HTML object>"
      ],
      "text/html": [
       "<!DOCTYPE html>\n",
       "            <html><body>\n",
       "            <div style=''>\n",
       "            <b>RSLH3HC63</b>&nbsp;<a href='https://microsoft.com/devicelogin' style='padding: 2px 6px 2px 6px; color: #333333; background-color: #EEEEEE; border-top: 1px solid #CCCCCC; border-right: 1px solid #333333; border-bottom: 1px solid #333333; border-left: 1px solid #CCCCCC' target='verification_url'>Copy code to clipboard and authenticate</a>\n",
       "            </div>\n",
       "            </body></html>"
      ]
     },
     "metadata": {}
    },
    {
     "output_type": "display_data",
     "data": {
      "text/plain": [
       "<IPython.core.display.HTML object>"
      ],
      "text/html": [
       "<!DOCTYPE html>\n",
       "                            <html><body><script>\n",
       "\n",
       "                                // close authentication window\n",
       "                                if (kql_MagicUserCodeAuthWindow && kql_MagicUserCodeAuthWindow.opener != null && !kql_MagicUserCodeAuthWindow.closed) {\n",
       "                                    kql_MagicUserCodeAuthWindow.close()\n",
       "                                }\n",
       "                                // TODO: make sure, you clear the right cell. BTW, not sure it is a must to do any clearing\n",
       "\n",
       "                                // clear output cell\n",
       "                                Jupyter.notebook.clear_output(Jupyter.notebook.get_selected_index())\n",
       "\n",
       "                                // TODO: if in run all mode, move to last cell, otherwise move to next cell\n",
       "                                // move to next cell\n",
       "\n",
       "                            </script></body></html>"
      ]
     },
     "metadata": {}
    },
    {
     "output_type": "display_data",
     "data": {
      "text/plain": [
       "<IPython.core.display.HTML object>"
      ],
      "text/html": [
       "<!DOCTYPE html>\n",
       "            <html><body>\n",
       "            <div style=''>\n",
       "            <a href='file:///c:/Users/Charity Hsu/mstic/mstic-dataexpl/notebooks/identification/kqlmagic/temp_files/56959e28-7ce6-4fe2-b4c0-5b910e87959b/_8ecf8077-cf51-4820-aadd-14040956f35d_at_loganalytics_schema.html' style='padding: 2px 6px 2px 6px; color: #333333; background-color: #EEEEEE; border-top: 1px solid #CCCCCC; border-right: 1px solid #333333; border-bottom: 1px solid #333333; border-left: 1px solid #CCCCCC' target='_8ecf8077-cf51-4820-aadd-14040956f35d_at_loganalytics_schema'>popup schema 8ecf8077-cf51-4820-aadd-14040956f35d@loganalytics</a>\n",
       "            </div>\n",
       "            </body></html>"
      ]
     },
     "metadata": {}
    }
   ],
   "metadata": {}
  },
  {
   "cell_type": "code",
   "execution_count": 3,
   "source": [
    "import entity_id as eid\r\n",
    "\r\n",
    "eid.save_to_json_file(eid.DEF_REGEXES, \"./regexes.json\")"
   ],
   "outputs": [],
   "metadata": {}
  },
  {
   "cell_type": "code",
   "execution_count": 4,
   "source": [
    "regexes = eid.read_json_file(\"./regexes.json\")"
   ],
   "outputs": [],
   "metadata": {}
  },
  {
   "cell_type": "code",
   "execution_count": 5,
   "source": [
    "e = eid.EntityIdentifier(qry_prov)"
   ],
   "outputs": [],
   "metadata": {}
  },
  {
   "cell_type": "code",
   "execution_count": 6,
   "source": [
    "e.select_tables()"
   ],
   "outputs": [
    {
     "output_type": "display_data",
     "data": {
      "text/plain": [
       "VBox(children=(Text(value='', description='Filter:', style=DescriptionStyle(description_width='initial')), HBo…"
      ],
      "application/vnd.jupyter.widget-view+json": {
       "version_major": 2,
       "version_minor": 0,
       "model_id": "9531a0faa1b843eaa0020c0baee83ee5"
      }
     },
     "metadata": {}
    }
   ],
   "metadata": {}
  },
  {
   "cell_type": "code",
   "execution_count": 9,
   "source": [
    "e.detect_entities()"
   ],
   "outputs": [
    {
     "output_type": "stream",
     "name": "stderr",
     "text": [
      "100%|██████████| 4/4 [00:29<00:00,  7.33s/it]\n"
     ]
    },
    {
     "output_type": "execute_result",
     "data": {
      "text/plain": [
       "{'ipaddress': [('CommonSecurityLog', 'DestinationIP'),\n",
       "  ('CommonSecurityLog', 'SourceIP'),\n",
       "  ('CommonSecurityLog', 'DestinationTranslatedAddress'),\n",
       "  ('CommonSecurityLog', 'SourceTranslatedAddress'),\n",
       "  ('OfficeActivity', 'ClientIP'),\n",
       "  ('OfficeActivity', 'ClientIP_'),\n",
       "  ('OfficeActivity', 'Client_IPAddress'),\n",
       "  ('SecurityEvent', 'IpAddress'),\n",
       "  ('SigninLogs', 'IPAddress')],\n",
       " 'host': [('CommonSecurityLog', 'DestinationHostName'),\n",
       "  ('CommonSecurityLog', 'DeviceCustomString5'),\n",
       "  ('OfficeActivity', 'SourceFileName'),\n",
       "  ('OfficeActivity', 'SourceFileName_'),\n",
       "  ('OfficeActivity', 'OrganizationName'),\n",
       "  ('SecurityEvent', 'Computer'),\n",
       "  ('SigninLogs', 'Resource'),\n",
       "  ('SigninLogs', 'ResourceGroup')],\n",
       " 'account': [('CommonSecurityLog', 'SourceUserName'),\n",
       "  ('OfficeActivity', 'UserId'),\n",
       "  ('OfficeActivity', 'UserId_'),\n",
       "  ('OfficeActivity', 'MailboxOwnerUPN'),\n",
       "  ('OfficeActivity', 'MailboxOwnerSid'),\n",
       "  ('OfficeActivity', 'LogonUserSid'),\n",
       "  ('SecurityEvent', 'Account'),\n",
       "  ('SecurityEvent', 'FilePath'),\n",
       "  ('SecurityEvent', 'MandatoryLabel'),\n",
       "  ('SecurityEvent', 'SubjectAccount'),\n",
       "  ('SecurityEvent', 'SubjectUserSid'),\n",
       "  ('SecurityEvent', 'TargetUser'),\n",
       "  ('SecurityEvent', 'TargetUserSid'),\n",
       "  ('SigninLogs', 'AlternateSignInName'),\n",
       "  ('SigninLogs', 'UserPrincipalName'),\n",
       "  ('SigninLogs', 'SignInIdentifier')],\n",
       " 'azureresource': [('CommonSecurityLog', '_ResourceId'),\n",
       "  ('SecurityEvent', '_ResourceId'),\n",
       "  ('SigninLogs', 'ResourceId')],\n",
       " 'url': [('OfficeActivity', 'OfficeObjectId'),\n",
       "  ('OfficeActivity', 'Site_Url'),\n",
       "  ('OfficeActivity', 'Site_Url_')],\n",
       " 'hash': [('SecurityEvent', 'FileHash')],\n",
       " 'process': [('SecurityEvent', 'NewProcessName'),\n",
       "  ('SecurityEvent', 'ParentProcessName'),\n",
       "  ('SecurityEvent', 'Process'),\n",
       "  ('SecurityEvent', 'ProcessName')],\n",
       " 'file': [('SecurityEvent', 'ObjectName'), ('SecurityEvent', 'TargetAccount')]}"
      ]
     },
     "metadata": {},
     "execution_count": 9
    }
   ],
   "metadata": {}
  },
  {
   "cell_type": "code",
   "execution_count": 10,
   "source": [
    "e.disp_regex_matches()"
   ],
   "outputs": [
    {
     "output_type": "stream",
     "name": "stdout",
     "text": [
      "CommonSecurityLog\n",
      "-----------------\n",
      "{'DestinationHostName': {'DNS_REGEX': (1.0, 0.27)},\n",
      " 'DestinationIP': {'IPV4_REGEX': (1.0, 1.0)},\n",
      " 'DestinationTranslatedAddress': {'IPV4_REGEX': (1.0, 0.09)},\n",
      " 'DeviceCustomString5': {'DNS_REGEX': (0.07407407407407407, 0.02)},\n",
      " 'SourceIP': {'IPV4_REGEX': (1.0, 1.0)},\n",
      " 'SourceTranslatedAddress': {'IPV4_REGEX': (1.0, 0.44)},\n",
      " 'SourceUserName': {'EMAIL_REGEX': (0.6296296296296297, 0.17)},\n",
      " 'TenantId': {'GUID_REGEX': (1.0, 1.0)},\n",
      " '_ResourceId': {'LXPATH_REGEX': (1.0, 1.0), 'RESOURCEID_REGEX': (1.0, 1.0)}}\n",
      "OfficeActivity\n",
      "--------------\n",
      "{'AADGroupId': {'GUID_REGEX': (1.0, 0.01)},\n",
      " 'AppId': {'GUID_REGEX': (1.0, 0.42)},\n",
      " 'ClientAppId': {'GUID_REGEX': (1.0, 0.08)},\n",
      " 'ClientIP': {'IPV4_REGEX': (0.9333333333333333, 0.28),\n",
      "              'IPV6_REGEX': (0.06666666666666667, 0.02)},\n",
      " 'ClientIP_': {'IPV4_REGEX': (0.9333333333333333, 0.28),\n",
      "               'IPV6_REGEX': (0.06666666666666667, 0.02)},\n",
      " 'Client_IPAddress': {'IPV4_REGEX': (0.7727272727272727, 0.34),\n",
      "                      'IPV6_REGEX': (0.22727272727272727, 0.1)},\n",
      " 'LogonUserSid': {'SID_REGEX': (1.0, 0.44)},\n",
      " 'MailboxGuid': {'GUID_REGEX': (1.0, 0.44)},\n",
      " 'MailboxOwnerSid': {'SID_REGEX': (1.0, 0.44)},\n",
      " 'MailboxOwnerUPN': {'EMAIL_REGEX': (1.0, 0.44)},\n",
      " 'OfficeId': {'GUID_REGEX': (1.0, 1.0)},\n",
      " 'OfficeObjectId': {'GUID_REGEX': (0.16363636363636364, 0.09),\n",
      "                    'URL_REGEX': (0.03636363636363636, 0.02)},\n",
      " 'OrganizationId': {'GUID_REGEX': (1.0, 1.0)},\n",
      " 'OrganizationId_': {'GUID_REGEX': (1.0, 1.0)},\n",
      " 'OrganizationName': {'DNS_REGEX': (1.0, 0.63)},\n",
      " 'Site_': {'GUID_REGEX': (1.0, 0.27)},\n",
      " 'Site_Url': {'URL_REGEX': (1.0, 0.23)},\n",
      " 'Site_Url_': {'URL_REGEX': (1.0, 0.23)},\n",
      " 'SourceFileName': {'DNS_REGEX': (0.13043478260869565, 0.03)},\n",
      " 'SourceFileName_': {'DNS_REGEX': (0.13043478260869565, 0.03)},\n",
      " 'SourceRecordId': {'GUID_REGEX': (1.0, 1.0)},\n",
      " 'TenantId': {'GUID_REGEX': (1.0, 1.0)},\n",
      " 'UserId': {'EMAIL_REGEX': (0.68, 0.68)},\n",
      " 'UserId_': {'EMAIL_REGEX': (0.68, 0.68)},\n",
      " 'UserKey': {'GUID_REGEX': (0.01, 0.01)}}\n",
      "SecurityEvent\n",
      "-------------\n",
      "{'Account': {'NTACCT_REGEX': (0.6021505376344086, 0.56),\n",
      "             'WINPATH_REGEX': (0.3870967741935484, 0.36)},\n",
      " 'Computer': {'DNS_REGEX': (0.36, 0.36)},\n",
      " 'EventOriginId': {'GUID_REGEX': (1.0, 1.0)},\n",
      " 'FileHash': {'SHA256_REGEX': (1.0, 0.13)},\n",
      " 'FilePath': {'NTACCT_REGEX': (0.7692307692307693, 0.1)},\n",
      " 'IpAddress': {'IPV4_REGEX': (1.0, 0.45)},\n",
      " 'MG': {'GUID_REGEX': (1.0, 1.0)},\n",
      " 'MandatoryLabel': {'SID_REGEX': (1.0, 0.15)},\n",
      " 'NewProcessName': {'WINPATH_REGEX': (1.0, 0.15),\n",
      "                    'WINPROCESS_REGEX': (1.0, 0.15)},\n",
      " 'ObjectName': {'WINPATH_REGEX': (0.4, 0.04)},\n",
      " 'ParentProcessName': {'WINPATH_REGEX': (1.0, 0.15),\n",
      "                       'WINPROCESS_REGEX': (1.0, 0.15)},\n",
      " 'Process': {'DNS_REGEX': (0.4642857142857143, 0.39),\n",
      "             'WINPROCESS_REGEX': (0.47619047619047616, 0.4)},\n",
      " 'ProcessName': {'WINPATH_REGEX': (0.21428571428571427, 0.12),\n",
      "                 'WINPROCESS_REGEX': (0.21428571428571427, 0.12)},\n",
      " 'SourceComputerId': {'GUID_REGEX': (1.0, 1.0)},\n",
      " 'SubjectAccount': {'NTACCT_REGEX': (0.4375, 0.35)},\n",
      " 'SubjectUserSid': {'SID_REGEX': (1.0, 0.8)},\n",
      " 'TargetAccount': {'NTACCT_REGEX': (0.15254237288135594, 0.09),\n",
      "                   'WINPATH_REGEX': (0.6101694915254238, 0.36)},\n",
      " 'TargetUser': {'SID_REGEX': (1.0, 0.13)},\n",
      " 'TargetUserSid': {'SID_REGEX': (1.0, 0.59)},\n",
      " 'TenantId': {'GUID_REGEX': (1.0, 1.0)},\n",
      " '_ResourceId': {'LXPATH_REGEX': (1.0, 1.0), 'RESOURCEID_REGEX': (1.0, 1.0)}}\n",
      "SigninLogs\n",
      "----------\n",
      "{'AADTenantId': {'GUID_REGEX': (1.0, 1.0)},\n",
      " 'AlternateSignInName': {'EMAIL_REGEX': (1.0, 0.41)},\n",
      " 'AppId': {'GUID_REGEX': (1.0, 1.0)},\n",
      " 'CorrelationId': {'GUID_REGEX': (1.0, 1.0)},\n",
      " 'HomeTenantId': {'GUID_REGEX': (1.0, 0.89)},\n",
      " 'IPAddress': {'IPV4_REGEX': (0.93, 0.93), 'IPV6_REGEX': (0.07, 0.07)},\n",
      " 'Id': {'GUID_REGEX': (1.0, 1.0)},\n",
      " 'OriginalRequestId': {'GUID_REGEX': (1.0, 1.0)},\n",
      " 'Resource': {'DNS_REGEX': (1.0, 1.0)},\n",
      " 'ResourceGroup': {'DNS_REGEX': (1.0, 1.0)},\n",
      " 'ResourceId': {'LXPATH_REGEX': (1.0, 1.0), 'RESOURCEID_REGEX': (1.0, 1.0)},\n",
      " 'ResourceIdentity': {'GUID_REGEX': (1.0, 0.98)},\n",
      " 'ResourceTenantId': {'GUID_REGEX': (1.0, 1.0)},\n",
      " 'SignInIdentifier': {'EMAIL_REGEX': (1.0, 0.41)},\n",
      " 'TenantId': {'GUID_REGEX': (1.0, 1.0)},\n",
      " 'UserId': {'GUID_REGEX': (1.0, 1.0)},\n",
      " 'UserPrincipalName': {'EMAIL_REGEX': (1.0, 1.0)}}\n"
     ]
    }
   ],
   "metadata": {}
  },
  {
   "cell_type": "code",
   "execution_count": 12,
   "source": [
    "e.disp_table_entities()"
   ],
   "outputs": [
    {
     "output_type": "stream",
     "name": "stdout",
     "text": [
      "CommonSecurityLog\n",
      "-----------------\n",
      "{'DestinationHostName': 'host',\n",
      " 'DestinationIP': 'ipaddress',\n",
      " 'DestinationTranslatedAddress': 'ipaddress',\n",
      " 'DeviceCustomString5': 'host',\n",
      " 'SourceIP': 'ipaddress',\n",
      " 'SourceTranslatedAddress': 'ipaddress',\n",
      " 'SourceUserName': 'account',\n",
      " '_ResourceId': 'azureresource'}\n",
      "OfficeActivity\n",
      "--------------\n",
      "{'ClientIP': 'ipaddress',\n",
      " 'ClientIP_': 'ipaddress',\n",
      " 'Client_IPAddress': 'ipaddress',\n",
      " 'LogonUserSid': 'account',\n",
      " 'MailboxOwnerSid': 'account',\n",
      " 'MailboxOwnerUPN': 'account',\n",
      " 'OfficeObjectId': 'url',\n",
      " 'OrganizationName': 'host',\n",
      " 'Site_Url': 'url',\n",
      " 'Site_Url_': 'url',\n",
      " 'SourceFileName': 'host',\n",
      " 'SourceFileName_': 'host',\n",
      " 'UserId': 'account',\n",
      " 'UserId_': 'account'}\n",
      "SecurityEvent\n",
      "-------------\n",
      "{'Account': 'account',\n",
      " 'Computer': 'host',\n",
      " 'FileHash': 'hash',\n",
      " 'FilePath': 'account',\n",
      " 'IpAddress': 'ipaddress',\n",
      " 'MandatoryLabel': 'account',\n",
      " 'NewProcessName': 'process',\n",
      " 'ObjectName': 'file',\n",
      " 'ParentProcessName': 'process',\n",
      " 'Process': 'process',\n",
      " 'ProcessName': 'process',\n",
      " 'SubjectAccount': 'account',\n",
      " 'SubjectUserSid': 'account',\n",
      " 'TargetAccount': 'file',\n",
      " 'TargetUser': 'account',\n",
      " 'TargetUserSid': 'account',\n",
      " '_ResourceId': 'azureresource'}\n",
      "SigninLogs\n",
      "----------\n",
      "{'AlternateSignInName': 'account',\n",
      " 'IPAddress': 'ipaddress',\n",
      " 'Resource': 'host',\n",
      " 'ResourceGroup': 'host',\n",
      " 'ResourceId': 'azureresource',\n",
      " 'SignInIdentifier': 'account',\n",
      " 'UserPrincipalName': 'account'}\n"
     ]
    }
   ],
   "metadata": {}
  },
  {
   "cell_type": "code",
   "execution_count": 13,
   "source": [
    "e.disp_entity_map()"
   ],
   "outputs": [
    {
     "output_type": "stream",
     "name": "stdout",
     "text": [
      "ipaddress\n",
      "---------\n",
      "[('CommonSecurityLog', 'DestinationIP'),\n",
      " ('CommonSecurityLog', 'SourceIP'),\n",
      " ('CommonSecurityLog', 'DestinationTranslatedAddress'),\n",
      " ('CommonSecurityLog', 'SourceTranslatedAddress'),\n",
      " ('OfficeActivity', 'ClientIP'),\n",
      " ('OfficeActivity', 'ClientIP_'),\n",
      " ('OfficeActivity', 'Client_IPAddress'),\n",
      " ('SecurityEvent', 'IpAddress'),\n",
      " ('SigninLogs', 'IPAddress')]\n",
      "host\n",
      "----\n",
      "[('CommonSecurityLog', 'DestinationHostName'),\n",
      " ('CommonSecurityLog', 'DeviceCustomString5'),\n",
      " ('OfficeActivity', 'SourceFileName'),\n",
      " ('OfficeActivity', 'SourceFileName_'),\n",
      " ('OfficeActivity', 'OrganizationName'),\n",
      " ('SecurityEvent', 'Computer'),\n",
      " ('SigninLogs', 'Resource'),\n",
      " ('SigninLogs', 'ResourceGroup')]\n",
      "account\n",
      "-------\n",
      "[('CommonSecurityLog', 'SourceUserName'),\n",
      " ('OfficeActivity', 'UserId'),\n",
      " ('OfficeActivity', 'UserId_'),\n",
      " ('OfficeActivity', 'MailboxOwnerUPN'),\n",
      " ('OfficeActivity', 'MailboxOwnerSid'),\n",
      " ('OfficeActivity', 'LogonUserSid'),\n",
      " ('SecurityEvent', 'Account'),\n",
      " ('SecurityEvent', 'FilePath'),\n",
      " ('SecurityEvent', 'MandatoryLabel'),\n",
      " ('SecurityEvent', 'SubjectAccount'),\n",
      " ('SecurityEvent', 'SubjectUserSid'),\n",
      " ('SecurityEvent', 'TargetUser'),\n",
      " ('SecurityEvent', 'TargetUserSid'),\n",
      " ('SigninLogs', 'AlternateSignInName'),\n",
      " ('SigninLogs', 'UserPrincipalName'),\n",
      " ('SigninLogs', 'SignInIdentifier')]\n",
      "azureresource\n",
      "-------------\n",
      "[('CommonSecurityLog', '_ResourceId'),\n",
      " ('SecurityEvent', '_ResourceId'),\n",
      " ('SigninLogs', 'ResourceId')]\n",
      "url\n",
      "---\n",
      "[('OfficeActivity', 'OfficeObjectId'),\n",
      " ('OfficeActivity', 'Site_Url'),\n",
      " ('OfficeActivity', 'Site_Url_')]\n",
      "hash\n",
      "----\n",
      "[('SecurityEvent', 'FileHash')]\n",
      "process\n",
      "-------\n",
      "[('SecurityEvent', 'NewProcessName'),\n",
      " ('SecurityEvent', 'ParentProcessName'),\n",
      " ('SecurityEvent', 'Process'),\n",
      " ('SecurityEvent', 'ProcessName')]\n",
      "file\n",
      "----\n",
      "[('SecurityEvent', 'ObjectName'), ('SecurityEvent', 'TargetAccount')]\n"
     ]
    }
   ],
   "metadata": {}
  },
  {
   "cell_type": "code",
   "execution_count": 14,
   "source": [
    "e.save_results()"
   ],
   "outputs": [],
   "metadata": {}
  }
 ],
 "metadata": {
  "orig_nbformat": 4,
  "language_info": {
   "name": "python",
   "version": "3.9.5",
   "mimetype": "text/x-python",
   "codemirror_mode": {
    "name": "ipython",
    "version": 3
   },
   "pygments_lexer": "ipython3",
   "nbconvert_exporter": "python",
   "file_extension": ".py"
  },
  "kernelspec": {
   "name": "python3",
   "display_name": "Python 3.9.5 64-bit ('mstic-dataexpl': conda)"
  },
  "interpreter": {
   "hash": "26c7ee86bfc26d742c440fced94fd1ebecb07a5475b2dfb50b2711d3c1d1d174"
  }
 },
 "nbformat": 4,
 "nbformat_minor": 2
}