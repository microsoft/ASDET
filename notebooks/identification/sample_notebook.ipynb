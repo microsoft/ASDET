{
 "cells": [
  {
   "cell_type": "code",
   "execution_count": 1,
   "source": [
    "# Core MSTICPy initialization for Notebooks\r\n",
    "from msticpy.nbtools import nbinit\r\n",
    "nbinit.init_notebook(namespace=globals());\r\n",
    "\r\n",
    "# Load query providers (typically you'll be using just one)\r\n",
    "qry_prov = QueryProvider(\"AzureSentinel\")"
   ],
   "outputs": [
    {
     "output_type": "display_data",
     "data": {
      "text/plain": [
       "<IPython.core.display.HTML object>"
      ],
      "text/html": [
       "<hr><h4>Starting Notebook initialization...</h4>"
      ]
     },
     "metadata": {}
    },
    {
     "output_type": "display_data",
     "data": {
      "text/plain": [
       "<IPython.core.display.HTML object>"
      ],
      "text/html": [
       "msticpy version installed: 1.0.1 latest published: 1.3.0<br>A newer version of msticpy - 1.3.0 is available.<br>Upgrade with pip install --upgrade msticpy<br> <br>"
      ]
     },
     "metadata": {}
    },
    {
     "output_type": "display_data",
     "data": {
      "text/plain": [
       "<IPython.core.display.HTML object>"
      ],
      "text/html": [
       "Processing imports.... <br>"
      ]
     },
     "metadata": {}
    },
    {
     "output_type": "display_data",
     "data": {
      "text/plain": [
       "<IPython.core.display.HTML object>"
      ],
      "text/html": [
       "Imported: pd (pandas), IPython.get_ipython, IPython.display.display, IPython.display.HTML, IPython.display.Markdown, widgets (ipywidgets), pathlib.Path, plt (matplotlib.pyplot), matplotlib.MatplotlibDeprecationWarning, np (numpy), msticpy.data.QueryProvider, msticpy.nbtools.foliummap.FoliumMap, msticpy.common.utility.md, msticpy.common.utility.md_warn, msticpy.common.wsconfig.WorkspaceConfig, msticpy.datamodel.pivot.Pivot, msticpy.datamodel.entities <br>"
      ]
     },
     "metadata": {}
    },
    {
     "output_type": "display_data",
     "data": {
      "text/plain": [
       "<IPython.core.display.HTML object>"
      ],
      "text/html": [
       "Checking configuration.... <br>"
      ]
     },
     "metadata": {}
    },
    {
     "output_type": "display_data",
     "data": {
      "text/plain": [
       "<IPython.core.display.HTML object>"
      ],
      "text/html": [
       "No errors found.<br><br>The following configuration warnings were found: <br> -------------------------------------------------<br>'TIProviders' section has no settings.<br>'OtherProviders' section has no settings.<br> <br>"
      ]
     },
     "metadata": {}
    },
    {
     "output_type": "display_data",
     "data": {
      "text/plain": [
       "<IPython.core.display.HTML object>"
      ],
      "text/html": [
       "Setting notebook options.... <br>"
      ]
     },
     "metadata": {}
    },
    {
     "output_type": "display_data",
     "data": {
      "text/plain": [
       "<IPython.core.display.HTML object>"
      ],
      "text/html": [
       "<h4>Notebook initialization complete</h4>"
      ]
     },
     "metadata": {}
    },
    {
     "output_type": "stream",
     "name": "stdout",
     "text": [
      "Please wait. Loading Kqlmagic extension...\n"
     ]
    }
   ],
   "metadata": {}
  },
  {
   "cell_type": "code",
   "execution_count": 2,
   "source": [
    "qry_prov.connect(WorkspaceConfig())"
   ],
   "outputs": [
    {
     "output_type": "display_data",
     "data": {
      "text/plain": [
       "<IPython.core.display.HTML object>"
      ],
      "text/html": [
       "<!DOCTYPE html>\n",
       "            <html><body>\n",
       "            <div style=''>\n",
       "            <b>RNE3FL79G</b>&nbsp;<a href='https://microsoft.com/devicelogin' style='padding: 2px 6px 2px 6px; color: #333333; background-color: #EEEEEE; border-top: 1px solid #CCCCCC; border-right: 1px solid #333333; border-bottom: 1px solid #333333; border-left: 1px solid #CCCCCC' target='verification_url'>Copy code to clipboard and authenticate</a>\n",
       "            </div>\n",
       "            </body></html>"
      ]
     },
     "metadata": {}
    },
    {
     "output_type": "display_data",
     "data": {
      "text/plain": [
       "<IPython.core.display.HTML object>"
      ],
      "text/html": [
       "<!DOCTYPE html>\n",
       "                            <html><body><script>\n",
       "\n",
       "                                // close authentication window\n",
       "                                if (kql_MagicUserCodeAuthWindow && kql_MagicUserCodeAuthWindow.opener != null && !kql_MagicUserCodeAuthWindow.closed) {\n",
       "                                    kql_MagicUserCodeAuthWindow.close()\n",
       "                                }\n",
       "                                // TODO: make sure, you clear the right cell. BTW, not sure it is a must to do any clearing\n",
       "\n",
       "                                // clear output cell\n",
       "                                Jupyter.notebook.clear_output(Jupyter.notebook.get_selected_index())\n",
       "\n",
       "                                // TODO: if in run all mode, move to last cell, otherwise move to next cell\n",
       "                                // move to next cell\n",
       "\n",
       "                            </script></body></html>"
      ]
     },
     "metadata": {}
    },
    {
     "output_type": "display_data",
     "data": {
      "text/plain": [
       "<IPython.core.display.HTML object>"
      ],
      "text/html": [
       "<!DOCTYPE html>\n",
       "            <html><body>\n",
       "            <div style=''>\n",
       "            <a href='file:///c:/Users/Charity Hsu/mstic/mstic-dataexpl/notebooks/identification/kqlmagic/temp_files/7aa652ce-d2df-455c-a89c-15143a18075c/_8ecf8077-cf51-4820-aadd-14040956f35d_at_loganalytics_schema.html' style='padding: 2px 6px 2px 6px; color: #333333; background-color: #EEEEEE; border-top: 1px solid #CCCCCC; border-right: 1px solid #333333; border-bottom: 1px solid #333333; border-left: 1px solid #CCCCCC' target='_8ecf8077-cf51-4820-aadd-14040956f35d_at_loganalytics_schema'>popup schema 8ecf8077-cf51-4820-aadd-14040956f35d@loganalytics</a>\n",
       "            </div>\n",
       "            </body></html>"
      ]
     },
     "metadata": {}
    }
   ],
   "metadata": {}
  },
  {
   "cell_type": "code",
   "execution_count": 3,
   "source": [
    "import entity_id as eid"
   ],
   "outputs": [],
   "metadata": {}
  },
  {
   "cell_type": "code",
   "execution_count": 4,
   "source": [
    "e = eid.EntityIdentifier(qry_prov)"
   ],
   "outputs": [],
   "metadata": {}
  },
  {
   "cell_type": "code",
   "execution_count": 5,
   "source": [
    "e.read_results()"
   ],
   "outputs": [],
   "metadata": {}
  },
  {
   "cell_type": "code",
   "execution_count": 6,
   "source": [
    "e.show_entity_graph()"
   ],
   "outputs": [],
   "metadata": {}
  },
  {
   "cell_type": "code",
   "execution_count": 9,
   "source": [
    "e.show_single_entity_graph('account')"
   ],
   "outputs": [],
   "metadata": {}
  },
  {
   "cell_type": "code",
   "execution_count": 10,
   "source": [
    "e.show_entity_dist()"
   ],
   "outputs": [
    {
     "output_type": "display_data",
     "data": {
      "text/plain": [
       "<Figure size 720x720 with 1 Axes>"
      ],
      "image/svg+xml": "<?xml version=\"1.0\" encoding=\"utf-8\" standalone=\"no\"?>\r\n<!DOCTYPE svg PUBLIC \"-//W3C//DTD SVG 1.1//EN\"\r\n  \"http://www.w3.org/Graphics/SVG/1.1/DTD/svg11.dtd\">\r\n<svg height=\"574.678125pt\" version=\"1.1\" viewBox=\"0 0 650.395312 574.678125\" width=\"650.395312pt\" xmlns=\"http://www.w3.org/2000/svg\" xmlns:xlink=\"http://www.w3.org/1999/xlink\">\r\n <metadata>\r\n  <rdf:RDF xmlns:cc=\"http://creativecommons.org/ns#\" xmlns:dc=\"http://purl.org/dc/elements/1.1/\" xmlns:rdf=\"http://www.w3.org/1999/02/22-rdf-syntax-ns#\">\r\n   <cc:Work>\r\n    <dc:type rdf:resource=\"http://purl.org/dc/dcmitype/StillImage\"/>\r\n    <dc:date>2021-08-18T00:07:53.425156</dc:date>\r\n    <dc:format>image/svg+xml</dc:format>\r\n    <dc:creator>\r\n     <cc:Agent>\r\n      <dc:title>Matplotlib v3.4.2, https://matplotlib.org/</dc:title>\r\n     </cc:Agent>\r\n    </dc:creator>\r\n   </cc:Work>\r\n  </rdf:RDF>\r\n </metadata>\r\n <defs>\r\n  <style type=\"text/css\">*{stroke-linecap:butt;stroke-linejoin:round;}</style>\r\n </defs>\r\n <g id=\"figure_1\">\r\n  <g id=\"patch_1\">\r\n   <path d=\"M 0 574.678125 \r\nL 650.395312 574.678125 \r\nL 650.395312 0 \r\nL 0 0 \r\nz\r\n\" style=\"fill:none;\"/>\r\n  </g>\r\n  <g id=\"axes_1\">\r\n   <g id=\"patch_2\">\r\n    <path d=\"M 85.195312 550.8 \r\nL 643.195312 550.8 \r\nL 643.195312 7.2 \r\nL 85.195312 7.2 \r\nz\r\n\" style=\"fill:#ffffff;\"/>\r\n   </g>\r\n   <g id=\"patch_3\">\r\n    <path clip-path=\"url(#p0f8c42c4e6)\" d=\"M 85.195312 533.8125 \r\nL 616.623884 533.8125 \r\nL 616.623884 499.8375 \r\nL 85.195312 499.8375 \r\nz\r\n\" style=\"fill:#1f77b4;\"/>\r\n   </g>\r\n   <g id=\"patch_4\">\r\n    <path clip-path=\"url(#p0f8c42c4e6)\" d=\"M 85.195312 465.8625 \r\nL 272.758338 465.8625 \r\nL 272.758338 431.8875 \r\nL 85.195312 431.8875 \r\nz\r\n\" style=\"fill:#1f77b4;\"/>\r\n   </g>\r\n   <g id=\"patch_5\">\r\n    <path clip-path=\"url(#p0f8c42c4e6)\" d=\"M 85.195312 397.9125 \r\nL 241.497834 397.9125 \r\nL 241.497834 363.9375 \r\nL 85.195312 363.9375 \r\nz\r\n\" style=\"fill:#1f77b4;\"/>\r\n   </g>\r\n   <g id=\"patch_6\">\r\n    <path clip-path=\"url(#p0f8c42c4e6)\" d=\"M 85.195312 329.9625 \r\nL 241.497834 329.9625 \r\nL 241.497834 295.9875 \r\nL 85.195312 295.9875 \r\nz\r\n\" style=\"fill:#1f77b4;\"/>\r\n   </g>\r\n   <g id=\"patch_7\">\r\n    <path clip-path=\"url(#p0f8c42c4e6)\" d=\"M 85.195312 262.0125 \r\nL 178.976825 262.0125 \r\nL 178.976825 228.0375 \r\nL 85.195312 228.0375 \r\nz\r\n\" style=\"fill:#1f77b4;\"/>\r\n   </g>\r\n   <g id=\"patch_8\">\r\n    <path clip-path=\"url(#p0f8c42c4e6)\" d=\"M 85.195312 194.0625 \r\nL 147.716321 194.0625 \r\nL 147.716321 160.0875 \r\nL 85.195312 160.0875 \r\nz\r\n\" style=\"fill:#1f77b4;\"/>\r\n   </g>\r\n   <g id=\"patch_9\">\r\n    <path clip-path=\"url(#p0f8c42c4e6)\" d=\"M 85.195312 126.1125 \r\nL 147.716321 126.1125 \r\nL 147.716321 92.1375 \r\nL 85.195312 92.1375 \r\nz\r\n\" style=\"fill:#1f77b4;\"/>\r\n   </g>\r\n   <g id=\"patch_10\">\r\n    <path clip-path=\"url(#p0f8c42c4e6)\" d=\"M 85.195312 58.1625 \r\nL 116.455817 58.1625 \r\nL 116.455817 24.1875 \r\nL 85.195312 24.1875 \r\nz\r\n\" style=\"fill:#1f77b4;\"/>\r\n   </g>\r\n   <g id=\"matplotlib.axis_1\">\r\n    <g id=\"xtick_1\">\r\n     <g id=\"line2d_1\">\r\n      <defs>\r\n       <path d=\"M 0 0 \r\nL 0 3.5 \r\n\" id=\"mc5a4bad683\" style=\"stroke:#000000;stroke-width:0.8;\"/>\r\n      </defs>\r\n      <g>\r\n       <use style=\"stroke:#000000;stroke-width:0.8;\" x=\"85.195312\" xlink:href=\"#mc5a4bad683\" y=\"550.8\"/>\r\n      </g>\r\n     </g>\r\n     <g id=\"text_1\">\r\n      <!-- 0 -->\r\n      <g transform=\"translate(82.014062 565.398438)scale(0.1 -0.1)\">\r\n       <defs>\r\n        <path d=\"M 2034 4250 \r\nQ 1547 4250 1301 3770 \r\nQ 1056 3291 1056 2328 \r\nQ 1056 1369 1301 889 \r\nQ 1547 409 2034 409 \r\nQ 2525 409 2770 889 \r\nQ 3016 1369 3016 2328 \r\nQ 3016 3291 2770 3770 \r\nQ 2525 4250 2034 4250 \r\nz\r\nM 2034 4750 \r\nQ 2819 4750 3233 4129 \r\nQ 3647 3509 3647 2328 \r\nQ 3647 1150 3233 529 \r\nQ 2819 -91 2034 -91 \r\nQ 1250 -91 836 529 \r\nQ 422 1150 422 2328 \r\nQ 422 3509 836 4129 \r\nQ 1250 4750 2034 4750 \r\nz\r\n\" id=\"DejaVuSans-30\" transform=\"scale(0.015625)\"/>\r\n       </defs>\r\n       <use xlink:href=\"#DejaVuSans-30\"/>\r\n      </g>\r\n     </g>\r\n    </g>\r\n    <g id=\"xtick_2\">\r\n     <g id=\"line2d_2\">\r\n      <g>\r\n       <use style=\"stroke:#000000;stroke-width:0.8;\" x=\"147.716321\" xlink:href=\"#mc5a4bad683\" y=\"550.8\"/>\r\n      </g>\r\n     </g>\r\n     <g id=\"text_2\">\r\n      <!-- 2 -->\r\n      <g transform=\"translate(144.535071 565.398438)scale(0.1 -0.1)\">\r\n       <defs>\r\n        <path d=\"M 1228 531 \r\nL 3431 531 \r\nL 3431 0 \r\nL 469 0 \r\nL 469 531 \r\nQ 828 903 1448 1529 \r\nQ 2069 2156 2228 2338 \r\nQ 2531 2678 2651 2914 \r\nQ 2772 3150 2772 3378 \r\nQ 2772 3750 2511 3984 \r\nQ 2250 4219 1831 4219 \r\nQ 1534 4219 1204 4116 \r\nQ 875 4013 500 3803 \r\nL 500 4441 \r\nQ 881 4594 1212 4672 \r\nQ 1544 4750 1819 4750 \r\nQ 2544 4750 2975 4387 \r\nQ 3406 4025 3406 3419 \r\nQ 3406 3131 3298 2873 \r\nQ 3191 2616 2906 2266 \r\nQ 2828 2175 2409 1742 \r\nQ 1991 1309 1228 531 \r\nz\r\n\" id=\"DejaVuSans-32\" transform=\"scale(0.015625)\"/>\r\n       </defs>\r\n       <use xlink:href=\"#DejaVuSans-32\"/>\r\n      </g>\r\n     </g>\r\n    </g>\r\n    <g id=\"xtick_3\">\r\n     <g id=\"line2d_3\">\r\n      <g>\r\n       <use style=\"stroke:#000000;stroke-width:0.8;\" x=\"210.237329\" xlink:href=\"#mc5a4bad683\" y=\"550.8\"/>\r\n      </g>\r\n     </g>\r\n     <g id=\"text_3\">\r\n      <!-- 4 -->\r\n      <g transform=\"translate(207.056079 565.398438)scale(0.1 -0.1)\">\r\n       <defs>\r\n        <path d=\"M 2419 4116 \r\nL 825 1625 \r\nL 2419 1625 \r\nL 2419 4116 \r\nz\r\nM 2253 4666 \r\nL 3047 4666 \r\nL 3047 1625 \r\nL 3713 1625 \r\nL 3713 1100 \r\nL 3047 1100 \r\nL 3047 0 \r\nL 2419 0 \r\nL 2419 1100 \r\nL 313 1100 \r\nL 313 1709 \r\nL 2253 4666 \r\nz\r\n\" id=\"DejaVuSans-34\" transform=\"scale(0.015625)\"/>\r\n       </defs>\r\n       <use xlink:href=\"#DejaVuSans-34\"/>\r\n      </g>\r\n     </g>\r\n    </g>\r\n    <g id=\"xtick_4\">\r\n     <g id=\"line2d_4\">\r\n      <g>\r\n       <use style=\"stroke:#000000;stroke-width:0.8;\" x=\"272.758338\" xlink:href=\"#mc5a4bad683\" y=\"550.8\"/>\r\n      </g>\r\n     </g>\r\n     <g id=\"text_4\">\r\n      <!-- 6 -->\r\n      <g transform=\"translate(269.577088 565.398438)scale(0.1 -0.1)\">\r\n       <defs>\r\n        <path d=\"M 2113 2584 \r\nQ 1688 2584 1439 2293 \r\nQ 1191 2003 1191 1497 \r\nQ 1191 994 1439 701 \r\nQ 1688 409 2113 409 \r\nQ 2538 409 2786 701 \r\nQ 3034 994 3034 1497 \r\nQ 3034 2003 2786 2293 \r\nQ 2538 2584 2113 2584 \r\nz\r\nM 3366 4563 \r\nL 3366 3988 \r\nQ 3128 4100 2886 4159 \r\nQ 2644 4219 2406 4219 \r\nQ 1781 4219 1451 3797 \r\nQ 1122 3375 1075 2522 \r\nQ 1259 2794 1537 2939 \r\nQ 1816 3084 2150 3084 \r\nQ 2853 3084 3261 2657 \r\nQ 3669 2231 3669 1497 \r\nQ 3669 778 3244 343 \r\nQ 2819 -91 2113 -91 \r\nQ 1303 -91 875 529 \r\nQ 447 1150 447 2328 \r\nQ 447 3434 972 4092 \r\nQ 1497 4750 2381 4750 \r\nQ 2619 4750 2861 4703 \r\nQ 3103 4656 3366 4563 \r\nz\r\n\" id=\"DejaVuSans-36\" transform=\"scale(0.015625)\"/>\r\n       </defs>\r\n       <use xlink:href=\"#DejaVuSans-36\"/>\r\n      </g>\r\n     </g>\r\n    </g>\r\n    <g id=\"xtick_5\">\r\n     <g id=\"line2d_5\">\r\n      <g>\r\n       <use style=\"stroke:#000000;stroke-width:0.8;\" x=\"335.279346\" xlink:href=\"#mc5a4bad683\" y=\"550.8\"/>\r\n      </g>\r\n     </g>\r\n     <g id=\"text_5\">\r\n      <!-- 8 -->\r\n      <g transform=\"translate(332.098096 565.398438)scale(0.1 -0.1)\">\r\n       <defs>\r\n        <path d=\"M 2034 2216 \r\nQ 1584 2216 1326 1975 \r\nQ 1069 1734 1069 1313 \r\nQ 1069 891 1326 650 \r\nQ 1584 409 2034 409 \r\nQ 2484 409 2743 651 \r\nQ 3003 894 3003 1313 \r\nQ 3003 1734 2745 1975 \r\nQ 2488 2216 2034 2216 \r\nz\r\nM 1403 2484 \r\nQ 997 2584 770 2862 \r\nQ 544 3141 544 3541 \r\nQ 544 4100 942 4425 \r\nQ 1341 4750 2034 4750 \r\nQ 2731 4750 3128 4425 \r\nQ 3525 4100 3525 3541 \r\nQ 3525 3141 3298 2862 \r\nQ 3072 2584 2669 2484 \r\nQ 3125 2378 3379 2068 \r\nQ 3634 1759 3634 1313 \r\nQ 3634 634 3220 271 \r\nQ 2806 -91 2034 -91 \r\nQ 1263 -91 848 271 \r\nQ 434 634 434 1313 \r\nQ 434 1759 690 2068 \r\nQ 947 2378 1403 2484 \r\nz\r\nM 1172 3481 \r\nQ 1172 3119 1398 2916 \r\nQ 1625 2713 2034 2713 \r\nQ 2441 2713 2670 2916 \r\nQ 2900 3119 2900 3481 \r\nQ 2900 3844 2670 4047 \r\nQ 2441 4250 2034 4250 \r\nQ 1625 4250 1398 4047 \r\nQ 1172 3844 1172 3481 \r\nz\r\n\" id=\"DejaVuSans-38\" transform=\"scale(0.015625)\"/>\r\n       </defs>\r\n       <use xlink:href=\"#DejaVuSans-38\"/>\r\n      </g>\r\n     </g>\r\n    </g>\r\n    <g id=\"xtick_6\">\r\n     <g id=\"line2d_6\">\r\n      <g>\r\n       <use style=\"stroke:#000000;stroke-width:0.8;\" x=\"397.800355\" xlink:href=\"#mc5a4bad683\" y=\"550.8\"/>\r\n      </g>\r\n     </g>\r\n     <g id=\"text_6\">\r\n      <!-- 10 -->\r\n      <g transform=\"translate(391.437855 565.398438)scale(0.1 -0.1)\">\r\n       <defs>\r\n        <path d=\"M 794 531 \r\nL 1825 531 \r\nL 1825 4091 \r\nL 703 3866 \r\nL 703 4441 \r\nL 1819 4666 \r\nL 2450 4666 \r\nL 2450 531 \r\nL 3481 531 \r\nL 3481 0 \r\nL 794 0 \r\nL 794 531 \r\nz\r\n\" id=\"DejaVuSans-31\" transform=\"scale(0.015625)\"/>\r\n       </defs>\r\n       <use xlink:href=\"#DejaVuSans-31\"/>\r\n       <use x=\"63.623047\" xlink:href=\"#DejaVuSans-30\"/>\r\n      </g>\r\n     </g>\r\n    </g>\r\n    <g id=\"xtick_7\">\r\n     <g id=\"line2d_7\">\r\n      <g>\r\n       <use style=\"stroke:#000000;stroke-width:0.8;\" x=\"460.321363\" xlink:href=\"#mc5a4bad683\" y=\"550.8\"/>\r\n      </g>\r\n     </g>\r\n     <g id=\"text_7\">\r\n      <!-- 12 -->\r\n      <g transform=\"translate(453.958863 565.398438)scale(0.1 -0.1)\">\r\n       <use xlink:href=\"#DejaVuSans-31\"/>\r\n       <use x=\"63.623047\" xlink:href=\"#DejaVuSans-32\"/>\r\n      </g>\r\n     </g>\r\n    </g>\r\n    <g id=\"xtick_8\">\r\n     <g id=\"line2d_8\">\r\n      <g>\r\n       <use style=\"stroke:#000000;stroke-width:0.8;\" x=\"522.842371\" xlink:href=\"#mc5a4bad683\" y=\"550.8\"/>\r\n      </g>\r\n     </g>\r\n     <g id=\"text_8\">\r\n      <!-- 14 -->\r\n      <g transform=\"translate(516.479871 565.398438)scale(0.1 -0.1)\">\r\n       <use xlink:href=\"#DejaVuSans-31\"/>\r\n       <use x=\"63.623047\" xlink:href=\"#DejaVuSans-34\"/>\r\n      </g>\r\n     </g>\r\n    </g>\r\n    <g id=\"xtick_9\">\r\n     <g id=\"line2d_9\">\r\n      <g>\r\n       <use style=\"stroke:#000000;stroke-width:0.8;\" x=\"585.36338\" xlink:href=\"#mc5a4bad683\" y=\"550.8\"/>\r\n      </g>\r\n     </g>\r\n     <g id=\"text_9\">\r\n      <!-- 16 -->\r\n      <g transform=\"translate(579.00088 565.398438)scale(0.1 -0.1)\">\r\n       <use xlink:href=\"#DejaVuSans-31\"/>\r\n       <use x=\"63.623047\" xlink:href=\"#DejaVuSans-36\"/>\r\n      </g>\r\n     </g>\r\n    </g>\r\n   </g>\r\n   <g id=\"matplotlib.axis_2\">\r\n    <g id=\"ytick_1\">\r\n     <g id=\"line2d_10\">\r\n      <defs>\r\n       <path d=\"M 0 0 \r\nL -3.5 0 \r\n\" id=\"mf9c56a9849\" style=\"stroke:#000000;stroke-width:0.8;\"/>\r\n      </defs>\r\n      <g>\r\n       <use style=\"stroke:#000000;stroke-width:0.8;\" x=\"85.195312\" xlink:href=\"#mf9c56a9849\" y=\"516.825\"/>\r\n      </g>\r\n     </g>\r\n     <g id=\"text_10\">\r\n      <!-- account -->\r\n      <g transform=\"translate(38.35625 520.624219)scale(0.1 -0.1)\">\r\n       <defs>\r\n        <path d=\"M 2194 1759 \r\nQ 1497 1759 1228 1600 \r\nQ 959 1441 959 1056 \r\nQ 959 750 1161 570 \r\nQ 1363 391 1709 391 \r\nQ 2188 391 2477 730 \r\nQ 2766 1069 2766 1631 \r\nL 2766 1759 \r\nL 2194 1759 \r\nz\r\nM 3341 1997 \r\nL 3341 0 \r\nL 2766 0 \r\nL 2766 531 \r\nQ 2569 213 2275 61 \r\nQ 1981 -91 1556 -91 \r\nQ 1019 -91 701 211 \r\nQ 384 513 384 1019 \r\nQ 384 1609 779 1909 \r\nQ 1175 2209 1959 2209 \r\nL 2766 2209 \r\nL 2766 2266 \r\nQ 2766 2663 2505 2880 \r\nQ 2244 3097 1772 3097 \r\nQ 1472 3097 1187 3025 \r\nQ 903 2953 641 2809 \r\nL 641 3341 \r\nQ 956 3463 1253 3523 \r\nQ 1550 3584 1831 3584 \r\nQ 2591 3584 2966 3190 \r\nQ 3341 2797 3341 1997 \r\nz\r\n\" id=\"DejaVuSans-61\" transform=\"scale(0.015625)\"/>\r\n        <path d=\"M 3122 3366 \r\nL 3122 2828 \r\nQ 2878 2963 2633 3030 \r\nQ 2388 3097 2138 3097 \r\nQ 1578 3097 1268 2742 \r\nQ 959 2388 959 1747 \r\nQ 959 1106 1268 751 \r\nQ 1578 397 2138 397 \r\nQ 2388 397 2633 464 \r\nQ 2878 531 3122 666 \r\nL 3122 134 \r\nQ 2881 22 2623 -34 \r\nQ 2366 -91 2075 -91 \r\nQ 1284 -91 818 406 \r\nQ 353 903 353 1747 \r\nQ 353 2603 823 3093 \r\nQ 1294 3584 2113 3584 \r\nQ 2378 3584 2631 3529 \r\nQ 2884 3475 3122 3366 \r\nz\r\n\" id=\"DejaVuSans-63\" transform=\"scale(0.015625)\"/>\r\n        <path d=\"M 1959 3097 \r\nQ 1497 3097 1228 2736 \r\nQ 959 2375 959 1747 \r\nQ 959 1119 1226 758 \r\nQ 1494 397 1959 397 \r\nQ 2419 397 2687 759 \r\nQ 2956 1122 2956 1747 \r\nQ 2956 2369 2687 2733 \r\nQ 2419 3097 1959 3097 \r\nz\r\nM 1959 3584 \r\nQ 2709 3584 3137 3096 \r\nQ 3566 2609 3566 1747 \r\nQ 3566 888 3137 398 \r\nQ 2709 -91 1959 -91 \r\nQ 1206 -91 779 398 \r\nQ 353 888 353 1747 \r\nQ 353 2609 779 3096 \r\nQ 1206 3584 1959 3584 \r\nz\r\n\" id=\"DejaVuSans-6f\" transform=\"scale(0.015625)\"/>\r\n        <path d=\"M 544 1381 \r\nL 544 3500 \r\nL 1119 3500 \r\nL 1119 1403 \r\nQ 1119 906 1312 657 \r\nQ 1506 409 1894 409 \r\nQ 2359 409 2629 706 \r\nQ 2900 1003 2900 1516 \r\nL 2900 3500 \r\nL 3475 3500 \r\nL 3475 0 \r\nL 2900 0 \r\nL 2900 538 \r\nQ 2691 219 2414 64 \r\nQ 2138 -91 1772 -91 \r\nQ 1169 -91 856 284 \r\nQ 544 659 544 1381 \r\nz\r\nM 1991 3584 \r\nL 1991 3584 \r\nz\r\n\" id=\"DejaVuSans-75\" transform=\"scale(0.015625)\"/>\r\n        <path d=\"M 3513 2113 \r\nL 3513 0 \r\nL 2938 0 \r\nL 2938 2094 \r\nQ 2938 2591 2744 2837 \r\nQ 2550 3084 2163 3084 \r\nQ 1697 3084 1428 2787 \r\nQ 1159 2491 1159 1978 \r\nL 1159 0 \r\nL 581 0 \r\nL 581 3500 \r\nL 1159 3500 \r\nL 1159 2956 \r\nQ 1366 3272 1645 3428 \r\nQ 1925 3584 2291 3584 \r\nQ 2894 3584 3203 3211 \r\nQ 3513 2838 3513 2113 \r\nz\r\n\" id=\"DejaVuSans-6e\" transform=\"scale(0.015625)\"/>\r\n        <path d=\"M 1172 4494 \r\nL 1172 3500 \r\nL 2356 3500 \r\nL 2356 3053 \r\nL 1172 3053 \r\nL 1172 1153 \r\nQ 1172 725 1289 603 \r\nQ 1406 481 1766 481 \r\nL 2356 481 \r\nL 2356 0 \r\nL 1766 0 \r\nQ 1100 0 847 248 \r\nQ 594 497 594 1153 \r\nL 594 3053 \r\nL 172 3053 \r\nL 172 3500 \r\nL 594 3500 \r\nL 594 4494 \r\nL 1172 4494 \r\nz\r\n\" id=\"DejaVuSans-74\" transform=\"scale(0.015625)\"/>\r\n       </defs>\r\n       <use xlink:href=\"#DejaVuSans-61\"/>\r\n       <use x=\"61.279297\" xlink:href=\"#DejaVuSans-63\"/>\r\n       <use x=\"116.259766\" xlink:href=\"#DejaVuSans-63\"/>\r\n       <use x=\"171.240234\" xlink:href=\"#DejaVuSans-6f\"/>\r\n       <use x=\"232.421875\" xlink:href=\"#DejaVuSans-75\"/>\r\n       <use x=\"295.800781\" xlink:href=\"#DejaVuSans-6e\"/>\r\n       <use x=\"359.179688\" xlink:href=\"#DejaVuSans-74\"/>\r\n      </g>\r\n     </g>\r\n    </g>\r\n    <g id=\"ytick_2\">\r\n     <g id=\"line2d_11\">\r\n      <g>\r\n       <use style=\"stroke:#000000;stroke-width:0.8;\" x=\"85.195312\" xlink:href=\"#mf9c56a9849\" y=\"448.875\"/>\r\n      </g>\r\n     </g>\r\n     <g id=\"text_11\">\r\n      <!-- host -->\r\n      <g transform=\"translate(56.609375 452.674219)scale(0.1 -0.1)\">\r\n       <defs>\r\n        <path d=\"M 3513 2113 \r\nL 3513 0 \r\nL 2938 0 \r\nL 2938 2094 \r\nQ 2938 2591 2744 2837 \r\nQ 2550 3084 2163 3084 \r\nQ 1697 3084 1428 2787 \r\nQ 1159 2491 1159 1978 \r\nL 1159 0 \r\nL 581 0 \r\nL 581 4863 \r\nL 1159 4863 \r\nL 1159 2956 \r\nQ 1366 3272 1645 3428 \r\nQ 1925 3584 2291 3584 \r\nQ 2894 3584 3203 3211 \r\nQ 3513 2838 3513 2113 \r\nz\r\n\" id=\"DejaVuSans-68\" transform=\"scale(0.015625)\"/>\r\n        <path d=\"M 2834 3397 \r\nL 2834 2853 \r\nQ 2591 2978 2328 3040 \r\nQ 2066 3103 1784 3103 \r\nQ 1356 3103 1142 2972 \r\nQ 928 2841 928 2578 \r\nQ 928 2378 1081 2264 \r\nQ 1234 2150 1697 2047 \r\nL 1894 2003 \r\nQ 2506 1872 2764 1633 \r\nQ 3022 1394 3022 966 \r\nQ 3022 478 2636 193 \r\nQ 2250 -91 1575 -91 \r\nQ 1294 -91 989 -36 \r\nQ 684 19 347 128 \r\nL 347 722 \r\nQ 666 556 975 473 \r\nQ 1284 391 1588 391 \r\nQ 1994 391 2212 530 \r\nQ 2431 669 2431 922 \r\nQ 2431 1156 2273 1281 \r\nQ 2116 1406 1581 1522 \r\nL 1381 1569 \r\nQ 847 1681 609 1914 \r\nQ 372 2147 372 2553 \r\nQ 372 3047 722 3315 \r\nQ 1072 3584 1716 3584 \r\nQ 2034 3584 2315 3537 \r\nQ 2597 3491 2834 3397 \r\nz\r\n\" id=\"DejaVuSans-73\" transform=\"scale(0.015625)\"/>\r\n       </defs>\r\n       <use xlink:href=\"#DejaVuSans-68\"/>\r\n       <use x=\"63.378906\" xlink:href=\"#DejaVuSans-6f\"/>\r\n       <use x=\"124.560547\" xlink:href=\"#DejaVuSans-73\"/>\r\n       <use x=\"176.660156\" xlink:href=\"#DejaVuSans-74\"/>\r\n      </g>\r\n     </g>\r\n    </g>\r\n    <g id=\"ytick_3\">\r\n     <g id=\"line2d_12\">\r\n      <g>\r\n       <use style=\"stroke:#000000;stroke-width:0.8;\" x=\"85.195312\" xlink:href=\"#mf9c56a9849\" y=\"380.925\"/>\r\n      </g>\r\n     </g>\r\n     <g id=\"text_12\">\r\n      <!-- ipaddress -->\r\n      <g transform=\"translate(29.785937 384.724219)scale(0.1 -0.1)\">\r\n       <defs>\r\n        <path d=\"M 603 3500 \r\nL 1178 3500 \r\nL 1178 0 \r\nL 603 0 \r\nL 603 3500 \r\nz\r\nM 603 4863 \r\nL 1178 4863 \r\nL 1178 4134 \r\nL 603 4134 \r\nL 603 4863 \r\nz\r\n\" id=\"DejaVuSans-69\" transform=\"scale(0.015625)\"/>\r\n        <path d=\"M 1159 525 \r\nL 1159 -1331 \r\nL 581 -1331 \r\nL 581 3500 \r\nL 1159 3500 \r\nL 1159 2969 \r\nQ 1341 3281 1617 3432 \r\nQ 1894 3584 2278 3584 \r\nQ 2916 3584 3314 3078 \r\nQ 3713 2572 3713 1747 \r\nQ 3713 922 3314 415 \r\nQ 2916 -91 2278 -91 \r\nQ 1894 -91 1617 61 \r\nQ 1341 213 1159 525 \r\nz\r\nM 3116 1747 \r\nQ 3116 2381 2855 2742 \r\nQ 2594 3103 2138 3103 \r\nQ 1681 3103 1420 2742 \r\nQ 1159 2381 1159 1747 \r\nQ 1159 1113 1420 752 \r\nQ 1681 391 2138 391 \r\nQ 2594 391 2855 752 \r\nQ 3116 1113 3116 1747 \r\nz\r\n\" id=\"DejaVuSans-70\" transform=\"scale(0.015625)\"/>\r\n        <path d=\"M 2906 2969 \r\nL 2906 4863 \r\nL 3481 4863 \r\nL 3481 0 \r\nL 2906 0 \r\nL 2906 525 \r\nQ 2725 213 2448 61 \r\nQ 2172 -91 1784 -91 \r\nQ 1150 -91 751 415 \r\nQ 353 922 353 1747 \r\nQ 353 2572 751 3078 \r\nQ 1150 3584 1784 3584 \r\nQ 2172 3584 2448 3432 \r\nQ 2725 3281 2906 2969 \r\nz\r\nM 947 1747 \r\nQ 947 1113 1208 752 \r\nQ 1469 391 1925 391 \r\nQ 2381 391 2643 752 \r\nQ 2906 1113 2906 1747 \r\nQ 2906 2381 2643 2742 \r\nQ 2381 3103 1925 3103 \r\nQ 1469 3103 1208 2742 \r\nQ 947 2381 947 1747 \r\nz\r\n\" id=\"DejaVuSans-64\" transform=\"scale(0.015625)\"/>\r\n        <path d=\"M 2631 2963 \r\nQ 2534 3019 2420 3045 \r\nQ 2306 3072 2169 3072 \r\nQ 1681 3072 1420 2755 \r\nQ 1159 2438 1159 1844 \r\nL 1159 0 \r\nL 581 0 \r\nL 581 3500 \r\nL 1159 3500 \r\nL 1159 2956 \r\nQ 1341 3275 1631 3429 \r\nQ 1922 3584 2338 3584 \r\nQ 2397 3584 2469 3576 \r\nQ 2541 3569 2628 3553 \r\nL 2631 2963 \r\nz\r\n\" id=\"DejaVuSans-72\" transform=\"scale(0.015625)\"/>\r\n        <path d=\"M 3597 1894 \r\nL 3597 1613 \r\nL 953 1613 \r\nQ 991 1019 1311 708 \r\nQ 1631 397 2203 397 \r\nQ 2534 397 2845 478 \r\nQ 3156 559 3463 722 \r\nL 3463 178 \r\nQ 3153 47 2828 -22 \r\nQ 2503 -91 2169 -91 \r\nQ 1331 -91 842 396 \r\nQ 353 884 353 1716 \r\nQ 353 2575 817 3079 \r\nQ 1281 3584 2069 3584 \r\nQ 2775 3584 3186 3129 \r\nQ 3597 2675 3597 1894 \r\nz\r\nM 3022 2063 \r\nQ 3016 2534 2758 2815 \r\nQ 2500 3097 2075 3097 \r\nQ 1594 3097 1305 2825 \r\nQ 1016 2553 972 2059 \r\nL 3022 2063 \r\nz\r\n\" id=\"DejaVuSans-65\" transform=\"scale(0.015625)\"/>\r\n       </defs>\r\n       <use xlink:href=\"#DejaVuSans-69\"/>\r\n       <use x=\"27.783203\" xlink:href=\"#DejaVuSans-70\"/>\r\n       <use x=\"91.259766\" xlink:href=\"#DejaVuSans-61\"/>\r\n       <use x=\"152.539062\" xlink:href=\"#DejaVuSans-64\"/>\r\n       <use x=\"216.015625\" xlink:href=\"#DejaVuSans-64\"/>\r\n       <use x=\"279.492188\" xlink:href=\"#DejaVuSans-72\"/>\r\n       <use x=\"318.355469\" xlink:href=\"#DejaVuSans-65\"/>\r\n       <use x=\"379.878906\" xlink:href=\"#DejaVuSans-73\"/>\r\n       <use x=\"431.978516\" xlink:href=\"#DejaVuSans-73\"/>\r\n      </g>\r\n     </g>\r\n    </g>\r\n    <g id=\"ytick_4\">\r\n     <g id=\"line2d_13\">\r\n      <g>\r\n       <use style=\"stroke:#000000;stroke-width:0.8;\" x=\"85.195312\" xlink:href=\"#mf9c56a9849\" y=\"312.975\"/>\r\n      </g>\r\n     </g>\r\n     <g id=\"text_13\">\r\n      <!-- process -->\r\n      <g transform=\"translate(39.771875 316.774219)scale(0.1 -0.1)\">\r\n       <use xlink:href=\"#DejaVuSans-70\"/>\r\n       <use x=\"63.476562\" xlink:href=\"#DejaVuSans-72\"/>\r\n       <use x=\"102.339844\" xlink:href=\"#DejaVuSans-6f\"/>\r\n       <use x=\"163.521484\" xlink:href=\"#DejaVuSans-63\"/>\r\n       <use x=\"218.501953\" xlink:href=\"#DejaVuSans-65\"/>\r\n       <use x=\"280.025391\" xlink:href=\"#DejaVuSans-73\"/>\r\n       <use x=\"332.125\" xlink:href=\"#DejaVuSans-73\"/>\r\n      </g>\r\n     </g>\r\n    </g>\r\n    <g id=\"ytick_5\">\r\n     <g id=\"line2d_14\">\r\n      <g>\r\n       <use style=\"stroke:#000000;stroke-width:0.8;\" x=\"85.195312\" xlink:href=\"#mf9c56a9849\" y=\"245.025\"/>\r\n      </g>\r\n     </g>\r\n     <g id=\"text_14\">\r\n      <!-- url -->\r\n      <g transform=\"translate(64.96875 248.824219)scale(0.1 -0.1)\">\r\n       <defs>\r\n        <path d=\"M 603 4863 \r\nL 1178 4863 \r\nL 1178 0 \r\nL 603 0 \r\nL 603 4863 \r\nz\r\n\" id=\"DejaVuSans-6c\" transform=\"scale(0.015625)\"/>\r\n       </defs>\r\n       <use xlink:href=\"#DejaVuSans-75\"/>\r\n       <use x=\"63.378906\" xlink:href=\"#DejaVuSans-72\"/>\r\n       <use x=\"104.492188\" xlink:href=\"#DejaVuSans-6c\"/>\r\n      </g>\r\n     </g>\r\n    </g>\r\n    <g id=\"ytick_6\">\r\n     <g id=\"line2d_15\">\r\n      <g>\r\n       <use style=\"stroke:#000000;stroke-width:0.8;\" x=\"85.195312\" xlink:href=\"#mf9c56a9849\" y=\"177.075\"/>\r\n      </g>\r\n     </g>\r\n     <g id=\"text_15\">\r\n      <!-- file -->\r\n      <g transform=\"translate(62.965625 180.874219)scale(0.1 -0.1)\">\r\n       <defs>\r\n        <path d=\"M 2375 4863 \r\nL 2375 4384 \r\nL 1825 4384 \r\nQ 1516 4384 1395 4259 \r\nQ 1275 4134 1275 3809 \r\nL 1275 3500 \r\nL 2222 3500 \r\nL 2222 3053 \r\nL 1275 3053 \r\nL 1275 0 \r\nL 697 0 \r\nL 697 3053 \r\nL 147 3053 \r\nL 147 3500 \r\nL 697 3500 \r\nL 697 3744 \r\nQ 697 4328 969 4595 \r\nQ 1241 4863 1831 4863 \r\nL 2375 4863 \r\nz\r\n\" id=\"DejaVuSans-66\" transform=\"scale(0.015625)\"/>\r\n       </defs>\r\n       <use xlink:href=\"#DejaVuSans-66\"/>\r\n       <use x=\"35.205078\" xlink:href=\"#DejaVuSans-69\"/>\r\n       <use x=\"62.988281\" xlink:href=\"#DejaVuSans-6c\"/>\r\n       <use x=\"90.771484\" xlink:href=\"#DejaVuSans-65\"/>\r\n      </g>\r\n     </g>\r\n    </g>\r\n    <g id=\"ytick_7\">\r\n     <g id=\"line2d_16\">\r\n      <g>\r\n       <use style=\"stroke:#000000;stroke-width:0.8;\" x=\"85.195312\" xlink:href=\"#mf9c56a9849\" y=\"109.125\"/>\r\n      </g>\r\n     </g>\r\n     <g id=\"text_16\">\r\n      <!-- azureresource -->\r\n      <g transform=\"translate(7.2 112.924219)scale(0.1 -0.1)\">\r\n       <defs>\r\n        <path d=\"M 353 3500 \r\nL 3084 3500 \r\nL 3084 2975 \r\nL 922 459 \r\nL 3084 459 \r\nL 3084 0 \r\nL 275 0 \r\nL 275 525 \r\nL 2438 3041 \r\nL 353 3041 \r\nL 353 3500 \r\nz\r\n\" id=\"DejaVuSans-7a\" transform=\"scale(0.015625)\"/>\r\n       </defs>\r\n       <use xlink:href=\"#DejaVuSans-61\"/>\r\n       <use x=\"61.279297\" xlink:href=\"#DejaVuSans-7a\"/>\r\n       <use x=\"113.769531\" xlink:href=\"#DejaVuSans-75\"/>\r\n       <use x=\"177.148438\" xlink:href=\"#DejaVuSans-72\"/>\r\n       <use x=\"216.011719\" xlink:href=\"#DejaVuSans-65\"/>\r\n       <use x=\"277.535156\" xlink:href=\"#DejaVuSans-72\"/>\r\n       <use x=\"316.398438\" xlink:href=\"#DejaVuSans-65\"/>\r\n       <use x=\"377.921875\" xlink:href=\"#DejaVuSans-73\"/>\r\n       <use x=\"430.021484\" xlink:href=\"#DejaVuSans-6f\"/>\r\n       <use x=\"491.203125\" xlink:href=\"#DejaVuSans-75\"/>\r\n       <use x=\"554.582031\" xlink:href=\"#DejaVuSans-72\"/>\r\n       <use x=\"593.445312\" xlink:href=\"#DejaVuSans-63\"/>\r\n       <use x=\"648.425781\" xlink:href=\"#DejaVuSans-65\"/>\r\n      </g>\r\n     </g>\r\n    </g>\r\n    <g id=\"ytick_8\">\r\n     <g id=\"line2d_17\">\r\n      <g>\r\n       <use style=\"stroke:#000000;stroke-width:0.8;\" x=\"85.195312\" xlink:href=\"#mf9c56a9849\" y=\"41.175\"/>\r\n      </g>\r\n     </g>\r\n     <g id=\"text_17\">\r\n      <!-- hash -->\r\n      <g transform=\"translate(54.182812 44.974219)scale(0.1 -0.1)\">\r\n       <use xlink:href=\"#DejaVuSans-68\"/>\r\n       <use x=\"63.378906\" xlink:href=\"#DejaVuSans-61\"/>\r\n       <use x=\"124.658203\" xlink:href=\"#DejaVuSans-73\"/>\r\n       <use x=\"176.757812\" xlink:href=\"#DejaVuSans-68\"/>\r\n      </g>\r\n     </g>\r\n    </g>\r\n   </g>\r\n   <g id=\"patch_11\">\r\n    <path d=\"M 85.195312 550.8 \r\nL 85.195312 7.2 \r\n\" style=\"fill:none;stroke:#000000;stroke-linecap:square;stroke-linejoin:miter;stroke-width:0.8;\"/>\r\n   </g>\r\n   <g id=\"patch_12\">\r\n    <path d=\"M 643.195312 550.8 \r\nL 643.195312 7.2 \r\n\" style=\"fill:none;stroke:#000000;stroke-linecap:square;stroke-linejoin:miter;stroke-width:0.8;\"/>\r\n   </g>\r\n   <g id=\"patch_13\">\r\n    <path d=\"M 85.195312 550.8 \r\nL 643.195312 550.8 \r\n\" style=\"fill:none;stroke:#000000;stroke-linecap:square;stroke-linejoin:miter;stroke-width:0.8;\"/>\r\n   </g>\r\n   <g id=\"patch_14\">\r\n    <path d=\"M 85.195312 7.2 \r\nL 643.195312 7.2 \r\n\" style=\"fill:none;stroke:#000000;stroke-linecap:square;stroke-linejoin:miter;stroke-width:0.8;\"/>\r\n   </g>\r\n  </g>\r\n </g>\r\n <defs>\r\n  <clipPath id=\"p0f8c42c4e6\">\r\n   <rect height=\"543.6\" width=\"558\" x=\"85.195312\" y=\"7.2\"/>\r\n  </clipPath>\r\n </defs>\r\n</svg>\r\n",
      "image/png": "[encoded data removed]"
     },
     "metadata": {
      "needs_background": "light"
     }
    }
   ],
   "metadata": {}
  },
  {
   "cell_type": "code",
   "execution_count": 9,
   "source": [
    "e.show_single_entity_graph('account')"
   ],
   "outputs": [],
   "metadata": {}
  },
  {
   "cell_type": "code",
   "execution_count": 11,
   "source": [
    "e.select_tables()"
   ],
   "outputs": [
    {
     "output_type": "display_data",
     "data": {
      "text/plain": [
       "VBox(children=(Text(value='', description='Filter:', style=DescriptionStyle(description_width='initial')), HBo…"
      ],
      "application/vnd.jupyter.widget-view+json": {
       "version_major": 2,
       "version_minor": 0,
       "model_id": "36798d6897344078b9ea68f28b261a09"
      }
     },
     "metadata": {}
    }
   ],
   "metadata": {}
  },
  {
   "cell_type": "code",
   "execution_count": 12,
   "source": [
    "e.selected_tables.selected_items"
   ],
   "outputs": [
    {
     "output_type": "execute_result",
     "data": {
      "text/plain": [
       "['CommonSecurityLog', 'OfficeActivity', 'SecurityEvent', 'SigninLogs']"
      ]
     },
     "metadata": {},
     "execution_count": 12
    }
   ],
   "metadata": {}
  },
  {
   "cell_type": "code",
   "execution_count": 13,
   "source": [
    "e.detect_entities()"
   ],
   "outputs": [
    {
     "output_type": "stream",
     "name": "stderr",
     "text": [
      "100%|██████████| 4/4 [00:39<00:00,  9.92s/it]\n"
     ]
    },
    {
     "output_type": "execute_result",
     "data": {
      "text/plain": [
       "{'ipaddress': [('CommonSecurityLog', 'DestinationIP'),\n",
       "  ('CommonSecurityLog', 'SourceIP'),\n",
       "  ('CommonSecurityLog', 'DestinationTranslatedAddress'),\n",
       "  ('CommonSecurityLog', 'SourceTranslatedAddress'),\n",
       "  ('OfficeActivity', 'ClientIP'),\n",
       "  ('OfficeActivity', 'ClientIP_'),\n",
       "  ('OfficeActivity', 'Client_IPAddress'),\n",
       "  ('SecurityEvent', 'IpAddress'),\n",
       "  ('SigninLogs', 'IPAddress')],\n",
       " 'host': [('CommonSecurityLog', 'DestinationHostName'),\n",
       "  ('OfficeActivity', 'OrganizationName'),\n",
       "  ('SecurityEvent', 'Computer'),\n",
       "  ('SigninLogs', 'Resource'),\n",
       "  ('SigninLogs', 'ResourceGroup')],\n",
       " 'account': [('CommonSecurityLog', 'SourceUserName'),\n",
       "  ('OfficeActivity', 'UserId'),\n",
       "  ('OfficeActivity', 'UserId_'),\n",
       "  ('OfficeActivity', 'MailboxOwnerUPN'),\n",
       "  ('OfficeActivity', 'MailboxOwnerSid'),\n",
       "  ('OfficeActivity', 'LogonUserSid'),\n",
       "  ('SecurityEvent', 'Account'),\n",
       "  ('SecurityEvent', 'FilePath'),\n",
       "  ('SecurityEvent', 'MandatoryLabel'),\n",
       "  ('SecurityEvent', 'SubjectAccount'),\n",
       "  ('SecurityEvent', 'SubjectUserSid'),\n",
       "  ('SecurityEvent', 'TargetUser'),\n",
       "  ('SecurityEvent', 'TargetUserSid'),\n",
       "  ('SigninLogs', 'AlternateSignInName'),\n",
       "  ('SigninLogs', 'UserPrincipalName'),\n",
       "  ('SigninLogs', 'SignInIdentifier')],\n",
       " 'azureresource': [('CommonSecurityLog', '_ResourceId'),\n",
       "  ('SecurityEvent', '_ResourceId'),\n",
       "  ('SigninLogs', 'ResourceId')],\n",
       " 'url': [('OfficeActivity', 'OfficeObjectId'),\n",
       "  ('OfficeActivity', 'Site_Url'),\n",
       "  ('OfficeActivity', 'Site_Url_')],\n",
       " 'process': [('OfficeActivity', 'ClientProcessName'),\n",
       "  ('SecurityEvent', 'NewProcessName'),\n",
       "  ('SecurityEvent', 'ParentProcessName'),\n",
       "  ('SecurityEvent', 'Process'),\n",
       "  ('SecurityEvent', 'ProcessName')],\n",
       " 'hash': [('SecurityEvent', 'FileHash')],\n",
       " 'file': [('SecurityEvent', 'ObjectName'), ('SecurityEvent', 'TargetAccount')]}"
      ]
     },
     "metadata": {},
     "execution_count": 13
    }
   ],
   "metadata": {}
  },
  {
   "cell_type": "code",
   "execution_count": 14,
   "source": [
    "e.table_match_to_html('SigninLogs')"
   ],
   "outputs": [
    {
     "output_type": "execute_result",
     "data": {
      "text/plain": [
       "<IPython.core.display.HTML object>"
      ],
      "text/html": [
       "<h2>Column entities</h2> <table><thead><tr><th>Column</th><th>Matches</th></tr></thead><tbody><tr><td><b>TenantId</b></td><td></td><tr><tr><td><b>ResourceId</b></td><td><b>azureresource</b> [p:0] (matched RESOURCEID_REGEX 100.0%,  all rows 100.0%) &nbsp;&nbsp;<b>file</b> [p:2] (matched LXPATH_REGEX 100.0%,  all rows 100.0%) </td><tr><tr><td><b>CorrelationId</b></td><td></td><tr><tr><td><b>Resource</b></td><td><b>host</b> [p:1] (matched DNS_REGEX 100.0%,  all rows 100.0%) </td><tr><tr><td><b>ResourceGroup</b></td><td><b>host</b> [p:1] (matched DNS_REGEX 100.0%,  all rows 100.0%) </td><tr><tr><td><b>AlternateSignInName</b></td><td><b>account</b> [p:0] (matched EMAIL_REGEX 100.0%,  all rows 34.0%) </td><tr><tr><td><b>AppId</b></td><td></td><tr><tr><td><b>Id</b></td><td></td><tr><tr><td><b>IPAddress</b></td><td><b>ipaddress</b> [p:0] (matched IPV6_REGEX 7.0%,  all rows 7.0%) </td><tr><tr><td><b>OriginalRequestId</b></td><td></td><tr><tr><td><b>ResourceIdentity</b></td><td></td><tr><tr><td><b>UserId</b></td><td></td><tr><tr><td><b>UserPrincipalName</b></td><td><b>account</b> [p:0] (matched EMAIL_REGEX 100.0%,  all rows 100.0%) </td><tr><tr><td><b>AADTenantId</b></td><td></td><tr><tr><td><b>SignInIdentifier</b></td><td><b>account</b> [p:0] (matched EMAIL_REGEX 100.0%,  all rows 34.0%) </td><tr><tr><td><b>ResourceTenantId</b></td><td></td><tr><tr><td><b>HomeTenantId</b></td><td></td><tr></tbody></table>"
      ]
     },
     "metadata": {},
     "execution_count": 14
    }
   ],
   "metadata": {}
  },
  {
   "cell_type": "code",
   "execution_count": 15,
   "source": [
    "e.show_sankey()"
   ],
   "outputs": [
    {
     "output_type": "display_data",
     "data": {
      "application/vnd.plotly.v1+json": {
       "config": {
        "plotlyServerURL": "https://plot.ly"
       },
       "data": [
        {
         "link": {
          "source": [
           0,
           0,
           0,
           0,
           1,
           1,
           1,
           1,
           2,
           2,
           2,
           2,
           3,
           3,
           3,
           4,
           5,
           5,
           6,
           7
          ],
          "target": [
           8,
           9,
           10,
           11,
           8,
           9,
           10,
           11,
           8,
           9,
           10,
           11,
           8,
           10,
           11,
           9,
           9,
           10,
           10,
           10
          ],
          "value": [
           4,
           3,
           1,
           1,
           1,
           1,
           1,
           2,
           1,
           5,
           7,
           3,
           1,
           1,
           1,
           3,
           1,
           4,
           1,
           2
          ]
         },
         "node": {
          "color": "blue",
          "label": [
           "ipaddress",
           "host",
           "account",
           "azureresource",
           "url",
           "process",
           "hash",
           "file",
           "CommonSecurityLog",
           "OfficeActivity",
           "SecurityEvent",
           "SigninLogs"
          ],
          "line": {
           "color": "black",
           "width": 0.5
          },
          "pad": 15,
          "thickness": 20
         },
         "type": "sankey"
        }
       ],
       "layout": {
        "font": {
         "size": 10
        },
        "template": {
         "data": {
          "bar": [
           {
            "error_x": {
             "color": "#2a3f5f"
            },
            "error_y": {
             "color": "#2a3f5f"
            },
            "marker": {
             "line": {
              "color": "#E5ECF6",
              "width": 0.5
             },
             "pattern": {
              "fillmode": "overlay",
              "size": 10,
              "solidity": 0.2
             }
            },
            "type": "bar"
           }
          ],
          "barpolar": [
           {
            "marker": {
             "line": {
              "color": "#E5ECF6",
              "width": 0.5
             },
             "pattern": {
              "fillmode": "overlay",
              "size": 10,
              "solidity": 0.2
             }
            },
            "type": "barpolar"
           }
          ],
          "carpet": [
           {
            "aaxis": {
             "endlinecolor": "#2a3f5f",
             "gridcolor": "white",
             "linecolor": "white",
             "minorgridcolor": "white",
             "startlinecolor": "#2a3f5f"
            },
            "baxis": {
             "endlinecolor": "#2a3f5f",
             "gridcolor": "white",
             "linecolor": "white",
             "minorgridcolor": "white",
             "startlinecolor": "#2a3f5f"
            },
            "type": "carpet"
           }
          ],
          "choropleth": [
           {
            "colorbar": {
             "outlinewidth": 0,
             "ticks": ""
            },
            "type": "choropleth"
           }
          ],
          "contour": [
           {
            "colorbar": {
             "outlinewidth": 0,
             "ticks": ""
            },
            "colorscale": [
             [
              0,
              "#0d0887"
             ],
             [
              0.1111111111111111,
              "#46039f"
             ],
             [
              0.2222222222222222,
              "#7201a8"
             ],
             [
              0.3333333333333333,
              "#9c179e"
             ],
             [
              0.4444444444444444,
              "#bd3786"
             ],
             [
              0.5555555555555556,
              "#d8576b"
             ],
             [
              0.6666666666666666,
              "#ed7953"
             ],
             [
              0.7777777777777778,
              "#fb9f3a"
             ],
             [
              0.8888888888888888,
              "#fdca26"
             ],
             [
              1,
              "#f0f921"
             ]
            ],
            "type": "contour"
           }
          ],
          "contourcarpet": [
           {
            "colorbar": {
             "outlinewidth": 0,
             "ticks": ""
            },
            "type": "contourcarpet"
           }
          ],
          "heatmap": [
           {
            "colorbar": {
             "outlinewidth": 0,
             "ticks": ""
            },
            "colorscale": [
             [
              0,
              "#0d0887"
             ],
             [
              0.1111111111111111,
              "#46039f"
             ],
             [
              0.2222222222222222,
              "#7201a8"
             ],
             [
              0.3333333333333333,
              "#9c179e"
             ],
             [
              0.4444444444444444,
              "#bd3786"
             ],
             [
              0.5555555555555556,
              "#d8576b"
             ],
             [
              0.6666666666666666,
              "#ed7953"
             ],
             [
              0.7777777777777778,
              "#fb9f3a"
             ],
             [
              0.8888888888888888,
              "#fdca26"
             ],
             [
              1,
              "#f0f921"
             ]
            ],
            "type": "heatmap"
           }
          ],
          "heatmapgl": [
           {
            "colorbar": {
             "outlinewidth": 0,
             "ticks": ""
            },
            "colorscale": [
             [
              0,
              "#0d0887"
             ],
             [
              0.1111111111111111,
              "#46039f"
             ],
             [
              0.2222222222222222,
              "#7201a8"
             ],
             [
              0.3333333333333333,
              "#9c179e"
             ],
             [
              0.4444444444444444,
              "#bd3786"
             ],
             [
              0.5555555555555556,
              "#d8576b"
             ],
             [
              0.6666666666666666,
              "#ed7953"
             ],
             [
              0.7777777777777778,
              "#fb9f3a"
             ],
             [
              0.8888888888888888,
              "#fdca26"
             ],
             [
              1,
              "#f0f921"
             ]
            ],
            "type": "heatmapgl"
           }
          ],
          "histogram": [
           {
            "marker": {
             "pattern": {
              "fillmode": "overlay",
              "size": 10,
              "solidity": 0.2
             }
            },
            "type": "histogram"
           }
          ],
          "histogram2d": [
           {
            "colorbar": {
             "outlinewidth": 0,
             "ticks": ""
            },
            "colorscale": [
             [
              0,
              "#0d0887"
             ],
             [
              0.1111111111111111,
              "#46039f"
             ],
             [
              0.2222222222222222,
              "#7201a8"
             ],
             [
              0.3333333333333333,
              "#9c179e"
             ],
             [
              0.4444444444444444,
              "#bd3786"
             ],
             [
              0.5555555555555556,
              "#d8576b"
             ],
             [
              0.6666666666666666,
              "#ed7953"
             ],
             [
              0.7777777777777778,
              "#fb9f3a"
             ],
             [
              0.8888888888888888,
              "#fdca26"
             ],
             [
              1,
              "#f0f921"
             ]
            ],
            "type": "histogram2d"
           }
          ],
          "histogram2dcontour": [
           {
            "colorbar": {
             "outlinewidth": 0,
             "ticks": ""
            },
            "colorscale": [
             [
              0,
              "#0d0887"
             ],
             [
              0.1111111111111111,
              "#46039f"
             ],
             [
              0.2222222222222222,
              "#7201a8"
             ],
             [
              0.3333333333333333,
              "#9c179e"
             ],
             [
              0.4444444444444444,
              "#bd3786"
             ],
             [
              0.5555555555555556,
              "#d8576b"
             ],
             [
              0.6666666666666666,
              "#ed7953"
             ],
             [
              0.7777777777777778,
              "#fb9f3a"
             ],
             [
              0.8888888888888888,
              "#fdca26"
             ],
             [
              1,
              "#f0f921"
             ]
            ],
            "type": "histogram2dcontour"
           }
          ],
          "mesh3d": [
           {
            "colorbar": {
             "outlinewidth": 0,
             "ticks": ""
            },
            "type": "mesh3d"
           }
          ],
          "parcoords": [
           {
            "line": {
             "colorbar": {
              "outlinewidth": 0,
              "ticks": ""
             }
            },
            "type": "parcoords"
           }
          ],
          "pie": [
           {
            "automargin": true,
            "type": "pie"
           }
          ],
          "scatter": [
           {
            "marker": {
             "colorbar": {
              "outlinewidth": 0,
              "ticks": ""
             }
            },
            "type": "scatter"
           }
          ],
          "scatter3d": [
           {
            "line": {
             "colorbar": {
              "outlinewidth": 0,
              "ticks": ""
             }
            },
            "marker": {
             "colorbar": {
              "outlinewidth": 0,
              "ticks": ""
             }
            },
            "type": "scatter3d"
           }
          ],
          "scattercarpet": [
           {
            "marker": {
             "colorbar": {
              "outlinewidth": 0,
              "ticks": ""
             }
            },
            "type": "scattercarpet"
           }
          ],
          "scattergeo": [
           {
            "marker": {
             "colorbar": {
              "outlinewidth": 0,
              "ticks": ""
             }
            },
            "type": "scattergeo"
           }
          ],
          "scattergl": [
           {
            "marker": {
             "colorbar": {
              "outlinewidth": 0,
              "ticks": ""
             }
            },
            "type": "scattergl"
           }
          ],
          "scattermapbox": [
           {
            "marker": {
             "colorbar": {
              "outlinewidth": 0,
              "ticks": ""
             }
            },
            "type": "scattermapbox"
           }
          ],
          "scatterpolar": [
           {
            "marker": {
             "colorbar": {
              "outlinewidth": 0,
              "ticks": ""
             }
            },
            "type": "scatterpolar"
           }
          ],
          "scatterpolargl": [
           {
            "marker": {
             "colorbar": {
              "outlinewidth": 0,
              "ticks": ""
             }
            },
            "type": "scatterpolargl"
           }
          ],
          "scatterternary": [
           {
            "marker": {
             "colorbar": {
              "outlinewidth": 0,
              "ticks": ""
             }
            },
            "type": "scatterternary"
           }
          ],
          "surface": [
           {
            "colorbar": {
             "outlinewidth": 0,
             "ticks": ""
            },
            "colorscale": [
             [
              0,
              "#0d0887"
             ],
             [
              0.1111111111111111,
              "#46039f"
             ],
             [
              0.2222222222222222,
              "#7201a8"
             ],
             [
              0.3333333333333333,
              "#9c179e"
             ],
             [
              0.4444444444444444,
              "#bd3786"
             ],
             [
              0.5555555555555556,
              "#d8576b"
             ],
             [
              0.6666666666666666,
              "#ed7953"
             ],
             [
              0.7777777777777778,
              "#fb9f3a"
             ],
             [
              0.8888888888888888,
              "#fdca26"
             ],
             [
              1,
              "#f0f921"
             ]
            ],
            "type": "surface"
           }
          ],
          "table": [
           {
            "cells": {
             "fill": {
              "color": "#EBF0F8"
             },
             "line": {
              "color": "white"
             }
            },
            "header": {
             "fill": {
              "color": "#C8D4E3"
             },
             "line": {
              "color": "white"
             }
            },
            "type": "table"
           }
          ]
         },
         "layout": {
          "annotationdefaults": {
           "arrowcolor": "#2a3f5f",
           "arrowhead": 0,
           "arrowwidth": 1
          },
          "autotypenumbers": "strict",
          "coloraxis": {
           "colorbar": {
            "outlinewidth": 0,
            "ticks": ""
           }
          },
          "colorscale": {
           "diverging": [
            [
             0,
             "#8e0152"
            ],
            [
             0.1,
             "#c51b7d"
            ],
            [
             0.2,
             "#de77ae"
            ],
            [
             0.3,
             "#f1b6da"
            ],
            [
             0.4,
             "#fde0ef"
            ],
            [
             0.5,
             "#f7f7f7"
            ],
            [
             0.6,
             "#e6f5d0"
            ],
            [
             0.7,
             "#b8e186"
            ],
            [
             0.8,
             "#7fbc41"
            ],
            [
             0.9,
             "#4d9221"
            ],
            [
             1,
             "#276419"
            ]
           ],
           "sequential": [
            [
             0,
             "#0d0887"
            ],
            [
             0.1111111111111111,
             "#46039f"
            ],
            [
             0.2222222222222222,
             "#7201a8"
            ],
            [
             0.3333333333333333,
             "#9c179e"
            ],
            [
             0.4444444444444444,
             "#bd3786"
            ],
            [
             0.5555555555555556,
             "#d8576b"
            ],
            [
             0.6666666666666666,
             "#ed7953"
            ],
            [
             0.7777777777777778,
             "#fb9f3a"
            ],
            [
             0.8888888888888888,
             "#fdca26"
            ],
            [
             1,
             "#f0f921"
            ]
           ],
           "sequentialminus": [
            [
             0,
             "#0d0887"
            ],
            [
             0.1111111111111111,
             "#46039f"
            ],
            [
             0.2222222222222222,
             "#7201a8"
            ],
            [
             0.3333333333333333,
             "#9c179e"
            ],
            [
             0.4444444444444444,
             "#bd3786"
            ],
            [
             0.5555555555555556,
             "#d8576b"
            ],
            [
             0.6666666666666666,
             "#ed7953"
            ],
            [
             0.7777777777777778,
             "#fb9f3a"
            ],
            [
             0.8888888888888888,
             "#fdca26"
            ],
            [
             1,
             "#f0f921"
            ]
           ]
          },
          "colorway": [
           "#636efa",
           "#EF553B",
           "#00cc96",
           "#ab63fa",
           "#FFA15A",
           "#19d3f3",
           "#FF6692",
           "#B6E880",
           "#FF97FF",
           "#FECB52"
          ],
          "font": {
           "color": "#2a3f5f"
          },
          "geo": {
           "bgcolor": "white",
           "lakecolor": "white",
           "landcolor": "#E5ECF6",
           "showlakes": true,
           "showland": true,
           "subunitcolor": "white"
          },
          "hoverlabel": {
           "align": "left"
          },
          "hovermode": "closest",
          "mapbox": {
           "style": "light"
          },
          "paper_bgcolor": "white",
          "plot_bgcolor": "#E5ECF6",
          "polar": {
           "angularaxis": {
            "gridcolor": "white",
            "linecolor": "white",
            "ticks": ""
           },
           "bgcolor": "#E5ECF6",
           "radialaxis": {
            "gridcolor": "white",
            "linecolor": "white",
            "ticks": ""
           }
          },
          "scene": {
           "xaxis": {
            "backgroundcolor": "#E5ECF6",
            "gridcolor": "white",
            "gridwidth": 2,
            "linecolor": "white",
            "showbackground": true,
            "ticks": "",
            "zerolinecolor": "white"
           },
           "yaxis": {
            "backgroundcolor": "#E5ECF6",
            "gridcolor": "white",
            "gridwidth": 2,
            "linecolor": "white",
            "showbackground": true,
            "ticks": "",
            "zerolinecolor": "white"
           },
           "zaxis": {
            "backgroundcolor": "#E5ECF6",
            "gridcolor": "white",
            "gridwidth": 2,
            "linecolor": "white",
            "showbackground": true,
            "ticks": "",
            "zerolinecolor": "white"
           }
          },
          "shapedefaults": {
           "line": {
            "color": "#2a3f5f"
           }
          },
          "ternary": {
           "aaxis": {
            "gridcolor": "white",
            "linecolor": "white",
            "ticks": ""
           },
           "baxis": {
            "gridcolor": "white",
            "linecolor": "white",
            "ticks": ""
           },
           "bgcolor": "#E5ECF6",
           "caxis": {
            "gridcolor": "white",
            "linecolor": "white",
            "ticks": ""
           }
          },
          "title": {
           "x": 0.05
          },
          "xaxis": {
           "automargin": true,
           "gridcolor": "white",
           "linecolor": "white",
           "ticks": "",
           "title": {
            "standoff": 15
           },
           "zerolinecolor": "white",
           "zerolinewidth": 2
          },
          "yaxis": {
           "automargin": true,
           "gridcolor": "white",
           "linecolor": "white",
           "ticks": "",
           "title": {
            "standoff": 15
           },
           "zerolinecolor": "white",
           "zerolinewidth": 2
          }
         }
        },
        "title": {
         "text": "Entity to Table Sankey Diagram"
        }
       }
      }
     },
     "metadata": {}
    }
   ],
   "metadata": {}
  },
  {
   "cell_type": "code",
   "execution_count": 17,
   "source": [
    "e.entity_map"
   ],
   "outputs": [
    {
     "output_type": "execute_result",
     "data": {
      "text/plain": [
       "{'ipaddress': [('CommonSecurityLog', 'DestinationIP'),\n",
       "  ('CommonSecurityLog', 'SourceIP'),\n",
       "  ('CommonSecurityLog', 'DestinationTranslatedAddress'),\n",
       "  ('CommonSecurityLog', 'SourceTranslatedAddress'),\n",
       "  ('OfficeActivity', 'ClientIP'),\n",
       "  ('OfficeActivity', 'ClientIP_'),\n",
       "  ('OfficeActivity', 'Client_IPAddress'),\n",
       "  ('SecurityEvent', 'IpAddress'),\n",
       "  ('SigninLogs', 'IPAddress')],\n",
       " 'host': [('CommonSecurityLog', 'DestinationHostName'),\n",
       "  ('OfficeActivity', 'OrganizationName'),\n",
       "  ('SecurityEvent', 'Computer'),\n",
       "  ('SigninLogs', 'Resource'),\n",
       "  ('SigninLogs', 'ResourceGroup')],\n",
       " 'account': [('CommonSecurityLog', 'SourceUserName'),\n",
       "  ('OfficeActivity', 'UserId'),\n",
       "  ('OfficeActivity', 'UserId_'),\n",
       "  ('OfficeActivity', 'MailboxOwnerUPN'),\n",
       "  ('OfficeActivity', 'MailboxOwnerSid'),\n",
       "  ('OfficeActivity', 'LogonUserSid'),\n",
       "  ('SecurityEvent', 'Account'),\n",
       "  ('SecurityEvent', 'FilePath'),\n",
       "  ('SecurityEvent', 'MandatoryLabel'),\n",
       "  ('SecurityEvent', 'SubjectAccount'),\n",
       "  ('SecurityEvent', 'SubjectUserSid'),\n",
       "  ('SecurityEvent', 'TargetUser'),\n",
       "  ('SecurityEvent', 'TargetUserSid'),\n",
       "  ('SigninLogs', 'AlternateSignInName'),\n",
       "  ('SigninLogs', 'UserPrincipalName'),\n",
       "  ('SigninLogs', 'SignInIdentifier')],\n",
       " 'azureresource': [('CommonSecurityLog', '_ResourceId'),\n",
       "  ('SecurityEvent', '_ResourceId'),\n",
       "  ('SigninLogs', 'ResourceId')],\n",
       " 'url': [('OfficeActivity', 'OfficeObjectId'),\n",
       "  ('OfficeActivity', 'Site_Url'),\n",
       "  ('OfficeActivity', 'Site_Url_')],\n",
       " 'process': [('OfficeActivity', 'ClientProcessName'),\n",
       "  ('SecurityEvent', 'NewProcessName'),\n",
       "  ('SecurityEvent', 'ParentProcessName'),\n",
       "  ('SecurityEvent', 'Process'),\n",
       "  ('SecurityEvent', 'ProcessName')],\n",
       " 'hash': [('SecurityEvent', 'FileHash')],\n",
       " 'file': [('SecurityEvent', 'ObjectName'), ('SecurityEvent', 'TargetAccount')]}"
      ]
     },
     "metadata": {},
     "execution_count": 17
    }
   ],
   "metadata": {}
  },
  {
   "cell_type": "code",
   "execution_count": 20,
   "source": [
    "e.table_entities"
   ],
   "outputs": [
    {
     "output_type": "execute_result",
     "data": {
      "text/plain": [
       "{'CommonSecurityLog': {'DestinationIP': 'ipaddress',\n",
       "  'SourceIP': 'ipaddress',\n",
       "  'DestinationTranslatedAddress': 'ipaddress',\n",
       "  'DestinationHostName': 'host',\n",
       "  'SourceTranslatedAddress': 'ipaddress',\n",
       "  'SourceUserName': 'account',\n",
       "  '_ResourceId': 'azureresource'},\n",
       " 'OfficeActivity': {'OfficeObjectId': 'url',\n",
       "  'UserId': 'account',\n",
       "  'UserId_': 'account',\n",
       "  'ClientIP': 'ipaddress',\n",
       "  'ClientIP_': 'ipaddress',\n",
       "  'Site_Url': 'url',\n",
       "  'Site_Url_': 'url',\n",
       "  'OrganizationName': 'host',\n",
       "  'MailboxOwnerUPN': 'account',\n",
       "  'MailboxOwnerSid': 'account',\n",
       "  'LogonUserSid': 'account',\n",
       "  'Client_IPAddress': 'ipaddress',\n",
       "  'ClientProcessName': 'process'},\n",
       " 'SecurityEvent': {'Account': 'account',\n",
       "  'Computer': 'host',\n",
       "  'FileHash': 'hash',\n",
       "  'FilePath': 'account',\n",
       "  'IpAddress': 'ipaddress',\n",
       "  'MandatoryLabel': 'account',\n",
       "  'NewProcessName': 'process',\n",
       "  'ObjectName': 'file',\n",
       "  'ParentProcessName': 'process',\n",
       "  'Process': 'process',\n",
       "  'ProcessName': 'process',\n",
       "  'SubjectAccount': 'account',\n",
       "  'SubjectUserSid': 'account',\n",
       "  'TargetAccount': 'file',\n",
       "  'TargetUser': 'account',\n",
       "  'TargetUserSid': 'account',\n",
       "  '_ResourceId': 'azureresource'},\n",
       " 'SigninLogs': {'ResourceId': 'azureresource',\n",
       "  'Resource': 'host',\n",
       "  'ResourceGroup': 'host',\n",
       "  'AlternateSignInName': 'account',\n",
       "  'IPAddress': 'ipaddress',\n",
       "  'UserPrincipalName': 'account',\n",
       "  'SignInIdentifier': 'account'}}"
      ]
     },
     "metadata": {},
     "execution_count": 20
    }
   ],
   "metadata": {}
  },
  {
   "cell_type": "code",
   "execution_count": 16,
   "source": [
    "e.disp_entity_map()"
   ],
   "outputs": [
    {
     "output_type": "stream",
     "name": "stdout",
     "text": [
      "ipaddress\n",
      "---------\n",
      "[('CommonSecurityLog', 'DestinationIP'),\n",
      " ('CommonSecurityLog', 'SourceIP'),\n",
      " ('CommonSecurityLog', 'DestinationTranslatedAddress'),\n",
      " ('CommonSecurityLog', 'SourceTranslatedAddress'),\n",
      " ('OfficeActivity', 'ClientIP'),\n",
      " ('OfficeActivity', 'ClientIP_'),\n",
      " ('OfficeActivity', 'Client_IPAddress'),\n",
      " ('SecurityEvent', 'IpAddress'),\n",
      " ('SigninLogs', 'IPAddress')]\n",
      "host\n",
      "----\n",
      "[('CommonSecurityLog', 'DestinationHostName'),\n",
      " ('OfficeActivity', 'OrganizationName'),\n",
      " ('SecurityEvent', 'Computer'),\n",
      " ('SigninLogs', 'Resource'),\n",
      " ('SigninLogs', 'ResourceGroup')]\n",
      "account\n",
      "-------\n",
      "[('CommonSecurityLog', 'SourceUserName'),\n",
      " ('OfficeActivity', 'UserId'),\n",
      " ('OfficeActivity', 'UserId_'),\n",
      " ('OfficeActivity', 'MailboxOwnerUPN'),\n",
      " ('OfficeActivity', 'MailboxOwnerSid'),\n",
      " ('OfficeActivity', 'LogonUserSid'),\n",
      " ('SecurityEvent', 'Account'),\n",
      " ('SecurityEvent', 'FilePath'),\n",
      " ('SecurityEvent', 'MandatoryLabel'),\n",
      " ('SecurityEvent', 'SubjectAccount'),\n",
      " ('SecurityEvent', 'SubjectUserSid'),\n",
      " ('SecurityEvent', 'TargetUser'),\n",
      " ('SecurityEvent', 'TargetUserSid'),\n",
      " ('SigninLogs', 'AlternateSignInName'),\n",
      " ('SigninLogs', 'UserPrincipalName'),\n",
      " ('SigninLogs', 'SignInIdentifier')]\n",
      "azureresource\n",
      "-------------\n",
      "[('CommonSecurityLog', '_ResourceId'),\n",
      " ('SecurityEvent', '_ResourceId'),\n",
      " ('SigninLogs', 'ResourceId')]\n",
      "url\n",
      "---\n",
      "[('OfficeActivity', 'OfficeObjectId'),\n",
      " ('OfficeActivity', 'Site_Url'),\n",
      " ('OfficeActivity', 'Site_Url_')]\n",
      "process\n",
      "-------\n",
      "[('OfficeActivity', 'ClientProcessName'),\n",
      " ('SecurityEvent', 'NewProcessName'),\n",
      " ('SecurityEvent', 'ParentProcessName'),\n",
      " ('SecurityEvent', 'Process'),\n",
      " ('SecurityEvent', 'ProcessName')]\n",
      "hash\n",
      "----\n",
      "[('SecurityEvent', 'FileHash')]\n",
      "file\n",
      "----\n",
      "[('SecurityEvent', 'ObjectName'), ('SecurityEvent', 'TargetAccount')]\n"
     ]
    }
   ],
   "metadata": {}
  }
 ],
 "metadata": {
  "orig_nbformat": 4,
  "language_info": {
   "name": "python",
   "version": "3.9.5",
   "mimetype": "text/x-python",
   "codemirror_mode": {
    "name": "ipython",
    "version": 3
   },
   "pygments_lexer": "ipython3",
   "nbconvert_exporter": "python",
   "file_extension": ".py"
  },
  "kernelspec": {
   "name": "python3",
   "display_name": "Python 3.9.5 64-bit ('mstic-dataexpl': conda)"
  },
  "interpreter": {
   "hash": "26c7ee86bfc26d742c440fced94fd1ebecb07a5475b2dfb50b2711d3c1d1d174"
  }
 },
 "nbformat": 4,
 "nbformat_minor": 2
}