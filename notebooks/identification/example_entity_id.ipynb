{
 "cells": [
  {
   "cell_type": "markdown",
   "source": [
    "# Example Entity Identification Notebook"
   ],
   "metadata": {}
  },
  {
   "cell_type": "markdown",
   "source": [
    "## Initialize MSTICPy and load query providers"
   ],
   "metadata": {}
  },
  {
   "cell_type": "code",
   "execution_count": 1,
   "source": [
    "# Core MSTICPy initialization for Notebooks\r\n",
    "from msticpy.nbtools import nbinit\r\n",
    "nbinit.init_notebook(namespace=globals());\r\n",
    "\r\n",
    "# Load query providers (typically you'll be using just one)\r\n",
    "qry_prov = QueryProvider(\"AzureSentinel\")"
   ],
   "outputs": [
    {
     "output_type": "display_data",
     "data": {
      "text/plain": [
       "<IPython.core.display.HTML object>"
      ],
      "text/html": [
       "<hr><h4>Starting Notebook initialization...</h4>"
      ]
     },
     "metadata": {}
    },
    {
     "output_type": "display_data",
     "data": {
      "text/plain": [
       "<IPython.core.display.HTML object>"
      ],
      "text/html": [
       "msticpy version installed: 1.0.1 latest published: 1.3.1<br>A newer version of msticpy - 1.3.1 is available.<br>Upgrade with pip install --upgrade msticpy<br> <br>"
      ]
     },
     "metadata": {}
    },
    {
     "output_type": "display_data",
     "data": {
      "text/plain": [
       "<IPython.core.display.HTML object>"
      ],
      "text/html": [
       "Processing imports.... <br>"
      ]
     },
     "metadata": {}
    },
    {
     "output_type": "display_data",
     "data": {
      "text/plain": [
       "<IPython.core.display.HTML object>"
      ],
      "text/html": [
       "Imported: pd (pandas), IPython.get_ipython, IPython.display.display, IPython.display.HTML, IPython.display.Markdown, widgets (ipywidgets), pathlib.Path, plt (matplotlib.pyplot), matplotlib.MatplotlibDeprecationWarning, np (numpy), msticpy.data.QueryProvider, msticpy.nbtools.foliummap.FoliumMap, msticpy.common.utility.md, msticpy.common.utility.md_warn, msticpy.common.wsconfig.WorkspaceConfig, msticpy.datamodel.pivot.Pivot, msticpy.datamodel.entities <br>"
      ]
     },
     "metadata": {}
    },
    {
     "output_type": "display_data",
     "data": {
      "text/plain": [
       "<IPython.core.display.HTML object>"
      ],
      "text/html": [
       "Checking configuration.... <br>"
      ]
     },
     "metadata": {}
    },
    {
     "output_type": "display_data",
     "data": {
      "text/plain": [
       "<IPython.core.display.HTML object>"
      ],
      "text/html": [
       "No errors found.<br><br>The following configuration warnings were found: <br> -------------------------------------------------<br>'TIProviders' section has no settings.<br>'OtherProviders' section has no settings.<br> <br>"
      ]
     },
     "metadata": {}
    },
    {
     "output_type": "display_data",
     "data": {
      "text/plain": [
       "<IPython.core.display.HTML object>"
      ],
      "text/html": [
       "Setting notebook options.... <br>"
      ]
     },
     "metadata": {}
    },
    {
     "output_type": "display_data",
     "data": {
      "text/plain": [
       "<IPython.core.display.HTML object>"
      ],
      "text/html": [
       "<h4>Notebook initialization complete</h4>"
      ]
     },
     "metadata": {}
    },
    {
     "output_type": "stream",
     "name": "stdout",
     "text": [
      "Please wait. Loading Kqlmagic extension...\n"
     ]
    }
   ],
   "metadata": {}
  },
  {
   "cell_type": "markdown",
   "source": [
    "## Connect to workspace"
   ],
   "metadata": {}
  },
  {
   "cell_type": "code",
   "execution_count": 2,
   "source": [
    "qry_prov.connect(WorkspaceConfig())"
   ],
   "outputs": [
    {
     "output_type": "display_data",
     "data": {
      "text/plain": [
       "<IPython.core.display.HTML object>"
      ],
      "text/html": [
       "<!DOCTYPE html>\n",
       "            <html><body>\n",
       "            <div style=''>\n",
       "            <b>F24DD7883</b>&nbsp;<a href='https://microsoft.com/devicelogin' style='padding: 2px 6px 2px 6px; color: #333333; background-color: #EEEEEE; border-top: 1px solid #CCCCCC; border-right: 1px solid #333333; border-bottom: 1px solid #333333; border-left: 1px solid #CCCCCC' target='verification_url'>Copy code to clipboard and authenticate</a>\n",
       "            </div>\n",
       "            </body></html>"
      ]
     },
     "metadata": {}
    },
    {
     "output_type": "display_data",
     "data": {
      "text/plain": [
       "<IPython.core.display.HTML object>"
      ],
      "text/html": [
       "<!DOCTYPE html>\n",
       "                            <html><body><script>\n",
       "\n",
       "                                // close authentication window\n",
       "                                if (kql_MagicUserCodeAuthWindow && kql_MagicUserCodeAuthWindow.opener != null && !kql_MagicUserCodeAuthWindow.closed) {\n",
       "                                    kql_MagicUserCodeAuthWindow.close()\n",
       "                                }\n",
       "                                // TODO: make sure, you clear the right cell. BTW, not sure it is a must to do any clearing\n",
       "\n",
       "                                // clear output cell\n",
       "                                Jupyter.notebook.clear_output(Jupyter.notebook.get_selected_index())\n",
       "\n",
       "                                // TODO: if in run all mode, move to last cell, otherwise move to next cell\n",
       "                                // move to next cell\n",
       "\n",
       "                            </script></body></html>"
      ]
     },
     "metadata": {}
    },
    {
     "output_type": "display_data",
     "data": {
      "text/plain": [
       "<IPython.core.display.HTML object>"
      ],
      "text/html": [
       "<!DOCTYPE html>\n",
       "            <html><body>\n",
       "            <div style=''>\n",
       "            <a href='file:///c:/Users/Charity Hsu/mstic/mstic-dataexpl/notebooks/identification/kqlmagic/temp_files/22a8ac23-fe58-4ffe-9a8e-1c005bb877c6/_8ecf8077-cf51-4820-aadd-14040956f35d_at_loganalytics_schema.html' style='padding: 2px 6px 2px 6px; color: #333333; background-color: #EEEEEE; border-top: 1px solid #CCCCCC; border-right: 1px solid #333333; border-bottom: 1px solid #333333; border-left: 1px solid #CCCCCC' target='_8ecf8077-cf51-4820-aadd-14040956f35d_at_loganalytics_schema'>popup schema 8ecf8077-cf51-4820-aadd-14040956f35d@loganalytics</a>\n",
       "            </div>\n",
       "            </body></html>"
      ]
     },
     "metadata": {}
    }
   ],
   "metadata": {}
  },
  {
   "cell_type": "markdown",
   "source": [
    "# Infer entities in dataset"
   ],
   "metadata": {}
  },
  {
   "cell_type": "markdown",
   "source": [
    "## Import module and instantiate class with the query provider"
   ],
   "metadata": {}
  },
  {
   "cell_type": "code",
   "execution_count": 3,
   "source": [
    "import entity_id as eid\r\n",
    "e = eid.EntityIdentifier(qry_prov)"
   ],
   "outputs": [],
   "metadata": {}
  },
  {
   "cell_type": "markdown",
   "source": [
    "## 1. Select tables to analyze"
   ],
   "metadata": {}
  },
  {
   "cell_type": "markdown",
   "source": [
    "These tables will make up your dataset."
   ],
   "metadata": {}
  },
  {
   "cell_type": "code",
   "execution_count": 4,
   "source": [
    "e.select_tables()"
   ],
   "outputs": [
    {
     "output_type": "display_data",
     "data": {
      "text/plain": [
       "VBox(children=(Text(value='', description='Filter:', style=DescriptionStyle(description_width='initial')), HBo…"
      ],
      "application/vnd.jupyter.widget-view+json": {
       "version_major": 2,
       "version_minor": 0,
       "model_id": "85036999146f4bd1a262dd9b7f0a5241"
      }
     },
     "metadata": {}
    }
   ],
   "metadata": {}
  },
  {
   "cell_type": "markdown",
   "source": [
    "## 2. Run entity detection on tables"
   ],
   "metadata": {}
  },
  {
   "cell_type": "markdown",
   "source": [
    "This function iterates over every column in each table that was selected and applies every regex to it. The output is a dictionary where the keys are the entities found in the dataset (where dataset is the selected tables) and the values are the table in which the entity was found and the column in that table whose data values matched the entity regex."
   ],
   "metadata": {}
  },
  {
   "cell_type": "code",
   "execution_count": 5,
   "source": [
    "e.detect_entities()"
   ],
   "outputs": [
    {
     "output_type": "stream",
     "name": "stderr",
     "text": [
      "100%|██████████| 1/1 [00:03<00:00,  3.15s/it]\n"
     ]
    },
    {
     "output_type": "execute_result",
     "data": {
      "text/plain": [
       "{'azureresource': [('SigninLogs', 'ResourceId')],\n",
       " 'host': [('SigninLogs', 'Resource'),\n",
       "  ('SigninLogs', 'ResourceGroup'),\n",
       "  ('SigninLogs', 'Identity'),\n",
       "  ('SigninLogs', 'UserDisplayName')],\n",
       " 'account': [('SigninLogs', 'AlternateSignInName'),\n",
       "  ('SigninLogs', 'UserPrincipalName'),\n",
       "  ('SigninLogs', 'SignInIdentifier')],\n",
       " 'ipaddress': [('SigninLogs', 'IPAddress')]}"
      ]
     },
     "metadata": {},
     "execution_count": 5
    }
   ],
   "metadata": {}
  },
  {
   "cell_type": "markdown",
   "source": [
    "## 3. Save results to a JSON file."
   ],
   "metadata": {}
  },
  {
   "cell_type": "markdown",
   "source": [
    "Save the entity detection results to a file so that the next time you start up a notebook, you can just call read_results() to initialize the class variables for the results instead of running the entity detection function again."
   ],
   "metadata": {}
  },
  {
   "cell_type": "code",
   "execution_count": 6,
   "source": [
    "e.save_results()"
   ],
   "outputs": [],
   "metadata": {}
  },
  {
   "cell_type": "markdown",
   "source": [
    "## 4. View the regex matching results in an HTML table."
   ],
   "metadata": {}
  },
  {
   "cell_type": "markdown",
   "source": [
    "Select a table in your dataset to view the columns that matched with a regex. It displays the regex matches, corresponding entities, match percentages, and entity priorities."
   ],
   "metadata": {}
  },
  {
   "cell_type": "code",
   "execution_count": 7,
   "source": [
    "nbwidgets.SelectItem(item_list=list(qry_prov.schema.keys()), height=\"300px\", action=e.table_match_to_html)"
   ],
   "outputs": [
    {
     "output_type": "display_data",
     "data": {
      "text/plain": [
       "VBox(children=(Text(value='', description='Filter:', style=DescriptionStyle(description_width='initial')), Sel…"
      ],
      "application/vnd.jupyter.widget-view+json": {
       "version_major": 2,
       "version_minor": 0,
       "model_id": "642ce05915d5460ba0dbe6d0f1f90962"
      }
     },
     "metadata": {}
    },
    {
     "output_type": "display_data",
     "data": {
      "text/plain": [
       "<IPython.core.display.HTML object>"
      ],
      "text/html": [
       "<hr>"
      ]
     },
     "metadata": {}
    },
    {
     "output_type": "display_data",
     "data": {
      "text/plain": [
       "<IPython.core.display.HTML object>"
      ],
      "text/html": [
       "<h2>Column entities</h2> <table><thead><tr><th>Column</th><th>Matches</th></tr></thead><tbody><tr><td><b>TenantId</b></td><td></td><tr><tr><td><b>ResourceId</b></td><td><b>azureresource</b> [p:0] (matched RESOURCEID_REGEX 100.0%,  all rows 100.0%) &nbsp;&nbsp;<b>file</b> [p:2] (matched LXPATH_REGEX 100.0%,  all rows 100.0%) </td><tr><tr><td><b>CorrelationId</b></td><td></td><tr><tr><td><b>Resource</b></td><td><b>host</b> [p:1] (matched DNS_REGEX 100.0%,  all rows 100.0%) </td><tr><tr><td><b>ResourceGroup</b></td><td><b>host</b> [p:1] (matched DNS_REGEX 100.0%,  all rows 100.0%) </td><tr><tr><td><b>Identity</b></td><td><b>host</b> [p:1] (matched DNS_REGEX 1.0%,  all rows 1.0%) </td><tr><tr><td><b>AlternateSignInName</b></td><td><b>account</b> [p:0] (matched EMAIL_REGEX 100.0%,  all rows 32.0%) </td><tr><tr><td><b>AppId</b></td><td></td><tr><tr><td><b>Id</b></td><td></td><tr><tr><td><b>IPAddress</b></td><td><b>ipaddress</b> [p:0] (matched IPV6_REGEX 14.0%,  all rows 14.0%) </td><tr><tr><td><b>OriginalRequestId</b></td><td></td><tr><tr><td><b>ResourceIdentity</b></td><td></td><tr><tr><td><b>UserDisplayName</b></td><td><b>host</b> [p:1] (matched DNS_REGEX 1.0%,  all rows 1.0%) </td><tr><tr><td><b>UserId</b></td><td></td><tr><tr><td><b>UserPrincipalName</b></td><td><b>account</b> [p:0] (matched EMAIL_REGEX 99.0%,  all rows 99.0%) </td><tr><tr><td><b>AADTenantId</b></td><td></td><tr><tr><td><b>SignInIdentifier</b></td><td><b>account</b> [p:0] (matched EMAIL_REGEX 100.0%,  all rows 32.0%) </td><tr><tr><td><b>ResourceTenantId</b></td><td></td><tr><tr><td><b>HomeTenantId</b></td><td></td><tr></tbody></table>"
      ]
     },
     "metadata": {}
    }
   ],
   "metadata": {}
  },
  {
   "cell_type": "markdown",
   "source": [
    "## 5. View the table map"
   ],
   "metadata": {}
  },
  {
   "cell_type": "markdown",
   "source": [
    "This is the actual column to entity mapping after the raw regex matching results have been processed."
   ],
   "metadata": {}
  },
  {
   "cell_type": "code",
   "execution_count": 30,
   "source": [
    "e.show_table_map_html()"
   ],
   "outputs": [
    {
     "output_type": "execute_result",
     "data": {
      "text/plain": [
       "<IPython.core.display.HTML object>"
      ],
      "text/html": [
       "<h2>Table map</h2> <table><thead><tr><th>Table</th><th>Column</th><th>Entity</th></tr></thead><tbody><tr><td><b>OfficeActivity</b></td><td><b>UserKey</b></td><td><b>account</b></td><tr><tr><td><b>OfficeActivity</b></td><td><b>OfficeObjectId</b></td><td><b>url</b></td><tr><tr><td><b>OfficeActivity</b></td><td><b>UserId</b></td><td><b>account</b></td><tr><tr><td><b>OfficeActivity</b></td><td><b>UserId_</b></td><td><b>account</b></td><tr><tr><td><b>OfficeActivity</b></td><td><b>ClientIP</b></td><td><b>ipaddress</b></td><tr><tr><td><b>OfficeActivity</b></td><td><b>ClientIP_</b></td><td><b>ipaddress</b></td><tr><tr><td><b>OfficeActivity</b></td><td><b>Site_Url</b></td><td><b>url</b></td><tr><tr><td><b>OfficeActivity</b></td><td><b>Site_Url_</b></td><td><b>url</b></td><tr><tr><td><b>OfficeActivity</b></td><td><b>SourceFileName</b></td><td><b>host</b></td><tr><tr><td><b>OfficeActivity</b></td><td><b>SourceFileName_</b></td><td><b>host</b></td><tr><tr><td><b>OfficeActivity</b></td><td><b>OrganizationName</b></td><td><b>host</b></td><tr><tr><td><b>OfficeActivity</b></td><td><b>MailboxOwnerUPN</b></td><td><b>account</b></td><tr><tr><td><b>OfficeActivity</b></td><td><b>MailboxOwnerSid</b></td><td><b>account</b></td><tr><tr><td><b>OfficeActivity</b></td><td><b>LogonUserSid</b></td><td><b>account</b></td><tr><tr><td><b>OfficeActivity</b></td><td><b>Client_IPAddress</b></td><td><b>ipaddress</b></td><tr><tr><td><b>OfficeActivity</b></td><td><b>ClientProcessName</b></td><td><b>process</b></td><tr><tr><td><b>OfficeActivity</b></td><td><b>TargetUserOrGroupName</b></td><td><b>account</b></td><tr><tr><td><b>SecurityEvent</b></td><td><b>Account</b></td><td><b>account</b></td><tr><tr><td><b>SecurityEvent</b></td><td><b>Computer</b></td><td><b>host</b></td><tr><tr><td><b>SecurityEvent</b></td><td><b>CallerProcessName</b></td><td><b>process</b></td><tr><tr><td><b>SecurityEvent</b></td><td><b>FileHash</b></td><td><b>hash</b></td><tr><tr><td><b>SecurityEvent</b></td><td><b>FilePath</b></td><td><b>account</b></td><tr><tr><td><b>SecurityEvent</b></td><td><b>IpAddress</b></td><td><b>ipaddress</b></td><tr><tr><td><b>SecurityEvent</b></td><td><b>MandatoryLabel</b></td><td><b>account</b></td><tr><tr><td><b>SecurityEvent</b></td><td><b>NewProcessName</b></td><td><b>process</b></td><tr><tr><td><b>SecurityEvent</b></td><td><b>ObjectName</b></td><td><b>file</b></td><tr><tr><td><b>SecurityEvent</b></td><td><b>ParentProcessName</b></td><td><b>process</b></td><tr><tr><td><b>SecurityEvent</b></td><td><b>Process</b></td><td><b>process</b></td><tr><tr><td><b>SecurityEvent</b></td><td><b>ProcessName</b></td><td><b>process</b></td><tr><tr><td><b>SecurityEvent</b></td><td><b>SubjectAccount</b></td><td><b>account</b></td><tr><tr><td><b>SecurityEvent</b></td><td><b>SubjectUserSid</b></td><td><b>account</b></td><tr><tr><td><b>SecurityEvent</b></td><td><b>TargetAccount</b></td><td><b>file</b></td><tr><tr><td><b>SecurityEvent</b></td><td><b>TargetDomainName</b></td><td><b>host</b></td><tr><tr><td><b>SecurityEvent</b></td><td><b>TargetSid</b></td><td><b>account</b></td><tr><tr><td><b>SecurityEvent</b></td><td><b>TargetUser</b></td><td><b>account</b></td><tr><tr><td><b>SecurityEvent</b></td><td><b>TargetUserSid</b></td><td><b>account</b></td><tr><tr><td><b>SecurityEvent</b></td><td><b>_ResourceId</b></td><td><b>azureresource</b></td><tr><tr><td><b>SigninLogs</b></td><td><b>ResourceId</b></td><td><b>azureresource</b></td><tr><tr><td><b>SigninLogs</b></td><td><b>Resource</b></td><td><b>host</b></td><tr><tr><td><b>SigninLogs</b></td><td><b>ResourceGroup</b></td><td><b>host</b></td><tr><tr><td><b>SigninLogs</b></td><td><b>AlternateSignInName</b></td><td><b>account</b></td><tr><tr><td><b>SigninLogs</b></td><td><b>IPAddress</b></td><td><b>ipaddress</b></td><tr><tr><td><b>SigninLogs</b></td><td><b>UserPrincipalName</b></td><td><b>account</b></td><tr><tr><td><b>SigninLogs</b></td><td><b>SignInIdentifier</b></td><td><b>account</b></td><tr></tbody></table>"
      ]
     },
     "metadata": {},
     "execution_count": 30
    }
   ],
   "metadata": {}
  },
  {
   "cell_type": "markdown",
   "source": [
    "## 6. View the entity map"
   ],
   "metadata": {}
  },
  {
   "cell_type": "markdown",
   "source": [
    "This shows the same results as the table map, except the keys and values are inverted. For any given entity, you can see the table and columns that contain it."
   ],
   "metadata": {}
  },
  {
   "cell_type": "code",
   "execution_count": 31,
   "source": [
    "e.show_entity_map_html()"
   ],
   "outputs": [
    {
     "output_type": "execute_result",
     "data": {
      "text/plain": [
       "<IPython.core.display.HTML object>"
      ],
      "text/html": [
       "<h2>Entity map</h2> <table><thead><tr><th>Entity</th><th>Table</th><th>Column</th></tr></thead><tbody><tr><td><b>account</b></td><td><b>OfficeActivity</b></td><td><b>UserKey</b></td><tr><tr><td><b>account</b></td><td><b>OfficeActivity</b></td><td><b>UserId</b></td><tr><tr><td><b>account</b></td><td><b>OfficeActivity</b></td><td><b>UserId_</b></td><tr><tr><td><b>account</b></td><td><b>OfficeActivity</b></td><td><b>MailboxOwnerUPN</b></td><tr><tr><td><b>account</b></td><td><b>OfficeActivity</b></td><td><b>MailboxOwnerSid</b></td><tr><tr><td><b>account</b></td><td><b>OfficeActivity</b></td><td><b>LogonUserSid</b></td><tr><tr><td><b>account</b></td><td><b>OfficeActivity</b></td><td><b>TargetUserOrGroupName</b></td><tr><tr><td><b>account</b></td><td><b>SecurityEvent</b></td><td><b>Account</b></td><tr><tr><td><b>account</b></td><td><b>SecurityEvent</b></td><td><b>FilePath</b></td><tr><tr><td><b>account</b></td><td><b>SecurityEvent</b></td><td><b>MandatoryLabel</b></td><tr><tr><td><b>account</b></td><td><b>SecurityEvent</b></td><td><b>SubjectAccount</b></td><tr><tr><td><b>account</b></td><td><b>SecurityEvent</b></td><td><b>SubjectUserSid</b></td><tr><tr><td><b>account</b></td><td><b>SecurityEvent</b></td><td><b>TargetSid</b></td><tr><tr><td><b>account</b></td><td><b>SecurityEvent</b></td><td><b>TargetUser</b></td><tr><tr><td><b>account</b></td><td><b>SecurityEvent</b></td><td><b>TargetUserSid</b></td><tr><tr><td><b>account</b></td><td><b>SigninLogs</b></td><td><b>AlternateSignInName</b></td><tr><tr><td><b>account</b></td><td><b>SigninLogs</b></td><td><b>UserPrincipalName</b></td><tr><tr><td><b>account</b></td><td><b>SigninLogs</b></td><td><b>SignInIdentifier</b></td><tr><tr><td><b>url</b></td><td><b>OfficeActivity</b></td><td><b>OfficeObjectId</b></td><tr><tr><td><b>url</b></td><td><b>OfficeActivity</b></td><td><b>Site_Url</b></td><tr><tr><td><b>url</b></td><td><b>OfficeActivity</b></td><td><b>Site_Url_</b></td><tr><tr><td><b>ipaddress</b></td><td><b>OfficeActivity</b></td><td><b>ClientIP</b></td><tr><tr><td><b>ipaddress</b></td><td><b>OfficeActivity</b></td><td><b>ClientIP_</b></td><tr><tr><td><b>ipaddress</b></td><td><b>OfficeActivity</b></td><td><b>Client_IPAddress</b></td><tr><tr><td><b>ipaddress</b></td><td><b>SecurityEvent</b></td><td><b>IpAddress</b></td><tr><tr><td><b>ipaddress</b></td><td><b>SigninLogs</b></td><td><b>IPAddress</b></td><tr><tr><td><b>host</b></td><td><b>OfficeActivity</b></td><td><b>SourceFileName</b></td><tr><tr><td><b>host</b></td><td><b>OfficeActivity</b></td><td><b>SourceFileName_</b></td><tr><tr><td><b>host</b></td><td><b>OfficeActivity</b></td><td><b>OrganizationName</b></td><tr><tr><td><b>host</b></td><td><b>SecurityEvent</b></td><td><b>Computer</b></td><tr><tr><td><b>host</b></td><td><b>SecurityEvent</b></td><td><b>TargetDomainName</b></td><tr><tr><td><b>host</b></td><td><b>SigninLogs</b></td><td><b>Resource</b></td><tr><tr><td><b>host</b></td><td><b>SigninLogs</b></td><td><b>ResourceGroup</b></td><tr><tr><td><b>process</b></td><td><b>OfficeActivity</b></td><td><b>ClientProcessName</b></td><tr><tr><td><b>process</b></td><td><b>SecurityEvent</b></td><td><b>CallerProcessName</b></td><tr><tr><td><b>process</b></td><td><b>SecurityEvent</b></td><td><b>NewProcessName</b></td><tr><tr><td><b>process</b></td><td><b>SecurityEvent</b></td><td><b>ParentProcessName</b></td><tr><tr><td><b>process</b></td><td><b>SecurityEvent</b></td><td><b>Process</b></td><tr><tr><td><b>process</b></td><td><b>SecurityEvent</b></td><td><b>ProcessName</b></td><tr><tr><td><b>hash</b></td><td><b>SecurityEvent</b></td><td><b>FileHash</b></td><tr><tr><td><b>file</b></td><td><b>SecurityEvent</b></td><td><b>ObjectName</b></td><tr><tr><td><b>file</b></td><td><b>SecurityEvent</b></td><td><b>TargetAccount</b></td><tr><tr><td><b>azureresource</b></td><td><b>SecurityEvent</b></td><td><b>_ResourceId</b></td><tr><tr><td><b>azureresource</b></td><td><b>SigninLogs</b></td><td><b>ResourceId</b></td><tr></tbody></table>"
      ]
     },
     "metadata": {},
     "execution_count": 31
    }
   ],
   "metadata": {}
  },
  {
   "cell_type": "markdown",
   "source": [
    "# Autogenerate KQL queries"
   ],
   "metadata": {}
  },
  {
   "cell_type": "markdown",
   "source": [
    "## 7. Generate a list of queries to hunt for a piece of data in your dataset"
   ],
   "metadata": {}
  },
  {
   "cell_type": "markdown",
   "source": [
    "To find where a piece of data, like an IP address or email, appears in the dataset, call the below function passing in the data value and its associated entity type."
   ],
   "metadata": {}
  },
  {
   "cell_type": "code",
   "execution_count": 8,
   "source": [
    "queries = e.generate_query('account', 'purviewdc@seccxp.ninja')\r\n",
    "print(queries)"
   ],
   "outputs": [
    {
     "output_type": "stream",
     "name": "stdout",
     "text": [
      "['\\nSigninLogs\\n| where AlternateSignInName == \"purviewdc@seccxp.ninja\"\\n', '\\nSigninLogs\\n| where UserPrincipalName == \"purviewdc@seccxp.ninja\"\\n', '\\nSigninLogs\\n| where SignInIdentifier == \"purviewdc@seccxp.ninja\"\\n']\n"
     ]
    }
   ],
   "metadata": {}
  },
  {
   "cell_type": "markdown",
   "source": [
    "## 8. Run the queries that return an output"
   ],
   "metadata": {}
  },
  {
   "cell_type": "markdown",
   "source": [
    "Runs each query and returns the resulting table, if its not empty."
   ],
   "metadata": {}
  },
  {
   "cell_type": "code",
   "execution_count": 9,
   "source": [
    "e.run_queries([queries[-3]])"
   ],
   "outputs": [
    {
     "output_type": "stream",
     "name": "stdout",
     "text": [
      "\n",
      "SigninLogs\n",
      "| where AlternateSignInName == \"purviewdc@seccxp.ninja\"\n",
      "\n",
      "--------------------------------------------------------------------\n"
     ]
    },
    {
     "output_type": "display_data",
     "data": {
      "text/plain": [
       "                                 TenantId SourceSystem  \\\n",
       "0    8ecf8077-cf51-4820-aadd-14040956f35d     Azure AD   \n",
       "1    8ecf8077-cf51-4820-aadd-14040956f35d     Azure AD   \n",
       "2    8ecf8077-cf51-4820-aadd-14040956f35d     Azure AD   \n",
       "3    8ecf8077-cf51-4820-aadd-14040956f35d     Azure AD   \n",
       "4    8ecf8077-cf51-4820-aadd-14040956f35d     Azure AD   \n",
       "..                                    ...          ...   \n",
       "314  8ecf8077-cf51-4820-aadd-14040956f35d     Azure AD   \n",
       "315  8ecf8077-cf51-4820-aadd-14040956f35d     Azure AD   \n",
       "316  8ecf8077-cf51-4820-aadd-14040956f35d     Azure AD   \n",
       "317  8ecf8077-cf51-4820-aadd-14040956f35d     Azure AD   \n",
       "318  8ecf8077-cf51-4820-aadd-14040956f35d     Azure AD   \n",
       "\n",
       "                       TimeGenerated  \\\n",
       "0   2021-06-18 15:00:59.181000+00:00   \n",
       "1   2021-06-18 14:52:22.954000+00:00   \n",
       "2   2021-06-19 15:12:18.290000+00:00   \n",
       "3   2021-06-19 15:12:56.868000+00:00   \n",
       "4   2021-06-24 22:05:44.049000+00:00   \n",
       "..                               ...   \n",
       "314 2021-06-25 17:47:54.873000+00:00   \n",
       "315 2021-06-26 07:01:21.432000+00:00   \n",
       "316 2021-06-24 17:59:11.873000+00:00   \n",
       "317 2021-06-24 17:59:11.873000+00:00   \n",
       "318 2021-06-26 09:39:56.941000+00:00   \n",
       "\n",
       "                                                                   ResourceId  \\\n",
       "0    /tenants/4b2462a4-bbee-495a-a0e1-f23ae524cc9c/providers/Microsoft.aadiam   \n",
       "1    /tenants/4b2462a4-bbee-495a-a0e1-f23ae524cc9c/providers/Microsoft.aadiam   \n",
       "2    /tenants/4b2462a4-bbee-495a-a0e1-f23ae524cc9c/providers/Microsoft.aadiam   \n",
       "3    /tenants/4b2462a4-bbee-495a-a0e1-f23ae524cc9c/providers/Microsoft.aadiam   \n",
       "4    /tenants/4b2462a4-bbee-495a-a0e1-f23ae524cc9c/providers/Microsoft.aadiam   \n",
       "..                                                                        ...   \n",
       "314  /tenants/4b2462a4-bbee-495a-a0e1-f23ae524cc9c/providers/Microsoft.aadiam   \n",
       "315  /tenants/4b2462a4-bbee-495a-a0e1-f23ae524cc9c/providers/Microsoft.aadiam   \n",
       "316  /tenants/4b2462a4-bbee-495a-a0e1-f23ae524cc9c/providers/Microsoft.aadiam   \n",
       "317  /tenants/4b2462a4-bbee-495a-a0e1-f23ae524cc9c/providers/Microsoft.aadiam   \n",
       "318  /tenants/4b2462a4-bbee-495a-a0e1-f23ae524cc9c/providers/Microsoft.aadiam   \n",
       "\n",
       "        OperationName OperationVersion    Category ResultType ResultSignature  \\\n",
       "0    Sign-in activity              1.0  SignInLogs          0            None   \n",
       "1    Sign-in activity              1.0  SignInLogs          0            None   \n",
       "2    Sign-in activity              1.0  SignInLogs          0            None   \n",
       "3    Sign-in activity              1.0  SignInLogs          0            None   \n",
       "4    Sign-in activity              1.0  SignInLogs          0            None   \n",
       "..                ...              ...         ...        ...             ...   \n",
       "314  Sign-in activity              1.0  SignInLogs          0            None   \n",
       "315  Sign-in activity              1.0  SignInLogs      50126            None   \n",
       "316  Sign-in activity              1.0  SignInLogs          0            None   \n",
       "317  Sign-in activity              1.0  SignInLogs          0            None   \n",
       "318  Sign-in activity              1.0  SignInLogs          0            None   \n",
       "\n",
       "                                                            ResultDescription  \\\n",
       "0                                                                               \n",
       "1                                                                               \n",
       "2                                                                               \n",
       "3                                                                               \n",
       "4                                                                               \n",
       "..                                                                        ...   \n",
       "314                                                                             \n",
       "315  Invalid username or password or Invalid on-premise username or password.   \n",
       "316                                                                             \n",
       "317                                                                             \n",
       "318                                                                             \n",
       "\n",
       "     DurationMs                         CorrelationId          Resource  \\\n",
       "0             0  9f5f7a97-b25a-4d7d-9080-18404ad03985  Microsoft.aadiam   \n",
       "1             0  a11ce5b0-272c-4f3c-8f50-d13edc728764  Microsoft.aadiam   \n",
       "2             0  15264990-6fb2-4011-b79b-37aa76325d9f  Microsoft.aadiam   \n",
       "3             0  71e2abb3-8b3c-4d70-bb60-52470474ad1f  Microsoft.aadiam   \n",
       "4             0  797973bb-1c1a-4818-8356-0ea4984d0fb7  Microsoft.aadiam   \n",
       "..          ...                                   ...               ...   \n",
       "314           0  b0efb68b-fb92-4f25-9cc5-b8611b1f8c16  Microsoft.aadiam   \n",
       "315           0  7079b381-6c9d-43c1-96b3-90b7b5282cdc  Microsoft.aadiam   \n",
       "316           0  855cef14-1389-45d2-b74a-c085517afcf9  Microsoft.aadiam   \n",
       "317           0  855cef14-1389-45d2-b74a-c085517afcf9  Microsoft.aadiam   \n",
       "318           0  1d00c968-366b-4956-bbd4-e7b1a2c3f387  Microsoft.aadiam   \n",
       "\n",
       "        ResourceGroup ResourceProvider             Identity Level Location  \\\n",
       "0    Microsoft.aadiam                   Purview DataCurator     4       GB   \n",
       "1    Microsoft.aadiam                   Purview DataCurator     4       GB   \n",
       "2    Microsoft.aadiam                   Purview DataCurator     4       GB   \n",
       "3    Microsoft.aadiam                   Purview DataCurator     4       GB   \n",
       "4    Microsoft.aadiam                   Purview DataCurator     4       GB   \n",
       "..                ...              ...                  ...   ...      ...   \n",
       "314  Microsoft.aadiam                   Purview DataCurator     4       MX   \n",
       "315  Microsoft.aadiam                   Purview DataCurator     4       US   \n",
       "316  Microsoft.aadiam                   Purview DataCurator     4       MX   \n",
       "317  Microsoft.aadiam                   Purview DataCurator     4       MX   \n",
       "318  Microsoft.aadiam                   Purview DataCurator     4       GB   \n",
       "\n",
       "        AlternateSignInName                  AppDisplayName  \\\n",
       "0    purviewdc@seccxp.ninja             Microsoft Azure CLI   \n",
       "1    purviewdc@seccxp.ninja  Microsoft Azure Purview Studio   \n",
       "2    purviewdc@seccxp.ninja  Microsoft Azure Purview Studio   \n",
       "3    purviewdc@seccxp.ninja             Microsoft Azure CLI   \n",
       "4    purviewdc@seccxp.ninja  Microsoft Azure Purview Studio   \n",
       "..                      ...                             ...   \n",
       "314  purviewdc@seccxp.ninja  Microsoft Azure Purview Studio   \n",
       "315  purviewdc@seccxp.ninja                                   \n",
       "316  purviewdc@seccxp.ninja  Microsoft Azure Purview Studio   \n",
       "317  purviewdc@seccxp.ninja  Microsoft Azure Purview Studio   \n",
       "318  purviewdc@seccxp.ninja  Microsoft Azure Purview Studio   \n",
       "\n",
       "                                    AppId  \\\n",
       "0    04b07795-8ddb-461a-bbee-02f9e1bf7b46   \n",
       "1    632d803a-b0c2-49b4-a944-e13c384c04a8   \n",
       "2    632d803a-b0c2-49b4-a944-e13c384c04a8   \n",
       "3    04b07795-8ddb-461a-bbee-02f9e1bf7b46   \n",
       "4    632d803a-b0c2-49b4-a944-e13c384c04a8   \n",
       "..                                    ...   \n",
       "314  632d803a-b0c2-49b4-a944-e13c384c04a8   \n",
       "315  01350135-0135-4135-0135-013501350135   \n",
       "316  632d803a-b0c2-49b4-a944-e13c384c04a8   \n",
       "317  632d803a-b0c2-49b4-a944-e13c384c04a8   \n",
       "318  632d803a-b0c2-49b4-a944-e13c384c04a8   \n",
       "\n",
       "                                                                                   AuthenticationDetails  \\\n",
       "0    [\\r\\n  {\\r\\n    \"authenticationStepDateTime\": \"2021-06-18T15:00:59.1811534+00:00\",\\r\\n    \"authe...   \n",
       "1    [\\r\\n  {\\r\\n    \"authenticationStepDateTime\": \"2021-06-18T14:52:22.9540657+00:00\",\\r\\n    \"authe...   \n",
       "2    [\\r\\n  {\\r\\n    \"authenticationStepDateTime\": \"2021-06-19T15:12:18.2907927+00:00\",\\r\\n    \"authe...   \n",
       "3    [\\r\\n  {\\r\\n    \"authenticationStepDateTime\": \"2021-06-19T15:12:56.8682904+00:00\",\\r\\n    \"authe...   \n",
       "4    [\\r\\n  {\\r\\n    \"authenticationStepDateTime\": \"2021-06-24T22:05:44.0494684+00:00\",\\r\\n    \"authe...   \n",
       "..                                                                                                   ...   \n",
       "314  [\\r\\n  {\\r\\n    \"authenticationStepDateTime\": \"2021-06-25T17:47:54.8731359+00:00\",\\r\\n    \"authe...   \n",
       "315  [\\r\\n  {\\r\\n    \"authenticationStepDateTime\": \"2021-06-26T07:01:21.4320569+00:00\",\\r\\n    \"authe...   \n",
       "316  [\\r\\n  {\\r\\n    \"authenticationStepDateTime\": \"2021-06-24T17:59:11.8730564+00:00\",\\r\\n    \"authe...   \n",
       "317  [\\r\\n  {\\r\\n    \"authenticationStepDateTime\": \"2021-06-24T17:59:11.8730564+00:00\",\\r\\n    \"authe...   \n",
       "318  [\\r\\n  {\\r\\n    \"authenticationStepDateTime\": \"2021-06-26T09:39:56.9414126+00:00\",\\r\\n    \"authe...   \n",
       "\n",
       "    AuthenticationMethodsUsed  \\\n",
       "0                               \n",
       "1                               \n",
       "2                               \n",
       "3                               \n",
       "4                               \n",
       "..                        ...   \n",
       "314                             \n",
       "315                             \n",
       "316                             \n",
       "317                             \n",
       "318                             \n",
       "\n",
       "                                              AuthenticationProcessingDetails  \\\n",
       "0    [\\r\\n  {\\r\\n    \"key\": \"IsCAEToken\",\\r\\n    \"value\": \"False\"\\r\\n  }\\r\\n]   \n",
       "1    [\\r\\n  {\\r\\n    \"key\": \"IsCAEToken\",\\r\\n    \"value\": \"False\"\\r\\n  }\\r\\n]   \n",
       "2    [\\r\\n  {\\r\\n    \"key\": \"IsCAEToken\",\\r\\n    \"value\": \"False\"\\r\\n  }\\r\\n]   \n",
       "3    [\\r\\n  {\\r\\n    \"key\": \"IsCAEToken\",\\r\\n    \"value\": \"False\"\\r\\n  }\\r\\n]   \n",
       "4    [\\r\\n  {\\r\\n    \"key\": \"IsCAEToken\",\\r\\n    \"value\": \"False\"\\r\\n  }\\r\\n]   \n",
       "..                                                                        ...   \n",
       "314  [\\r\\n  {\\r\\n    \"key\": \"IsCAEToken\",\\r\\n    \"value\": \"False\"\\r\\n  }\\r\\n]   \n",
       "315  [\\r\\n  {\\r\\n    \"key\": \"IsCAEToken\",\\r\\n    \"value\": \"False\"\\r\\n  }\\r\\n]   \n",
       "316  [\\r\\n  {\\r\\n    \"key\": \"IsCAEToken\",\\r\\n    \"value\": \"False\"\\r\\n  }\\r\\n]   \n",
       "317  [\\r\\n  {\\r\\n    \"key\": \"IsCAEToken\",\\r\\n    \"value\": \"False\"\\r\\n  }\\r\\n]   \n",
       "318  [\\r\\n  {\\r\\n    \"key\": \"IsCAEToken\",\\r\\n    \"value\": \"False\"\\r\\n  }\\r\\n]   \n",
       "\n",
       "      AuthenticationRequirement  ...                      RiskEventTypes  \\\n",
       "0    singleFactorAuthentication  ...                                  []   \n",
       "1    singleFactorAuthentication  ...                                  []   \n",
       "2    singleFactorAuthentication  ...                                  []   \n",
       "3    singleFactorAuthentication  ...                                  []   \n",
       "4    singleFactorAuthentication  ...  [\\r\\n  \"mcasImpossibleTravel\"\\r\\n]   \n",
       "..                          ...  ...                                 ...   \n",
       "314  singleFactorAuthentication  ...                                  []   \n",
       "315  singleFactorAuthentication  ...                                  []   \n",
       "316  singleFactorAuthentication  ...  [\\r\\n  \"mcasImpossibleTravel\"\\r\\n]   \n",
       "317  singleFactorAuthentication  ...  [\\r\\n  \"mcasImpossibleTravel\"\\r\\n]   \n",
       "318  singleFactorAuthentication  ...                                  []   \n",
       "\n",
       "                      RiskEventTypes_V2 RiskLevelAggregated  \\\n",
       "0                                    []                none   \n",
       "1                                    []                none   \n",
       "2                                    []                none   \n",
       "3                                    []                none   \n",
       "4    [\\r\\n  \"mcasImpossibleTravel\"\\r\\n]                 low   \n",
       "..                                  ...                 ...   \n",
       "314                                  []                none   \n",
       "315                                  []                none   \n",
       "316  [\\r\\n  \"mcasImpossibleTravel\"\\r\\n]              medium   \n",
       "317  [\\r\\n  \"mcasImpossibleTravel\"\\r\\n]              medium   \n",
       "318                                  []                none   \n",
       "\n",
       "    RiskLevelDuringSignIn RiskState                   ResourceDisplayName  \\\n",
       "0                    none      none  Windows Azure Service Management API   \n",
       "1                    none      none                       Microsoft Graph   \n",
       "2                    none      none                       Microsoft Graph   \n",
       "3                    none      none  Windows Azure Service Management API   \n",
       "4                    none    atRisk                       Microsoft Graph   \n",
       "..                    ...       ...                                   ...   \n",
       "314                  none      none                       Microsoft Graph   \n",
       "315                  none      none                       Microsoft Graph   \n",
       "316                  none    atRisk                       Microsoft Graph   \n",
       "317                  none    atRisk                       Microsoft Graph   \n",
       "318                  none      none                       Microsoft Graph   \n",
       "\n",
       "                         ResourceIdentity ServicePrincipalId  \\\n",
       "0    797f4846-ba00-4fd7-ba43-dac1f8f63013                      \n",
       "1    00000003-0000-0000-c000-000000000000                      \n",
       "2    00000003-0000-0000-c000-000000000000                      \n",
       "3    797f4846-ba00-4fd7-ba43-dac1f8f63013                      \n",
       "4    00000003-0000-0000-c000-000000000000                      \n",
       "..                                    ...                ...   \n",
       "314  00000003-0000-0000-c000-000000000000                      \n",
       "315  00000003-0000-0000-c000-000000000000                      \n",
       "316  00000003-0000-0000-c000-000000000000                      \n",
       "317  00000003-0000-0000-c000-000000000000                      \n",
       "318  00000003-0000-0000-c000-000000000000                      \n",
       "\n",
       "    ServicePrincipalName  \\\n",
       "0                          \n",
       "1                          \n",
       "2                          \n",
       "3                          \n",
       "4                          \n",
       "..                   ...   \n",
       "314                        \n",
       "315                        \n",
       "316                        \n",
       "317                        \n",
       "318                        \n",
       "\n",
       "                                                                                                  Status  \\\n",
       "0                                                                                       {'errorCode': 0}   \n",
       "1                                                                                       {'errorCode': 0}   \n",
       "2                                                                                       {'errorCode': 0}   \n",
       "3                                                                                       {'errorCode': 0}   \n",
       "4                                                                                       {'errorCode': 0}   \n",
       "..                                                                                                   ...   \n",
       "314                                                                                     {'errorCode': 0}   \n",
       "315  {'errorCode': 50126, 'failureReason': 'Invalid username or password or Invalid on-premise userna...   \n",
       "316                                                                                     {'errorCode': 0}   \n",
       "317                                                                                     {'errorCode': 0}   \n",
       "318                                                                                     {'errorCode': 0}   \n",
       "\n",
       "    TokenIssuerName TokenIssuerType  \\\n",
       "0                           AzureAD   \n",
       "1                           AzureAD   \n",
       "2                           AzureAD   \n",
       "3                           AzureAD   \n",
       "4                           AzureAD   \n",
       "..              ...             ...   \n",
       "314                         AzureAD   \n",
       "315                         AzureAD   \n",
       "316                         AzureAD   \n",
       "317                         AzureAD   \n",
       "318                         AzureAD   \n",
       "\n",
       "                                                                                               UserAgent  \\\n",
       "0    Mozilla/5.0 (Macintosh; Intel Mac OS X 10_15_7) AppleWebKit/605.1.15 (KHTML, like Gecko) Version...   \n",
       "1    Mozilla/5.0 (Macintosh; Intel Mac OS X 10_15_7) AppleWebKit/537.36 (KHTML, like Gecko) Chrome/91...   \n",
       "2    Mozilla/5.0 (Macintosh; Intel Mac OS X 10_15_7) AppleWebKit/537.36 (KHTML, like Gecko) Chrome/91...   \n",
       "3    Mozilla/5.0 (Macintosh; Intel Mac OS X 10_15_7) AppleWebKit/605.1.15 (KHTML, like Gecko) Version...   \n",
       "4    Mozilla/5.0 (Macintosh; Intel Mac OS X 10_15_7) AppleWebKit/537.36 (KHTML, like Gecko) Chrome/91...   \n",
       "..                                                                                                   ...   \n",
       "314  Mozilla/5.0 (Windows NT 10.0; Win64; x64) AppleWebKit/537.36 (KHTML, like Gecko) Chrome/91.0.447...   \n",
       "315                                                                                                        \n",
       "316  Mozilla/5.0 (Windows NT 10.0; WOW64) AppleWebKit/537.36 (KHTML, like Gecko) Chrome/91.0.4472.114...   \n",
       "317  Mozilla/5.0 (Windows NT 10.0; WOW64) AppleWebKit/537.36 (KHTML, like Gecko) Chrome/91.0.4472.114...   \n",
       "318  Mozilla/5.0 (Macintosh; Intel Mac OS X 10_15_7) AppleWebKit/537.36 (KHTML, like Gecko) Chrome/91...   \n",
       "\n",
       "         UserDisplayName                                UserId  \\\n",
       "0    Purview DataCurator  ad75bd68-b15a-465b-8192-0bf2ce84095a   \n",
       "1    Purview DataCurator  ad75bd68-b15a-465b-8192-0bf2ce84095a   \n",
       "2    Purview DataCurator  ad75bd68-b15a-465b-8192-0bf2ce84095a   \n",
       "3    Purview DataCurator  ad75bd68-b15a-465b-8192-0bf2ce84095a   \n",
       "4    Purview DataCurator  ad75bd68-b15a-465b-8192-0bf2ce84095a   \n",
       "..                   ...                                   ...   \n",
       "314  Purview DataCurator  ad75bd68-b15a-465b-8192-0bf2ce84095a   \n",
       "315  Purview DataCurator  ad75bd68-b15a-465b-8192-0bf2ce84095a   \n",
       "316  Purview DataCurator  ad75bd68-b15a-465b-8192-0bf2ce84095a   \n",
       "317  Purview DataCurator  ad75bd68-b15a-465b-8192-0bf2ce84095a   \n",
       "318  Purview DataCurator  ad75bd68-b15a-465b-8192-0bf2ce84095a   \n",
       "\n",
       "          UserPrincipalName                           AADTenantId UserType  \\\n",
       "0    purviewdc@seccxp.ninja  4b2462a4-bbee-495a-a0e1-f23ae524cc9c   Member   \n",
       "1    purviewdc@seccxp.ninja  4b2462a4-bbee-495a-a0e1-f23ae524cc9c   Member   \n",
       "2    purviewdc@seccxp.ninja  4b2462a4-bbee-495a-a0e1-f23ae524cc9c   Member   \n",
       "3    purviewdc@seccxp.ninja  4b2462a4-bbee-495a-a0e1-f23ae524cc9c   Member   \n",
       "4    purviewdc@seccxp.ninja  4b2462a4-bbee-495a-a0e1-f23ae524cc9c   Member   \n",
       "..                      ...                                   ...      ...   \n",
       "314  purviewdc@seccxp.ninja  4b2462a4-bbee-495a-a0e1-f23ae524cc9c   Member   \n",
       "315  purviewdc@seccxp.ninja  4b2462a4-bbee-495a-a0e1-f23ae524cc9c            \n",
       "316  purviewdc@seccxp.ninja  4b2462a4-bbee-495a-a0e1-f23ae524cc9c   Member   \n",
       "317  purviewdc@seccxp.ninja  4b2462a4-bbee-495a-a0e1-f23ae524cc9c   Member   \n",
       "318  purviewdc@seccxp.ninja  4b2462a4-bbee-495a-a0e1-f23ae524cc9c   Member   \n",
       "\n",
       "    FlaggedForReview IPAddressFromResourceProvider        SignInIdentifier  \\\n",
       "0               None                                purviewdc@seccxp.ninja   \n",
       "1               None                                purviewdc@seccxp.ninja   \n",
       "2               None                                purviewdc@seccxp.ninja   \n",
       "3               None                                purviewdc@seccxp.ninja   \n",
       "4               None                                purviewdc@seccxp.ninja   \n",
       "..               ...                           ...                     ...   \n",
       "314             None                                purviewdc@seccxp.ninja   \n",
       "315             None                                purviewdc@seccxp.ninja   \n",
       "316             None                                purviewdc@seccxp.ninja   \n",
       "317             None                                purviewdc@seccxp.ninja   \n",
       "318             None                                purviewdc@seccxp.ninja   \n",
       "\n",
       "    SignInIdentifierType                      ResourceTenantId  \\\n",
       "0                         4b2462a4-bbee-495a-a0e1-f23ae524cc9c   \n",
       "1                         4b2462a4-bbee-495a-a0e1-f23ae524cc9c   \n",
       "2                         4b2462a4-bbee-495a-a0e1-f23ae524cc9c   \n",
       "3                         4b2462a4-bbee-495a-a0e1-f23ae524cc9c   \n",
       "4                         4b2462a4-bbee-495a-a0e1-f23ae524cc9c   \n",
       "..                   ...                                   ...   \n",
       "314                       4b2462a4-bbee-495a-a0e1-f23ae524cc9c   \n",
       "315                       6babcaad-604b-40ac-a9d7-9fd97c0b779f   \n",
       "316                       4b2462a4-bbee-495a-a0e1-f23ae524cc9c   \n",
       "317                       4b2462a4-bbee-495a-a0e1-f23ae524cc9c   \n",
       "318                       4b2462a4-bbee-495a-a0e1-f23ae524cc9c   \n",
       "\n",
       "                             HomeTenantId        Type  \n",
       "0    4b2462a4-bbee-495a-a0e1-f23ae524cc9c  SigninLogs  \n",
       "1    4b2462a4-bbee-495a-a0e1-f23ae524cc9c  SigninLogs  \n",
       "2    4b2462a4-bbee-495a-a0e1-f23ae524cc9c  SigninLogs  \n",
       "3    4b2462a4-bbee-495a-a0e1-f23ae524cc9c  SigninLogs  \n",
       "4    4b2462a4-bbee-495a-a0e1-f23ae524cc9c  SigninLogs  \n",
       "..                                    ...         ...  \n",
       "314  4b2462a4-bbee-495a-a0e1-f23ae524cc9c  SigninLogs  \n",
       "315  4b2462a4-bbee-495a-a0e1-f23ae524cc9c  SigninLogs  \n",
       "316  4b2462a4-bbee-495a-a0e1-f23ae524cc9c  SigninLogs  \n",
       "317  4b2462a4-bbee-495a-a0e1-f23ae524cc9c  SigninLogs  \n",
       "318  4b2462a4-bbee-495a-a0e1-f23ae524cc9c  SigninLogs  \n",
       "\n",
       "[319 rows x 66 columns]"
      ],
      "text/html": [
       "<div>\n",
       "<style scoped>\n",
       "    .dataframe tbody tr th:only-of-type {\n",
       "        vertical-align: middle;\n",
       "    }\n",
       "\n",
       "    .dataframe tbody tr th {\n",
       "        vertical-align: top;\n",
       "    }\n",
       "\n",
       "    .dataframe thead th {\n",
       "        text-align: right;\n",
       "    }\n",
       "</style>\n",
       "<table border=\"1\" class=\"dataframe\">\n",
       "  <thead>\n",
       "    <tr style=\"text-align: right;\">\n",
       "      <th></th>\n",
       "      <th>TenantId</th>\n",
       "      <th>SourceSystem</th>\n",
       "      <th>TimeGenerated</th>\n",
       "      <th>ResourceId</th>\n",
       "      <th>OperationName</th>\n",
       "      <th>OperationVersion</th>\n",
       "      <th>Category</th>\n",
       "      <th>ResultType</th>\n",
       "      <th>ResultSignature</th>\n",
       "      <th>ResultDescription</th>\n",
       "      <th>DurationMs</th>\n",
       "      <th>CorrelationId</th>\n",
       "      <th>Resource</th>\n",
       "      <th>ResourceGroup</th>\n",
       "      <th>ResourceProvider</th>\n",
       "      <th>Identity</th>\n",
       "      <th>Level</th>\n",
       "      <th>Location</th>\n",
       "      <th>AlternateSignInName</th>\n",
       "      <th>AppDisplayName</th>\n",
       "      <th>AppId</th>\n",
       "      <th>AuthenticationDetails</th>\n",
       "      <th>AuthenticationMethodsUsed</th>\n",
       "      <th>AuthenticationProcessingDetails</th>\n",
       "      <th>AuthenticationRequirement</th>\n",
       "      <th>...</th>\n",
       "      <th>RiskEventTypes</th>\n",
       "      <th>RiskEventTypes_V2</th>\n",
       "      <th>RiskLevelAggregated</th>\n",
       "      <th>RiskLevelDuringSignIn</th>\n",
       "      <th>RiskState</th>\n",
       "      <th>ResourceDisplayName</th>\n",
       "      <th>ResourceIdentity</th>\n",
       "      <th>ServicePrincipalId</th>\n",
       "      <th>ServicePrincipalName</th>\n",
       "      <th>Status</th>\n",
       "      <th>TokenIssuerName</th>\n",
       "      <th>TokenIssuerType</th>\n",
       "      <th>UserAgent</th>\n",
       "      <th>UserDisplayName</th>\n",
       "      <th>UserId</th>\n",
       "      <th>UserPrincipalName</th>\n",
       "      <th>AADTenantId</th>\n",
       "      <th>UserType</th>\n",
       "      <th>FlaggedForReview</th>\n",
       "      <th>IPAddressFromResourceProvider</th>\n",
       "      <th>SignInIdentifier</th>\n",
       "      <th>SignInIdentifierType</th>\n",
       "      <th>ResourceTenantId</th>\n",
       "      <th>HomeTenantId</th>\n",
       "      <th>Type</th>\n",
       "    </tr>\n",
       "  </thead>\n",
       "  <tbody>\n",
       "    <tr>\n",
       "      <th>0</th>\n",
       "      <td>8ecf8077-cf51-4820-aadd-14040956f35d</td>\n",
       "      <td>Azure AD</td>\n",
       "      <td>2021-06-18 15:00:59.181000+00:00</td>\n",
       "      <td>/tenants/4b2462a4-bbee-495a-a0e1-f23ae524cc9c/providers/Microsoft.aadiam</td>\n",
       "      <td>Sign-in activity</td>\n",
       "      <td>1.0</td>\n",
       "      <td>SignInLogs</td>\n",
       "      <td>0</td>\n",
       "      <td>None</td>\n",
       "      <td></td>\n",
       "      <td>0</td>\n",
       "      <td>9f5f7a97-b25a-4d7d-9080-18404ad03985</td>\n",
       "      <td>Microsoft.aadiam</td>\n",
       "      <td>Microsoft.aadiam</td>\n",
       "      <td></td>\n",
       "      <td>Purview DataCurator</td>\n",
       "      <td>4</td>\n",
       "      <td>GB</td>\n",
       "      <td>purviewdc@seccxp.ninja</td>\n",
       "      <td>Microsoft Azure CLI</td>\n",
       "      <td>04b07795-8ddb-461a-bbee-02f9e1bf7b46</td>\n",
       "      <td>[\\r\\n  {\\r\\n    \"authenticationStepDateTime\": \"2021-06-18T15:00:59.1811534+00:00\",\\r\\n    \"authe...</td>\n",
       "      <td></td>\n",
       "      <td>[\\r\\n  {\\r\\n    \"key\": \"IsCAEToken\",\\r\\n    \"value\": \"False\"\\r\\n  }\\r\\n]</td>\n",
       "      <td>singleFactorAuthentication</td>\n",
       "      <td>...</td>\n",
       "      <td>[]</td>\n",
       "      <td>[]</td>\n",
       "      <td>none</td>\n",
       "      <td>none</td>\n",
       "      <td>none</td>\n",
       "      <td>Windows Azure Service Management API</td>\n",
       "      <td>797f4846-ba00-4fd7-ba43-dac1f8f63013</td>\n",
       "      <td></td>\n",
       "      <td></td>\n",
       "      <td>{'errorCode': 0}</td>\n",
       "      <td></td>\n",
       "      <td>AzureAD</td>\n",
       "      <td>Mozilla/5.0 (Macintosh; Intel Mac OS X 10_15_7) AppleWebKit/605.1.15 (KHTML, like Gecko) Version...</td>\n",
       "      <td>Purview DataCurator</td>\n",
       "      <td>ad75bd68-b15a-465b-8192-0bf2ce84095a</td>\n",
       "      <td>purviewdc@seccxp.ninja</td>\n",
       "      <td>4b2462a4-bbee-495a-a0e1-f23ae524cc9c</td>\n",
       "      <td>Member</td>\n",
       "      <td>None</td>\n",
       "      <td></td>\n",
       "      <td>purviewdc@seccxp.ninja</td>\n",
       "      <td></td>\n",
       "      <td>4b2462a4-bbee-495a-a0e1-f23ae524cc9c</td>\n",
       "      <td>4b2462a4-bbee-495a-a0e1-f23ae524cc9c</td>\n",
       "      <td>SigninLogs</td>\n",
       "    </tr>\n",
       "    <tr>\n",
       "      <th>1</th>\n",
       "      <td>8ecf8077-cf51-4820-aadd-14040956f35d</td>\n",
       "      <td>Azure AD</td>\n",
       "      <td>2021-06-18 14:52:22.954000+00:00</td>\n",
       "      <td>/tenants/4b2462a4-bbee-495a-a0e1-f23ae524cc9c/providers/Microsoft.aadiam</td>\n",
       "      <td>Sign-in activity</td>\n",
       "      <td>1.0</td>\n",
       "      <td>SignInLogs</td>\n",
       "      <td>0</td>\n",
       "      <td>None</td>\n",
       "      <td></td>\n",
       "      <td>0</td>\n",
       "      <td>a11ce5b0-272c-4f3c-8f50-d13edc728764</td>\n",
       "      <td>Microsoft.aadiam</td>\n",
       "      <td>Microsoft.aadiam</td>\n",
       "      <td></td>\n",
       "      <td>Purview DataCurator</td>\n",
       "      <td>4</td>\n",
       "      <td>GB</td>\n",
       "      <td>purviewdc@seccxp.ninja</td>\n",
       "      <td>Microsoft Azure Purview Studio</td>\n",
       "      <td>632d803a-b0c2-49b4-a944-e13c384c04a8</td>\n",
       "      <td>[\\r\\n  {\\r\\n    \"authenticationStepDateTime\": \"2021-06-18T14:52:22.9540657+00:00\",\\r\\n    \"authe...</td>\n",
       "      <td></td>\n",
       "      <td>[\\r\\n  {\\r\\n    \"key\": \"IsCAEToken\",\\r\\n    \"value\": \"False\"\\r\\n  }\\r\\n]</td>\n",
       "      <td>singleFactorAuthentication</td>\n",
       "      <td>...</td>\n",
       "      <td>[]</td>\n",
       "      <td>[]</td>\n",
       "      <td>none</td>\n",
       "      <td>none</td>\n",
       "      <td>none</td>\n",
       "      <td>Microsoft Graph</td>\n",
       "      <td>00000003-0000-0000-c000-000000000000</td>\n",
       "      <td></td>\n",
       "      <td></td>\n",
       "      <td>{'errorCode': 0}</td>\n",
       "      <td></td>\n",
       "      <td>AzureAD</td>\n",
       "      <td>Mozilla/5.0 (Macintosh; Intel Mac OS X 10_15_7) AppleWebKit/537.36 (KHTML, like Gecko) Chrome/91...</td>\n",
       "      <td>Purview DataCurator</td>\n",
       "      <td>ad75bd68-b15a-465b-8192-0bf2ce84095a</td>\n",
       "      <td>purviewdc@seccxp.ninja</td>\n",
       "      <td>4b2462a4-bbee-495a-a0e1-f23ae524cc9c</td>\n",
       "      <td>Member</td>\n",
       "      <td>None</td>\n",
       "      <td></td>\n",
       "      <td>purviewdc@seccxp.ninja</td>\n",
       "      <td></td>\n",
       "      <td>4b2462a4-bbee-495a-a0e1-f23ae524cc9c</td>\n",
       "      <td>4b2462a4-bbee-495a-a0e1-f23ae524cc9c</td>\n",
       "      <td>SigninLogs</td>\n",
       "    </tr>\n",
       "    <tr>\n",
       "      <th>2</th>\n",
       "      <td>8ecf8077-cf51-4820-aadd-14040956f35d</td>\n",
       "      <td>Azure AD</td>\n",
       "      <td>2021-06-19 15:12:18.290000+00:00</td>\n",
       "      <td>/tenants/4b2462a4-bbee-495a-a0e1-f23ae524cc9c/providers/Microsoft.aadiam</td>\n",
       "      <td>Sign-in activity</td>\n",
       "      <td>1.0</td>\n",
       "      <td>SignInLogs</td>\n",
       "      <td>0</td>\n",
       "      <td>None</td>\n",
       "      <td></td>\n",
       "      <td>0</td>\n",
       "      <td>15264990-6fb2-4011-b79b-37aa76325d9f</td>\n",
       "      <td>Microsoft.aadiam</td>\n",
       "      <td>Microsoft.aadiam</td>\n",
       "      <td></td>\n",
       "      <td>Purview DataCurator</td>\n",
       "      <td>4</td>\n",
       "      <td>GB</td>\n",
       "      <td>purviewdc@seccxp.ninja</td>\n",
       "      <td>Microsoft Azure Purview Studio</td>\n",
       "      <td>632d803a-b0c2-49b4-a944-e13c384c04a8</td>\n",
       "      <td>[\\r\\n  {\\r\\n    \"authenticationStepDateTime\": \"2021-06-19T15:12:18.2907927+00:00\",\\r\\n    \"authe...</td>\n",
       "      <td></td>\n",
       "      <td>[\\r\\n  {\\r\\n    \"key\": \"IsCAEToken\",\\r\\n    \"value\": \"False\"\\r\\n  }\\r\\n]</td>\n",
       "      <td>singleFactorAuthentication</td>\n",
       "      <td>...</td>\n",
       "      <td>[]</td>\n",
       "      <td>[]</td>\n",
       "      <td>none</td>\n",
       "      <td>none</td>\n",
       "      <td>none</td>\n",
       "      <td>Microsoft Graph</td>\n",
       "      <td>00000003-0000-0000-c000-000000000000</td>\n",
       "      <td></td>\n",
       "      <td></td>\n",
       "      <td>{'errorCode': 0}</td>\n",
       "      <td></td>\n",
       "      <td>AzureAD</td>\n",
       "      <td>Mozilla/5.0 (Macintosh; Intel Mac OS X 10_15_7) AppleWebKit/537.36 (KHTML, like Gecko) Chrome/91...</td>\n",
       "      <td>Purview DataCurator</td>\n",
       "      <td>ad75bd68-b15a-465b-8192-0bf2ce84095a</td>\n",
       "      <td>purviewdc@seccxp.ninja</td>\n",
       "      <td>4b2462a4-bbee-495a-a0e1-f23ae524cc9c</td>\n",
       "      <td>Member</td>\n",
       "      <td>None</td>\n",
       "      <td></td>\n",
       "      <td>purviewdc@seccxp.ninja</td>\n",
       "      <td></td>\n",
       "      <td>4b2462a4-bbee-495a-a0e1-f23ae524cc9c</td>\n",
       "      <td>4b2462a4-bbee-495a-a0e1-f23ae524cc9c</td>\n",
       "      <td>SigninLogs</td>\n",
       "    </tr>\n",
       "    <tr>\n",
       "      <th>3</th>\n",
       "      <td>8ecf8077-cf51-4820-aadd-14040956f35d</td>\n",
       "      <td>Azure AD</td>\n",
       "      <td>2021-06-19 15:12:56.868000+00:00</td>\n",
       "      <td>/tenants/4b2462a4-bbee-495a-a0e1-f23ae524cc9c/providers/Microsoft.aadiam</td>\n",
       "      <td>Sign-in activity</td>\n",
       "      <td>1.0</td>\n",
       "      <td>SignInLogs</td>\n",
       "      <td>0</td>\n",
       "      <td>None</td>\n",
       "      <td></td>\n",
       "      <td>0</td>\n",
       "      <td>71e2abb3-8b3c-4d70-bb60-52470474ad1f</td>\n",
       "      <td>Microsoft.aadiam</td>\n",
       "      <td>Microsoft.aadiam</td>\n",
       "      <td></td>\n",
       "      <td>Purview DataCurator</td>\n",
       "      <td>4</td>\n",
       "      <td>GB</td>\n",
       "      <td>purviewdc@seccxp.ninja</td>\n",
       "      <td>Microsoft Azure CLI</td>\n",
       "      <td>04b07795-8ddb-461a-bbee-02f9e1bf7b46</td>\n",
       "      <td>[\\r\\n  {\\r\\n    \"authenticationStepDateTime\": \"2021-06-19T15:12:56.8682904+00:00\",\\r\\n    \"authe...</td>\n",
       "      <td></td>\n",
       "      <td>[\\r\\n  {\\r\\n    \"key\": \"IsCAEToken\",\\r\\n    \"value\": \"False\"\\r\\n  }\\r\\n]</td>\n",
       "      <td>singleFactorAuthentication</td>\n",
       "      <td>...</td>\n",
       "      <td>[]</td>\n",
       "      <td>[]</td>\n",
       "      <td>none</td>\n",
       "      <td>none</td>\n",
       "      <td>none</td>\n",
       "      <td>Windows Azure Service Management API</td>\n",
       "      <td>797f4846-ba00-4fd7-ba43-dac1f8f63013</td>\n",
       "      <td></td>\n",
       "      <td></td>\n",
       "      <td>{'errorCode': 0}</td>\n",
       "      <td></td>\n",
       "      <td>AzureAD</td>\n",
       "      <td>Mozilla/5.0 (Macintosh; Intel Mac OS X 10_15_7) AppleWebKit/605.1.15 (KHTML, like Gecko) Version...</td>\n",
       "      <td>Purview DataCurator</td>\n",
       "      <td>ad75bd68-b15a-465b-8192-0bf2ce84095a</td>\n",
       "      <td>purviewdc@seccxp.ninja</td>\n",
       "      <td>4b2462a4-bbee-495a-a0e1-f23ae524cc9c</td>\n",
       "      <td>Member</td>\n",
       "      <td>None</td>\n",
       "      <td></td>\n",
       "      <td>purviewdc@seccxp.ninja</td>\n",
       "      <td></td>\n",
       "      <td>4b2462a4-bbee-495a-a0e1-f23ae524cc9c</td>\n",
       "      <td>4b2462a4-bbee-495a-a0e1-f23ae524cc9c</td>\n",
       "      <td>SigninLogs</td>\n",
       "    </tr>\n",
       "    <tr>\n",
       "      <th>4</th>\n",
       "      <td>8ecf8077-cf51-4820-aadd-14040956f35d</td>\n",
       "      <td>Azure AD</td>\n",
       "      <td>2021-06-24 22:05:44.049000+00:00</td>\n",
       "      <td>/tenants/4b2462a4-bbee-495a-a0e1-f23ae524cc9c/providers/Microsoft.aadiam</td>\n",
       "      <td>Sign-in activity</td>\n",
       "      <td>1.0</td>\n",
       "      <td>SignInLogs</td>\n",
       "      <td>0</td>\n",
       "      <td>None</td>\n",
       "      <td></td>\n",
       "      <td>0</td>\n",
       "      <td>797973bb-1c1a-4818-8356-0ea4984d0fb7</td>\n",
       "      <td>Microsoft.aadiam</td>\n",
       "      <td>Microsoft.aadiam</td>\n",
       "      <td></td>\n",
       "      <td>Purview DataCurator</td>\n",
       "      <td>4</td>\n",
       "      <td>GB</td>\n",
       "      <td>purviewdc@seccxp.ninja</td>\n",
       "      <td>Microsoft Azure Purview Studio</td>\n",
       "      <td>632d803a-b0c2-49b4-a944-e13c384c04a8</td>\n",
       "      <td>[\\r\\n  {\\r\\n    \"authenticationStepDateTime\": \"2021-06-24T22:05:44.0494684+00:00\",\\r\\n    \"authe...</td>\n",
       "      <td></td>\n",
       "      <td>[\\r\\n  {\\r\\n    \"key\": \"IsCAEToken\",\\r\\n    \"value\": \"False\"\\r\\n  }\\r\\n]</td>\n",
       "      <td>singleFactorAuthentication</td>\n",
       "      <td>...</td>\n",
       "      <td>[\\r\\n  \"mcasImpossibleTravel\"\\r\\n]</td>\n",
       "      <td>[\\r\\n  \"mcasImpossibleTravel\"\\r\\n]</td>\n",
       "      <td>low</td>\n",
       "      <td>none</td>\n",
       "      <td>atRisk</td>\n",
       "      <td>Microsoft Graph</td>\n",
       "      <td>00000003-0000-0000-c000-000000000000</td>\n",
       "      <td></td>\n",
       "      <td></td>\n",
       "      <td>{'errorCode': 0}</td>\n",
       "      <td></td>\n",
       "      <td>AzureAD</td>\n",
       "      <td>Mozilla/5.0 (Macintosh; Intel Mac OS X 10_15_7) AppleWebKit/537.36 (KHTML, like Gecko) Chrome/91...</td>\n",
       "      <td>Purview DataCurator</td>\n",
       "      <td>ad75bd68-b15a-465b-8192-0bf2ce84095a</td>\n",
       "      <td>purviewdc@seccxp.ninja</td>\n",
       "      <td>4b2462a4-bbee-495a-a0e1-f23ae524cc9c</td>\n",
       "      <td>Member</td>\n",
       "      <td>None</td>\n",
       "      <td></td>\n",
       "      <td>purviewdc@seccxp.ninja</td>\n",
       "      <td></td>\n",
       "      <td>4b2462a4-bbee-495a-a0e1-f23ae524cc9c</td>\n",
       "      <td>4b2462a4-bbee-495a-a0e1-f23ae524cc9c</td>\n",
       "      <td>SigninLogs</td>\n",
       "    </tr>\n",
       "    <tr>\n",
       "      <th>...</th>\n",
       "      <td>...</td>\n",
       "      <td>...</td>\n",
       "      <td>...</td>\n",
       "      <td>...</td>\n",
       "      <td>...</td>\n",
       "      <td>...</td>\n",
       "      <td>...</td>\n",
       "      <td>...</td>\n",
       "      <td>...</td>\n",
       "      <td>...</td>\n",
       "      <td>...</td>\n",
       "      <td>...</td>\n",
       "      <td>...</td>\n",
       "      <td>...</td>\n",
       "      <td>...</td>\n",
       "      <td>...</td>\n",
       "      <td>...</td>\n",
       "      <td>...</td>\n",
       "      <td>...</td>\n",
       "      <td>...</td>\n",
       "      <td>...</td>\n",
       "      <td>...</td>\n",
       "      <td>...</td>\n",
       "      <td>...</td>\n",
       "      <td>...</td>\n",
       "      <td>...</td>\n",
       "      <td>...</td>\n",
       "      <td>...</td>\n",
       "      <td>...</td>\n",
       "      <td>...</td>\n",
       "      <td>...</td>\n",
       "      <td>...</td>\n",
       "      <td>...</td>\n",
       "      <td>...</td>\n",
       "      <td>...</td>\n",
       "      <td>...</td>\n",
       "      <td>...</td>\n",
       "      <td>...</td>\n",
       "      <td>...</td>\n",
       "      <td>...</td>\n",
       "      <td>...</td>\n",
       "      <td>...</td>\n",
       "      <td>...</td>\n",
       "      <td>...</td>\n",
       "      <td>...</td>\n",
       "      <td>...</td>\n",
       "      <td>...</td>\n",
       "      <td>...</td>\n",
       "      <td>...</td>\n",
       "      <td>...</td>\n",
       "      <td>...</td>\n",
       "    </tr>\n",
       "    <tr>\n",
       "      <th>314</th>\n",
       "      <td>8ecf8077-cf51-4820-aadd-14040956f35d</td>\n",
       "      <td>Azure AD</td>\n",
       "      <td>2021-06-25 17:47:54.873000+00:00</td>\n",
       "      <td>/tenants/4b2462a4-bbee-495a-a0e1-f23ae524cc9c/providers/Microsoft.aadiam</td>\n",
       "      <td>Sign-in activity</td>\n",
       "      <td>1.0</td>\n",
       "      <td>SignInLogs</td>\n",
       "      <td>0</td>\n",
       "      <td>None</td>\n",
       "      <td></td>\n",
       "      <td>0</td>\n",
       "      <td>b0efb68b-fb92-4f25-9cc5-b8611b1f8c16</td>\n",
       "      <td>Microsoft.aadiam</td>\n",
       "      <td>Microsoft.aadiam</td>\n",
       "      <td></td>\n",
       "      <td>Purview DataCurator</td>\n",
       "      <td>4</td>\n",
       "      <td>MX</td>\n",
       "      <td>purviewdc@seccxp.ninja</td>\n",
       "      <td>Microsoft Azure Purview Studio</td>\n",
       "      <td>632d803a-b0c2-49b4-a944-e13c384c04a8</td>\n",
       "      <td>[\\r\\n  {\\r\\n    \"authenticationStepDateTime\": \"2021-06-25T17:47:54.8731359+00:00\",\\r\\n    \"authe...</td>\n",
       "      <td></td>\n",
       "      <td>[\\r\\n  {\\r\\n    \"key\": \"IsCAEToken\",\\r\\n    \"value\": \"False\"\\r\\n  }\\r\\n]</td>\n",
       "      <td>singleFactorAuthentication</td>\n",
       "      <td>...</td>\n",
       "      <td>[]</td>\n",
       "      <td>[]</td>\n",
       "      <td>none</td>\n",
       "      <td>none</td>\n",
       "      <td>none</td>\n",
       "      <td>Microsoft Graph</td>\n",
       "      <td>00000003-0000-0000-c000-000000000000</td>\n",
       "      <td></td>\n",
       "      <td></td>\n",
       "      <td>{'errorCode': 0}</td>\n",
       "      <td></td>\n",
       "      <td>AzureAD</td>\n",
       "      <td>Mozilla/5.0 (Windows NT 10.0; Win64; x64) AppleWebKit/537.36 (KHTML, like Gecko) Chrome/91.0.447...</td>\n",
       "      <td>Purview DataCurator</td>\n",
       "      <td>ad75bd68-b15a-465b-8192-0bf2ce84095a</td>\n",
       "      <td>purviewdc@seccxp.ninja</td>\n",
       "      <td>4b2462a4-bbee-495a-a0e1-f23ae524cc9c</td>\n",
       "      <td>Member</td>\n",
       "      <td>None</td>\n",
       "      <td></td>\n",
       "      <td>purviewdc@seccxp.ninja</td>\n",
       "      <td></td>\n",
       "      <td>4b2462a4-bbee-495a-a0e1-f23ae524cc9c</td>\n",
       "      <td>4b2462a4-bbee-495a-a0e1-f23ae524cc9c</td>\n",
       "      <td>SigninLogs</td>\n",
       "    </tr>\n",
       "    <tr>\n",
       "      <th>315</th>\n",
       "      <td>8ecf8077-cf51-4820-aadd-14040956f35d</td>\n",
       "      <td>Azure AD</td>\n",
       "      <td>2021-06-26 07:01:21.432000+00:00</td>\n",
       "      <td>/tenants/4b2462a4-bbee-495a-a0e1-f23ae524cc9c/providers/Microsoft.aadiam</td>\n",
       "      <td>Sign-in activity</td>\n",
       "      <td>1.0</td>\n",
       "      <td>SignInLogs</td>\n",
       "      <td>50126</td>\n",
       "      <td>None</td>\n",
       "      <td>Invalid username or password or Invalid on-premise username or password.</td>\n",
       "      <td>0</td>\n",
       "      <td>7079b381-6c9d-43c1-96b3-90b7b5282cdc</td>\n",
       "      <td>Microsoft.aadiam</td>\n",
       "      <td>Microsoft.aadiam</td>\n",
       "      <td></td>\n",
       "      <td>Purview DataCurator</td>\n",
       "      <td>4</td>\n",
       "      <td>US</td>\n",
       "      <td>purviewdc@seccxp.ninja</td>\n",
       "      <td></td>\n",
       "      <td>01350135-0135-4135-0135-013501350135</td>\n",
       "      <td>[\\r\\n  {\\r\\n    \"authenticationStepDateTime\": \"2021-06-26T07:01:21.4320569+00:00\",\\r\\n    \"authe...</td>\n",
       "      <td></td>\n",
       "      <td>[\\r\\n  {\\r\\n    \"key\": \"IsCAEToken\",\\r\\n    \"value\": \"False\"\\r\\n  }\\r\\n]</td>\n",
       "      <td>singleFactorAuthentication</td>\n",
       "      <td>...</td>\n",
       "      <td>[]</td>\n",
       "      <td>[]</td>\n",
       "      <td>none</td>\n",
       "      <td>none</td>\n",
       "      <td>none</td>\n",
       "      <td>Microsoft Graph</td>\n",
       "      <td>00000003-0000-0000-c000-000000000000</td>\n",
       "      <td></td>\n",
       "      <td></td>\n",
       "      <td>{'errorCode': 50126, 'failureReason': 'Invalid username or password or Invalid on-premise userna...</td>\n",
       "      <td></td>\n",
       "      <td>AzureAD</td>\n",
       "      <td></td>\n",
       "      <td>Purview DataCurator</td>\n",
       "      <td>ad75bd68-b15a-465b-8192-0bf2ce84095a</td>\n",
       "      <td>purviewdc@seccxp.ninja</td>\n",
       "      <td>4b2462a4-bbee-495a-a0e1-f23ae524cc9c</td>\n",
       "      <td></td>\n",
       "      <td>None</td>\n",
       "      <td></td>\n",
       "      <td>purviewdc@seccxp.ninja</td>\n",
       "      <td></td>\n",
       "      <td>6babcaad-604b-40ac-a9d7-9fd97c0b779f</td>\n",
       "      <td>4b2462a4-bbee-495a-a0e1-f23ae524cc9c</td>\n",
       "      <td>SigninLogs</td>\n",
       "    </tr>\n",
       "    <tr>\n",
       "      <th>316</th>\n",
       "      <td>8ecf8077-cf51-4820-aadd-14040956f35d</td>\n",
       "      <td>Azure AD</td>\n",
       "      <td>2021-06-24 17:59:11.873000+00:00</td>\n",
       "      <td>/tenants/4b2462a4-bbee-495a-a0e1-f23ae524cc9c/providers/Microsoft.aadiam</td>\n",
       "      <td>Sign-in activity</td>\n",
       "      <td>1.0</td>\n",
       "      <td>SignInLogs</td>\n",
       "      <td>0</td>\n",
       "      <td>None</td>\n",
       "      <td></td>\n",
       "      <td>0</td>\n",
       "      <td>855cef14-1389-45d2-b74a-c085517afcf9</td>\n",
       "      <td>Microsoft.aadiam</td>\n",
       "      <td>Microsoft.aadiam</td>\n",
       "      <td></td>\n",
       "      <td>Purview DataCurator</td>\n",
       "      <td>4</td>\n",
       "      <td>MX</td>\n",
       "      <td>purviewdc@seccxp.ninja</td>\n",
       "      <td>Microsoft Azure Purview Studio</td>\n",
       "      <td>632d803a-b0c2-49b4-a944-e13c384c04a8</td>\n",
       "      <td>[\\r\\n  {\\r\\n    \"authenticationStepDateTime\": \"2021-06-24T17:59:11.8730564+00:00\",\\r\\n    \"authe...</td>\n",
       "      <td></td>\n",
       "      <td>[\\r\\n  {\\r\\n    \"key\": \"IsCAEToken\",\\r\\n    \"value\": \"False\"\\r\\n  }\\r\\n]</td>\n",
       "      <td>singleFactorAuthentication</td>\n",
       "      <td>...</td>\n",
       "      <td>[\\r\\n  \"mcasImpossibleTravel\"\\r\\n]</td>\n",
       "      <td>[\\r\\n  \"mcasImpossibleTravel\"\\r\\n]</td>\n",
       "      <td>medium</td>\n",
       "      <td>none</td>\n",
       "      <td>atRisk</td>\n",
       "      <td>Microsoft Graph</td>\n",
       "      <td>00000003-0000-0000-c000-000000000000</td>\n",
       "      <td></td>\n",
       "      <td></td>\n",
       "      <td>{'errorCode': 0}</td>\n",
       "      <td></td>\n",
       "      <td>AzureAD</td>\n",
       "      <td>Mozilla/5.0 (Windows NT 10.0; WOW64) AppleWebKit/537.36 (KHTML, like Gecko) Chrome/91.0.4472.114...</td>\n",
       "      <td>Purview DataCurator</td>\n",
       "      <td>ad75bd68-b15a-465b-8192-0bf2ce84095a</td>\n",
       "      <td>purviewdc@seccxp.ninja</td>\n",
       "      <td>4b2462a4-bbee-495a-a0e1-f23ae524cc9c</td>\n",
       "      <td>Member</td>\n",
       "      <td>None</td>\n",
       "      <td></td>\n",
       "      <td>purviewdc@seccxp.ninja</td>\n",
       "      <td></td>\n",
       "      <td>4b2462a4-bbee-495a-a0e1-f23ae524cc9c</td>\n",
       "      <td>4b2462a4-bbee-495a-a0e1-f23ae524cc9c</td>\n",
       "      <td>SigninLogs</td>\n",
       "    </tr>\n",
       "    <tr>\n",
       "      <th>317</th>\n",
       "      <td>8ecf8077-cf51-4820-aadd-14040956f35d</td>\n",
       "      <td>Azure AD</td>\n",
       "      <td>2021-06-24 17:59:11.873000+00:00</td>\n",
       "      <td>/tenants/4b2462a4-bbee-495a-a0e1-f23ae524cc9c/providers/Microsoft.aadiam</td>\n",
       "      <td>Sign-in activity</td>\n",
       "      <td>1.0</td>\n",
       "      <td>SignInLogs</td>\n",
       "      <td>0</td>\n",
       "      <td>None</td>\n",
       "      <td></td>\n",
       "      <td>0</td>\n",
       "      <td>855cef14-1389-45d2-b74a-c085517afcf9</td>\n",
       "      <td>Microsoft.aadiam</td>\n",
       "      <td>Microsoft.aadiam</td>\n",
       "      <td></td>\n",
       "      <td>Purview DataCurator</td>\n",
       "      <td>4</td>\n",
       "      <td>MX</td>\n",
       "      <td>purviewdc@seccxp.ninja</td>\n",
       "      <td>Microsoft Azure Purview Studio</td>\n",
       "      <td>632d803a-b0c2-49b4-a944-e13c384c04a8</td>\n",
       "      <td>[\\r\\n  {\\r\\n    \"authenticationStepDateTime\": \"2021-06-24T17:59:11.8730564+00:00\",\\r\\n    \"authe...</td>\n",
       "      <td></td>\n",
       "      <td>[\\r\\n  {\\r\\n    \"key\": \"IsCAEToken\",\\r\\n    \"value\": \"False\"\\r\\n  }\\r\\n]</td>\n",
       "      <td>singleFactorAuthentication</td>\n",
       "      <td>...</td>\n",
       "      <td>[\\r\\n  \"mcasImpossibleTravel\"\\r\\n]</td>\n",
       "      <td>[\\r\\n  \"mcasImpossibleTravel\"\\r\\n]</td>\n",
       "      <td>medium</td>\n",
       "      <td>none</td>\n",
       "      <td>atRisk</td>\n",
       "      <td>Microsoft Graph</td>\n",
       "      <td>00000003-0000-0000-c000-000000000000</td>\n",
       "      <td></td>\n",
       "      <td></td>\n",
       "      <td>{'errorCode': 0}</td>\n",
       "      <td></td>\n",
       "      <td>AzureAD</td>\n",
       "      <td>Mozilla/5.0 (Windows NT 10.0; WOW64) AppleWebKit/537.36 (KHTML, like Gecko) Chrome/91.0.4472.114...</td>\n",
       "      <td>Purview DataCurator</td>\n",
       "      <td>ad75bd68-b15a-465b-8192-0bf2ce84095a</td>\n",
       "      <td>purviewdc@seccxp.ninja</td>\n",
       "      <td>4b2462a4-bbee-495a-a0e1-f23ae524cc9c</td>\n",
       "      <td>Member</td>\n",
       "      <td>None</td>\n",
       "      <td></td>\n",
       "      <td>purviewdc@seccxp.ninja</td>\n",
       "      <td></td>\n",
       "      <td>4b2462a4-bbee-495a-a0e1-f23ae524cc9c</td>\n",
       "      <td>4b2462a4-bbee-495a-a0e1-f23ae524cc9c</td>\n",
       "      <td>SigninLogs</td>\n",
       "    </tr>\n",
       "    <tr>\n",
       "      <th>318</th>\n",
       "      <td>8ecf8077-cf51-4820-aadd-14040956f35d</td>\n",
       "      <td>Azure AD</td>\n",
       "      <td>2021-06-26 09:39:56.941000+00:00</td>\n",
       "      <td>/tenants/4b2462a4-bbee-495a-a0e1-f23ae524cc9c/providers/Microsoft.aadiam</td>\n",
       "      <td>Sign-in activity</td>\n",
       "      <td>1.0</td>\n",
       "      <td>SignInLogs</td>\n",
       "      <td>0</td>\n",
       "      <td>None</td>\n",
       "      <td></td>\n",
       "      <td>0</td>\n",
       "      <td>1d00c968-366b-4956-bbd4-e7b1a2c3f387</td>\n",
       "      <td>Microsoft.aadiam</td>\n",
       "      <td>Microsoft.aadiam</td>\n",
       "      <td></td>\n",
       "      <td>Purview DataCurator</td>\n",
       "      <td>4</td>\n",
       "      <td>GB</td>\n",
       "      <td>purviewdc@seccxp.ninja</td>\n",
       "      <td>Microsoft Azure Purview Studio</td>\n",
       "      <td>632d803a-b0c2-49b4-a944-e13c384c04a8</td>\n",
       "      <td>[\\r\\n  {\\r\\n    \"authenticationStepDateTime\": \"2021-06-26T09:39:56.9414126+00:00\",\\r\\n    \"authe...</td>\n",
       "      <td></td>\n",
       "      <td>[\\r\\n  {\\r\\n    \"key\": \"IsCAEToken\",\\r\\n    \"value\": \"False\"\\r\\n  }\\r\\n]</td>\n",
       "      <td>singleFactorAuthentication</td>\n",
       "      <td>...</td>\n",
       "      <td>[]</td>\n",
       "      <td>[]</td>\n",
       "      <td>none</td>\n",
       "      <td>none</td>\n",
       "      <td>none</td>\n",
       "      <td>Microsoft Graph</td>\n",
       "      <td>00000003-0000-0000-c000-000000000000</td>\n",
       "      <td></td>\n",
       "      <td></td>\n",
       "      <td>{'errorCode': 0}</td>\n",
       "      <td></td>\n",
       "      <td>AzureAD</td>\n",
       "      <td>Mozilla/5.0 (Macintosh; Intel Mac OS X 10_15_7) AppleWebKit/537.36 (KHTML, like Gecko) Chrome/91...</td>\n",
       "      <td>Purview DataCurator</td>\n",
       "      <td>ad75bd68-b15a-465b-8192-0bf2ce84095a</td>\n",
       "      <td>purviewdc@seccxp.ninja</td>\n",
       "      <td>4b2462a4-bbee-495a-a0e1-f23ae524cc9c</td>\n",
       "      <td>Member</td>\n",
       "      <td>None</td>\n",
       "      <td></td>\n",
       "      <td>purviewdc@seccxp.ninja</td>\n",
       "      <td></td>\n",
       "      <td>4b2462a4-bbee-495a-a0e1-f23ae524cc9c</td>\n",
       "      <td>4b2462a4-bbee-495a-a0e1-f23ae524cc9c</td>\n",
       "      <td>SigninLogs</td>\n",
       "    </tr>\n",
       "  </tbody>\n",
       "</table>\n",
       "<p>319 rows × 66 columns</p>\n",
       "</div>"
      ]
     },
     "metadata": {}
    }
   ],
   "metadata": {}
  },
  {
   "cell_type": "markdown",
   "source": [
    "## 9. Generate a union query"
   ],
   "metadata": {}
  },
  {
   "cell_type": "markdown",
   "source": [
    "As an alternative to running each query individually and seeing the individual tables, generate a single query and specify which columns you are interested in."
   ],
   "metadata": {}
  },
  {
   "cell_type": "code",
   "execution_count": 10,
   "source": [
    "field_names = ['TimeGenerated', 'Type', 'UserPrincipalName', 'ResourceId', 'IPAddress']\r\n",
    "query = e.generate_union_query('account', 'purviewdc@seccxp.ninja', field_names)"
   ],
   "outputs": [],
   "metadata": {}
  },
  {
   "cell_type": "markdown",
   "source": [
    "## 10. Run the union query"
   ],
   "metadata": {}
  },
  {
   "cell_type": "code",
   "execution_count": 11,
   "source": [
    "e.run_queries([query])"
   ],
   "outputs": [
    {
     "output_type": "stream",
     "name": "stdout",
     "text": [
      "(union isfuzzy= true\n",
      "(\n",
      "SigninLogs\n",
      "| where AlternateSignInName == \"purviewdc@seccxp.ninja\"\n",
      "or UserPrincipalName == \"purviewdc@seccxp.ninja\"\n",
      "or SignInIdentifier == \"purviewdc@seccxp.ninja\"\n",
      "))\n",
      "| project TimeGenerated, Type, UserPrincipalName, ResourceId, IPAddress\n",
      "---------------------------------------------------------------------------------------------------------------------------------------------------------------------------------------------------------------------------------------------------------------------\n"
     ]
    },
    {
     "output_type": "display_data",
     "data": {
      "text/plain": [
       "                        TimeGenerated        Type       UserPrincipalName  \\\n",
       "0    2021-06-23 13:41:44.680000+00:00  SigninLogs  purviewdc@seccxp.ninja   \n",
       "1    2021-06-23 13:31:25.987000+00:00  SigninLogs  purviewdc@seccxp.ninja   \n",
       "2    2021-06-23 14:58:42.828000+00:00  SigninLogs  purviewdc@seccxp.ninja   \n",
       "3    2021-06-23 14:58:47.266000+00:00  SigninLogs  purviewdc@seccxp.ninja   \n",
       "4    2021-06-23 14:06:31.726000+00:00  SigninLogs  purviewdc@seccxp.ninja   \n",
       "...                               ...         ...                     ...   \n",
       "1012 2021-07-08 12:34:48.348000+00:00  SigninLogs  purviewdc@seccxp.ninja   \n",
       "1013 2021-07-08 17:34:57.758000+00:00  SigninLogs  purviewdc@seccxp.ninja   \n",
       "1014 2021-07-08 13:47:37.035000+00:00  SigninLogs  purviewdc@seccxp.ninja   \n",
       "1015 2021-07-08 13:47:37.035000+00:00  SigninLogs  purviewdc@seccxp.ninja   \n",
       "1016 2021-07-08 17:34:57.758000+00:00  SigninLogs  purviewdc@seccxp.ninja   \n",
       "\n",
       "                                                                    ResourceId  \\\n",
       "0     /tenants/4b2462a4-bbee-495a-a0e1-f23ae524cc9c/providers/Microsoft.aadiam   \n",
       "1     /tenants/4b2462a4-bbee-495a-a0e1-f23ae524cc9c/providers/Microsoft.aadiam   \n",
       "2     /tenants/4b2462a4-bbee-495a-a0e1-f23ae524cc9c/providers/Microsoft.aadiam   \n",
       "3     /tenants/4b2462a4-bbee-495a-a0e1-f23ae524cc9c/providers/Microsoft.aadiam   \n",
       "4     /tenants/4b2462a4-bbee-495a-a0e1-f23ae524cc9c/providers/Microsoft.aadiam   \n",
       "...                                                                        ...   \n",
       "1012  /tenants/4b2462a4-bbee-495a-a0e1-f23ae524cc9c/providers/Microsoft.aadiam   \n",
       "1013  /tenants/4b2462a4-bbee-495a-a0e1-f23ae524cc9c/providers/Microsoft.aadiam   \n",
       "1014  /tenants/4b2462a4-bbee-495a-a0e1-f23ae524cc9c/providers/Microsoft.aadiam   \n",
       "1015  /tenants/4b2462a4-bbee-495a-a0e1-f23ae524cc9c/providers/Microsoft.aadiam   \n",
       "1016  /tenants/4b2462a4-bbee-495a-a0e1-f23ae524cc9c/providers/Microsoft.aadiam   \n",
       "\n",
       "            IPAddress  \n",
       "0       24.80.114.130  \n",
       "1     146.199.172.132  \n",
       "2     146.199.172.132  \n",
       "3     146.199.172.132  \n",
       "4        70.31.43.157  \n",
       "...               ...  \n",
       "1012      82.4.109.66  \n",
       "1013   71.227.178.247  \n",
       "1014      37.225.3.89  \n",
       "1015      37.225.3.89  \n",
       "1016   71.227.178.247  \n",
       "\n",
       "[1017 rows x 5 columns]"
      ],
      "text/html": [
       "<div>\n",
       "<style scoped>\n",
       "    .dataframe tbody tr th:only-of-type {\n",
       "        vertical-align: middle;\n",
       "    }\n",
       "\n",
       "    .dataframe tbody tr th {\n",
       "        vertical-align: top;\n",
       "    }\n",
       "\n",
       "    .dataframe thead th {\n",
       "        text-align: right;\n",
       "    }\n",
       "</style>\n",
       "<table border=\"1\" class=\"dataframe\">\n",
       "  <thead>\n",
       "    <tr style=\"text-align: right;\">\n",
       "      <th></th>\n",
       "      <th>TimeGenerated</th>\n",
       "      <th>Type</th>\n",
       "      <th>UserPrincipalName</th>\n",
       "      <th>ResourceId</th>\n",
       "      <th>IPAddress</th>\n",
       "    </tr>\n",
       "  </thead>\n",
       "  <tbody>\n",
       "    <tr>\n",
       "      <th>0</th>\n",
       "      <td>2021-06-23 13:41:44.680000+00:00</td>\n",
       "      <td>SigninLogs</td>\n",
       "      <td>purviewdc@seccxp.ninja</td>\n",
       "      <td>/tenants/4b2462a4-bbee-495a-a0e1-f23ae524cc9c/providers/Microsoft.aadiam</td>\n",
       "      <td>24.80.114.130</td>\n",
       "    </tr>\n",
       "    <tr>\n",
       "      <th>1</th>\n",
       "      <td>2021-06-23 13:31:25.987000+00:00</td>\n",
       "      <td>SigninLogs</td>\n",
       "      <td>purviewdc@seccxp.ninja</td>\n",
       "      <td>/tenants/4b2462a4-bbee-495a-a0e1-f23ae524cc9c/providers/Microsoft.aadiam</td>\n",
       "      <td>146.199.172.132</td>\n",
       "    </tr>\n",
       "    <tr>\n",
       "      <th>2</th>\n",
       "      <td>2021-06-23 14:58:42.828000+00:00</td>\n",
       "      <td>SigninLogs</td>\n",
       "      <td>purviewdc@seccxp.ninja</td>\n",
       "      <td>/tenants/4b2462a4-bbee-495a-a0e1-f23ae524cc9c/providers/Microsoft.aadiam</td>\n",
       "      <td>146.199.172.132</td>\n",
       "    </tr>\n",
       "    <tr>\n",
       "      <th>3</th>\n",
       "      <td>2021-06-23 14:58:47.266000+00:00</td>\n",
       "      <td>SigninLogs</td>\n",
       "      <td>purviewdc@seccxp.ninja</td>\n",
       "      <td>/tenants/4b2462a4-bbee-495a-a0e1-f23ae524cc9c/providers/Microsoft.aadiam</td>\n",
       "      <td>146.199.172.132</td>\n",
       "    </tr>\n",
       "    <tr>\n",
       "      <th>4</th>\n",
       "      <td>2021-06-23 14:06:31.726000+00:00</td>\n",
       "      <td>SigninLogs</td>\n",
       "      <td>purviewdc@seccxp.ninja</td>\n",
       "      <td>/tenants/4b2462a4-bbee-495a-a0e1-f23ae524cc9c/providers/Microsoft.aadiam</td>\n",
       "      <td>70.31.43.157</td>\n",
       "    </tr>\n",
       "    <tr>\n",
       "      <th>...</th>\n",
       "      <td>...</td>\n",
       "      <td>...</td>\n",
       "      <td>...</td>\n",
       "      <td>...</td>\n",
       "      <td>...</td>\n",
       "    </tr>\n",
       "    <tr>\n",
       "      <th>1012</th>\n",
       "      <td>2021-07-08 12:34:48.348000+00:00</td>\n",
       "      <td>SigninLogs</td>\n",
       "      <td>purviewdc@seccxp.ninja</td>\n",
       "      <td>/tenants/4b2462a4-bbee-495a-a0e1-f23ae524cc9c/providers/Microsoft.aadiam</td>\n",
       "      <td>82.4.109.66</td>\n",
       "    </tr>\n",
       "    <tr>\n",
       "      <th>1013</th>\n",
       "      <td>2021-07-08 17:34:57.758000+00:00</td>\n",
       "      <td>SigninLogs</td>\n",
       "      <td>purviewdc@seccxp.ninja</td>\n",
       "      <td>/tenants/4b2462a4-bbee-495a-a0e1-f23ae524cc9c/providers/Microsoft.aadiam</td>\n",
       "      <td>71.227.178.247</td>\n",
       "    </tr>\n",
       "    <tr>\n",
       "      <th>1014</th>\n",
       "      <td>2021-07-08 13:47:37.035000+00:00</td>\n",
       "      <td>SigninLogs</td>\n",
       "      <td>purviewdc@seccxp.ninja</td>\n",
       "      <td>/tenants/4b2462a4-bbee-495a-a0e1-f23ae524cc9c/providers/Microsoft.aadiam</td>\n",
       "      <td>37.225.3.89</td>\n",
       "    </tr>\n",
       "    <tr>\n",
       "      <th>1015</th>\n",
       "      <td>2021-07-08 13:47:37.035000+00:00</td>\n",
       "      <td>SigninLogs</td>\n",
       "      <td>purviewdc@seccxp.ninja</td>\n",
       "      <td>/tenants/4b2462a4-bbee-495a-a0e1-f23ae524cc9c/providers/Microsoft.aadiam</td>\n",
       "      <td>37.225.3.89</td>\n",
       "    </tr>\n",
       "    <tr>\n",
       "      <th>1016</th>\n",
       "      <td>2021-07-08 17:34:57.758000+00:00</td>\n",
       "      <td>SigninLogs</td>\n",
       "      <td>purviewdc@seccxp.ninja</td>\n",
       "      <td>/tenants/4b2462a4-bbee-495a-a0e1-f23ae524cc9c/providers/Microsoft.aadiam</td>\n",
       "      <td>71.227.178.247</td>\n",
       "    </tr>\n",
       "  </tbody>\n",
       "</table>\n",
       "<p>1017 rows × 5 columns</p>\n",
       "</div>"
      ]
     },
     "metadata": {}
    }
   ],
   "metadata": {}
  },
  {
   "cell_type": "markdown",
   "source": [
    "# Visualize entities"
   ],
   "metadata": {}
  },
  {
   "cell_type": "markdown",
   "source": [
    "## See how entities are distributed in your dataset"
   ],
   "metadata": {}
  },
  {
   "cell_type": "code",
   "execution_count": 12,
   "source": [
    "e.show_entity_dist()"
   ],
   "outputs": [
    {
     "output_type": "display_data",
     "data": {
      "text/plain": [
       "<Figure size 720x720 with 1 Axes>"
      ],
      "image/svg+xml": "<?xml version=\"1.0\" encoding=\"utf-8\" standalone=\"no\"?>\r\n<!DOCTYPE svg PUBLIC \"-//W3C//DTD SVG 1.1//EN\"\r\n  \"http://www.w3.org/Graphics/SVG/1.1/DTD/svg11.dtd\">\r\n<svg height=\"574.678125pt\" version=\"1.1\" viewBox=\"0 0 650.395312 574.678125\" width=\"650.395312pt\" xmlns=\"http://www.w3.org/2000/svg\" xmlns:xlink=\"http://www.w3.org/1999/xlink\">\r\n <metadata>\r\n  <rdf:RDF xmlns:cc=\"http://creativecommons.org/ns#\" xmlns:dc=\"http://purl.org/dc/elements/1.1/\" xmlns:rdf=\"http://www.w3.org/1999/02/22-rdf-syntax-ns#\">\r\n   <cc:Work>\r\n    <dc:type rdf:resource=\"http://purl.org/dc/dcmitype/StillImage\"/>\r\n    <dc:date>2021-08-31T11:36:03.237604</dc:date>\r\n    <dc:format>image/svg+xml</dc:format>\r\n    <dc:creator>\r\n     <cc:Agent>\r\n      <dc:title>Matplotlib v3.4.2, https://matplotlib.org/</dc:title>\r\n     </cc:Agent>\r\n    </dc:creator>\r\n   </cc:Work>\r\n  </rdf:RDF>\r\n </metadata>\r\n <defs>\r\n  <style type=\"text/css\">*{stroke-linecap:butt;stroke-linejoin:round;}</style>\r\n </defs>\r\n <g id=\"figure_1\">\r\n  <g id=\"patch_1\">\r\n   <path d=\"M 0 574.678125 \r\nL 650.395312 574.678125 \r\nL 650.395312 0 \r\nL 0 0 \r\nz\r\n\" style=\"fill:none;\"/>\r\n  </g>\r\n  <g id=\"axes_1\">\r\n   <g id=\"patch_2\">\r\n    <path d=\"M 85.195312 550.8 \r\nL 643.195312 550.8 \r\nL 643.195312 7.2 \r\nL 85.195312 7.2 \r\nz\r\n\" style=\"fill:#ffffff;\"/>\r\n   </g>\r\n   <g id=\"patch_3\">\r\n    <path clip-path=\"url(#p929bb3fc98)\" d=\"M 85.195312 516.825 \r\nL 616.623884 516.825 \r\nL 616.623884 448.875 \r\nL 85.195312 448.875 \r\nz\r\n\" style=\"fill:#1f77b4;\"/>\r\n   </g>\r\n   <g id=\"patch_4\">\r\n    <path clip-path=\"url(#p929bb3fc98)\" d=\"M 85.195312 380.925 \r\nL 483.766741 380.925 \r\nL 483.766741 312.975 \r\nL 85.195312 312.975 \r\nz\r\n\" style=\"fill:#1f77b4;\"/>\r\n   </g>\r\n   <g id=\"patch_5\">\r\n    <path clip-path=\"url(#p929bb3fc98)\" d=\"M 85.195312 245.025 \r\nL 218.052455 245.025 \r\nL 218.052455 177.075 \r\nL 85.195312 177.075 \r\nz\r\n\" style=\"fill:#1f77b4;\"/>\r\n   </g>\r\n   <g id=\"patch_6\">\r\n    <path clip-path=\"url(#p929bb3fc98)\" d=\"M 85.195312 109.125 \r\nL 218.052455 109.125 \r\nL 218.052455 41.175 \r\nL 85.195312 41.175 \r\nz\r\n\" style=\"fill:#1f77b4;\"/>\r\n   </g>\r\n   <g id=\"matplotlib.axis_1\">\r\n    <g id=\"xtick_1\">\r\n     <g id=\"line2d_1\">\r\n      <defs>\r\n       <path d=\"M 0 0 \r\nL 0 3.5 \r\n\" id=\"m344f4e7d0b\" style=\"stroke:#000000;stroke-width:0.8;\"/>\r\n      </defs>\r\n      <g>\r\n       <use style=\"stroke:#000000;stroke-width:0.8;\" x=\"85.195312\" xlink:href=\"#m344f4e7d0b\" y=\"550.8\"/>\r\n      </g>\r\n     </g>\r\n     <g id=\"text_1\">\r\n      <!-- 0.0 -->\r\n      <g transform=\"translate(77.24375 565.398438)scale(0.1 -0.1)\">\r\n       <defs>\r\n        <path d=\"M 2034 4250 \r\nQ 1547 4250 1301 3770 \r\nQ 1056 3291 1056 2328 \r\nQ 1056 1369 1301 889 \r\nQ 1547 409 2034 409 \r\nQ 2525 409 2770 889 \r\nQ 3016 1369 3016 2328 \r\nQ 3016 3291 2770 3770 \r\nQ 2525 4250 2034 4250 \r\nz\r\nM 2034 4750 \r\nQ 2819 4750 3233 4129 \r\nQ 3647 3509 3647 2328 \r\nQ 3647 1150 3233 529 \r\nQ 2819 -91 2034 -91 \r\nQ 1250 -91 836 529 \r\nQ 422 1150 422 2328 \r\nQ 422 3509 836 4129 \r\nQ 1250 4750 2034 4750 \r\nz\r\n\" id=\"DejaVuSans-30\" transform=\"scale(0.015625)\"/>\r\n        <path d=\"M 684 794 \r\nL 1344 794 \r\nL 1344 0 \r\nL 684 0 \r\nL 684 794 \r\nz\r\n\" id=\"DejaVuSans-2e\" transform=\"scale(0.015625)\"/>\r\n       </defs>\r\n       <use xlink:href=\"#DejaVuSans-30\"/>\r\n       <use x=\"63.623047\" xlink:href=\"#DejaVuSans-2e\"/>\r\n       <use x=\"95.410156\" xlink:href=\"#DejaVuSans-30\"/>\r\n      </g>\r\n     </g>\r\n    </g>\r\n    <g id=\"xtick_2\">\r\n     <g id=\"line2d_2\">\r\n      <g>\r\n       <use style=\"stroke:#000000;stroke-width:0.8;\" x=\"151.623884\" xlink:href=\"#m344f4e7d0b\" y=\"550.8\"/>\r\n      </g>\r\n     </g>\r\n     <g id=\"text_2\">\r\n      <!-- 0.5 -->\r\n      <g transform=\"translate(143.672321 565.398438)scale(0.1 -0.1)\">\r\n       <defs>\r\n        <path d=\"M 691 4666 \r\nL 3169 4666 \r\nL 3169 4134 \r\nL 1269 4134 \r\nL 1269 2991 \r\nQ 1406 3038 1543 3061 \r\nQ 1681 3084 1819 3084 \r\nQ 2600 3084 3056 2656 \r\nQ 3513 2228 3513 1497 \r\nQ 3513 744 3044 326 \r\nQ 2575 -91 1722 -91 \r\nQ 1428 -91 1123 -41 \r\nQ 819 9 494 109 \r\nL 494 744 \r\nQ 775 591 1075 516 \r\nQ 1375 441 1709 441 \r\nQ 2250 441 2565 725 \r\nQ 2881 1009 2881 1497 \r\nQ 2881 1984 2565 2268 \r\nQ 2250 2553 1709 2553 \r\nQ 1456 2553 1204 2497 \r\nQ 953 2441 691 2322 \r\nL 691 4666 \r\nz\r\n\" id=\"DejaVuSans-35\" transform=\"scale(0.015625)\"/>\r\n       </defs>\r\n       <use xlink:href=\"#DejaVuSans-30\"/>\r\n       <use x=\"63.623047\" xlink:href=\"#DejaVuSans-2e\"/>\r\n       <use x=\"95.410156\" xlink:href=\"#DejaVuSans-35\"/>\r\n      </g>\r\n     </g>\r\n    </g>\r\n    <g id=\"xtick_3\">\r\n     <g id=\"line2d_3\">\r\n      <g>\r\n       <use style=\"stroke:#000000;stroke-width:0.8;\" x=\"218.052455\" xlink:href=\"#m344f4e7d0b\" y=\"550.8\"/>\r\n      </g>\r\n     </g>\r\n     <g id=\"text_3\">\r\n      <!-- 1.0 -->\r\n      <g transform=\"translate(210.100893 565.398438)scale(0.1 -0.1)\">\r\n       <defs>\r\n        <path d=\"M 794 531 \r\nL 1825 531 \r\nL 1825 4091 \r\nL 703 3866 \r\nL 703 4441 \r\nL 1819 4666 \r\nL 2450 4666 \r\nL 2450 531 \r\nL 3481 531 \r\nL 3481 0 \r\nL 794 0 \r\nL 794 531 \r\nz\r\n\" id=\"DejaVuSans-31\" transform=\"scale(0.015625)\"/>\r\n       </defs>\r\n       <use xlink:href=\"#DejaVuSans-31\"/>\r\n       <use x=\"63.623047\" xlink:href=\"#DejaVuSans-2e\"/>\r\n       <use x=\"95.410156\" xlink:href=\"#DejaVuSans-30\"/>\r\n      </g>\r\n     </g>\r\n    </g>\r\n    <g id=\"xtick_4\">\r\n     <g id=\"line2d_4\">\r\n      <g>\r\n       <use style=\"stroke:#000000;stroke-width:0.8;\" x=\"284.481027\" xlink:href=\"#m344f4e7d0b\" y=\"550.8\"/>\r\n      </g>\r\n     </g>\r\n     <g id=\"text_4\">\r\n      <!-- 1.5 -->\r\n      <g transform=\"translate(276.529464 565.398438)scale(0.1 -0.1)\">\r\n       <use xlink:href=\"#DejaVuSans-31\"/>\r\n       <use x=\"63.623047\" xlink:href=\"#DejaVuSans-2e\"/>\r\n       <use x=\"95.410156\" xlink:href=\"#DejaVuSans-35\"/>\r\n      </g>\r\n     </g>\r\n    </g>\r\n    <g id=\"xtick_5\">\r\n     <g id=\"line2d_5\">\r\n      <g>\r\n       <use style=\"stroke:#000000;stroke-width:0.8;\" x=\"350.909598\" xlink:href=\"#m344f4e7d0b\" y=\"550.8\"/>\r\n      </g>\r\n     </g>\r\n     <g id=\"text_5\">\r\n      <!-- 2.0 -->\r\n      <g transform=\"translate(342.958036 565.398438)scale(0.1 -0.1)\">\r\n       <defs>\r\n        <path d=\"M 1228 531 \r\nL 3431 531 \r\nL 3431 0 \r\nL 469 0 \r\nL 469 531 \r\nQ 828 903 1448 1529 \r\nQ 2069 2156 2228 2338 \r\nQ 2531 2678 2651 2914 \r\nQ 2772 3150 2772 3378 \r\nQ 2772 3750 2511 3984 \r\nQ 2250 4219 1831 4219 \r\nQ 1534 4219 1204 4116 \r\nQ 875 4013 500 3803 \r\nL 500 4441 \r\nQ 881 4594 1212 4672 \r\nQ 1544 4750 1819 4750 \r\nQ 2544 4750 2975 4387 \r\nQ 3406 4025 3406 3419 \r\nQ 3406 3131 3298 2873 \r\nQ 3191 2616 2906 2266 \r\nQ 2828 2175 2409 1742 \r\nQ 1991 1309 1228 531 \r\nz\r\n\" id=\"DejaVuSans-32\" transform=\"scale(0.015625)\"/>\r\n       </defs>\r\n       <use xlink:href=\"#DejaVuSans-32\"/>\r\n       <use x=\"63.623047\" xlink:href=\"#DejaVuSans-2e\"/>\r\n       <use x=\"95.410156\" xlink:href=\"#DejaVuSans-30\"/>\r\n      </g>\r\n     </g>\r\n    </g>\r\n    <g id=\"xtick_6\">\r\n     <g id=\"line2d_6\">\r\n      <g>\r\n       <use style=\"stroke:#000000;stroke-width:0.8;\" x=\"417.33817\" xlink:href=\"#m344f4e7d0b\" y=\"550.8\"/>\r\n      </g>\r\n     </g>\r\n     <g id=\"text_6\">\r\n      <!-- 2.5 -->\r\n      <g transform=\"translate(409.386607 565.398438)scale(0.1 -0.1)\">\r\n       <use xlink:href=\"#DejaVuSans-32\"/>\r\n       <use x=\"63.623047\" xlink:href=\"#DejaVuSans-2e\"/>\r\n       <use x=\"95.410156\" xlink:href=\"#DejaVuSans-35\"/>\r\n      </g>\r\n     </g>\r\n    </g>\r\n    <g id=\"xtick_7\">\r\n     <g id=\"line2d_7\">\r\n      <g>\r\n       <use style=\"stroke:#000000;stroke-width:0.8;\" x=\"483.766741\" xlink:href=\"#m344f4e7d0b\" y=\"550.8\"/>\r\n      </g>\r\n     </g>\r\n     <g id=\"text_7\">\r\n      <!-- 3.0 -->\r\n      <g transform=\"translate(475.815179 565.398438)scale(0.1 -0.1)\">\r\n       <defs>\r\n        <path d=\"M 2597 2516 \r\nQ 3050 2419 3304 2112 \r\nQ 3559 1806 3559 1356 \r\nQ 3559 666 3084 287 \r\nQ 2609 -91 1734 -91 \r\nQ 1441 -91 1130 -33 \r\nQ 819 25 488 141 \r\nL 488 750 \r\nQ 750 597 1062 519 \r\nQ 1375 441 1716 441 \r\nQ 2309 441 2620 675 \r\nQ 2931 909 2931 1356 \r\nQ 2931 1769 2642 2001 \r\nQ 2353 2234 1838 2234 \r\nL 1294 2234 \r\nL 1294 2753 \r\nL 1863 2753 \r\nQ 2328 2753 2575 2939 \r\nQ 2822 3125 2822 3475 \r\nQ 2822 3834 2567 4026 \r\nQ 2313 4219 1838 4219 \r\nQ 1578 4219 1281 4162 \r\nQ 984 4106 628 3988 \r\nL 628 4550 \r\nQ 988 4650 1302 4700 \r\nQ 1616 4750 1894 4750 \r\nQ 2613 4750 3031 4423 \r\nQ 3450 4097 3450 3541 \r\nQ 3450 3153 3228 2886 \r\nQ 3006 2619 2597 2516 \r\nz\r\n\" id=\"DejaVuSans-33\" transform=\"scale(0.015625)\"/>\r\n       </defs>\r\n       <use xlink:href=\"#DejaVuSans-33\"/>\r\n       <use x=\"63.623047\" xlink:href=\"#DejaVuSans-2e\"/>\r\n       <use x=\"95.410156\" xlink:href=\"#DejaVuSans-30\"/>\r\n      </g>\r\n     </g>\r\n    </g>\r\n    <g id=\"xtick_8\">\r\n     <g id=\"line2d_8\">\r\n      <g>\r\n       <use style=\"stroke:#000000;stroke-width:0.8;\" x=\"550.195312\" xlink:href=\"#m344f4e7d0b\" y=\"550.8\"/>\r\n      </g>\r\n     </g>\r\n     <g id=\"text_8\">\r\n      <!-- 3.5 -->\r\n      <g transform=\"translate(542.24375 565.398438)scale(0.1 -0.1)\">\r\n       <use xlink:href=\"#DejaVuSans-33\"/>\r\n       <use x=\"63.623047\" xlink:href=\"#DejaVuSans-2e\"/>\r\n       <use x=\"95.410156\" xlink:href=\"#DejaVuSans-35\"/>\r\n      </g>\r\n     </g>\r\n    </g>\r\n    <g id=\"xtick_9\">\r\n     <g id=\"line2d_9\">\r\n      <g>\r\n       <use style=\"stroke:#000000;stroke-width:0.8;\" x=\"616.623884\" xlink:href=\"#m344f4e7d0b\" y=\"550.8\"/>\r\n      </g>\r\n     </g>\r\n     <g id=\"text_9\">\r\n      <!-- 4.0 -->\r\n      <g transform=\"translate(608.672321 565.398438)scale(0.1 -0.1)\">\r\n       <defs>\r\n        <path d=\"M 2419 4116 \r\nL 825 1625 \r\nL 2419 1625 \r\nL 2419 4116 \r\nz\r\nM 2253 4666 \r\nL 3047 4666 \r\nL 3047 1625 \r\nL 3713 1625 \r\nL 3713 1100 \r\nL 3047 1100 \r\nL 3047 0 \r\nL 2419 0 \r\nL 2419 1100 \r\nL 313 1100 \r\nL 313 1709 \r\nL 2253 4666 \r\nz\r\n\" id=\"DejaVuSans-34\" transform=\"scale(0.015625)\"/>\r\n       </defs>\r\n       <use xlink:href=\"#DejaVuSans-34\"/>\r\n       <use x=\"63.623047\" xlink:href=\"#DejaVuSans-2e\"/>\r\n       <use x=\"95.410156\" xlink:href=\"#DejaVuSans-30\"/>\r\n      </g>\r\n     </g>\r\n    </g>\r\n   </g>\r\n   <g id=\"matplotlib.axis_2\">\r\n    <g id=\"ytick_1\">\r\n     <g id=\"line2d_10\">\r\n      <defs>\r\n       <path d=\"M 0 0 \r\nL -3.5 0 \r\n\" id=\"m78ba399984\" style=\"stroke:#000000;stroke-width:0.8;\"/>\r\n      </defs>\r\n      <g>\r\n       <use style=\"stroke:#000000;stroke-width:0.8;\" x=\"85.195312\" xlink:href=\"#m78ba399984\" y=\"482.85\"/>\r\n      </g>\r\n     </g>\r\n     <g id=\"text_10\">\r\n      <!-- host -->\r\n      <g transform=\"translate(56.609375 486.649219)scale(0.1 -0.1)\">\r\n       <defs>\r\n        <path d=\"M 3513 2113 \r\nL 3513 0 \r\nL 2938 0 \r\nL 2938 2094 \r\nQ 2938 2591 2744 2837 \r\nQ 2550 3084 2163 3084 \r\nQ 1697 3084 1428 2787 \r\nQ 1159 2491 1159 1978 \r\nL 1159 0 \r\nL 581 0 \r\nL 581 4863 \r\nL 1159 4863 \r\nL 1159 2956 \r\nQ 1366 3272 1645 3428 \r\nQ 1925 3584 2291 3584 \r\nQ 2894 3584 3203 3211 \r\nQ 3513 2838 3513 2113 \r\nz\r\n\" id=\"DejaVuSans-68\" transform=\"scale(0.015625)\"/>\r\n        <path d=\"M 1959 3097 \r\nQ 1497 3097 1228 2736 \r\nQ 959 2375 959 1747 \r\nQ 959 1119 1226 758 \r\nQ 1494 397 1959 397 \r\nQ 2419 397 2687 759 \r\nQ 2956 1122 2956 1747 \r\nQ 2956 2369 2687 2733 \r\nQ 2419 3097 1959 3097 \r\nz\r\nM 1959 3584 \r\nQ 2709 3584 3137 3096 \r\nQ 3566 2609 3566 1747 \r\nQ 3566 888 3137 398 \r\nQ 2709 -91 1959 -91 \r\nQ 1206 -91 779 398 \r\nQ 353 888 353 1747 \r\nQ 353 2609 779 3096 \r\nQ 1206 3584 1959 3584 \r\nz\r\n\" id=\"DejaVuSans-6f\" transform=\"scale(0.015625)\"/>\r\n        <path d=\"M 2834 3397 \r\nL 2834 2853 \r\nQ 2591 2978 2328 3040 \r\nQ 2066 3103 1784 3103 \r\nQ 1356 3103 1142 2972 \r\nQ 928 2841 928 2578 \r\nQ 928 2378 1081 2264 \r\nQ 1234 2150 1697 2047 \r\nL 1894 2003 \r\nQ 2506 1872 2764 1633 \r\nQ 3022 1394 3022 966 \r\nQ 3022 478 2636 193 \r\nQ 2250 -91 1575 -91 \r\nQ 1294 -91 989 -36 \r\nQ 684 19 347 128 \r\nL 347 722 \r\nQ 666 556 975 473 \r\nQ 1284 391 1588 391 \r\nQ 1994 391 2212 530 \r\nQ 2431 669 2431 922 \r\nQ 2431 1156 2273 1281 \r\nQ 2116 1406 1581 1522 \r\nL 1381 1569 \r\nQ 847 1681 609 1914 \r\nQ 372 2147 372 2553 \r\nQ 372 3047 722 3315 \r\nQ 1072 3584 1716 3584 \r\nQ 2034 3584 2315 3537 \r\nQ 2597 3491 2834 3397 \r\nz\r\n\" id=\"DejaVuSans-73\" transform=\"scale(0.015625)\"/>\r\n        <path d=\"M 1172 4494 \r\nL 1172 3500 \r\nL 2356 3500 \r\nL 2356 3053 \r\nL 1172 3053 \r\nL 1172 1153 \r\nQ 1172 725 1289 603 \r\nQ 1406 481 1766 481 \r\nL 2356 481 \r\nL 2356 0 \r\nL 1766 0 \r\nQ 1100 0 847 248 \r\nQ 594 497 594 1153 \r\nL 594 3053 \r\nL 172 3053 \r\nL 172 3500 \r\nL 594 3500 \r\nL 594 4494 \r\nL 1172 4494 \r\nz\r\n\" id=\"DejaVuSans-74\" transform=\"scale(0.015625)\"/>\r\n       </defs>\r\n       <use xlink:href=\"#DejaVuSans-68\"/>\r\n       <use x=\"63.378906\" xlink:href=\"#DejaVuSans-6f\"/>\r\n       <use x=\"124.560547\" xlink:href=\"#DejaVuSans-73\"/>\r\n       <use x=\"176.660156\" xlink:href=\"#DejaVuSans-74\"/>\r\n      </g>\r\n     </g>\r\n    </g>\r\n    <g id=\"ytick_2\">\r\n     <g id=\"line2d_11\">\r\n      <g>\r\n       <use style=\"stroke:#000000;stroke-width:0.8;\" x=\"85.195312\" xlink:href=\"#m78ba399984\" y=\"346.95\"/>\r\n      </g>\r\n     </g>\r\n     <g id=\"text_11\">\r\n      <!-- account -->\r\n      <g transform=\"translate(38.35625 350.749219)scale(0.1 -0.1)\">\r\n       <defs>\r\n        <path d=\"M 2194 1759 \r\nQ 1497 1759 1228 1600 \r\nQ 959 1441 959 1056 \r\nQ 959 750 1161 570 \r\nQ 1363 391 1709 391 \r\nQ 2188 391 2477 730 \r\nQ 2766 1069 2766 1631 \r\nL 2766 1759 \r\nL 2194 1759 \r\nz\r\nM 3341 1997 \r\nL 3341 0 \r\nL 2766 0 \r\nL 2766 531 \r\nQ 2569 213 2275 61 \r\nQ 1981 -91 1556 -91 \r\nQ 1019 -91 701 211 \r\nQ 384 513 384 1019 \r\nQ 384 1609 779 1909 \r\nQ 1175 2209 1959 2209 \r\nL 2766 2209 \r\nL 2766 2266 \r\nQ 2766 2663 2505 2880 \r\nQ 2244 3097 1772 3097 \r\nQ 1472 3097 1187 3025 \r\nQ 903 2953 641 2809 \r\nL 641 3341 \r\nQ 956 3463 1253 3523 \r\nQ 1550 3584 1831 3584 \r\nQ 2591 3584 2966 3190 \r\nQ 3341 2797 3341 1997 \r\nz\r\n\" id=\"DejaVuSans-61\" transform=\"scale(0.015625)\"/>\r\n        <path d=\"M 3122 3366 \r\nL 3122 2828 \r\nQ 2878 2963 2633 3030 \r\nQ 2388 3097 2138 3097 \r\nQ 1578 3097 1268 2742 \r\nQ 959 2388 959 1747 \r\nQ 959 1106 1268 751 \r\nQ 1578 397 2138 397 \r\nQ 2388 397 2633 464 \r\nQ 2878 531 3122 666 \r\nL 3122 134 \r\nQ 2881 22 2623 -34 \r\nQ 2366 -91 2075 -91 \r\nQ 1284 -91 818 406 \r\nQ 353 903 353 1747 \r\nQ 353 2603 823 3093 \r\nQ 1294 3584 2113 3584 \r\nQ 2378 3584 2631 3529 \r\nQ 2884 3475 3122 3366 \r\nz\r\n\" id=\"DejaVuSans-63\" transform=\"scale(0.015625)\"/>\r\n        <path d=\"M 544 1381 \r\nL 544 3500 \r\nL 1119 3500 \r\nL 1119 1403 \r\nQ 1119 906 1312 657 \r\nQ 1506 409 1894 409 \r\nQ 2359 409 2629 706 \r\nQ 2900 1003 2900 1516 \r\nL 2900 3500 \r\nL 3475 3500 \r\nL 3475 0 \r\nL 2900 0 \r\nL 2900 538 \r\nQ 2691 219 2414 64 \r\nQ 2138 -91 1772 -91 \r\nQ 1169 -91 856 284 \r\nQ 544 659 544 1381 \r\nz\r\nM 1991 3584 \r\nL 1991 3584 \r\nz\r\n\" id=\"DejaVuSans-75\" transform=\"scale(0.015625)\"/>\r\n        <path d=\"M 3513 2113 \r\nL 3513 0 \r\nL 2938 0 \r\nL 2938 2094 \r\nQ 2938 2591 2744 2837 \r\nQ 2550 3084 2163 3084 \r\nQ 1697 3084 1428 2787 \r\nQ 1159 2491 1159 1978 \r\nL 1159 0 \r\nL 581 0 \r\nL 581 3500 \r\nL 1159 3500 \r\nL 1159 2956 \r\nQ 1366 3272 1645 3428 \r\nQ 1925 3584 2291 3584 \r\nQ 2894 3584 3203 3211 \r\nQ 3513 2838 3513 2113 \r\nz\r\n\" id=\"DejaVuSans-6e\" transform=\"scale(0.015625)\"/>\r\n       </defs>\r\n       <use xlink:href=\"#DejaVuSans-61\"/>\r\n       <use x=\"61.279297\" xlink:href=\"#DejaVuSans-63\"/>\r\n       <use x=\"116.259766\" xlink:href=\"#DejaVuSans-63\"/>\r\n       <use x=\"171.240234\" xlink:href=\"#DejaVuSans-6f\"/>\r\n       <use x=\"232.421875\" xlink:href=\"#DejaVuSans-75\"/>\r\n       <use x=\"295.800781\" xlink:href=\"#DejaVuSans-6e\"/>\r\n       <use x=\"359.179688\" xlink:href=\"#DejaVuSans-74\"/>\r\n      </g>\r\n     </g>\r\n    </g>\r\n    <g id=\"ytick_3\">\r\n     <g id=\"line2d_12\">\r\n      <g>\r\n       <use style=\"stroke:#000000;stroke-width:0.8;\" x=\"85.195312\" xlink:href=\"#m78ba399984\" y=\"211.05\"/>\r\n      </g>\r\n     </g>\r\n     <g id=\"text_12\">\r\n      <!-- azureresource -->\r\n      <g transform=\"translate(7.2 214.849219)scale(0.1 -0.1)\">\r\n       <defs>\r\n        <path d=\"M 353 3500 \r\nL 3084 3500 \r\nL 3084 2975 \r\nL 922 459 \r\nL 3084 459 \r\nL 3084 0 \r\nL 275 0 \r\nL 275 525 \r\nL 2438 3041 \r\nL 353 3041 \r\nL 353 3500 \r\nz\r\n\" id=\"DejaVuSans-7a\" transform=\"scale(0.015625)\"/>\r\n        <path d=\"M 2631 2963 \r\nQ 2534 3019 2420 3045 \r\nQ 2306 3072 2169 3072 \r\nQ 1681 3072 1420 2755 \r\nQ 1159 2438 1159 1844 \r\nL 1159 0 \r\nL 581 0 \r\nL 581 3500 \r\nL 1159 3500 \r\nL 1159 2956 \r\nQ 1341 3275 1631 3429 \r\nQ 1922 3584 2338 3584 \r\nQ 2397 3584 2469 3576 \r\nQ 2541 3569 2628 3553 \r\nL 2631 2963 \r\nz\r\n\" id=\"DejaVuSans-72\" transform=\"scale(0.015625)\"/>\r\n        <path d=\"M 3597 1894 \r\nL 3597 1613 \r\nL 953 1613 \r\nQ 991 1019 1311 708 \r\nQ 1631 397 2203 397 \r\nQ 2534 397 2845 478 \r\nQ 3156 559 3463 722 \r\nL 3463 178 \r\nQ 3153 47 2828 -22 \r\nQ 2503 -91 2169 -91 \r\nQ 1331 -91 842 396 \r\nQ 353 884 353 1716 \r\nQ 353 2575 817 3079 \r\nQ 1281 3584 2069 3584 \r\nQ 2775 3584 3186 3129 \r\nQ 3597 2675 3597 1894 \r\nz\r\nM 3022 2063 \r\nQ 3016 2534 2758 2815 \r\nQ 2500 3097 2075 3097 \r\nQ 1594 3097 1305 2825 \r\nQ 1016 2553 972 2059 \r\nL 3022 2063 \r\nz\r\n\" id=\"DejaVuSans-65\" transform=\"scale(0.015625)\"/>\r\n       </defs>\r\n       <use xlink:href=\"#DejaVuSans-61\"/>\r\n       <use x=\"61.279297\" xlink:href=\"#DejaVuSans-7a\"/>\r\n       <use x=\"113.769531\" xlink:href=\"#DejaVuSans-75\"/>\r\n       <use x=\"177.148438\" xlink:href=\"#DejaVuSans-72\"/>\r\n       <use x=\"216.011719\" xlink:href=\"#DejaVuSans-65\"/>\r\n       <use x=\"277.535156\" xlink:href=\"#DejaVuSans-72\"/>\r\n       <use x=\"316.398438\" xlink:href=\"#DejaVuSans-65\"/>\r\n       <use x=\"377.921875\" xlink:href=\"#DejaVuSans-73\"/>\r\n       <use x=\"430.021484\" xlink:href=\"#DejaVuSans-6f\"/>\r\n       <use x=\"491.203125\" xlink:href=\"#DejaVuSans-75\"/>\r\n       <use x=\"554.582031\" xlink:href=\"#DejaVuSans-72\"/>\r\n       <use x=\"593.445312\" xlink:href=\"#DejaVuSans-63\"/>\r\n       <use x=\"648.425781\" xlink:href=\"#DejaVuSans-65\"/>\r\n      </g>\r\n     </g>\r\n    </g>\r\n    <g id=\"ytick_4\">\r\n     <g id=\"line2d_13\">\r\n      <g>\r\n       <use style=\"stroke:#000000;stroke-width:0.8;\" x=\"85.195312\" xlink:href=\"#m78ba399984\" y=\"75.15\"/>\r\n      </g>\r\n     </g>\r\n     <g id=\"text_13\">\r\n      <!-- ipaddress -->\r\n      <g transform=\"translate(29.785937 78.949219)scale(0.1 -0.1)\">\r\n       <defs>\r\n        <path d=\"M 603 3500 \r\nL 1178 3500 \r\nL 1178 0 \r\nL 603 0 \r\nL 603 3500 \r\nz\r\nM 603 4863 \r\nL 1178 4863 \r\nL 1178 4134 \r\nL 603 4134 \r\nL 603 4863 \r\nz\r\n\" id=\"DejaVuSans-69\" transform=\"scale(0.015625)\"/>\r\n        <path d=\"M 1159 525 \r\nL 1159 -1331 \r\nL 581 -1331 \r\nL 581 3500 \r\nL 1159 3500 \r\nL 1159 2969 \r\nQ 1341 3281 1617 3432 \r\nQ 1894 3584 2278 3584 \r\nQ 2916 3584 3314 3078 \r\nQ 3713 2572 3713 1747 \r\nQ 3713 922 3314 415 \r\nQ 2916 -91 2278 -91 \r\nQ 1894 -91 1617 61 \r\nQ 1341 213 1159 525 \r\nz\r\nM 3116 1747 \r\nQ 3116 2381 2855 2742 \r\nQ 2594 3103 2138 3103 \r\nQ 1681 3103 1420 2742 \r\nQ 1159 2381 1159 1747 \r\nQ 1159 1113 1420 752 \r\nQ 1681 391 2138 391 \r\nQ 2594 391 2855 752 \r\nQ 3116 1113 3116 1747 \r\nz\r\n\" id=\"DejaVuSans-70\" transform=\"scale(0.015625)\"/>\r\n        <path d=\"M 2906 2969 \r\nL 2906 4863 \r\nL 3481 4863 \r\nL 3481 0 \r\nL 2906 0 \r\nL 2906 525 \r\nQ 2725 213 2448 61 \r\nQ 2172 -91 1784 -91 \r\nQ 1150 -91 751 415 \r\nQ 353 922 353 1747 \r\nQ 353 2572 751 3078 \r\nQ 1150 3584 1784 3584 \r\nQ 2172 3584 2448 3432 \r\nQ 2725 3281 2906 2969 \r\nz\r\nM 947 1747 \r\nQ 947 1113 1208 752 \r\nQ 1469 391 1925 391 \r\nQ 2381 391 2643 752 \r\nQ 2906 1113 2906 1747 \r\nQ 2906 2381 2643 2742 \r\nQ 2381 3103 1925 3103 \r\nQ 1469 3103 1208 2742 \r\nQ 947 2381 947 1747 \r\nz\r\n\" id=\"DejaVuSans-64\" transform=\"scale(0.015625)\"/>\r\n       </defs>\r\n       <use xlink:href=\"#DejaVuSans-69\"/>\r\n       <use x=\"27.783203\" xlink:href=\"#DejaVuSans-70\"/>\r\n       <use x=\"91.259766\" xlink:href=\"#DejaVuSans-61\"/>\r\n       <use x=\"152.539062\" xlink:href=\"#DejaVuSans-64\"/>\r\n       <use x=\"216.015625\" xlink:href=\"#DejaVuSans-64\"/>\r\n       <use x=\"279.492188\" xlink:href=\"#DejaVuSans-72\"/>\r\n       <use x=\"318.355469\" xlink:href=\"#DejaVuSans-65\"/>\r\n       <use x=\"379.878906\" xlink:href=\"#DejaVuSans-73\"/>\r\n       <use x=\"431.978516\" xlink:href=\"#DejaVuSans-73\"/>\r\n      </g>\r\n     </g>\r\n    </g>\r\n   </g>\r\n   <g id=\"patch_7\">\r\n    <path d=\"M 85.195312 550.8 \r\nL 85.195312 7.2 \r\n\" style=\"fill:none;stroke:#000000;stroke-linecap:square;stroke-linejoin:miter;stroke-width:0.8;\"/>\r\n   </g>\r\n   <g id=\"patch_8\">\r\n    <path d=\"M 643.195312 550.8 \r\nL 643.195312 7.2 \r\n\" style=\"fill:none;stroke:#000000;stroke-linecap:square;stroke-linejoin:miter;stroke-width:0.8;\"/>\r\n   </g>\r\n   <g id=\"patch_9\">\r\n    <path d=\"M 85.195312 550.8 \r\nL 643.195312 550.8 \r\n\" style=\"fill:none;stroke:#000000;stroke-linecap:square;stroke-linejoin:miter;stroke-width:0.8;\"/>\r\n   </g>\r\n   <g id=\"patch_10\">\r\n    <path d=\"M 85.195312 7.2 \r\nL 643.195312 7.2 \r\n\" style=\"fill:none;stroke:#000000;stroke-linecap:square;stroke-linejoin:miter;stroke-width:0.8;\"/>\r\n   </g>\r\n  </g>\r\n </g>\r\n <defs>\r\n  <clipPath id=\"p929bb3fc98\">\r\n   <rect height=\"543.6\" width=\"558\" x=\"85.195312\" y=\"7.2\"/>\r\n  </clipPath>\r\n </defs>\r\n</svg>\r\n",
      "image/png": "[encoded data removed]"
     },
     "metadata": {
      "needs_background": "light"
     }
    }
   ],
   "metadata": {}
  },
  {
   "cell_type": "markdown",
   "source": [
    "## See a network graph showing the tables in your dataset and entities contained in them"
   ],
   "metadata": {}
  },
  {
   "cell_type": "code",
   "execution_count": 13,
   "source": [
    "e.show_entity_graph()"
   ],
   "outputs": [],
   "metadata": {}
  },
  {
   "cell_type": "markdown",
   "source": [
    "## See a network graph for a given entity"
   ],
   "metadata": {}
  },
  {
   "cell_type": "code",
   "execution_count": 15,
   "source": [
    "e.show_single_entity_graph(\"account\")"
   ],
   "outputs": [],
   "metadata": {}
  },
  {
   "cell_type": "markdown",
   "source": [
    "## See a Sankey diagram showing the flow from entity to table"
   ],
   "metadata": {}
  },
  {
   "cell_type": "code",
   "execution_count": 16,
   "source": [
    "e.show_sankey()"
   ],
   "outputs": [
    {
     "output_type": "display_data",
     "data": {
      "application/vnd.plotly.v1+json": {
       "config": {
        "plotlyServerURL": "https://plot.ly"
       },
       "data": [
        {
         "link": {
          "color": [
           "rgba(31, 119, 180, 0.8)",
           "rgba(255, 127, 14, 0.8)",
           "rgba(44, 160, 44, 0.8)",
           "rgba(214, 39, 40, 0.8)"
          ],
          "source": [
           0,
           1,
           2,
           3
          ],
          "target": [
           4,
           4,
           4,
           4
          ],
          "value": [
           1,
           4,
           3,
           1
          ]
         },
         "node": {
          "color": [
           "rgba(31, 119, 180, 0.8)",
           "rgba(255, 127, 14, 0.8)",
           "rgba(44, 160, 44, 0.8)",
           "rgba(214, 39, 40, 0.8)",
           "rgba(148, 103, 189, 0.8)",
           "rgba(140, 86, 75, 0.8)",
           "rgba(227, 119, 194, 0.8)",
           "rgba(127, 127, 127, 0.8)",
           "blue",
           "blue",
           "blue",
           "blue"
          ],
          "label": [
           "azureresource",
           "host",
           "account",
           "ipaddress",
           "SigninLogs"
          ],
          "line": {
           "color": "black",
           "width": 0.5
          },
          "pad": 15,
          "thickness": 20
         },
         "type": "sankey"
        }
       ],
       "layout": {
        "font": {
         "size": 10
        },
        "template": {
         "data": {
          "bar": [
           {
            "error_x": {
             "color": "#2a3f5f"
            },
            "error_y": {
             "color": "#2a3f5f"
            },
            "marker": {
             "line": {
              "color": "#E5ECF6",
              "width": 0.5
             },
             "pattern": {
              "fillmode": "overlay",
              "size": 10,
              "solidity": 0.2
             }
            },
            "type": "bar"
           }
          ],
          "barpolar": [
           {
            "marker": {
             "line": {
              "color": "#E5ECF6",
              "width": 0.5
             },
             "pattern": {
              "fillmode": "overlay",
              "size": 10,
              "solidity": 0.2
             }
            },
            "type": "barpolar"
           }
          ],
          "carpet": [
           {
            "aaxis": {
             "endlinecolor": "#2a3f5f",
             "gridcolor": "white",
             "linecolor": "white",
             "minorgridcolor": "white",
             "startlinecolor": "#2a3f5f"
            },
            "baxis": {
             "endlinecolor": "#2a3f5f",
             "gridcolor": "white",
             "linecolor": "white",
             "minorgridcolor": "white",
             "startlinecolor": "#2a3f5f"
            },
            "type": "carpet"
           }
          ],
          "choropleth": [
           {
            "colorbar": {
             "outlinewidth": 0,
             "ticks": ""
            },
            "type": "choropleth"
           }
          ],
          "contour": [
           {
            "colorbar": {
             "outlinewidth": 0,
             "ticks": ""
            },
            "colorscale": [
             [
              0,
              "#0d0887"
             ],
             [
              0.1111111111111111,
              "#46039f"
             ],
             [
              0.2222222222222222,
              "#7201a8"
             ],
             [
              0.3333333333333333,
              "#9c179e"
             ],
             [
              0.4444444444444444,
              "#bd3786"
             ],
             [
              0.5555555555555556,
              "#d8576b"
             ],
             [
              0.6666666666666666,
              "#ed7953"
             ],
             [
              0.7777777777777778,
              "#fb9f3a"
             ],
             [
              0.8888888888888888,
              "#fdca26"
             ],
             [
              1,
              "#f0f921"
             ]
            ],
            "type": "contour"
           }
          ],
          "contourcarpet": [
           {
            "colorbar": {
             "outlinewidth": 0,
             "ticks": ""
            },
            "type": "contourcarpet"
           }
          ],
          "heatmap": [
           {
            "colorbar": {
             "outlinewidth": 0,
             "ticks": ""
            },
            "colorscale": [
             [
              0,
              "#0d0887"
             ],
             [
              0.1111111111111111,
              "#46039f"
             ],
             [
              0.2222222222222222,
              "#7201a8"
             ],
             [
              0.3333333333333333,
              "#9c179e"
             ],
             [
              0.4444444444444444,
              "#bd3786"
             ],
             [
              0.5555555555555556,
              "#d8576b"
             ],
             [
              0.6666666666666666,
              "#ed7953"
             ],
             [
              0.7777777777777778,
              "#fb9f3a"
             ],
             [
              0.8888888888888888,
              "#fdca26"
             ],
             [
              1,
              "#f0f921"
             ]
            ],
            "type": "heatmap"
           }
          ],
          "heatmapgl": [
           {
            "colorbar": {
             "outlinewidth": 0,
             "ticks": ""
            },
            "colorscale": [
             [
              0,
              "#0d0887"
             ],
             [
              0.1111111111111111,
              "#46039f"
             ],
             [
              0.2222222222222222,
              "#7201a8"
             ],
             [
              0.3333333333333333,
              "#9c179e"
             ],
             [
              0.4444444444444444,
              "#bd3786"
             ],
             [
              0.5555555555555556,
              "#d8576b"
             ],
             [
              0.6666666666666666,
              "#ed7953"
             ],
             [
              0.7777777777777778,
              "#fb9f3a"
             ],
             [
              0.8888888888888888,
              "#fdca26"
             ],
             [
              1,
              "#f0f921"
             ]
            ],
            "type": "heatmapgl"
           }
          ],
          "histogram": [
           {
            "marker": {
             "pattern": {
              "fillmode": "overlay",
              "size": 10,
              "solidity": 0.2
             }
            },
            "type": "histogram"
           }
          ],
          "histogram2d": [
           {
            "colorbar": {
             "outlinewidth": 0,
             "ticks": ""
            },
            "colorscale": [
             [
              0,
              "#0d0887"
             ],
             [
              0.1111111111111111,
              "#46039f"
             ],
             [
              0.2222222222222222,
              "#7201a8"
             ],
             [
              0.3333333333333333,
              "#9c179e"
             ],
             [
              0.4444444444444444,
              "#bd3786"
             ],
             [
              0.5555555555555556,
              "#d8576b"
             ],
             [
              0.6666666666666666,
              "#ed7953"
             ],
             [
              0.7777777777777778,
              "#fb9f3a"
             ],
             [
              0.8888888888888888,
              "#fdca26"
             ],
             [
              1,
              "#f0f921"
             ]
            ],
            "type": "histogram2d"
           }
          ],
          "histogram2dcontour": [
           {
            "colorbar": {
             "outlinewidth": 0,
             "ticks": ""
            },
            "colorscale": [
             [
              0,
              "#0d0887"
             ],
             [
              0.1111111111111111,
              "#46039f"
             ],
             [
              0.2222222222222222,
              "#7201a8"
             ],
             [
              0.3333333333333333,
              "#9c179e"
             ],
             [
              0.4444444444444444,
              "#bd3786"
             ],
             [
              0.5555555555555556,
              "#d8576b"
             ],
             [
              0.6666666666666666,
              "#ed7953"
             ],
             [
              0.7777777777777778,
              "#fb9f3a"
             ],
             [
              0.8888888888888888,
              "#fdca26"
             ],
             [
              1,
              "#f0f921"
             ]
            ],
            "type": "histogram2dcontour"
           }
          ],
          "mesh3d": [
           {
            "colorbar": {
             "outlinewidth": 0,
             "ticks": ""
            },
            "type": "mesh3d"
           }
          ],
          "parcoords": [
           {
            "line": {
             "colorbar": {
              "outlinewidth": 0,
              "ticks": ""
             }
            },
            "type": "parcoords"
           }
          ],
          "pie": [
           {
            "automargin": true,
            "type": "pie"
           }
          ],
          "scatter": [
           {
            "marker": {
             "colorbar": {
              "outlinewidth": 0,
              "ticks": ""
             }
            },
            "type": "scatter"
           }
          ],
          "scatter3d": [
           {
            "line": {
             "colorbar": {
              "outlinewidth": 0,
              "ticks": ""
             }
            },
            "marker": {
             "colorbar": {
              "outlinewidth": 0,
              "ticks": ""
             }
            },
            "type": "scatter3d"
           }
          ],
          "scattercarpet": [
           {
            "marker": {
             "colorbar": {
              "outlinewidth": 0,
              "ticks": ""
             }
            },
            "type": "scattercarpet"
           }
          ],
          "scattergeo": [
           {
            "marker": {
             "colorbar": {
              "outlinewidth": 0,
              "ticks": ""
             }
            },
            "type": "scattergeo"
           }
          ],
          "scattergl": [
           {
            "marker": {
             "colorbar": {
              "outlinewidth": 0,
              "ticks": ""
             }
            },
            "type": "scattergl"
           }
          ],
          "scattermapbox": [
           {
            "marker": {
             "colorbar": {
              "outlinewidth": 0,
              "ticks": ""
             }
            },
            "type": "scattermapbox"
           }
          ],
          "scatterpolar": [
           {
            "marker": {
             "colorbar": {
              "outlinewidth": 0,
              "ticks": ""
             }
            },
            "type": "scatterpolar"
           }
          ],
          "scatterpolargl": [
           {
            "marker": {
             "colorbar": {
              "outlinewidth": 0,
              "ticks": ""
             }
            },
            "type": "scatterpolargl"
           }
          ],
          "scatterternary": [
           {
            "marker": {
             "colorbar": {
              "outlinewidth": 0,
              "ticks": ""
             }
            },
            "type": "scatterternary"
           }
          ],
          "surface": [
           {
            "colorbar": {
             "outlinewidth": 0,
             "ticks": ""
            },
            "colorscale": [
             [
              0,
              "#0d0887"
             ],
             [
              0.1111111111111111,
              "#46039f"
             ],
             [
              0.2222222222222222,
              "#7201a8"
             ],
             [
              0.3333333333333333,
              "#9c179e"
             ],
             [
              0.4444444444444444,
              "#bd3786"
             ],
             [
              0.5555555555555556,
              "#d8576b"
             ],
             [
              0.6666666666666666,
              "#ed7953"
             ],
             [
              0.7777777777777778,
              "#fb9f3a"
             ],
             [
              0.8888888888888888,
              "#fdca26"
             ],
             [
              1,
              "#f0f921"
             ]
            ],
            "type": "surface"
           }
          ],
          "table": [
           {
            "cells": {
             "fill": {
              "color": "#EBF0F8"
             },
             "line": {
              "color": "white"
             }
            },
            "header": {
             "fill": {
              "color": "#C8D4E3"
             },
             "line": {
              "color": "white"
             }
            },
            "type": "table"
           }
          ]
         },
         "layout": {
          "annotationdefaults": {
           "arrowcolor": "#2a3f5f",
           "arrowhead": 0,
           "arrowwidth": 1
          },
          "autotypenumbers": "strict",
          "coloraxis": {
           "colorbar": {
            "outlinewidth": 0,
            "ticks": ""
           }
          },
          "colorscale": {
           "diverging": [
            [
             0,
             "#8e0152"
            ],
            [
             0.1,
             "#c51b7d"
            ],
            [
             0.2,
             "#de77ae"
            ],
            [
             0.3,
             "#f1b6da"
            ],
            [
             0.4,
             "#fde0ef"
            ],
            [
             0.5,
             "#f7f7f7"
            ],
            [
             0.6,
             "#e6f5d0"
            ],
            [
             0.7,
             "#b8e186"
            ],
            [
             0.8,
             "#7fbc41"
            ],
            [
             0.9,
             "#4d9221"
            ],
            [
             1,
             "#276419"
            ]
           ],
           "sequential": [
            [
             0,
             "#0d0887"
            ],
            [
             0.1111111111111111,
             "#46039f"
            ],
            [
             0.2222222222222222,
             "#7201a8"
            ],
            [
             0.3333333333333333,
             "#9c179e"
            ],
            [
             0.4444444444444444,
             "#bd3786"
            ],
            [
             0.5555555555555556,
             "#d8576b"
            ],
            [
             0.6666666666666666,
             "#ed7953"
            ],
            [
             0.7777777777777778,
             "#fb9f3a"
            ],
            [
             0.8888888888888888,
             "#fdca26"
            ],
            [
             1,
             "#f0f921"
            ]
           ],
           "sequentialminus": [
            [
             0,
             "#0d0887"
            ],
            [
             0.1111111111111111,
             "#46039f"
            ],
            [
             0.2222222222222222,
             "#7201a8"
            ],
            [
             0.3333333333333333,
             "#9c179e"
            ],
            [
             0.4444444444444444,
             "#bd3786"
            ],
            [
             0.5555555555555556,
             "#d8576b"
            ],
            [
             0.6666666666666666,
             "#ed7953"
            ],
            [
             0.7777777777777778,
             "#fb9f3a"
            ],
            [
             0.8888888888888888,
             "#fdca26"
            ],
            [
             1,
             "#f0f921"
            ]
           ]
          },
          "colorway": [
           "#636efa",
           "#EF553B",
           "#00cc96",
           "#ab63fa",
           "#FFA15A",
           "#19d3f3",
           "#FF6692",
           "#B6E880",
           "#FF97FF",
           "#FECB52"
          ],
          "font": {
           "color": "#2a3f5f"
          },
          "geo": {
           "bgcolor": "white",
           "lakecolor": "white",
           "landcolor": "#E5ECF6",
           "showlakes": true,
           "showland": true,
           "subunitcolor": "white"
          },
          "hoverlabel": {
           "align": "left"
          },
          "hovermode": "closest",
          "mapbox": {
           "style": "light"
          },
          "paper_bgcolor": "white",
          "plot_bgcolor": "#E5ECF6",
          "polar": {
           "angularaxis": {
            "gridcolor": "white",
            "linecolor": "white",
            "ticks": ""
           },
           "bgcolor": "#E5ECF6",
           "radialaxis": {
            "gridcolor": "white",
            "linecolor": "white",
            "ticks": ""
           }
          },
          "scene": {
           "xaxis": {
            "backgroundcolor": "#E5ECF6",
            "gridcolor": "white",
            "gridwidth": 2,
            "linecolor": "white",
            "showbackground": true,
            "ticks": "",
            "zerolinecolor": "white"
           },
           "yaxis": {
            "backgroundcolor": "#E5ECF6",
            "gridcolor": "white",
            "gridwidth": 2,
            "linecolor": "white",
            "showbackground": true,
            "ticks": "",
            "zerolinecolor": "white"
           },
           "zaxis": {
            "backgroundcolor": "#E5ECF6",
            "gridcolor": "white",
            "gridwidth": 2,
            "linecolor": "white",
            "showbackground": true,
            "ticks": "",
            "zerolinecolor": "white"
           }
          },
          "shapedefaults": {
           "line": {
            "color": "#2a3f5f"
           }
          },
          "ternary": {
           "aaxis": {
            "gridcolor": "white",
            "linecolor": "white",
            "ticks": ""
           },
           "baxis": {
            "gridcolor": "white",
            "linecolor": "white",
            "ticks": ""
           },
           "bgcolor": "#E5ECF6",
           "caxis": {
            "gridcolor": "white",
            "linecolor": "white",
            "ticks": ""
           }
          },
          "title": {
           "x": 0.05
          },
          "xaxis": {
           "automargin": true,
           "gridcolor": "white",
           "linecolor": "white",
           "ticks": "",
           "title": {
            "standoff": 15
           },
           "zerolinecolor": "white",
           "zerolinewidth": 2
          },
          "yaxis": {
           "automargin": true,
           "gridcolor": "white",
           "linecolor": "white",
           "ticks": "",
           "title": {
            "standoff": 15
           },
           "zerolinecolor": "white",
           "zerolinewidth": 2
          }
         }
        },
        "title": {
         "text": "Entity to Data Source Sankey Diagram"
        }
       }
      }
     },
     "metadata": {}
    }
   ],
   "metadata": {}
  }
 ],
 "metadata": {
  "orig_nbformat": 4,
  "language_info": {
   "name": "python",
   "version": "3.9.5",
   "mimetype": "text/x-python",
   "codemirror_mode": {
    "name": "ipython",
    "version": 3
   },
   "pygments_lexer": "ipython3",
   "nbconvert_exporter": "python",
   "file_extension": ".py"
  },
  "kernelspec": {
   "name": "python3",
   "display_name": "Python 3.9.5 64-bit ('mstic-dataexpl': conda)"
  },
  "interpreter": {
   "hash": "26c7ee86bfc26d742c440fced94fd1ebecb07a5475b2dfb50b2711d3c1d1d174"
  }
 },
 "nbformat": 4,
 "nbformat_minor": 2
}